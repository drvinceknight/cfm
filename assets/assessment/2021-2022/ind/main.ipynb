{
 "cells": [
  {
   "cell_type": "markdown",
   "metadata": {},
   "source": [
    "### Computing for Mathematics - 2021/2022 individual coursework\n",
    "\n",
    "**Important** Do not delete the cells containing: \n",
    "\n",
    "```\n",
    "### BEGIN SOLUTION\n",
    "\n",
    "### END SOLUTION\n",
    "```\n",
    "\n",
    "write your solution attempts in those cells.\n",
    "\n",
    "To submit this notebook:\n",
    "\n",
    "- Change the name of the notebook from `main` to: `<student_number>`. For example, if your student number is `c1234567` then change the name of the notebook to `c1234567`.\n",
    "- **Write all your solution attempts in the correct locations**;\n",
    "- **Do not delete** any code that is already in the cells;\n",
    "- Save the notebook (`File>Save As`);\n",
    "- Follow the instructions given to submit."
   ]
  },
  {
   "cell_type": "markdown",
   "metadata": {},
   "source": [
    "#### Question 1\n",
    "\n",
    "(__Hint__: This question is similar to [the first exercise of the Matrices chapter](https://vknight.org/pfm/tools-for-mathematics/04-matrices/solutions/main.html#question-1) of Python for mathematics.)\n",
    "\n",
    "For each of the following matrices **output** their determinant.\n",
    "\n",
    "a. \\\\(\\begin{pmatrix}4 & 4 & 4 \\\\ 0 & 2 & 0 \\\\ 12 & 12 & 12\\end{pmatrix}\\\\)\n",
    "\n",
    "Available marks: 1"
   ]
  },
  {
   "cell_type": "code",
   "execution_count": 1,
   "metadata": {
    "tags": [
     "answer:q1-a"
    ]
   },
   "outputs": [
    {
     "data": {
      "text/latex": [
       "$\\displaystyle 0$"
      ],
      "text/plain": [
       "0"
      ]
     },
     "execution_count": 1,
     "metadata": {},
     "output_type": "execute_result"
    }
   ],
   "source": [
    "import sympy as sym\n",
    "\n",
    "### BEGIN SOLUTION\n",
    "A = sym.Matrix(((4, 4, 4), (0, 2, 0), (12, 12, 12)))\n",
    "A.det()\n",
    "### END SOLUTION"
   ]
  },
  {
   "cell_type": "code",
   "execution_count": 2,
   "metadata": {
    "tags": [
     "score:1",
     "description:correct-answer"
    ]
   },
   "outputs": [],
   "source": [
    "q1_a_answer = _\n",
    "q1_a_expected_answer = 0\n",
    "difference = sym.expand(q1_a_answer - q1_a_expected_answer)\n",
    "feedback_text = f\"\"\"Your output is not the expected answer: \n",
    "\n",
    "{q1_a_expected_answer}\n",
    "\n",
    "The difference between your answer and the expected answer is: {difference}\n",
    "\"\"\"\n",
    "assert difference == 0, feedback_text"
   ]
  },
  {
   "cell_type": "markdown",
   "metadata": {},
   "source": [
    "b. \\\\(\\begin{pmatrix}3\\end{pmatrix}\\\\)\n",
    "\n",
    "_Available marks: 1_"
   ]
  },
  {
   "cell_type": "code",
   "execution_count": 3,
   "metadata": {
    "tags": [
     "answer:q1-b"
    ]
   },
   "outputs": [
    {
     "data": {
      "text/latex": [
       "$\\displaystyle 3$"
      ],
      "text/plain": [
       "3"
      ]
     },
     "execution_count": 3,
     "metadata": {},
     "output_type": "execute_result"
    }
   ],
   "source": [
    "x = sym.Symbol(\"x\")\n",
    "\n",
    "### BEGIN SOLUTION\n",
    "A = sym.Matrix((3,))\n",
    "A.det()\n",
    "### END SOLUTION"
   ]
  },
  {
   "cell_type": "code",
   "execution_count": 4,
   "metadata": {
    "tags": [
     "score:1",
     "description:correct-answer"
    ]
   },
   "outputs": [],
   "source": [
    "q1_a_answer = _\n",
    "q1_a_expected_answer = 3\n",
    "difference = sym.expand(q1_a_answer - q1_a_expected_answer)\n",
    "feedback_text = f\"\"\"Your output is not the expected answer: \n",
    "\n",
    "{q1_a_expected_answer}\n",
    "\n",
    "The difference between your answer and the expected answer is: {difference}\n",
    "\"\"\"\n",
    "assert difference == 0, feedback_text"
   ]
  },
  {
   "cell_type": "markdown",
   "metadata": {},
   "source": [
    "c. \\\\(\\begin{pmatrix}50 \\pi & 40 e & 1 \\\\ 12 & 3 & 1 \\\\ -500 & 400 & \n",
    "\\pi ^e\\end{pmatrix}\\\\)\n",
    "\n",
    "_Available marks: 2_"
   ]
  },
  {
   "cell_type": "code",
   "execution_count": 5,
   "metadata": {
    "tags": [
     "answer:q1-c"
    ]
   },
   "outputs": [
    {
     "data": {
      "text/latex": [
       "$\\displaystyle - 20000 \\pi - 20000 e - 480 e \\pi^{e} + 6300 + 150 \\pi \\pi^{e}$"
      ],
      "text/plain": [
       "-20000*pi - 20000*E - 480*E*pi**E + 6300 + 150*pi*pi**E"
      ]
     },
     "execution_count": 5,
     "metadata": {},
     "output_type": "execute_result"
    }
   ],
   "source": [
    "### BEGIN SOLUTION\n",
    "A = sym.Matrix(\n",
    "    (\n",
    "        (50 * sym.pi, 40 * sym.exp(1), 1), \n",
    "        (12, 3, 1), \n",
    "        (-500, 400, sym.pi ** sym.exp(1))\n",
    "    )\n",
    ")\n",
    "A.det()\n",
    "### END SOLUTION"
   ]
  },
  {
   "cell_type": "code",
   "execution_count": 6,
   "metadata": {
    "tags": [
     "score:1",
     "description:correct-answer"
    ]
   },
   "outputs": [],
   "source": [
    "q1_a_answer = _\n",
    "q1_a_expected_answer = -20000 * (sym.pi + sym.exp(1)) - 480 * sym.exp(1) * sym.pi ** (sym.exp(1)) + 6300 + 150 * sym.pi * sym.pi **(sym.exp(1))\n",
    "difference = sym.expand(q1_a_answer - q1_a_expected_answer)\n",
    "feedback_text = f\"\"\"Your output is not the expected answer: \n",
    "\n",
    "{q1_a_expected_answer}\n",
    "\n",
    "The difference between your answer and the expected answer is: {difference}\n",
    "\"\"\"\n",
    "assert difference == 0, feedback_text"
   ]
  },
  {
   "cell_type": "markdown",
   "metadata": {},
   "source": [
    "### Question 2\n",
    "\n",
    "\n",
    "(__Hint__: This question is similar to the [second exercise of the Sequences chapter of Python for mathematics](https://vknight.org/pfm/tools-for-mathematics/07-sequences/solutions/main.html#question-2).)\n",
    "\n",
    "Using recursion, create a function `get_sequence` which gives the terms of the following sequence:\n",
    "\n",
    "\\\\[\n",
    "\\begin{cases}\n",
    "a_0 &= -2\\\\\n",
    "a_n & 4 a_{n-1}, n\\geq 2\n",
    "\\end{cases}\n",
    "\\\\]\n",
    "\n",
    "_Available marks: 2_"
   ]
  },
  {
   "cell_type": "code",
   "execution_count": 7,
   "metadata": {
    "tags": [
     "answer:q2-a"
    ]
   },
   "outputs": [],
   "source": [
    "def get_sequence(n):\n",
    "### BEGIN SOLUTION\n",
    "    \"\"\"\n",
    "    Return the nth term of the given sequence\n",
    "    \"\"\"\n",
    "    if n == 0:\n",
    "        return -2\n",
    "    return 4 * get_sequence(n - 1)\n",
    "### END SOLUTION"
   ]
  },
  {
   "cell_type": "code",
   "execution_count": 8,
   "metadata": {
    "tags": [
     "score:1",
     "description:use-of-docstrings"
    ]
   },
   "outputs": [],
   "source": [
    "feedback_text = \"\"\"You did not include a docstring. This is important to help document your code.\n",
    "\n",
    "\n",
    "It is done  using triple quotation marks. For example:\n",
    "\n",
    "def get_remainder(m, n):\n",
    "    \\\"\\\"\\\"\n",
    "    This function returns the remainder of m when dividing by n\n",
    "    \\\"\\\"\\\"\n",
    "    …\n",
    "\n",
    "Using that it's possible to access the docstring,\n",
    "one way to do this is to type: `get_remainder?`\n",
    "(which only works in Jupyter) or help(get_remainder).\n",
    "\n",
    "We can also comment code using `#` but this is completely\n",
    "ignored by Python so cannot be accessed in the same way.\n",
    "\n",
    "\"\"\"\n",
    "try:\n",
    "    assert  get_sequence.__doc__ is not None, feedback_text\n",
    "except NameError:\n",
    "    assert False, \"You did not create a function called `get_sequence`\""
   ]
  },
  {
   "cell_type": "code",
   "execution_count": 9,
   "metadata": {
    "tags": [
     "score:1",
     "description:correct-initial-values"
    ]
   },
   "outputs": [],
   "source": [
    "feedback_text = f\"\"\"\n",
    "Your function does not give the correct values for n=0 or n=1.\n",
    "\n",
    "`get_sequence(0)` should return -2 but your returned: {get_sequence(0)}\n",
    "\"\"\"\n",
    "try:\n",
    "    assert  get_sequence(0) == -2, feedback_text\n",
    "except NameError:\n",
    "    assert False, \"You did not create a function called `get_sequence`\""
   ]
  },
  {
   "cell_type": "code",
   "execution_count": 10,
   "metadata": {
    "tags": [
     "description:correct-first-20-values",
     "score:2"
    ]
   },
   "outputs": [],
   "source": [
    "def correct_get_sequence(n):\n",
    "    \"\"\"\n",
    "    Return the nth term of the given sequence\n",
    "    \"\"\"\n",
    "    if n == 0:\n",
    "        return -2\n",
    "    return 4 * get_sequence(n - 1)\n",
    "\n",
    "for n in range(20):\n",
    "    try:\n",
    "        correct_value = correct_get_sequence(n)\n",
    "        obtained_value = get_sequence(n)\n",
    "        feedback_text = f\"\"\"\n",
    "You function gave the incorrect value for n={n}\n",
    "\n",
    "Your function gives: {get_sequence(n)}\n",
    "\n",
    "The correct value is: {correct_get_sequence(n)}\n",
    "\"\"\"\n",
    "        assert correct_value == obtained_value,feedback_text\n",
    "    except NameError:\n",
    "        assert False, \"You did not create a function called `get_sequence`\""
   ]
  },
  {
   "cell_type": "markdown",
   "metadata": {},
   "source": [
    "### Question 3\n",
    "\n",
    "(__Hint__: This question is similar to the [fourth exercise of the Matrices chapter of Python for mathematics](https://vknight.org/pfm/tools-for-mathematics/04-matrices/solutions/main.html#question-4).)\n",
    "\n",
    "The matrix \\\\(A\\\\) is given by: \\\\(\n",
    "    \\begin{pmatrix}\n",
    "        4 & 3 & 2 & 3\\\\\n",
    "        3 & 1 & 1 & 3\\\\\n",
    "        0 & -1 & 2 & 1\\\\\n",
    "        0 & 2 & 2 & 3\\\\\n",
    "    \\end{pmatrix}\\\\)\n",
    "\n",
    "\n",
    "a. Create a variable `A_inv` which has value the inverse of `A`\n",
    "\n",
    "_Available marks: 2_"
   ]
  },
  {
   "cell_type": "code",
   "execution_count": 11,
   "metadata": {
    "tags": [
     "answer:q3-a"
    ]
   },
   "outputs": [],
   "source": [
    "### BEGIN SOLUTION\n",
    "A = sym.Matrix(\n",
    "    (\n",
    "        (4, 3, 2, 3),\n",
    "        (3, 1, 1, 3),\n",
    "        (0, -1, 2, 1),\n",
    "        (0, 2, 2, 3)\n",
    "    )\n",
    ")\n",
    "A_inv = A.inv()\n",
    "### END SOLUTION"
   ]
  },
  {
   "cell_type": "code",
   "execution_count": 12,
   "metadata": {
    "tags": [
     "description:correct_value",
     "score:2"
    ]
   },
   "outputs": [],
   "source": [
    "correct_A = A = sym.Matrix(\n",
    "    (\n",
    "        (4, 3, 2, 3),\n",
    "        (3, 1, 1, 3),\n",
    "        (0, -1, 2, 1),\n",
    "        (0, 2, 2, 3)\n",
    "    )\n",
    ")\n",
    "correct_A_inv = correct_A.inv()\n",
    "feedback_text = f\"\"\"Your inverse {A_inv} does not have the correct value. \n",
    "When multiplied by A your matrix gives:\n",
    "\n",
    "{correct_A @ A_inv}\n",
    "\n",
    "which is not the identity matrix:\n",
    "\n",
    "{sym.eye(4)}\n",
    "\n",
    "The correct value of the inverse is {correct_A_inv}\n",
    "\"\"\"\n",
    "try:\n",
    "    assert sym.expand(A_inv @ correct_A) == sym.eye(4), feedback_text \n",
    "except NameError:\n",
    "    assert False, \"You did not create a variable called `A_inv`\""
   ]
  },
  {
   "cell_type": "markdown",
   "metadata": {},
   "source": [
    "b. Create a variable `x_sol` which has value the vector \n",
    "representing the solution to the following linear system:\n",
    "    \n",
    "\\\\[\n",
    "  \\begin{eqnarray}\n",
    "    4 x_1 + 3 x_2 + 2 x_3 + 3 x_4 &= 2\\\\\n",
    "    3 x_1 + x_2 + x_3 + 3 x_4 &= 7\\\\\n",
    "    - x_2 + 2 x_3 + x_4 &= 7\\\\\n",
    "    2 x_2 + 2 x_3 + 3 x_4 &= 0\\\\\n",
    "  \\end{eqnarray}\n",
    "\\\\]\n",
    "\n",
    "_Available marks: 2_"
   ]
  },
  {
   "cell_type": "code",
   "execution_count": 13,
   "metadata": {},
   "outputs": [],
   "source": [
    "### BEGIN SOLUTION\n",
    "b = sym.Matrix([[2], [7], [7], [9]])\n",
    "x_sol = A_inv @ b\n",
    "### END SOLUTION"
   ]
  },
  {
   "cell_type": "code",
   "execution_count": 14,
   "metadata": {
    "tags": [
     "score:2",
     "description:correct_value"
    ]
   },
   "outputs": [],
   "source": [
    "correct_b = sym.Matrix([[2], [7], [7], [9]])\n",
    "correct_x_sol = correct_A_inv @ correct_b\n",
    "feedback_text = f\"\"\"Your vector {x_sol} does not have the correct value. \n",
    "When multiplied by A your matrix gives:\n",
    "\n",
    "{correct_A @ x_sol}\n",
    "\n",
    "which is not the required right hand side\n",
    "\n",
    "{correct_b}\n",
    "\n",
    "The correct value of the solution is {correct_x_sol}\n",
    "\"\"\"\n",
    "try:\n",
    "    assert sym.expand(correct_A @ x_sol) == correct_b, feedback_text \n",
    "except NameError:\n",
    "    assert False, \"You did not create a variable called `x_sol`\""
   ]
  },
  {
   "cell_type": "markdown",
   "metadata": {},
   "source": [
    "### Question 4\n",
    "\n",
    "(__Hint__: This question is similar to the [second exercise of the Algebra chapter of Python for mathematics](https://vknight.org/pfm/tools-for-mathematics/03-calculus/solutions/main.html#question-2))\n",
    "\n",
    "Consider the function: \\\\(f(x)=\\frac{\\cos(x)}{x}\\\\).\n",
    "\n",
    "a. Create a variable `expression` which has value: \\\\(\\frac{f(x)- f(x-h)}{h}\\\\)\n",
    "\n",
    "_available marks: 2_"
   ]
  },
  {
   "cell_type": "code",
   "execution_count": 15,
   "metadata": {
    "tags": [
     "answer:q4-a"
    ]
   },
   "outputs": [],
   "source": [
    "h = sym.Symbol(\"h\")\n",
    "\n",
    "### BEGIN SOLUTION\n",
    "f = sym.cos(x) / x\n",
    "expression = (f - f.subs({x: x - h})) / h\n",
    "### END SOLUTION"
   ]
  },
  {
   "cell_type": "code",
   "execution_count": 16,
   "metadata": {
    "tags": [
     "score:2",
     "description:correct-value"
    ]
   },
   "outputs": [],
   "source": [
    "correct_f = sym.cos(x) / x\n",
    "correct_expression = (correct_f - correct_f.subs({x: x - h})) / h\n",
    "feedback_text = f\"\"\"Your expression {expression} does not have the correct value. \n",
    "The correct value is:\n",
    "\n",
    "{correct_expression}\n",
    "\n",
    "which is obtained by running:\n",
    "\n",
    "```\n",
    "f = sym.cos(x) / x\n",
    "expression = (f - f.subs({{x: x - h}})) / h\n",
    "```\n",
    "\n",
    "Your value is:\n",
    "\n",
    "{expression}\n",
    "\"\"\"\n",
    "try:\n",
    "    assert sym.expand(expression - correct_expression) == 0, feedback_text \n",
    "except NameError:\n",
    "        assert False, \"You did not create a variable called `expression`\""
   ]
  },
  {
   "cell_type": "markdown",
   "metadata": {},
   "source": [
    "b. Create a variable `limit` which has value: \\\\(\\lim_{x\\to 0}\\frac{f(x) - f(x-h)}{h}\\\\)\n",
    "\n",
    "_available marks: 1_"
   ]
  },
  {
   "cell_type": "code",
   "execution_count": 17,
   "metadata": {
    "tags": [
     "answer:q4-b"
    ]
   },
   "outputs": [],
   "source": [
    "### BEGIN SOLUTION\n",
    "limit = sym.limit(expression, h, 0)\n",
    "### END SOLUTION"
   ]
  },
  {
   "cell_type": "code",
   "execution_count": 18,
   "metadata": {},
   "outputs": [
    {
     "data": {
      "text/latex": [
       "$\\displaystyle - \\frac{x \\sin{\\left(x \\right)} + \\cos{\\left(x \\right)}}{x^{2}}$"
      ],
      "text/plain": [
       "-(x*sin(x) + cos(x))/x**2"
      ]
     },
     "execution_count": 18,
     "metadata": {},
     "output_type": "execute_result"
    }
   ],
   "source": [
    "limit"
   ]
  },
  {
   "cell_type": "code",
   "execution_count": 19,
   "metadata": {
    "tags": [
     "score:1",
     "description:correct-value"
    ]
   },
   "outputs": [],
   "source": [
    "correct_limit = - (x * sym.sin(x) + sym.cos(x)) / (x ** 2)\n",
    "feedback_text = f\"\"\"Your limit {limit} does not have the correct value. \n",
    "The correct value is:\n",
    "\n",
    "{correct_limit}\n",
    "\n",
    "which is obtained by running:\n",
    "\n",
    "```\n",
    "sym.limit(expression, h, 0)\n",
    "```\n",
    "\n",
    "Your value is:\n",
    "\n",
    "{limit}\n",
    "\"\"\"\n",
    "try:\n",
    "    assert sym.expand(limit - correct_limit) == 0, feedback_text \n",
    "except NameError:\n",
    "        assert False, \"You did not create a variable called `limit`\""
   ]
  },
  {
   "cell_type": "markdown",
   "metadata": {},
   "source": [
    "c. Using this, output the value \\\\(\\frac{df}{dx}\\\\) at \\\\(x=\\pi\\\\).\n",
    "\n",
    "*available marks: 1*"
   ]
  },
  {
   "cell_type": "code",
   "execution_count": 20,
   "metadata": {
    "tags": [
     "answer:q4-c"
    ]
   },
   "outputs": [
    {
     "data": {
      "text/latex": [
       "$\\displaystyle \\frac{1}{\\pi^{2}}$"
      ],
      "text/plain": [
       "pi**(-2)"
      ]
     },
     "execution_count": 20,
     "metadata": {},
     "output_type": "execute_result"
    }
   ],
   "source": [
    "import math\n",
    "\n",
    "### BEGIN SOLUTION\n",
    "limit.subs({x: sym.pi})\n",
    "### END SOLUTION"
   ]
  },
  {
   "cell_type": "code",
   "execution_count": 21,
   "metadata": {
    "tags": [
     "score:1",
     "description:correct-solution-to-equation"
    ]
   },
   "outputs": [],
   "source": [
    "import numpy as np\n",
    "q4_c_answer = _\n",
    "correct_answer = sym.diff((sym.cos(x) / x), x).subs({x: sym.pi})\n",
    "feedback_text = f\"\"\"\n",
    "Your output is not correct. \n",
    "\n",
    "It should be: \n",
    "\n",
    "{correct_answer} \n",
    "\n",
    "which is obtained by running\n",
    "\n",
    "```\n",
    "limit.subs({{x: sym.pi}})\n",
    "```\n",
    "\n",
    "Your answer was:\n",
    "\n",
    "{q4_c_answer}\n",
    "\"\"\"\n",
    "\n",
    "if float(q4_c_answer) == q4_c_answer and np.isclose(float(q4_c_answer), 1 / np.pi ** 2):\n",
    "    feedback_text += \"\"\"\n",
    "which is a numerical approximation of the correct answer.\n",
    "This could be due to the fact that you did not use the exact value \n",
    "for pi (which is given by sym.pi).    \n",
    "    \"\"\"\n",
    "\n",
    "assert  q4_c_answer == correct_answer, feedback_text"
   ]
  }
 ],
 "metadata": {
  "celltoolbar": "Tags",
  "kernelspec": {
   "display_name": "Python 3",
   "language": "python",
   "name": "python3"
  },
  "language_info": {
   "codemirror_mode": {
    "name": "ipython",
    "version": 3
   },
   "file_extension": ".py",
   "mimetype": "text/x-python",
   "name": "python",
   "nbconvert_exporter": "python",
   "pygments_lexer": "ipython3",
   "version": "3.8.3"
  }
 },
 "nbformat": 4,
 "nbformat_minor": 4
}
