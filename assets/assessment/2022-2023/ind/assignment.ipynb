{
 "cells": [
  {
   "cell_type": "markdown",
   "metadata": {},
   "source": [
    "### Computing for Mathematics - 2022/2023 individual coursework\n",
    "\n",
    "**Important** Do not delete the cells containing: \n",
    "\n",
    "```\n",
    "### BEGIN SOLUTION\n",
    "\n",
    "\n",
    "### END SOLUTION\n",
    "```\n",
    "\n",
    "write your solution attempts in those cells.\n",
    "\n",
    "To submit this notebook:\n",
    "\n",
    "- Change the name of the notebook from `main` to: `<student_number>`. For example, if your student number is `c1234567` then change the name of the notebook to `c1234567`.\n",
    "- **Write all your solution attempts in the correct locations**;\n",
    "- **Do not delete** any code that is already in the cells;\n",
    "- Save the notebook (`File>Save As`);\n",
    "- Follow the instructions given to submit."
   ]
  },
  {
   "cell_type": "markdown",
   "metadata": {},
   "source": [
    "#### Question 1\n",
    "\n",
    "(__Hint__: This question is similar to the [this section of the python for mathematics text](https://vknight.org/pfm/tools-for-mathematics/07-sequences/how/main.html#define-a-function-using-recursion).)\n",
    "\n",
    "For each of the following sequences, define a function `generate_sequence` that generates the exact value of the terms. Output the term for $n=5$.\n",
    "\n",
    "a. \\\\(a_n= \\begin{cases}5,\\text{ if }n=3\\\\\\frac{1}{a_{n - 1} + 1}, \\text{ if }n>3\\end{cases}\\\\)\n",
    "\n",
    "Available marks: 3"
   ]
  },
  {
   "cell_type": "code",
   "execution_count": 1,
   "metadata": {
    "tags": [
     "answer:q1-a"
    ]
   },
   "outputs": [],
   "source": [
    "import sympy as sym\n",
    "\n",
    "def generate_sequence(n):\n",
    "### BEGIN SOLUTION\n",
    "\n",
    "\n",
    "### END SOLUTION"
   ]
  },
  {
   "cell_type": "markdown",
   "metadata": {},
   "source": [
    "b. \\\\(a_n= \\begin{cases}\\pi,\\text{ if }n=1\\\\\\frac{1}{\\sqrt{a_{n - 1} + 1}}, \\text{ if }n>1\\end{cases}\\\\)\n",
    "\n",
    "_Available marks: 3_"
   ]
  },
  {
   "cell_type": "code",
   "execution_count": 5,
   "metadata": {
    "tags": [
     "answer:q1-b"
    ]
   },
   "outputs": [],
   "source": [
    "def generate_sequence(n):\n",
    "### BEGIN SOLUTION\n",
    "\n",
    "\n",
    "### END SOLUTION"
   ]
  },
  {
   "cell_type": "markdown",
   "metadata": {},
   "source": [
    "c. \\\\(a_n= \n",
    "\\begin{cases}1,\\text{ if }n\\in\\{1,2,3\\}\\\\a_{n - 1} - a_{n - 2} + a_{n = 3}, \\text{ if }n>3\\end{cases}\\\\)\n",
    "\n",
    "_Available marks: 2_"
   ]
  },
  {
   "cell_type": "code",
   "execution_count": 9,
   "metadata": {
    "tags": [
     "answer:q1-c"
    ]
   },
   "outputs": [],
   "source": [
    "def generate_sequence(n):\n",
    "### BEGIN SOLUTION\n",
    "\n",
    "\n",
    "### END SOLUTION"
   ]
  },
  {
   "cell_type": "markdown",
   "metadata": {},
   "source": [
    "### Question 2\n",
    "\n",
    "\n",
    "(__Hint__: This question is similar to the [second exercise of the Probability chapter of Python for mathematics](https://vknight.org/pfm/tools-for-mathematics/06-probability/solutions/main.html#question-2))\n",
    "\n",
    "Write a function `sample_experiment` that can simulate selecting a token from a bag given a particular number of:\n",
    "\n",
    "- Red tokens;\n",
    "- Blue tokens;\n",
    "- Yellow tokens;\n",
    "- Green tokens.\n",
    "\n",
    "The function should return one of the following strings: `\"Red\"`, `\"Blue\"`, `\"Yellow\"`, or `\"Green\"`.\n",
    "\n",
    "_available marks: 4_"
   ]
  },
  {
   "cell_type": "code",
   "execution_count": 13,
   "metadata": {
    "tags": [
     "answer:q2-b"
    ]
   },
   "outputs": [],
   "source": [
    "import random\n",
    "\n",
    "def sample_experiment(number_of_red, number_of_blue, number_of_yellow, number_of_green):\n",
    "### BEGIN SOLUTION\n",
    "\n",
    "\n",
    "### END SOLUTION"
   ]
  },
  {
   "cell_type": "markdown",
   "metadata": {},
   "source": [
    "### Question 3\n",
    "\n",
    "(__Hint__: This question is similar to the [third exercise of the Algebra chapter of Python for mathematics](https://vknight.org/pfm/tools-for-mathematics/02-algebra/solutions/main.html#question-3).)\n",
    "\n",
    "a. Create a variable `general_solution_for_given_y` which has value the set of solutions, in terms of $y$ to the following equation:\n",
    "\n",
    "\n",
    "$$\n",
    "x ^ 2  = \\sin(y) + x / \\pi\n",
    "$$\n",
    "\n",
    "_Available marks: 2_"
   ]
  },
  {
   "cell_type": "code",
   "execution_count": 27,
   "metadata": {
    "tags": [
     "answer:q3-a"
    ]
   },
   "outputs": [],
   "source": [
    "### BEGIN SOLUTION\n",
    "\n",
    "\n",
    "### END SOLUTION"
   ]
  },
  {
   "cell_type": "code",
   "execution_count": null,
   "metadata": {},
   "outputs": [],
   "source": [
    "gener"
   ]
  },
  {
   "cell_type": "markdown",
   "metadata": {},
   "source": [
    "b. Create a variable `particular_solution` which has value the set of solutions for $y=e ^ \\pi$.\n",
    "\n",
    "_Available marks: 2_"
   ]
  },
  {
   "cell_type": "code",
   "execution_count": 19,
   "metadata": {
    "tags": [
     "answer:q3-b"
    ]
   },
   "outputs": [],
   "source": [
    "### BEGIN SOLUTION\n",
    "\n",
    "\n",
    "### END SOLUTION"
   ]
  },
  {
   "cell_type": "markdown",
   "metadata": {},
   "source": [
    "### Question 4\n",
    "\n",
    "(__Hint__: This question is similar to the [third exercise of the Matrices chapter of Python for mathematics](https://vknight.org/pfm/tools-for-mathematics/04-matrices/solutions/main.html#question-3))\n",
    "\n",
    "The matrix $A$ is given by $A=\\begin{pmatrix}a & 3 & 1\\\\ a & 2a & 3\\\\ -3 & 2 & 2 a\\end{pmatrix}$.\n",
    "\n",
    "a. Create a variable `determinant` which has value the determinant of $A$\n",
    "\n",
    "_Available marks: 2_"
   ]
  },
  {
   "cell_type": "code",
   "execution_count": 21,
   "metadata": {
    "tags": [
     "answer:q4-a"
    ]
   },
   "outputs": [],
   "source": [
    "a = sym.Symbol(\"a\")\n",
    "### BEGIN SOLUTION\n",
    "\n",
    "\n",
    "### END SOLUTION"
   ]
  },
  {
   "cell_type": "markdown",
   "metadata": {},
   "source": [
    "b. Create a variable `singular_values_of_a` which has value the set of values of $a$ for which $A$ is singular.\n",
    "\n",
    "\n",
    "_Available marks: 3_"
   ]
  },
  {
   "cell_type": "code",
   "execution_count": 23,
   "metadata": {
    "tags": [
     "answer:q4-b"
    ]
   },
   "outputs": [],
   "source": [
    "### BEGIN SOLUTION\n",
    "\n",
    "\n",
    "### END SOLUTION"
   ]
  },
  {
   "cell_type": "markdown",
   "metadata": {},
   "source": [
    "c. Output a list which contains the singular values of $a$ which are pure real numbers.\n",
    "\n",
    "_Available marks: 2_"
   ]
  },
  {
   "cell_type": "code",
   "execution_count": 25,
   "metadata": {
    "tags": [
     "answer:q4-c"
    ]
   },
   "outputs": [],
   "source": [
    "### BEGIN SOLUTION\n",
    "\n",
    "\n",
    "### END SOLUTION"
   ]
  }
 ],
 "metadata": {
  "celltoolbar": "Tags",
  "kernelspec": {
   "display_name": "Python 3",
   "language": "python",
   "name": "python3"
  },
  "language_info": {
   "codemirror_mode": {
    "name": "ipython",
    "version": 3
   },
   "file_extension": ".py",
   "mimetype": "text/x-python",
   "name": "python",
   "nbconvert_exporter": "python",
   "pygments_lexer": "ipython3",
   "version": "3.8.3"
  }
 },
 "nbformat": 4,
 "nbformat_minor": 4
}
