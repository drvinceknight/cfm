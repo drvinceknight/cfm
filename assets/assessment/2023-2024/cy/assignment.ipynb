{
 "cells": [
  {
   "cell_type": "markdown",
   "metadata": {
    "slideshow": {
     "slide_type": ""
    },
    "tags": []
   },
   "source": [
    "### Cyfrifiadureg ar gyfer Mathemateg - 2023/2024 gwaith cwrs unigol\n",
    "\n",
    "**Pwysig** Peidiwch ddileu'r celloedd sy'n cynnwys: \n",
    "\n",
    "```\n",
    "### DECHRAU DATRYSIAD\n",
    "\n",
    "\n",
    "### DIWEDD DATRYSIAD\n",
    "```\n",
    "\n",
    "ysgrifennwch eich datrysiadau o fewn y celloedd hyn.\n",
    "\n",
    "Er mwyn cyflwyno'r notebook hwn:\n",
    "\n",
    "- Newidiwch enw'r notebook o `main` i: `<rhif_myfyriwr>`. Er enghraifft, os taw `c1234567` yw eich rhif myfyriwr, yna newidiwch enw'r notebook i `c1234567`.\n",
    "- **Ysgrifennwch eich datrysiadau yn y lleoliadau cywir**;\n",
    "- **Peidiwch ddileu** unrhyw god sydd yn barod yn y celloedd;\n",
    "- Arbedwch y notebook (`File>Save As`);\n",
    "- Dilynwch y cyfarwyddiadau a rhoddir er mwyn cyflwyno.\n"
   ]
  },
  {
   "cell_type": "markdown",
   "metadata": {
    "slideshow": {
     "slide_type": ""
    },
    "tags": []
   },
   "source": [
    "#### Cwestiwn 1\n",
    "\n",
    "(__Awgrym__: Mae'r cwestiwn hwn yn debyg i'r [adran hon yn y llyfr Python for Mathematics](https://vknight.org/pfm/tools-for-mathematics/09-differential-equations/how/main.html#how-to-obtain-the-general-solution-of-a-differential-equation).)\n",
    "\n",
    "Ar gyfer pob un o'r hafaliadau differol, allbynnwch y datrysiad(au) cyffredinol.\n",
    "\n",
    "a. \\\\(\\frac{dy}{dx}=x\\\\)\n",
    "\n",
    "Marciau ar gael: 6"
   ]
  },
  {
   "cell_type": "code",
   "execution_count": null,
   "metadata": {
    "slideshow": {
     "slide_type": ""
    },
    "tags": [
     "answer:q1-a"
    ]
   },
   "outputs": [],
   "source": [
    "import sympy as sym\n",
    "\n",
    "### DECHRAU DATRYSIAD\n",
    "\n",
    "### DIWEDD DATRYSIAD"
   ]
  },
  {
   "cell_type": "markdown",
   "metadata": {},
   "source": [
    "b. \\\\(\\frac{dy}{dx}=y\\\\)\n",
    "\n",
    "Marciau ar gael: 6"
   ]
  },
  {
   "cell_type": "code",
   "execution_count": null,
   "metadata": {
    "slideshow": {
     "slide_type": ""
    },
    "tags": [
     "answer:q1-b"
    ]
   },
   "outputs": [],
   "source": [
    "### DECHRAU DATRYSIAD\n",
    "\n",
    "### DIWEDD DATRYSIAD"
   ]
  },
  {
   "cell_type": "markdown",
   "metadata": {},
   "source": [
    "c. \\\\(\\frac{dy}{dx}=\\cos(y) \\sin(x)\\\\)\n",
    "\n",
    "Marciau ar gael: 6"
   ]
  },
  {
   "cell_type": "code",
   "execution_count": null,
   "metadata": {
    "slideshow": {
     "slide_type": ""
    },
    "tags": [
     "answer:q1-c"
    ]
   },
   "outputs": [],
   "source": [
    "### DECHRAU DATRYSIAD\n",
    "\n",
    "### DIWEDD DATRYSIAD"
   ]
  },
  {
   "cell_type": "markdown",
   "metadata": {},
   "source": [
    "d. \\\\(\\frac{dy}{dx}=\\frac{e^{y}}{x}\\\\)\n",
    "\n",
    "Marciau ar gael: 6"
   ]
  },
  {
   "cell_type": "code",
   "execution_count": null,
   "metadata": {
    "slideshow": {
     "slide_type": ""
    },
    "tags": [
     "answer:q1-d"
    ]
   },
   "outputs": [],
   "source": [
    "### DECHRAU DATRYSIAD\n",
    "\n",
    "### DIWEDD DATRYSIAD"
   ]
  },
  {
   "cell_type": "markdown",
   "metadata": {},
   "source": [
    "e. \\\\(\\frac{dy}{dx}=x ^ 3 - \\cos(x) + \\tan(x)\\\\)\n",
    "\n",
    "Marciau ar gael: 6"
   ]
  },
  {
   "cell_type": "code",
   "execution_count": null,
   "metadata": {
    "slideshow": {
     "slide_type": ""
    },
    "tags": [
     "answer:q1-e"
    ]
   },
   "outputs": [],
   "source": [
    "### DECHRAU DATRYSIAD\n",
    "\n",
    "### DIWEDD DATRYSIAD"
   ]
  },
  {
   "cell_type": "markdown",
   "metadata": {
    "slideshow": {
     "slide_type": ""
    },
    "tags": []
   },
   "source": [
    "### Cwestiwn 2\n",
    "\n",
    "\n",
    "(__Awgrym__: Mae'r cwestiwn hwn yn debyg i'r [trydydd ymarfer ym mhennod Algebra o Python for Mathematics](https://vknight.org/pfm/tools-for-mathematics/02-algebra/solutions/main.html#question-3))\n",
    "\n",
    "Ystyriwch yr hafaliad $\\alpha ^ 2 - \\beta / \\alpha = 5 + \\alpha$\n",
    "\n",
    "a. Crewch newidyn `datrysiad_cyffredinol` sydd a'r gwerth y set o ddatrysiadau i'r hafaliad hwn ar gyfer $\\alpha$ (mewn geiriau eraill: pa werthoedd all $\\alpha$ cymryd fel ffwythiant o $\\beta$).\n",
    "\n",
    "Marciau ar gael: 12"
   ]
  },
  {
   "cell_type": "code",
   "execution_count": null,
   "metadata": {
    "slideshow": {
     "slide_type": ""
    },
    "tags": [
     "answer:q2-a"
    ]
   },
   "outputs": [],
   "source": [
    "alpha = sym.Symbol(\"alpha\")\n",
    "beta = sym.Symbol(\"beta\")\n",
    "\n",
    "### DECHRAU DATRYSIAD\n",
    "\n",
    "### DIWEDD DATRYSIAD"
   ]
  },
  {
   "cell_type": "markdown",
   "metadata": {
    "slideshow": {
     "slide_type": ""
    },
    "tags": []
   },
   "source": [
    "b. Allbynnwch y set o ddatrysiadau ar gyfer yr achos lle mae $\\beta=0$.\n",
    "\n",
    "Marciau ar gael: 6"
   ]
  },
  {
   "cell_type": "code",
   "execution_count": null,
   "metadata": {
    "slideshow": {
     "slide_type": ""
    },
    "tags": [
     "answer:q2-b"
    ]
   },
   "outputs": [],
   "source": [
    "### DECHRAU DATRYSIAD\n",
    "\n",
    "### DIWEDD DATRYSIAD"
   ]
  },
  {
   "cell_type": "markdown",
   "metadata": {
    "slideshow": {
     "slide_type": ""
    },
    "tags": []
   },
   "source": [
    "### Cwestiwn 3\n",
    "\n",
    "(__Awgrym__: Mae'r cwestiwn hwn yn debyg i'r [pedwerydd ymarfer ym mhennod Sequences o Python for Mathematics](https://vknight.org/pfm/tools-for-mathematics/07-sequences/solutions/main.html#question-4).)\n",
    "\n",
    "a. Crewch ffwythiant `generadu_dilyniant` sy'n allbynnu $n$-fed term y dilyniant canlynol:\n",
    "\n",
    "\n",
    "$$\n",
    "a_n =\n",
    "\\begin{cases}\n",
    "    n &n \\in \\{1, 2, 3\\}\\\\\n",
    "    a_{n-1} - a_{n-3}&\\text{os yw }n\\text{ yn odrif}\\\\\n",
    "    p a_{n-2}&\\text{fel arall}\n",
    "\\end{cases}\n",
    "$$\n",
    "\n",
    "Ar gyfer rhyw paramedr $p$.\n",
    "\n",
    "_Marciau ar gael: 7_"
   ]
  },
  {
   "cell_type": "code",
   "execution_count": null,
   "metadata": {
    "slideshow": {
     "slide_type": ""
    },
    "tags": [
     "answer:q3-a"
    ]
   },
   "outputs": [],
   "source": [
    "p = sym.Symbol(\"p\")\n",
    "\n",
    "def generadu_dilyniant(n, p=p):\n",
    "### DECHRAU DATRYSIAD\n",
    "\n",
    "### DIWEDD DATRYSIAD"
   ]
  },
  {
   "cell_type": "markdown",
   "metadata": {
    "slideshow": {
     "slide_type": ""
    },
    "tags": []
   },
   "source": [
    "b. Allbynnwch $a_5$ yn nhermau $p$\n",
    "\n",
    "_Marciau ar gael: 2_"
   ]
  },
  {
   "cell_type": "code",
   "execution_count": null,
   "metadata": {
    "slideshow": {
     "slide_type": ""
    },
    "tags": [
     "answer:q3-b"
    ]
   },
   "outputs": [],
   "source": [
    "### DECHRAU DATRYSIAD\n",
    "\n",
    "### DIWEDD DATRYSIAD"
   ]
  },
  {
   "cell_type": "markdown",
   "metadata": {
    "slideshow": {
     "slide_type": ""
    },
    "tags": []
   },
   "source": [
    "c. Output $a_6$ for $p=\\frac{1}{2}$\n",
    "\n",
    "_Marciau ar gael: 6_"
   ]
  },
  {
   "cell_type": "code",
   "execution_count": null,
   "metadata": {
    "slideshow": {
     "slide_type": ""
    },
    "tags": [
     "answer:q3-c"
    ]
   },
   "outputs": [],
   "source": [
    "### DECHRAU DATRYSIAD\n",
    "\n",
    "### DIWEDD DATRYSIAD"
   ]
  },
  {
   "cell_type": "markdown",
   "metadata": {
    "slideshow": {
     "slide_type": ""
    },
    "tags": []
   },
   "source": [
    "d. Allbynnwch y set o'r gwerthoedd gall $p$ cymryd sy'n sicrhau bod $a_{10}=a_{11}$.\n",
    "\n",
    "_Marciau ar gael: 9_"
   ]
  },
  {
   "cell_type": "code",
   "execution_count": null,
   "metadata": {
    "slideshow": {
     "slide_type": ""
    },
    "tags": [
     "answer:q4-d"
    ]
   },
   "outputs": [],
   "source": [
    "### DECHRAU DATRYSIAD\n",
    "\n",
    "### DIWEDD DATRYSIAD"
   ]
  },
  {
   "cell_type": "markdown",
   "metadata": {
    "slideshow": {
     "slide_type": ""
    },
    "tags": []
   },
   "source": [
    "### Cwestiwn 4\n",
    "\n",
    "(__Awgrym__: Mae'r cwestiwn hwn yn defnyddio elfennau o [bennod Matrices o Python for Mathematics](https://vknight.org/pfm/tools-for-mathematics/04-matrices/) yn ogystal a [phennod Statistics o Python for Mathematics](https://vknight.org/pfm/tools-for-mathematics/08-statistics/))\n",
    "\n",
    "a. Crewch newidyn `determinannau` gyda gwerth rhestr o ddeterminannau pob un o'r matricsau yn y plyg `matricsau`:\n",
    "\n",
    "_Marciau ar gael: 10_"
   ]
  },
  {
   "cell_type": "code",
   "execution_count": null,
   "metadata": {
    "slideshow": {
     "slide_type": ""
    },
    "tags": [
     "answer:q4-a"
    ]
   },
   "outputs": [],
   "source": [
    "matricsau = (\n",
    "    sym.Matrix((1,)),\n",
    "    sym.Matrix(((1, 2), (2, 1))),\n",
    "    sym.Matrix(((3, 0), (0, 1))),\n",
    "    sym.Matrix(((2, 1, 1), (3, 2, 4), (6, 1, -1))),\n",
    "    sym.Matrix(((2, 1, 3), (3, 2, 4), (6, 1, -1))),\n",
    "    sym.Matrix(((6, 2, 3), (3, -2, -4), (6, 1, -1))),\n",
    "    sym.Matrix(((1, 2, 3, 1), (1, 3, -2, -4), (5, 6, 1, -1), (1, 2, -1, -4))),\n",
    "    sym.Matrix(((-4, 3), (1, 1))),\n",
    "    sym.Matrix(((3, 12), (0, 1))),\n",
    ")\n",
    "\n",
    "### DECHRAU DATRYSIAD\n",
    "\n",
    "### DIWEDD DATRYSIAD"
   ]
  },
  {
   "cell_type": "markdown",
   "metadata": {
    "slideshow": {
     "slide_type": ""
    },
    "tags": []
   },
   "source": [
    "b. Crewch newidyn `nifer_o_resi` gyda gwerth rhestr gyda'r nifer o resi ym mhob un o'r matricsau yn y plyg `matricsau`:\n",
    "\n",
    "_Marciau ar gael: 12_"
   ]
  },
  {
   "cell_type": "code",
   "execution_count": null,
   "metadata": {
    "slideshow": {
     "slide_type": ""
    },
    "tags": [
     "answer:q4-b"
    ]
   },
   "outputs": [],
   "source": [
    "### DECHRAU DATRYSIAD\n",
    "\n",
    "### DIWEDD DATRYSIAD"
   ]
  },
  {
   "cell_type": "markdown",
   "metadata": {
    "raw_mimetype": "",
    "slideshow": {
     "slide_type": ""
    },
    "tags": []
   },
   "source": [
    "c. Allbynnwch y cydberthyniad Pearson rhwng y nifer o resi a'r determinannau.\n",
    "\n",
    "_Marciau ar gael: 3_"
   ]
  },
  {
   "cell_type": "code",
   "execution_count": null,
   "metadata": {
    "slideshow": {
     "slide_type": ""
    },
    "tags": [
     "answer:q4-c"
    ]
   },
   "outputs": [],
   "source": [
    "import statistics as st\n",
    "\n",
    "### DECHRAU DATRYSIAD\n",
    "\n",
    "### DIWEDD DATRYSIAD"
   ]
  },
  {
   "cell_type": "markdown",
   "metadata": {
    "slideshow": {
     "slide_type": ""
    },
    "tags": []
   },
   "source": [
    "d. Crewch dau newidyn: `graddiant` a `rhyngdoriad` gyda gwerthoedd y graddiant ($a$) a'r rhyngdoriad ($b$) ar gyfer llinell ffit orau yn amcangyfrif y derterminannau fel ffwythiant o'r nifer o resi\n",
    "\n",
    "Marciau ar gael: 3"
   ]
  },
  {
   "cell_type": "code",
   "execution_count": null,
   "metadata": {
    "slideshow": {
     "slide_type": ""
    },
    "tags": []
   },
   "outputs": [],
   "source": [
    "### DECHRAU DATRYSIAD\n",
    "\n",
    "### DIWEDD DATRYSIAD"
   ]
  }
 ],
 "metadata": {
  "celltoolbar": "Tags",
  "kernelspec": {
   "display_name": "Python 3 (ipykernel)",
   "language": "python",
   "name": "python3"
  },
  "language_info": {
   "codemirror_mode": {
    "name": "ipython",
    "version": 3
   },
   "file_extension": ".py",
   "mimetype": "text/x-python",
   "name": "python",
   "nbconvert_exporter": "python",
   "pygments_lexer": "ipython3",
   "version": "3.11.4"
  }
 },
 "nbformat": 4,
 "nbformat_minor": 4
}
