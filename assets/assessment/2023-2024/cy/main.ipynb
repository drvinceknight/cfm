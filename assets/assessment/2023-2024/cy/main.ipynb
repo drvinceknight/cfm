{
 "cells": [
  {
   "cell_type": "markdown",
   "metadata": {
    "slideshow": {
     "slide_type": ""
    },
    "tags": []
   },
   "source": [
    "### Cyfrifiadureg ar gyfer Mathemateg - 2023/2024 gwaith cwrs unigol\n",
    "\n",
    "**Pwysig** Peidiwch ddileu'r celloedd sy'n cynnwys: \n",
    "\n",
    "```\n",
    "### DECHRAU DATRYSIAD\n",
    "\n",
    "\n",
    "### DIWEDD DATRYSIAD\n",
    "```\n",
    "\n",
    "ysgrifennwch eich datrysiadau o fewn y celloedd hyn.\n",
    "\n",
    "Er mwyn cyflwyno'r notebook hwn:\n",
    "\n",
    "- Newidiwch enw'r notebook o `main` i: `<rhif_myfyriwr>`. Er enghraifft, os taw `c1234567` yw eich rhif myfyriwr, yna newidiwch enw'r notebook i `c1234567`.\n",
    "- **Ysgrifennwch eich datrysiadau yn y lleoliadau cywir**;\n",
    "- **Peidiwch ddileu** unrhyw gôd sydd yn barod yn y celloedd;\n",
    "- Arbedwch y notebook (`File>Save As`);\n",
    "- Dilynwch y cyfarwyddiadau a rhoddir er mwyn cyflwyno.\n"
   ]
  },
  {
   "cell_type": "markdown",
   "metadata": {
    "slideshow": {
     "slide_type": ""
    },
    "tags": []
   },
   "source": [
    "#### Cwestiwn 1\n",
    "\n",
    "(__Awgrym__: Mae'r cwestiwn hwn yn debyg i'r [adran hon yn y llyfr Python for Mathematics](https://vknight.org/pfm/tools-for-mathematics/09-differential-equations/how/main.html#how-to-obtain-the-general-solution-of-a-differential-equation).)\n",
    "\n",
    "Ar gyfer pob un o'r hafaliadau differol, allbynnwch y datrysiad(au) cyffredinol.\n",
    "\n",
    "a. \\\\(\\frac{dy}{dx}=x\\\\)\n",
    "\n",
    "Marciau ar gael: 6"
   ]
  },
  {
   "cell_type": "code",
   "execution_count": 1,
   "metadata": {
    "editable": true,
    "slideshow": {
     "slide_type": ""
    },
    "tags": [
     "answer:q1-a"
    ]
   },
   "outputs": [
    {
     "data": {
      "text/latex": [
       "$\\displaystyle y{\\left(x \\right)} = C_{1} + \\frac{x^{2}}{2}$"
      ],
      "text/plain": [
       "Eq(y(x), C1 + x**2/2)"
      ]
     },
     "execution_count": 1,
     "metadata": {},
     "output_type": "execute_result"
    }
   ],
   "source": [
    "import sympy as sym\n",
    "\n",
    "### DECHRAU DATRYSIAD\n",
    "y = sym.Function(\"y\")\n",
    "x = sym.Symbol(\"x\")\n",
    "\n",
    "ochr_chwith = sym.diff(y(x), x)\n",
    "ochr_dde = x\n",
    "hafaliad = sym.Eq(ochr_chwith, ochr_dde)\n",
    "sym.dsolve(hafaliad, y(x))\n",
    "### DIWEDD DATRYSIAD"
   ]
  },
  {
   "cell_type": "markdown",
   "metadata": {},
   "source": [
    "b. \\\\(\\frac{dy}{dx}=y\\\\)\n",
    "\n",
    "Marciau ar gael: 6"
   ]
  },
  {
   "cell_type": "code",
   "execution_count": 2,
   "metadata": {
    "editable": true,
    "slideshow": {
     "slide_type": ""
    },
    "tags": [
     "answer:q1-b"
    ]
   },
   "outputs": [
    {
     "data": {
      "text/latex": [
       "$\\displaystyle y{\\left(x \\right)} = C_{1} e^{x}$"
      ],
      "text/plain": [
       "Eq(y(x), C1*exp(x))"
      ]
     },
     "execution_count": 2,
     "metadata": {},
     "output_type": "execute_result"
    }
   ],
   "source": [
    "### DECHRAU DATRYSIAD\n",
    "ochr_chwith = sym.diff(y(x), x)\n",
    "ochr_dde = y(x)\n",
    "hafaliad = sym.Eq(ochr_chwith, ochr_dde)\n",
    "sym.dsolve(hafaliad, y(x))\n",
    "### DIWEDD DATRYSIAD"
   ]
  },
  {
   "cell_type": "markdown",
   "metadata": {},
   "source": [
    "c. \\\\(\\frac{dy}{dx}=\\cos(y) \\sin(x)\\\\)\n",
    "\n",
    "Marciau ar gael: 6"
   ]
  },
  {
   "cell_type": "code",
   "execution_count": 3,
   "metadata": {
    "editable": true,
    "slideshow": {
     "slide_type": ""
    },
    "tags": [
     "answer:q1-c"
    ]
   },
   "outputs": [
    {
     "data": {
      "text/plain": [
       "[Eq(y(x), pi - asin((C1 + exp(2*cos(x)))/(C1 - exp(2*cos(x))))),\n",
       " Eq(y(x), asin((C1 + exp(2*cos(x)))/(C1 - exp(2*cos(x)))))]"
      ]
     },
     "execution_count": 3,
     "metadata": {},
     "output_type": "execute_result"
    }
   ],
   "source": [
    "### DECHRAU DATRYSIAD\n",
    "ochr_chwith = sym.diff(y(x), x)\n",
    "ochr_dde = sym.cos(y(x)) * sym.sin(x)\n",
    "hafaliad = sym.Eq(ochr_chwith, ochr_dde)\n",
    "sym.dsolve(hafaliad, y(x))\n",
    "### DIWEDD DATRYSIAD"
   ]
  },
  {
   "cell_type": "markdown",
   "metadata": {},
   "source": [
    "d. \\\\(\\frac{dy}{dx}=\\frac{e^{y}}{x}\\\\)\n",
    "\n",
    "Marciau ar gael: 6"
   ]
  },
  {
   "cell_type": "code",
   "execution_count": 4,
   "metadata": {
    "editable": true,
    "slideshow": {
     "slide_type": ""
    },
    "tags": [
     "answer:q1-d"
    ]
   },
   "outputs": [
    {
     "data": {
      "text/latex": [
       "$\\displaystyle y{\\left(x \\right)} = \\log{\\left(- \\frac{1}{C_{1} + \\log{\\left(x \\right)}} \\right)}$"
      ],
      "text/plain": [
       "Eq(y(x), log(-1/(C1 + log(x))))"
      ]
     },
     "execution_count": 4,
     "metadata": {},
     "output_type": "execute_result"
    }
   ],
   "source": [
    "### DECHRAU DATRYSIAD\n",
    "ochr_chwith = sym.diff(y(x), x)\n",
    "ochr_dde = sym.exp(y(x)) / x\n",
    "hafaliad = sym.Eq(ochr_chwith, ochr_dde)\n",
    "sym.dsolve(hafaliad, y(x))\n",
    "### DIWEDD DATRYSIAD"
   ]
  },
  {
   "cell_type": "markdown",
   "metadata": {},
   "source": [
    "e. \\\\(\\frac{dy}{dx}=x ^ 3 - \\cos(x) + \\tan(x)\\\\)\n",
    "\n",
    "Marciau ar gael: 6"
   ]
  },
  {
   "cell_type": "code",
   "execution_count": 5,
   "metadata": {
    "editable": true,
    "slideshow": {
     "slide_type": ""
    },
    "tags": [
     "answer:q1-e"
    ]
   },
   "outputs": [
    {
     "data": {
      "text/latex": [
       "$\\displaystyle y{\\left(x \\right)} = C_{1} + \\frac{x^{4}}{4} - \\log{\\left(\\cos{\\left(x \\right)} \\right)} - \\sin{\\left(x \\right)}$"
      ],
      "text/plain": [
       "Eq(y(x), C1 + x**4/4 - log(cos(x)) - sin(x))"
      ]
     },
     "execution_count": 5,
     "metadata": {},
     "output_type": "execute_result"
    }
   ],
   "source": [
    "### DECHRAU DATRYSIAD\n",
    "ochr_chwith = sym.diff(y(x), x)\n",
    "ochr_dde = x ** 3 - sym.cos(x) + sym.tan(x)\n",
    "hafaliad = sym.Eq(ochr_chwith, ochr_dde)\n",
    "sym.dsolve(hafaliad, y(x))\n",
    "### DIWEDD DATRYSIAD"
   ]
  },
  {
   "cell_type": "markdown",
   "metadata": {
    "slideshow": {
     "slide_type": ""
    },
    "tags": []
   },
   "source": [
    "### Cwestiwn 2\n",
    "\n",
    "\n",
    "(__Awgrym__: Mae'r cwestiwn hwn yn debyg i'r [trydydd ymarfer ym mhennod Algebra o Python for Mathematics](https://vknight.org/pfm/tools-for-mathematics/02-algebra/solutions/main.html#question-3))\n",
    "\n",
    "Ystyriwch yr hafaliad $\\alpha ^ 2 - \\beta / \\alpha = 5 + \\alpha$\n",
    "\n",
    "a. Crëwch newidyn `datrysiad_cyffredinol` sydd â'r gwerth y set o ddatrysiadau i'r hafaliad hwn ar gyfer $\\alpha$ (mewn geiriau eraill: pa werthoedd all $\\alpha$ cymryd fel ffwythiant o $\\beta$).\n",
    "\n",
    "Marciau ar gael: 12"
   ]
  },
  {
   "cell_type": "code",
   "execution_count": 6,
   "metadata": {
    "editable": true,
    "slideshow": {
     "slide_type": ""
    },
    "tags": [
     "answer:q2-a"
    ]
   },
   "outputs": [],
   "source": [
    "alpha = sym.Symbol(\"alpha\")\n",
    "beta = sym.Symbol(\"beta\")\n",
    "\n",
    "### DECHRAU DATRYSIAD\n",
    "ochr_chwith = alpha ** 2 - beta / alpha\n",
    "ochr_dde = 5 + alpha\n",
    "hafaliad = sym.Eq(lhs=ochr_chwith, rhs=ochr_dde)\n",
    "datrysiad_cyffredinol = sym.solveset(hafaliad, alpha)\n",
    "### DIWEDD DATRYSIAD"
   ]
  },
  {
   "cell_type": "markdown",
   "metadata": {
    "slideshow": {
     "slide_type": ""
    },
    "tags": []
   },
   "source": [
    "b. Allbynnwch y set o ddatrysiadau ar gyfer yr achos lle mae $\\beta=0$.\n",
    "\n",
    "Marciau ar gael: 6"
   ]
  },
  {
   "cell_type": "code",
   "execution_count": 7,
   "metadata": {
    "editable": true,
    "slideshow": {
     "slide_type": ""
    },
    "tags": [
     "answer:q2-b"
    ]
   },
   "outputs": [
    {
     "data": {
      "text/latex": [
       "$\\displaystyle \\left\\{\\frac{1}{3} - \\frac{16}{3 \\sqrt[3]{- \\frac{47}{2} + \\frac{45 \\sqrt{7} i}{2}} \\left(- \\frac{1}{2} - \\frac{\\sqrt{3} i}{2}\\right)} - \\frac{\\sqrt[3]{- \\frac{47}{2} + \\frac{45 \\sqrt{7} i}{2}} \\left(- \\frac{1}{2} - \\frac{\\sqrt{3} i}{2}\\right)}{3}, \\frac{1}{3} - \\frac{\\sqrt[3]{- \\frac{47}{2} + \\frac{45 \\sqrt{7} i}{2}} \\left(- \\frac{1}{2} + \\frac{\\sqrt{3} i}{2}\\right)}{3} - \\frac{16}{3 \\sqrt[3]{- \\frac{47}{2} + \\frac{45 \\sqrt{7} i}{2}} \\left(- \\frac{1}{2} + \\frac{\\sqrt{3} i}{2}\\right)}, \\frac{1}{3} - \\frac{\\sqrt[3]{- \\frac{47}{2} + \\frac{45 \\sqrt{7} i}{2}}}{3} - \\frac{16}{3 \\sqrt[3]{- \\frac{47}{2} + \\frac{45 \\sqrt{7} i}{2}}}\\right\\} \\setminus \\left\\{0\\right\\}$"
      ],
      "text/plain": [
       "Complement({1/3 - 16/(3*(-47/2 + 45*sqrt(7)*I/2)**(1/3)*(-1/2 - sqrt(3)*I/2)) - (-47/2 + 45*sqrt(7)*I/2)**(1/3)*(-1/2 - sqrt(3)*I/2)/3, 1/3 - (-47/2 + 45*sqrt(7)*I/2)**(1/3)*(-1/2 + sqrt(3)*I/2)/3 - 16/(3*(-47/2 + 45*sqrt(7)*I/2)**(1/3)*(-1/2 + sqrt(3)*I/2)), 1/3 - (-47/2 + 45*sqrt(7)*I/2)**(1/3)/3 - 16/(3*(-47/2 + 45*sqrt(7)*I/2)**(1/3))}, {0})"
      ]
     },
     "execution_count": 7,
     "metadata": {},
     "output_type": "execute_result"
    }
   ],
   "source": [
    "### DECHRAU DATRYSIAD\n",
    "datrysiad_cyffredinol.subs({beta: 0})\n",
    "### DIWEDD DATRYSIAD"
   ]
  },
  {
   "cell_type": "markdown",
   "metadata": {
    "slideshow": {
     "slide_type": ""
    },
    "tags": []
   },
   "source": [
    "### Cwestiwn 3\n",
    "\n",
    "(__Awgrym__: Mae'r cwestiwn hwn yn debyg i'r [pedwerydd ymarfer ym mhennod Sequences o Python for Mathematics](https://vknight.org/pfm/tools-for-mathematics/07-sequences/solutions/main.html#question-4).)\n",
    "\n",
    "a. Crëwch ffwythiant `generadu_dilyniant` sy'n allbynnu $n$-fed term y dilyniant canlynol:\n",
    "\n",
    "\n",
    "$$\n",
    "a_n =\n",
    "\\begin{cases}\n",
    "    n &n \\in \\{1, 2, 3\\}\\\\\n",
    "    a_{n-1} - a_{n-3}&\\text{os yw }n\\text{ yn odrif}\\\\\n",
    "    p a_{n-2}&\\text{fel arall}\n",
    "\\end{cases}\n",
    "$$\n",
    "\n",
    "Ar gyfer rhyw paramedr $p$.\n",
    "\n",
    "_Marciau ar gael: 7_"
   ]
  },
  {
   "cell_type": "code",
   "execution_count": 8,
   "metadata": {
    "editable": true,
    "slideshow": {
     "slide_type": ""
    },
    "tags": [
     "answer:q3-a"
    ]
   },
   "outputs": [],
   "source": [
    "p = sym.Symbol(\"p\")\n",
    "\n",
    "def generadu_dilyniant(n, p=p):\n",
    "### DECHRAU DATRYSIAD\n",
    "    \"\"\"\n",
    "    Yn allbynnu'r dilyniant sy'n cyfateb i gwestiwn 4.\n",
    "    \"\"\"\n",
    "    if n in {1, 2, 3}:\n",
    "        return n\n",
    "    if n % 2 == 1:\n",
    "        return generadu_dilyniant(n=n - 1, p=p) - generadu_dilyniant(n=n - 3, p=p)\n",
    "    return p * generadu_dilyniant(n=n - 2, p=p)\n",
    "### DIWEDD DATRYSIAD"
   ]
  },
  {
   "cell_type": "markdown",
   "metadata": {
    "slideshow": {
     "slide_type": ""
    },
    "tags": []
   },
   "source": [
    "b. Allbynnwch $a_5$ yn nhermau $p$\n",
    "\n",
    "_Marciau ar gael: 2_"
   ]
  },
  {
   "cell_type": "code",
   "execution_count": 9,
   "metadata": {
    "editable": true,
    "slideshow": {
     "slide_type": ""
    },
    "tags": [
     "answer:q3-b"
    ]
   },
   "outputs": [
    {
     "data": {
      "text/latex": [
       "$\\displaystyle 2 p - 2$"
      ],
      "text/plain": [
       "2*p - 2"
      ]
     },
     "execution_count": 9,
     "metadata": {},
     "output_type": "execute_result"
    }
   ],
   "source": [
    "### DECHRAU DATRYSIAD\n",
    "generadu_dilyniant(n=5, p=p)\n",
    "### DIWEDD DATRYSIAD"
   ]
  },
  {
   "cell_type": "markdown",
   "metadata": {
    "slideshow": {
     "slide_type": ""
    },
    "tags": []
   },
   "source": [
    "c. Output $a_6$ for $p=\\frac{1}{2}$\n",
    "\n",
    "_Marciau ar gael: 6_"
   ]
  },
  {
   "cell_type": "code",
   "execution_count": 10,
   "metadata": {
    "editable": true,
    "slideshow": {
     "slide_type": ""
    },
    "tags": [
     "answer:q3-c"
    ]
   },
   "outputs": [
    {
     "data": {
      "text/latex": [
       "$\\displaystyle \\frac{1}{2}$"
      ],
      "text/plain": [
       "1/2"
      ]
     },
     "execution_count": 10,
     "metadata": {},
     "output_type": "execute_result"
    }
   ],
   "source": [
    "### DECHRAU DATRYSIAD\n",
    "generadu_dilyniant(n=6, p=sym.S(1) / 2)\n",
    "### DIWEDD DATRYSIAD"
   ]
  },
  {
   "cell_type": "markdown",
   "metadata": {
    "slideshow": {
     "slide_type": ""
    },
    "tags": []
   },
   "source": [
    "d. Allbynnwch y set o'r gwerthoedd gall $p$ cymryd sy'n sicrhau bod $a_{10}=a_{11}$.\n",
    "\n",
    "_Marciau ar gael: 9_"
   ]
  },
  {
   "cell_type": "code",
   "execution_count": 11,
   "metadata": {
    "editable": true,
    "slideshow": {
     "slide_type": ""
    },
    "tags": [
     "answer:q3-d"
    ]
   },
   "outputs": [
    {
     "data": {
      "text/latex": [
       "$\\displaystyle \\left\\{0\\right\\}$"
      ],
      "text/plain": [
       "{0}"
      ]
     },
     "execution_count": 11,
     "metadata": {},
     "output_type": "execute_result"
    }
   ],
   "source": [
    "### DECHRAU DATRYSIAD\n",
    "ochr_chwith = generadu_dilyniant(n=10, p=p)\n",
    "ochr_dde = generadu_dilyniant(n=11, p=p)\n",
    "hafaliad = sym.Eq(ochr_chwith, ochr_dde)\n",
    "sym.solveset(hafaliad, p)\n",
    "### DIWEDD DATRYSIAD"
   ]
  },
  {
   "cell_type": "markdown",
   "metadata": {
    "slideshow": {
     "slide_type": ""
    },
    "tags": []
   },
   "source": [
    "##### Cwestiwn 4\n",
    "\n",
    "(__Awgrym__: Mae'r cwestiwn hwn yn defnyddio elfennau o [bennod Matrices o Python for Mathematics](https://vknight.org/pfm/tools-for-mathematics/04-matrices/) yn ogystal â [phennod Statistics o Python for Mathematics](https://vknight.org/pfm/tools-for-mathematics/08-statistics/))\n",
    "\n",
    "a. Crëwch newidyn `determinannau` gyda gwerth rhestr o ddeterminannau pob un o'r matricsau yn y plyg `matricsau`:\n",
    "\n",
    "_Marciau ar gael: 10_"
   ]
  },
  {
   "cell_type": "code",
   "execution_count": 12,
   "metadata": {
    "editable": true,
    "slideshow": {
     "slide_type": ""
    },
    "tags": [
     "answer:q4-a"
    ]
   },
   "outputs": [],
   "source": [
    "matricsau = (\n",
    "    sym.Matrix((1,)),\n",
    "    sym.Matrix(((1, 2), (2, 1))),\n",
    "    sym.Matrix(((3, 0), (0, 1))),\n",
    "    sym.Matrix(((2, 1, 1), (3, 2, 4), (6, 1, -1))),\n",
    "    sym.Matrix(((2, 1, 3), (3, 2, 4), (6, 1, -1))),\n",
    "    sym.Matrix(((6, 2, 3), (3, -2, -4), (6, 1, -1))),\n",
    "    sym.Matrix(((1, 2, 3, 1), (1, 3, -2, -4), (5, 6, 1, -1), (1, 2, -1, -4))),\n",
    "    sym.Matrix(((-4, 3), (1, 1))),\n",
    "    sym.Matrix(((3, 12), (0, 1))),\n",
    ")\n",
    "\n",
    "### DECHRAU DATRYSIAD\n",
    "determinannau = [matrix.det() for matrix in matricsau]\n",
    "### DIWEDD DATRYSIAD"
   ]
  },
  {
   "cell_type": "markdown",
   "metadata": {
    "slideshow": {
     "slide_type": ""
    },
    "tags": []
   },
   "source": [
    "b. Crëwch newidyn `nifer_o_resi` gyda gwerth rhestr gyda'r nifer o resi ym mhob un o'r matricsau yn y plyg `matricsau`:\n",
    "\n",
    "_Marciau ar gael: 12_"
   ]
  },
  {
   "cell_type": "code",
   "execution_count": 13,
   "metadata": {
    "editable": true,
    "slideshow": {
     "slide_type": ""
    },
    "tags": [
     "answer:q4-b"
    ]
   },
   "outputs": [],
   "source": [
    "### DECHRAU DATRYSIAD\n",
    "nifer_o_resi = [matrix.rows for matrix in matricsau]\n",
    "### DIWEDD DATRYSIAD"
   ]
  },
  {
   "cell_type": "markdown",
   "metadata": {
    "raw_mimetype": "",
    "slideshow": {
     "slide_type": ""
    },
    "tags": []
   },
   "source": [
    "c. Allbynnwch y cydberthyniad Pearson rhwng y nifer o resi a'r determinannau.\n",
    "\n",
    "_Marciau ar gael: 3_"
   ]
  },
  {
   "cell_type": "code",
   "execution_count": 14,
   "metadata": {
    "editable": true,
    "slideshow": {
     "slide_type": ""
    },
    "tags": [
     "answer:q4-c"
    ]
   },
   "outputs": [
    {
     "data": {
      "text/plain": [
       "0.6804510993672779"
      ]
     },
     "execution_count": 14,
     "metadata": {},
     "output_type": "execute_result"
    }
   ],
   "source": [
    "import statistics as st\n",
    "\n",
    "### DECHRAU DATRYSIAD\n",
    "st.correlation(nifer_o_resi, determinannau)\n",
    "### DIWEDD DATRYSIAD"
   ]
  },
  {
   "cell_type": "markdown",
   "metadata": {
    "slideshow": {
     "slide_type": ""
    },
    "tags": []
   },
   "source": [
    "d. Crëwch dau newidyn: `graddiant` a `rhyngdoriad` gyda gwerthoedd y graddiant ($a$) a'r rhyngdoriad ($b$) ar gyfer llinell ffit orau yn amcangyfrif y derterminannau fel ffwythiant o'r nifer o resi\n",
    "\n",
    "Marciau ar gael: 3"
   ]
  },
  {
   "cell_type": "code",
   "execution_count": 15,
   "metadata": {
    "editable": true,
    "slideshow": {
     "slide_type": ""
    },
    "tags": [
     "answer:q4-d"
    ]
   },
   "outputs": [],
   "source": [
    "### DECHRAU DATRYSIAD\n",
    "graddiant, rhyngdoriad = st.linear_regression(nifer_o_resi, determinannau)\n",
    "### DIWEDD DATRYSIAD"
   ]
  }
 ],
 "metadata": {
  "celltoolbar": "Tags",
  "kernelspec": {
   "display_name": "Python 3 (ipykernel)",
   "language": "python",
   "name": "python3"
  },
  "language_info": {
   "codemirror_mode": {
    "name": "ipython",
    "version": 3
   },
   "file_extension": ".py",
   "mimetype": "text/x-python",
   "name": "python",
   "nbconvert_exporter": "python",
   "pygments_lexer": "ipython3",
   "version": "3.11.4"
  }
 },
 "nbformat": 4,
 "nbformat_minor": 4
}
