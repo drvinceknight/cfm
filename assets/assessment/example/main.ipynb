{
 "cells": [
  {
   "cell_type": "markdown",
   "metadata": {},
   "source": [
    "### Computing for Mathematics - Example individual coursework\n",
    "\n",
    "This jupyter notebook contains questions that will resemble the questions in your individual coursework.\n",
    "\n",
    "**Important** Do not delete the cells containing: \n",
    "\n",
    "```\n",
    "### BEGIN SOLUTION\n",
    "\n",
    "### END SOLUTION\n",
    "```\n",
    "\n",
    "write your solution attempts in those cells.\n",
    "\n",
    "Note that this notebook also includes some cells that check your answers."
   ]
  },
  {
   "cell_type": "markdown",
   "metadata": {},
   "source": [
    "#### Question 1\n",
    "\n",
    "For each of the following functions **output** \\\\(\\frac{dy}{dx}\\\\).\n",
    "\n",
    "a. \\\\(y= 2 x (x - 3) (x - 5)\\\\)"
   ]
  },
  {
   "cell_type": "code",
   "execution_count": 1,
   "metadata": {
    "tags": [
     "answer:q1-a"
    ]
   },
   "outputs": [
    {
     "data": {
      "text/latex": [
       "$\\displaystyle 2 x \\left(x - 5\\right) + 2 x \\left(x - 3\\right) + \\left(x - 3\\right) \\left(2 x - 10\\right)$"
      ],
      "text/plain": [
       "2*x*(x - 5) + 2*x*(x - 3) + (x - 3)*(2*x - 10)"
      ]
     },
     "execution_count": 1,
     "metadata": {},
     "output_type": "execute_result"
    }
   ],
   "source": [
    "### BEGIN SOLUTION\n",
    "import sympy as sym\n",
    "x = sym.Symbol(\"x\")\n",
    "y = 2 * x * (x - 3) * (x - 5)\n",
    "sym.diff(y, x)\n",
    "### END SOLUTION"
   ]
  },
  {
   "cell_type": "code",
   "execution_count": 2,
   "metadata": {
    "tags": [
     "score:1"
    ]
   },
   "outputs": [],
   "source": [
    "q1_a_answer = _\n",
    "feedback_text = \"\"\"Your output is not a symbolic expression.\n",
    "\n",
    "You are expected to use sympy for this question.\n",
    "\"\"\"\n",
    "try:\n",
    "    assert q1_a_answer.is_algebraic_expr(), feedback_text\n",
    "except AttributeError:\n",
    "    print(feedback_text)"
   ]
  },
  {
   "cell_type": "code",
   "execution_count": 3,
   "metadata": {
    "tags": [
     "score:2"
    ]
   },
   "outputs": [],
   "source": [
    "x = sym.Symbol(\"x\")\n",
    "expected_answer = 2 * x * (x - 5) + 2 * x * (x - 3) + (x - 3) * (2 * x - 10)\n",
    "feedback_text = f\"\"\"Your answer is not correct.\n",
    "\n",
    "The expected answer is {expected_answer}.\"\"\"\n",
    "assert sym.simplify(q1_a_answer - expected_answer) == 0, feedback_text"
   ]
  },
  {
   "cell_type": "markdown",
   "metadata": {},
   "source": [
    "b. y =\\\\(\\frac{3x ^ 3 + 6 \\sqrt{x} + 3) }{ (3  x ^{(1 / 4)})}\\\\)"
   ]
  },
  {
   "cell_type": "code",
   "execution_count": 4,
   "metadata": {
    "tags": [
     "answer:q1-b"
    ]
   },
   "outputs": [
    {
     "data": {
      "text/latex": [
       "$\\displaystyle \\frac{9 x^{2} + \\frac{3}{\\sqrt{x}}}{3 \\sqrt[4]{x}} - \\frac{6 \\sqrt{x} + 3 x^{3} + 3}{12 x^{\\frac{5}{4}}}$"
      ],
      "text/plain": [
       "(9*x**2 + 3/sqrt(x))/(3*x**(1/4)) - (6*sqrt(x) + 3*x**3 + 3)/(12*x**(5/4))"
      ]
     },
     "execution_count": 4,
     "metadata": {},
     "output_type": "execute_result"
    }
   ],
   "source": [
    "### BEGIN SOLUTION\n",
    "y = (3 * x ** 3 + 6 * sym.sqrt(x) + 3) / (3 * x ** (sym.S(1) / 4))\n",
    "sym.diff(y, x)\n",
    "### END SOLUTION"
   ]
  },
  {
   "cell_type": "code",
   "execution_count": 5,
   "metadata": {
    "tags": [
     "score:1"
    ]
   },
   "outputs": [],
   "source": [
    "q1_b_answer = _\n",
    "feedback_text = \"\"\"Your output is not a symbolic expression.\n",
    "\n",
    "You are expected to use sympy for this question.\n",
    "\"\"\"\n",
    "try:\n",
    "    assert q1_b_answer.is_algebraic_expr(), feedback_text\n",
    "except AttributeError:\n",
    "    print(feedback_text)"
   ]
  },
  {
   "cell_type": "code",
   "execution_count": 6,
   "metadata": {
    "tags": [
     "score:2"
    ]
   },
   "outputs": [],
   "source": [
    "x = sym.Symbol(\"x\")\n",
    "expected_answer = sym.diff((3 * x ** 3 + 6 * sym.sqrt(x) + 3) / (3 * x ** (sym.S(1) / 4)), x)\n",
    "feedback_text = f\"\"\"Your answer is not correct.\n",
    "\n",
    "The expected answer is {expected_answer}.\"\"\"\n",
    "assert sym.simplify(q1_b_answer - expected_answer) == 0, feedback_text"
   ]
  },
  {
   "cell_type": "markdown",
   "metadata": {},
   "source": [
    "3. \\\\(y=2 x (x - 3) (x - 5)\\\\)"
   ]
  },
  {
   "cell_type": "code",
   "execution_count": 7,
   "metadata": {
    "tags": [
     "answer:q1-c"
    ]
   },
   "outputs": [
    {
     "data": {
      "text/latex": [
       "$\\displaystyle 2 x \\left(x - 5\\right) + 2 x \\left(x - 3\\right) + \\left(x - 3\\right) \\left(2 x - 10\\right)$"
      ],
      "text/plain": [
       "2*x*(x - 5) + 2*x*(x - 3) + (x - 3)*(2*x - 10)"
      ]
     },
     "execution_count": 7,
     "metadata": {},
     "output_type": "execute_result"
    }
   ],
   "source": [
    "### BEGIN SOLUTION\n",
    "y = 2 * x * (x - 3) * (x - 5)\n",
    "sym.diff(y, x)\n",
    "### END SOLUTION"
   ]
  },
  {
   "cell_type": "code",
   "execution_count": 8,
   "metadata": {
    "tags": [
     "score:1"
    ]
   },
   "outputs": [],
   "source": [
    "q1_c_answer = _\n",
    "feedback_text = \"\"\"Your output is not a symbolic expression.\n",
    "\n",
    "You are expected to use sympy for this question.\n",
    "\"\"\"\n",
    "try:\n",
    "    assert q1_c_answer.is_algebraic_expr(), feedback_text\n",
    "except AttributeError:\n",
    "    print(feedback_text)"
   ]
  },
  {
   "cell_type": "code",
   "execution_count": 9,
   "metadata": {
    "tags": [
     "score:2"
    ]
   },
   "outputs": [],
   "source": [
    "x = sym.Symbol(\"x\")\n",
    "expected_answer = sym.diff(2 * x * (x - 3) * (x - 5), x)\n",
    "feedback_text = f\"\"\"Your answer is not correct.\n",
    "\n",
    "The expected answer is {expected_answer}.\"\"\"\n",
    "assert sym.simplify(q1_c_answer - expected_answer) == 0, feedback_text"
   ]
  },
  {
   "cell_type": "markdown",
   "metadata": {},
   "source": [
    "### Question 2\n",
    "\n",
    "Consider the functions \\\\(f(x)=-x^3+2x^2+3x\\\\) and \\\\(g(x)=-x^3+3x^2-x+3\\\\).\n",
    "\n",
    "a. Create a variable `turning_points` which has value the turning points of \\\\(f(x)\\\\)."
   ]
  },
  {
   "cell_type": "code",
   "execution_count": 10,
   "metadata": {
    "tags": [
     "answer:q2-a"
    ]
   },
   "outputs": [],
   "source": [
    "### BEGIN SOLUTION\n",
    "f = - x ** 3 + 2 * x ** 2 + 3 * x\n",
    "f_dash = sym.diff(f, x)\n",
    "turning_points = sym.solveset(f_dash, x)\n",
    "### END SOLUTION"
   ]
  },
  {
   "cell_type": "code",
   "execution_count": 11,
   "metadata": {
    "tags": [
     "score:1"
    ]
   },
   "outputs": [],
   "source": [
    "feedback_text = \"\"\"\n",
    "Your output is not a sympy Finite Set which is what is expected here.\n",
    "\"\"\"\n",
    "try:\n",
    "    assert type(turning_points) is sym.FiniteSet\n",
    "except NameError:\n",
    "    print(\"You did not create a variable called `turning_points`\")"
   ]
  },
  {
   "cell_type": "code",
   "execution_count": 12,
   "metadata": {
    "tags": [
     "score:2"
    ]
   },
   "outputs": [],
   "source": [
    "expected_answer = sym.solveset(- 3 * x ** 2 + 4 * x + 3, x)\n",
    "feedback_text = f\"\"\"Your answer is not correct.\n",
    "\n",
    "The expected answer is obtained by equating the derivative of f to 0 which gives:\n",
    "\n",
    "{expected_answer}\n",
    "\"\"\"\n",
    "assert set(turning_points) == set(expected_answer), feedback_text"
   ]
  },
  {
   "cell_type": "markdown",
   "metadata": {},
   "source": [
    "b. Create a variable `intersection_points` which has value the points where \\\\(f(x)\\\\) and \\\\(g(x)\\\\) intersect."
   ]
  },
  {
   "cell_type": "code",
   "execution_count": 13,
   "metadata": {
    "tags": [
     "answer:q2-b"
    ]
   },
   "outputs": [],
   "source": [
    "### BEGIN SOLUTION\n",
    "g = - x ** 3 + 3 * x ** 2 - x + 3\n",
    "intersection_points = sym.solveset(sym.Eq(f, g), x)\n",
    "### END SOLUTION"
   ]
  },
  {
   "cell_type": "code",
   "execution_count": 14,
   "metadata": {
    "tags": [
     "score:1"
    ]
   },
   "outputs": [],
   "source": [
    "feedback_text = \"\"\"\n",
    "Your output is not a sympy Finite Set which is what is expected here.\n",
    "\"\"\"\n",
    "try:\n",
    "    assert type(intersection_points) is sym.FiniteSet\n",
    "except NameError:\n",
    "    print(\"You did not create a variable called `turning_points`\")"
   ]
  },
  {
   "cell_type": "code",
   "execution_count": 15,
   "metadata": {
    "tags": [
     "score:2"
    ]
   },
   "outputs": [],
   "source": [
    "expected_answer = sym.FiniteSet(1, 3)\n",
    "feedback_text = f\"\"\"Your answer is not correct.\n",
    "\n",
    "The expected answer is obtained by equating the f and g:\n",
    "\n",
    "{expected_answer}\n",
    "\"\"\"\n",
    "assert set(intersection_points) == set(expected_answer), feedback_text"
   ]
  },
  {
   "cell_type": "markdown",
   "metadata": {},
   "source": [
    "c. Using your answers to parts b., calculate the area of the region between \\\\(f\\\\) and \\\\(g\\\\). Assign this value to a variable `area_of_shaded_region`."
   ]
  },
  {
   "cell_type": "code",
   "execution_count": 39,
   "metadata": {
    "tags": [
     "answer:q2-c"
    ]
   },
   "outputs": [
    {
     "data": {
      "text/latex": [
       "$\\displaystyle \\frac{4}{3}$"
      ],
      "text/plain": [
       "4/3"
      ]
     },
     "execution_count": 39,
     "metadata": {},
     "output_type": "execute_result"
    }
   ],
   "source": [
    "### BEGIN SOLUTION\n",
    "area_of_shaded_region = abs(sym.integrate(f, (x, 1, 3)) - sym.integrate(g, (x, 1, 3)))\n",
    "area_of_shaded_region\n",
    "### END SOLUTION"
   ]
  },
  {
   "cell_type": "code",
   "execution_count": 40,
   "metadata": {
    "tags": [
     "score:1"
    ]
   },
   "outputs": [],
   "source": [
    "feedback_text = \"Your output is not a sympy rational which is expected here\"\n",
    "try:\n",
    "    assert type(area_of_shaded_region) is sym.Rational, feedback_text\n",
    "except NameError:\n",
    "    print(\"You did not create a variable called `area_of_shaded_region`\")"
   ]
  },
  {
   "cell_type": "code",
   "execution_count": 41,
   "metadata": {
    "tags": [
     "score:2"
    ]
   },
   "outputs": [],
   "source": [
    "expected_answer = sym.S(4) / 3\n",
    "feedback_text = f\"\"\"The expected answer is {expected_answer} which is obtained by \n",
    "calculating the definite integral of |f - g| between 1 and 3.\n",
    "\n",
    "\"\"\"\n",
    "assert float(area_of_shaded_region) == float(expected_answer), expected_answer "
   ]
  },
  {
   "cell_type": "markdown",
   "metadata": {},
   "source": [
    "### Question 3\n",
    "\n",
    "Three letters are selected at random from the 8 letters of the word `MONGOLIA`, without regard to order.\n",
    "\n",
    "a. Create a variable `number_of_selections` with value the number of possible selections of 4 letters."
   ]
  },
  {
   "cell_type": "code",
   "execution_count": 19,
   "metadata": {
    "tags": [
     "answer:q3-a"
    ]
   },
   "outputs": [],
   "source": [
    "import itertools\n",
    "### BEGIN SOLUTION\n",
    "letters = \"MONGOLIA\"\n",
    "words = list(itertools.combinations(letters, 4))\n",
    "number_of_selections = len(words)\n",
    "### END SOLUTION"
   ]
  },
  {
   "cell_type": "code",
   "execution_count": 20,
   "metadata": {
    "tags": [
     "score:2"
    ]
   },
   "outputs": [],
   "source": [
    "expected_answer = 70\n",
    "feedback_text = f\"\"\"The expected number of selections is {expected_answer}.\n",
    "\n",
    "This is obtained using the `itertools.combinations` function.\"\"\"\n",
    "try:\n",
    "    assert number_of_selections == expected_answer, feedback_text\n",
    "except NameError:\n",
    "    print(\"You did not create a variable `number_of_selections`\")"
   ]
  },
  {
   "cell_type": "markdown",
   "metadata": {},
   "source": [
    "b. Create a variable `probability_of_selecting_N` with value the probability that the letter `N` is included in the selection."
   ]
  },
  {
   "cell_type": "code",
   "execution_count": 21,
   "metadata": {
    "tags": [
     "answer:q3-b"
    ]
   },
   "outputs": [],
   "source": [
    "### BEGIN SOLUTION\n",
    "probability_of_selecting_N = sum('N' in word for word in words) / len(words)\n",
    "### END SOLUTION"
   ]
  },
  {
   "cell_type": "code",
   "execution_count": 22,
   "metadata": {
    "tags": [
     "score:3"
    ]
   },
   "outputs": [],
   "source": [
    "expected_answer = 35 / 70\n",
    "feedback_text = f\"\"\"The expected probability is {expected_answer}.\n",
    "\n",
    "This is obtained using a conditional summation over the generated words.\"\"\"\n",
    "try:\n",
    "    assert float(probability_of_selecting_N) == float(expected_answer), feedback_text\n",
    "except NameError:\n",
    "    print(\"You did not create a variable `probability_of_selecting_P`\")"
   ]
  },
  {
   "cell_type": "markdown",
   "metadata": {},
   "source": [
    "c. letters are now selected at random, one at a time, from the 8 letters of the word `MONGOLIA`, and are placed in order in a line. Create a variable `probability_of_selecting_GOAL` with value the probability that the 4 letters can form the word `GOAL`."
   ]
  },
  {
   "cell_type": "code",
   "execution_count": 23,
   "metadata": {
    "tags": [
     "answer:q3-c"
    ]
   },
   "outputs": [],
   "source": [
    "### BEGIN SOLUTION\n",
    "words = list(itertools.permutations(letters, 4))\n",
    "probability_of_selecting_GOAL = sum(([\"A\", \"G\", \"L\", \"O\"] == sorted(word)) for word in words) / len(words)\n",
    "### END SOLUTION"
   ]
  },
  {
   "cell_type": "code",
   "execution_count": 24,
   "metadata": {
    "tags": [
     "score:3"
    ]
   },
   "outputs": [
    {
     "name": "stdout",
     "output_type": "stream",
     "text": [
      "You did not create a variable `probability_of_selecting_TOP`\n"
     ]
    }
   ],
   "source": [
    "expected_answer = 48 / 1680\n",
    "feedback_text = f\"\"\"The expected probability is {expected_answer}.\n",
    "\n",
    "This is obtained using a conditional summation over the words generated using `itertools.permutations`.\"\"\"\n",
    "try:\n",
    "    assert np.isclose(probability_of_selecting_GOAL, expected_answer), feedback_text\n",
    "except NameError:\n",
    "    print(\"You did not create a variable `probability_of_selecting_TOP`\")"
   ]
  },
  {
   "cell_type": "markdown",
   "metadata": {},
   "source": [
    "### Question 4\n",
    "\n",
    "A sequence is given by:\n",
    "\n",
    "\\\\[\n",
    "    x_1 = 1\\\\\n",
    "    x_{n + 1}= x_n(p + x_n)\n",
    "\\\\]\n",
    "\n",
    "for \\\\(p\\ne0\\\\).\n",
    "\n",
    "a. Define a python function `generate_x(n, p)` that returns the terms of that sequence."
   ]
  },
  {
   "cell_type": "code",
   "execution_count": 25,
   "metadata": {
    "tags": [
     "answer:q4-a"
    ]
   },
   "outputs": [],
   "source": [
    "def generate_x(n, p):\n",
    "    ### BEGIN SOLUTION\n",
    "    \"\"\"\n",
    "    Gives the nth term of the sequence for a given value of p\n",
    "    \"\"\"\n",
    "    if n == 1:\n",
    "        return 1\n",
    "    previous_x = generate_x(n - 1, p)\n",
    "    return previous_x * (p + previous_x)\n",
    "    ### END SOLUTION"
   ]
  },
  {
   "cell_type": "code",
   "execution_count": 26,
   "metadata": {
    "tags": [
     "score:1"
    ]
   },
   "outputs": [],
   "source": [
    "feedback_text = \"\"\"You did not include a docstring. This is important to help document your code.\n",
    "\n",
    "\n",
    "It is done  using triple quotation marks. For example:\n",
    "\n",
    "def get_remainder(m, n):\n",
    "    \\\"\\\"\\\"\n",
    "    This function returns the remainder of m when dividing by n\n",
    "    \\\"\\\"\\\"\n",
    "    ...\n",
    "\n",
    "Using that it's possible to access the docstring,\n",
    "one way to do this is to type: `get_remainder?`\n",
    "(which only works in Jupyter) or help(get_remainder).\n",
    "\n",
    "We can also comment code using `#` but this is completely\n",
    "ignored by Python so cannot be accessed in the same way.\n",
    "\n",
    "\"\"\"\n",
    "try:\n",
    "    assert  generate_x.__doc__ is not None, feedback_text\n",
    "except NameError:\n",
    "    print(\"You did not create a variable called `area_of_shaded_region`\")"
   ]
  },
  {
   "cell_type": "code",
   "execution_count": 27,
   "metadata": {
    "tags": [
     "score:5"
    ]
   },
   "outputs": [],
   "source": [
    "try:\n",
    "    assert generate_x(n=1, p=2) == 1, f\"Your function did not give the expected answer for n=1, p=2\"\n",
    "    assert generate_x(n=1, p=1) == 1, f\"Your function did not give the expected answer for n=1, p=2\"\n",
    "    assert generate_x(n=5, p=1) == 1806, f\"Your function did not give the expected answer for n=5, p=1\"\n",
    "    assert generate_x(n=5, p=2) == 65535, f\"Your function did not give the expected answer for n=5, p=2\"\n",
    "except NameError:\n",
    "    print(\"You did not create a variable called `area_of_shaded_region`\")"
   ]
  },
  {
   "cell_type": "markdown",
   "metadata": {},
   "source": [
    "b. **Output** an expression for \\\\(x_2\\\\) in terms of \\\\(p\\\\)."
   ]
  },
  {
   "cell_type": "code",
   "execution_count": 28,
   "metadata": {},
   "outputs": [
    {
     "data": {
      "text/latex": [
       "$\\displaystyle p + 1$"
      ],
      "text/plain": [
       "p + 1"
      ]
     },
     "execution_count": 28,
     "metadata": {},
     "output_type": "execute_result"
    }
   ],
   "source": [
    "### BEGIN SOLUTION\n",
    "p = sym.Symbol(\"p\")\n",
    "generate_x(n=2, p=p)\n",
    "### END SOLUTION"
   ]
  },
  {
   "cell_type": "code",
   "execution_count": 29,
   "metadata": {
    "tags": [
     "score:1"
    ]
   },
   "outputs": [],
   "source": [
    "q4_a_answer = _\n",
    "feedback_text = \"\"\"Your output is not a symbolic expression.\n",
    "\n",
    "You are expected to use sympy for this question.\n",
    "\"\"\"\n",
    "try:\n",
    "    assert q4_a_answer.is_algebraic_expr(), feedback_text\n",
    "except AttributeError:\n",
    "    print(feedback_text)"
   ]
  },
  {
   "cell_type": "code",
   "execution_count": 30,
   "metadata": {
    "tags": [
     "score:1"
    ]
   },
   "outputs": [],
   "source": [
    "p = sym.Symbol(\"p\")\n",
    "expected_answer = p + 1\n",
    "feedback_text = f\"\"\"Your answer is not correct.\n",
    "\n",
    "The expected answer is {expected_answer}.\"\"\"\n",
    "assert sym.simplify(q4_a_answer - expected_answer) == 0, feedback_text"
   ]
  },
  {
   "cell_type": "markdown",
   "metadata": {},
   "source": [
    "b. **Output** an expression for \\\\(x_3\\\\) in terms of \\\\(p\\\\)"
   ]
  },
  {
   "cell_type": "code",
   "execution_count": 31,
   "metadata": {
    "tags": [
     "answer:q4-b"
    ]
   },
   "outputs": [
    {
     "data": {
      "text/latex": [
       "$\\displaystyle \\left(p + 1\\right) \\left(2 p + 1\\right)$"
      ],
      "text/plain": [
       "(p + 1)*(2*p + 1)"
      ]
     },
     "execution_count": 31,
     "metadata": {},
     "output_type": "execute_result"
    }
   ],
   "source": [
    "### BEGIN SOLUTION\n",
    "generate_x(3, p=p)\n",
    "### END SOLUTION"
   ]
  },
  {
   "cell_type": "code",
   "execution_count": 32,
   "metadata": {
    "tags": [
     "score:1"
    ]
   },
   "outputs": [],
   "source": [
    "q4_b_answer = _\n",
    "feedback_text = \"\"\"Your output is not a symbolic expression.\n",
    "\n",
    "You are expected to use sympy for this question.\n",
    "\"\"\"\n",
    "try:\n",
    "    assert q4_b_answer.is_algebraic_expr(), feedback_text\n",
    "except AttributeError:\n",
    "    print(feedback_text)"
   ]
  },
  {
   "cell_type": "code",
   "execution_count": 33,
   "metadata": {
    "tags": [
     "score:1"
    ]
   },
   "outputs": [],
   "source": [
    "p = sym.Symbol(\"p\")\n",
    "expected_answer = 2 * p ** 2 + 3 * p + 1\n",
    "feedback_text = f\"\"\"Your answer is not correct.\n",
    "\n",
    "The expected answer is {expected_answer}.\"\"\"\n",
    "assert sym.simplify(q4_b_answer - expected_answer) == 0, feedback_text"
   ]
  },
  {
   "cell_type": "markdown",
   "metadata": {},
   "source": [
    "c. **Output** the values of \\\\(p\\\\) for which \\\\(x_3=1\\\\)."
   ]
  },
  {
   "cell_type": "code",
   "execution_count": 34,
   "metadata": {
    "tags": [
     "answer:q4-c"
    ]
   },
   "outputs": [
    {
     "data": {
      "text/latex": [
       "$\\displaystyle \\left\\{- \\frac{3}{2}, 0\\right\\}$"
      ],
      "text/plain": [
       "FiniteSet(-3/2, 0)"
      ]
     },
     "execution_count": 34,
     "metadata": {},
     "output_type": "execute_result"
    }
   ],
   "source": [
    "### BEGIN SOLUTION\n",
    "sym.solveset(sym.Eq(generate_x(3, p=p), 1), p)\n",
    "### END SOLUTION"
   ]
  },
  {
   "cell_type": "code",
   "execution_count": 35,
   "metadata": {
    "tags": [
     "score:3"
    ]
   },
   "outputs": [],
   "source": [
    "q4_c_answer = _\n",
    "feedback_text = \"\"\"\n",
    "Your output is not a sympy Finite Set which is what is expected here.\n",
    "\"\"\"\n",
    "assert type(q4_c_answer) is sym.FiniteSet, feedback_text"
   ]
  },
  {
   "cell_type": "markdown",
   "metadata": {},
   "source": [
    "d. Using the non zero value of \\\\(p\\\\) calculated in the previous question calculate \\\\(x_n\\\\) for \\\\(n\\in\\{1, 2, 3, 4, 5, 6, 7, 8, 9, 100, 200, 300\\}\\\\) and create a variable `range_of_values` with minimum and maximum value or \\\\(x_n\\\\)."
   ]
  },
  {
   "cell_type": "code",
   "execution_count": 36,
   "metadata": {
    "tags": [
     "answer:q4-d"
    ]
   },
   "outputs": [],
   "source": [
    "values_of_n = [1, 2, 3, 4, 5, 6, 7, 8, 9, 100, 200, 300]\n",
    "### BEGIN SOLUTION\n",
    "values = [generate_x(n=n, p=-sym.S(3) / 2) for n in values_of_n]\n",
    "range_of_values = min(values), max(values)\n",
    "### END SOLUTION"
   ]
  },
  {
   "cell_type": "code",
   "execution_count": 37,
   "metadata": {
    "tags": [
     "score:3"
    ]
   },
   "outputs": [],
   "source": [
    "import numpy as np\n",
    "expected_answer = (- sym.S(1) / 2, 1)\n",
    "expected_answer = np.array(sorted(expected_answer), dtype=np.float64)\n",
    "range_of_values = np.array(sorted(range_of_values), dtype=np.float64)\n",
    "feedback_text = f\"\"\"Your answer is not correct, the expected answer is:\n",
    "\n",
    "{expected_answer}\n",
    "\"\"\"\n",
    "try:\n",
    "    assert np.allclose(expected_answer, range_of_values), feedback_text\n",
    "except NameError:\n",
    "    print(\"You did not create a variable called `all_values_of_n`\")"
   ]
  }
 ],
 "metadata": {
  "celltoolbar": "Tags",
  "kernelspec": {
   "display_name": "Python 3 (ipykernel)",
   "language": "python",
   "name": "python3"
  },
  "language_info": {
   "codemirror_mode": {
    "name": "ipython",
    "version": 3
   },
   "file_extension": ".py",
   "mimetype": "text/x-python",
   "name": "python",
   "nbconvert_exporter": "python",
   "pygments_lexer": "ipython3",
   "version": "3.11.4"
  }
 },
 "nbformat": 4,
 "nbformat_minor": 4
}
