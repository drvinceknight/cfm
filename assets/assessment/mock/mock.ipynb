{
 "cells": [
  {
   "cell_type": "markdown",
   "metadata": {},
   "source": [
    "### Computing for Mathematics - Mock individual coursework\n",
    "\n",
    "This jupyter notebook contains questions that will resemble the questions in your individual coursework.\n",
    "\n",
    "**Important** Do not delete the markdown cells containing the questions. Write your solutions in the cells directly underneath the relevant questions."
   ]
  },
  {
   "cell_type": "markdown",
   "metadata": {},
   "source": [
    "## Question 1\n",
    "\n",
    "By completing the square, show that the minimum point of $f(x) = 5x^2 - 2x + 1$ is $\\left(\\frac{1}{5}, \\frac{4}{5}\\right)$.\n",
    "\n",
    "*Solution*:"
   ]
  },
  {
   "cell_type": "code",
   "execution_count": null,
   "metadata": {},
   "outputs": [],
   "source": []
  },
  {
   "cell_type": "markdown",
   "metadata": {},
   "source": [
    "## Question 2\n",
    "\n",
    "Find the area between the curves $f(x) = x^3 - 9x^2 + 24x - 15$ and $g(x) = -x^2 + 4x + 1$.\n",
    "\n",
    "*Solution*:"
   ]
  },
  {
   "cell_type": "code",
   "execution_count": null,
   "metadata": {},
   "outputs": [],
   "source": []
  },
  {
   "cell_type": "markdown",
   "metadata": {},
   "source": [
    "## Question 3\n",
    "\n",
    "Find the value $a$ which makes the matrix $M = \\begin{pmatrix}3 & 1 & 2 \\\\ 4 & 1 & a \\\\ -1 & 5 & 5\\end{pmatrix}$ singular.\n",
    "\n",
    "*Solution*:"
   ]
  },
  {
   "cell_type": "code",
   "execution_count": null,
   "metadata": {},
   "outputs": [],
   "source": []
  },
  {
   "cell_type": "markdown",
   "metadata": {},
   "source": [
    "## Question 4\n",
    "\n",
    "By enumerating directly, count the number of ways we can choose 3 numbers from $(1, 2, 3, 4, 5, 6, 7, 8, 9)$ such that their sum is less than 12.\n",
    "\n",
    "*Solution*:"
   ]
  },
  {
   "cell_type": "code",
   "execution_count": null,
   "metadata": {},
   "outputs": [],
   "source": []
  },
  {
   "cell_type": "markdown",
   "metadata": {},
   "source": [
    "## Question 5\n",
    "\n",
    "An experiment consists of rolling four fair 6-sided dice and seeing if they can be split into two pairs with equal sums. For example (1, 3, 5, 3) can be split into 1 + 5 = 3 + 3, however this is not true for (2, 1, 2, 5).\n",
    "\n",
    "Write a function to perform this experiment. Repeatedly use the function to estimate the probability of being able to split the dice into pairs with equal sums.\n",
    "\n",
    "*Solution*:"
   ]
  },
  {
   "cell_type": "code",
   "execution_count": null,
   "metadata": {},
   "outputs": [],
   "source": []
  },
  {
   "cell_type": "markdown",
   "metadata": {},
   "source": [
    "## Question 6\n",
    "\n",
    "Consider a sequence defined recursively by\n",
    "\n",
    "$$\n",
    "J_n = \\begin{cases}\n",
    "0 & \\text{if } n = 0,\\\\\n",
    "1 & \\text{if } n = 1, \\\\\n",
    "J_{n-1} + aJ_{n-2} & \\text{if } n > 1\n",
    "\\end{cases}\n",
    "$$\n",
    "\n",
    "Find the value of $a$ if $J_5 = -\\frac{5}{4}$.\n",
    "\n",
    "*Solution*:"
   ]
  },
  {
   "cell_type": "code",
   "execution_count": null,
   "metadata": {},
   "outputs": [],
   "source": []
  },
  {
   "cell_type": "markdown",
   "metadata": {},
   "source": [
    "## Question 7\n",
    "\n",
    "The weight of British strawberries are known to follow a Normal distribution with mean 12g and standard deviation 3.5g. In a barrel of strawberries there are 8500 strawberries, how many would we expect to weigh between 14g and 16g?\n",
    "\n",
    "*Solution*:"
   ]
  },
  {
   "cell_type": "code",
   "execution_count": null,
   "metadata": {},
   "outputs": [],
   "source": []
  },
  {
   "cell_type": "markdown",
   "metadata": {},
   "source": [
    "## Question 7\n",
    "\n",
    "Find the solution to the initial value problem $\\frac{dy}{dx} = -xy$ with $y(0) = \\pi$.\n",
    "\n",
    "*Solution*:"
   ]
  },
  {
   "cell_type": "code",
   "execution_count": null,
   "metadata": {},
   "outputs": [],
   "source": []
  }
 ],
 "metadata": {
  "celltoolbar": "Tags",
  "kernelspec": {
   "display_name": "Python 3 (ipykernel)",
   "language": "python",
   "name": "python3"
  },
  "language_info": {
   "codemirror_mode": {
    "name": "ipython",
    "version": 3
   },
   "file_extension": ".py",
   "mimetype": "text/x-python",
   "name": "python",
   "nbconvert_exporter": "python",
   "pygments_lexer": "ipython3",
   "version": "3.12.6"
  }
 },
 "nbformat": 4,
 "nbformat_minor": 4
}
