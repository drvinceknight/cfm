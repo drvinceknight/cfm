{
 "cells": [
  {
   "cell_type": "markdown",
   "metadata": {},
   "source": [
    "A notebook to plot a histogram of the number of out of contact hours each student self reported."
   ]
  },
  {
   "cell_type": "code",
   "execution_count": 1,
   "metadata": {},
   "outputs": [],
   "source": [
    "import matplotlib.pyplot as plt\n",
    "%matplotlib inline"
   ]
  },
  {
   "cell_type": "code",
   "execution_count": 2,
   "metadata": {},
   "outputs": [],
   "source": [
    "data = [\n",
    "    4.5,\n",
    "    1.5,\n",
    "    2.5,\n",
    "    3,\n",
    "    0,\n",
    "    3,\n",
    "    3,\n",
    "    2.5,\n",
    "    2,\n",
    "    1.5,\n",
    "    2,\n",
    "    1,\n",
    "    1.5,\n",
    "    2,\n",
    "    2.5,\n",
    "    0,\n",
    "    2.5,\n",
    "    2.5,\n",
    "    .5,\n",
    "    0,\n",
    "    1,\n",
    "    1.25,\n",
    "    1.5,\n",
    "    1.5,\n",
    "    1.5,\n",
    "    4,\n",
    "    .5,\n",
    "    .5,\n",
    "]"
   ]
  },
  {
   "cell_type": "code",
   "execution_count": 3,
   "metadata": {
    "tags": [
     "nbval-ignore-output"
    ]
   },
   "outputs": [
    {
     "data": {
      "image/png": "[encoded data removed]",
      "text/plain": [
       "<Figure size 432x288 with 1 Axes>"
      ]
     },
     "metadata": {},
     "output_type": "display_data"
    }
   ],
   "source": [
    "plt.figure()\n",
    "plt.hist(data, bins=15)\n",
    "plt.title(\"Number of non-contact hours\")\n",
    "plt.xlabel(\"Hours\")\n",
    "plt.ylabel(\"Frequency\")\n",
    "plt.savefig(\"plot.pdf\", transparent=True)"
   ]
  }
 ],
 "metadata": {
  "celltoolbar": "Tags",
  "kernelspec": {
   "display_name": "Python [conda root]",
   "language": "python",
   "name": "conda-root-py"
  },
  "language_info": {
   "codemirror_mode": {
    "name": "ipython",
    "version": 3
   },
   "file_extension": ".py",
   "mimetype": "text/x-python",
   "name": "python",
   "nbconvert_exporter": "python",
   "pygments_lexer": "ipython3",
   "version": "3.6.6"
  }
 },
 "nbformat": 4,
 "nbformat_minor": 2
}
