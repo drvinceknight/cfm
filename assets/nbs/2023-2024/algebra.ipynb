{
 "cells": [
  {
   "cell_type": "markdown",
   "id": "723fad38-e20d-4f44-b15c-b286cab326b6",
   "metadata": {},
   "source": [
    "1. Rationalise the following expression: $\\frac{1}{\\sqrt{3} + 1}$.\n",
    "2. Consider the quadratic $f(x) = -x ^ 2 + 8 x - 18$.\n",
    "\n",
    "    1. Calculate the discriminant of the quadratic equation $f(x)=0$. What\n",
    "       does this tell us about the graph of $f(x)$.\n",
    "    2. By completing the square, confirm that $(4, -2)$ is the maximum \n",
    "       point of $f(x)$.\n"
   ]
  },
  {
   "cell_type": "markdown",
   "id": "20645688-7c6b-40f8-b40c-459c70dd101a",
   "metadata": {},
   "source": [
    "## Question 1"
   ]
  },
  {
   "cell_type": "code",
   "execution_count": 6,
   "id": "3760d779-7b8f-48c7-b9b3-48f491e02b78",
   "metadata": {},
   "outputs": [],
   "source": [
    "import sympy"
   ]
  },
  {
   "cell_type": "code",
   "execution_count": 7,
   "id": "7711c697-5a05-4c5c-a039-94de34549445",
   "metadata": {},
   "outputs": [
    {
     "data": {
      "text/latex": [
       "$\\displaystyle \\sqrt{3}$"
      ],
      "text/plain": [
       "sqrt(3)"
      ]
     },
     "execution_count": 7,
     "metadata": {},
     "output_type": "execute_result"
    }
   ],
   "source": [
    "sympy.sqrt(3)"
   ]
  },
  {
   "cell_type": "code",
   "execution_count": 8,
   "id": "33e16c2c-a444-424a-887b-9950a7c6278a",
   "metadata": {},
   "outputs": [],
   "source": [
    "expression = 1 / (sympy.sqrt(3) + 1)"
   ]
  },
  {
   "cell_type": "code",
   "execution_count": 9,
   "id": "1ad90904-d8ea-4ea8-a242-5ce802d5b23e",
   "metadata": {},
   "outputs": [
    {
     "data": {
      "text/latex": [
       "$\\displaystyle \\frac{1}{1 + \\sqrt{3}}$"
      ],
      "text/plain": [
       "1/(1 + sqrt(3))"
      ]
     },
     "execution_count": 9,
     "metadata": {},
     "output_type": "execute_result"
    }
   ],
   "source": [
    "expression"
   ]
  },
  {
   "cell_type": "code",
   "execution_count": 10,
   "id": "4abde1b5-7e46-4c4c-bf3a-9084a01c3cf9",
   "metadata": {},
   "outputs": [
    {
     "data": {
      "text/plain": [
       "0.36602540378443865"
      ]
     },
     "execution_count": 10,
     "metadata": {},
     "output_type": "execute_result"
    }
   ],
   "source": [
    "float(expression)"
   ]
  },
  {
   "cell_type": "code",
   "execution_count": 11,
   "id": "6e16da61-2bf4-4f83-aac0-8f24af249633",
   "metadata": {},
   "outputs": [
    {
     "data": {
      "text/latex": [
       "$\\displaystyle \\frac{1}{1 + \\sqrt{3}}$"
      ],
      "text/plain": [
       "1/(1 + sqrt(3))"
      ]
     },
     "execution_count": 11,
     "metadata": {},
     "output_type": "execute_result"
    }
   ],
   "source": [
    "expression"
   ]
  },
  {
   "cell_type": "code",
   "execution_count": 12,
   "id": "ff4582c5-0798-4dde-b369-0882408c554d",
   "metadata": {},
   "outputs": [
    {
     "data": {
      "text/latex": [
       "$\\displaystyle - \\frac{1}{2} + \\frac{\\sqrt{3}}{2}$"
      ],
      "text/plain": [
       "-1/2 + sqrt(3)/2"
      ]
     },
     "execution_count": 12,
     "metadata": {},
     "output_type": "execute_result"
    }
   ],
   "source": [
    "sympy.simplify(expression)"
   ]
  },
  {
   "cell_type": "markdown",
   "id": "853643ad-9b47-4a0b-8329-f520621e7a95",
   "metadata": {},
   "source": [
    "Question 2"
   ]
  },
  {
   "cell_type": "code",
   "execution_count": 18,
   "id": "87500347-ea36-4907-ae90-6ddc0c0ff618",
   "metadata": {},
   "outputs": [
    {
     "data": {
      "text/latex": [
       "$\\displaystyle - x^{2} + 8 x - 18$"
      ],
      "text/plain": [
       "-x**2 + 8*x - 18"
      ]
     },
     "execution_count": 18,
     "metadata": {},
     "output_type": "execute_result"
    }
   ],
   "source": [
    "x = sympy.Symbol(\"x\")\n",
    "expression = -x ** 2  + 8 * x - 18\n",
    "expression"
   ]
  },
  {
   "cell_type": "code",
   "execution_count": 22,
   "id": "6dc1845f-f110-4cdc-89d7-030754bc30f1",
   "metadata": {},
   "outputs": [
    {
     "data": {
      "text/latex": [
       "$\\displaystyle -8$"
      ],
      "text/plain": [
       "-8"
      ]
     },
     "execution_count": 22,
     "metadata": {},
     "output_type": "execute_result"
    }
   ],
   "source": [
    "sympy.discriminant(expression)"
   ]
  },
  {
   "cell_type": "code",
   "execution_count": 23,
   "id": "8e1490b2-4fd0-4969-8fe2-447237956563",
   "metadata": {},
   "outputs": [
    {
     "data": {
      "text/latex": [
       "$\\displaystyle - x^{2} + 8 x - 18 = 0$"
      ],
      "text/plain": [
       "Eq(-x**2 + 8*x - 18, 0)"
      ]
     },
     "execution_count": 23,
     "metadata": {},
     "output_type": "execute_result"
    }
   ],
   "source": [
    "equation = sympy.Eq(expression, 0)\n",
    "equation"
   ]
  },
  {
   "cell_type": "code",
   "execution_count": 24,
   "id": "8b366cc6-ea9b-4d0d-afaa-82b741d2e440",
   "metadata": {},
   "outputs": [
    {
     "data": {
      "text/latex": [
       "$\\displaystyle \\left\\{4 - \\sqrt{2} i, 4 + \\sqrt{2} i\\right\\}$"
      ],
      "text/plain": [
       "{4 - sqrt(2)*I, 4 + sqrt(2)*I}"
      ]
     },
     "execution_count": 24,
     "metadata": {},
     "output_type": "execute_result"
    }
   ],
   "source": [
    "sympy.solveset(equation)"
   ]
  },
  {
   "cell_type": "code",
   "execution_count": 26,
   "id": "d9d8401d-7dce-4309-a26d-a08acb5bb7b2",
   "metadata": {},
   "outputs": [
    {
     "data": {
      "text/latex": [
       "$\\displaystyle - x^{2} + 8 x - 18$"
      ],
      "text/plain": [
       "-x**2 + 8*x - 18"
      ]
     },
     "execution_count": 26,
     "metadata": {},
     "output_type": "execute_result"
    }
   ],
   "source": [
    "sympy.factor(expression)"
   ]
  },
  {
   "cell_type": "code",
   "execution_count": 27,
   "id": "766c3154-c428-417f-8ad0-b2daa45799fa",
   "metadata": {},
   "outputs": [
    {
     "data": {
      "text/latex": [
       "$\\displaystyle - x^{2} + 8 x - 18$"
      ],
      "text/plain": [
       "-x**2 + 8*x - 18"
      ]
     },
     "execution_count": 27,
     "metadata": {},
     "output_type": "execute_result"
    }
   ],
   "source": [
    "sympy.simplify(expression)"
   ]
  },
  {
   "cell_type": "code",
   "execution_count": 28,
   "id": "2dce7d95-218a-482c-b1a2-2d5935a7e4e7",
   "metadata": {},
   "outputs": [
    {
     "data": {
      "text/latex": [
       "$\\displaystyle - x^{2} + 8 x - 18$"
      ],
      "text/plain": [
       "-x**2 + 8*x - 18"
      ]
     },
     "execution_count": 28,
     "metadata": {},
     "output_type": "execute_result"
    }
   ],
   "source": [
    "sympy.expand(expression)"
   ]
  },
  {
   "cell_type": "code",
   "execution_count": 43,
   "id": "30034d16-d360-4214-9fca-ce829d4bb848",
   "metadata": {},
   "outputs": [
    {
     "data": {
      "text/latex": [
       "$\\displaystyle a \\left(- b + x\\right)^{2} + c$"
      ],
      "text/plain": [
       "a*(-b + x)**2 + c"
      ]
     },
     "execution_count": 43,
     "metadata": {},
     "output_type": "execute_result"
    }
   ],
   "source": [
    "a = sympy.Symbol(\"a\")\n",
    "b = sympy.Symbol(\"b\")\n",
    "c = sympy.Symbol(\"c\")\n",
    "completed_square = a * (x - b) ** 2 + c\n",
    "completed_square"
   ]
  },
  {
   "cell_type": "code",
   "execution_count": 30,
   "id": "b2c93482-bdbb-47f6-951d-472d490e9e64",
   "metadata": {},
   "outputs": [
    {
     "data": {
      "text/latex": [
       "$\\displaystyle a b^{2} - 2 a b x + a x^{2} + c$"
      ],
      "text/plain": [
       "a*b**2 - 2*a*b*x + a*x**2 + c"
      ]
     },
     "execution_count": 30,
     "metadata": {},
     "output_type": "execute_result"
    }
   ],
   "source": [
    "sympy.expand(completed_square)"
   ]
  },
  {
   "cell_type": "code",
   "execution_count": 44,
   "id": "d9f02f58-81e5-4b05-8941-30597a322eed",
   "metadata": {},
   "outputs": [
    {
     "data": {
      "text/latex": [
       "$\\displaystyle a \\left(- b + x\\right)^{2} + c$"
      ],
      "text/plain": [
       "a*(-b + x)**2 + c"
      ]
     },
     "execution_count": 44,
     "metadata": {},
     "output_type": "execute_result"
    }
   ],
   "source": [
    "completed_square"
   ]
  },
  {
   "cell_type": "code",
   "execution_count": 45,
   "id": "05daf69d-90ee-44e2-bd8e-7aebce97c5a5",
   "metadata": {},
   "outputs": [
    {
     "data": {
      "text/latex": [
       "$\\displaystyle - x^{2} + 8 x - 18$"
      ],
      "text/plain": [
       "-x**2 + 8*x - 18"
      ]
     },
     "execution_count": 45,
     "metadata": {},
     "output_type": "execute_result"
    }
   ],
   "source": [
    "expression"
   ]
  },
  {
   "cell_type": "code",
   "execution_count": 46,
   "id": "8f88b4bf-336f-4d32-b578-04e9dd43965a",
   "metadata": {},
   "outputs": [
    {
     "data": {
      "text/latex": [
       "$\\displaystyle - x^{2} + 8 x - 18$"
      ],
      "text/plain": [
       "-x**2 + 8*x - 18"
      ]
     },
     "execution_count": 46,
     "metadata": {},
     "output_type": "execute_result"
    }
   ],
   "source": [
    "expression"
   ]
  },
  {
   "cell_type": "code",
   "execution_count": 47,
   "id": "09108334-cc24-4dbb-9296-883d5ffcb98c",
   "metadata": {},
   "outputs": [],
   "source": [
    "completed_square = completed_square.subs({a: -1})"
   ]
  },
  {
   "cell_type": "code",
   "execution_count": 48,
   "id": "6b85c8f6-539d-4544-99d1-69efc25198a0",
   "metadata": {},
   "outputs": [
    {
     "data": {
      "text/latex": [
       "$\\displaystyle - b^{2} + 2 b x + c - x^{2}$"
      ],
      "text/plain": [
       "-b**2 + 2*b*x + c - x**2"
      ]
     },
     "execution_count": 48,
     "metadata": {},
     "output_type": "execute_result"
    }
   ],
   "source": [
    "sympy.expand(completed_square)"
   ]
  },
  {
   "cell_type": "code",
   "execution_count": 49,
   "id": "09f53237-24e2-4e6b-9850-1a82e6ce1ca6",
   "metadata": {},
   "outputs": [
    {
     "data": {
      "text/latex": [
       "$\\displaystyle \\left\\{4\\right\\}$"
      ],
      "text/plain": [
       "{4}"
      ]
     },
     "execution_count": 49,
     "metadata": {},
     "output_type": "execute_result"
    }
   ],
   "source": [
    "sympy.solveset(2 * b - 8, b)"
   ]
  },
  {
   "cell_type": "code",
   "execution_count": 50,
   "id": "71ba74c9-01b7-40b1-a31e-af09d2ddc341",
   "metadata": {},
   "outputs": [
    {
     "data": {
      "text/latex": [
       "$\\displaystyle c - \\left(x - 4\\right)^{2}$"
      ],
      "text/plain": [
       "c - (x - 4)**2"
      ]
     },
     "execution_count": 50,
     "metadata": {},
     "output_type": "execute_result"
    }
   ],
   "source": [
    "completed_square = completed_square.subs({b: 4})\n",
    "completed_square"
   ]
  },
  {
   "cell_type": "code",
   "execution_count": 51,
   "id": "aa681012-0145-41e8-9155-979b3f60f5b2",
   "metadata": {},
   "outputs": [
    {
     "data": {
      "text/latex": [
       "$\\displaystyle c - x^{2} + 8 x - 16$"
      ],
      "text/plain": [
       "c - x**2 + 8*x - 16"
      ]
     },
     "execution_count": 51,
     "metadata": {},
     "output_type": "execute_result"
    }
   ],
   "source": [
    "sympy.expand(completed_square)"
   ]
  },
  {
   "cell_type": "code",
   "execution_count": null,
   "id": "203cb7be-f820-4a3d-92a2-a375feaa3221",
   "metadata": {},
   "outputs": [],
   "source": []
  }
 ],
 "metadata": {
  "kernelspec": {
   "display_name": "Python 3 (ipykernel)",
   "language": "python",
   "name": "python3"
  },
  "language_info": {
   "codemirror_mode": {
    "name": "ipython",
    "version": 3
   },
   "file_extension": ".py",
   "mimetype": "text/x-python",
   "name": "python",
   "nbconvert_exporter": "python",
   "pygments_lexer": "ipython3",
   "version": "3.11.4"
  }
 },
 "nbformat": 4,
 "nbformat_minor": 5
}
