{
 "cells": [
  {
   "cell_type": "markdown",
   "id": "76fc7f8a-db32-4abe-849e-5a0e4143b6f0",
   "metadata": {},
   "source": [
    "# Calculus\n",
    "\n",
    "Consider the function $f(x)= x ^ 3 - ax ^ 2 + bx - 5$\n",
    "\n",
    "1. Given that $\\frac{df}{dx}|_{x=0}=0$, $\\frac{d^2f}{dx^2}|_{x=0}=5$ find the values of $a$ and $b$.\n",
    "2. For the specific values of $a$ and $b$ find:\n",
    "    1. $\\lim_{x\\to 0}f(x)$;\n",
    "    2. $\\lim_{x\\to \\infty}f(x)$;\n",
    "    3. $\\int f(x) dx$;\n",
    "    4. $\\int_{5}^{\\pi} f(x) dx$.\n"
   ]
  },
  {
   "cell_type": "markdown",
   "id": "20a949c6-cf97-4514-bde6-732b31fc40a0",
   "metadata": {},
   "source": [
    "Let us define $f$:"
   ]
  },
  {
   "cell_type": "code",
   "execution_count": 1,
   "id": "fb46b410-8116-4db9-a271-e13730d2de16",
   "metadata": {},
   "outputs": [
    {
     "data": {
      "text/latex": [
       "$\\displaystyle - a x^{2} + b x + x^{3} - 5$"
      ],
      "text/plain": [
       "-a*x**2 + b*x + x**3 - 5"
      ]
     },
     "execution_count": 1,
     "metadata": {},
     "output_type": "execute_result"
    }
   ],
   "source": [
    "import sympy as sym\n",
    "x = sym.Symbol(\"x\")\n",
    "a = sym.Symbol(\"a\")\n",
    "b = sym.Symbol(\"b\")\n",
    "expression = x ** 3 - a * x ** 2 + b * x - 5\n",
    "expression"
   ]
  },
  {
   "cell_type": "markdown",
   "id": "4147e97f-ac32-4fed-99b7-2d645d9da558",
   "metadata": {},
   "source": [
    "Let us compute the first derivative of $f$: $\\frac{df}{dx}$"
   ]
  },
  {
   "cell_type": "code",
   "execution_count": 2,
   "id": "8a8d7b54-fc86-45fa-bd9b-42b7e0b04f83",
   "metadata": {},
   "outputs": [
    {
     "data": {
      "text/latex": [
       "$\\displaystyle - 2 a x + b + 3 x^{2}$"
      ],
      "text/plain": [
       "-2*a*x + b + 3*x**2"
      ]
     },
     "execution_count": 2,
     "metadata": {},
     "output_type": "execute_result"
    }
   ],
   "source": [
    "first_derivative = sym.diff(expression, x)\n",
    "first_derivative"
   ]
  },
  {
   "cell_type": "markdown",
   "id": "d6ce97ff-0ab8-4233-86c1-17186019f569",
   "metadata": {},
   "source": [
    "Let us write down the first equation that corresponds to substituting $x=0$ in to this expression:"
   ]
  },
  {
   "cell_type": "code",
   "execution_count": 3,
   "id": "c5c4872f-1701-4e14-a5a9-7ccc8b7a2494",
   "metadata": {},
   "outputs": [
    {
     "data": {
      "text/latex": [
       "$\\displaystyle b = 0$"
      ],
      "text/plain": [
       "Eq(b, 0)"
      ]
     },
     "execution_count": 3,
     "metadata": {},
     "output_type": "execute_result"
    }
   ],
   "source": [
    "first_equation = sym.Eq(first_derivative.subs({x: 0}), 0)\n",
    "first_equation"
   ]
  },
  {
   "cell_type": "markdown",
   "id": "71c909c5-bf7b-43c0-98af-4f6c2737ebd7",
   "metadata": {},
   "source": [
    "We have our value for $b$, we will be able to substitute this in to the second equation. Let us write down the second equation now, this corresponds to the value of the second derivative: $\\frac{d^2f}{dx^2}$"
   ]
  },
  {
   "cell_type": "code",
   "execution_count": 4,
   "id": "c80747c8-e131-4dda-908b-c9d0945a2400",
   "metadata": {},
   "outputs": [
    {
     "data": {
      "text/latex": [
       "$\\displaystyle 2 \\left(- a + 3 x\\right)$"
      ],
      "text/plain": [
       "2*(-a + 3*x)"
      ]
     },
     "execution_count": 4,
     "metadata": {},
     "output_type": "execute_result"
    }
   ],
   "source": [
    "second_derivative = sym.diff(expression, x, 2)\n",
    "second_derivative"
   ]
  },
  {
   "cell_type": "markdown",
   "id": "de12f5c9-b0a8-4973-ad0f-7192aeefd9ea",
   "metadata": {},
   "source": [
    "This does not immediately give us a value for $a$, the second equation is:\n",
    "\n",
    "$$\\left.\\frac{d^2f}{dx^2}\\right|_{x=0} = 5$$"
   ]
  },
  {
   "cell_type": "code",
   "execution_count": 5,
   "id": "4565ff54-1414-44ff-8266-bc553f15244c",
   "metadata": {},
   "outputs": [
    {
     "data": {
      "text/latex": [
       "$\\displaystyle - 2 a = 5$"
      ],
      "text/plain": [
       "Eq(-2*a, 5)"
      ]
     },
     "execution_count": 5,
     "metadata": {},
     "output_type": "execute_result"
    }
   ],
   "source": [
    "second_equation = sym.Eq(second_derivative.subs({x: 0}), 5)\n",
    "second_equation"
   ]
  },
  {
   "cell_type": "code",
   "execution_count": 6,
   "id": "5e9c4dec-66ee-43da-8890-884b6a2195bf",
   "metadata": {},
   "outputs": [
    {
     "data": {
      "text/latex": [
       "$\\displaystyle \\left\\{- \\frac{5}{2}\\right\\}$"
      ],
      "text/plain": [
       "{-5/2}"
      ]
     },
     "execution_count": 6,
     "metadata": {},
     "output_type": "execute_result"
    }
   ],
   "source": [
    "sym.solveset(second_equation, a)"
   ]
  },
  {
   "cell_type": "code",
   "execution_count": 9,
   "id": "dbc98e23-a176-425c-a43e-d7dcf9ba1c9e",
   "metadata": {},
   "outputs": [
    {
     "data": {
      "text/latex": [
       "$\\displaystyle x^{3} - 2.5 x^{2} - 5$"
      ],
      "text/plain": [
       "x**3 - 2.5*x**2 - 5"
      ]
     },
     "execution_count": 9,
     "metadata": {},
     "output_type": "execute_result"
    }
   ],
   "source": [
    "expression.subs({b: 0, a: 5 / 2})"
   ]
  },
  {
   "cell_type": "code",
   "execution_count": 31,
   "id": "79fbe2d4-e2f7-4b0b-a16e-9e3e62c87c22",
   "metadata": {},
   "outputs": [],
   "source": [
    "particular_expression = expression.subs({b: 0, a: -sym.S(5) / 2})"
   ]
  },
  {
   "cell_type": "code",
   "execution_count": 32,
   "id": "b1acd192-a115-416b-bfe0-8dc718d34e54",
   "metadata": {},
   "outputs": [
    {
     "data": {
      "text/latex": [
       "$\\displaystyle x^{3} + \\frac{5 x^{2}}{2} - 5$"
      ],
      "text/plain": [
       "x**3 + 5*x**2/2 - 5"
      ]
     },
     "execution_count": 32,
     "metadata": {},
     "output_type": "execute_result"
    }
   ],
   "source": [
    "particular_expression"
   ]
  },
  {
   "cell_type": "markdown",
   "id": "a8f46604-fca1-46a6-8054-149dea725195",
   "metadata": {},
   "source": [
    "Now to compute the limits we take:"
   ]
  },
  {
   "cell_type": "code",
   "execution_count": 33,
   "id": "82f4e026-b268-4126-b4b1-6020582dbc2b",
   "metadata": {},
   "outputs": [
    {
     "data": {
      "text/latex": [
       "$\\displaystyle -5$"
      ],
      "text/plain": [
       "-5"
      ]
     },
     "execution_count": 33,
     "metadata": {},
     "output_type": "execute_result"
    }
   ],
   "source": [
    "sym.limit(particular_expression, x, 0)"
   ]
  },
  {
   "cell_type": "code",
   "execution_count": 34,
   "id": "85559d14-0e8a-48d3-9095-a287cacbb35a",
   "metadata": {},
   "outputs": [
    {
     "data": {
      "text/latex": [
       "$\\displaystyle \\infty$"
      ],
      "text/plain": [
       "oo"
      ]
     },
     "execution_count": 34,
     "metadata": {},
     "output_type": "execute_result"
    }
   ],
   "source": [
    "sym.limit(particular_expression, x, sym.oo)"
   ]
  },
  {
   "cell_type": "markdown",
   "id": "cdb14391-4a16-4f3a-9b43-9584583c047d",
   "metadata": {},
   "source": [
    "Now to calculate the integrals:"
   ]
  },
  {
   "cell_type": "code",
   "execution_count": 35,
   "id": "387bb87b-d8f1-46f8-9950-054fa40d371d",
   "metadata": {},
   "outputs": [
    {
     "data": {
      "text/latex": [
       "$\\displaystyle \\frac{x^{4}}{4} + \\frac{5 x^{3}}{6} - 5 x$"
      ],
      "text/plain": [
       "x**4/4 + 5*x**3/6 - 5*x"
      ]
     },
     "execution_count": 35,
     "metadata": {},
     "output_type": "execute_result"
    }
   ],
   "source": [
    "sym.integrate(particular_expression, x)"
   ]
  },
  {
   "cell_type": "markdown",
   "id": "a707a748-a2de-4b96-80f2-623044e3005e",
   "metadata": {},
   "source": [
    "Now for the definite integral:"
   ]
  },
  {
   "cell_type": "code",
   "execution_count": 36,
   "id": "9f050be7-077b-4f0e-b159-404aaef4c49f",
   "metadata": {},
   "outputs": [
    {
     "data": {
      "text/latex": [
       "$\\displaystyle - \\frac{2825}{12} - 5 \\pi + \\frac{\\pi^{4}}{4} + \\frac{5 \\pi^{3}}{6}$"
      ],
      "text/plain": [
       "-2825/12 - 5*pi + pi**4/4 + 5*pi**3/6"
      ]
     },
     "execution_count": 36,
     "metadata": {},
     "output_type": "execute_result"
    }
   ],
   "source": [
    "answer_to_question_c = sym.integrate(particular_expression, (x, 5, sym.pi))\n",
    "answer_to_question_c"
   ]
  },
  {
   "cell_type": "code",
   "execution_count": 37,
   "id": "d258564f-5b3d-42ae-aae6-45717033d7e5",
   "metadata": {},
   "outputs": [
    {
     "data": {
      "text/latex": [
       "$\\displaystyle \\frac{\\left(-5 + \\pi\\right) \\left(3 \\pi^{3} + 25 \\pi^{2} + 125 \\pi + 565\\right)}{12}$"
      ],
      "text/plain": [
       "(-5 + pi)*(3*pi**3 + 25*pi**2 + 125*pi + 565)/12"
      ]
     },
     "execution_count": 37,
     "metadata": {},
     "output_type": "execute_result"
    }
   ],
   "source": [
    "sym.factor(answer_to_question_c)"
   ]
  },
  {
   "cell_type": "markdown",
   "id": "fb1d5412-ab3a-4919-bb51-022ccae94032",
   "metadata": {},
   "source": [
    "I do not like how the $\\pi$s are ordered here, here it is written differently:\n",
    "\n",
    "$$\\frac{(\\pi - 5)(3\\pi^3+5\\pi^2+25\\pi+65)}{12}$$"
   ]
  },
  {
   "cell_type": "code",
   "execution_count": 30,
   "id": "728463e0-0ca7-4a34-b4e0-df5e2fcf4add",
   "metadata": {},
   "outputs": [
    {
     "data": {
      "text/latex": [
       "$\\displaystyle \\frac{1}{2}$"
      ],
      "text/plain": [
       "1/2"
      ]
     },
     "execution_count": 30,
     "metadata": {},
     "output_type": "execute_result"
    }
   ],
   "source": [
    "sym.S(2) / 4"
   ]
  },
  {
   "cell_type": "code",
   "execution_count": null,
   "id": "7557a871-bfa7-4270-ae7b-b354abf842f5",
   "metadata": {},
   "outputs": [],
   "source": []
  }
 ],
 "metadata": {
  "kernelspec": {
   "display_name": "Python 3 (ipykernel)",
   "language": "python",
   "name": "python3"
  },
  "language_info": {
   "codemirror_mode": {
    "name": "ipython",
    "version": 3
   },
   "file_extension": ".py",
   "mimetype": "text/x-python",
   "name": "python",
   "nbconvert_exporter": "python",
   "pygments_lexer": "ipython3",
   "version": "3.11.4"
  }
 },
 "nbformat": 4,
 "nbformat_minor": 5
}
