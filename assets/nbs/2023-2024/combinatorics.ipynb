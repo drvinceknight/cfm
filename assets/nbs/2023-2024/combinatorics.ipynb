{
 "cells": [
  {
   "cell_type": "markdown",
   "id": "66d8bc5a-9ab3-440b-95c1-ad72e6559376",
   "metadata": {},
   "source": [
    "1. Create a `variable number_of_permutations` that gives the number of permutations of size 4 of: \n",
    "`pets = (\"cat\", \"dog\", \"fish\", \"lizard\", \"hamster\")`\n",
    "Do this by generating and counting them.\n",
    "\n",
    "2. Create a variable `direct_number_of_permutations` that gives the number of permutations of pets of size 4 by direct computation."
   ]
  },
  {
   "cell_type": "code",
   "execution_count": 6,
   "id": "b7244c05-66dc-484c-8af7-5b57bf8d0db3",
   "metadata": {},
   "outputs": [],
   "source": [
    "import itertools\n",
    "\n",
    "### CW GOES HERE\n",
    "pets = (\"fish\", \"lizard\", \"hamster\")\n",
    "permutations = tuple(itertools.permutations(pets, 2))\n",
    "number_of_permutations = len(permutations)\n",
    "### CW GOES HERE"
   ]
  },
  {
   "cell_type": "code",
   "execution_count": 7,
   "id": "e3bf8504-bc1e-4f50-a993-09cfa53f7f46",
   "metadata": {},
   "outputs": [
    {
     "data": {
      "text/plain": [
       "('fish', 'lizard', 'hamster')"
      ]
     },
     "execution_count": 7,
     "metadata": {},
     "output_type": "execute_result"
    }
   ],
   "source": [
    "pets"
   ]
  },
  {
   "cell_type": "code",
   "execution_count": 8,
   "id": "4a5f6bb2-75bb-4591-bd0a-6d777a35a0dc",
   "metadata": {},
   "outputs": [
    {
     "data": {
      "text/plain": [
       "120.0"
      ]
     },
     "execution_count": 8,
     "metadata": {},
     "output_type": "execute_result"
    }
   ],
   "source": [
    "import scipy.special\n",
    "\n",
    "direct_number_of_permutations = scipy.special.perm(5, 4)\n",
    "direct_number_of_permutations"
   ]
  },
  {
   "cell_type": "code",
   "execution_count": 9,
   "id": "a1626ce7-1872-42a5-90c3-adaccd042e75",
   "metadata": {},
   "outputs": [
    {
     "data": {
      "text/plain": [
       "7"
      ]
     },
     "execution_count": 9,
     "metadata": {},
     "output_type": "execute_result"
    }
   ],
   "source": [
    "a = 7\n",
    "a"
   ]
  },
  {
   "cell_type": "code",
   "execution_count": 10,
   "id": "7eb3d07a-f5c8-4b70-9e6e-5f7b0ced6a13",
   "metadata": {},
   "outputs": [
    {
     "data": {
      "text/plain": [
       "int"
      ]
     },
     "execution_count": 10,
     "metadata": {},
     "output_type": "execute_result"
    }
   ],
   "source": [
    "type(a)"
   ]
  },
  {
   "cell_type": "code",
   "execution_count": 11,
   "id": "b74f3fa1-f8c8-44e0-8556-c540eaecfe2c",
   "metadata": {},
   "outputs": [
    {
     "data": {
      "text/plain": [
       "'7'"
      ]
     },
     "execution_count": 11,
     "metadata": {},
     "output_type": "execute_result"
    }
   ],
   "source": [
    "a_as_string = \"7\"\n",
    "a_as_string"
   ]
  },
  {
   "cell_type": "code",
   "execution_count": 12,
   "id": "185ac55b-edc3-4254-9233-eb70a01514f8",
   "metadata": {},
   "outputs": [
    {
     "data": {
      "text/plain": [
       "str"
      ]
     },
     "execution_count": 12,
     "metadata": {},
     "output_type": "execute_result"
    }
   ],
   "source": [
    "type(a_as_string)"
   ]
  },
  {
   "cell_type": "code",
   "execution_count": 13,
   "id": "85dd66ac-0c4d-4a77-874d-fcd18ee7f2ba",
   "metadata": {},
   "outputs": [
    {
     "data": {
      "text/plain": [
       "'7Vince'"
      ]
     },
     "execution_count": 13,
     "metadata": {},
     "output_type": "execute_result"
    }
   ],
   "source": [
    "other_string = \"Vince\"\n",
    "a_as_string + other_string"
   ]
  },
  {
   "cell_type": "code",
   "execution_count": 14,
   "id": "814bb371-db39-4ccf-9f7f-a5c0a3e30f33",
   "metadata": {},
   "outputs": [
    {
     "ename": "TypeError",
     "evalue": "unsupported operand type(s) for +: 'int' and 'str'",
     "output_type": "error",
     "traceback": [
      "\u001b[0;31m---------------------------------------------------------------------------\u001b[0m",
      "\u001b[0;31mTypeError\u001b[0m                                 Traceback (most recent call last)",
      "Cell \u001b[0;32mIn[14], line 1\u001b[0m\n\u001b[0;32m----> 1\u001b[0m \u001b[43ma\u001b[49m\u001b[43m \u001b[49m\u001b[38;5;241;43m+\u001b[39;49m\u001b[43m \u001b[49m\u001b[43mother_string\u001b[49m\n",
      "\u001b[0;31mTypeError\u001b[0m: unsupported operand type(s) for +: 'int' and 'str'"
     ]
    }
   ],
   "source": [
    "a + other_string"
   ]
  },
  {
   "cell_type": "code",
   "execution_count": 15,
   "id": "ff2f5f3a-7045-4b0b-8804-7fc60e403e46",
   "metadata": {},
   "outputs": [
    {
     "data": {
      "text/plain": [
       "2.0"
      ]
     },
     "execution_count": 15,
     "metadata": {},
     "output_type": "execute_result"
    }
   ],
   "source": [
    "14 / a"
   ]
  },
  {
   "cell_type": "code",
   "execution_count": 16,
   "id": "53966aad-aa7f-40dc-a751-1100816ecff3",
   "metadata": {},
   "outputs": [
    {
     "data": {
      "text/plain": [
       "2.142857142857143"
      ]
     },
     "execution_count": 16,
     "metadata": {},
     "output_type": "execute_result"
    }
   ],
   "source": [
    "15 / a"
   ]
  },
  {
   "cell_type": "code",
   "execution_count": 17,
   "id": "f9d58503-bda3-42ef-ac93-686dad7783fd",
   "metadata": {},
   "outputs": [
    {
     "data": {
      "text/plain": [
       "2"
      ]
     },
     "execution_count": 17,
     "metadata": {},
     "output_type": "execute_result"
    }
   ],
   "source": [
    "14 // a"
   ]
  },
  {
   "cell_type": "code",
   "execution_count": 18,
   "id": "8c799974-f4b0-4222-8fb7-11397d3e32a5",
   "metadata": {},
   "outputs": [
    {
     "data": {
      "text/plain": [
       "2"
      ]
     },
     "execution_count": 18,
     "metadata": {},
     "output_type": "execute_result"
    }
   ],
   "source": [
    "15 // a"
   ]
  }
 ],
 "metadata": {
  "kernelspec": {
   "display_name": "Python 3 (ipykernel)",
   "language": "python",
   "name": "python3"
  },
  "language_info": {
   "codemirror_mode": {
    "name": "ipython",
    "version": 3
   },
   "file_extension": ".py",
   "mimetype": "text/x-python",
   "name": "python",
   "nbconvert_exporter": "python",
   "pygments_lexer": "ipython3",
   "version": "3.11.4"
  }
 },
 "nbformat": 4,
 "nbformat_minor": 5
}
