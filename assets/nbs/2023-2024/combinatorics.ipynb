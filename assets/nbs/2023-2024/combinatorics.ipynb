{
 "cells": [
  {
   "cell_type": "markdown",
   "id": "0e783c18-edf3-4d96-be1c-bef5ce8fab04",
   "metadata": {},
   "source": [
    "# Combinatorics\n",
    "\n",
    "\n",
    "The digits 1, 2, 3 and 4 are arranged in random order, to form a four-digit\n",
    "number.\n",
    "\n",
    "1. How many different four-digit numbers can be formed?\n",
    "2. How many different four-digit numbers:\n",
    "   1. Are even.\n",
    "   2. Are less than 4000.\n"
   ]
<<<<<<< Updated upstream
=======
  },
  {
   "cell_type": "markdown",
   "id": "1e690b61-ac6d-43fd-86a9-2ac7cc159ee5",
   "metadata": {},
   "source": [
    "Let us start by creating the numbers from 1 to 4:"
   ]
  },
  {
   "cell_type": "code",
   "execution_count": 1,
   "id": "d4549c95-e3e9-4ec4-a923-c22c855f8c4b",
   "metadata": {},
   "outputs": [
    {
     "data": {
      "text/plain": [
       "range(1, 5)"
      ]
     },
     "execution_count": 1,
     "metadata": {},
     "output_type": "execute_result"
    }
   ],
   "source": [
    "digits = range(1, 5)\n",
    "digits"
   ]
  },
  {
   "cell_type": "code",
   "execution_count": 2,
   "id": "93c086ca-80e1-417c-a533-9857516025f4",
   "metadata": {},
   "outputs": [],
   "source": [
    "import itertools"
   ]
  },
  {
   "cell_type": "code",
   "execution_count": 5,
   "id": "20db0b74-f9fd-4ea6-b4fc-16c1b0ae68cd",
   "metadata": {},
   "outputs": [
    {
     "data": {
      "text/plain": [
       "((1, 2, 3, 4),\n",
       " (1, 2, 4, 3),\n",
       " (1, 3, 2, 4),\n",
       " (1, 3, 4, 2),\n",
       " (1, 4, 2, 3),\n",
       " (1, 4, 3, 2),\n",
       " (2, 1, 3, 4),\n",
       " (2, 1, 4, 3),\n",
       " (2, 3, 1, 4),\n",
       " (2, 3, 4, 1),\n",
       " (2, 4, 1, 3),\n",
       " (2, 4, 3, 1),\n",
       " (3, 1, 2, 4),\n",
       " (3, 1, 4, 2),\n",
       " (3, 2, 1, 4),\n",
       " (3, 2, 4, 1),\n",
       " (3, 4, 1, 2),\n",
       " (3, 4, 2, 1),\n",
       " (4, 1, 2, 3),\n",
       " (4, 1, 3, 2),\n",
       " (4, 2, 1, 3),\n",
       " (4, 2, 3, 1),\n",
       " (4, 3, 1, 2),\n",
       " (4, 3, 2, 1))"
      ]
     },
     "execution_count": 5,
     "metadata": {},
     "output_type": "execute_result"
    }
   ],
   "source": [
    "permutations = tuple(itertools.permutations(digits))\n",
    "permutations"
   ]
  },
  {
   "cell_type": "markdown",
   "id": "97ffe8fd-8144-423b-8c3b-ba5e318cff65",
   "metadata": {},
   "source": [
    "I can now get the length of permutations to see how many there are:"
   ]
  },
  {
   "cell_type": "code",
   "execution_count": 6,
   "id": "03353e3e-514e-4b58-b561-d40bbd394913",
   "metadata": {},
   "outputs": [
    {
     "data": {
      "text/plain": [
       "24"
      ]
     },
     "execution_count": 6,
     "metadata": {},
     "output_type": "execute_result"
    }
   ],
   "source": [
    "len(permutations)"
   ]
  },
  {
   "cell_type": "code",
   "execution_count": 7,
   "id": "13d2ee57-d458-480b-afde-0b86e9235ab7",
   "metadata": {},
   "outputs": [],
   "source": [
    "import math"
   ]
  },
  {
   "cell_type": "code",
   "execution_count": 8,
   "id": "a27992f9-4c31-4bdd-80d2-74a45c137160",
   "metadata": {},
   "outputs": [
    {
     "data": {
      "text/plain": [
       "24"
      ]
     },
     "execution_count": 8,
     "metadata": {},
     "output_type": "execute_result"
    }
   ],
   "source": [
    "math.factorial(4)"
   ]
  },
  {
   "cell_type": "code",
   "execution_count": 10,
   "id": "961d8dc9-5c60-47e8-9417-600b70390edb",
   "metadata": {},
   "outputs": [
    {
     "data": {
      "text/plain": [
       "((1, 2, 3, 4),\n",
       " (1, 2, 4, 3),\n",
       " (1, 3, 2, 4),\n",
       " (1, 3, 4, 2),\n",
       " (1, 4, 2, 3),\n",
       " (1, 4, 3, 2),\n",
       " (2, 1, 3, 4),\n",
       " (2, 1, 4, 3),\n",
       " (2, 3, 1, 4),\n",
       " (2, 3, 4, 1),\n",
       " (2, 4, 1, 3),\n",
       " (2, 4, 3, 1),\n",
       " (3, 1, 2, 4),\n",
       " (3, 1, 4, 2),\n",
       " (3, 2, 1, 4),\n",
       " (3, 2, 4, 1),\n",
       " (3, 4, 1, 2),\n",
       " (3, 4, 2, 1),\n",
       " (4, 1, 2, 3),\n",
       " (4, 1, 3, 2),\n",
       " (4, 2, 1, 3),\n",
       " (4, 2, 3, 1),\n",
       " (4, 3, 1, 2),\n",
       " (4, 3, 2, 1))"
      ]
     },
     "execution_count": 10,
     "metadata": {},
     "output_type": "execute_result"
    }
   ],
   "source": [
    "permutations"
   ]
  },
  {
   "cell_type": "markdown",
   "id": "2894cbbb-6ee6-4078-af24-f8f1af490dcd",
   "metadata": {},
   "source": [
    "To calculate the number of permutations that are even, we need to compute the following sum:\n",
    "\n",
    "$$\n",
    "\\sum_{\\pi \\in \\Pi \\text{ if }\\pi_4 \\in \\{2, 4\\}}1\n",
    "$$\n",
    "\n",
    "or equivalently:\n",
    "\n",
    "$$\n",
    "\\sum_{\\pi \\in \\Pi}\\left((\\pi_4  + 1) \\mod 2 \\right)\n",
    "$$"
   ]
  },
  {
   "cell_type": "code",
   "execution_count": 13,
   "id": "7f748251-32a4-4edb-9c48-311a8d77186e",
   "metadata": {},
   "outputs": [
    {
     "data": {
      "text/plain": [
       "12"
      ]
     },
     "execution_count": 13,
     "metadata": {},
     "output_type": "execute_result"
    }
   ],
   "source": [
    "sum((pi[3] + 1) % 2 for pi in permutations)"
   ]
  },
  {
   "cell_type": "code",
   "execution_count": 14,
   "id": "434ec876-645d-406d-b2c7-404a1f9e47b7",
   "metadata": {},
   "outputs": [
    {
     "data": {
      "text/plain": [
       "12"
      ]
     },
     "execution_count": 14,
     "metadata": {},
     "output_type": "execute_result"
    }
   ],
   "source": [
    "sum(1 for pi in permutations if pi[3] in (2, 4))"
   ]
  },
  {
   "cell_type": "markdown",
   "id": "bd1ad2d2-f164-4fc6-bb34-642405d061a3",
   "metadata": {},
   "source": [
    "```\n",
    "$$\n",
    "\\sum_{\\pi \\in \\Pi \\text{ if }\\pi_4 \\in \\{2, 4\\}}1\n",
    "$$\n",
    "\n",
    "or equivalently:\n",
    "\n",
    "$$\n",
    "\\sum_{\\pi \\in \\Pi}\\pi_4 \\mod 2 + 1 \n",
    "$$\n",
    "```"
   ]
  },
  {
   "cell_type": "code",
   "execution_count": null,
   "id": "b9b069aa-87d4-417f-bcf7-fe7ac5884899",
   "metadata": {},
   "outputs": [],
   "source": []
>>>>>>> Stashed changes
  }
 ],
 "metadata": {
  "kernelspec": {
   "display_name": "Python 3 (ipykernel)",
   "language": "python",
   "name": "python3"
  },
  "language_info": {
   "codemirror_mode": {
    "name": "ipython",
    "version": 3
   },
   "file_extension": ".py",
   "mimetype": "text/x-python",
   "name": "python",
   "nbconvert_exporter": "python",
   "pygments_lexer": "ipython3",
   "version": "3.11.4"
  }
 },
 "nbformat": 4,
 "nbformat_minor": 5
}
