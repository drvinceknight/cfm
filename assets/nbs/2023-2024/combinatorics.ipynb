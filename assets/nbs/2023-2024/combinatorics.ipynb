{
 "cells": [
  {
   "cell_type": "markdown",
   "id": "0e783c18-edf3-4d96-be1c-bef5ce8fab04",
   "metadata": {},
   "source": [
    "# Combinatorics\n",
    "\n",
    "\n",
    "The digits 1, 2, 3 and 4 are arranged in random order, to form a four-digit\n",
    "number.\n",
    "\n",
    "1. How many different four-digit numbers can be formed?\n",
    "2. How many different four-digit numbers:\n",
    "   1. Are even.\n",
    "   2. Are less than 4000.\n"
   ]
  }
 ],
 "metadata": {
  "kernelspec": {
   "display_name": "Python 3 (ipykernel)",
   "language": "python",
   "name": "python3"
  },
  "language_info": {
   "codemirror_mode": {
    "name": "ipython",
    "version": 3
   },
   "file_extension": ".py",
   "mimetype": "text/x-python",
   "name": "python",
   "nbconvert_exporter": "python",
   "pygments_lexer": "ipython3",
   "version": "3.11.4"
  }
 },
 "nbformat": 4,
 "nbformat_minor": 5
}
