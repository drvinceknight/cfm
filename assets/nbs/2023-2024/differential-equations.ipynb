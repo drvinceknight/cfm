{
 "cells": [
  {
   "cell_type": "markdown",
   "id": "6b5d4715-8aba-4c04-8c2d-9f5407dcdd47",
   "metadata": {},
   "source": [
    "# Differential equations\n",
    "\n",
    "Obtain the general solution to the following differential equation:\n",
    "\n",
    "$$\\frac{dy}{dx}=3y^2-5xy^2$$\n",
    "\n",
    "Obtain the particular solution given that $y(3)=4$."
   ]
  },
  {
   "cell_type": "markdown",
   "id": "c47f9ff8-35fa-4ce9-a21f-19134bb4a6d7",
   "metadata": {},
   "source": [
    "If we were solving this by hand we would realise that the equation is equivalent to:\n",
    "\n",
    "$$\n",
    "\\frac{dy}{dx} = y ^ 2 (3- 5 x)\n",
    "$$"
   ]
  },
  {
   "cell_type": "markdown",
   "id": "c1812e1a-bee0-4d46-8d82-6e9032f401cd",
   "metadata": {},
   "source": [
    "With Sympy we will start by defining our variables:"
   ]
  },
  {
   "cell_type": "code",
   "execution_count": 8,
   "id": "086f81b6-1279-49e4-8ed6-2bf0d1590355",
   "metadata": {},
   "outputs": [],
   "source": [
    "import sympy as sym\n",
    "\n",
    "x = sym.Symbol(\"x\")\n",
    "y = sym.Function(\"y\")"
   ]
  },
  {
   "cell_type": "code",
   "execution_count": 9,
   "id": "9df8333d-7b27-4a93-b2e9-23f11f001e26",
   "metadata": {},
   "outputs": [
    {
     "data": {
      "text/latex": [
       "$\\displaystyle x$"
      ],
      "text/plain": [
       "x"
      ]
     },
     "execution_count": 9,
     "metadata": {},
     "output_type": "execute_result"
    }
   ],
   "source": [
    "x"
   ]
  },
  {
   "cell_type": "code",
   "execution_count": 10,
   "id": "4e4ba71a-9744-4008-8dc1-7dc05f8b984e",
   "metadata": {},
   "outputs": [
    {
     "data": {
      "text/plain": [
       "y"
      ]
     },
     "execution_count": 10,
     "metadata": {},
     "output_type": "execute_result"
    }
   ],
   "source": [
    "y"
   ]
  },
  {
   "cell_type": "code",
   "execution_count": 13,
   "id": "d24d4528-3453-4c7c-806c-072a12ed2fbb",
   "metadata": {},
   "outputs": [
    {
     "data": {
      "text/latex": [
       "$\\displaystyle \\frac{d}{d x} y{\\left(x \\right)}$"
      ],
      "text/plain": [
       "Derivative(y(x), x)"
      ]
     },
     "execution_count": 13,
     "metadata": {},
     "output_type": "execute_result"
    }
   ],
   "source": [
    "sym.diff(y(x), x)"
   ]
  },
  {
   "cell_type": "markdown",
   "id": "75e68ebc-e8ee-4d67-a354-6d796a06b1b5",
   "metadata": {},
   "source": [
    "We can write down our differential equation:"
   ]
  },
  {
   "cell_type": "code",
   "execution_count": 14,
   "id": "b6c6ad58-60e6-4121-b232-52a1980a1b61",
   "metadata": {},
   "outputs": [
    {
     "data": {
      "text/latex": [
       "$\\displaystyle \\frac{d}{d x} y{\\left(x \\right)} = - 5 x y^{2}{\\left(x \\right)} + 3 y^{2}{\\left(x \\right)}$"
      ],
      "text/plain": [
       "Eq(Derivative(y(x), x), -5*x*y(x)**2 + 3*y(x)**2)"
      ]
     },
     "execution_count": 14,
     "metadata": {},
     "output_type": "execute_result"
    }
   ],
   "source": [
    "differential_equation = sym.Eq(sym.diff(y(x), x), 3 * y(x) ** 2 - 5 * x * y(x) ** 2)\n",
    "differential_equation"
   ]
  },
  {
   "cell_type": "code",
   "execution_count": 16,
   "id": "dbcf7c2b-0029-4758-aef8-73de7b576efb",
   "metadata": {},
   "outputs": [],
   "source": [
    "general_solution = sym.dsolve(differential_equation, y(x))"
   ]
  },
  {
   "cell_type": "code",
   "execution_count": 17,
   "id": "01e4fa8c-48aa-43e0-abbf-f7bf630b48a9",
   "metadata": {},
   "outputs": [
    {
     "data": {
      "text/latex": [
       "$\\displaystyle y{\\left(x \\right)} = \\frac{2}{C_{1} + 5 x^{2} - 6 x}$"
      ],
      "text/plain": [
       "Eq(y(x), 2/(C1 + 5*x**2 - 6*x))"
      ]
     },
     "execution_count": 17,
     "metadata": {},
     "output_type": "execute_result"
    }
   ],
   "source": [
    "general_solution"
   ]
  },
  {
   "cell_type": "code",
   "execution_count": 19,
   "id": "7462357d-bb60-4a9d-9c58-bc56c76d135e",
   "metadata": {},
   "outputs": [
    {
     "data": {
      "text/latex": [
       "$\\displaystyle \\frac{2 \\cdot \\left(6 - 10 x\\right)}{\\left(C_{1} + 5 x^{2} - 6 x\\right)^{2}}$"
      ],
      "text/plain": [
       "2*(6 - 10*x)/(C1 + 5*x**2 - 6*x)**2"
      ]
     },
     "execution_count": 19,
     "metadata": {},
     "output_type": "execute_result"
    }
   ],
   "source": [
    "sym.diff(general_solution.rhs, x)"
   ]
  },
  {
   "cell_type": "code",
   "execution_count": 20,
   "id": "f6c589dd-bb22-44e4-9548-c6df37fafd49",
   "metadata": {},
   "outputs": [
    {
     "data": {
      "text/latex": [
       "$\\displaystyle - \\frac{20 x}{\\left(C_{1} + 5 x^{2} - 6 x\\right)^{2}} + \\frac{12}{\\left(C_{1} + 5 x^{2} - 6 x\\right)^{2}}$"
      ],
      "text/plain": [
       "-20*x/(C1 + 5*x**2 - 6*x)**2 + 12/(C1 + 5*x**2 - 6*x)**2"
      ]
     },
     "execution_count": 20,
     "metadata": {},
     "output_type": "execute_result"
    }
   ],
   "source": [
    "3 * general_solution.rhs ** 2 - 5 * x * general_solution.rhs ** 2"
   ]
  },
  {
   "cell_type": "markdown",
   "id": "bbe062ca-c623-472b-9258-41a78084d22d",
   "metadata": {},
   "source": [
    "To obtain the particular solution we can pass an extra parameter to `dsolve`:"
   ]
  },
  {
   "cell_type": "code",
   "execution_count": 23,
   "id": "4069cdc4-2fb4-4731-81de-04f87f110aaa",
   "metadata": {},
   "outputs": [
    {
     "data": {
      "text/latex": [
       "$\\displaystyle y{\\left(x \\right)} = \\frac{2}{5 x^{2} - 6 x - \\frac{53}{2}}$"
      ],
      "text/plain": [
       "Eq(y(x), 2/(5*x**2 - 6*x - 53/2))"
      ]
     },
     "execution_count": 23,
     "metadata": {},
     "output_type": "execute_result"
    }
   ],
   "source": [
    "condition = {y(3): 4}\n",
    "sym.dsolve(differential_equation, y(x), ics=condition)"
   ]
  },
  {
   "cell_type": "code",
   "execution_count": null,
   "id": "aa59d22b-a2ba-4982-8c5c-93713db4277e",
   "metadata": {},
   "outputs": [],
   "source": []
  }
 ],
 "metadata": {
  "kernelspec": {
   "display_name": "Python 3 (ipykernel)",
   "language": "python",
   "name": "python3"
  },
  "language_info": {
   "codemirror_mode": {
    "name": "ipython",
    "version": 3
   },
   "file_extension": ".py",
   "mimetype": "text/x-python",
   "name": "python",
   "nbconvert_exporter": "python",
   "pygments_lexer": "ipython3",
   "version": "3.11.4"
  }
 },
 "nbformat": 4,
 "nbformat_minor": 5
}
