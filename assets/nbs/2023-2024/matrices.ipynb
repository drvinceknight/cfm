{
 "cells": [
  {
   "cell_type": "markdown",
   "id": "b4b65c66-4f34-4e17-85df-f972f67656cd",
   "metadata": {},
   "source": [
    "The matrix $A$ is given by $A=\\begin{pmatrix}1 & 1 & a\\\\ 2 & a & 1\\\\ a & 1 & 2 a\\end{pmatrix}$\n",
    "\n",
    "1. Find the determinant of $A$\n",
    "2. Hence find the values of $a$ for which $A$ is singular.\n",
    "3. For the following values of $a$, when possible obtain $A ^ {- 1}$\n",
    "   and confirm the result by computing $AA^{-1}$:\n",
    "\n",
    "   1. $a = 0$;\n",
    "   2. $a = 1$;\n",
    "   3. $a = 2$;\n",
    "   4. $a = 3$.\n"
   ]
  },
  {
   "cell_type": "code",
   "execution_count": null,
   "id": "01c5f155-28be-4478-b42e-6234c41bcf8e",
   "metadata": {},
   "outputs": [],
   "source": []
  }
 ],
 "metadata": {
  "kernelspec": {
   "display_name": "Python 3 (ipykernel)",
   "language": "python",
   "name": "python3"
  },
  "language_info": {
   "codemirror_mode": {
    "name": "ipython",
    "version": 3
   },
   "file_extension": ".py",
   "mimetype": "text/x-python",
   "name": "python",
   "nbconvert_exporter": "python",
   "pygments_lexer": "ipython3",
   "version": "3.11.4"
  }
 },
 "nbformat": 4,
 "nbformat_minor": 5
}
