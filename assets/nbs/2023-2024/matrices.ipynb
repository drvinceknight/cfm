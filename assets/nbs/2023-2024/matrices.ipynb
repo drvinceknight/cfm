{
 "cells": [
  {
   "cell_type": "markdown",
   "id": "b4b65c66-4f34-4e17-85df-f972f67656cd",
   "metadata": {},
   "source": [
    "The matrix $A$ is given by $A=\\begin{pmatrix}1 & 1 & a\\\\ 2 & a & 1\\\\ a & 1 & 2 a\\end{pmatrix}$\n",
    "\n",
    "1. Find the determinant of $A$\n",
    "2. Hence find the values of $a$ for which $A$ is singular.\n",
    "3. For the following values of $a$, when possible obtain $A ^ {- 1}$\n",
    "   and confirm the result by computing $AA^{-1}$:\n",
    "\n",
    "   1. $a = 0$;\n",
    "   2. $a = 1$;\n",
    "   3. $a = 2$;\n",
    "   4. $a = 3$.\n"
   ]
  },
  {
   "cell_type": "code",
   "execution_count": 2,
   "id": "01c5f155-28be-4478-b42e-6234c41bcf8e",
   "metadata": {},
   "outputs": [],
   "source": [
    "import sympy as sym"
   ]
  },
  {
   "cell_type": "code",
   "execution_count": 4,
   "id": "72fb2fb3-09b3-409c-b81b-8db270a5edc3",
   "metadata": {},
   "outputs": [
    {
     "data": {
      "text/latex": [
       "$\\displaystyle \\left[\\begin{matrix}1 & 1 & a\\\\2 & a & 1\\\\a & 1 & 2 a\\end{matrix}\\right]$"
      ],
      "text/plain": [
       "Matrix([\n",
       "[1, 1,   a],\n",
       "[2, a,   1],\n",
       "[a, 1, 2*a]])"
      ]
     },
     "execution_count": 4,
     "metadata": {},
     "output_type": "execute_result"
    }
   ],
   "source": [
    "a = sym.Symbol(\"a\")\n",
    "A = sym.Matrix(((1, 1, a), (2, a, 1), (a, 1, 2 * a)))\n",
    "A"
   ]
  },
  {
   "cell_type": "code",
   "execution_count": 5,
   "id": "9420825b-00b1-4853-80b9-b501ed5a1147",
   "metadata": {},
   "outputs": [
    {
     "data": {
      "text/latex": [
       "$\\displaystyle - a^{3} + 2 a^{2} - a - 1$"
      ],
      "text/plain": [
       "-a**3 + 2*a**2 - a - 1"
      ]
     },
     "execution_count": 5,
     "metadata": {},
     "output_type": "execute_result"
    }
   ],
   "source": [
    "determinant = A.det()\n",
    "determinant"
   ]
  },
  {
   "cell_type": "markdown",
   "id": "a597ce72-c064-482c-99c3-6aff524f4970",
   "metadata": {},
   "source": [
    "To find out when the matrix is singular we need to solve the equation given by:\n",
    "\n",
    "$$\\text{det}(A)=0$$"
   ]
  },
  {
   "cell_type": "code",
   "execution_count": 6,
   "id": "d2f188c9-fd05-40f1-b118-e389ace23e14",
   "metadata": {},
   "outputs": [
    {
     "data": {
      "text/latex": [
       "$\\displaystyle \\left\\{- \\frac{\\sqrt[3]{\\frac{3 \\sqrt{93}}{2} + \\frac{29}{2}}}{3} - \\frac{1}{3 \\sqrt[3]{\\frac{3 \\sqrt{93}}{2} + \\frac{29}{2}}} + \\frac{2}{3}, \\frac{1}{6 \\sqrt[3]{\\frac{3 \\sqrt{93}}{2} + \\frac{29}{2}}} + \\frac{\\sqrt[3]{\\frac{3 \\sqrt{93}}{2} + \\frac{29}{2}}}{6} + \\frac{2}{3} + i \\left(- \\frac{\\sqrt{3}}{6 \\sqrt[3]{\\frac{3 \\sqrt{93}}{2} + \\frac{29}{2}}} + \\frac{\\sqrt{3} \\sqrt[3]{\\frac{3 \\sqrt{93}}{2} + \\frac{29}{2}}}{6}\\right), \\frac{1}{6 \\sqrt[3]{\\frac{3 \\sqrt{93}}{2} + \\frac{29}{2}}} + \\frac{\\sqrt[3]{\\frac{3 \\sqrt{93}}{2} + \\frac{29}{2}}}{6} + \\frac{2}{3} + i \\left(- \\frac{\\sqrt{3} \\sqrt[3]{\\frac{3 \\sqrt{93}}{2} + \\frac{29}{2}}}{6} + \\frac{\\sqrt{3}}{6 \\sqrt[3]{\\frac{3 \\sqrt{93}}{2} + \\frac{29}{2}}}\\right)\\right\\}$"
      ],
      "text/plain": [
       "{-(3*sqrt(93)/2 + 29/2)**(1/3)/3 - 1/(3*(3*sqrt(93)/2 + 29/2)**(1/3)) + 2/3, 1/(6*(3*sqrt(93)/2 + 29/2)**(1/3)) + (3*sqrt(93)/2 + 29/2)**(1/3)/6 + 2/3 + I*(-sqrt(3)/(6*(3*sqrt(93)/2 + 29/2)**(1/3)) + sqrt(3)*(3*sqrt(93)/2 + 29/2)**(1/3)/6), 1/(6*(3*sqrt(93)/2 + 29/2)**(1/3)) + (3*sqrt(93)/2 + 29/2)**(1/3)/6 + 2/3 + I*(-sqrt(3)*(3*sqrt(93)/2 + 29/2)**(1/3)/6 + sqrt(3)/(6*(3*sqrt(93)/2 + 29/2)**(1/3)))}"
      ]
     },
     "execution_count": 6,
     "metadata": {},
     "output_type": "execute_result"
    }
   ],
   "source": [
    "equation = sym.Eq(determinant, 0)\n",
    "sym.solveset(equation, a)"
   ]
  },
  {
   "cell_type": "markdown",
   "id": "028c2919-200c-4cae-888c-928a64e50a9f",
   "metadata": {},
   "source": [
    "For $a=0$ let us compute $A^{-1}$:"
   ]
  },
  {
   "cell_type": "code",
   "execution_count": 12,
   "id": "b47e5a05-1617-4804-978f-266c7e14aefb",
   "metadata": {},
   "outputs": [
    {
     "name": "stdout",
     "output_type": "stream",
     "text": [
      "Matrix([[-17/13, 3/13, 8/13], [9/13, 3/13, -5/13], [7/13, -2/13, -1/13]])\n"
     ]
    }
   ],
   "source": [
    "inv_A = A.inv()\n",
    "print(inv_A.subs({a: 3}))"
   ]
  },
  {
   "cell_type": "markdown",
   "id": "29b5d9e8-e0d9-49d2-8345-0e3cf3ee9e0f",
   "metadata": {},
   "source": [
    "Let us compute $A A ^{-1}$:"
   ]
  },
  {
   "cell_type": "code",
   "execution_count": 18,
   "id": "b26b41cd-c4e5-4279-91f0-bb92b4948348",
   "metadata": {},
   "outputs": [
    {
     "data": {
      "text/latex": [
       "$\\displaystyle \\left[\\begin{matrix}1 & 0 & 0\\\\0 & 1 & 0\\\\0 & 0 & 1\\end{matrix}\\right]$"
      ],
      "text/plain": [
       "Matrix([\n",
       "[1, 0, 0],\n",
       "[0, 1, 0],\n",
       "[0, 0, 1]])"
      ]
     },
     "execution_count": 18,
     "metadata": {},
     "output_type": "execute_result"
    }
   ],
   "source": [
    "A_multiplied_by_A_inv = A @ inv_A\n",
    "(A_multiplied_by_A_inv).subs({a: 0})"
   ]
  },
  {
   "cell_type": "markdown",
   "id": "ebedc987-7bf1-4463-b1f6-8311d38206e5",
   "metadata": {},
   "source": [
    "For $a=1$:"
   ]
  },
  {
   "cell_type": "code",
   "execution_count": 23,
   "id": "73354e7a-70d1-47b3-a738-93888dd451c6",
   "metadata": {},
   "outputs": [
    {
     "data": {
      "text/latex": [
       "$\\displaystyle \\left[\\begin{matrix}-1 & 1 & 0\\\\3 & -1 & -1\\\\-1 & 0 & 1\\end{matrix}\\right]$"
      ],
      "text/plain": [
       "Matrix([\n",
       "[-1,  1,  0],\n",
       "[ 3, -1, -1],\n",
       "[-1,  0,  1]])"
      ]
     },
     "execution_count": 23,
     "metadata": {},
     "output_type": "execute_result"
    }
   ],
   "source": [
    "inv_A.subs({a: 1})"
   ]
  },
  {
   "cell_type": "code",
   "execution_count": 24,
   "id": "d34db56a-f67b-4afb-8a73-5c9fd13a824b",
   "metadata": {},
   "outputs": [
    {
     "data": {
      "text/latex": [
       "$\\displaystyle \\left[\\begin{matrix}1 & 0 & 0\\\\0 & 1 & 0\\\\0 & 0 & 1\\end{matrix}\\right]$"
      ],
      "text/plain": [
       "Matrix([\n",
       "[1, 0, 0],\n",
       "[0, 1, 0],\n",
       "[0, 0, 1]])"
      ]
     },
     "execution_count": 24,
     "metadata": {},
     "output_type": "execute_result"
    }
   ],
   "source": [
    "(A_multiplied_by_A_inv).subs({a: 1})"
   ]
  },
  {
   "cell_type": "markdown",
   "id": "cb133c8f-a5c2-41d0-9b5f-bacd0ab936df",
   "metadata": {},
   "source": [
    "For $a = 2$:"
   ]
  },
  {
   "cell_type": "code",
   "execution_count": 25,
   "id": "fd90a41d-a051-40df-aac8-0f2c2df080d4",
   "metadata": {},
   "outputs": [
    {
     "data": {
      "text/latex": [
       "$\\displaystyle \\left[\\begin{matrix}- \\frac{7}{3} & \\frac{2}{3} & 1\\\\2 & 0 & -1\\\\\\frac{2}{3} & - \\frac{1}{3} & 0\\end{matrix}\\right]$"
      ],
      "text/plain": [
       "Matrix([\n",
       "[-7/3,  2/3,  1],\n",
       "[   2,    0, -1],\n",
       "[ 2/3, -1/3,  0]])"
      ]
     },
     "execution_count": 25,
     "metadata": {},
     "output_type": "execute_result"
    }
   ],
   "source": [
    "inv_A.subs({a: 2})"
   ]
  },
  {
   "cell_type": "code",
   "execution_count": 26,
   "id": "c5e7b48d-4302-4def-8e43-d2a6dea868d6",
   "metadata": {},
   "outputs": [
    {
     "data": {
      "text/latex": [
       "$\\displaystyle \\left[\\begin{matrix}1 & 0 & 0\\\\0 & 1 & 0\\\\0 & 0 & 1\\end{matrix}\\right]$"
      ],
      "text/plain": [
       "Matrix([\n",
       "[1, 0, 0],\n",
       "[0, 1, 0],\n",
       "[0, 0, 1]])"
      ]
     },
     "execution_count": 26,
     "metadata": {},
     "output_type": "execute_result"
    }
   ],
   "source": [
    "(A_multiplied_by_A_inv).subs({a: 2})"
   ]
  },
  {
   "cell_type": "markdown",
   "id": "8895f3b6-3e6c-40ab-b0cf-b190cd73b82e",
   "metadata": {},
   "source": [
    "For $a=3$:"
   ]
  },
  {
   "cell_type": "code",
   "execution_count": 27,
   "id": "5045757a-5c00-4fb3-82bd-d97dfeb78373",
   "metadata": {},
   "outputs": [
    {
     "data": {
      "text/latex": [
       "$\\displaystyle \\left[\\begin{matrix}- \\frac{17}{13} & \\frac{3}{13} & \\frac{8}{13}\\\\\\frac{9}{13} & \\frac{3}{13} & - \\frac{5}{13}\\\\\\frac{7}{13} & - \\frac{2}{13} & - \\frac{1}{13}\\end{matrix}\\right]$"
      ],
      "text/plain": [
       "Matrix([\n",
       "[-17/13,  3/13,  8/13],\n",
       "[  9/13,  3/13, -5/13],\n",
       "[  7/13, -2/13, -1/13]])"
      ]
     },
     "execution_count": 27,
     "metadata": {},
     "output_type": "execute_result"
    }
   ],
   "source": [
    "inv_A.subs({a: 3})"
   ]
  },
  {
   "cell_type": "code",
   "execution_count": 28,
   "id": "910bdfd3-4333-4f67-8e8e-c6f62f17af18",
   "metadata": {},
   "outputs": [
    {
     "data": {
      "text/latex": [
       "$\\displaystyle \\left[\\begin{matrix}1 & 0 & 0\\\\0 & 1 & 0\\\\0 & 0 & 1\\end{matrix}\\right]$"
      ],
      "text/plain": [
       "Matrix([\n",
       "[1, 0, 0],\n",
       "[0, 1, 0],\n",
       "[0, 0, 1]])"
      ]
     },
     "execution_count": 28,
     "metadata": {},
     "output_type": "execute_result"
    }
   ],
   "source": [
    "(A_multiplied_by_A_inv).subs({a: 3})"
   ]
  },
  {
   "cell_type": "code",
   "execution_count": 29,
   "id": "a3d01a78-7fb8-4d71-8b8d-06d1004c98db",
   "metadata": {},
   "outputs": [
    {
     "data": {
      "text/latex": [
       "$\\displaystyle \\left[\\begin{matrix}1 & 2 & 0\\\\3 & 1 & 2\\\\0 & -1 & 1\\end{matrix}\\right]$"
      ],
      "text/plain": [
       "Matrix([\n",
       "[1,  2, 0],\n",
       "[3,  1, 2],\n",
       "[0, -1, 1]])"
      ]
     },
     "execution_count": 29,
     "metadata": {},
     "output_type": "execute_result"
    }
   ],
   "source": [
    "A = sym.Matrix([[1, 2, 0], [3, 1, 2], [0, -1, 1]])\n",
    "A"
   ]
  },
  {
   "cell_type": "code",
   "execution_count": 30,
   "id": "bedfd0ff-ed98-44cf-b4f0-8d4acdce7ec9",
   "metadata": {},
   "outputs": [
    {
     "data": {
      "text/latex": [
       "$\\displaystyle \\left[\\begin{matrix}7 & 4 & 4\\\\6 & 5 & 4\\\\-3 & -2 & -1\\end{matrix}\\right]$"
      ],
      "text/plain": [
       "Matrix([\n",
       "[ 7,  4,  4],\n",
       "[ 6,  5,  4],\n",
       "[-3, -2, -1]])"
      ]
     },
     "execution_count": 30,
     "metadata": {},
     "output_type": "execute_result"
    }
   ],
   "source": [
    "A ** 2"
   ]
  },
  {
   "cell_type": "code",
   "execution_count": 31,
   "id": "845ac223-bf9b-4c0b-8431-01aede03f72c",
   "metadata": {},
   "outputs": [
    {
     "data": {
      "text/latex": [
       "$\\displaystyle \\left[\\begin{matrix}\\frac{1}{3} & - \\frac{4}{9} & - \\frac{4}{9}\\\\- \\frac{2}{3} & \\frac{5}{9} & - \\frac{4}{9}\\\\\\frac{1}{3} & \\frac{2}{9} & \\frac{11}{9}\\end{matrix}\\right]$"
      ],
      "text/plain": [
       "Matrix([\n",
       "[ 1/3, -4/9, -4/9],\n",
       "[-2/3,  5/9, -4/9],\n",
       "[ 1/3,  2/9, 11/9]])"
      ]
     },
     "execution_count": 31,
     "metadata": {},
     "output_type": "execute_result"
    }
   ],
   "source": [
    "(A @ A).inv()"
   ]
  },
  {
   "cell_type": "markdown",
   "id": "50db687b-60ca-4969-935f-38c232247b01",
   "metadata": {},
   "source": [
    "# Friday Class"
   ]
  },
  {
   "cell_type": "code",
   "execution_count": 1,
   "id": "c57247e8-c278-4932-a737-dfdcecf223f5",
   "metadata": {},
   "outputs": [],
   "source": [
    "import sympy as sym"
   ]
  },
  {
   "cell_type": "code",
   "execution_count": 2,
   "id": "8299ad23-3898-41c9-9824-babd1bbdf77b",
   "metadata": {},
   "outputs": [
    {
     "data": {
      "text/latex": [
       "$\\displaystyle \\left[\\begin{matrix}1 & 2\\\\2 & 5\\end{matrix}\\right]$"
      ],
      "text/plain": [
       "Matrix([\n",
       "[1, 2],\n",
       "[2, 5]])"
      ]
     },
     "execution_count": 2,
     "metadata": {},
     "output_type": "execute_result"
    }
   ],
   "source": [
    "A = sym.Matrix(((1, 2), (2, 5)))\n",
    "A"
   ]
  },
  {
   "cell_type": "code",
   "execution_count": 4,
   "id": "2593f424-76e6-4d25-afc8-6a1bd3b9a36a",
   "metadata": {},
   "outputs": [
    {
     "data": {
      "text/latex": [
       "$\\displaystyle \\left[\\begin{matrix}5 & 10\\\\10 & 25\\end{matrix}\\right]$"
      ],
      "text/plain": [
       "Matrix([\n",
       "[ 5, 10],\n",
       "[10, 25]])"
      ]
     },
     "execution_count": 4,
     "metadata": {},
     "output_type": "execute_result"
    }
   ],
   "source": [
    "5 * A"
   ]
  },
  {
   "cell_type": "code",
   "execution_count": 6,
   "id": "af0af06f-aa27-42b7-b1f1-c7e7302ca08c",
   "metadata": {},
   "outputs": [
    {
     "data": {
      "text/latex": [
       "$\\displaystyle \\left[\\begin{matrix}a & 2 & 0\\\\3 & 1 & 2\\\\0 & -1 & 1\\end{matrix}\\right]$"
      ],
      "text/plain": [
       "Matrix([\n",
       "[a,  2, 0],\n",
       "[3,  1, 2],\n",
       "[0, -1, 1]])"
      ]
     },
     "execution_count": 6,
     "metadata": {},
     "output_type": "execute_result"
    }
   ],
   "source": [
    "a = sym.Symbol(\"a\")\n",
    "D = sym.Matrix(((a, 2, 0), (3, 1, 2), (0, -1, 1)))\n",
    "D"
   ]
  },
  {
   "cell_type": "code",
   "execution_count": 7,
   "id": "2f3778f9-00b2-443b-b122-658826dd91ab",
   "metadata": {},
   "outputs": [
    {
     "data": {
      "text/latex": [
       "$\\displaystyle \\left[\\begin{matrix}- \\frac{9}{18 - 9 a} & \\frac{6}{18 - 9 a} & - \\frac{12}{18 - 9 a}\\\\\\frac{3}{6 - 3 a} & - \\frac{a}{6 - 3 a} & \\frac{2 a}{6 - 3 a}\\\\- \\frac{3}{3 a - 6} & \\frac{a}{3 a - 6} & \\frac{a - 6}{3 a - 6}\\end{matrix}\\right]$"
      ],
      "text/plain": [
       "Matrix([\n",
       "[-9/(18 - 9*a), 6/(18 - 9*a),    -12/(18 - 9*a)],\n",
       "[  3/(6 - 3*a), -a/(6 - 3*a),     2*a/(6 - 3*a)],\n",
       "[ -3/(3*a - 6),  a/(3*a - 6), (a - 6)/(3*a - 6)]])"
      ]
     },
     "execution_count": 7,
     "metadata": {},
     "output_type": "execute_result"
    }
   ],
   "source": [
    "D_inv = D.inv()\n",
    "D_inv"
   ]
  },
  {
   "cell_type": "code",
   "execution_count": 8,
   "id": "8970f1dd-70cf-4f8d-86c2-b204f4342709",
   "metadata": {},
   "outputs": [
    {
     "data": {
      "text/latex": [
       "$\\displaystyle \\left[\\begin{matrix}3\\\\4\\\\1\\end{matrix}\\right]$"
      ],
      "text/plain": [
       "Matrix([\n",
       "[3],\n",
       "[4],\n",
       "[1]])"
      ]
     },
     "execution_count": 8,
     "metadata": {},
     "output_type": "execute_result"
    }
   ],
   "source": [
    "b = sym.Matrix(((3,), (4,), (1,)))\n",
    "b"
   ]
  },
  {
   "cell_type": "code",
   "execution_count": 9,
   "id": "b35ce49e-772a-47cd-be40-d77b9c79e323",
   "metadata": {},
   "outputs": [
    {
     "data": {
      "text/latex": [
       "$\\displaystyle \\left[\\begin{matrix}- \\frac{15}{18 - 9 a}\\\\- \\frac{2 a}{6 - 3 a} + \\frac{9}{6 - 3 a}\\\\\\frac{4 a}{3 a - 6} + \\frac{a - 6}{3 a - 6} - \\frac{9}{3 a - 6}\\end{matrix}\\right]$"
      ],
      "text/plain": [
       "Matrix([\n",
       "[                                 -15/(18 - 9*a)],\n",
       "[                   -2*a/(6 - 3*a) + 9/(6 - 3*a)],\n",
       "[4*a/(3*a - 6) + (a - 6)/(3*a - 6) - 9/(3*a - 6)]])"
      ]
     },
     "execution_count": 9,
     "metadata": {},
     "output_type": "execute_result"
    }
   ],
   "source": [
    "D_inv @ b"
   ]
  },
  {
   "cell_type": "code",
   "execution_count": 10,
   "id": "38be1277-1c42-4af1-9d5f-05b1a629bab1",
   "metadata": {},
   "outputs": [
    {
     "data": {
      "text/plain": [
       "\u001b[0;31mSignature:\u001b[0m \u001b[0msym\u001b[0m\u001b[0;34m.\u001b[0m\u001b[0msolveset\u001b[0m\u001b[0;34m(\u001b[0m\u001b[0mf\u001b[0m\u001b[0;34m,\u001b[0m \u001b[0msymbol\u001b[0m\u001b[0;34m=\u001b[0m\u001b[0;32mNone\u001b[0m\u001b[0;34m,\u001b[0m \u001b[0mdomain\u001b[0m\u001b[0;34m=\u001b[0m\u001b[0mComplexes\u001b[0m\u001b[0;34m)\u001b[0m\u001b[0;34m\u001b[0m\u001b[0;34m\u001b[0m\u001b[0m\n",
       "\u001b[0;31mDocstring:\u001b[0m\n",
       "Solves a given inequality or equation with set as output\n",
       "\n",
       "Parameters\n",
       "==========\n",
       "\n",
       "f : Expr or a relational.\n",
       "    The target equation or inequality\n",
       "symbol : Symbol\n",
       "    The variable for which the equation is solved\n",
       "domain : Set\n",
       "    The domain over which the equation is solved\n",
       "\n",
       "Returns\n",
       "=======\n",
       "\n",
       "Set\n",
       "    A set of values for `symbol` for which `f` is True or is equal to\n",
       "    zero. An :class:`~.EmptySet` is returned if `f` is False or nonzero.\n",
       "    A :class:`~.ConditionSet` is returned as unsolved object if algorithms\n",
       "    to evaluate complete solution are not yet implemented.\n",
       "\n",
       "``solveset`` claims to be complete in the solution set that it returns.\n",
       "\n",
       "Raises\n",
       "======\n",
       "\n",
       "NotImplementedError\n",
       "    The algorithms to solve inequalities in complex domain  are\n",
       "    not yet implemented.\n",
       "ValueError\n",
       "    The input is not valid.\n",
       "RuntimeError\n",
       "    It is a bug, please report to the github issue tracker.\n",
       "\n",
       "\n",
       "Notes\n",
       "=====\n",
       "\n",
       "Python interprets 0 and 1 as False and True, respectively, but\n",
       "in this function they refer to solutions of an expression. So 0 and 1\n",
       "return the domain and EmptySet, respectively, while True and False\n",
       "return the opposite (as they are assumed to be solutions of relational\n",
       "expressions).\n",
       "\n",
       "\n",
       "See Also\n",
       "========\n",
       "\n",
       "solveset_real: solver for real domain\n",
       "solveset_complex: solver for complex domain\n",
       "\n",
       "Examples\n",
       "========\n",
       "\n",
       ">>> from sympy import exp, sin, Symbol, pprint, S, Eq\n",
       ">>> from sympy.solvers.solveset import solveset, solveset_real\n",
       "\n",
       "* The default domain is complex. Not specifying a domain will lead\n",
       "  to the solving of the equation in the complex domain (and this\n",
       "  is not affected by the assumptions on the symbol):\n",
       "\n",
       ">>> x = Symbol('x')\n",
       ">>> pprint(solveset(exp(x) - 1, x), use_unicode=False)\n",
       "{2*n*I*pi | n in Integers}\n",
       "\n",
       ">>> x = Symbol('x', real=True)\n",
       ">>> pprint(solveset(exp(x) - 1, x), use_unicode=False)\n",
       "{2*n*I*pi | n in Integers}\n",
       "\n",
       "* If you want to use ``solveset`` to solve the equation in the\n",
       "  real domain, provide a real domain. (Using ``solveset_real``\n",
       "  does this automatically.)\n",
       "\n",
       ">>> R = S.Reals\n",
       ">>> x = Symbol('x')\n",
       ">>> solveset(exp(x) - 1, x, R)\n",
       "{0}\n",
       ">>> solveset_real(exp(x) - 1, x)\n",
       "{0}\n",
       "\n",
       "The solution is unaffected by assumptions on the symbol:\n",
       "\n",
       ">>> p = Symbol('p', positive=True)\n",
       ">>> pprint(solveset(p**2 - 4))\n",
       "{-2, 2}\n",
       "\n",
       "When a :class:`~.ConditionSet` is returned, symbols with assumptions that\n",
       "would alter the set are replaced with more generic symbols:\n",
       "\n",
       ">>> i = Symbol('i', imaginary=True)\n",
       ">>> solveset(Eq(i**2 + i*sin(i), 1), i, domain=S.Reals)\n",
       "ConditionSet(_R, Eq(_R**2 + _R*sin(_R) - 1, 0), Reals)\n",
       "\n",
       "* Inequalities can be solved over the real domain only. Use of a complex\n",
       "  domain leads to a NotImplementedError.\n",
       "\n",
       ">>> solveset(exp(x) > 1, x, R)\n",
       "Interval.open(0, oo)\n",
       "\u001b[0;31mFile:\u001b[0m      /Library/Frameworks/Python.framework/Versions/3.11/lib/python3.11/site-packages/sympy/solvers/solveset.py\n",
       "\u001b[0;31mType:\u001b[0m      function"
      ]
     },
     "metadata": {},
     "output_type": "display_data"
    }
   ],
   "source": [
    "sym.solveset?"
   ]
  },
  {
   "cell_type": "code",
   "execution_count": 16,
   "id": "860454df-0792-44da-8cfb-a8f8c6ef29ab",
   "metadata": {},
   "outputs": [
    {
     "data": {
      "text/plain": [
       "(Eq(x**2 + 5, y), Eq(x + 2*cos(y), 0))"
      ]
     },
     "execution_count": 16,
     "metadata": {},
     "output_type": "execute_result"
    }
   ],
   "source": [
    "x = sym.Symbol(\"x\")\n",
    "y = sym.Symbol(\"y\")\n",
    "equations = (sym.Eq(x ** 2 + 5, y), sym.Eq(x + 2 * sym.cos(y), 0))\n",
    "equations"
   ]
  },
  {
   "cell_type": "code",
   "execution_count": 17,
   "id": "8589f214-2f99-49ce-b97e-fc93b5d945d6",
   "metadata": {},
   "outputs": [
    {
     "ename": "NotImplementedError",
     "evalue": "could not solve sqrt(y - 5) + 2*cos(y)",
     "output_type": "error",
     "traceback": [
      "\u001b[0;31m---------------------------------------------------------------------------\u001b[0m",
      "\u001b[0;31mNotImplementedError\u001b[0m                       Traceback (most recent call last)",
      "Cell \u001b[0;32mIn[17], line 1\u001b[0m\n\u001b[0;32m----> 1\u001b[0m \u001b[43msym\u001b[49m\u001b[38;5;241;43m.\u001b[39;49m\u001b[43msolve\u001b[49m\u001b[43m(\u001b[49m\u001b[43mequations\u001b[49m\u001b[43m)\u001b[49m\n",
      "File \u001b[0;32m/Library/Frameworks/Python.framework/Versions/3.11/lib/python3.11/site-packages/sympy/solvers/solvers.py:1147\u001b[0m, in \u001b[0;36msolve\u001b[0;34m(f, *symbols, **flags)\u001b[0m\n\u001b[1;32m   1145\u001b[0m         solution \u001b[38;5;241m=\u001b[39m _solve(f[\u001b[38;5;241m0\u001b[39m], \u001b[38;5;241m*\u001b[39msymbols, \u001b[38;5;241m*\u001b[39m\u001b[38;5;241m*\u001b[39mflags)\n\u001b[1;32m   1146\u001b[0m \u001b[38;5;28;01melse\u001b[39;00m:\n\u001b[0;32m-> 1147\u001b[0m     linear, solution \u001b[38;5;241m=\u001b[39m \u001b[43m_solve_system\u001b[49m\u001b[43m(\u001b[49m\u001b[43mf\u001b[49m\u001b[43m,\u001b[49m\u001b[43m \u001b[49m\u001b[43msymbols\u001b[49m\u001b[43m,\u001b[49m\u001b[43m \u001b[49m\u001b[38;5;241;43m*\u001b[39;49m\u001b[38;5;241;43m*\u001b[39;49m\u001b[43mflags\u001b[49m\u001b[43m)\u001b[49m\n\u001b[1;32m   1148\u001b[0m \u001b[38;5;28;01massert\u001b[39;00m \u001b[38;5;28mtype\u001b[39m(solution) \u001b[38;5;129;01mis\u001b[39;00m \u001b[38;5;28mlist\u001b[39m\n\u001b[1;32m   1149\u001b[0m \u001b[38;5;28;01massert\u001b[39;00m \u001b[38;5;129;01mnot\u001b[39;00m solution \u001b[38;5;129;01mor\u001b[39;00m \u001b[38;5;28mtype\u001b[39m(solution[\u001b[38;5;241m0\u001b[39m]) \u001b[38;5;129;01mis\u001b[39;00m \u001b[38;5;28mdict\u001b[39m, solution\n",
      "File \u001b[0;32m/Library/Frameworks/Python.framework/Versions/3.11/lib/python3.11/site-packages/sympy/solvers/solvers.py:1962\u001b[0m, in \u001b[0;36m_solve_system\u001b[0;34m(exprs, symbols, **flags)\u001b[0m\n\u001b[1;32m   1960\u001b[0m         got_s\u001b[38;5;241m.\u001b[39madd(s)\n\u001b[1;32m   1961\u001b[0m     \u001b[38;5;28;01mif\u001b[39;00m \u001b[38;5;129;01mnot\u001b[39;00m hit:\n\u001b[0;32m-> 1962\u001b[0m         \u001b[38;5;28;01mraise\u001b[39;00m \u001b[38;5;167;01mNotImplementedError\u001b[39;00m(\u001b[38;5;124m'\u001b[39m\u001b[38;5;124mcould not solve \u001b[39m\u001b[38;5;132;01m%s\u001b[39;00m\u001b[38;5;124m'\u001b[39m \u001b[38;5;241m%\u001b[39m eq2)\n\u001b[1;32m   1963\u001b[0m \u001b[38;5;28;01melse\u001b[39;00m:\n\u001b[1;32m   1964\u001b[0m     result \u001b[38;5;241m=\u001b[39m newresult\n",
      "\u001b[0;31mNotImplementedError\u001b[0m: could not solve sqrt(y - 5) + 2*cos(y)"
     ]
    }
   ],
   "source": [
    "sym.solve(equations)"
   ]
  },
  {
   "cell_type": "code",
   "execution_count": 21,
   "id": "07bd4873-84d4-464b-a93c-742ec5d0e7ea",
   "metadata": {},
   "outputs": [],
   "source": [
    "def find_answer(x):\n",
    "    \"\"\"\n",
    "    IMAGINE this does something incredible and very specific when x is 0.\n",
    "    \"\"\"\n",
    "    if x == 0:\n",
    "        raise ValueError\n",
    "    return 1 / x"
   ]
  },
  {
   "cell_type": "code",
   "execution_count": 22,
   "id": "7122dd0b-3566-4059-9dfa-0f11a21d23e1",
   "metadata": {},
   "outputs": [
    {
     "data": {
      "text/plain": [
       "0.2"
      ]
     },
     "execution_count": 22,
     "metadata": {},
     "output_type": "execute_result"
    }
   ],
   "source": [
    "find_answer(5)"
   ]
  },
  {
   "cell_type": "code",
   "execution_count": 23,
   "id": "510e6e67-bff1-4093-a8ab-220b756792e6",
   "metadata": {},
   "outputs": [
    {
     "ename": "ValueError",
     "evalue": "",
     "output_type": "error",
     "traceback": [
      "\u001b[0;31m---------------------------------------------------------------------------\u001b[0m",
      "\u001b[0;31mValueError\u001b[0m                                Traceback (most recent call last)",
      "Cell \u001b[0;32mIn[23], line 1\u001b[0m\n\u001b[0;32m----> 1\u001b[0m \u001b[43mfind_answer\u001b[49m\u001b[43m(\u001b[49m\u001b[38;5;241;43m0\u001b[39;49m\u001b[43m)\u001b[49m\n",
      "Cell \u001b[0;32mIn[21], line 6\u001b[0m, in \u001b[0;36mfind_answer\u001b[0;34m(x)\u001b[0m\n\u001b[1;32m      2\u001b[0m \u001b[38;5;250m\u001b[39m\u001b[38;5;124;03m\"\"\"\u001b[39;00m\n\u001b[1;32m      3\u001b[0m \u001b[38;5;124;03mIMAGINE this does something incredible and very specific when x is 0.\u001b[39;00m\n\u001b[1;32m      4\u001b[0m \u001b[38;5;124;03m\"\"\"\u001b[39;00m\n\u001b[1;32m      5\u001b[0m \u001b[38;5;28;01mif\u001b[39;00m x \u001b[38;5;241m==\u001b[39m \u001b[38;5;241m0\u001b[39m:\n\u001b[0;32m----> 6\u001b[0m     \u001b[38;5;28;01mraise\u001b[39;00m \u001b[38;5;167;01mValueError\u001b[39;00m\n\u001b[1;32m      7\u001b[0m \u001b[38;5;28;01mreturn\u001b[39;00m \u001b[38;5;241m1\u001b[39m \u001b[38;5;241m/\u001b[39m x\n",
      "\u001b[0;31mValueError\u001b[0m: "
     ]
    }
   ],
   "source": [
    "find_answer(0)"
   ]
  },
  {
   "cell_type": "code",
   "execution_count": 4,
   "id": "8a1087db-7476-4476-a2f3-acb986eb2ac0",
   "metadata": {},
   "outputs": [
    {
     "data": {
      "text/latex": [
       "$\\displaystyle \\left[\\begin{matrix}a & 3 & 1\\\\a & 2 a & 3\\\\-3 & 2 & 2 a\\end{matrix}\\right]$"
      ],
      "text/plain": [
       "Matrix([\n",
       "[ a,   3,   1],\n",
       "[ a, 2*a,   3],\n",
       "[-3,   2, 2*a]])"
      ]
     },
     "execution_count": 4,
     "metadata": {},
     "output_type": "execute_result"
    }
   ],
   "source": [
    "import sympy as sym\n",
    "a = sym.Symbol(\"a\")\n",
    "A = sym.Matrix(((a, 3, 1), (a, 2 * a, 3), (-3, 2, 2 * a)))\n",
    "A"
   ]
  },
  {
   "cell_type": "code",
   "execution_count": 5,
   "id": "7ac22819-14fd-4835-a50d-f22e3dd526be",
   "metadata": {},
   "outputs": [
    {
     "data": {
      "text/latex": [
       "$\\displaystyle 4 a^{3} - 6 a^{2} + 2 a - 27$"
      ],
      "text/plain": [
       "4*a**3 - 6*a**2 + 2*a - 27"
      ]
     },
     "execution_count": 5,
     "metadata": {},
     "output_type": "execute_result"
    }
   ],
   "source": [
    "determinant = A.det()\n",
    "determinant"
   ]
  },
  {
   "cell_type": "code",
   "execution_count": 6,
   "id": "6cef3f38-5e0f-48bf-9dad-5ecd44558b04",
   "metadata": {},
   "outputs": [
    {
     "data": {
      "text/latex": [
       "$\\displaystyle \\left\\{\\frac{1}{12 \\sqrt[3]{\\frac{\\sqrt{59046}}{72} + \\frac{27}{8}}} + \\frac{1}{2} + \\sqrt[3]{\\frac{\\sqrt{59046}}{72} + \\frac{27}{8}}, - \\frac{\\sqrt[3]{\\frac{\\sqrt{59046}}{72} + \\frac{27}{8}}}{2} - \\frac{1}{24 \\sqrt[3]{\\frac{\\sqrt{59046}}{72} + \\frac{27}{8}}} + \\frac{1}{2} + i \\left(- \\frac{\\sqrt{3}}{24 \\sqrt[3]{\\frac{\\sqrt{59046}}{72} + \\frac{27}{8}}} + \\frac{\\sqrt{3} \\sqrt[3]{\\frac{\\sqrt{59046}}{72} + \\frac{27}{8}}}{2}\\right), - \\frac{\\sqrt[3]{\\frac{\\sqrt{59046}}{72} + \\frac{27}{8}}}{2} - \\frac{1}{24 \\sqrt[3]{\\frac{\\sqrt{59046}}{72} + \\frac{27}{8}}} + \\frac{1}{2} + i \\left(- \\frac{\\sqrt{3} \\sqrt[3]{\\frac{\\sqrt{59046}}{72} + \\frac{27}{8}}}{2} + \\frac{\\sqrt{3}}{24 \\sqrt[3]{\\frac{\\sqrt{59046}}{72} + \\frac{27}{8}}}\\right)\\right\\}$"
      ],
      "text/plain": [
       "{1/(12*(sqrt(59046)/72 + 27/8)**(1/3)) + 1/2 + (sqrt(59046)/72 + 27/8)**(1/3), -(sqrt(59046)/72 + 27/8)**(1/3)/2 - 1/(24*(sqrt(59046)/72 + 27/8)**(1/3)) + 1/2 + I*(-sqrt(3)/(24*(sqrt(59046)/72 + 27/8)**(1/3)) + sqrt(3)*(sqrt(59046)/72 + 27/8)**(1/3)/2), -(sqrt(59046)/72 + 27/8)**(1/3)/2 - 1/(24*(sqrt(59046)/72 + 27/8)**(1/3)) + 1/2 + I*(-sqrt(3)*(sqrt(59046)/72 + 27/8)**(1/3)/2 + sqrt(3)/(24*(sqrt(59046)/72 + 27/8)**(1/3)))}"
      ]
     },
     "execution_count": 6,
     "metadata": {},
     "output_type": "execute_result"
    }
   ],
   "source": [
    "equation = sym.Eq(determinant, 0)\n",
    "singular_values_of_a = sym.solveset(equation, a)\n",
    "singular_values_of_a"
   ]
  },
  {
   "cell_type": "code",
   "execution_count": 7,
   "id": "12e09d00-ed54-4978-a1b6-646ffdd5fef8",
   "metadata": {},
   "outputs": [
    {
     "data": {
      "text/plain": [
       "[1/(12*(sqrt(59046)/72 + 27/8)**(1/3)) + 1/2 + (sqrt(59046)/72 + 27/8)**(1/3)]"
      ]
     },
     "execution_count": 7,
     "metadata": {},
     "output_type": "execute_result"
    }
   ],
   "source": [
    "[value for value in singular_values_of_a if value.is_real]"
   ]
  },
  {
   "cell_type": "code",
   "execution_count": 34,
   "id": "a7542ba5-4204-44a9-90ba-05dd250aec18",
   "metadata": {},
   "outputs": [
    {
     "data": {
      "text/latex": [
       "$\\displaystyle - \\frac{\\sqrt[3]{\\frac{\\sqrt{59046}}{72} + \\frac{27}{8}}}{2} - \\frac{1}{24 \\sqrt[3]{\\frac{\\sqrt{59046}}{72} + \\frac{27}{8}}} + \\frac{1}{2} + i \\left(- \\frac{\\sqrt{3}}{24 \\sqrt[3]{\\frac{\\sqrt{59046}}{72} + \\frac{27}{8}}} + \\frac{\\sqrt{3} \\sqrt[3]{\\frac{\\sqrt{59046}}{72} + \\frac{27}{8}}}{2}\\right)$"
      ],
      "text/plain": [
       "-(sqrt(59046)/72 + 27/8)**(1/3)/2 - 1/(24*(sqrt(59046)/72 + 27/8)**(1/3)) + 1/2 + I*(-sqrt(3)/(24*(sqrt(59046)/72 + 27/8)**(1/3)) + sqrt(3)*(sqrt(59046)/72 + 27/8)**(1/3)/2)"
      ]
     },
     "execution_count": 34,
     "metadata": {},
     "output_type": "execute_result"
    }
   ],
   "source": [
    "number"
   ]
  },
  {
   "cell_type": "code",
   "execution_count": 36,
   "id": "1302724b-2991-42d5-8d70-99afe7004ba9",
   "metadata": {},
   "outputs": [
    {
     "data": {
      "text/plain": [
       "(-(sqrt(59046)/72 + 27/8)**(1/3)/2 - 1/(24*(sqrt(59046)/72 + 27/8)**(1/3)) + 1/2,\n",
       " -sqrt(3)/(24*(sqrt(59046)/72 + 27/8)**(1/3)) + sqrt(3)*(sqrt(59046)/72 + 27/8)**(1/3)/2)"
      ]
     },
     "execution_count": 36,
     "metadata": {},
     "output_type": "execute_result"
    }
   ],
   "source": [
    "number.as_real_imag()"
   ]
  },
  {
   "cell_type": "code",
   "execution_count": 40,
   "id": "fc635f99-6258-4ffb-8afe-ae1ec0e9ab03",
   "metadata": {},
   "outputs": [
    {
     "data": {
      "text/plain": [
       "\u001b[0;31mSignature:\u001b[0m \u001b[0msym\u001b[0m\u001b[0;34m.\u001b[0m\u001b[0msolveset\u001b[0m\u001b[0;34m(\u001b[0m\u001b[0mf\u001b[0m\u001b[0;34m,\u001b[0m \u001b[0msymbol\u001b[0m\u001b[0;34m=\u001b[0m\u001b[0;32mNone\u001b[0m\u001b[0;34m,\u001b[0m \u001b[0mdomain\u001b[0m\u001b[0;34m=\u001b[0m\u001b[0mComplexes\u001b[0m\u001b[0;34m)\u001b[0m\u001b[0;34m\u001b[0m\u001b[0;34m\u001b[0m\u001b[0m\n",
       "\u001b[0;31mDocstring:\u001b[0m\n",
       "Solves a given inequality or equation with set as output\n",
       "\n",
       "Parameters\n",
       "==========\n",
       "\n",
       "f : Expr or a relational.\n",
       "    The target equation or inequality\n",
       "symbol : Symbol\n",
       "    The variable for which the equation is solved\n",
       "domain : Set\n",
       "    The domain over which the equation is solved\n",
       "\n",
       "Returns\n",
       "=======\n",
       "\n",
       "Set\n",
       "    A set of values for `symbol` for which `f` is True or is equal to\n",
       "    zero. An :class:`~.EmptySet` is returned if `f` is False or nonzero.\n",
       "    A :class:`~.ConditionSet` is returned as unsolved object if algorithms\n",
       "    to evaluate complete solution are not yet implemented.\n",
       "\n",
       "``solveset`` claims to be complete in the solution set that it returns.\n",
       "\n",
       "Raises\n",
       "======\n",
       "\n",
       "NotImplementedError\n",
       "    The algorithms to solve inequalities in complex domain  are\n",
       "    not yet implemented.\n",
       "ValueError\n",
       "    The input is not valid.\n",
       "RuntimeError\n",
       "    It is a bug, please report to the github issue tracker.\n",
       "\n",
       "\n",
       "Notes\n",
       "=====\n",
       "\n",
       "Python interprets 0 and 1 as False and True, respectively, but\n",
       "in this function they refer to solutions of an expression. So 0 and 1\n",
       "return the domain and EmptySet, respectively, while True and False\n",
       "return the opposite (as they are assumed to be solutions of relational\n",
       "expressions).\n",
       "\n",
       "\n",
       "See Also\n",
       "========\n",
       "\n",
       "solveset_real: solver for real domain\n",
       "solveset_complex: solver for complex domain\n",
       "\n",
       "Examples\n",
       "========\n",
       "\n",
       ">>> from sympy import exp, sin, Symbol, pprint, S, Eq\n",
       ">>> from sympy.solvers.solveset import solveset, solveset_real\n",
       "\n",
       "* The default domain is complex. Not specifying a domain will lead\n",
       "  to the solving of the equation in the complex domain (and this\n",
       "  is not affected by the assumptions on the symbol):\n",
       "\n",
       ">>> x = Symbol('x')\n",
       ">>> pprint(solveset(exp(x) - 1, x), use_unicode=False)\n",
       "{2*n*I*pi | n in Integers}\n",
       "\n",
       ">>> x = Symbol('x', real=True)\n",
       ">>> pprint(solveset(exp(x) - 1, x), use_unicode=False)\n",
       "{2*n*I*pi | n in Integers}\n",
       "\n",
       "* If you want to use ``solveset`` to solve the equation in the\n",
       "  real domain, provide a real domain. (Using ``solveset_real``\n",
       "  does this automatically.)\n",
       "\n",
       ">>> R = S.Reals\n",
       ">>> x = Symbol('x')\n",
       ">>> solveset(exp(x) - 1, x, R)\n",
       "{0}\n",
       ">>> solveset_real(exp(x) - 1, x)\n",
       "{0}\n",
       "\n",
       "The solution is unaffected by assumptions on the symbol:\n",
       "\n",
       ">>> p = Symbol('p', positive=True)\n",
       ">>> pprint(solveset(p**2 - 4))\n",
       "{-2, 2}\n",
       "\n",
       "When a :class:`~.ConditionSet` is returned, symbols with assumptions that\n",
       "would alter the set are replaced with more generic symbols:\n",
       "\n",
       ">>> i = Symbol('i', imaginary=True)\n",
       ">>> solveset(Eq(i**2 + i*sin(i), 1), i, domain=S.Reals)\n",
       "ConditionSet(_R, Eq(_R**2 + _R*sin(_R) - 1, 0), Reals)\n",
       "\n",
       "* Inequalities can be solved over the real domain only. Use of a complex\n",
       "  domain leads to a NotImplementedError.\n",
       "\n",
       ">>> solveset(exp(x) > 1, x, R)\n",
       "Interval.open(0, oo)\n",
       "\u001b[0;31mFile:\u001b[0m      /Library/Frameworks/Python.framework/Versions/3.11/lib/python3.11/site-packages/sympy/solvers/solveset.py\n",
       "\u001b[0;31mType:\u001b[0m      function"
      ]
     },
     "metadata": {},
     "output_type": "display_data"
    }
   ],
   "source": [
    "sym.solveset?"
   ]
  },
  {
   "cell_type": "code",
   "execution_count": 44,
   "id": "25c2e73d-2a52-49e6-98f3-b27ae6336c34",
   "metadata": {},
   "outputs": [
    {
     "data": {
      "text/plain": [
       "[1/(12*(sqrt(59046)/72 + 27/8)**(1/3)) + 1/2 + (sqrt(59046)/72 + 27/8)**(1/3)]"
      ]
     },
     "execution_count": 44,
     "metadata": {},
     "output_type": "execute_result"
    }
   ],
   "source": [
    "list(sym.solveset(equation, a, domain=sym.S.Reals))"
   ]
  }
 ],
 "metadata": {
  "kernelspec": {
   "display_name": "Python 3 (ipykernel)",
   "language": "python",
   "name": "python3"
  },
  "language_info": {
   "codemirror_mode": {
    "name": "ipython",
    "version": 3
   },
   "file_extension": ".py",
   "mimetype": "text/x-python",
   "name": "python",
   "nbconvert_exporter": "python",
   "pygments_lexer": "ipython3",
   "version": "3.11.4"
  }
 },
 "nbformat": 4,
 "nbformat_minor": 5
}
