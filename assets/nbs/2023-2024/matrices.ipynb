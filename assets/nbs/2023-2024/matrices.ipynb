{
 "cells": [
  {
   "cell_type": "markdown",
   "id": "b4b65c66-4f34-4e17-85df-f972f67656cd",
   "metadata": {},
   "source": [
    "The matrix $A$ is given by $A=\\begin{pmatrix}1 & 1 & a\\\\ 2 & a & 1\\\\ a & 1 & 2 a\\end{pmatrix}$\n",
    "\n",
    "1. Find the determinant of $A$\n",
    "2. Hence find the values of $a$ for which $A$ is singular.\n",
    "3. For the following values of $a$, when possible obtain $A ^ {- 1}$\n",
    "   and confirm the result by computing $AA^{-1}$:\n",
    "\n",
    "   1. $a = 0$;\n",
    "   2. $a = 1$;\n",
    "   3. $a = 2$;\n",
    "   4. $a = 3$.\n"
   ]
  },
  {
   "cell_type": "code",
   "execution_count": 2,
   "id": "01c5f155-28be-4478-b42e-6234c41bcf8e",
   "metadata": {},
   "outputs": [],
   "source": [
    "import sympy as sym"
   ]
  },
  {
   "cell_type": "code",
   "execution_count": 4,
   "id": "72fb2fb3-09b3-409c-b81b-8db270a5edc3",
   "metadata": {},
   "outputs": [
    {
     "data": {
      "text/latex": [
       "$\\displaystyle \\left[\\begin{matrix}1 & 1 & a\\\\2 & a & 1\\\\a & 1 & 2 a\\end{matrix}\\right]$"
      ],
      "text/plain": [
       "Matrix([\n",
       "[1, 1,   a],\n",
       "[2, a,   1],\n",
       "[a, 1, 2*a]])"
      ]
     },
     "execution_count": 4,
     "metadata": {},
     "output_type": "execute_result"
    }
   ],
   "source": [
    "a = sym.Symbol(\"a\")\n",
    "A = sym.Matrix(((1, 1, a), (2, a, 1), (a, 1, 2 * a)))\n",
    "A"
   ]
  },
  {
   "cell_type": "code",
   "execution_count": 5,
   "id": "9420825b-00b1-4853-80b9-b501ed5a1147",
   "metadata": {},
   "outputs": [
    {
     "data": {
      "text/latex": [
       "$\\displaystyle - a^{3} + 2 a^{2} - a - 1$"
      ],
      "text/plain": [
       "-a**3 + 2*a**2 - a - 1"
      ]
     },
     "execution_count": 5,
     "metadata": {},
     "output_type": "execute_result"
    }
   ],
   "source": [
    "determinant = A.det()\n",
    "determinant"
   ]
  },
  {
   "cell_type": "markdown",
   "id": "a597ce72-c064-482c-99c3-6aff524f4970",
   "metadata": {},
   "source": [
    "To find out when the matrix is singular we need to solve the equation given by:\n",
    "\n",
    "$$\\text{det}(A)=0$$"
   ]
  },
  {
   "cell_type": "code",
   "execution_count": 6,
   "id": "d2f188c9-fd05-40f1-b118-e389ace23e14",
   "metadata": {},
   "outputs": [
    {
     "data": {
      "text/latex": [
       "$\\displaystyle \\left\\{- \\frac{\\sqrt[3]{\\frac{3 \\sqrt{93}}{2} + \\frac{29}{2}}}{3} - \\frac{1}{3 \\sqrt[3]{\\frac{3 \\sqrt{93}}{2} + \\frac{29}{2}}} + \\frac{2}{3}, \\frac{1}{6 \\sqrt[3]{\\frac{3 \\sqrt{93}}{2} + \\frac{29}{2}}} + \\frac{\\sqrt[3]{\\frac{3 \\sqrt{93}}{2} + \\frac{29}{2}}}{6} + \\frac{2}{3} + i \\left(- \\frac{\\sqrt{3}}{6 \\sqrt[3]{\\frac{3 \\sqrt{93}}{2} + \\frac{29}{2}}} + \\frac{\\sqrt{3} \\sqrt[3]{\\frac{3 \\sqrt{93}}{2} + \\frac{29}{2}}}{6}\\right), \\frac{1}{6 \\sqrt[3]{\\frac{3 \\sqrt{93}}{2} + \\frac{29}{2}}} + \\frac{\\sqrt[3]{\\frac{3 \\sqrt{93}}{2} + \\frac{29}{2}}}{6} + \\frac{2}{3} + i \\left(- \\frac{\\sqrt{3} \\sqrt[3]{\\frac{3 \\sqrt{93}}{2} + \\frac{29}{2}}}{6} + \\frac{\\sqrt{3}}{6 \\sqrt[3]{\\frac{3 \\sqrt{93}}{2} + \\frac{29}{2}}}\\right)\\right\\}$"
      ],
      "text/plain": [
       "{-(3*sqrt(93)/2 + 29/2)**(1/3)/3 - 1/(3*(3*sqrt(93)/2 + 29/2)**(1/3)) + 2/3, 1/(6*(3*sqrt(93)/2 + 29/2)**(1/3)) + (3*sqrt(93)/2 + 29/2)**(1/3)/6 + 2/3 + I*(-sqrt(3)/(6*(3*sqrt(93)/2 + 29/2)**(1/3)) + sqrt(3)*(3*sqrt(93)/2 + 29/2)**(1/3)/6), 1/(6*(3*sqrt(93)/2 + 29/2)**(1/3)) + (3*sqrt(93)/2 + 29/2)**(1/3)/6 + 2/3 + I*(-sqrt(3)*(3*sqrt(93)/2 + 29/2)**(1/3)/6 + sqrt(3)/(6*(3*sqrt(93)/2 + 29/2)**(1/3)))}"
      ]
     },
     "execution_count": 6,
     "metadata": {},
     "output_type": "execute_result"
    }
   ],
   "source": [
    "equation = sym.Eq(determinant, 0)\n",
    "sym.solveset(equation, a)"
   ]
  },
  {
   "cell_type": "markdown",
   "id": "028c2919-200c-4cae-888c-928a64e50a9f",
   "metadata": {},
   "source": [
    "For $a=0$ let us compute $A^{-1}$:"
   ]
  },
  {
   "cell_type": "code",
   "execution_count": 12,
   "id": "b47e5a05-1617-4804-978f-266c7e14aefb",
   "metadata": {},
   "outputs": [
    {
     "name": "stdout",
     "output_type": "stream",
     "text": [
      "Matrix([[-17/13, 3/13, 8/13], [9/13, 3/13, -5/13], [7/13, -2/13, -1/13]])\n"
     ]
    }
   ],
   "source": [
    "inv_A = A.inv()\n",
    "print(inv_A.subs({a: 3}))"
   ]
  },
  {
   "cell_type": "markdown",
   "id": "29b5d9e8-e0d9-49d2-8345-0e3cf3ee9e0f",
   "metadata": {},
   "source": [
    "Let us compute $A A ^{-1}$:"
   ]
  },
  {
   "cell_type": "code",
   "execution_count": 18,
   "id": "b26b41cd-c4e5-4279-91f0-bb92b4948348",
   "metadata": {},
   "outputs": [
    {
     "data": {
      "text/latex": [
       "$\\displaystyle \\left[\\begin{matrix}1 & 0 & 0\\\\0 & 1 & 0\\\\0 & 0 & 1\\end{matrix}\\right]$"
      ],
      "text/plain": [
       "Matrix([\n",
       "[1, 0, 0],\n",
       "[0, 1, 0],\n",
       "[0, 0, 1]])"
      ]
     },
     "execution_count": 18,
     "metadata": {},
     "output_type": "execute_result"
    }
   ],
   "source": [
    "A_multiplied_by_A_inv = A @ inv_A\n",
    "(A_multiplied_by_A_inv).subs({a: 0})"
   ]
  },
  {
   "cell_type": "markdown",
   "id": "ebedc987-7bf1-4463-b1f6-8311d38206e5",
   "metadata": {},
   "source": [
    "For $a=1$:"
   ]
  },
  {
   "cell_type": "code",
   "execution_count": 23,
   "id": "73354e7a-70d1-47b3-a738-93888dd451c6",
   "metadata": {},
   "outputs": [
    {
     "data": {
      "text/latex": [
       "$\\displaystyle \\left[\\begin{matrix}-1 & 1 & 0\\\\3 & -1 & -1\\\\-1 & 0 & 1\\end{matrix}\\right]$"
      ],
      "text/plain": [
       "Matrix([\n",
       "[-1,  1,  0],\n",
       "[ 3, -1, -1],\n",
       "[-1,  0,  1]])"
      ]
     },
     "execution_count": 23,
     "metadata": {},
     "output_type": "execute_result"
    }
   ],
   "source": [
    "inv_A.subs({a: 1})"
   ]
  },
  {
   "cell_type": "code",
   "execution_count": 24,
   "id": "d34db56a-f67b-4afb-8a73-5c9fd13a824b",
   "metadata": {},
   "outputs": [
    {
     "data": {
      "text/latex": [
       "$\\displaystyle \\left[\\begin{matrix}1 & 0 & 0\\\\0 & 1 & 0\\\\0 & 0 & 1\\end{matrix}\\right]$"
      ],
      "text/plain": [
       "Matrix([\n",
       "[1, 0, 0],\n",
       "[0, 1, 0],\n",
       "[0, 0, 1]])"
      ]
     },
     "execution_count": 24,
     "metadata": {},
     "output_type": "execute_result"
    }
   ],
   "source": [
    "(A_multiplied_by_A_inv).subs({a: 1})"
   ]
  },
  {
   "cell_type": "markdown",
   "id": "cb133c8f-a5c2-41d0-9b5f-bacd0ab936df",
   "metadata": {},
   "source": [
    "For $a = 2$:"
   ]
  },
  {
   "cell_type": "code",
   "execution_count": 25,
   "id": "fd90a41d-a051-40df-aac8-0f2c2df080d4",
   "metadata": {},
   "outputs": [
    {
     "data": {
      "text/latex": [
       "$\\displaystyle \\left[\\begin{matrix}- \\frac{7}{3} & \\frac{2}{3} & 1\\\\2 & 0 & -1\\\\\\frac{2}{3} & - \\frac{1}{3} & 0\\end{matrix}\\right]$"
      ],
      "text/plain": [
       "Matrix([\n",
       "[-7/3,  2/3,  1],\n",
       "[   2,    0, -1],\n",
       "[ 2/3, -1/3,  0]])"
      ]
     },
     "execution_count": 25,
     "metadata": {},
     "output_type": "execute_result"
    }
   ],
   "source": [
    "inv_A.subs({a: 2})"
   ]
  },
  {
   "cell_type": "code",
   "execution_count": 26,
   "id": "c5e7b48d-4302-4def-8e43-d2a6dea868d6",
   "metadata": {},
   "outputs": [
    {
     "data": {
      "text/latex": [
       "$\\displaystyle \\left[\\begin{matrix}1 & 0 & 0\\\\0 & 1 & 0\\\\0 & 0 & 1\\end{matrix}\\right]$"
      ],
      "text/plain": [
       "Matrix([\n",
       "[1, 0, 0],\n",
       "[0, 1, 0],\n",
       "[0, 0, 1]])"
      ]
     },
     "execution_count": 26,
     "metadata": {},
     "output_type": "execute_result"
    }
   ],
   "source": [
    "(A_multiplied_by_A_inv).subs({a: 2})"
   ]
  },
  {
   "cell_type": "markdown",
   "id": "8895f3b6-3e6c-40ab-b0cf-b190cd73b82e",
   "metadata": {},
   "source": [
    "For $a=3$:"
   ]
  },
  {
   "cell_type": "code",
   "execution_count": 27,
   "id": "5045757a-5c00-4fb3-82bd-d97dfeb78373",
   "metadata": {},
   "outputs": [
    {
     "data": {
      "text/latex": [
       "$\\displaystyle \\left[\\begin{matrix}- \\frac{17}{13} & \\frac{3}{13} & \\frac{8}{13}\\\\\\frac{9}{13} & \\frac{3}{13} & - \\frac{5}{13}\\\\\\frac{7}{13} & - \\frac{2}{13} & - \\frac{1}{13}\\end{matrix}\\right]$"
      ],
      "text/plain": [
       "Matrix([\n",
       "[-17/13,  3/13,  8/13],\n",
       "[  9/13,  3/13, -5/13],\n",
       "[  7/13, -2/13, -1/13]])"
      ]
     },
     "execution_count": 27,
     "metadata": {},
     "output_type": "execute_result"
    }
   ],
   "source": [
    "inv_A.subs({a: 3})"
   ]
  },
  {
   "cell_type": "code",
   "execution_count": 28,
   "id": "910bdfd3-4333-4f67-8e8e-c6f62f17af18",
   "metadata": {},
   "outputs": [
    {
     "data": {
      "text/latex": [
       "$\\displaystyle \\left[\\begin{matrix}1 & 0 & 0\\\\0 & 1 & 0\\\\0 & 0 & 1\\end{matrix}\\right]$"
      ],
      "text/plain": [
       "Matrix([\n",
       "[1, 0, 0],\n",
       "[0, 1, 0],\n",
       "[0, 0, 1]])"
      ]
     },
     "execution_count": 28,
     "metadata": {},
     "output_type": "execute_result"
    }
   ],
   "source": [
    "(A_multiplied_by_A_inv).subs({a: 3})"
   ]
  },
  {
   "cell_type": "code",
   "execution_count": 29,
   "id": "a3d01a78-7fb8-4d71-8b8d-06d1004c98db",
   "metadata": {},
   "outputs": [
    {
     "data": {
      "text/latex": [
       "$\\displaystyle \\left[\\begin{matrix}1 & 2 & 0\\\\3 & 1 & 2\\\\0 & -1 & 1\\end{matrix}\\right]$"
      ],
      "text/plain": [
       "Matrix([\n",
       "[1,  2, 0],\n",
       "[3,  1, 2],\n",
       "[0, -1, 1]])"
      ]
     },
     "execution_count": 29,
     "metadata": {},
     "output_type": "execute_result"
    }
   ],
   "source": [
    "A = sym.Matrix([[1, 2, 0], [3, 1, 2], [0, -1, 1]])\n",
    "A"
   ]
  },
  {
   "cell_type": "code",
   "execution_count": 30,
   "id": "bedfd0ff-ed98-44cf-b4f0-8d4acdce7ec9",
   "metadata": {},
   "outputs": [
    {
     "data": {
      "text/latex": [
       "$\\displaystyle \\left[\\begin{matrix}7 & 4 & 4\\\\6 & 5 & 4\\\\-3 & -2 & -1\\end{matrix}\\right]$"
      ],
      "text/plain": [
       "Matrix([\n",
       "[ 7,  4,  4],\n",
       "[ 6,  5,  4],\n",
       "[-3, -2, -1]])"
      ]
     },
     "execution_count": 30,
     "metadata": {},
     "output_type": "execute_result"
    }
   ],
   "source": [
    "A ** 2"
   ]
  },
  {
   "cell_type": "code",
   "execution_count": 31,
   "id": "845ac223-bf9b-4c0b-8431-01aede03f72c",
   "metadata": {},
   "outputs": [
    {
     "data": {
      "text/latex": [
       "$\\displaystyle \\left[\\begin{matrix}\\frac{1}{3} & - \\frac{4}{9} & - \\frac{4}{9}\\\\- \\frac{2}{3} & \\frac{5}{9} & - \\frac{4}{9}\\\\\\frac{1}{3} & \\frac{2}{9} & \\frac{11}{9}\\end{matrix}\\right]$"
      ],
      "text/plain": [
       "Matrix([\n",
       "[ 1/3, -4/9, -4/9],\n",
       "[-2/3,  5/9, -4/9],\n",
       "[ 1/3,  2/9, 11/9]])"
      ]
     },
     "execution_count": 31,
     "metadata": {},
     "output_type": "execute_result"
    }
   ],
   "source": [
    "(A @ A).inv()"
   ]
  },
  {
   "cell_type": "code",
   "execution_count": null,
   "id": "c57247e8-c278-4932-a737-dfdcecf223f5",
   "metadata": {},
   "outputs": [],
   "source": []
  }
 ],
 "metadata": {
  "kernelspec": {
   "display_name": "Python 3 (ipykernel)",
   "language": "python",
   "name": "python3"
  },
  "language_info": {
   "codemirror_mode": {
    "name": "ipython",
    "version": 3
   },
   "file_extension": ".py",
   "mimetype": "text/x-python",
   "name": "python",
   "nbconvert_exporter": "python",
   "pygments_lexer": "ipython3",
   "version": "3.11.4"
  }
 },
 "nbformat": 4,
 "nbformat_minor": 5
}
