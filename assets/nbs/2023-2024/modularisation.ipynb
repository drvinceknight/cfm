{
 "cells": [
  {
   "cell_type": "markdown",
   "id": "2ec2d7e7-47b5-4327-bf92-39f17158de6d",
   "metadata": {},
   "source": [
    "What does this do?"
   ]
  },
  {
   "cell_type": "code",
   "execution_count": 4,
   "id": "e2478127-f54a-4bd5-90f5-b39f831942ed",
   "metadata": {},
   "outputs": [],
   "source": [
    "import numpy as np\n",
    "\n",
    "def run_2_opt_algorithm(\n",
    "    number_of_stops,\n",
    "    distance_matrix,\n",
    "    iterations,\n",
    "    seed=None,\n",
    "):\n",
    "\n",
    "    internal_stops = list(range(1, number_of_stops))\n",
    "    if seed is not None:\n",
    "        np.random.seed(seed)\n",
    "        np.random.shuffle(internal_stops)\n",
    "    tour = [0] + internal_stops + [0]\n",
    "\n",
    "    \n",
    "    best_cost = sum(\n",
    "        distance_matrix[current_stop, next_stop]\n",
    "        for current_stop, next_stop in\n",
    "        zip(tour[:-1], tour[1:])\n",
    "        )\n",
    "\n",
    "    \n",
    "    for _ in range(iterations):\n",
    "\n",
    "        two_indices = np.random.choice(range(1, number_of_stops), 2)\n",
    "        i, j = sorted(two_indices)\n",
    "\n",
    "        candidate_tour = tour[:i] + tour[i:j + 1][::-1] + tour[j + 1:]\n",
    "\n",
    "        candidate_cost = sum(\n",
    "            distance_matrix[current_stop, next_stop]\n",
    "            for current_stop, next_stop in\n",
    "            zip(candidate_tour[:-1], candidate_tour[1:])\n",
    "            )\n",
    "\n",
    "        if (candidate_cost) <= best_cost:\n",
    "            best_cost = candidate_cost\n",
    "            tour = candidate_tour\n",
    "\n",
    "    return tour"
   ]
  },
  {
   "cell_type": "code",
   "execution_count": 14,
   "id": "c42028a1-77bc-4760-aa62-b79e273420cf",
   "metadata": {},
   "outputs": [],
   "source": [
    "numbers = (1, 2, 3, 4, 5,)\n",
    "letters = \"ABCDEF\""
   ]
  },
  {
   "cell_type": "code",
   "execution_count": 15,
   "id": "04416e45-4292-4859-a64a-61fad24b2d3d",
   "metadata": {},
   "outputs": [
    {
     "name": "stdout",
     "output_type": "stream",
     "text": [
      "1\n",
      "2\n",
      "3\n",
      "4\n",
      "5\n"
     ]
    }
   ],
   "source": [
    "for number in numbers:\n",
    "    print(number)"
   ]
  },
  {
   "cell_type": "code",
   "execution_count": 16,
   "id": "e940e5a6-0060-479e-a288-0559f5d0bf0e",
   "metadata": {},
   "outputs": [
    {
     "name": "stdout",
     "output_type": "stream",
     "text": [
      "A\n",
      "B\n",
      "C\n",
      "D\n",
      "E\n",
      "F\n"
     ]
    }
   ],
   "source": [
    "for letter in letters:\n",
    "    print(letter)"
   ]
  },
  {
   "cell_type": "code",
   "execution_count": 18,
   "id": "74072166-071c-43b9-ae9b-3fdd98eae1ce",
   "metadata": {},
   "outputs": [
    {
     "name": "stdout",
     "output_type": "stream",
     "text": [
      "(1, 'A')\n",
      "(2, 'B')\n",
      "(3, 'C')\n",
      "(4, 'D')\n",
      "(5, 'E')\n"
     ]
    }
   ],
   "source": [
    "for pair in zip(numbers, letters):\n",
    "    print(pair)"
   ]
  },
  {
   "cell_type": "code",
   "execution_count": 19,
   "id": "700fcecb-b606-451e-a276-5490f127e7d6",
   "metadata": {},
   "outputs": [
    {
     "data": {
      "text/plain": [
       "('NeW York', 'Cardiff', 'Jos', 'Roseau')"
      ]
     },
     "execution_count": 19,
     "metadata": {},
     "output_type": "execute_result"
    }
   ],
   "source": [
    "tour = (\"NeW York\", \"Cardiff\", \"Jos\", \"Roseau\", \"Windhoek\")\n",
    "tour[:-1]"
   ]
  },
  {
   "cell_type": "code",
   "execution_count": 20,
   "id": "6e5607d6-8239-443f-b06d-a59bf536deb1",
   "metadata": {},
   "outputs": [
    {
     "data": {
      "text/plain": [
       "('Cardiff', 'Jos', 'Roseau', 'Windhoek')"
      ]
     },
     "execution_count": 20,
     "metadata": {},
     "output_type": "execute_result"
    }
   ],
   "source": [
    "tour[1:]"
   ]
  },
  {
   "cell_type": "code",
   "execution_count": 22,
   "id": "bacd47bc-6fe2-4450-aac7-9e1e4f16775b",
   "metadata": {},
   "outputs": [
    {
     "name": "stdout",
     "output_type": "stream",
     "text": [
      "From NeW York to Cardiff\n",
      "From Cardiff to Jos\n",
      "From Jos to Roseau\n",
      "From Roseau to Windhoek\n"
     ]
    }
   ],
   "source": [
    "for current_city, next_city in zip(tour[:-1], tour[1:]):\n",
    "    print(f\"From {current_city} to {next_city}\")"
   ]
  },
  {
   "cell_type": "code",
   "execution_count": null,
   "id": "996a3768-7412-44dd-b064-26c8d16338be",
   "metadata": {},
   "outputs": [],
   "source": []
  },
  {
   "cell_type": "code",
   "execution_count": null,
   "id": "4efbf8f6-7749-4104-ba7e-40b789ea2a8c",
   "metadata": {},
   "outputs": [],
   "source": []
  },
  {
   "cell_type": "code",
   "execution_count": null,
   "id": "83789cf2-20df-45f1-99e7-42c9a990886d",
   "metadata": {},
   "outputs": [],
   "source": []
  },
  {
   "cell_type": "code",
   "execution_count": null,
   "id": "2c338891-64bc-4f78-a335-06a6e67444ed",
   "metadata": {},
   "outputs": [],
   "source": []
  },
  {
   "cell_type": "code",
   "execution_count": null,
   "id": "2123ce15-8a71-4f1a-8fbb-be7122cd7616",
   "metadata": {},
   "outputs": [],
   "source": []
  },
  {
   "cell_type": "code",
   "execution_count": null,
   "id": "ab7557e4-f89e-4c6f-bde7-510d5a562d8d",
   "metadata": {},
   "outputs": [],
   "source": []
  },
  {
   "cell_type": "code",
   "execution_count": null,
   "id": "e9b4a19f-d741-4d97-8791-e99cfb66d68c",
   "metadata": {},
   "outputs": [],
   "source": []
  },
  {
   "cell_type": "code",
   "execution_count": null,
   "id": "5868122a-cc00-484d-a861-a7e294ffd8f9",
   "metadata": {},
   "outputs": [],
   "source": []
  },
  {
   "cell_type": "code",
   "execution_count": null,
   "id": "ac90577a-b34c-45e6-b653-3f4288bc57d1",
   "metadata": {},
   "outputs": [],
   "source": []
  },
  {
   "cell_type": "code",
   "execution_count": null,
   "id": "7a8a7b34-1426-4bb7-8c6d-956b918716ed",
   "metadata": {},
   "outputs": [],
   "source": []
  },
  {
   "cell_type": "code",
   "execution_count": null,
   "id": "a1a342e0-b8e6-4730-ae53-8aa87a9a50e1",
   "metadata": {},
   "outputs": [],
   "source": []
  },
  {
   "cell_type": "code",
   "execution_count": null,
   "id": "b6c2edfe-74fa-450a-854f-e1663ed66cec",
   "metadata": {},
   "outputs": [],
   "source": []
  },
  {
   "cell_type": "code",
   "execution_count": null,
   "id": "1cddafb5-a4d5-4da8-a14a-8a65da684218",
   "metadata": {},
   "outputs": [],
   "source": []
  },
  {
   "cell_type": "code",
   "execution_count": null,
   "id": "add34923-3d8b-41f9-ba75-eb4272eb08f9",
   "metadata": {},
   "outputs": [],
   "source": []
  },
  {
   "cell_type": "code",
   "execution_count": null,
   "id": "04057334-8f7f-4cfe-bc9a-310707e57caa",
   "metadata": {},
   "outputs": [],
   "source": []
  },
  {
   "cell_type": "code",
   "execution_count": null,
   "id": "6258db60-e0ca-42b3-8376-b10801fdde65",
   "metadata": {},
   "outputs": [],
   "source": []
  },
  {
   "cell_type": "code",
   "execution_count": null,
   "id": "c19bd38b-f46b-4866-9f20-54d759d4ad2d",
   "metadata": {},
   "outputs": [],
   "source": []
  },
  {
   "cell_type": "code",
   "execution_count": null,
   "id": "708da6e9-9b0b-456e-a0e2-13cec4b37243",
   "metadata": {},
   "outputs": [],
   "source": []
  },
  {
   "cell_type": "code",
   "execution_count": 5,
   "id": "6c91ecc3-1fb3-414e-91fb-e2eed311f707",
   "metadata": {},
   "outputs": [],
   "source": [
    "x = np.array([13, 16, 22,  1,  4, 28,  4,  8, 10, 20, 22, 19,  5, 24,  7, 25, 25, 13, 27,  2,  7,  8, 24, 15, 25])\n",
    "y = np.array([18,  6, 26, 14,  9, 10, 21, 20, 17, 20,  6, 16, 16,  1, 19,  4, 25, 18, 20, 20, 20, 15,  8,  1,  2])"
   ]
  },
  {
   "cell_type": "code",
   "execution_count": 6,
   "id": "c2cf312b-3ab7-4a78-b1c4-329c6eebb689",
   "metadata": {},
   "outputs": [
    {
     "data": {
      "text/plain": [
       "<matplotlib.collections.PathCollection at 0x10cdda5d0>"
      ]
     },
     "execution_count": 6,
     "metadata": {},
     "output_type": "execute_result"
    },
    {
     "data": {
      "image/png": "[encoded data removed]",
      "text/plain": [
       "<Figure size 640x480 with 1 Axes>"
      ]
     },
     "metadata": {},
     "output_type": "display_data"
    }
   ],
   "source": [
    "import matplotlib.pyplot as plt\n",
    "plt.scatter(x, y)"
   ]
  },
  {
   "cell_type": "code",
   "execution_count": null,
   "id": "6bc27246-82e7-4be3-b478-dc47da799b4a",
   "metadata": {},
   "outputs": [],
   "source": []
  },
  {
   "cell_type": "code",
   "execution_count": null,
   "id": "b6dd1048-b230-43bd-9242-59bebcd1ebfb",
   "metadata": {},
   "outputs": [],
   "source": []
  },
  {
   "cell_type": "code",
   "execution_count": null,
   "id": "0df3e562-b20f-487f-a069-4949c70142c6",
   "metadata": {},
   "outputs": [],
   "source": []
  },
  {
   "cell_type": "code",
   "execution_count": null,
   "id": "6a899907-4b71-4e4e-b5e0-a3e5d4bb90c1",
   "metadata": {},
   "outputs": [],
   "source": []
  },
  {
   "cell_type": "code",
   "execution_count": null,
   "id": "a63aba8c-a7e0-4753-8536-640ad824478f",
   "metadata": {},
   "outputs": [],
   "source": []
  },
  {
   "cell_type": "code",
   "execution_count": null,
   "id": "00d99241-048d-4753-86c5-5e4b170e6ebb",
   "metadata": {},
   "outputs": [],
   "source": []
  },
  {
   "cell_type": "code",
   "execution_count": null,
   "id": "66cd8b5f-e138-4821-9d79-a95629cb87cb",
   "metadata": {},
   "outputs": [],
   "source": []
  },
  {
   "cell_type": "code",
   "execution_count": null,
   "id": "b072ef64-f873-4d0e-8b8e-1c8e48a3421d",
   "metadata": {},
   "outputs": [],
   "source": []
  },
  {
   "cell_type": "code",
   "execution_count": null,
   "id": "a63af89b-3cd5-40d1-9cb1-51f2014ca396",
   "metadata": {},
   "outputs": [],
   "source": []
  },
  {
   "cell_type": "code",
   "execution_count": null,
   "id": "7f0cb214-050e-459a-8b0d-0ab80b42d4ab",
   "metadata": {},
   "outputs": [],
   "source": []
  },
  {
   "cell_type": "code",
   "execution_count": null,
   "id": "4559cb73-98d1-441d-95cd-a69779ff1044",
   "metadata": {},
   "outputs": [],
   "source": []
  },
  {
   "cell_type": "code",
   "execution_count": null,
   "id": "c3ecafa5-95a0-432a-b7d0-570e8c20b42b",
   "metadata": {},
   "outputs": [],
   "source": []
  },
  {
   "cell_type": "code",
   "execution_count": 7,
   "id": "8921dffd-9a96-4acf-8c0b-1ca92333453e",
   "metadata": {},
   "outputs": [
    {
     "data": {
      "text/plain": [
       "array([[ 0.        , 12.36931688, 12.04159458, 12.64911064, 12.72792206,\n",
       "        17.        ,  9.48683298,  5.38516481,  3.16227766,  7.28010989,\n",
       "        15.        ,  6.32455532,  8.24621125, 20.24845673,  6.08276253,\n",
       "        18.43908891, 13.89244399,  0.        , 14.14213562, 11.18033989,\n",
       "         6.32455532,  5.83095189, 14.86606875, 17.11724277, 20.        ],\n",
       "       [12.36931688,  0.        , 20.88061302, 17.        , 12.36931688,\n",
       "        12.64911064, 19.20937271, 16.1245155 , 12.52996409, 14.56021978,\n",
       "         6.        , 10.44030651, 14.86606875,  9.43398113, 15.8113883 ,\n",
       "         9.21954446, 21.02379604, 12.36931688, 17.80449381, 19.79898987,\n",
       "        16.64331698, 12.04159458,  8.24621125,  5.09901951,  9.8488578 ],\n",
       "       [12.04159458, 20.88061302,  0.        , 24.18677324, 24.75883681,\n",
       "        17.08800749, 18.68154169, 15.23154621, 15.        ,  6.32455532,\n",
       "        20.        , 10.44030651, 19.72308292, 25.07987241, 16.55294536,\n",
       "        22.20360331,  3.16227766, 12.04159458,  7.81024968, 20.88061302,\n",
       "        16.15549442, 17.80449381, 18.11077028, 25.96150997, 24.18677324],\n",
       "       [12.64911064, 17.        , 24.18677324,  0.        ,  5.83095189,\n",
       "        27.29468813,  7.61577311,  9.21954446,  9.48683298, 19.92485885,\n",
       "        22.47220505, 18.11077028,  4.47213595, 26.41968963,  7.81024968,\n",
       "        26.        , 26.40075756, 12.64911064, 26.68332813,  6.08276253,\n",
       "         8.48528137,  7.07106781, 23.76972865, 19.10497317, 26.83281573],\n",
       "       [12.72792206, 12.36931688, 24.75883681,  5.83095189,  0.        ,\n",
       "        24.0208243 , 12.        , 11.70469991, 10.        , 19.41648784,\n",
       "        18.24828759, 16.55294536,  7.07106781, 21.54065923, 10.44030651,\n",
       "        21.58703314, 26.40075756, 12.72792206, 25.49509757, 11.18033989,\n",
       "        11.40175425,  7.21110255, 20.02498439, 13.60147051, 22.13594362],\n",
       "       [17.        , 12.64911064, 17.08800749, 27.29468813, 24.0208243 ,\n",
       "         0.        , 26.40075756, 22.36067977, 19.31320792, 12.80624847,\n",
       "         7.21110255, 10.81665383, 23.76972865,  9.8488578 , 22.84731932,\n",
       "         6.70820393, 15.29705854, 17.        , 10.04987562, 27.85677655,\n",
       "        23.2594067 , 20.61552813,  4.47213595, 15.8113883 ,  8.54400375],\n",
       "       [ 9.48683298, 19.20937271, 18.68154169,  7.61577311, 12.        ,\n",
       "        26.40075756,  0.        ,  4.12310563,  7.21110255, 16.03121954,\n",
       "        23.43074903, 15.8113883 ,  5.09901951, 28.28427125,  3.60555128,\n",
       "        27.01851217, 21.37755833,  9.48683298, 23.02172887,  2.23606798,\n",
       "         3.16227766,  7.21110255, 23.85372088, 22.82542442, 28.31960452],\n",
       "       [ 5.38516481, 16.1245155 , 15.23154621,  9.21954446, 11.70469991,\n",
       "        22.36067977,  4.12310563,  0.        ,  3.60555128, 12.        ,\n",
       "        19.79898987, 11.70469991,  5.        , 24.8394847 ,  1.41421356,\n",
       "        23.34523506, 17.72004515,  5.38516481, 19.        ,  6.        ,\n",
       "         1.        ,  5.        , 20.        , 20.24845673, 24.75883681],\n",
       "       [ 3.16227766, 12.52996409, 15.        ,  9.48683298, 10.        ,\n",
       "        19.31320792,  7.21110255,  3.60555128,  0.        , 10.44030651,\n",
       "        16.2788206 ,  9.05538514,  5.09901951, 21.26029163,  3.60555128,\n",
       "        19.84943324, 17.        ,  3.16227766, 17.2626765 ,  8.54400375,\n",
       "         4.24264069,  2.82842712, 16.64331698, 16.76305461, 21.21320344],\n",
       "       [ 7.28010989, 14.56021978,  6.32455532, 19.92485885, 19.41648784,\n",
       "        12.80624847, 16.03121954, 12.        , 10.44030651,  0.        ,\n",
       "        14.14213562,  4.12310563, 15.5241747 , 19.41648784, 13.03840481,\n",
       "        16.76305461,  7.07106781,  7.28010989,  7.        , 18.        ,\n",
       "        13.        , 13.        , 12.64911064, 19.6468827 , 18.68154169],\n",
       "       [15.        ,  6.        , 20.        , 22.47220505, 18.24828759,\n",
       "         7.21110255, 23.43074903, 19.79898987, 16.2788206 , 14.14213562,\n",
       "         0.        , 10.44030651, 19.72308292,  5.38516481, 19.84943324,\n",
       "         3.60555128, 19.23538406, 15.        , 14.86606875, 24.41311123,\n",
       "        20.51828453, 16.64331698,  2.82842712,  8.60232527,  5.        ],\n",
       "       [ 6.32455532, 10.44030651, 10.44030651, 18.11077028, 16.55294536,\n",
       "        10.81665383, 15.8113883 , 11.70469991,  9.05538514,  4.12310563,\n",
       "        10.44030651,  0.        , 14.        , 15.8113883 , 12.36931688,\n",
       "        13.41640786, 10.81665383,  6.32455532,  8.94427191, 17.4642492 ,\n",
       "        12.64911064, 11.04536102,  9.43398113, 15.5241747 , 15.23154621],\n",
       "       [ 8.24621125, 14.86606875, 19.72308292,  4.47213595,  7.07106781,\n",
       "        23.76972865,  5.09901951,  5.        ,  5.09901951, 15.5241747 ,\n",
       "        19.72308292, 14.        ,  0.        , 24.20743687,  3.60555128,\n",
       "        23.32380758, 21.9317122 ,  8.24621125, 22.36067977,  5.        ,\n",
       "         4.47213595,  3.16227766, 20.61552813, 18.02775638, 24.41311123],\n",
       "       [20.24845673,  9.43398113, 25.07987241, 26.41968963, 21.54065923,\n",
       "         9.8488578 , 28.28427125, 24.8394847 , 21.26029163, 19.41648784,\n",
       "         5.38516481, 15.8113883 , 24.20743687,  0.        , 24.75883681,\n",
       "         3.16227766, 24.0208243 , 20.24845673, 19.23538406, 29.06888371,\n",
       "        25.49509757, 21.26029163,  7.        ,  9.        ,  1.41421356],\n",
       "       [ 6.08276253, 15.8113883 , 16.55294536,  7.81024968, 10.44030651,\n",
       "        22.84731932,  3.60555128,  1.41421356,  3.60555128, 13.03840481,\n",
       "        19.84943324, 12.36931688,  3.60555128, 24.75883681,  0.        ,\n",
       "        23.43074903, 18.97366596,  6.08276253, 20.02498439,  5.09901951,\n",
       "         1.        ,  4.12310563, 20.24845673, 19.6977156 , 24.75883681],\n",
       "       [18.43908891,  9.21954446, 22.20360331, 26.        , 21.58703314,\n",
       "         6.70820393, 27.01851217, 23.34523506, 19.84943324, 16.76305461,\n",
       "         3.60555128, 13.41640786, 23.32380758,  3.16227766, 23.43074903,\n",
       "         0.        , 21.        , 18.43908891, 16.1245155 , 28.01785145,\n",
       "        24.08318916, 20.24845673,  4.12310563, 10.44030651,  2.        ],\n",
       "       [13.89244399, 21.02379604,  3.16227766, 26.40075756, 26.40075756,\n",
       "        15.29705854, 21.37755833, 17.72004515, 17.        ,  7.07106781,\n",
       "        19.23538406, 10.81665383, 21.9317122 , 24.0208243 , 18.97366596,\n",
       "        21.        ,  0.        , 13.89244399,  5.38516481, 23.53720459,\n",
       "        18.68154169, 19.72308292, 17.02938637, 26.        , 23.        ],\n",
       "       [ 0.        , 12.36931688, 12.04159458, 12.64911064, 12.72792206,\n",
       "        17.        ,  9.48683298,  5.38516481,  3.16227766,  7.28010989,\n",
       "        15.        ,  6.32455532,  8.24621125, 20.24845673,  6.08276253,\n",
       "        18.43908891, 13.89244399,  0.        , 14.14213562, 11.18033989,\n",
       "         6.32455532,  5.83095189, 14.86606875, 17.11724277, 20.        ],\n",
       "       [14.14213562, 17.80449381,  7.81024968, 26.68332813, 25.49509757,\n",
       "        10.04987562, 23.02172887, 19.        , 17.2626765 ,  7.        ,\n",
       "        14.86606875,  8.94427191, 22.36067977, 19.23538406, 20.02498439,\n",
       "        16.1245155 ,  5.38516481, 14.14213562,  0.        , 25.        ,\n",
       "        20.        , 19.6468827 , 12.36931688, 22.47220505, 18.11077028],\n",
       "       [11.18033989, 19.79898987, 20.88061302,  6.08276253, 11.18033989,\n",
       "        27.85677655,  2.23606798,  6.        ,  8.54400375, 18.        ,\n",
       "        24.41311123, 17.4642492 ,  5.        , 29.06888371,  5.09901951,\n",
       "        28.01785145, 23.53720459, 11.18033989, 25.        ,  0.        ,\n",
       "         5.        ,  7.81024968, 25.05992817, 23.02172887, 29.20616373],\n",
       "       [ 6.32455532, 16.64331698, 16.15549442,  8.48528137, 11.40175425,\n",
       "        23.2594067 ,  3.16227766,  1.        ,  4.24264069, 13.        ,\n",
       "        20.51828453, 12.64911064,  4.47213595, 25.49509757,  1.        ,\n",
       "        24.08318916, 18.68154169,  6.32455532, 20.        ,  5.        ,\n",
       "         0.        ,  5.09901951, 20.80865205, 20.61552813, 25.45584412],\n",
       "       [ 5.83095189, 12.04159458, 17.80449381,  7.07106781,  7.21110255,\n",
       "        20.61552813,  7.21110255,  5.        ,  2.82842712, 13.        ,\n",
       "        16.64331698, 11.04536102,  3.16227766, 21.26029163,  4.12310563,\n",
       "        20.24845673, 19.72308292,  5.83095189, 19.6468827 ,  7.81024968,\n",
       "         5.09901951,  0.        , 17.4642492 , 15.65247584, 21.40093456],\n",
       "       [14.86606875,  8.24621125, 18.11077028, 23.76972865, 20.02498439,\n",
       "         4.47213595, 23.85372088, 20.        , 16.64331698, 12.64911064,\n",
       "         2.82842712,  9.43398113, 20.61552813,  7.        , 20.24845673,\n",
       "         4.12310563, 17.02938637, 14.86606875, 12.36931688, 25.05992817,\n",
       "        20.80865205, 17.4642492 ,  0.        , 11.40175425,  6.08276253],\n",
       "       [17.11724277,  5.09901951, 25.96150997, 19.10497317, 13.60147051,\n",
       "        15.8113883 , 22.82542442, 20.24845673, 16.76305461, 19.6468827 ,\n",
       "         8.60232527, 15.5241747 , 18.02775638,  9.        , 19.6977156 ,\n",
       "        10.44030651, 26.        , 17.11724277, 22.47220505, 23.02172887,\n",
       "        20.61552813, 15.65247584, 11.40175425,  0.        , 10.04987562],\n",
       "       [20.        ,  9.8488578 , 24.18677324, 26.83281573, 22.13594362,\n",
       "         8.54400375, 28.31960452, 24.75883681, 21.21320344, 18.68154169,\n",
       "         5.        , 15.23154621, 24.41311123,  1.41421356, 24.75883681,\n",
       "         2.        , 23.        , 20.        , 18.11077028, 29.20616373,\n",
       "        25.45584412, 21.40093456,  6.08276253, 10.04987562,  0.        ]])"
      ]
     },
     "execution_count": 7,
     "metadata": {},
     "output_type": "execute_result"
    }
   ],
   "source": [
    "import sklearn.metrics.pairwise\n",
    "distance_matrix = sklearn.metrics.pairwise.euclidean_distances(tuple(zip(x, y)))\n",
    "distance_matrix"
   ]
  },
  {
   "cell_type": "code",
   "execution_count": 28,
   "id": "1aeb154d-588b-4571-b36c-d28e69c3450f",
   "metadata": {},
   "outputs": [
    {
     "data": {
      "text/plain": [
       "[0,\n",
       " 9,\n",
       " 2,\n",
       " 16,\n",
       " 18,\n",
       " 5,\n",
       " 22,\n",
       " 15,\n",
       " 24,\n",
       " 13,\n",
       " 10,\n",
       " 11,\n",
       " 1,\n",
       " 23,\n",
       " 4,\n",
       " 3,\n",
       " 19,\n",
       " 6,\n",
       " 12,\n",
       " 21,\n",
       " 14,\n",
       " 20,\n",
       " 7,\n",
       " 8,\n",
       " 17,\n",
       " 0]"
      ]
     },
     "execution_count": 28,
     "metadata": {},
     "output_type": "execute_result"
    }
   ],
   "source": [
    "tour = run_2_opt_algorithm(number_of_stops=25, distance_matrix=distance_matrix, iterations=10_000, seed=0)\n",
    "tour"
   ]
  },
  {
   "cell_type": "code",
   "execution_count": 29,
   "id": "141fa224-1b71-4012-af3d-d231885c017e",
   "metadata": {},
   "outputs": [],
   "source": [
    "def plot_tour(x, y, tour):\n",
    "    ordered_x = x[tour]\n",
    "    ordered_y = y[tour]\n",
    "    plt.figure()\n",
    "    plt.scatter(x, y)\n",
    "    plt.plot(ordered_x, ordered_y)"
   ]
  },
  {
   "cell_type": "code",
   "execution_count": 30,
   "id": "ce5e8b51-1dca-41e5-8d15-ba4595e2a9ff",
   "metadata": {},
   "outputs": [
    {
     "data": {
      "image/png": "[encoded data removed]",
      "text/plain": [
       "<Figure size 640x480 with 1 Axes>"
      ]
     },
     "metadata": {},
     "output_type": "display_data"
    }
   ],
   "source": [
    "plot_tour(x=x, y=y, tour=tour)"
   ]
  },
  {
   "cell_type": "code",
   "execution_count": null,
   "id": "29ef8621-3b71-4530-9795-58f75f95dde8",
   "metadata": {},
   "outputs": [],
   "source": []
  },
  {
   "cell_type": "code",
   "execution_count": null,
   "id": "2c6019dc-934b-4d22-8e61-2c89deae213a",
   "metadata": {},
   "outputs": [],
   "source": []
  },
  {
   "cell_type": "code",
   "execution_count": null,
   "id": "5df41a5b-ca1e-451c-a40a-f21fa5e56fcc",
   "metadata": {},
   "outputs": [],
   "source": []
  },
  {
   "cell_type": "code",
   "execution_count": null,
   "id": "6ba810b4-73ee-4042-819c-5bd73a86749a",
   "metadata": {},
   "outputs": [],
   "source": []
  },
  {
   "cell_type": "code",
   "execution_count": null,
   "id": "4a1f34d1-f97f-40aa-b88b-76fd2eab590b",
   "metadata": {},
   "outputs": [],
   "source": []
  },
  {
   "cell_type": "code",
   "execution_count": null,
   "id": "ba35a950-5ccc-4afa-970e-810a2cf4b847",
   "metadata": {},
   "outputs": [],
   "source": []
  },
  {
   "cell_type": "code",
   "execution_count": null,
   "id": "e16c54a6-1ae7-47c4-8ca2-f23f9215219a",
   "metadata": {},
   "outputs": [],
   "source": []
  },
  {
   "cell_type": "code",
   "execution_count": null,
   "id": "de99fd1e-73c8-4300-9c11-c20a8d8983c8",
   "metadata": {},
   "outputs": [],
   "source": []
  },
  {
   "cell_type": "code",
   "execution_count": null,
   "id": "0feb7745-a946-4484-8e23-ebdc93875fb1",
   "metadata": {},
   "outputs": [],
   "source": []
  },
  {
   "cell_type": "code",
   "execution_count": null,
   "id": "eb6882f8-81a3-4ce5-a8f8-690702411350",
   "metadata": {},
   "outputs": [],
   "source": []
  },
  {
   "cell_type": "code",
   "execution_count": null,
   "id": "cdd48fff-f845-445a-b453-9ac8836c54d0",
   "metadata": {},
   "outputs": [],
   "source": []
  },
  {
   "cell_type": "code",
   "execution_count": null,
   "id": "b9a26e70-3b31-4e45-acdb-863c3f5cc769",
   "metadata": {},
   "outputs": [],
   "source": []
  },
  {
   "cell_type": "code",
   "execution_count": null,
   "id": "48007352-f333-420f-9ef9-e7d69d88a95b",
   "metadata": {},
   "outputs": [],
   "source": []
  },
  {
   "cell_type": "code",
   "execution_count": 31,
   "id": "64cafe66-2754-4282-9734-0ed728b81531",
   "metadata": {},
   "outputs": [],
   "source": [
    "def get_tour(number_of_stops, seed=None):\n",
    "    internal_stops = list(range(1, number_of_stops))\n",
    "    if seed is not None:\n",
    "        np.random.seed(seed)\n",
    "        np.random.shuffle(internal_stops)\n",
    "    return [0] + internal_stops + [0]\n",
    "\n",
    "\n",
    "def swap_cities(tour, steps):\n",
    "    i, j = sorted(steps)\n",
    "    new_tour = tour[:i] + tour[i:j + 1][::-1] + tour[j + 1:]\n",
    "    return new_tour\n",
    "\n",
    "\n",
    "def get_cost(tour, distance_matrix):\n",
    "    return sum(\n",
    "            distance_matrix[current_stop, next_stop]\n",
    "            for current_stop, next_stop in\n",
    "            zip(tour[:-1], tour[1:])\n",
    "    )"
   ]
  },
  {
   "cell_type": "code",
   "execution_count": 32,
   "id": "ef096086-a5ac-456a-912f-9a5fc7aad273",
   "metadata": {},
   "outputs": [
    {
     "data": {
      "text/plain": [
       "124.47972042596972"
      ]
     },
     "execution_count": 32,
     "metadata": {},
     "output_type": "execute_result"
    }
   ],
   "source": [
    "get_cost(tour=tour, distance_matrix=distance_matrix)"
   ]
  },
  {
   "cell_type": "code",
   "execution_count": null,
   "id": "a2922d67-e0a7-4a73-9115-a863b1849946",
   "metadata": {},
   "outputs": [],
   "source": [
    "def run_2_opt_algorithm(\n",
    "    number_of_stops,\n",
    "    distance_matrix,\n",
    "    iterations,\n",
    "    filename=None,\n",
    "    seed=None,\n",
    "):\n",
    "    tour = get_tour(number_of_stops=number_of_stops, seed=seed)\n",
    "    best_cost = get_cost(tour=tour, distance_matrix=distance_matrix)\n",
    "    for _ in range(iterations):\n",
    "        two_indices = np.random.choice(range(1, number_of_stops), 2)\n",
    "        candidate_tour = swap_cities(tour=tour, steps=two_indices)\n",
    "        if (cost:=get_cost(tour=candidate_tour, distance_matrix=distance_matrix)) <= best_cost:\n",
    "            best_cost = cost\n",
    "            tour = candidate_tour\n",
    "    return tour"
   ]
  },
  {
   "cell_type": "code",
   "execution_count": null,
   "id": "57273a5d-61c9-4d13-8385-a743d98cbcc7",
   "metadata": {},
   "outputs": [],
   "source": [
    "tour = run_2_opt_algorithm(number_of_stops=25, distance_matrix=distance_matrix, iterations=500, seed=0)\n",
    "tour"
   ]
  },
  {
   "cell_type": "code",
   "execution_count": null,
   "id": "e8083d7f-f124-4fe1-a55c-5972e524d3dc",
   "metadata": {},
   "outputs": [],
   "source": []
  }
 ],
 "metadata": {
  "kernelspec": {
   "display_name": "Python 3 (ipykernel)",
   "language": "python",
   "name": "python3"
  },
  "language_info": {
   "codemirror_mode": {
    "name": "ipython",
    "version": 3
   },
   "file_extension": ".py",
   "mimetype": "text/x-python",
   "name": "python",
   "nbconvert_exporter": "python",
   "pygments_lexer": "ipython3",
   "version": "3.11.4"
  }
 },
 "nbformat": 4,
 "nbformat_minor": 5
}
