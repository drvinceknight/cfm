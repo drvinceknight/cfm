{
 "cells": [
  {
   "cell_type": "markdown",
   "id": "63742692-7338-4d1d-ba70-bc79ea6f267f",
   "metadata": {},
   "source": [
    "# Probability\n",
    "\n",
    "A delivery company delivers fragile items. If a delivery is on time it is usually because it was rushed. The probability that an item is delivered on time is 3/4. The probability that an item is broken given that it arrived on time is 3/10 and if it is late 1/5.\n",
    "\n",
    "1. What is the probability that an item is late?\n",
    "2. Given that an item is broken what is the probability that it was on time?"
   ]
  },
  {
   "cell_type": "code",
   "execution_count": null,
   "id": "51460bc8-f9a3-4ab2-b8dc-8d171b5c6e45",
   "metadata": {},
   "outputs": [],
   "source": []
  }
 ],
 "metadata": {
  "kernelspec": {
   "display_name": "Python 3 (ipykernel)",
   "language": "python",
   "name": "python3"
  },
  "language_info": {
   "codemirror_mode": {
    "name": "ipython",
    "version": 3
   },
   "file_extension": ".py",
   "mimetype": "text/x-python",
   "name": "python",
   "nbconvert_exporter": "python",
   "pygments_lexer": "ipython3",
   "version": "3.11.4"
  }
 },
 "nbformat": 4,
 "nbformat_minor": 5
}
