{
 "cells": [
  {
   "cell_type": "markdown",
   "id": "bcd1c583-3f9a-484e-8dc8-74773a30b196",
   "metadata": {},
   "source": [
    "A sequence $a_1, a_2, a_3, …$ is defined by:\n",
    "\n",
    "$$\\begin{aligned}\n",
    "\\left\\{\n",
    "\\begin{array}{l}\n",
    "    a_1 = k,\\\\\n",
    "    a_{n + 1} = 3a_n – 4, n \\geq 1,\n",
    "\\end{array}\n",
    "\\right.\n",
    "\\end{aligned}$$\n",
    "\n",
    "where $k$ is a constant.\n",
    "\n",
    "1.  Write down an expression for $a_2$ in terms of $k$.\n",
    "2.  Show that $a_3 = 9k - 16$\n",
    "3.  Given that $\\sum_{r=1}^{12} a_r = 50$ find the value of $k$.\n"
   ]
  },
  {
   "cell_type": "code",
   "execution_count": 101,
   "id": "f322a26b-3a0b-4a8f-bc56-ca8177b75e28",
   "metadata": {},
   "outputs": [],
   "source": [
    "def generate_a(k_value, n):\n",
    "    \"\"\"\n",
    "    Use recursion to return a_n for a given value of k:\n",
    "\n",
    "    ...\n",
    "    \"\"\"\n",
    "    if n == 1:\n",
    "        return k_value\n",
    "    return 3 * generate_a(k_value, n - 1) - 4"
   ]
  },
  {
   "cell_type": "code",
   "execution_count": 102,
   "id": "13a480d7-9516-4220-b1ad-316b459e22c6",
   "metadata": {},
   "outputs": [
    {
     "data": {
      "text/latex": [
       "$\\displaystyle k$"
      ],
      "text/plain": [
       "k"
      ]
     },
     "execution_count": 102,
     "metadata": {},
     "output_type": "execute_result"
    }
   ],
   "source": [
    "import sympy as sym\n",
    "\n",
    "k = sym.Symbol(\"k\")\n",
    "generate_a(k_value=k, n=1)"
   ]
  },
  {
   "cell_type": "markdown",
   "id": "1829c7d7-39c2-4c16-b9e5-60a5b28302f7",
   "metadata": {},
   "source": [
    "An expression for $a_2$:"
   ]
  },
  {
   "cell_type": "code",
   "execution_count": 16,
   "id": "e2b1a75c-53ae-4404-b0e6-f884cd4274fc",
   "metadata": {},
   "outputs": [
    {
     "data": {
      "text/latex": [
       "$\\displaystyle 3 k - 4$"
      ],
      "text/plain": [
       "3*k - 4"
      ]
     },
     "execution_count": 16,
     "metadata": {},
     "output_type": "execute_result"
    }
   ],
   "source": [
    "generate_a(k_value=k, n=2)"
   ]
  },
  {
   "cell_type": "markdown",
   "id": "c972670f-8b2b-4918-8a21-ed30498c653d",
   "metadata": {},
   "source": [
    "We can compute $a_3$:"
   ]
  },
  {
   "cell_type": "code",
   "execution_count": 17,
   "id": "91028efd-c5d5-40b5-9662-a23fffbdfad1",
   "metadata": {},
   "outputs": [
    {
     "data": {
      "text/latex": [
       "$\\displaystyle 9 k - 16$"
      ],
      "text/plain": [
       "9*k - 16"
      ]
     },
     "execution_count": 17,
     "metadata": {},
     "output_type": "execute_result"
    }
   ],
   "source": [
    "generate_a(k_value=k, n=3)"
   ]
  },
  {
   "cell_type": "code",
   "execution_count": 18,
   "id": "5af8f713-4d8c-4835-8ec1-e90199f28c1d",
   "metadata": {},
   "outputs": [
    {
     "data": {
      "text/latex": [
       "$\\displaystyle 265720 k - 531416$"
      ],
      "text/plain": [
       "265720*k - 531416"
      ]
     },
     "execution_count": 18,
     "metadata": {},
     "output_type": "execute_result"
    }
   ],
   "source": [
    "lhs = sum(generate_a(k_value=k, n=r) for r in range(1, 13))\n",
    "lhs"
   ]
  },
  {
   "cell_type": "code",
   "execution_count": 19,
   "id": "c8f877c7-0f36-409a-a8b3-b7268905d000",
   "metadata": {},
   "outputs": [
    {
     "data": {
      "text/latex": [
       "$\\displaystyle 265720 k - 531416 = 50$"
      ],
      "text/plain": [
       "Eq(265720*k - 531416, 50)"
      ]
     },
     "execution_count": 19,
     "metadata": {},
     "output_type": "execute_result"
    }
   ],
   "source": [
    "equation = sym.Eq(lhs=lhs, rhs=50)\n",
    "equation"
   ]
  },
  {
   "cell_type": "code",
   "execution_count": 20,
   "id": "26c4bb5a-cb62-4b69-9480-18f31a8473aa",
   "metadata": {},
   "outputs": [
    {
     "data": {
      "text/latex": [
       "$\\displaystyle \\left\\{\\frac{20441}{10220}\\right\\}$"
      ],
      "text/plain": [
       "{20441/10220}"
      ]
     },
     "execution_count": 20,
     "metadata": {},
     "output_type": "execute_result"
    }
   ],
   "source": [
    "sym.solveset(equation, k)"
   ]
  },
  {
   "cell_type": "code",
   "execution_count": 21,
   "id": "66674f0a-cd69-4dad-a9db-cf56efb78c2a",
   "metadata": {},
   "outputs": [
    {
     "data": {
      "text/plain": [
       "\u001b[0;31mInit signature:\u001b[0m \u001b[0mrange\u001b[0m\u001b[0;34m(\u001b[0m\u001b[0mself\u001b[0m\u001b[0;34m,\u001b[0m \u001b[0;34m/\u001b[0m\u001b[0;34m,\u001b[0m \u001b[0;34m*\u001b[0m\u001b[0margs\u001b[0m\u001b[0;34m,\u001b[0m \u001b[0;34m**\u001b[0m\u001b[0mkwargs\u001b[0m\u001b[0;34m)\u001b[0m\u001b[0;34m\u001b[0m\u001b[0;34m\u001b[0m\u001b[0m\n",
       "\u001b[0;31mDocstring:\u001b[0m     \n",
       "range(stop) -> range object\n",
       "range(start, stop[, step]) -> range object\n",
       "\n",
       "Return an object that produces a sequence of integers from start (inclusive)\n",
       "to stop (exclusive) by step.  range(i, j) produces i, i+1, i+2, ..., j-1.\n",
       "start defaults to 0, and stop is omitted!  range(4) produces 0, 1, 2, 3.\n",
       "These are exactly the valid indices for a list of 4 elements.\n",
       "When step is given, it specifies the increment (or decrement).\n",
       "\u001b[0;31mType:\u001b[0m           type\n",
       "\u001b[0;31mSubclasses:\u001b[0m     "
      ]
     },
     "metadata": {},
     "output_type": "display_data"
    }
   ],
   "source": [
    "range?"
   ]
  },
  {
   "cell_type": "code",
   "execution_count": 22,
   "id": "d6485260-d251-4991-8578-ff0fa846389b",
   "metadata": {},
   "outputs": [
    {
     "data": {
      "text/plain": [
       "(1, 2, 3, 4, 5, 6, 7, 8, 9, 10, 11)"
      ]
     },
     "execution_count": 22,
     "metadata": {},
     "output_type": "execute_result"
    }
   ],
   "source": [
    "tuple(range(1, 12))"
   ]
  },
  {
   "cell_type": "code",
   "execution_count": 23,
   "id": "0bf4668f-bece-4c1e-b1d8-39db19788481",
   "metadata": {},
   "outputs": [],
   "source": [
    "def division(denominator, numerator):\n",
    "    \"\"\"\n",
    "    Does division\n",
    "    \"\"\"\n",
    "    return numerator / denominator"
   ]
  },
  {
   "cell_type": "code",
   "execution_count": 24,
   "id": "8fdc83ba-b12f-42ed-b3b0-ff3cbbda93b4",
   "metadata": {},
   "outputs": [
    {
     "data": {
      "text/plain": [
       "2.0"
      ]
     },
     "execution_count": 24,
     "metadata": {},
     "output_type": "execute_result"
    }
   ],
   "source": [
    "division(5, 10)"
   ]
  },
  {
   "cell_type": "code",
   "execution_count": 25,
   "id": "5445b315-3a26-4fdd-8d7f-da1996b6fd4a",
   "metadata": {},
   "outputs": [
    {
     "data": {
      "text/plain": [
       "0.5"
      ]
     },
     "execution_count": 25,
     "metadata": {},
     "output_type": "execute_result"
    }
   ],
   "source": [
    "division(10, 5)"
   ]
  },
  {
   "cell_type": "code",
   "execution_count": 26,
   "id": "6050478a-c5ca-45b2-b39a-2d5521d1fad5",
   "metadata": {},
   "outputs": [
    {
     "data": {
      "text/plain": [
       "0.5"
      ]
     },
     "execution_count": 26,
     "metadata": {},
     "output_type": "execute_result"
    }
   ],
   "source": [
    "division(numerator=5, denominator=10)"
   ]
  },
  {
   "cell_type": "code",
   "execution_count": 27,
   "id": "32608c64-38b0-41cf-a5ac-b12f9345813a",
   "metadata": {},
   "outputs": [
    {
     "data": {
      "text/plain": [
       "2.0"
      ]
     },
     "execution_count": 27,
     "metadata": {},
     "output_type": "execute_result"
    }
   ],
   "source": [
    "division(5, numerator=10)"
   ]
  },
  {
   "cell_type": "code",
   "execution_count": 28,
   "id": "21134729-c7e0-4210-871a-81a020c486f9",
   "metadata": {},
   "outputs": [
    {
     "ename": "TypeError",
     "evalue": "division() got multiple values for argument 'denominator'",
     "output_type": "error",
     "traceback": [
      "\u001b[0;31m---------------------------------------------------------------------------\u001b[0m",
      "\u001b[0;31mTypeError\u001b[0m                                 Traceback (most recent call last)",
      "Cell \u001b[0;32mIn[28], line 1\u001b[0m\n\u001b[0;32m----> 1\u001b[0m \u001b[43mdivision\u001b[49m\u001b[43m(\u001b[49m\u001b[38;5;241;43m5\u001b[39;49m\u001b[43m,\u001b[49m\u001b[43m \u001b[49m\u001b[43mdenominator\u001b[49m\u001b[38;5;241;43m=\u001b[39;49m\u001b[38;5;241;43m10\u001b[39;49m\u001b[43m)\u001b[49m\n",
      "\u001b[0;31mTypeError\u001b[0m: division() got multiple values for argument 'denominator'"
     ]
    }
   ],
   "source": [
    "division(5, denominator=10)"
   ]
  },
  {
   "cell_type": "code",
   "execution_count": 29,
   "id": "c6942478-41cd-446c-8ce4-55223625180b",
   "metadata": {},
   "outputs": [
    {
     "data": {
      "text/plain": [
       "2.0"
      ]
     },
     "execution_count": 29,
     "metadata": {},
     "output_type": "execute_result"
    }
   ],
   "source": [
    "division(5, numerator=10)"
   ]
  },
  {
   "cell_type": "code",
   "execution_count": 30,
   "id": "3e553421-594b-410c-8f2f-70454978730d",
   "metadata": {},
   "outputs": [
    {
     "ename": "SyntaxError",
     "evalue": "positional argument follows keyword argument (648772447.py, line 1)",
     "output_type": "error",
     "traceback": [
      "\u001b[0;36m  Cell \u001b[0;32mIn[30], line 1\u001b[0;36m\u001b[0m\n\u001b[0;31m    division(denominator=10, 5)\u001b[0m\n\u001b[0m                              ^\u001b[0m\n\u001b[0;31mSyntaxError\u001b[0m\u001b[0;31m:\u001b[0m positional argument follows keyword argument\n"
     ]
    }
   ],
   "source": [
    "division(denominator=10, 5)"
   ]
  },
  {
   "cell_type": "code",
   "execution_count": 31,
   "id": "01f9211c-8991-4ea2-a403-dccfac13cfcb",
   "metadata": {},
   "outputs": [
    {
     "data": {
      "text/latex": [
       "$\\displaystyle 250 k$"
      ],
      "text/plain": [
       "250*k"
      ]
     },
     "execution_count": 31,
     "metadata": {},
     "output_type": "execute_result"
    }
   ],
   "source": [
    "n = sym.S(5) * 50 * k\n",
    "n"
   ]
  },
  {
   "cell_type": "code",
   "execution_count": 32,
   "id": "c0965213-7394-45dc-a3c6-1492ce9bb0d9",
   "metadata": {},
   "outputs": [
    {
     "data": {
      "text/plain": [
       "0.125"
      ]
     },
     "execution_count": 32,
     "metadata": {},
     "output_type": "execute_result"
    }
   ],
   "source": [
    "division(numerator=5, denominator=40)"
   ]
  },
  {
   "cell_type": "code",
   "execution_count": 33,
   "id": "334ee134-3363-4dff-be03-7da679a38a21",
   "metadata": {},
   "outputs": [],
   "source": [
    "b = 4"
   ]
  },
  {
   "cell_type": "code",
   "execution_count": 34,
   "id": "db79dc65-a765-419a-ab45-4475a15d9c04",
   "metadata": {},
   "outputs": [
    {
     "data": {
      "text/plain": [
       "{4}"
      ]
     },
     "execution_count": 34,
     "metadata": {},
     "output_type": "execute_result"
    }
   ],
   "source": [
    "{4}"
   ]
  },
  {
   "cell_type": "code",
   "execution_count": 35,
   "id": "2d415b89-173f-4618-a514-2ee751ff4f4a",
   "metadata": {},
   "outputs": [
    {
     "ename": "TypeError",
     "evalue": "unhashable type: 'list'",
     "output_type": "error",
     "traceback": [
      "\u001b[0;31m---------------------------------------------------------------------------\u001b[0m",
      "\u001b[0;31mTypeError\u001b[0m                                 Traceback (most recent call last)",
      "Cell \u001b[0;32mIn[35], line 1\u001b[0m\n\u001b[0;32m----> 1\u001b[0m {[\u001b[38;5;241m4\u001b[39m]}\n",
      "\u001b[0;31mTypeError\u001b[0m: unhashable type: 'list'"
     ]
    }
   ],
   "source": [
    "{[4]}"
   ]
  },
  {
   "cell_type": "code",
   "execution_count": 42,
   "id": "bc2e5936-8a78-46c7-811f-e905c82ebcd0",
   "metadata": {},
   "outputs": [],
   "source": [
    "def shout_stuff_in_list(value):\n",
    "    return value"
   ]
  },
  {
   "cell_type": "code",
   "execution_count": 44,
   "id": "ebedb0c3-63d9-4d42-8b93-1adc9bf4dc0d",
   "metadata": {},
   "outputs": [
    {
     "data": {
      "text/plain": [
       "[5]"
      ]
     },
     "execution_count": 44,
     "metadata": {},
     "output_type": "execute_result"
    }
   ],
   "source": [
    "shout_stuff_in_list(value=[5])"
   ]
  },
  {
   "cell_type": "code",
   "execution_count": 45,
   "id": "21981a2c-03a2-477a-a0b9-22fb90e8cba6",
   "metadata": {},
   "outputs": [],
   "source": [
    "import functools"
   ]
  },
  {
   "cell_type": "code",
   "execution_count": 58,
   "id": "454bd72b-4fc8-4934-8dc3-c896e4babee9",
   "metadata": {},
   "outputs": [],
   "source": [
    "def cached_shout_stuff_in_list(value, cache=None):\n",
    "    if (hashed_value := str(value)) in cache:\n",
    "        return cache[hashed_value]\n",
    "    cache[hashed_value] = value\n",
    "    return value"
   ]
  },
  {
   "cell_type": "code",
   "execution_count": 59,
   "id": "3a8c9737-0646-4b8d-8cfa-063b851bcd7e",
   "metadata": {},
   "outputs": [
    {
     "data": {
      "text/plain": [
       "5"
      ]
     },
     "execution_count": 59,
     "metadata": {},
     "output_type": "execute_result"
    }
   ],
   "source": [
    "cache = {} \n",
    "cached_shout_stuff_in_list(value=5, cache=cache)"
   ]
  },
  {
   "cell_type": "code",
   "execution_count": 62,
   "id": "78bb3c36-5435-4e01-b296-7294341a472d",
   "metadata": {},
   "outputs": [
    {
     "data": {
      "text/plain": [
       "600"
      ]
     },
     "execution_count": 62,
     "metadata": {},
     "output_type": "execute_result"
    }
   ],
   "source": [
    "cache = {'[5]': 600} \n",
    "cached_shout_stuff_in_list(value=[5], cache=cache)"
   ]
  },
  {
   "cell_type": "code",
   "execution_count": 63,
   "id": "cf0a1e34-6ea3-4ff7-b2cb-9187b0e9d20d",
   "metadata": {},
   "outputs": [
    {
     "data": {
      "text/plain": [
       "{'[5]': 600}"
      ]
     },
     "execution_count": 63,
     "metadata": {},
     "output_type": "execute_result"
    }
   ],
   "source": [
    "cache"
   ]
  },
  {
   "cell_type": "code",
   "execution_count": 64,
   "id": "19d10b8a-83f3-4cd4-b332-fd7684bcbaa4",
   "metadata": {},
   "outputs": [],
   "source": [
    "def get_sequence(n):\n",
    "    \"\"\"\n",
    "    ...\n",
    "    \"\"\"\n",
    "    if n == 4:\n",
    "        return 1\n",
    "    if n in [1, 2, 3]:\n",
    "        return n\n",
    "    return get_sequence(n - 2) + get_sequence(n - 1)"
   ]
  },
  {
   "cell_type": "code",
   "execution_count": 65,
   "id": "48768a91-5a7d-497c-b80c-1541ba3cd9f7",
   "metadata": {},
   "outputs": [],
   "source": [
    "def get_fibonacci(n):\n",
    "    \"\"\"\n",
    "    Return the nth term of the Fibonacci sequence.\n",
    "\n",
    "    So F_n = F_(n-1) + F_(n-2)\n",
    "\n",
    "    The base case is:\n",
    "\n",
    "    F_0 = 1 and F_1 = 1\n",
    "    \"\"\"\n",
    "    if n in [0, 1]:\n",
    "        return 1\n",
    "    return get_fibonacci(n=n-1) + get_fibonacci(n=n-2)"
   ]
  },
  {
   "cell_type": "code",
   "execution_count": null,
   "id": "448eaed6-854d-4343-8748-f8ab3988b606",
   "metadata": {},
   "outputs": [],
   "source": [
    "import math\n",
    "\n",
    "golden_ratio = (1 + math.sqrt(5)) / 2\n",
    "conjugate_golden_ratio = (1 - math.sqrt(5)) / 2\n",
    "\n",
    "def get_closed_form_fibonacci_sequence(n):\n",
    "    \"\"\"\n",
    "    This obtains the nth term of the fibonacci sequence \n",
    "    using the closed form formula.\n",
    "\n",
    "    https://en.wikipedia.org/wiki/Fibonacci_sequence\n",
    "    \"\"\"\n",
    "    return (golden_ratio ** n - conjugate_golden_ratio ** n) / math.sqrt(5)"
   ]
  },
  {
   "cell_type": "markdown",
   "id": "c7057430-8cf4-4258-ba8d-ed625e96bba5",
   "metadata": {},
   "source": [
    "## Question 4 from exercises"
   ]
  },
  {
   "cell_type": "code",
   "execution_count": 66,
   "id": "7618fadd-4956-4c2a-bb24-d558e94a309b",
   "metadata": {},
   "outputs": [
    {
     "data": {
      "text/latex": [
       "$\\displaystyle p$"
      ],
      "text/plain": [
       "p"
      ]
     },
     "execution_count": 66,
     "metadata": {},
     "output_type": "execute_result"
    }
   ],
   "source": [
    "import sympy as sym\n",
    "\n"
   ]
  },
  {
   "cell_type": "code",
   "execution_count": 83,
   "id": "6fae98ed-448c-46b9-960f-eb3535e59765",
   "metadata": {},
   "outputs": [],
   "source": [
    "p = sym.Symbol(\"p\")\n",
    "p\n",
    "\n",
    "def get_x(n, p_value=p):\n",
    "    \"\"\"\n",
    "    Return the nth term of the sequence from exercise 4.\n",
    "    \"\"\"\n",
    "    if n == 1:\n",
    "        return 1\n",
    "    x_n_minus_1 = get_x(n - 1, p_value=p_value)\n",
    "    return x_n_minus_1 * (p_value + x_n_minus_1)"
   ]
  },
  {
   "cell_type": "code",
   "execution_count": 84,
   "id": "1c5b58de-904b-424a-a564-a436397d16c6",
   "metadata": {},
   "outputs": [
    {
     "data": {
      "text/plain": [
       "1"
      ]
     },
     "execution_count": 84,
     "metadata": {},
     "output_type": "execute_result"
    }
   ],
   "source": [
    "get_x(n=1)"
   ]
  },
  {
   "cell_type": "code",
   "execution_count": 85,
   "id": "4e3e076f-1518-4ff1-9ee8-f28faf8b9fb3",
   "metadata": {},
   "outputs": [
    {
     "data": {
      "text/latex": [
       "$\\displaystyle p + 1$"
      ],
      "text/plain": [
       "p + 1"
      ]
     },
     "execution_count": 85,
     "metadata": {},
     "output_type": "execute_result"
    }
   ],
   "source": [
    "get_x(n=2)"
   ]
  },
  {
   "cell_type": "code",
   "execution_count": 86,
   "id": "c89dba88-3f42-46c1-b03c-dd600d08274e",
   "metadata": {},
   "outputs": [
    {
     "data": {
      "text/plain": [
       "66"
      ]
     },
     "execution_count": 86,
     "metadata": {},
     "output_type": "execute_result"
    }
   ],
   "source": [
    "get_x(n=3, p_value=5)"
   ]
  },
  {
   "cell_type": "code",
   "execution_count": 78,
   "id": "bc827d8f-69c3-4671-a236-cd9ec89e8430",
   "metadata": {},
   "outputs": [
    {
     "data": {
      "text/latex": [
       "$\\displaystyle p + 1$"
      ],
      "text/plain": [
       "p + 1"
      ]
     },
     "execution_count": 78,
     "metadata": {},
     "output_type": "execute_result"
    }
   ],
   "source": [
    "get_x(n=2)"
   ]
  },
  {
   "cell_type": "code",
   "execution_count": 89,
   "id": "8b975a50-85d0-4ca1-bfcb-d18b45e1022c",
   "metadata": {},
   "outputs": [
    {
     "data": {
      "text/latex": [
       "$\\displaystyle \\left(p + 1\\right) \\left(2 p + 1\\right)$"
      ],
      "text/plain": [
       "(p + 1)*(2*p + 1)"
      ]
     },
     "execution_count": 89,
     "metadata": {},
     "output_type": "execute_result"
    }
   ],
   "source": [
    "x_3 = get_x(n=3)\n",
    "x_3"
   ]
  },
  {
   "cell_type": "code",
   "execution_count": 90,
   "id": "7b3d06fb-b185-4b62-a191-1768f3fb9aa2",
   "metadata": {},
   "outputs": [
    {
     "data": {
      "text/latex": [
       "$\\displaystyle 2 p^{2} + 3 p + 1$"
      ],
      "text/plain": [
       "2*p**2 + 3*p + 1"
      ]
     },
     "execution_count": 90,
     "metadata": {},
     "output_type": "execute_result"
    }
   ],
   "source": [
    "sym.expand(x_3)"
   ]
  },
  {
   "cell_type": "code",
   "execution_count": 91,
   "id": "de4769a1-a5f6-46b0-84fd-1b946f4660fb",
   "metadata": {},
   "outputs": [
    {
     "data": {
      "text/latex": [
       "$\\displaystyle \\left\\{- \\frac{3}{2}, 0\\right\\}$"
      ],
      "text/plain": [
       "{-3/2, 0}"
      ]
     },
     "execution_count": 91,
     "metadata": {},
     "output_type": "execute_result"
    }
   ],
   "source": [
    "equation = sym.Eq(lhs=x_3, rhs=1)\n",
    "sym.solveset(equation, p)"
   ]
  },
  {
   "cell_type": "code",
   "execution_count": 92,
   "id": "1972ba4c-70f7-4ea2-919a-77c97b383c41",
   "metadata": {},
   "outputs": [
    {
     "data": {
      "text/latex": [
       "$\\displaystyle 1$"
      ],
      "text/plain": [
       "1"
      ]
     },
     "execution_count": 92,
     "metadata": {},
     "output_type": "execute_result"
    }
   ],
   "source": [
    "get_x(n=3, p_value=-sym.S(3) / 2)"
   ]
  },
  {
   "cell_type": "code",
   "execution_count": 93,
   "id": "033883db-ecb7-4d68-bb4d-c360a567bcb7",
   "metadata": {},
   "outputs": [
    {
     "data": {
      "text/latex": [
       "$\\displaystyle \\mathbb{R}$"
      ],
      "text/plain": [
       "Reals"
      ]
     },
     "execution_count": 93,
     "metadata": {},
     "output_type": "execute_result"
    }
   ],
   "source": [
    "sym.S.Reals."
   ]
  },
  {
   "cell_type": "markdown",
   "id": "b5562e7d-fcd3-4708-83c3-f19f234982ac",
   "metadata": {},
   "source": [
    "## Coursework like exercise"
   ]
  },
  {
   "cell_type": "code",
   "execution_count": 96,
   "id": "31492726-bed5-4f37-b5af-db74f094c368",
   "metadata": {},
   "outputs": [],
   "source": [
    "def get_a(n, c_value):\n",
    "    \"\"\"\n",
    "    Return the nth value of the sequence a_n\n",
    "    \"\"\"\n",
    "    if n == 1:\n",
    "        return c_value\n",
    "    return 3 * get_a(n=n-1, c_value=c_value) + c_value / n"
   ]
  },
  {
   "cell_type": "code",
   "execution_count": 97,
   "id": "f9d4ab22-2b64-4725-bb2f-ce6f88a3f893",
   "metadata": {},
   "outputs": [
    {
     "data": {
      "text/latex": [
       "$\\displaystyle \\frac{2748995546 c}{315}$"
      ],
      "text/plain": [
       "2748995546*c/315"
      ]
     },
     "execution_count": 97,
     "metadata": {},
     "output_type": "execute_result"
    }
   ],
   "source": [
    "c = sym.Symbol(\"c\")\n",
    "\n",
    "sum(get_a(n=n, c_value=c) for n in range(1, 16))"
   ]
  },
  {
   "cell_type": "code",
   "execution_count": 99,
   "id": "13f31825-729a-4680-86ff-3bdd4af2c6b0",
   "metadata": {},
   "outputs": [
    {
     "data": {
      "text/latex": [
       "$\\displaystyle \\frac{131 x^{3}}{2} + \\frac{65 x^{2}}{3} + 7 x + 2$"
      ],
      "text/plain": [
       "131*x**3/2 + 65*x**2/3 + 7*x + 2"
      ]
     },
     "execution_count": 99,
     "metadata": {},
     "output_type": "execute_result"
    }
   ],
   "source": [
    "x = sym.Symbol(\"x\")\n",
    "c_value = sym.S(2)\n",
    "expression = get_a(n=1, c_value=c_value) + get_a(n=2, c_value=c_value) * x + get_a(n=3, c_value=c_value) * x ** 2 + get_a(n=4, c_value=c_value) * x ** 3\n",
    "expression"
   ]
  },
  {
   "cell_type": "code",
   "execution_count": 100,
   "id": "abfc6ad1-fab3-4294-8b07-7114f8611c4b",
   "metadata": {},
   "outputs": [
    {
     "data": {
      "text/latex": [
       "$\\displaystyle \\frac{393 x^{2}}{2} + \\frac{130 x}{3} + 7$"
      ],
      "text/plain": [
       "393*x**2/2 + 130*x/3 + 7"
      ]
     },
     "execution_count": 100,
     "metadata": {},
     "output_type": "execute_result"
    }
   ],
   "source": [
    "sym.diff(expression, x)"
   ]
  },
  {
   "cell_type": "code",
   "execution_count": null,
   "id": "4ff1b662-d755-412e-8cf4-c687b3b371dc",
   "metadata": {},
   "outputs": [],
   "source": []
  }
 ],
 "metadata": {
  "kernelspec": {
   "display_name": "Python 3 (ipykernel)",
   "language": "python",
   "name": "python3"
  },
  "language_info": {
   "codemirror_mode": {
    "name": "ipython",
    "version": 3
   },
   "file_extension": ".py",
   "mimetype": "text/x-python",
   "name": "python",
   "nbconvert_exporter": "python",
   "pygments_lexer": "ipython3",
   "version": "3.11.4"
  }
 },
 "nbformat": 4,
 "nbformat_minor": 5
}
