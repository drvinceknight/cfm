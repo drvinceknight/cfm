{
 "cells": [
  {
   "cell_type": "markdown",
   "id": "bcd1c583-3f9a-484e-8dc8-74773a30b196",
   "metadata": {},
   "source": [
    "A sequence $a_1, a_2, a_3, …$ is defined by:\n",
    "\n",
    "$$\\begin{aligned}\n",
    "\\left\\{\n",
    "\\begin{array}{l}\n",
    "    a_1 = k,\\\\\n",
    "    a_{n + 1} = 3a_n – 4, n \\geq 1,\n",
    "\\end{array}\n",
    "\\right.\n",
    "\\end{aligned}$$\n",
    "\n",
    "where $k$ is a constant.\n",
    "\n",
    "1.  Write down an expression for $a_2$ in terms of $k$.\n",
    "2.  Show that $a_3 = 9k - 16$\n",
    "3.  Given that $\\sum_{r=1}^{12} a_r = 50$ find the value of $k$.\n"
   ]
  },
  {
   "cell_type": "code",
   "execution_count": 14,
   "id": "f322a26b-3a0b-4a8f-bc56-ca8177b75e28",
   "metadata": {},
   "outputs": [],
   "source": [
    "def generate_a(k_value, n):\n",
    "    \"\"\"\n",
    "    Use recursion to return a_n for a given value of k:\n",
    "\n",
    "    ...\n",
    "    \"\"\"\n",
    "    if n == 1:\n",
    "        return k_value\n",
    "    return 3 * generate_a(k_value, n - 1) - 4"
   ]
  },
  {
   "cell_type": "code",
   "execution_count": 15,
   "id": "13a480d7-9516-4220-b1ad-316b459e22c6",
   "metadata": {},
   "outputs": [
    {
     "data": {
      "text/latex": [
       "$\\displaystyle k$"
      ],
      "text/plain": [
       "k"
      ]
     },
     "execution_count": 15,
     "metadata": {},
     "output_type": "execute_result"
    }
   ],
   "source": [
    "import sympy as sym\n",
    "\n",
    "k = sym.Symbol(\"k\")\n",
    "generate_a(k_value=k, n=1)"
   ]
  },
  {
   "cell_type": "markdown",
   "id": "1829c7d7-39c2-4c16-b9e5-60a5b28302f7",
   "metadata": {},
   "source": [
    "An expression for $a_2$:n"
   ]
  },
  {
   "cell_type": "code",
   "execution_count": 16,
   "id": "e2b1a75c-53ae-4404-b0e6-f884cd4274fc",
   "metadata": {},
   "outputs": [
    {
     "data": {
      "text/latex": [
       "$\\displaystyle 3 k - 4$"
      ],
      "text/plain": [
       "3*k - 4"
      ]
     },
     "execution_count": 16,
     "metadata": {},
     "output_type": "execute_result"
    }
   ],
   "source": [
    "generate_a(k_value=k, n=2)"
   ]
  },
  {
   "cell_type": "markdown",
   "id": "c972670f-8b2b-4918-8a21-ed30498c653d",
   "metadata": {},
   "source": [
    "We can compute $a_3$:"
   ]
  },
  {
   "cell_type": "code",
   "execution_count": 17,
   "id": "91028efd-c5d5-40b5-9662-a23fffbdfad1",
   "metadata": {},
   "outputs": [
    {
     "data": {
      "text/latex": [
       "$\\displaystyle 9 k - 16$"
      ],
      "text/plain": [
       "9*k - 16"
      ]
     },
     "execution_count": 17,
     "metadata": {},
     "output_type": "execute_result"
    }
   ],
   "source": [
    "generate_a(k_value=k, n=3)"
   ]
  },
  {
   "cell_type": "code",
   "execution_count": 18,
   "id": "5af8f713-4d8c-4835-8ec1-e90199f28c1d",
   "metadata": {},
   "outputs": [
    {
     "data": {
      "text/latex": [
       "$\\displaystyle 265720 k - 531416$"
      ],
      "text/plain": [
       "265720*k - 531416"
      ]
     },
     "execution_count": 18,
     "metadata": {},
     "output_type": "execute_result"
    }
   ],
   "source": [
    "lhs = sum(generate_a(k_value=k, n=r) for r in range(1, 13))\n",
    "lhs"
   ]
  },
  {
   "cell_type": "code",
   "execution_count": 19,
   "id": "c8f877c7-0f36-409a-a8b3-b7268905d000",
   "metadata": {},
   "outputs": [
    {
     "data": {
      "text/latex": [
       "$\\displaystyle 265720 k - 531416 = 50$"
      ],
      "text/plain": [
       "Eq(265720*k - 531416, 50)"
      ]
     },
     "execution_count": 19,
     "metadata": {},
     "output_type": "execute_result"
    }
   ],
   "source": [
    "equation = sym.Eq(lhs=lhs, rhs=50)\n",
    "equation"
   ]
  },
  {
   "cell_type": "code",
   "execution_count": 20,
   "id": "26c4bb5a-cb62-4b69-9480-18f31a8473aa",
   "metadata": {},
   "outputs": [
    {
     "data": {
      "text/latex": [
       "$\\displaystyle \\left\\{\\frac{20441}{10220}\\right\\}$"
      ],
      "text/plain": [
       "{20441/10220}"
      ]
     },
     "execution_count": 20,
     "metadata": {},
     "output_type": "execute_result"
    }
   ],
   "source": [
    "sym.solveset(equation, k)"
   ]
  },
  {
   "cell_type": "code",
   "execution_count": 21,
   "id": "66674f0a-cd69-4dad-a9db-cf56efb78c2a",
   "metadata": {},
   "outputs": [
    {
     "data": {
      "text/plain": [
       "\u001b[0;31mInit signature:\u001b[0m \u001b[0mrange\u001b[0m\u001b[0;34m(\u001b[0m\u001b[0mself\u001b[0m\u001b[0;34m,\u001b[0m \u001b[0;34m/\u001b[0m\u001b[0;34m,\u001b[0m \u001b[0;34m*\u001b[0m\u001b[0margs\u001b[0m\u001b[0;34m,\u001b[0m \u001b[0;34m**\u001b[0m\u001b[0mkwargs\u001b[0m\u001b[0;34m)\u001b[0m\u001b[0;34m\u001b[0m\u001b[0;34m\u001b[0m\u001b[0m\n",
       "\u001b[0;31mDocstring:\u001b[0m     \n",
       "range(stop) -> range object\n",
       "range(start, stop[, step]) -> range object\n",
       "\n",
       "Return an object that produces a sequence of integers from start (inclusive)\n",
       "to stop (exclusive) by step.  range(i, j) produces i, i+1, i+2, ..., j-1.\n",
       "start defaults to 0, and stop is omitted!  range(4) produces 0, 1, 2, 3.\n",
       "These are exactly the valid indices for a list of 4 elements.\n",
       "When step is given, it specifies the increment (or decrement).\n",
       "\u001b[0;31mType:\u001b[0m           type\n",
       "\u001b[0;31mSubclasses:\u001b[0m     "
      ]
     },
     "metadata": {},
     "output_type": "display_data"
    }
   ],
   "source": [
    "range?"
   ]
  },
  {
   "cell_type": "code",
   "execution_count": 22,
   "id": "d6485260-d251-4991-8578-ff0fa846389b",
   "metadata": {},
   "outputs": [
    {
     "data": {
      "text/plain": [
       "(1, 2, 3, 4, 5, 6, 7, 8, 9, 10, 11)"
      ]
     },
     "execution_count": 22,
     "metadata": {},
     "output_type": "execute_result"
    }
   ],
   "source": [
    "tuple(range(1, 12))"
   ]
  },
  {
   "cell_type": "code",
   "execution_count": 23,
   "id": "0bf4668f-bece-4c1e-b1d8-39db19788481",
   "metadata": {},
   "outputs": [],
   "source": [
    "def division(denominator, numerator):\n",
    "    \"\"\"\n",
    "    Does division\n",
    "    \"\"\"\n",
    "    return numerator / denominator"
   ]
  },
  {
   "cell_type": "code",
   "execution_count": 24,
   "id": "8fdc83ba-b12f-42ed-b3b0-ff3cbbda93b4",
   "metadata": {},
   "outputs": [
    {
     "data": {
      "text/plain": [
       "2.0"
      ]
     },
     "execution_count": 24,
     "metadata": {},
     "output_type": "execute_result"
    }
   ],
   "source": [
    "division(5, 10)"
   ]
  },
  {
   "cell_type": "code",
   "execution_count": 25,
   "id": "5445b315-3a26-4fdd-8d7f-da1996b6fd4a",
   "metadata": {},
   "outputs": [
    {
     "data": {
      "text/plain": [
       "0.5"
      ]
     },
     "execution_count": 25,
     "metadata": {},
     "output_type": "execute_result"
    }
   ],
   "source": [
    "division(10, 5)"
   ]
  },
  {
   "cell_type": "code",
   "execution_count": 26,
   "id": "6050478a-c5ca-45b2-b39a-2d5521d1fad5",
   "metadata": {},
   "outputs": [
    {
     "data": {
      "text/plain": [
       "0.5"
      ]
     },
     "execution_count": 26,
     "metadata": {},
     "output_type": "execute_result"
    }
   ],
   "source": [
    "division(numerator=5, denominator=10)"
   ]
  },
  {
   "cell_type": "code",
   "execution_count": 27,
   "id": "32608c64-38b0-41cf-a5ac-b12f9345813a",
   "metadata": {},
   "outputs": [
    {
     "data": {
      "text/plain": [
       "2.0"
      ]
     },
     "execution_count": 27,
     "metadata": {},
     "output_type": "execute_result"
    }
   ],
   "source": [
    "division(5, numerator=10)"
   ]
  },
  {
   "cell_type": "code",
   "execution_count": 28,
   "id": "21134729-c7e0-4210-871a-81a020c486f9",
   "metadata": {},
   "outputs": [
    {
     "ename": "TypeError",
     "evalue": "division() got multiple values for argument 'denominator'",
     "output_type": "error",
     "traceback": [
      "\u001b[0;31m---------------------------------------------------------------------------\u001b[0m",
      "\u001b[0;31mTypeError\u001b[0m                                 Traceback (most recent call last)",
      "Cell \u001b[0;32mIn[28], line 1\u001b[0m\n\u001b[0;32m----> 1\u001b[0m \u001b[43mdivision\u001b[49m\u001b[43m(\u001b[49m\u001b[38;5;241;43m5\u001b[39;49m\u001b[43m,\u001b[49m\u001b[43m \u001b[49m\u001b[43mdenominator\u001b[49m\u001b[38;5;241;43m=\u001b[39;49m\u001b[38;5;241;43m10\u001b[39;49m\u001b[43m)\u001b[49m\n",
      "\u001b[0;31mTypeError\u001b[0m: division() got multiple values for argument 'denominator'"
     ]
    }
   ],
   "source": [
    "division(5, denominator=10)"
   ]
  },
  {
   "cell_type": "code",
   "execution_count": 29,
   "id": "c6942478-41cd-446c-8ce4-55223625180b",
   "metadata": {},
   "outputs": [
    {
     "data": {
      "text/plain": [
       "2.0"
      ]
     },
     "execution_count": 29,
     "metadata": {},
     "output_type": "execute_result"
    }
   ],
   "source": [
    "division(5, numerator=10)"
   ]
  },
  {
   "cell_type": "code",
   "execution_count": 30,
   "id": "3e553421-594b-410c-8f2f-70454978730d",
   "metadata": {},
   "outputs": [
    {
     "ename": "SyntaxError",
     "evalue": "positional argument follows keyword argument (648772447.py, line 1)",
     "output_type": "error",
     "traceback": [
      "\u001b[0;36m  Cell \u001b[0;32mIn[30], line 1\u001b[0;36m\u001b[0m\n\u001b[0;31m    division(denominator=10, 5)\u001b[0m\n\u001b[0m                              ^\u001b[0m\n\u001b[0;31mSyntaxError\u001b[0m\u001b[0;31m:\u001b[0m positional argument follows keyword argument\n"
     ]
    }
   ],
   "source": [
    "division(denominator=10, 5)"
   ]
  },
  {
   "cell_type": "code",
   "execution_count": 31,
   "id": "01f9211c-8991-4ea2-a403-dccfac13cfcb",
   "metadata": {},
   "outputs": [
    {
     "data": {
      "text/latex": [
       "$\\displaystyle 250 k$"
      ],
      "text/plain": [
       "250*k"
      ]
     },
     "execution_count": 31,
     "metadata": {},
     "output_type": "execute_result"
    }
   ],
   "source": [
    "n = sym.S(5) * 50 * k\n",
    "n"
   ]
  },
  {
   "cell_type": "code",
   "execution_count": 32,
   "id": "c0965213-7394-45dc-a3c6-1492ce9bb0d9",
   "metadata": {},
   "outputs": [
    {
     "data": {
      "text/plain": [
       "0.125"
      ]
     },
     "execution_count": 32,
     "metadata": {},
     "output_type": "execute_result"
    }
   ],
   "source": [
    "division(numerator=5, denominator=40)"
   ]
  },
  {
   "cell_type": "code",
   "execution_count": 33,
   "id": "334ee134-3363-4dff-be03-7da679a38a21",
   "metadata": {},
   "outputs": [],
   "source": [
    "b = 4"
   ]
  },
  {
   "cell_type": "code",
   "execution_count": 34,
   "id": "db79dc65-a765-419a-ab45-4475a15d9c04",
   "metadata": {},
   "outputs": [
    {
     "data": {
      "text/plain": [
       "{4}"
      ]
     },
     "execution_count": 34,
     "metadata": {},
     "output_type": "execute_result"
    }
   ],
   "source": [
    "{4}"
   ]
  },
  {
   "cell_type": "code",
   "execution_count": 35,
   "id": "2d415b89-173f-4618-a514-2ee751ff4f4a",
   "metadata": {},
   "outputs": [
    {
     "ename": "TypeError",
     "evalue": "unhashable type: 'list'",
     "output_type": "error",
     "traceback": [
      "\u001b[0;31m---------------------------------------------------------------------------\u001b[0m",
      "\u001b[0;31mTypeError\u001b[0m                                 Traceback (most recent call last)",
      "Cell \u001b[0;32mIn[35], line 1\u001b[0m\n\u001b[0;32m----> 1\u001b[0m {[\u001b[38;5;241m4\u001b[39m]}\n",
      "\u001b[0;31mTypeError\u001b[0m: unhashable type: 'list'"
     ]
    }
   ],
   "source": [
    "{[4]}"
   ]
  },
  {
   "cell_type": "code",
   "execution_count": 42,
   "id": "bc2e5936-8a78-46c7-811f-e905c82ebcd0",
   "metadata": {},
   "outputs": [],
   "source": [
    "def shout_stuff_in_list(value):\n",
    "    return value"
   ]
  },
  {
   "cell_type": "code",
   "execution_count": 44,
   "id": "ebedb0c3-63d9-4d42-8b93-1adc9bf4dc0d",
   "metadata": {},
   "outputs": [
    {
     "data": {
      "text/plain": [
       "[5]"
      ]
     },
     "execution_count": 44,
     "metadata": {},
     "output_type": "execute_result"
    }
   ],
   "source": [
    "shout_stuff_in_list(value=[5])"
   ]
  },
  {
   "cell_type": "code",
   "execution_count": 45,
   "id": "21981a2c-03a2-477a-a0b9-22fb90e8cba6",
   "metadata": {},
   "outputs": [],
   "source": [
    "import functools"
   ]
  },
  {
   "cell_type": "code",
   "execution_count": 58,
   "id": "454bd72b-4fc8-4934-8dc3-c896e4babee9",
   "metadata": {},
   "outputs": [],
   "source": [
    "def cached_shout_stuff_in_list(value, cache=None):\n",
    "    if (hashed_value := str(value)) in cache:\n",
    "        return cache[hashed_value]\n",
    "    cache[hashed_value] = value\n",
    "    return value"
   ]
  },
  {
   "cell_type": "code",
   "execution_count": 59,
   "id": "3a8c9737-0646-4b8d-8cfa-063b851bcd7e",
   "metadata": {},
   "outputs": [
    {
     "data": {
      "text/plain": [
       "5"
      ]
     },
     "execution_count": 59,
     "metadata": {},
     "output_type": "execute_result"
    }
   ],
   "source": [
    "cache = {} \n",
    "cached_shout_stuff_in_list(value=5, cache=cache)"
   ]
  },
  {
   "cell_type": "code",
   "execution_count": 62,
   "id": "78bb3c36-5435-4e01-b296-7294341a472d",
   "metadata": {},
   "outputs": [
    {
     "data": {
      "text/plain": [
       "600"
      ]
     },
     "execution_count": 62,
     "metadata": {},
     "output_type": "execute_result"
    }
   ],
   "source": [
    "cache = {'[5]': 600} \n",
    "cached_shout_stuff_in_list(value=[5], cache=cache)"
   ]
  },
  {
   "cell_type": "code",
   "execution_count": 63,
   "id": "cf0a1e34-6ea3-4ff7-b2cb-9187b0e9d20d",
   "metadata": {},
   "outputs": [
    {
     "data": {
      "text/plain": [
       "{'[5]': 600}"
      ]
     },
     "execution_count": 63,
     "metadata": {},
     "output_type": "execute_result"
    }
   ],
   "source": [
    "cache"
   ]
  },
  {
   "cell_type": "code",
   "execution_count": null,
   "id": "19d10b8a-83f3-4cd4-b332-fd7684bcbaa4",
   "metadata": {},
   "outputs": [],
   "source": []
  }
 ],
 "metadata": {
  "kernelspec": {
   "display_name": "Python 3 (ipykernel)",
   "language": "python",
   "name": "python3"
  },
  "language_info": {
   "codemirror_mode": {
    "name": "ipython",
    "version": 3
   },
   "file_extension": ".py",
   "mimetype": "text/x-python",
   "name": "python",
   "nbconvert_exporter": "python",
   "pygments_lexer": "ipython3",
   "version": "3.11.4"
  }
 },
 "nbformat": 4,
 "nbformat_minor": 5
}
