{
 "cells": [
  {
   "cell_type": "markdown",
   "id": "f8ea612f-e666-4499-9a02-9170c7998674",
   "metadata": {},
   "source": [
    "# Statistics\n",
    "\n",
    "I want to know if there is a relationship between distance from home and\n",
    "expectation of grade in first year mathematics students.\n",
    "\n",
    "The variables:\n",
    "\n",
    "- $x$ is the self reported expectation (between 0 and 100)\n",
    "- $y$ is the distance from home (as a percentage of 13,000 miles which is how far New\n",
    "Zealand is).\n",
    "\n",
    "1. Obtain the following summary statistics for both $x$ and $y$:\n",
    "    - The mean;\n",
    "    - The median;\n",
    "    - The quartiles;\n",
    "    - The standard deviation;\n",
    "2. Obtain the Pearson correlation coefficient between $x$ and $y$.\n",
    "3. Obtain a line of best fit $y=ax + b$."
   ]
  },
  {
   "cell_type": "markdown",
   "id": "097dd351-d27d-4e02-934e-f6278cbc4a35",
   "metadata": {},
   "source": [
    "In class I used a microsoft form to get everyone to put in the data. Here it is below (note that I removed the outlier :))."
   ]
  },
  {
   "cell_type": "code",
   "execution_count": 1,
   "id": "a1e6ff6e-d403-4d38-bfda-a28b93282d35",
   "metadata": {},
   "outputs": [],
   "source": [
    "x = (\n",
    " 95.0,\n",
    " 12.0,\n",
    " 50.0,\n",
    " 70.0,\n",
    " 50.0,\n",
    " 60.0,\n",
    " 1e-07,\n",
    " 60.0,\n",
    " 45.0,\n",
    " 85.0,\n",
    " 60.0,\n",
    " 95.0,\n",
    " 74.0,\n",
    " 82.0,\n",
    " 50.0,\n",
    " 65.0,\n",
    " 70.0,\n",
    " 70.0,\n",
    " 60.0,\n",
    " 99.9,\n",
    " 95.0,\n",
    " 65.0,\n",
    " 60.0,\n",
    " 70.0,\n",
    " 82.0,\n",
    " 70.0,\n",
    " 65.0,\n",
    " 50.0,\n",
    " 67.432535716361,\n",
    " 80.0,\n",
    " 67.0,\n",
    " 50.0,\n",
    " 65.0,\n",
    " 80.0,\n",
    " 80.0,\n",
    " 60.0,\n",
    " 69.0,\n",
    " 75.0,\n",
    " 50.0,\n",
    " 60.0,\n",
    " 60.0,\n",
    " 70.0,\n",
    " 70.0,\n",
    " 70.0,\n",
    " 40.0,\n",
    " 80.0,\n",
    " 65.0,\n",
    " 50.0,\n",
    " 70.0,\n",
    " 70.0,\n",
    " 50.0,\n",
    " 69.0,\n",
    " 60.0,\n",
    " 3.0,\n",
    " 40.0,\n",
    " 69.0,\n",
    " 40.0,\n",
    " 60.0,\n",
    " 65.0,\n",
    " 69.0,\n",
    " 70.0,\n",
    " 70.0,\n",
    " 69.0,\n",
    " 69.0,\n",
    " 69.0,\n",
    " 60.0,\n",
    " 60.0,\n",
    " 65.0,\n",
    " 85.0,\n",
    " 70.0,\n",
    " 60.0,\n",
    ")\n",
    "y = (\n",
    " 130.0,\n",
    " 25.0,\n",
    " 1.0,\n",
    " 300.0,\n",
    " 23.0,\n",
    " 3.0,\n",
    " 1.0,\n",
    " 190.0,\n",
    " 150.0,\n",
    " 80.0,\n",
    " 210.0,\n",
    " 3.0,\n",
    " 2.4,\n",
    " 7.0,\n",
    " 41.0,\n",
    " 5.0,\n",
    " 1.0,\n",
    " 110.0,\n",
    " 18.0,\n",
    " 0.5,\n",
    " 8.0,\n",
    " 10.0,\n",
    " 12.0,\n",
    " 100.0,\n",
    " 180.0,\n",
    " 180.0,\n",
    " 90.0,\n",
    " 185.0,\n",
    " 120.0,\n",
    " 101.0,\n",
    " 150.0,\n",
    " 40.0,\n",
    " 137.0,\n",
    " 56.0,\n",
    " 13.0,\n",
    " 200.0,\n",
    " 64.0,\n",
    " 102.0,\n",
    " 100.0,\n",
    " 24.0,\n",
    " 200.0,\n",
    " 75.0,\n",
    " 134.0,\n",
    " 151.0,\n",
    " 0.0,\n",
    " 100.0,\n",
    " 140.0,\n",
    " 130.0,\n",
    " 298.0,\n",
    " 79.0,\n",
    " 12.0,\n",
    " 64.0,\n",
    " 150.0,\n",
    " 145.0,\n",
    " 50.0,\n",
    " 64.0,\n",
    " 150.0,\n",
    " 176.0,\n",
    " 130.0,\n",
    " 64.0,\n",
    " 15.0,\n",
    " 110.0,\n",
    " 64.0,\n",
    " 64.0,\n",
    " 64.0,\n",
    " 76.0,\n",
    " 96.0,\n",
    " 72.0,\n",
    " 101.0,\n",
    " 17.0,\n",
    " 69.0,\n",
    ")"
   ]
  },
  {
   "cell_type": "markdown",
   "id": "e624b5b1-f100-422d-a20b-6785bcd54c7f",
   "metadata": {},
   "source": [
    "Here is a plot of the data (recall that plotting is not part of the course this Semester):"
   ]
  },
  {
   "cell_type": "code",
   "execution_count": 2,
   "id": "366a9e42-c298-49c0-8db3-c249f1c32651",
   "metadata": {},
   "outputs": [
    {
     "data": {
      "image/png": "[encoded data removed]",
      "text/plain": [
       "<Figure size 640x480 with 1 Axes>"
      ]
     },
     "metadata": {},
     "output_type": "display_data"
    }
   ],
   "source": [
    "import matplotlib.pyplot as plt\n",
    "plt.figure()\n",
    "plt.scatter(x, y)\n",
    "plt.xlabel(\"Expected Grade\")\n",
    "plt.ylabel(\"Distance from home\");"
   ]
  },
  {
   "cell_type": "markdown",
   "id": "e3bc08db-3fc3-40a8-b335-1e302eb87a37",
   "metadata": {},
   "source": [
    "We import the `statistics` library:"
   ]
  },
  {
   "cell_type": "code",
   "execution_count": 3,
   "id": "3e7ed413-7dbe-4873-8db1-a817d965c580",
   "metadata": {},
   "outputs": [],
   "source": [
    "import statistics as st"
   ]
  },
  {
   "cell_type": "markdown",
   "id": "246d7eea-5cc7-48b0-92bd-29933188eace",
   "metadata": {},
   "source": [
    "Now for the measures of spread and tendency:"
   ]
  },
  {
   "cell_type": "code",
   "execution_count": 4,
   "id": "1d2de022-04d7-4698-96c5-1e3b49029f01",
   "metadata": {},
   "outputs": [
    {
     "data": {
      "text/plain": [
       "63.80750050445579"
      ]
     },
     "execution_count": 4,
     "metadata": {},
     "output_type": "execute_result"
    }
   ],
   "source": [
    "st.mean(x)"
   ]
  },
  {
   "cell_type": "code",
   "execution_count": 5,
   "id": "d30928ce-95e9-435c-8055-1dc15269b1a5",
   "metadata": {},
   "outputs": [
    {
     "data": {
      "text/plain": [
       "87.78732394366197"
      ]
     },
     "execution_count": 5,
     "metadata": {},
     "output_type": "execute_result"
    }
   ],
   "source": [
    "st.mean(y)"
   ]
  },
  {
   "cell_type": "code",
   "execution_count": 6,
   "id": "92b3db9d-964e-4719-be44-8fd2ade1e2d5",
   "metadata": {},
   "outputs": [
    {
     "data": {
      "text/plain": [
       "67.0"
      ]
     },
     "execution_count": 6,
     "metadata": {},
     "output_type": "execute_result"
    }
   ],
   "source": [
    "st.median(x)"
   ]
  },
  {
   "cell_type": "code",
   "execution_count": 7,
   "id": "3aa6c46a-7be7-4a98-93ea-bd8f4eddd248",
   "metadata": {},
   "outputs": [
    {
     "data": {
      "text/plain": [
       "76.0"
      ]
     },
     "execution_count": 7,
     "metadata": {},
     "output_type": "execute_result"
    }
   ],
   "source": [
    "st.median(y)"
   ]
  },
  {
   "cell_type": "code",
   "execution_count": 8,
   "id": "bdb2dd38-b48d-4c30-b8a1-0a4b3adfc95f",
   "metadata": {},
   "outputs": [
    {
     "data": {
      "text/plain": [
       "[60.0, 67.0, 70.0]"
      ]
     },
     "execution_count": 8,
     "metadata": {},
     "output_type": "execute_result"
    }
   ],
   "source": [
    "st.quantiles(x, n=4)"
   ]
  },
  {
   "cell_type": "code",
   "execution_count": 9,
   "id": "08348eba-4693-4731-966d-5f04f618e83e",
   "metadata": {},
   "outputs": [
    {
     "data": {
      "text/plain": [
       "[18.0, 76.0, 137.0]"
      ]
     },
     "execution_count": 9,
     "metadata": {},
     "output_type": "execute_result"
    }
   ],
   "source": [
    "st.quantiles(y, n=4)"
   ]
  },
  {
   "cell_type": "code",
   "execution_count": 10,
   "id": "6b2417f3-42ee-44fd-a9ee-ff3e9dfa1930",
   "metadata": {},
   "outputs": [
    {
     "data": {
      "text/plain": [
       "17.728492526633655"
      ]
     },
     "execution_count": 10,
     "metadata": {},
     "output_type": "execute_result"
    }
   ],
   "source": [
    "st.stdev(x)"
   ]
  },
  {
   "cell_type": "code",
   "execution_count": 11,
   "id": "79f1f38e-4c78-42c6-8a53-a417be79d75d",
   "metadata": {},
   "outputs": [
    {
     "data": {
      "text/plain": [
       "71.14114728497238"
      ]
     },
     "execution_count": 11,
     "metadata": {},
     "output_type": "execute_result"
    }
   ],
   "source": [
    "st.stdev(y)"
   ]
  },
  {
   "cell_type": "markdown",
   "id": "ba310c7b-b3e0-444d-81ed-b79d68ef67f9",
   "metadata": {},
   "source": [
    "The Pearson correlation coefficient:"
   ]
  },
  {
   "cell_type": "code",
   "execution_count": 12,
   "id": "b64ed49e-4fe3-42e4-a65a-5bcd2a95b9db",
   "metadata": {},
   "outputs": [
    {
     "data": {
      "text/plain": [
       "0.0036776525671552087"
      ]
     },
     "execution_count": 12,
     "metadata": {},
     "output_type": "execute_result"
    }
   ],
   "source": [
    "st.correlation(x, y)"
   ]
  },
  {
   "cell_type": "markdown",
   "id": "43bb0864-d918-438a-a54b-60519f095d87",
   "metadata": {},
   "source": [
    "We see that there is not much of a relationship between `x` and `y`."
   ]
  },
  {
   "cell_type": "markdown",
   "id": "c7023d31-a67b-456d-8046-9a5b89a44661",
   "metadata": {},
   "source": [
    "The linear regression:"
   ]
  },
  {
   "cell_type": "code",
   "execution_count": 13,
   "id": "974ead1c-962e-4861-b05b-5a7d8fb28738",
   "metadata": {},
   "outputs": [],
   "source": [
    "slope, intercept = st.linear_regression(x, y)"
   ]
  },
  {
   "cell_type": "code",
   "execution_count": 14,
   "id": "d369c6d5-fd33-45ac-9016-86a351ad79d8",
   "metadata": {},
   "outputs": [
    {
     "data": {
      "text/plain": [
       "0.014757736595477196"
      ]
     },
     "execution_count": 14,
     "metadata": {},
     "output_type": "execute_result"
    }
   ],
   "source": [
    "slope"
   ]
  },
  {
   "cell_type": "code",
   "execution_count": 15,
   "id": "1985178c-13b3-4aed-aec4-29cd53674db9",
   "metadata": {},
   "outputs": [
    {
     "data": {
      "text/plain": [
       "86.84566965840142"
      ]
     },
     "execution_count": 15,
     "metadata": {},
     "output_type": "execute_result"
    }
   ],
   "source": [
    "intercept"
   ]
  },
  {
   "cell_type": "markdown",
   "id": "0fddb2e0-d3aa-4c2b-991b-5d4e6bf53c53",
   "metadata": {},
   "source": [
    "We see that the line is essentially flat showing no real relationship between distance from home and expectation of grade."
   ]
  },
  {
   "cell_type": "code",
   "execution_count": 16,
   "id": "e1ee4639-495d-4eee-be03-9ad9bd8356e4",
   "metadata": {},
   "outputs": [
    {
     "data": {
      "image/png": "[encoded data removed]",
      "text/plain": [
       "<Figure size 640x480 with 1 Axes>"
      ]
     },
     "metadata": {},
     "output_type": "display_data"
    }
   ],
   "source": [
    "import matplotlib.pyplot as plt\n",
    "plt.figure()\n",
    "plt.scatter(x, y)\n",
    "plt.plot((0, 100), (intercept, 100 * slope + intercept), color=\"black\")\n",
    "plt.xlabel(\"Expected Grade\")\n",
    "plt.ylabel(\"Distance from home\");"
   ]
  },
  {
   "cell_type": "code",
   "execution_count": 17,
   "id": "1e0aaf05-a3f1-4956-bb78-b6d1701eb037",
   "metadata": {},
   "outputs": [
    {
     "data": {
      "text/plain": [
       "NormalDist(mu=10.0, sigma=0.5)"
      ]
     },
     "execution_count": 17,
     "metadata": {},
     "output_type": "execute_result"
    }
   ],
   "source": [
    "distribution = st.NormalDist(mu=10, sigma=.5)\n",
    "distribution"
   ]
  },
  {
   "cell_type": "code",
   "execution_count": 18,
   "id": "60f86cd4-49bf-437a-ae41-b3c32d22afc6",
   "metadata": {},
   "outputs": [],
   "source": [
    "probability_of_less_than_eight = distribution.cdf(8)"
   ]
  },
  {
   "cell_type": "code",
   "execution_count": 19,
   "id": "1699b596-ee2a-45b2-9573-ff8787280493",
   "metadata": {},
   "outputs": [
    {
     "data": {
      "text/plain": [
       "3.167124183311998e-05"
      ]
     },
     "execution_count": 19,
     "metadata": {},
     "output_type": "execute_result"
    }
   ],
   "source": [
    "probability_of_less_than_eight"
   ]
  },
  {
   "cell_type": "code",
   "execution_count": 27,
   "id": "30f7cbb0-fa5a-4351-8328-65199799333c",
   "metadata": {},
   "outputs": [
    {
     "data": {
      "text/plain": [
       "10.6407757827723"
      ]
     },
     "execution_count": 27,
     "metadata": {},
     "output_type": "execute_result"
    }
   ],
   "source": [
    "distribution.inv_cdf(.9)"
   ]
  },
  {
   "cell_type": "code",
   "execution_count": 26,
   "id": "d6fbfc17-ef53-4e92-be13-1e395918f923",
   "metadata": {},
   "outputs": [
    {
     "data": {
      "text/plain": [
       "-29.3592242172277"
      ]
     },
     "execution_count": 26,
     "metadata": {},
     "output_type": "execute_result"
    }
   ],
   "source": [
    "_"
   ]
  },
  {
   "cell_type": "code",
   "execution_count": 24,
   "id": "06eb4a5d-99a0-491b-bfae-c8a0fc5965a0",
   "metadata": {},
   "outputs": [
    {
     "data": {
      "text/plain": [
       "-29.3592242172277"
      ]
     },
     "execution_count": 24,
     "metadata": {},
     "output_type": "execute_result"
    }
   ],
   "source": [
    "_ - 50"
   ]
  },
  {
   "cell_type": "code",
   "execution_count": null,
   "id": "50301ee0-7059-4ea0-8b8a-abd0add15dec",
   "metadata": {},
   "outputs": [],
   "source": []
  }
 ],
 "metadata": {
  "kernelspec": {
   "display_name": "Python 3 (ipykernel)",
   "language": "python",
   "name": "python3"
  },
  "language_info": {
   "codemirror_mode": {
    "name": "ipython",
    "version": 3
   },
   "file_extension": ".py",
   "mimetype": "text/x-python",
   "name": "python",
   "nbconvert_exporter": "python",
   "pygments_lexer": "ipython3",
   "version": "3.11.4"
  }
 },
 "nbformat": 4,
 "nbformat_minor": 5
}
