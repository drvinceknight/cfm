{
 "cells": [
  {
   "cell_type": "code",
   "execution_count": 1,
   "id": "1b39d537-5813-41f6-b18c-f1a3be90c1b1",
   "metadata": {},
   "outputs": [],
   "source": [
    "import sympy"
   ]
  },
  {
   "cell_type": "markdown",
   "id": "428b3dd9-618b-4281-9357-ae06304adaf3",
   "metadata": {},
   "source": [
    "# Algebra\n",
    "\n",
    "There are two parts to the question which can be found [here](https://vknight.org/pfm/tools-for-mathematics/02-algebra/tutorial/main.html)\n",
    "\n",
    "## Part 1\n",
    "\n",
    "Let us define our `expression` to **have** the *value* of the expression."
   ]
  },
  {
   "cell_type": "code",
   "execution_count": 7,
   "id": "f3b892fc-36e2-4599-8cc2-8b17b3a93bec",
   "metadata": {},
   "outputs": [
    {
     "data": {
      "text/latex": [
       "$\\displaystyle \\frac{1}{1 + \\sqrt{2}}$"
      ],
      "text/plain": [
       "1/(1 + sqrt(2))"
      ]
     },
     "execution_count": 7,
     "metadata": {},
     "output_type": "execute_result"
    }
   ],
   "source": [
    "expression = 1 / (sympy.sqrt(2) + 1)\n",
    "expression"
   ]
  },
  {
   "cell_type": "code",
   "execution_count": 8,
   "id": "7948c66e-3301-4686-962a-cc3eef4482fd",
   "metadata": {},
   "outputs": [
    {
     "data": {
      "text/plain": [
       "0.41421356237309503"
      ]
     },
     "execution_count": 8,
     "metadata": {},
     "output_type": "execute_result"
    }
   ],
   "source": [
    "float(expression)"
   ]
  },
  {
   "cell_type": "markdown",
   "id": "9d8cfc2c-dec8-4ee0-a7b5-a533b838662e",
   "metadata": {},
   "source": [
    "Let us simplify our expression:"
   ]
  },
  {
   "cell_type": "code",
   "execution_count": 9,
   "id": "de68b464-96e8-42cf-b326-46c08ad091ad",
   "metadata": {},
   "outputs": [
    {
     "data": {
      "text/latex": [
       "$\\displaystyle -1 + \\sqrt{2}$"
      ],
      "text/plain": [
       "-1 + sqrt(2)"
      ]
     },
     "execution_count": 9,
     "metadata": {},
     "output_type": "execute_result"
    }
   ],
   "source": [
    "sympy.simplify(expression)"
   ]
  },
  {
   "cell_type": "markdown",
   "id": "80216142-f010-4cf5-a862-f6505be2c42d",
   "metadata": {},
   "source": [
    "## Part 2\n",
    "\n",
    "Let us create a new variable with the expression that is the value of $f(x)$:"
   ]
  },
  {
   "cell_type": "code",
   "execution_count": 18,
   "id": "f2f79de9-ce6f-4b2d-a242-5c8399c4cb28",
   "metadata": {},
   "outputs": [
    {
     "data": {
      "text/latex": [
       "$\\displaystyle 2 x^{2} + x + 1$"
      ],
      "text/plain": [
       "2*x**2 + x + 1"
      ]
     },
     "execution_count": 18,
     "metadata": {},
     "output_type": "execute_result"
    }
   ],
   "source": [
    "x = sympy.Symbol(\"x\")\n",
    "expression = 2 * x ** 2 + x + 1\n",
    "expression"
   ]
  },
  {
   "cell_type": "code",
   "execution_count": 14,
   "id": "bc89d2bf-e58e-432e-a922-609576b9ff98",
   "metadata": {},
   "outputs": [
    {
     "data": {
      "text/latex": [
       "$\\displaystyle 2 x^{2} + x + \\cos{\\left(x \\right)} + 4$"
      ],
      "text/plain": [
       "2*x**2 + x + cos(x) + 4"
      ]
     },
     "execution_count": 14,
     "metadata": {},
     "output_type": "execute_result"
    }
   ],
   "source": [
    "expression + 3 + sympy.cos(x)"
   ]
  },
  {
   "cell_type": "markdown",
   "id": "0b4cfd09-279b-4a52-bfbb-d187bc110519",
   "metadata": {},
   "source": [
    "To calculate the discriminant:"
   ]
  },
  {
   "cell_type": "code",
   "execution_count": 20,
   "id": "d9355c82-8bc4-4815-8b0c-6c3cd5f4d9ed",
   "metadata": {},
   "outputs": [
    {
     "data": {
      "text/latex": [
       "$\\displaystyle -7$"
      ],
      "text/plain": [
       "-7"
      ]
     },
     "execution_count": 20,
     "metadata": {},
     "output_type": "execute_result"
    }
   ],
   "source": [
    "sympy.discriminant(expression)"
   ]
  },
  {
   "cell_type": "markdown",
   "id": "c0ca7938-8589-4c8d-8677-61d8a73c03a7",
   "metadata": {},
   "source": [
    "As the discriminant is negative this implies that $f(x)$ has no roots (in other words there are no solutions in $\\mathbb{R}$ to $f(x)=0$). As the coefficient of $x ^ 2$ in $f(x)$ is positive (it is $2$) that implies that we have a parabola in the positive half plane."
   ]
  },
  {
   "cell_type": "markdown",
   "id": "fbf32cf5-1e2d-40f3-87c2-4ef1005c3d49",
   "metadata": {},
   "source": [
    "Let us confirm that $f(x)=0$ has no real solutions.\n",
    "\n",
    "Before doing that note that the syntax to create $\\mathbb{R}$ is:\n",
    "\n",
    "```\n",
    "\\mathbb{R}\n",
    "```"
   ]
  },
  {
   "cell_type": "code",
   "execution_count": 27,
   "id": "616b8422-be9c-46e7-a170-fe8363b72c4e",
   "metadata": {},
   "outputs": [
    {
     "data": {
      "text/latex": [
       "$\\displaystyle 2 x^{2} + x + 1 = 0$"
      ],
      "text/plain": [
       "Eq(2*x**2 + x + 1, 0)"
      ]
     },
     "execution_count": 27,
     "metadata": {},
     "output_type": "execute_result"
    }
   ],
   "source": [
    "equation = sympy.Eq(lhs=expression, rhs=0)\n",
    "equation"
   ]
  },
  {
   "cell_type": "code",
   "execution_count": 38,
   "id": "c9a07037-03d6-4fb0-aeb9-d0a3a228d973",
   "metadata": {},
   "outputs": [
    {
     "data": {
      "text/latex": [
       "$\\displaystyle \\left\\{- \\frac{1}{4} - \\frac{\\sqrt{7} i}{4}, - \\frac{1}{4} + \\frac{\\sqrt{7} i}{4}\\right\\}$"
      ],
      "text/plain": [
       "{-1/4 - sqrt(7)*I/4, -1/4 + sqrt(7)*I/4}"
      ]
     },
     "execution_count": 38,
     "metadata": {},
     "output_type": "execute_result"
    }
   ],
   "source": [
    "sympy.solveset(equation, x)"
   ]
  },
  {
   "cell_type": "markdown",
   "id": "5abbd8ca-28cf-4d3c-83f8-60910199ab13",
   "metadata": {},
   "source": [
    "Completing the square, means re writing $f(x)$ in the following form:\n",
    "\n",
    "$$a (x - b) ^ 2 + c$$"
   ]
  },
  {
   "cell_type": "markdown",
   "id": "87b8b971-be8b-4114-b3c2-ca1c304b2c9f",
   "metadata": {},
   "source": [
    "We now create this expression:"
   ]
  },
  {
   "cell_type": "code",
   "execution_count": 29,
   "id": "df242d68-c861-412e-bca4-edb3cf68121f",
   "metadata": {},
   "outputs": [],
   "source": [
    "a = sympy.Symbol(\"a\")\n",
    "b = sympy.Symbol(\"b\")\n",
    "c = sympy.Symbol(\"c\")\n",
    "completed_square = a * (x - b) ** 2 + c"
   ]
  },
  {
   "cell_type": "code",
   "execution_count": 30,
   "id": "e24590f7-0e9a-4b29-85ad-4f8ea322dd04",
   "metadata": {},
   "outputs": [
    {
     "data": {
      "text/latex": [
       "$\\displaystyle a \\left(- b + x\\right)^{2} + c$"
      ],
      "text/plain": [
       "a*(-b + x)**2 + c"
      ]
     },
     "execution_count": 30,
     "metadata": {},
     "output_type": "execute_result"
    }
   ],
   "source": [
    "completed_square"
   ]
  },
  {
   "cell_type": "markdown",
   "id": "61ef5f2d-d408-48c7-8712-fbe3948bc19e",
   "metadata": {},
   "source": [
    "We want this expression to be equal to $f(x)$, let us start by expanding it:"
   ]
  },
  {
   "cell_type": "code",
   "execution_count": 31,
   "id": "bc94d847-d4b1-4401-8d65-c249a78d42eb",
   "metadata": {},
   "outputs": [
    {
     "data": {
      "text/latex": [
       "$\\displaystyle a b^{2} - 2 a b x + a x^{2} + c$"
      ],
      "text/plain": [
       "a*b**2 - 2*a*b*x + a*x**2 + c"
      ]
     },
     "execution_count": 31,
     "metadata": {},
     "output_type": "execute_result"
    }
   ],
   "source": [
    "sympy.expand(completed_square)"
   ]
  },
  {
   "cell_type": "markdown",
   "id": "9b8ae2ff-83c9-4e0a-a24d-0a44c92ce1ae",
   "metadata": {},
   "source": [
    "We can now use this to compare the coefficients of $x, x^2$  in $f$:"
   ]
  },
  {
   "cell_type": "code",
   "execution_count": 32,
   "id": "2d737a00-fdc5-47e2-955a-fb6874d6869f",
   "metadata": {},
   "outputs": [
    {
     "data": {
      "text/latex": [
       "$\\displaystyle 2 x^{2} + x + 1$"
      ],
      "text/plain": [
       "2*x**2 + x + 1"
      ]
     },
     "execution_count": 32,
     "metadata": {},
     "output_type": "execute_result"
    }
   ],
   "source": [
    "expression"
   ]
  },
  {
   "cell_type": "markdown",
   "id": "6fe16ff1-a140-4471-8761-63929b597b95",
   "metadata": {},
   "source": [
    "So this gives us three equations:\n",
    "\n",
    "1. For $x^2$: $2 = a$\n",
    "2. For $x$: $1=-2ab$\n",
    "3. For $1$: $1=ab ^2 + c$"
   ]
  },
  {
   "cell_type": "code",
   "execution_count": 44,
   "id": "5e308316-f4d5-4edf-8c55-da7ab292227a",
   "metadata": {},
   "outputs": [
    {
     "data": {
      "text/latex": [
       "$\\displaystyle \\left\\{2\\right\\}$"
      ],
      "text/plain": [
       "{2}"
      ]
     },
     "execution_count": 44,
     "metadata": {},
     "output_type": "execute_result"
    }
   ],
   "source": [
    "equation_for_x_squared = sympy.Eq(lhs=2, rhs=a)\n",
    "sympy.solveset(equation_for_x_squared)"
   ]
  },
  {
   "cell_type": "code",
   "execution_count": 46,
   "id": "387fc527-dae8-466f-b95e-613d0a11f754",
   "metadata": {},
   "outputs": [
    {
     "data": {
      "text/latex": [
       "$\\displaystyle \\left\\{- \\frac{1}{2 a}\\right\\}$"
      ],
      "text/plain": [
       "{-1/(2*a)}"
      ]
     },
     "execution_count": 46,
     "metadata": {},
     "output_type": "execute_result"
    }
   ],
   "source": [
    "equation_for_x = sympy.Eq(lhs=1, rhs=-2 * a * b)\n",
    "sympy.solveset(equation_for_x, b)"
   ]
  },
  {
   "cell_type": "code",
   "execution_count": 52,
   "id": "98554a9c-07aa-4017-bcdf-68981d76f713",
   "metadata": {},
   "outputs": [
    {
     "data": {
      "text/latex": [
       "$\\displaystyle \\left\\{- a b^{2} + 1\\right\\}$"
      ],
      "text/plain": [
       "{-a*b**2 + 1}"
      ]
     },
     "execution_count": 52,
     "metadata": {},
     "output_type": "execute_result"
    }
   ],
   "source": [
    "equation_for_constant_term = sympy.Eq(lhs=1, rhs=a * b ** 2 + c)\n",
    "sympy.solveset(equation_for_constant_term, c)"
   ]
  },
  {
   "cell_type": "markdown",
   "id": "0f4cc524-a1e8-4e69-82b9-bcb726f92e8c",
   "metadata": {},
   "source": [
    "I can substitute solutions from one equation in to the other. Let me first substitute the value of $a=2$ into the equation for the $x$ term:"
   ]
  },
  {
   "cell_type": "code",
   "execution_count": 56,
   "id": "77bb097c-c787-4ccc-ac6e-ece65aae06ba",
   "metadata": {},
   "outputs": [
    {
     "data": {
      "text/latex": [
       "$\\displaystyle \\left\\{- \\frac{1}{4}\\right\\}$"
      ],
      "text/plain": [
       "{-1/4}"
      ]
     },
     "execution_count": 56,
     "metadata": {},
     "output_type": "execute_result"
    }
   ],
   "source": [
    "sympy.solveset(equation_for_x.subs({a: 2}), b)"
   ]
  },
  {
   "cell_type": "markdown",
   "id": "b763e9b7-4c82-4a3e-abe0-5185c24c0d10",
   "metadata": {},
   "source": [
    "Let us substitute this value for $b$ into the equation for the constant term:"
   ]
  },
  {
   "cell_type": "code",
   "execution_count": 72,
   "id": "e550ee54-0055-49e2-bc63-056cbcce31e7",
   "metadata": {},
   "outputs": [
    {
     "data": {
      "text/latex": [
       "$\\displaystyle \\left\\{\\frac{7}{8}\\right\\}$"
      ],
      "text/plain": [
       "{7/8}"
      ]
     },
     "execution_count": 72,
     "metadata": {},
     "output_type": "execute_result"
    }
   ],
   "source": [
    "sympy.solveset(equation_for_constant_term.subs({a: 2, b: - sympy.S(1) / 4}))"
   ]
  },
  {
   "cell_type": "markdown",
   "id": "2c95ac7a-6826-47ed-8ff8-4cbf289142e1",
   "metadata": {},
   "source": [
    "If we now look at the completed square:"
   ]
  },
  {
   "cell_type": "code",
   "execution_count": 74,
   "id": "9e0b2336-21f1-4007-8b13-aa2f6d2fb833",
   "metadata": {},
   "outputs": [
    {
     "data": {
      "text/latex": [
       "$\\displaystyle 2 \\left(x + \\frac{1}{4}\\right)^{2} + \\frac{7}{8}$"
      ],
      "text/plain": [
       "2*(x + 1/4)**2 + 7/8"
      ]
     },
     "execution_count": 74,
     "metadata": {},
     "output_type": "execute_result"
    }
   ],
   "source": [
    "completed_square.subs({a: 2, b: - sympy.S(1) / 4, c: sympy.S(7) / 8})"
   ]
  },
  {
   "cell_type": "markdown",
   "id": "53f86703-a37a-46b2-8d82-7daf7192886d",
   "metadata": {},
   "source": [
    "This confirms that the minimum is when $x=-\\frac{1}{4}$ as this makes the first term (which is a square) 0."
   ]
  }
 ],
 "metadata": {
  "kernelspec": {
   "display_name": "Python 3 (ipykernel)",
   "language": "python",
   "name": "python3"
  },
  "language_info": {
   "codemirror_mode": {
    "name": "ipython",
    "version": 3
   },
   "file_extension": ".py",
   "mimetype": "text/x-python",
   "name": "python",
   "nbconvert_exporter": "python",
   "pygments_lexer": "ipython3",
   "version": "3.10.11"
  }
 },
 "nbformat": 4,
 "nbformat_minor": 5
}
