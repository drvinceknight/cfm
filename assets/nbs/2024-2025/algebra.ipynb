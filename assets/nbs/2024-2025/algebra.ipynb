{
 "cells": [
  {
   "cell_type": "markdown",
   "id": "ccba833a-59cc-4b6f-b4f6-2af8de1b1628",
   "metadata": {},
   "source": [
    "Rationalise the following expression: $\\frac{1}{\\sqrt{3} + 1}$.\n",
    "\n",
    "Consider the quadratic $f(x) = -x ^ 2 + 8 x - 18$.\n",
    "\n",
    "Calculate the discriminant of the quadratic equation $f(x)=0$. What does this tell us about the graph of $f(x)$.\n",
    "By completing the square, confirm that $(4, -2)$ is the maximum of point of $f(x)$.\n"
   ]
  },
  {
   "cell_type": "code",
   "execution_count": 7,
   "id": "261d02df-876e-496c-a940-a13eb6f1dee7",
   "metadata": {},
   "outputs": [],
   "source": [
    "import sympy"
   ]
  },
  {
   "cell_type": "code",
   "execution_count": 8,
   "id": "4b3d88c9-7c2a-42b7-9257-044788dead17",
   "metadata": {},
   "outputs": [
    {
     "data": {
      "text/latex": [
       "$\\displaystyle \\frac{1}{1 + \\sqrt{3}}$"
      ],
      "text/plain": [
       "1/(1 + sqrt(3))"
      ]
     },
     "execution_count": 8,
     "metadata": {},
     "output_type": "execute_result"
    }
   ],
   "source": [
    "expression = 1 / (sympy.sqrt(3) + 1)\n",
    "expression"
   ]
  },
  {
   "cell_type": "code",
   "execution_count": 10,
   "id": "47282696-e36b-43e0-add8-300c522ef655",
   "metadata": {},
   "outputs": [
    {
     "data": {
      "text/latex": [
       "$\\displaystyle - \\frac{1}{2} + \\frac{\\sqrt{3}}{2}$"
      ],
      "text/plain": [
       "-1/2 + sqrt(3)/2"
      ]
     },
     "execution_count": 10,
     "metadata": {},
     "output_type": "execute_result"
    }
   ],
   "source": [
    "sympy.simplify(expression)"
   ]
  },
  {
   "cell_type": "markdown",
   "id": "8231abd7-96cd-47f3-abcd-55779cc5de98",
   "metadata": {},
   "source": [
    "Now let us start working on the quadratic part of the question:"
   ]
  },
  {
   "cell_type": "code",
   "execution_count": 15,
   "id": "227fb3ec-dd35-4edb-a4da-49c64adea4b2",
   "metadata": {},
   "outputs": [
    {
     "data": {
      "text/latex": [
       "$\\displaystyle - x^{2} + 8 x - 18$"
      ],
      "text/plain": [
       "-x**2 + 8*x - 18"
      ]
     },
     "execution_count": 15,
     "metadata": {},
     "output_type": "execute_result"
    }
   ],
   "source": [
    "x = sympy.Symbol(\"x\")\n",
    "expression = - x ** 2 + 8 * x - 18\n",
    "expression"
   ]
  },
  {
   "cell_type": "code",
   "execution_count": 16,
   "id": "03aa632e-9d9c-456a-a390-4061af1ddead",
   "metadata": {},
   "outputs": [
    {
     "data": {
      "text/latex": [
       "$\\displaystyle -8$"
      ],
      "text/plain": [
       "-8"
      ]
     },
     "execution_count": 16,
     "metadata": {},
     "output_type": "execute_result"
    }
   ],
   "source": [
    "sympy.discriminant(expression)"
   ]
  },
  {
   "cell_type": "markdown",
   "id": "dfe46446-ba12-4e02-b583-9e25ef96708e",
   "metadata": {},
   "source": [
    "As the discriminant is negative and the leading coefficient of $x^2$ is positive, this implies we have an \"upside down bell\" (inverted parabola) shape."
   ]
  },
  {
   "cell_type": "markdown",
   "id": "9c85716c-cc27-43a8-bc6a-857c16aa08c7",
   "metadata": {},
   "source": [
    "To complete the square, I will start by writing the quadratic in a different form:\n",
    "\n",
    "$$a(-b + x) ^ 2 + c$$"
   ]
  },
  {
   "cell_type": "code",
   "execution_count": 17,
   "id": "a60dd640-99ab-4d8a-81e1-c0aed3cb658e",
   "metadata": {},
   "outputs": [
    {
     "data": {
      "text/latex": [
       "$\\displaystyle a \\left(- b + x\\right)^{2} + c$"
      ],
      "text/plain": [
       "a*(-b + x)**2 + c"
      ]
     },
     "execution_count": 17,
     "metadata": {},
     "output_type": "execute_result"
    }
   ],
   "source": [
    "a, b, c = sympy.Symbol(\"a\"), sympy.Symbol(\"b\"), sympy.Symbol(\"c\")\n",
    "completed_square = a * (x - b) ** 2 + c\n",
    "completed_square"
   ]
  },
  {
   "cell_type": "markdown",
   "id": "81e09a36-a1f5-47c0-aa81-15f596fbb487",
   "metadata": {},
   "source": [
    "We know that this expression must equal $f(x)$:"
   ]
  },
  {
   "cell_type": "code",
   "execution_count": 19,
   "id": "ad8535a1-6457-4211-a442-4fc33c1d0adc",
   "metadata": {},
   "outputs": [
    {
     "data": {
      "text/latex": [
       "$\\displaystyle a b^{2} - 2 a b x + a x^{2} + c$"
      ],
      "text/plain": [
       "a*b**2 - 2*a*b*x + a*x**2 + c"
      ]
     },
     "execution_count": 19,
     "metadata": {},
     "output_type": "execute_result"
    }
   ],
   "source": [
    "sympy.expand(completed_square)"
   ]
  },
  {
   "cell_type": "markdown",
   "id": "005dac8c-f362-4e26-9520-5f9b6775b89b",
   "metadata": {},
   "source": [
    "Let us recall what $f(x)$ looks like:"
   ]
  },
  {
   "cell_type": "code",
   "execution_count": 20,
   "id": "8401450f-7884-421b-a2b0-eb29fa391e4a",
   "metadata": {},
   "outputs": [
    {
     "data": {
      "text/latex": [
       "$\\displaystyle - x^{2} + 8 x - 18$"
      ],
      "text/plain": [
       "-x**2 + 8*x - 18"
      ]
     },
     "execution_count": 20,
     "metadata": {},
     "output_type": "execute_result"
    }
   ],
   "source": [
    "expression"
   ]
  },
  {
   "cell_type": "markdown",
   "id": "af4a0b36-86c3-416f-9929-8825570aa7e5",
   "metadata": {},
   "source": [
    "For these two expressions to be equal, the coefficients of the polynomial terms must be equal.\n",
    "\n",
    "For example, the coefficient of $x^2$ must be equal.\n",
    "\n",
    "In the first expression, the coefficient of $x^2$ is: -1. And in the completed square it is: $a$.\n",
    "\n",
    "Thus, $a=-1$."
   ]
  },
  {
   "cell_type": "code",
   "execution_count": 21,
   "id": "7d389a95-8ccc-41d0-8877-9b553086da0f",
   "metadata": {},
   "outputs": [
    {
     "data": {
      "text/latex": [
       "$\\displaystyle c - \\left(- b + x\\right)^{2}$"
      ],
      "text/plain": [
       "c - (-b + x)**2"
      ]
     },
     "execution_count": 21,
     "metadata": {},
     "output_type": "execute_result"
    }
   ],
   "source": [
    "completed_square.subs({a: -1})"
   ]
  },
  {
   "cell_type": "code",
   "execution_count": 22,
   "id": "e3a53aa5-7a7c-428c-aa20-6b1a5eb5488c",
   "metadata": {},
   "outputs": [
    {
     "data": {
      "text/latex": [
       "$\\displaystyle - b^{2} + 2 b x + c - x^{2}$"
      ],
      "text/plain": [
       "-b**2 + 2*b*x + c - x**2"
      ]
     },
     "execution_count": 22,
     "metadata": {},
     "output_type": "execute_result"
    }
   ],
   "source": [
    "sympy.expand(completed_square.subs({a: -1}))"
   ]
  },
  {
   "cell_type": "markdown",
   "id": "0dac8bc5-6790-4e9c-a8a9-f974e6b508f9",
   "metadata": {},
   "source": [
    "Now let us continue to compare coefficients. Looking at the constant term we have the equation:\n",
    "\n",
    "$$- b ^ 2 + c = -18$$"
   ]
  },
  {
   "cell_type": "markdown",
   "id": "db382182-e14f-45d5-ba63-f6493c8a2720",
   "metadata": {},
   "source": [
    "Let us create this equation in Sympy:"
   ]
  },
  {
   "cell_type": "code",
   "execution_count": 23,
   "id": "a1f6c221-68dc-4c02-a731-7d877184bff5",
   "metadata": {},
   "outputs": [
    {
     "data": {
      "text/latex": [
       "$\\displaystyle - b^{2} + c = -18$"
      ],
      "text/plain": [
       "Eq(-b**2 + c, -18)"
      ]
     },
     "execution_count": 23,
     "metadata": {},
     "output_type": "execute_result"
    }
   ],
   "source": [
    "equation = sympy.Eq(lhs=-b ** 2 + c, rhs=-18)\n",
    "equation"
   ]
  },
  {
   "cell_type": "code",
   "execution_count": 24,
   "id": "567c8279-d0d1-46bf-8a8a-0c37a19ac859",
   "metadata": {},
   "outputs": [
    {
     "data": {
      "text/latex": [
       "$\\displaystyle \\left\\{b^{2} - 18\\right\\}$"
      ],
      "text/plain": [
       "{b**2 - 18}"
      ]
     },
     "execution_count": 24,
     "metadata": {},
     "output_type": "execute_result"
    }
   ],
   "source": [
    "sympy.solveset(equation, c)"
   ]
  },
  {
   "cell_type": "code",
   "execution_count": 25,
   "id": "b8645395-dec7-4ce5-a004-c83d06f39569",
   "metadata": {},
   "outputs": [
    {
     "data": {
      "text/latex": [
       "$\\displaystyle \\left\\{- \\sqrt{c + 18}, \\sqrt{c + 18}\\right\\}$"
      ],
      "text/plain": [
       "{-sqrt(c + 18), sqrt(c + 18)}"
      ]
     },
     "execution_count": 25,
     "metadata": {},
     "output_type": "execute_result"
    }
   ],
   "source": [
    "sympy.solveset(equation, b)"
   ]
  },
  {
   "cell_type": "markdown",
   "id": "813939c9-43eb-4150-b2f8-718e5d644201",
   "metadata": {},
   "source": [
    "We can also compare the coefficient of $x$ which gives this equation:"
   ]
  },
  {
   "cell_type": "code",
   "execution_count": 26,
   "id": "035da650-137b-421b-95d7-0f43b04c9960",
   "metadata": {},
   "outputs": [
    {
     "data": {
      "text/latex": [
       "$\\displaystyle 2 b = 8$"
      ],
      "text/plain": [
       "Eq(2*b, 8)"
      ]
     },
     "execution_count": 26,
     "metadata": {},
     "output_type": "execute_result"
    }
   ],
   "source": [
    "equation = sympy.Eq(lhs=2 * b, rhs=8)\n",
    "equation"
   ]
  },
  {
   "cell_type": "code",
   "execution_count": 27,
   "id": "17190d9f-14ed-4684-a333-74d1d40f9141",
   "metadata": {},
   "outputs": [
    {
     "data": {
      "text/latex": [
       "$\\displaystyle \\left\\{4\\right\\}$"
      ],
      "text/plain": [
       "{4}"
      ]
     },
     "execution_count": 27,
     "metadata": {},
     "output_type": "execute_result"
    }
   ],
   "source": [
    "sympy.solveset(equation, b)"
   ]
  },
  {
   "cell_type": "markdown",
   "id": "0145adcc-4595-43f4-b6f5-ee3c389dbaf6",
   "metadata": {},
   "source": [
    "Let us substitute this in to our completed square:"
   ]
  },
  {
   "cell_type": "code",
   "execution_count": 28,
   "id": "013c4fd1-db98-4276-8518-e3cecf84b8b9",
   "metadata": {},
   "outputs": [
    {
     "data": {
      "text/latex": [
       "$\\displaystyle c - \\left(x - 4\\right)^{2}$"
      ],
      "text/plain": [
       "c - (x - 4)**2"
      ]
     },
     "execution_count": 28,
     "metadata": {},
     "output_type": "execute_result"
    }
   ],
   "source": [
    "completed_square.subs({a: -1, b: 4})"
   ]
  },
  {
   "cell_type": "code",
   "execution_count": 29,
   "id": "264beed8-3a64-420a-9907-e6bdf93aca3d",
   "metadata": {},
   "outputs": [
    {
     "data": {
      "text/latex": [
       "$\\displaystyle c - x^{2} + 8 x - 16$"
      ],
      "text/plain": [
       "c - x**2 + 8*x - 16"
      ]
     },
     "execution_count": 29,
     "metadata": {},
     "output_type": "execute_result"
    }
   ],
   "source": [
    "sympy.expand(completed_square.subs({a: -1, b: 4}))"
   ]
  },
  {
   "cell_type": "markdown",
   "id": "cec4e42c-e642-4eeb-80e6-9140db5517b8",
   "metadata": {},
   "source": []
  },
  {
   "cell_type": "markdown",
   "id": "38e01e96-99f7-4ac1-9c68-0cf03925df44",
   "metadata": {},
   "source": [
    "This leaves us with one final equation:"
   ]
  },
  {
   "cell_type": "code",
   "execution_count": 35,
   "id": "4d84e1b9-905b-48a5-9c56-2f70c7981775",
   "metadata": {},
   "outputs": [
    {
     "data": {
      "text/latex": [
       "$\\displaystyle c - 16 = -18$"
      ],
      "text/plain": [
       "Eq(c - 16, -18)"
      ]
     },
     "execution_count": 35,
     "metadata": {},
     "output_type": "execute_result"
    }
   ],
   "source": [
    "equation = sympy.Eq(lhs=c - 16, rhs=-18)\n",
    "equation"
   ]
  },
  {
   "cell_type": "markdown",
   "id": "5012c44c-ab3f-42b7-bd72-6e6c296c71d6",
   "metadata": {},
   "source": [
    "Let us solve it for $c$:"
   ]
  },
  {
   "cell_type": "code",
   "execution_count": 36,
   "id": "cedd1338-6c04-4a59-819e-a6c5296b3af3",
   "metadata": {},
   "outputs": [
    {
     "data": {
      "text/latex": [
       "$\\displaystyle \\left\\{-2\\right\\}$"
      ],
      "text/plain": [
       "{-2}"
      ]
     },
     "execution_count": 36,
     "metadata": {},
     "output_type": "execute_result"
    }
   ],
   "source": [
    "sympy.solveset(equation, c)"
   ]
  },
  {
   "cell_type": "markdown",
   "id": "031a2d79-ae81-4159-bf9a-a689596dd83b",
   "metadata": {},
   "source": [
    "We can substitute this value back in to our completed square:"
   ]
  },
  {
   "cell_type": "code",
   "execution_count": 37,
   "id": "18b1df64-660b-4e5f-9bbf-1d4274dd8222",
   "metadata": {},
   "outputs": [
    {
     "data": {
      "text/latex": [
       "$\\displaystyle - x^{2} + 8 x - 18$"
      ],
      "text/plain": [
       "-x**2 + 8*x - 18"
      ]
     },
     "execution_count": 37,
     "metadata": {},
     "output_type": "execute_result"
    }
   ],
   "source": [
    "sympy.expand(completed_square.subs({a: -1, b: 4, c: -2}))"
   ]
  },
  {
   "cell_type": "markdown",
   "id": "94556af9-c7b6-4764-a2cb-ec9dd8bc975a",
   "metadata": {},
   "source": [
    "Thus our completed square is:"
   ]
  },
  {
   "cell_type": "code",
   "execution_count": 38,
   "id": "97fc402f-0b66-4a42-a3e4-eff60b88ee4d",
   "metadata": {},
   "outputs": [
    {
     "data": {
      "text/latex": [
       "$\\displaystyle - \\left(x - 4\\right)^{2} - 2$"
      ],
      "text/plain": [
       "-(x - 4)**2 - 2"
      ]
     },
     "execution_count": 38,
     "metadata": {},
     "output_type": "execute_result"
    }
   ],
   "source": [
    "completed_square.subs({a: -1, b: 4, c: -2})"
   ]
  },
  {
   "cell_type": "markdown",
   "id": "dda3cce9-d7f0-46d4-a30c-f4f602951ed1",
   "metadata": {},
   "source": [
    "This is an inverted parabola so indeed, the maximum is when the square is 0 which occurs when $x=4$ and $f(4)=-2$ as required."
   ]
  },
  {
   "cell_type": "code",
   "execution_count": null,
   "id": "71061ff9-ca2e-4f7e-968b-547fa52b9966",
   "metadata": {},
   "outputs": [],
   "source": []
  }
 ],
 "metadata": {
  "kernelspec": {
   "display_name": "Python 3 (ipykernel)",
   "language": "python",
   "name": "python3"
  },
  "language_info": {
   "codemirror_mode": {
    "name": "ipython",
    "version": 3
   },
   "file_extension": ".py",
   "mimetype": "text/x-python",
   "name": "python",
   "nbconvert_exporter": "python",
   "pygments_lexer": "ipython3",
   "version": "3.13.0"
  }
 },
 "nbformat": 4,
 "nbformat_minor": 5
}
