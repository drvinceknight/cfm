{
 "cells": [
  {
   "cell_type": "code",
   "execution_count": 1,
   "id": "e652dfb8-4b75-4aba-a13e-b9427b2b88e2",
   "metadata": {},
   "outputs": [
    {
     "ename": "ZeroDivisionError",
     "evalue": "division by zero",
     "output_type": "error",
     "traceback": [
      "\u001b[0;31m---------------------------------------------------------------------------\u001b[0m",
      "\u001b[0;31mZeroDivisionError\u001b[0m                         Traceback (most recent call last)",
      "Cell \u001b[0;32mIn[1], line 1\u001b[0m\n\u001b[0;32m----> 1\u001b[0m \u001b[38;5;241;43m1\u001b[39;49m\u001b[43m \u001b[49m\u001b[38;5;241;43m/\u001b[39;49m\u001b[43m \u001b[49m\u001b[38;5;241;43m0\u001b[39;49m\n",
      "\u001b[0;31mZeroDivisionError\u001b[0m: division by zero"
     ]
    }
   ],
   "source": [
    "1 / 0"
   ]
  },
  {
   "cell_type": "code",
   "execution_count": 2,
   "id": "02d112a8-da58-477b-9db6-3abe131c81dd",
   "metadata": {},
   "outputs": [
    {
     "data": {
      "text/latex": [
       "$\\displaystyle \\tilde{\\infty}$"
      ],
      "text/plain": [
       "zoo"
      ]
     },
     "execution_count": 2,
     "metadata": {},
     "output_type": "execute_result"
    }
   ],
   "source": [
    "import sympy as sym\n",
    "sym.S(1) / 0"
   ]
  },
  {
   "cell_type": "markdown",
   "id": "6b4cea88-d70e-4bab-a4b3-e6326da10b40",
   "metadata": {},
   "source": [
    "$$\\lim_{x\\to 0}\\frac{\\sin{x}}{x}$$"
   ]
  },
  {
   "cell_type": "code",
   "execution_count": 7,
   "id": "673392c6-5d15-4b7b-85d9-9ef3e40ef7dc",
   "metadata": {},
   "outputs": [
    {
     "data": {
      "text/latex": [
       "$\\displaystyle 0$"
      ],
      "text/plain": [
       "0"
      ]
     },
     "execution_count": 7,
     "metadata": {},
     "output_type": "execute_result"
    }
   ],
   "source": [
    "x = sym.Symbol(\"x\")\n",
    "sym.limit(sym.sin(x), x, 0)"
   ]
  },
  {
   "cell_type": "markdown",
   "id": "150b6430-1287-4c9e-89f5-1ea3e2fc3caf",
   "metadata": {},
   "source": [
    "Coursework like exercise from the [handout](https://vknight.org/cfm/assets/handouts/autumn/03-calculus/main.pdf)."
   ]
  },
  {
   "cell_type": "markdown",
   "id": "8cbb2292-c575-4c61-bde5-9fd8fd234f14",
   "metadata": {},
   "source": [
    "let us define the second derivative:"
   ]
  },
  {
   "cell_type": "code",
   "execution_count": 46,
   "id": "0ddf57eb-d0ba-475b-a9ff-2acff4899d37",
   "metadata": {},
   "outputs": [
    {
     "data": {
      "text/latex": [
       "$\\displaystyle 4 x + \\cos{\\left(x \\right)}$"
      ],
      "text/plain": [
       "4*x + cos(x)"
      ]
     },
     "execution_count": 46,
     "metadata": {},
     "output_type": "execute_result"
    }
   ],
   "source": [
    "second_derivative = 4 * x + sym.cos(x)\n",
    "second_derivative"
   ]
  },
  {
   "cell_type": "markdown",
   "id": "d34919e6-2b64-4ac0-a003-673402002a20",
   "metadata": {},
   "source": [
    "Now, let us integrate this second derivate and add a constant of integration:"
   ]
  },
  {
   "cell_type": "code",
   "execution_count": 34,
   "id": "0c6cb218-ead5-46c6-96b9-26a846554609",
   "metadata": {},
   "outputs": [
    {
     "data": {
      "text/latex": [
       "$\\displaystyle c_{1} + 2 x^{2} + \\sin{\\left(x \\right)}$"
      ],
      "text/plain": [
       "c1 + 2*x**2 + sin(x)"
      ]
     },
     "execution_count": 34,
     "metadata": {},
     "output_type": "execute_result"
    }
   ],
   "source": [
    "c1 = sym.Symbol(\"c1\")\n",
    "derivative = sym.integrate(second_derivative, x) + c1\n",
    "derivative"
   ]
  },
  {
   "cell_type": "markdown",
   "id": "6825d10e-c947-4111-9081-1b4cfe4445ca",
   "metadata": {},
   "source": [
    "Let me check and confirm this gives the correct second derivative:"
   ]
  },
  {
   "cell_type": "code",
   "execution_count": 47,
   "id": "dcf72f81-afd4-42df-8909-f9ac758231fe",
   "metadata": {},
   "outputs": [
    {
     "data": {
      "text/latex": [
       "$\\displaystyle 4 x + \\cos{\\left(x \\right)}$"
      ],
      "text/plain": [
       "4*x + cos(x)"
      ]
     },
     "execution_count": 47,
     "metadata": {},
     "output_type": "execute_result"
    }
   ],
   "source": [
    "sym.diff(derivative, x)"
   ]
  },
  {
   "cell_type": "markdown",
   "id": "dbda23a8-61d1-4f98-b448-58ed3c30a7a8",
   "metadata": {},
   "source": [
    "Now let us define the equation for $f'(0) = 0$:"
   ]
  },
  {
   "cell_type": "code",
   "execution_count": 48,
   "id": "5265017c-c6d9-46fc-a2af-7a0689c524e1",
   "metadata": {},
   "outputs": [
    {
     "data": {
      "text/latex": [
       "$\\displaystyle c_{1} = 0$"
      ],
      "text/plain": [
       "Eq(c1, 0)"
      ]
     },
     "execution_count": 48,
     "metadata": {},
     "output_type": "execute_result"
    }
   ],
   "source": [
    "equation = sym.Eq(lhs=derivative.subs({x: 0}), rhs=0)\n",
    "equation"
   ]
  },
  {
   "cell_type": "markdown",
   "id": "33d54dcb-81d3-47d2-bb6e-bb1af5ced4c4",
   "metadata": {},
   "source": [
    "This gives a single value for $c_1$:"
   ]
  },
  {
   "cell_type": "code",
   "execution_count": 49,
   "id": "c1669ea8-e401-4142-96ef-36c1969fd615",
   "metadata": {},
   "outputs": [
    {
     "data": {
      "text/latex": [
       "$\\displaystyle \\left\\{0\\right\\}$"
      ],
      "text/plain": [
       "{0}"
      ]
     },
     "execution_count": 49,
     "metadata": {},
     "output_type": "execute_result"
    }
   ],
   "source": [
    "sym.solveset(equation, c1)"
   ]
  },
  {
   "cell_type": "markdown",
   "id": "9714f538-b5aa-40a7-b679-69173834d2ec",
   "metadata": {},
   "source": [
    "Finally, let us compute the value of $f$ by computing the indefinite integral of $f'(x)_{c_1 = 0}$."
   ]
  },
  {
   "cell_type": "code",
   "execution_count": 50,
   "id": "f1c00714-f83d-4e99-bd5e-ab1d259de3a1",
   "metadata": {},
   "outputs": [
    {
     "data": {
      "text/latex": [
       "$\\displaystyle \\frac{2 x^{3}}{3} - \\cos{\\left(x \\right)}$"
      ],
      "text/plain": [
       "2*x**3/3 - cos(x)"
      ]
     },
     "execution_count": 50,
     "metadata": {},
     "output_type": "execute_result"
    }
   ],
   "source": [
    "expression = sym.integrate(derivative.subs({c1: 0}), x)\n",
    "expression"
   ]
  },
  {
   "cell_type": "markdown",
   "id": "c6861656-d353-4edf-bbdb-1a13b8baa52e",
   "metadata": {},
   "source": [
    "Let me confirm this gives the correct second derivative:"
   ]
  },
  {
   "cell_type": "code",
   "execution_count": 51,
   "id": "4e9c9ee8-e8f2-4e4c-bb75-1ab7e32ddd36",
   "metadata": {},
   "outputs": [
    {
     "data": {
      "text/latex": [
       "$\\displaystyle 4 x + \\cos{\\left(x \\right)}$"
      ],
      "text/plain": [
       "4*x + cos(x)"
      ]
     },
     "execution_count": 51,
     "metadata": {},
     "output_type": "execute_result"
    }
   ],
   "source": [
    "sym.diff(expression, x, 2)"
   ]
  },
  {
   "cell_type": "markdown",
   "id": "a593d0e4-b5f5-40b7-bd48-92742de54aae",
   "metadata": {},
   "source": [
    "Using all of the above let me now compute the required definite integral:"
   ]
  },
  {
   "cell_type": "code",
   "execution_count": 55,
   "id": "0dc77689-1f68-4fc3-a0d9-6514d6ce5f22",
   "metadata": {},
   "outputs": [
    {
     "data": {
      "text/latex": [
       "$\\displaystyle 5 \\pi c_{1} + \\frac{625 \\pi^{4}}{6}$"
      ],
      "text/plain": [
       "5*pi*c1 + 625*pi**4/6"
      ]
     },
     "execution_count": 55,
     "metadata": {},
     "output_type": "execute_result"
    }
   ],
   "source": [
    "sym.integrate(expression + c1, (x, 0, 5 * sym.pi))"
   ]
  }
 ],
 "metadata": {
  "kernelspec": {
   "display_name": "Python 3 (ipykernel)",
   "language": "python",
   "name": "python3"
  },
  "language_info": {
   "codemirror_mode": {
    "name": "ipython",
    "version": 3
   },
   "file_extension": ".py",
   "mimetype": "text/x-python",
   "name": "python",
   "nbconvert_exporter": "python",
   "pygments_lexer": "ipython3",
   "version": "3.13.0"
  }
 },
 "nbformat": 4,
 "nbformat_minor": 5
}
