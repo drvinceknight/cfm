{
 "cells": [
  {
   "cell_type": "markdown",
   "id": "4bb9c4ea-eee7-48f5-9a74-e85e818354df",
   "metadata": {},
   "source": [
    "Let us define the expression for $f(x)$:"
   ]
  },
  {
   "cell_type": "code",
   "execution_count": 1,
   "id": "7ce9bac2-ff16-457b-ab84-c69784dd6662",
   "metadata": {},
   "outputs": [],
   "source": [
    "import sympy as sym\n",
    "x = sym.Symbol(\"x\")\n",
    "a = sym.Symbol(\"a\")\n",
    "b = sym.Symbol(\"b\")\n",
    "expression = (24 * x * (a - 4 * x) + 2 * (a - 8 * x) * (b - 4 * x)) / ((b - 4 * x) ** 4)"
   ]
  },
  {
   "cell_type": "code",
   "execution_count": 2,
   "id": "de9e1ee1-9431-49fe-9767-6ad80bbe59af",
   "metadata": {},
   "outputs": [
    {
     "data": {
      "text/latex": [
       "$\\displaystyle \\frac{24 x \\left(a - 4 x\\right) + \\left(2 a - 16 x\\right) \\left(b - 4 x\\right)}{\\left(b - 4 x\\right)^{4}}$"
      ],
      "text/plain": [
       "(24*x*(a - 4*x) + (2*a - 16*x)*(b - 4*x))/(b - 4*x)**4"
      ]
     },
     "execution_count": 2,
     "metadata": {},
     "output_type": "execute_result"
    }
   ],
   "source": [
    "expression"
   ]
  },
  {
   "cell_type": "code",
   "execution_count": 3,
   "id": "85f54ae8-a915-465d-8f42-74b4d6d0730e",
   "metadata": {},
   "outputs": [
    {
     "data": {
      "text/latex": [
       "$\\displaystyle \\frac{16 a - 16 b - 64 x}{\\left(b - 4 x\\right)^{4}} + \\frac{16 \\left(24 x \\left(a - 4 x\\right) + \\left(2 a - 16 x\\right) \\left(b - 4 x\\right)\\right)}{\\left(b - 4 x\\right)^{5}}$"
      ],
      "text/plain": [
       "(16*a - 16*b - 64*x)/(b - 4*x)**4 + 16*(24*x*(a - 4*x) + (2*a - 16*x)*(b - 4*x))/(b - 4*x)**5"
      ]
     },
     "execution_count": 3,
     "metadata": {},
     "output_type": "execute_result"
    }
   ],
   "source": [
    "first_derivative = sym.diff(expression, x)\n",
    "first_derivative"
   ]
  },
  {
   "cell_type": "code",
   "execution_count": 4,
   "id": "ca52a6a3-272f-43cd-aaa5-ab2c9a297b25",
   "metadata": {},
   "outputs": [
    {
     "data": {
      "text/latex": [
       "$\\displaystyle \\frac{32 a}{b^{4}} + \\frac{16 a - 16 b}{b^{4}} = 0$"
      ],
      "text/plain": [
       "Eq(32*a/b**4 + (16*a - 16*b)/b**4, 0)"
      ]
     },
     "execution_count": 4,
     "metadata": {},
     "output_type": "execute_result"
    }
   ],
   "source": [
    "first_equation = sym.Eq(lhs=first_derivative.subs({x: 0}), rhs=0)\n",
    "first_equation"
   ]
  },
  {
   "cell_type": "markdown",
   "id": "08fc850d-e63a-40ca-b099-ca2723ce748e",
   "metadata": {},
   "source": [
    "Let us solve this equation:"
   ]
  },
  {
   "cell_type": "code",
   "execution_count": 5,
   "id": "b12f060e-d4f3-428f-924b-1e90aeea6a85",
   "metadata": {},
   "outputs": [
    {
     "data": {
      "text/latex": [
       "$\\displaystyle \\left\\{\\frac{b}{3}\\right\\}$"
      ],
      "text/plain": [
       "{b/3}"
      ]
     },
     "execution_count": 5,
     "metadata": {},
     "output_type": "execute_result"
    }
   ],
   "source": [
    "sym.solveset(first_equation, a)"
   ]
  },
  {
   "cell_type": "code",
   "execution_count": 6,
   "id": "896f9d01-090b-4650-9017-5db9dd166290",
   "metadata": {},
   "outputs": [
    {
     "data": {
      "text/latex": [
       "$\\displaystyle \\left\\{3 a\\right\\} \\setminus \\left\\{0\\right\\}$"
      ],
      "text/plain": [
       "Complement({3*a}, {0})"
      ]
     },
     "execution_count": 6,
     "metadata": {},
     "output_type": "execute_result"
    }
   ],
   "source": [
    "sym.solveset(first_equation, b)"
   ]
  },
  {
   "cell_type": "markdown",
   "id": "bda17868-9cb0-4c5e-85a3-18e99fad32b3",
   "metadata": {},
   "source": [
    "Let us create the second equation (for the second derivative $\\frac{d^2f}{dx^2}$):"
   ]
  },
  {
   "cell_type": "code",
   "execution_count": 7,
   "id": "9a5b1e0e-d3d9-440f-9503-21e0a6d8e642",
   "metadata": {},
   "outputs": [
    {
     "data": {
      "text/latex": [
       "$\\displaystyle \\frac{64 \\left(-1 - \\frac{8 \\left(- a + b + 4 x\\right)}{b - 4 x} + \\frac{10 \\left(12 x \\left(a - 4 x\\right) + \\left(a - 8 x\\right) \\left(b - 4 x\\right)\\right)}{\\left(b - 4 x\\right)^{2}}\\right)}{\\left(b - 4 x\\right)^{4}}$"
      ],
      "text/plain": [
       "64*(-1 - 8*(-a + b + 4*x)/(b - 4*x) + 10*(12*x*(a - 4*x) + (a - 8*x)*(b - 4*x))/(b - 4*x)**2)/(b - 4*x)**4"
      ]
     },
     "execution_count": 7,
     "metadata": {},
     "output_type": "execute_result"
    }
   ],
   "source": [
    "second_derivative = sym.diff(expression, x, 2)\n",
    "second_derivative"
   ]
  },
  {
   "cell_type": "code",
   "execution_count": 8,
   "id": "94540307-b679-4085-9870-1cc8c2cf557f",
   "metadata": {},
   "outputs": [
    {
     "data": {
      "text/latex": [
       "$\\displaystyle \\frac{576 \\left(2 a - b\\right)}{b^{5}} = -1$"
      ],
      "text/plain": [
       "Eq(576*(2*a - b)/b**5, -1)"
      ]
     },
     "execution_count": 8,
     "metadata": {},
     "output_type": "execute_result"
    }
   ],
   "source": [
    "second_equation = sym.Eq(lhs=second_derivative.subs({x: 0}), rhs=-1)\n",
    "sym.factor(second_equation)"
   ]
  },
  {
   "cell_type": "markdown",
   "id": "678669ec-d2ab-4be6-a1b3-4196b9add052",
   "metadata": {},
   "source": [
    "We can in fact substitute the known value for $a$ in to this equation. From the first equation we know that $a= b / 3$:"
   ]
  },
  {
   "cell_type": "code",
   "execution_count": 9,
   "id": "76f91036-471d-46d4-b266-5a93d6ba36f4",
   "metadata": {},
   "outputs": [
    {
     "data": {
      "text/latex": [
       "$\\displaystyle - \\frac{192}{b^{4}} = -1$"
      ],
      "text/plain": [
       "Eq(-192/b**4, -1)"
      ]
     },
     "execution_count": 9,
     "metadata": {},
     "output_type": "execute_result"
    }
   ],
   "source": [
    "second_equation.subs({a: b / 3})"
   ]
  },
  {
   "cell_type": "code",
   "execution_count": 10,
   "id": "ffacb1a5-0a1c-4d56-9540-39b53f4e02d3",
   "metadata": {},
   "outputs": [
    {
     "data": {
      "text/latex": [
       "$\\displaystyle \\left\\{- 2 \\sqrt{2} \\sqrt[4]{3}, 2 \\sqrt{2} \\sqrt[4]{3}, - 2 \\sqrt{2} \\sqrt[4]{3} i, 2 \\sqrt{2} \\sqrt[4]{3} i\\right\\}$"
      ],
      "text/plain": [
       "{-2*sqrt(2)*3**(1/4), 2*sqrt(2)*3**(1/4), -2*sqrt(2)*3**(1/4)*I, 2*sqrt(2)*3**(1/4)*I}"
      ]
     },
     "execution_count": 10,
     "metadata": {},
     "output_type": "execute_result"
    }
   ],
   "source": [
    "sym.solveset(second_equation.subs({a: b / 3}), b)"
   ]
  },
  {
   "cell_type": "markdown",
   "id": "a3a58a42-08e9-4fc3-9a88-b51e02db6ca2",
   "metadata": {},
   "source": [
    "--- \n",
    "\n",
    "Someone asked how to write the $n$th root:\n",
    "\n",
    "Here is a number that when raised to the power 8 gives 2:\n",
    "\n",
    "$$\\sqrt[8]{2}$$\n",
    "\n",
    "This is written by typing:\n",
    "\n",
    "```\n",
    "$\\sqrt[8]{2}$\n",
    "```\n",
    "\n",
    "---"
   ]
  },
  {
   "cell_type": "markdown",
   "id": "0dd195e0-6596-4c45-81be-90783b56e98b",
   "metadata": {},
   "source": [
    "As $b>0$ the value of $b$ is:\n",
    "\n",
    "$$b = 2\\sqrt{2}\\sqrt[4]{3}$$\n",
    "\n",
    "we know from the first equation that: \n",
    "\n",
    "$$a = \\frac{b}{3}$$\n",
    "\n",
    "thus:\n",
    "\n",
    "$$a = \\frac{2\\sqrt{2}\\sqrt[4]{3}}{3}$$"
   ]
  },
  {
   "cell_type": "code",
   "execution_count": 11,
   "id": "e7418b7a-6979-4a77-8a59-114798e46fda",
   "metadata": {},
   "outputs": [
    {
     "data": {
      "text/latex": [
       "$\\displaystyle \\frac{2 \\sqrt{2} \\sqrt[4]{3}}{3}$"
      ],
      "text/plain": [
       "2*sqrt(2)*3**(1/4)/3"
      ]
     },
     "execution_count": 11,
     "metadata": {},
     "output_type": "execute_result"
    }
   ],
   "source": [
    "particular_a = 2 * sym.sqrt(2) * sym.root(3, 4) / 3\n",
    "particular_b = 3 * particular_a\n",
    "particular_a"
   ]
  },
  {
   "cell_type": "code",
   "execution_count": 12,
   "id": "9fb2e3b9-0500-4293-9695-9fac574f32b4",
   "metadata": {},
   "outputs": [
    {
     "data": {
      "text/latex": [
       "$\\displaystyle 2 \\sqrt{2} \\sqrt[4]{3}$"
      ],
      "text/plain": [
       "2*sqrt(2)*3**(1/4)"
      ]
     },
     "execution_count": 12,
     "metadata": {},
     "output_type": "execute_result"
    }
   ],
   "source": [
    "particular_b"
   ]
  },
  {
   "cell_type": "markdown",
   "id": "2080a805-0478-4064-866b-82e6780aed05",
   "metadata": {},
   "source": [
    "Now let us create the particular expression for these values of $a$ and $b$:"
   ]
  },
  {
   "cell_type": "code",
   "execution_count": 15,
   "id": "65bac9bf-e0a8-4495-addc-8f9cad9b77f6",
   "metadata": {},
   "outputs": [
    {
     "data": {
      "text/latex": [
       "$\\displaystyle \\frac{24 x \\left(- 4 x + \\frac{2 \\sqrt{2} \\sqrt[4]{3}}{3}\\right) + \\left(- 16 x + \\frac{4 \\sqrt{2} \\sqrt[4]{3}}{3}\\right) \\left(- 4 x + 2 \\sqrt{2} \\sqrt[4]{3}\\right)}{\\left(- 4 x + 2 \\sqrt{2} \\sqrt[4]{3}\\right)^{4}}$"
      ],
      "text/plain": [
       "(24*x*(-4*x + 2*sqrt(2)*3**(1/4)/3) + (-16*x + 4*sqrt(2)*3**(1/4)/3)*(-4*x + 2*sqrt(2)*3**(1/4)))/(-4*x + 2*sqrt(2)*3**(1/4))**4"
      ]
     },
     "execution_count": 15,
     "metadata": {},
     "output_type": "execute_result"
    }
   ],
   "source": [
    "particular_expression = expression.subs({a: particular_a, b: particular_b})\n",
    "particular_expression"
   ]
  },
  {
   "cell_type": "markdown",
   "id": "14fc940f-e6fb-461c-b6e4-46eefabaf4f1",
   "metadata": {},
   "source": [
    "b"
   ]
  },
  {
   "cell_type": "markdown",
   "id": "90dc5ade-984d-4edd-b76d-8bced8d7f1ea",
   "metadata": {},
   "source": [
    "Let us compute $\\lim_{x\\to 0}f(x)$"
   ]
  },
  {
   "cell_type": "code",
   "execution_count": 17,
   "id": "cfb4f372-6828-4be6-bf50-4f69f64da0a6",
   "metadata": {},
   "outputs": [
    {
     "data": {
      "text/latex": [
       "$\\displaystyle \\frac{\\sqrt{3}}{36}$"
      ],
      "text/plain": [
       "sqrt(3)/36"
      ]
     },
     "execution_count": 17,
     "metadata": {},
     "output_type": "execute_result"
    }
   ],
   "source": [
    "sym.limit(particular_expression, x, 0)"
   ]
  },
  {
   "cell_type": "markdown",
   "id": "7f7e54c3-e344-42f0-a6ff-340aab0e8abb",
   "metadata": {},
   "source": [
    "Let us compute $\\lim_{x\\to \\infty}f(x)$"
   ]
  },
  {
   "cell_type": "code",
   "execution_count": 18,
   "id": "4b2de644-14ca-4302-8a5b-e4d5c5e90009",
   "metadata": {},
   "outputs": [
    {
     "data": {
      "text/latex": [
       "$\\displaystyle 0$"
      ],
      "text/plain": [
       "0"
      ]
     },
     "execution_count": 18,
     "metadata": {},
     "output_type": "execute_result"
    }
   ],
   "source": [
    "sym.limit(particular_expression, x, sym.oo)"
   ]
  },
  {
   "cell_type": "markdown",
   "id": "8c08e24b-8fa4-4c61-bcd2-47fc3d96765c",
   "metadata": {},
   "source": [
    "Let us compute $\\int f(x) dx$:"
   ]
  },
  {
   "cell_type": "code",
   "execution_count": 21,
   "id": "98ac77ea-c5e7-476f-8580-c8d47ee92c3e",
   "metadata": {},
   "outputs": [
    {
     "data": {
      "text/latex": [
       "$\\displaystyle \\frac{x \\left(6 x - \\sqrt{2} \\sqrt[4]{3}\\right)}{12 \\left(4 x^{3} - 6 \\sqrt{2} \\sqrt[4]{3} x^{2} + 6 \\sqrt{3} x - \\sqrt{2} \\cdot 3^{\\frac{3}{4}}\\right)}$"
      ],
      "text/plain": [
       "x*(6*x - sqrt(2)*3**(1/4))/(12*(4*x**3 - 6*sqrt(2)*3**(1/4)*x**2 + 6*sqrt(3)*x - sqrt(2)*3**(3/4)))"
      ]
     },
     "execution_count": 21,
     "metadata": {},
     "output_type": "execute_result"
    }
   ],
   "source": [
    "sym.factor(sym.integrate(particular_expression, x))"
   ]
  },
  {
   "cell_type": "markdown",
   "id": "8dd31f4d-748a-48d3-a2ee-3922922a2f5c",
   "metadata": {},
   "source": [
    "Let us compute $\\int_{5}^{20}f(x)dx$"
   ]
  },
  {
   "cell_type": "code",
   "execution_count": 24,
   "id": "8dc4a1e7-f59c-4189-a55d-841f07d3603b",
   "metadata": {},
   "outputs": [
    {
     "data": {
      "text/latex": [
       "$\\displaystyle - \\frac{5 \\left(- 5000 \\sqrt{2} \\sqrt[4]{3} - 1200 \\sqrt{3} + 75 \\sqrt{2} \\cdot 3^{\\frac{3}{4}} + 119997\\right)}{2 \\left(-32000 - 120 \\sqrt{3} + \\sqrt{2} \\cdot 3^{\\frac{3}{4}} + 2400 \\sqrt{2} \\sqrt[4]{3}\\right) \\left(-500 - 30 \\sqrt{3} + \\sqrt{2} \\cdot 3^{\\frac{3}{4}} + 150 \\sqrt{2} \\sqrt[4]{3}\\right)}$"
      ],
      "text/plain": [
       "-5*(-5000*sqrt(2)*3**(1/4) - 1200*sqrt(3) + 75*sqrt(2)*3**(3/4) + 119997)/(2*(-32000 - 120*sqrt(3) + sqrt(2)*3**(3/4) + 2400*sqrt(2)*3**(1/4))*(-500 - 30*sqrt(3) + sqrt(2)*3**(3/4) + 150*sqrt(2)*3**(1/4)))"
      ]
     },
     "execution_count": 24,
     "metadata": {},
     "output_type": "execute_result"
    }
   ],
   "source": [
    "sym.factor(sym.integrate(particular_expression, (x, 5, 20)))"
   ]
  },
  {
   "cell_type": "code",
   "execution_count": null,
   "id": "d7990398-0aed-43af-99de-d99a938a5317",
   "metadata": {},
   "outputs": [],
   "source": []
  }
 ],
 "metadata": {
  "kernelspec": {
   "display_name": "Python 3 (ipykernel)",
   "language": "python",
   "name": "python3"
  },
  "language_info": {
   "codemirror_mode": {
    "name": "ipython",
    "version": 3
   },
   "file_extension": ".py",
   "mimetype": "text/x-python",
   "name": "python",
   "nbconvert_exporter": "python",
   "pygments_lexer": "ipython3",
   "version": "3.13.0"
  }
 },
 "nbformat": 4,
 "nbformat_minor": 5
}
