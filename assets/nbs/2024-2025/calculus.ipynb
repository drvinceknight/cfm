{
 "cells": [
  {
   "cell_type": "markdown",
   "id": "681214e8-bd98-4dfc-bfac-9e70096bfa83",
   "metadata": {},
   "source": [
    "# Calculus\n",
    "\n",
    "Consider the function $f(x)= x ^ 3 - ax ^ 2 + bx - 5$\n",
    "\n",
    "Given that $\\frac{df}{dx}|_{x=0}=0$, $\\frac{d^2f}{dx^2}|_{x=0}=5$ find the values of $a$ and $b$.\n",
    "\n",
    "For the specific values of $a$ and $b$ find:\n",
    "\n",
    "1. $\\lim_{x\\to 0}f(x)$;\n",
    "2. $\\lim_{x\\to \\infty}f(x)$;\n",
    "3. $\\int f(x) dx$;\n",
    "4. $\\int_{5}^{\\pi} f(x) dx$."
   ]
  },
  {
   "cell_type": "markdown",
   "id": "8c170220-95f4-48b0-bdc8-c07a63bca9e2",
   "metadata": {},
   "source": [
    "The steps to solving this are:\n",
    "\n",
    "1. Obtain the system of equations for $a$ and $b$ and solve them.\n",
    "2. Calculate the limits and integrals."
   ]
  },
  {
   "cell_type": "markdown",
   "id": "f9a0eb2e-d3fe-470b-a118-dcc4475f57be",
   "metadata": {},
   "source": [
    "Let us first define our expression:"
   ]
  },
  {
   "cell_type": "code",
   "execution_count": 1,
   "id": "1e20a571-df4d-4515-9afa-1b7e5760be10",
   "metadata": {},
   "outputs": [
    {
     "data": {
      "text/latex": [
       "$\\displaystyle - a x^{2} + b x + x^{3} - 5$"
      ],
      "text/plain": [
       "-a*x**2 + b*x + x**3 - 5"
      ]
     },
     "execution_count": 1,
     "metadata": {},
     "output_type": "execute_result"
    }
   ],
   "source": [
    "import sympy as sym \n",
    "x = sym.Symbol(\"x\")\n",
    "a = sym.Symbol(\"a\")\n",
    "b = sym.Symbol(\"b\")\n",
    "expression = x ** 3 - a * x ** 2 + b * x - 5\n",
    "expression"
   ]
  },
  {
   "cell_type": "code",
   "execution_count": 2,
   "id": "f0f9a90c-ef6a-47c3-9e3c-60265cb5c2e5",
   "metadata": {},
   "outputs": [
    {
     "data": {
      "text/latex": [
       "$\\displaystyle - 2 a x + b + 3 x^{2}$"
      ],
      "text/plain": [
       "-2*a*x + b + 3*x**2"
      ]
     },
     "execution_count": 2,
     "metadata": {},
     "output_type": "execute_result"
    }
   ],
   "source": [
    "first_derivative = sym.diff(expression, x)\n",
    "first_derivative"
   ]
  },
  {
   "cell_type": "code",
   "execution_count": 3,
   "id": "3da9664c-02ef-46c6-b452-0293ac023e64",
   "metadata": {},
   "outputs": [
    {
     "data": {
      "text/latex": [
       "$\\displaystyle b = 0$"
      ],
      "text/plain": [
       "Eq(b, 0)"
      ]
     },
     "execution_count": 3,
     "metadata": {},
     "output_type": "execute_result"
    }
   ],
   "source": [
    "first_equation = sym.Eq(lhs=first_derivative.subs({x: 0}), rhs=0)\n",
    "first_equation"
   ]
  },
  {
   "cell_type": "markdown",
   "id": "b9295df9-ab0d-4b2b-a03d-3d532c937b17",
   "metadata": {},
   "source": [
    "The only value of $b$ that gives this result is $b=0$."
   ]
  },
  {
   "cell_type": "markdown",
   "id": "fed19b15-a1c6-4701-996e-9c2b28e5a62b",
   "metadata": {},
   "source": [
    "Let us now right down the second equation:"
   ]
  },
  {
   "cell_type": "code",
   "execution_count": 8,
   "id": "c87410f5-b1fd-43cc-b592-35426a31dd1e",
   "metadata": {},
   "outputs": [
    {
     "data": {
      "text/latex": [
       "$\\displaystyle 2 \\left(- a + 3 x\\right)$"
      ],
      "text/plain": [
       "2*(-a + 3*x)"
      ]
     },
     "execution_count": 8,
     "metadata": {},
     "output_type": "execute_result"
    }
   ],
   "source": [
    "second_derivate = sym.diff(expression, x, 2)\n",
    "second_derivate"
   ]
  },
  {
   "cell_type": "code",
   "execution_count": 9,
   "id": "216b2f84-a17e-4ed8-bba0-5cf562d3f2df",
   "metadata": {},
   "outputs": [
    {
     "data": {
      "text/latex": [
       "$\\displaystyle - 2 a = 5$"
      ],
      "text/plain": [
       "Eq(-2*a, 5)"
      ]
     },
     "execution_count": 9,
     "metadata": {},
     "output_type": "execute_result"
    }
   ],
   "source": [
    "second_equation = sym.Eq(lhs=second_derivate.subs({x: 0}), rhs=5)\n",
    "second_equation"
   ]
  },
  {
   "cell_type": "markdown",
   "id": "82364147-d999-41f4-b9c7-893760c6cb28",
   "metadata": {},
   "source": [
    "Let us solve this for $a$:"
   ]
  },
  {
   "cell_type": "code",
   "execution_count": 10,
   "id": "5a9e9ebc-aba5-4a0a-82f4-c1c26b482c5c",
   "metadata": {},
   "outputs": [
    {
     "data": {
      "text/latex": [
       "$\\displaystyle \\left\\{- \\frac{5}{2}\\right\\}$"
      ],
      "text/plain": [
       "{-5/2}"
      ]
     },
     "execution_count": 10,
     "metadata": {},
     "output_type": "execute_result"
    }
   ],
   "source": [
    "sym.solveset(second_equation, a)"
   ]
  },
  {
   "cell_type": "markdown",
   "id": "ea2c9cd9-ba77-40eb-b1f3-bda1b734ed53",
   "metadata": {},
   "source": [
    "To be able to answer the rest of this question we will now substitute both those values in to our expression for $f(x)$:"
   ]
  },
  {
   "cell_type": "code",
   "execution_count": 14,
   "id": "64c70138-17f6-40e4-9d7d-009ba711b6f5",
   "metadata": {},
   "outputs": [
    {
     "data": {
      "text/latex": [
       "$\\displaystyle x^{3} + \\frac{5 x^{2}}{2} - 5$"
      ],
      "text/plain": [
       "x**3 + 5*x**2/2 - 5"
      ]
     },
     "execution_count": 14,
     "metadata": {},
     "output_type": "execute_result"
    }
   ],
   "source": [
    "particular_expression = expression.subs({a: - sym.S(5) / 2, b: 0})\n",
    "particular_expression"
   ]
  },
  {
   "cell_type": "markdown",
   "id": "2ad9861c-300b-4b2f-81e5-c9c48096755a",
   "metadata": {},
   "source": [
    "Let us confirm the values of the derivative:"
   ]
  },
  {
   "cell_type": "code",
   "execution_count": 16,
   "id": "34de8323-2f6f-44bb-b1a6-4fb559985d38",
   "metadata": {},
   "outputs": [
    {
     "data": {
      "text/latex": [
       "$\\displaystyle 0$"
      ],
      "text/plain": [
       "0"
      ]
     },
     "execution_count": 16,
     "metadata": {},
     "output_type": "execute_result"
    }
   ],
   "source": [
    "sym.diff(particular_expression, x).subs({x: 0})"
   ]
  },
  {
   "cell_type": "code",
   "execution_count": 17,
   "id": "2095f14f-d275-4010-9411-376c035389b5",
   "metadata": {},
   "outputs": [
    {
     "data": {
      "text/latex": [
       "$\\displaystyle 5$"
      ],
      "text/plain": [
       "5"
      ]
     },
     "execution_count": 17,
     "metadata": {},
     "output_type": "execute_result"
    }
   ],
   "source": [
    "sym.diff(particular_expression, x, 2).subs({x: 0})"
   ]
  },
  {
   "cell_type": "markdown",
   "id": "f6049930-63f3-477c-bfb8-06e3c00da886",
   "metadata": {},
   "source": [
    "Now let us compute the required limits and derivatives:"
   ]
  },
  {
   "cell_type": "code",
   "execution_count": 19,
   "id": "4a1be601-9f8e-4acb-abdc-45998bbf6f08",
   "metadata": {},
   "outputs": [
    {
     "data": {
      "text/latex": [
       "$\\displaystyle -5$"
      ],
      "text/plain": [
       "-5"
      ]
     },
     "execution_count": 19,
     "metadata": {},
     "output_type": "execute_result"
    }
   ],
   "source": [
    "sym.limit(particular_expression, x, 0)"
   ]
  },
  {
   "cell_type": "code",
   "execution_count": 20,
   "id": "776ef538-c72f-44a0-8e58-4ba964925552",
   "metadata": {},
   "outputs": [
    {
     "data": {
      "text/latex": [
       "$\\displaystyle \\infty$"
      ],
      "text/plain": [
       "oo"
      ]
     },
     "execution_count": 20,
     "metadata": {},
     "output_type": "execute_result"
    }
   ],
   "source": [
    "sym.limit(particular_expression, x, sym.oo)"
   ]
  },
  {
   "cell_type": "code",
   "execution_count": 25,
   "id": "7e714dde-2641-492c-8d5d-1706b42b4ae2",
   "metadata": {},
   "outputs": [
    {
     "data": {
      "text/latex": [
       "$\\displaystyle \\frac{x^{4}}{4} + \\frac{5 x^{3}}{6} - 5 x$"
      ],
      "text/plain": [
       "x**4/4 + 5*x**3/6 - 5*x"
      ]
     },
     "execution_count": 25,
     "metadata": {},
     "output_type": "execute_result"
    }
   ],
   "source": [
    "sym.integrate(particular_expression, x)"
   ]
  },
  {
   "cell_type": "code",
   "execution_count": 28,
   "id": "620849fd-c757-4d21-aa5a-9371f1ec4508",
   "metadata": {},
   "outputs": [
    {
     "data": {
      "text/latex": [
       "$\\displaystyle - \\frac{2825}{12} - 5 \\pi + \\frac{\\pi^{4}}{4} + \\frac{5 \\pi^{3}}{6}$"
      ],
      "text/plain": [
       "-2825/12 - 5*pi + pi**4/4 + 5*pi**3/6"
      ]
     },
     "execution_count": 28,
     "metadata": {},
     "output_type": "execute_result"
    }
   ],
   "source": [
    "sym.integrate(particular_expression, (x, 5, sym.pi))"
   ]
  },
  {
   "cell_type": "code",
   "execution_count": null,
   "id": "b23ce7ed-69a8-4144-a074-0cb15094efc5",
   "metadata": {},
   "outputs": [],
   "source": []
  },
  {
   "cell_type": "code",
   "execution_count": null,
   "id": "58b0e609-3d17-4121-8c3c-a4ef02c32d4a",
   "metadata": {},
   "outputs": [],
   "source": []
  }
 ],
 "metadata": {
  "kernelspec": {
   "display_name": "Python 3 (ipykernel)",
   "language": "python",
   "name": "python3"
  },
  "language_info": {
   "codemirror_mode": {
    "name": "ipython",
    "version": 3
   },
   "file_extension": ".py",
   "mimetype": "text/x-python",
   "name": "python",
   "nbconvert_exporter": "python",
   "pygments_lexer": "ipython3",
   "version": "3.13.0"
  }
 },
 "nbformat": 4,
 "nbformat_minor": 5
}
