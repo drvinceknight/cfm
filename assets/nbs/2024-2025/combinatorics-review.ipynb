{
 "cells": [
  {
   "cell_type": "code",
   "execution_count": 1,
   "id": "869d4876-1e22-4975-87e1-ba767829203a",
   "metadata": {},
   "outputs": [
    {
     "data": {
      "text/plain": [
       "('cat', 'dog', 'lizard', 'fish', 'hamster')"
      ]
     },
     "execution_count": 1,
     "metadata": {},
     "output_type": "execute_result"
    }
   ],
   "source": [
    "pets = (\"cat\", \"dog\", \"lizard\", \"fish\", \"hamster\")\n",
    "pets"
   ]
  },
  {
   "cell_type": "code",
   "execution_count": 2,
   "id": "342c2c8c-7476-45d7-948e-ce665430bcab",
   "metadata": {},
   "outputs": [],
   "source": [
    "import itertools\n",
    "permutations = tuple(itertools.permutations(pets, r=4))\n",
    "number_of_permutations = len(permutations)"
   ]
  },
  {
   "cell_type": "code",
   "execution_count": 3,
   "id": "955cc884-2c5c-487b-b88e-75c9e12bf2e3",
   "metadata": {},
   "outputs": [
    {
     "data": {
      "text/plain": [
       "120"
      ]
     },
     "execution_count": 3,
     "metadata": {},
     "output_type": "execute_result"
    }
   ],
   "source": [
    "number_of_permutations"
   ]
  },
  {
   "cell_type": "code",
   "execution_count": 4,
   "id": "ee37b1ab-9ec0-4f5b-a290-117592fa01d1",
   "metadata": {},
   "outputs": [
    {
     "data": {
      "text/plain": [
       "120"
      ]
     },
     "execution_count": 4,
     "metadata": {},
     "output_type": "execute_result"
    }
   ],
   "source": [
    "import math\n",
    "math.factorial(5)"
   ]
  },
  {
   "cell_type": "code",
   "execution_count": 5,
   "id": "e44ef4ab-55cb-4e50-b41b-286bfe2d8e42",
   "metadata": {},
   "outputs": [
    {
     "data": {
      "text/plain": [
       "120"
      ]
     },
     "execution_count": 5,
     "metadata": {},
     "output_type": "execute_result"
    }
   ],
   "source": [
    "len(tuple(itertools.permutations(pets)))"
   ]
  },
  {
   "cell_type": "markdown",
   "id": "2a3cc6d7-198b-451a-9bc7-b9ba449ddea7",
   "metadata": {},
   "source": [
    "Now to compute this directly:"
   ]
  },
  {
   "cell_type": "code",
   "execution_count": 13,
   "id": "b15244b8-d97e-45f9-b1ed-2072e0cedd8f",
   "metadata": {},
   "outputs": [
    {
     "data": {
      "text/plain": [
       "np.float64(120.0)"
      ]
     },
     "execution_count": 13,
     "metadata": {},
     "output_type": "execute_result"
    }
   ],
   "source": [
    "import scipy\n",
    "direct_number_of_permutations = scipy.special.perm(5, 4)\n",
    "direct_number_of_permutations"
   ]
  },
  {
   "cell_type": "markdown",
   "id": "ec7f129f-3647-4d02-ac53-da2d9db49326",
   "metadata": {},
   "source": [
    "How does `combinations` and `permutations` work when there are repetitions in the original iterable?"
   ]
  },
  {
   "cell_type": "code",
   "execution_count": 14,
   "id": "7cd116ba-5258-492e-a09f-cea107b96b52",
   "metadata": {},
   "outputs": [
    {
     "data": {
      "text/plain": [
       "(9, 9, 9, 9, 9, 9)"
      ]
     },
     "execution_count": 14,
     "metadata": {},
     "output_type": "execute_result"
    }
   ],
   "source": [
    "ranked_favouritve_numbers = (9, 9, 9, 9, 9, 9,)\n",
    "ranked_favouritve_numbers"
   ]
  },
  {
   "cell_type": "code",
   "execution_count": 16,
   "id": "cdba226f-b7bc-49ca-a08c-1f476f6c2448",
   "metadata": {},
   "outputs": [
    {
     "data": {
      "text/plain": [
       "((9, 9),\n",
       " (9, 9),\n",
       " (9, 9),\n",
       " (9, 9),\n",
       " (9, 9),\n",
       " (9, 9),\n",
       " (9, 9),\n",
       " (9, 9),\n",
       " (9, 9),\n",
       " (9, 9),\n",
       " (9, 9),\n",
       " (9, 9),\n",
       " (9, 9),\n",
       " (9, 9),\n",
       " (9, 9))"
      ]
     },
     "execution_count": 16,
     "metadata": {},
     "output_type": "execute_result"
    }
   ],
   "source": [
    "tuple(itertools.combinations(ranked_favouritve_numbers, 2))"
   ]
  },
  {
   "cell_type": "markdown",
   "id": "65a8ae94-8b1e-409d-a917-35096dafcca6",
   "metadata": {},
   "source": [
    "## Question 3 from the book."
   ]
  },
  {
   "cell_type": "code",
   "execution_count": 17,
   "id": "9dbb23db-205a-4db0-95d4-aa692a020060",
   "metadata": {},
   "outputs": [
    {
     "data": {
      "text/plain": [
       "('A', 'A', 'A', 'B', 'B', 'B', 'B')"
      ]
     },
     "execution_count": 17,
     "metadata": {},
     "output_type": "execute_result"
    }
   ],
   "source": [
    "students = (\"A\", \"A\", \"A\", \"B\", \"B\", \"B\", \"B\")\n",
    "students"
   ]
  },
  {
   "cell_type": "code",
   "execution_count": 18,
   "id": "94b5760a-ea1a-4c4d-8e4c-06c2fe4ebb3a",
   "metadata": {},
   "outputs": [
    {
     "data": {
      "text/plain": [
       "(('A', 'A', 'A', 'B', 'B'),\n",
       " ('A', 'A', 'A', 'B', 'B'),\n",
       " ('A', 'A', 'A', 'B', 'B'),\n",
       " ('A', 'A', 'A', 'B', 'B'),\n",
       " ('A', 'A', 'A', 'B', 'B'),\n",
       " ('A', 'A', 'A', 'B', 'B'),\n",
       " ('A', 'A', 'B', 'B', 'B'),\n",
       " ('A', 'A', 'B', 'B', 'B'),\n",
       " ('A', 'A', 'B', 'B', 'B'),\n",
       " ('A', 'A', 'B', 'B', 'B'),\n",
       " ('A', 'A', 'B', 'B', 'B'),\n",
       " ('A', 'A', 'B', 'B', 'B'),\n",
       " ('A', 'A', 'B', 'B', 'B'),\n",
       " ('A', 'A', 'B', 'B', 'B'),\n",
       " ('A', 'B', 'B', 'B', 'B'),\n",
       " ('A', 'A', 'B', 'B', 'B'),\n",
       " ('A', 'A', 'B', 'B', 'B'),\n",
       " ('A', 'A', 'B', 'B', 'B'),\n",
       " ('A', 'A', 'B', 'B', 'B'),\n",
       " ('A', 'B', 'B', 'B', 'B'),\n",
       " ('A', 'B', 'B', 'B', 'B'))"
      ]
     },
     "execution_count": 18,
     "metadata": {},
     "output_type": "execute_result"
    }
   ],
   "source": [
    "committees = tuple(itertools.combinations(students, 5))\n",
    "committees"
   ]
  },
  {
   "cell_type": "code",
   "execution_count": 23,
   "id": "6b461bbe-a209-4488-8f2b-fa2ad6896bcb",
   "metadata": {},
   "outputs": [
    {
     "data": {
      "text/plain": [
       "12"
      ]
     },
     "execution_count": 23,
     "metadata": {},
     "output_type": "execute_result"
    }
   ],
   "source": [
    "sum(1 for committee in committees if committee == ('A', 'A', 'B', 'B', 'B'))"
   ]
  },
  {
   "cell_type": "code",
   "execution_count": 24,
   "id": "2ddfcbfe-0d5d-4a73-b7d5-409dfc3cc208",
   "metadata": {},
   "outputs": [
    {
     "data": {
      "text/plain": [
       "(('A', 'A', 'B', 'B', 'B'),\n",
       " ('A', 'A', 'B', 'B', 'B'),\n",
       " ('A', 'A', 'B', 'B', 'B'),\n",
       " ('A', 'A', 'B', 'B', 'B'),\n",
       " ('A', 'A', 'B', 'B', 'B'),\n",
       " ('A', 'A', 'B', 'B', 'B'),\n",
       " ('A', 'B', 'A', 'B', 'B'),\n",
       " ('A', 'B', 'A', 'B', 'B'),\n",
       " ('A', 'B', 'B', 'A', 'B'),\n",
       " ('A', 'B', 'B', 'B', 'A'),\n",
       " ('A', 'B', 'B', 'A', 'B'),\n",
       " ('A', 'B', 'B', 'B', 'A'),\n",
       " ('A', 'B', 'A', 'B', 'B'),\n",
       " ('A', 'B', 'A', 'B', 'B'),\n",
       " ('A', 'B', 'B', 'A', 'B'),\n",
       " ('A', 'B', 'B', 'B', 'A'),\n",
       " ('A', 'B', 'B', 'A', 'B'),\n",
       " ('A', 'B', 'B', 'B', 'A'),\n",
       " ('A', 'B', 'A', 'B', 'B'),\n",
       " ('A', 'B', 'A', 'B', 'B'),\n",
       " ('A', 'B', 'B', 'A', 'B'),\n",
       " ('A', 'B', 'B', 'B', 'A'),\n",
       " ('A', 'B', 'B', 'A', 'B'),\n",
       " ('A', 'B', 'B', 'B', 'A'),\n",
       " ('A', 'A', 'B', 'B', 'B'),\n",
       " ('A', 'A', 'B', 'B', 'B'),\n",
       " ('A', 'A', 'B', 'B', 'B'),\n",
       " ('A', 'A', 'B', 'B', 'B'),\n",
       " ('A', 'A', 'B', 'B', 'B'),\n",
       " ('A', 'A', 'B', 'B', 'B'),\n",
       " ('A', 'B', 'A', 'B', 'B'),\n",
       " ('A', 'B', 'A', 'B', 'B'),\n",
       " ('A', 'B', 'B', 'A', 'B'),\n",
       " ('A', 'B', 'B', 'B', 'A'),\n",
       " ('A', 'B', 'B', 'A', 'B'),\n",
       " ('A', 'B', 'B', 'B', 'A'),\n",
       " ('A', 'B', 'A', 'B', 'B'),\n",
       " ('A', 'B', 'A', 'B', 'B'),\n",
       " ('A', 'B', 'B', 'A', 'B'),\n",
       " ('A', 'B', 'B', 'B', 'A'),\n",
       " ('A', 'B', 'B', 'A', 'B'),\n",
       " ('A', 'B', 'B', 'B', 'A'),\n",
       " ('A', 'B', 'A', 'B', 'B'),\n",
       " ('A', 'B', 'A', 'B', 'B'),\n",
       " ('A', 'B', 'B', 'A', 'B'),\n",
       " ('A', 'B', 'B', 'B', 'A'),\n",
       " ('A', 'B', 'B', 'A', 'B'),\n",
       " ('A', 'B', 'B', 'B', 'A'),\n",
       " ('B', 'A', 'A', 'B', 'B'),\n",
       " ('B', 'A', 'A', 'B', 'B'),\n",
       " ('B', 'A', 'B', 'A', 'B'),\n",
       " ('B', 'A', 'B', 'B', 'A'),\n",
       " ('B', 'A', 'B', 'A', 'B'),\n",
       " ('B', 'A', 'B', 'B', 'A'),\n",
       " ('B', 'A', 'A', 'B', 'B'),\n",
       " ('B', 'A', 'A', 'B', 'B'),\n",
       " ('B', 'A', 'B', 'A', 'B'),\n",
       " ('B', 'A', 'B', 'B', 'A'),\n",
       " ('B', 'A', 'B', 'A', 'B'),\n",
       " ('B', 'A', 'B', 'B', 'A'),\n",
       " ('B', 'B', 'A', 'A', 'B'),\n",
       " ('B', 'B', 'A', 'B', 'A'),\n",
       " ('B', 'B', 'A', 'A', 'B'),\n",
       " ('B', 'B', 'A', 'B', 'A'),\n",
       " ('B', 'B', 'B', 'A', 'A'),\n",
       " ('B', 'B', 'B', 'A', 'A'),\n",
       " ('B', 'B', 'A', 'A', 'B'),\n",
       " ('B', 'B', 'A', 'B', 'A'),\n",
       " ('B', 'B', 'A', 'A', 'B'),\n",
       " ('B', 'B', 'A', 'B', 'A'),\n",
       " ('B', 'B', 'B', 'A', 'A'),\n",
       " ('B', 'B', 'B', 'A', 'A'),\n",
       " ('B', 'A', 'A', 'B', 'B'),\n",
       " ('B', 'A', 'A', 'B', 'B'),\n",
       " ('B', 'A', 'B', 'A', 'B'),\n",
       " ('B', 'A', 'B', 'B', 'A'),\n",
       " ('B', 'A', 'B', 'A', 'B'),\n",
       " ('B', 'A', 'B', 'B', 'A'),\n",
       " ('B', 'A', 'A', 'B', 'B'),\n",
       " ('B', 'A', 'A', 'B', 'B'),\n",
       " ('B', 'A', 'B', 'A', 'B'),\n",
       " ('B', 'A', 'B', 'B', 'A'),\n",
       " ('B', 'A', 'B', 'A', 'B'),\n",
       " ('B', 'A', 'B', 'B', 'A'),\n",
       " ('B', 'B', 'A', 'A', 'B'),\n",
       " ('B', 'B', 'A', 'B', 'A'),\n",
       " ('B', 'B', 'A', 'A', 'B'),\n",
       " ('B', 'B', 'A', 'B', 'A'),\n",
       " ('B', 'B', 'B', 'A', 'A'),\n",
       " ('B', 'B', 'B', 'A', 'A'),\n",
       " ('B', 'B', 'A', 'A', 'B'),\n",
       " ('B', 'B', 'A', 'B', 'A'),\n",
       " ('B', 'B', 'A', 'A', 'B'),\n",
       " ('B', 'B', 'A', 'B', 'A'),\n",
       " ('B', 'B', 'B', 'A', 'A'),\n",
       " ('B', 'B', 'B', 'A', 'A'),\n",
       " ('B', 'A', 'A', 'B', 'B'),\n",
       " ('B', 'A', 'A', 'B', 'B'),\n",
       " ('B', 'A', 'B', 'A', 'B'),\n",
       " ('B', 'A', 'B', 'B', 'A'),\n",
       " ('B', 'A', 'B', 'A', 'B'),\n",
       " ('B', 'A', 'B', 'B', 'A'),\n",
       " ('B', 'A', 'A', 'B', 'B'),\n",
       " ('B', 'A', 'A', 'B', 'B'),\n",
       " ('B', 'A', 'B', 'A', 'B'),\n",
       " ('B', 'A', 'B', 'B', 'A'),\n",
       " ('B', 'A', 'B', 'A', 'B'),\n",
       " ('B', 'A', 'B', 'B', 'A'),\n",
       " ('B', 'B', 'A', 'A', 'B'),\n",
       " ('B', 'B', 'A', 'B', 'A'),\n",
       " ('B', 'B', 'A', 'A', 'B'),\n",
       " ('B', 'B', 'A', 'B', 'A'),\n",
       " ('B', 'B', 'B', 'A', 'A'),\n",
       " ('B', 'B', 'B', 'A', 'A'),\n",
       " ('B', 'B', 'A', 'A', 'B'),\n",
       " ('B', 'B', 'A', 'B', 'A'),\n",
       " ('B', 'B', 'A', 'A', 'B'),\n",
       " ('B', 'B', 'A', 'B', 'A'),\n",
       " ('B', 'B', 'B', 'A', 'A'),\n",
       " ('B', 'B', 'B', 'A', 'A'))"
      ]
     },
     "execution_count": 24,
     "metadata": {},
     "output_type": "execute_result"
    }
   ],
   "source": [
    "seating_arrangements = tuple(itertools.permutations(('A', 'A', 'B', 'B', 'B')))\n",
    "seating_arrangements"
   ]
  },
  {
   "cell_type": "code",
   "execution_count": 25,
   "id": "2ac8e035-7aa1-4a36-b530-233d77d94b07",
   "metadata": {},
   "outputs": [
    {
     "data": {
      "text/plain": [
       "12"
      ]
     },
     "execution_count": 25,
     "metadata": {},
     "output_type": "execute_result"
    }
   ],
   "source": [
    "sum(\n",
    "    1\n",
    "    for seating_arrangement in seating_arrangements\n",
    "    if seating_arrangement == (\"B\", \"A\", \"B\", \"A\", \"B\")\n",
    ")"
   ]
  },
  {
   "cell_type": "code",
   "execution_count": null,
   "id": "7f4c65f5-44e0-4eb4-a1e3-842207560076",
   "metadata": {},
   "outputs": [],
   "source": []
  }
 ],
 "metadata": {
  "kernelspec": {
   "display_name": "Python 3 (ipykernel)",
   "language": "python",
   "name": "python3"
  },
  "language_info": {
   "codemirror_mode": {
    "name": "ipython",
    "version": 3
   },
   "file_extension": ".py",
   "mimetype": "text/x-python",
   "name": "python",
   "nbconvert_exporter": "python",
   "pygments_lexer": "ipython3",
   "version": "3.13.0"
  }
 },
 "nbformat": 4,
 "nbformat_minor": 5
}
