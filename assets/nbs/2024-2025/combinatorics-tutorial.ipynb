{
 "cells": [
  {
   "cell_type": "markdown",
   "id": "35bea097-01c3-4e2f-86db-0067010ad9b2",
   "metadata": {},
   "source": [
    "Let us start by creating our 5 digits:"
   ]
  },
  {
   "cell_type": "code",
   "execution_count": 3,
   "id": "6839b1e6-420c-4cbb-b8cb-b15eae27067b",
   "metadata": {},
   "outputs": [],
   "source": [
    "digits = range(1, 6)"
   ]
  },
  {
   "cell_type": "markdown",
   "id": "92670fd3-eeb6-4a34-a154-4da685e2b23d",
   "metadata": {},
   "source": [
    "Now we can create our permutations:"
   ]
  },
  {
   "cell_type": "code",
   "execution_count": 8,
   "id": "906b5a5e-cef4-46ed-94e9-142205ed469c",
   "metadata": {},
   "outputs": [],
   "source": [
    "import itertools\n",
    "permutations = tuple(itertools.permutations(digits))"
   ]
  },
  {
   "cell_type": "markdown",
   "id": "eceb39d9-61f5-4e7b-afaf-eefc4c39e504",
   "metadata": {},
   "source": [
    "Let us take a look at our permutations:"
   ]
  },
  {
   "cell_type": "code",
   "execution_count": 9,
   "id": "54470cbf-f289-4512-a0af-dd80d9bdbd14",
   "metadata": {},
   "outputs": [
    {
     "data": {
      "text/plain": [
       "((1, 2, 3, 4, 5),\n",
       " (1, 2, 3, 5, 4),\n",
       " (1, 2, 4, 3, 5),\n",
       " (1, 2, 4, 5, 3),\n",
       " (1, 2, 5, 3, 4),\n",
       " (1, 2, 5, 4, 3),\n",
       " (1, 3, 2, 4, 5),\n",
       " (1, 3, 2, 5, 4),\n",
       " (1, 3, 4, 2, 5),\n",
       " (1, 3, 4, 5, 2),\n",
       " (1, 3, 5, 2, 4),\n",
       " (1, 3, 5, 4, 2),\n",
       " (1, 4, 2, 3, 5),\n",
       " (1, 4, 2, 5, 3),\n",
       " (1, 4, 3, 2, 5),\n",
       " (1, 4, 3, 5, 2),\n",
       " (1, 4, 5, 2, 3),\n",
       " (1, 4, 5, 3, 2),\n",
       " (1, 5, 2, 3, 4),\n",
       " (1, 5, 2, 4, 3),\n",
       " (1, 5, 3, 2, 4),\n",
       " (1, 5, 3, 4, 2),\n",
       " (1, 5, 4, 2, 3),\n",
       " (1, 5, 4, 3, 2),\n",
       " (2, 1, 3, 4, 5),\n",
       " (2, 1, 3, 5, 4),\n",
       " (2, 1, 4, 3, 5),\n",
       " (2, 1, 4, 5, 3),\n",
       " (2, 1, 5, 3, 4),\n",
       " (2, 1, 5, 4, 3),\n",
       " (2, 3, 1, 4, 5),\n",
       " (2, 3, 1, 5, 4),\n",
       " (2, 3, 4, 1, 5),\n",
       " (2, 3, 4, 5, 1),\n",
       " (2, 3, 5, 1, 4),\n",
       " (2, 3, 5, 4, 1),\n",
       " (2, 4, 1, 3, 5),\n",
       " (2, 4, 1, 5, 3),\n",
       " (2, 4, 3, 1, 5),\n",
       " (2, 4, 3, 5, 1),\n",
       " (2, 4, 5, 1, 3),\n",
       " (2, 4, 5, 3, 1),\n",
       " (2, 5, 1, 3, 4),\n",
       " (2, 5, 1, 4, 3),\n",
       " (2, 5, 3, 1, 4),\n",
       " (2, 5, 3, 4, 1),\n",
       " (2, 5, 4, 1, 3),\n",
       " (2, 5, 4, 3, 1),\n",
       " (3, 1, 2, 4, 5),\n",
       " (3, 1, 2, 5, 4),\n",
       " (3, 1, 4, 2, 5),\n",
       " (3, 1, 4, 5, 2),\n",
       " (3, 1, 5, 2, 4),\n",
       " (3, 1, 5, 4, 2),\n",
       " (3, 2, 1, 4, 5),\n",
       " (3, 2, 1, 5, 4),\n",
       " (3, 2, 4, 1, 5),\n",
       " (3, 2, 4, 5, 1),\n",
       " (3, 2, 5, 1, 4),\n",
       " (3, 2, 5, 4, 1),\n",
       " (3, 4, 1, 2, 5),\n",
       " (3, 4, 1, 5, 2),\n",
       " (3, 4, 2, 1, 5),\n",
       " (3, 4, 2, 5, 1),\n",
       " (3, 4, 5, 1, 2),\n",
       " (3, 4, 5, 2, 1),\n",
       " (3, 5, 1, 2, 4),\n",
       " (3, 5, 1, 4, 2),\n",
       " (3, 5, 2, 1, 4),\n",
       " (3, 5, 2, 4, 1),\n",
       " (3, 5, 4, 1, 2),\n",
       " (3, 5, 4, 2, 1),\n",
       " (4, 1, 2, 3, 5),\n",
       " (4, 1, 2, 5, 3),\n",
       " (4, 1, 3, 2, 5),\n",
       " (4, 1, 3, 5, 2),\n",
       " (4, 1, 5, 2, 3),\n",
       " (4, 1, 5, 3, 2),\n",
       " (4, 2, 1, 3, 5),\n",
       " (4, 2, 1, 5, 3),\n",
       " (4, 2, 3, 1, 5),\n",
       " (4, 2, 3, 5, 1),\n",
       " (4, 2, 5, 1, 3),\n",
       " (4, 2, 5, 3, 1),\n",
       " (4, 3, 1, 2, 5),\n",
       " (4, 3, 1, 5, 2),\n",
       " (4, 3, 2, 1, 5),\n",
       " (4, 3, 2, 5, 1),\n",
       " (4, 3, 5, 1, 2),\n",
       " (4, 3, 5, 2, 1),\n",
       " (4, 5, 1, 2, 3),\n",
       " (4, 5, 1, 3, 2),\n",
       " (4, 5, 2, 1, 3),\n",
       " (4, 5, 2, 3, 1),\n",
       " (4, 5, 3, 1, 2),\n",
       " (4, 5, 3, 2, 1),\n",
       " (5, 1, 2, 3, 4),\n",
       " (5, 1, 2, 4, 3),\n",
       " (5, 1, 3, 2, 4),\n",
       " (5, 1, 3, 4, 2),\n",
       " (5, 1, 4, 2, 3),\n",
       " (5, 1, 4, 3, 2),\n",
       " (5, 2, 1, 3, 4),\n",
       " (5, 2, 1, 4, 3),\n",
       " (5, 2, 3, 1, 4),\n",
       " (5, 2, 3, 4, 1),\n",
       " (5, 2, 4, 1, 3),\n",
       " (5, 2, 4, 3, 1),\n",
       " (5, 3, 1, 2, 4),\n",
       " (5, 3, 1, 4, 2),\n",
       " (5, 3, 2, 1, 4),\n",
       " (5, 3, 2, 4, 1),\n",
       " (5, 3, 4, 1, 2),\n",
       " (5, 3, 4, 2, 1),\n",
       " (5, 4, 1, 2, 3),\n",
       " (5, 4, 1, 3, 2),\n",
       " (5, 4, 2, 1, 3),\n",
       " (5, 4, 2, 3, 1),\n",
       " (5, 4, 3, 1, 2),\n",
       " (5, 4, 3, 2, 1))"
      ]
     },
     "execution_count": 9,
     "metadata": {},
     "output_type": "execute_result"
    }
   ],
   "source": [
    "permutations"
   ]
  },
  {
   "cell_type": "markdown",
   "id": "38e029c7-54a0-4ae8-a5ba-b5a414760124",
   "metadata": {},
   "source": [
    "To answer the question let us compute the length of `permutations`:"
   ]
  },
  {
   "cell_type": "code",
   "execution_count": 10,
   "id": "cc7137b0-4693-4194-bc60-d568ee6e1515",
   "metadata": {},
   "outputs": [
    {
     "data": {
      "text/plain": [
       "120"
      ]
     },
     "execution_count": 10,
     "metadata": {},
     "output_type": "execute_result"
    }
   ],
   "source": [
    "len(permutations)"
   ]
  },
  {
   "cell_type": "markdown",
   "id": "7243304c-7381-4645-b9e2-6a70c14cbe2f",
   "metadata": {},
   "source": [
    "We can confirm this theoretically, the number should be: $5!$:"
   ]
  },
  {
   "cell_type": "code",
   "execution_count": 11,
   "id": "d58b7066-1b1b-43de-a1c1-c179552ecd0f",
   "metadata": {},
   "outputs": [
    {
     "data": {
      "text/plain": [
       "120"
      ]
     },
     "execution_count": 11,
     "metadata": {},
     "output_type": "execute_result"
    }
   ],
   "source": [
    "import math\n",
    "math.factorial(5)"
   ]
  },
  {
   "cell_type": "markdown",
   "id": "b79dddcf-18b2-4d64-ba26-31c9771df2b9",
   "metadata": {},
   "source": [
    "Another way to \"count\" (note this is essentially what `len` is doing) is to compute:\n",
    "\n",
    "$$\\sum_{\\pi \\in \\Pi}1$$"
   ]
  },
  {
   "cell_type": "code",
   "execution_count": 12,
   "id": "b0412625-bbae-44cb-b51d-61108137c8a1",
   "metadata": {},
   "outputs": [
    {
     "data": {
      "text/plain": [
       "120"
      ]
     },
     "execution_count": 12,
     "metadata": {},
     "output_type": "execute_result"
    }
   ],
   "source": [
    "sum(1 for pi in permutations)"
   ]
  },
  {
   "cell_type": "markdown",
   "id": "e5b6be48-5d58-437a-ab5d-a93913b7050d",
   "metadata": {},
   "source": [
    "In order to find the number of 5-digit numbers that are odd we need to compute:\n",
    "\n",
    "$$\\sum_{\\pi \\in \\Pi}(\\pi_5 \\mod 2)$$\n",
    "\n",
    "For example, when counting the 5-digits numbers that are odd:\n",
    "\n",
    "- If $\\pi=(5, 4, 1, 2, 3)$ we know that $\\pi_5=3$ and so this number is odd. Thus we want the sum (the counting) to add 1 for this number. $\\pi_5 \\mod 2 = 3 \\mod 2 = 1$. So our summation above would add 1 as required.\n",
    "- If $\\pi=(5, 3, 1, 2, 4)$ we know that $\\pi_5=4$ and so this number is even. Thus we want the sum (the counting) to add 0 for this number. $\\pi_5 \\mod 2 = 4 \\mod 2 = 0$. So our summation above would add 0 as required."
   ]
  },
  {
   "cell_type": "code",
   "execution_count": 13,
   "id": "04c233ce-ba1c-4b61-acc8-4bc1095cb792",
   "metadata": {},
   "outputs": [
    {
     "data": {
      "text/plain": [
       "72"
      ]
     },
     "execution_count": 13,
     "metadata": {},
     "output_type": "execute_result"
    }
   ],
   "source": [
    "sum((pi[4] % 2) for pi in permutations)"
   ]
  },
  {
   "cell_type": "markdown",
   "id": "868a1fa9-398e-4c82-b45a-e5f7672d4461",
   "metadata": {},
   "source": [
    "To confirm this we know that the last digit is either 1, 3 or 5, in which case there are 4 permutations possible for the other digits. Thus there should be $3 \\times 4!$:"
   ]
  },
  {
   "cell_type": "code",
   "execution_count": 14,
   "id": "15751437-a5ab-4cbd-b5d3-ebb4f2dcb4b7",
   "metadata": {},
   "outputs": [
    {
     "data": {
      "text/plain": [
       "72"
      ]
     },
     "execution_count": 14,
     "metadata": {},
     "output_type": "execute_result"
    }
   ],
   "source": [
    "3 * math.factorial(4)"
   ]
  },
  {
   "cell_type": "markdown",
   "id": "2a9d858b-0b11-4101-bde2-b88943c4feba",
   "metadata": {},
   "source": [
    "To compute the number of 5-digit numbers that are less than or equal to 23000, we are going to compute the following sum:\n",
    "\n",
    "$$\n",
    "\\sum_{\\pi \\in \\Pi \\text{ if }\\pi_1 10 ^ 4 + \\pi_2 10 ^ 3 + \\pi_3 10 ^ 2 + \\pi_4 10 + \\pi_5 \\leq 23000}1\n",
    "$$"
   ]
  },
  {
   "cell_type": "code",
   "execution_count": 16,
   "id": "702a0391-073b-4d7e-bbf8-867581d363da",
   "metadata": {},
   "outputs": [
    {
     "data": {
      "text/plain": [
       "30"
      ]
     },
     "execution_count": 16,
     "metadata": {},
     "output_type": "execute_result"
    }
   ],
   "source": [
    "sum(\n",
    "    1 \n",
    "    for pi in permutations \n",
    "    if (\n",
    "        pi[0] * 10 ** 4 +\n",
    "        pi[1] * 10 ** 3 +\n",
    "        pi[2] * 10 ** 2 +\n",
    "        pi[3] * 10 +\n",
    "        pi[4]\n",
    "    ) <= 23000\n",
    ")"
   ]
  },
  {
   "cell_type": "markdown",
   "id": "389fcb50-9df9-4401-80d6-bb36f2da3f76",
   "metadata": {},
   "source": [
    "If one of these tuples is less than 23000 that can only happen if the first digit is 1 or 2.\n",
    "\n",
    "- If the first digit is 1: we have $4!$ choices for the other digits.\n",
    "- If the first digit is 2: then the second digit **must** be 1, so we have $3!$ choices.\n",
    "\n",
    "Thus the total number of 5-digits numbers that are less than 23000 is given by:\n",
    "\n",
    "$$\n",
    "4! + 3!\n",
    "$$"
   ]
  },
  {
   "cell_type": "code",
   "execution_count": 19,
   "id": "65dddb2f-2489-4f3b-a4f6-31793002a8c1",
   "metadata": {},
   "outputs": [
    {
     "data": {
      "text/plain": [
       "30"
      ]
     },
     "execution_count": 19,
     "metadata": {},
     "output_type": "execute_result"
    }
   ],
   "source": [
    "math.factorial(4) + math.factorial(3)"
   ]
  },
  {
   "cell_type": "markdown",
   "id": "1c9fb345-8393-49d6-8657-6b615c4b6857",
   "metadata": {},
   "source": [
    "Cool question from Ben.\n",
    "\n",
    "Can we take permutations of any set?"
   ]
  },
  {
   "cell_type": "code",
   "execution_count": 29,
   "id": "8041c206-8a53-47ef-a4b0-1323d983f82b",
   "metadata": {},
   "outputs": [],
   "source": [
    "digits = (1, 2, 3, 5, 7)"
   ]
  },
  {
   "cell_type": "code",
   "execution_count": 30,
   "id": "c43309e7-5a09-4765-9e2a-21a7ee290ffc",
   "metadata": {},
   "outputs": [
    {
     "data": {
      "text/plain": [
       "((1, 2, 3, 5), (1, 2, 3, 7), (1, 2, 5, 7), (1, 3, 5, 7), (2, 3, 5, 7))"
      ]
     },
     "execution_count": 30,
     "metadata": {},
     "output_type": "execute_result"
    }
   ],
   "source": [
    "tuple(itertools.combinations(digits, r=4))"
   ]
  },
  {
   "cell_type": "code",
   "execution_count": null,
   "id": "2e8aa7d7-c5ef-48a3-a3ad-36ca3854874f",
   "metadata": {},
   "outputs": [],
   "source": []
  }
 ],
 "metadata": {
  "kernelspec": {
   "display_name": "Python 3 (ipykernel)",
   "language": "python",
   "name": "python3"
  },
  "language_info": {
   "codemirror_mode": {
    "name": "ipython",
    "version": 3
   },
   "file_extension": ".py",
   "mimetype": "text/x-python",
   "name": "python",
   "nbconvert_exporter": "python",
   "pygments_lexer": "ipython3",
   "version": "3.13.0"
  }
 },
 "nbformat": 4,
 "nbformat_minor": 5
}
