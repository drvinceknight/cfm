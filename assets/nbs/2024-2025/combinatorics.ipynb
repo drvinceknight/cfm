{
 "cells": [
  {
   "cell_type": "markdown",
   "id": "c555d0d8-fa69-4ecc-ba1d-cde6934a105f",
   "metadata": {},
   "source": [
    "The digits 1, 2, 3 and 4 are arranged in random order, to form a four-digit number.\n",
    "\n",
    "How many different four-digit numbers can be formed?\n",
    "\n",
    "How many different four-digit numbers:\n",
    "\n",
    "1. Are even.\n",
    "2. Are less than 4000."
   ]
  },
  {
   "cell_type": "code",
   "execution_count": 8,
   "id": "1bb357fe-48c1-469e-aa2e-cd56bf80578c",
   "metadata": {},
   "outputs": [
    {
     "data": {
      "text/plain": [
       "range(1, 5)"
      ]
     },
     "execution_count": 8,
     "metadata": {},
     "output_type": "execute_result"
    }
   ],
   "source": [
    "digits = range(1, 5)\n",
    "digits"
   ]
  },
  {
   "cell_type": "code",
   "execution_count": 9,
   "id": "60c70257-13a1-427a-a1d5-b8b09213cda9",
   "metadata": {},
   "outputs": [
    {
     "data": {
      "text/plain": [
       "(1, 2, 3, 4)"
      ]
     },
     "execution_count": 9,
     "metadata": {},
     "output_type": "execute_result"
    }
   ],
   "source": [
    "tuple(digits)"
   ]
  },
  {
   "cell_type": "code",
   "execution_count": 10,
   "id": "79363241-24d2-42e2-a914-7e5c2466fb97",
   "metadata": {},
   "outputs": [],
   "source": [
    "import itertools"
   ]
  },
  {
   "cell_type": "markdown",
   "id": "6c154e06-9ece-492b-9bb2-754826003d9b",
   "metadata": {},
   "source": [
    "The first question is asking us to generate all **permutations** of the digits 1, 2, 3, 4."
   ]
  },
  {
   "cell_type": "code",
   "execution_count": 13,
   "id": "ca5d68ff-7336-487c-b99f-bf914b88e169",
   "metadata": {},
   "outputs": [],
   "source": [
    "permutations = tuple(itertools.permutations(digits))"
   ]
  },
  {
   "cell_type": "code",
   "execution_count": 14,
   "id": "139be517-994d-4985-9c0a-075388007c01",
   "metadata": {},
   "outputs": [
    {
     "data": {
      "text/plain": [
       "((1, 2, 3, 4),\n",
       " (1, 2, 4, 3),\n",
       " (1, 3, 2, 4),\n",
       " (1, 3, 4, 2),\n",
       " (1, 4, 2, 3),\n",
       " (1, 4, 3, 2),\n",
       " (2, 1, 3, 4),\n",
       " (2, 1, 4, 3),\n",
       " (2, 3, 1, 4),\n",
       " (2, 3, 4, 1),\n",
       " (2, 4, 1, 3),\n",
       " (2, 4, 3, 1),\n",
       " (3, 1, 2, 4),\n",
       " (3, 1, 4, 2),\n",
       " (3, 2, 1, 4),\n",
       " (3, 2, 4, 1),\n",
       " (3, 4, 1, 2),\n",
       " (3, 4, 2, 1),\n",
       " (4, 1, 2, 3),\n",
       " (4, 1, 3, 2),\n",
       " (4, 2, 1, 3),\n",
       " (4, 2, 3, 1),\n",
       " (4, 3, 1, 2),\n",
       " (4, 3, 2, 1))"
      ]
     },
     "execution_count": 14,
     "metadata": {},
     "output_type": "execute_result"
    }
   ],
   "source": [
    "permutations"
   ]
  },
  {
   "cell_type": "markdown",
   "id": "95038955-baa0-4082-b92e-d67d0ad851a3",
   "metadata": {},
   "source": [
    "To compute the number we can count them:"
   ]
  },
  {
   "cell_type": "code",
   "execution_count": 15,
   "id": "5aab97f8-bb75-4f73-aada-53b47c85edc6",
   "metadata": {},
   "outputs": [
    {
     "data": {
      "text/plain": [
       "24"
      ]
     },
     "execution_count": 15,
     "metadata": {},
     "output_type": "execute_result"
    }
   ],
   "source": [
    "len(permutations)"
   ]
  },
  {
   "cell_type": "markdown",
   "id": "4a31fc0f-16c6-499e-9368-41ec80af8384",
   "metadata": {},
   "source": [
    "Let us confirm this theoretically. We know that the number should be $4!$:"
   ]
  },
  {
   "cell_type": "code",
   "execution_count": 16,
   "id": "486b2f54-d0ad-4ec4-b475-5f79fc2ee75e",
   "metadata": {},
   "outputs": [
    {
     "data": {
      "text/plain": [
       "24"
      ]
     },
     "execution_count": 16,
     "metadata": {},
     "output_type": "execute_result"
    }
   ],
   "source": [
    "import math\n",
    "math.factorial(4)"
   ]
  },
  {
   "cell_type": "markdown",
   "id": "54e0f0d2-1c27-436b-a2d7-eed7ce887ff6",
   "metadata": {},
   "source": [
    "The full set of 4 digit numbers can be counted by computing:\n",
    "\n",
    "$$\\sum_{\\pi \\in \\Pi} 1$$"
   ]
  },
  {
   "cell_type": "markdown",
   "id": "d74999ee-bafc-4dfb-9172-0178132b30f4",
   "metadata": {},
   "source": [
    "This can be equivalently written in code as:"
   ]
  },
  {
   "cell_type": "code",
   "execution_count": 18,
   "id": "d4b94e5c-ed79-4476-8cf4-3c41df434afd",
   "metadata": {},
   "outputs": [
    {
     "data": {
      "text/plain": [
       "24"
      ]
     },
     "execution_count": 18,
     "metadata": {},
     "output_type": "execute_result"
    }
   ],
   "source": [
    "sum(1 for pi in permutations)"
   ]
  },
  {
   "cell_type": "markdown",
   "id": "bd98f60c-38da-4e65-88a9-da2a0d9f4691",
   "metadata": {},
   "source": [
    "This is an alternative approach to calculating the length of `permutations`."
   ]
  },
  {
   "cell_type": "markdown",
   "id": "07b8e222-1464-46f9-b37a-59ea83085733",
   "metadata": {},
   "source": [
    "We can now use this same idea to find the number of even 4-digit numbers:"
   ]
  },
  {
   "cell_type": "markdown",
   "id": "5fc8dc63-6dc5-4a8b-b512-89025d8a0e78",
   "metadata": {},
   "source": [
    "To identify how many 4 digit number are **even** we need to compute:\n",
    "\n",
    "$$\\sum_{\\pi \\in \\Pi} (\\pi_4 + 1 \\mod 2)$$"
   ]
  },
  {
   "cell_type": "markdown",
   "id": "53b9432e-ea8d-4cc8-aa28-15d7cff859d5",
   "metadata": {},
   "source": [
    "This is summing over the set of permutations. For every permutation $\\pi$ it is adding the remainding when dividing by 2 of the fourth digit $\\pi_4$ plus 1:\n",
    "\n",
    "$$\\pi_4 + 1 \\mod 2$$\n",
    "\n",
    "If $\\pi$ represents an even number: then $\\pi_4$ (the last digit) will be even. Thus $\\pi_4 + 1$ will be odd, so $\\pi_4+ 1 \\mod 2$ will be 1.\n",
    "\n",
    "For example, when $\\pi=(4,3,1,2)$ which represents the even number $4312$, we have $\\pi_4=2$. Thus $\\pi_4 + 1=3$ which in turn gives: $\\pi_4 + 1 \\mod 2 = 1$. The sum would thus add 1 here which is correct as we have an even number.\n",
    "\n",
    "However, when $\\pi=(4,3,2,1)$ which represents the odd number $4321$, we have $\\pi_4=1$ thus $\\pi_4+1=2$ which gives $\\pi_4 + 1 \\mod 2 = 0$. The sum would thus add 0 here which is correct."
   ]
  },
  {
   "cell_type": "markdown",
   "id": "0fca545b-1705-4478-a7b8-9e45be8a7e63",
   "metadata": {},
   "source": [
    "Let us now write the sum in computer code:\n",
    "\n",
    "$$\\sum_{\\pi \\in \\Pi} (\\pi_4 + 1 \\mod 2)$$"
   ]
  },
  {
   "cell_type": "code",
   "execution_count": 19,
   "id": "1b56e333-9216-487e-acc7-b18e8fc7ec2b",
   "metadata": {},
   "outputs": [
    {
     "data": {
      "text/plain": [
       "12"
      ]
     },
     "execution_count": 19,
     "metadata": {},
     "output_type": "execute_result"
    }
   ],
   "source": [
    "sum((pi[3] + 1) % 2 for pi in permutations)"
   ]
  },
  {
   "cell_type": "markdown",
   "id": "2ab5719c-f863-46f0-a309-a4de55ff9851",
   "metadata": {},
   "source": [
    "To compute the number of 4-digit numbers that are less than 4000 we compute a sum once again:\n",
    "\n",
    "$$\n",
    "\\sum_{\\pi \\in \\Pi \\text{ if }\\pi_1 \\ne 4}1\n",
    "$$\n",
    "\n",
    "This adds 1 for every permutation where the first digit is not 4."
   ]
  },
  {
   "cell_type": "code",
   "execution_count": 20,
   "id": "9e6d7626-432e-4b54-bfe5-1f6b800f2735",
   "metadata": {},
   "outputs": [
    {
     "data": {
      "text/plain": [
       "18"
      ]
     },
     "execution_count": 20,
     "metadata": {},
     "output_type": "execute_result"
    }
   ],
   "source": [
    "sum(1 for pi in permutations if pi[0] != 4)"
   ]
  },
  {
   "cell_type": "code",
   "execution_count": null,
   "id": "8b467301-5683-41c8-bdce-d71fe395d85c",
   "metadata": {},
   "outputs": [],
   "source": []
  }
 ],
 "metadata": {
  "kernelspec": {
   "display_name": "Python 3 (ipykernel)",
   "language": "python",
   "name": "python3"
  },
  "language_info": {
   "codemirror_mode": {
    "name": "ipython",
    "version": 3
   },
   "file_extension": ".py",
   "mimetype": "text/x-python",
   "name": "python",
   "nbconvert_exporter": "python",
   "pygments_lexer": "ipython3",
   "version": "3.13.0"
  }
 },
 "nbformat": 4,
 "nbformat_minor": 5
}
