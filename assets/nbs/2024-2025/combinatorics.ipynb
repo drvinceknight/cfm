{
 "cells": [
  {
   "cell_type": "markdown",
   "id": "c555d0d8-fa69-4ecc-ba1d-cde6934a105f",
   "metadata": {},
   "source": [
    "The digits 1, 2, 3 and 4 are arranged in random order, to form a four-digit number.\n",
    "\n",
    "How many different four-digit numbers can be formed?\n",
    "\n",
    "How many different four-digit numbers:\n",
    "\n",
    "1. Are even.\n",
    "2. Are less than 4000."
   ]
  },
  {
   "cell_type": "code",
   "execution_count": 3,
   "id": "1bb357fe-48c1-469e-aa2e-cd56bf80578c",
   "metadata": {},
   "outputs": [
    {
     "data": {
      "text/plain": [
       "range(1, 5)"
      ]
     },
     "execution_count": 3,
     "metadata": {},
     "output_type": "execute_result"
    }
   ],
   "source": [
    "digits = range(1, 5)\n",
    "digits"
   ]
  },
  {
   "cell_type": "code",
   "execution_count": 4,
   "id": "60c70257-13a1-427a-a1d5-b8b09213cda9",
   "metadata": {},
   "outputs": [
    {
     "data": {
      "text/plain": [
       "(1, 2, 3, 4)"
      ]
     },
     "execution_count": 4,
     "metadata": {},
     "output_type": "execute_result"
    }
   ],
   "source": [
    "tuple(digits)"
   ]
  },
  {
   "cell_type": "code",
   "execution_count": 5,
   "id": "79363241-24d2-42e2-a914-7e5c2466fb97",
   "metadata": {},
   "outputs": [],
   "source": [
    "import itertools"
   ]
  },
  {
   "cell_type": "markdown",
   "id": "6c154e06-9ece-492b-9bb2-754826003d9b",
   "metadata": {},
   "source": [
    "The first question is asking us to generate all **permutations** of the digits 1, 2, 3, 4."
   ]
  },
  {
   "cell_type": "code",
   "execution_count": 8,
   "id": "ca5d68ff-7336-487c-b99f-bf914b88e169",
   "metadata": {},
   "outputs": [],
   "source": [
    "permutations = tuple(itertools.permutations(digits))"
   ]
  },
  {
   "cell_type": "code",
   "execution_count": 9,
   "id": "139be517-994d-4985-9c0a-075388007c01",
   "metadata": {},
   "outputs": [
    {
     "data": {
      "text/plain": [
       "((1, 2, 3, 4),\n",
       " (1, 2, 4, 3),\n",
       " (1, 3, 2, 4),\n",
       " (1, 3, 4, 2),\n",
       " (1, 4, 2, 3),\n",
       " (1, 4, 3, 2),\n",
       " (2, 1, 3, 4),\n",
       " (2, 1, 4, 3),\n",
       " (2, 3, 1, 4),\n",
       " (2, 3, 4, 1),\n",
       " (2, 4, 1, 3),\n",
       " (2, 4, 3, 1),\n",
       " (3, 1, 2, 4),\n",
       " (3, 1, 4, 2),\n",
       " (3, 2, 1, 4),\n",
       " (3, 2, 4, 1),\n",
       " (3, 4, 1, 2),\n",
       " (3, 4, 2, 1),\n",
       " (4, 1, 2, 3),\n",
       " (4, 1, 3, 2),\n",
       " (4, 2, 1, 3),\n",
       " (4, 2, 3, 1),\n",
       " (4, 3, 1, 2),\n",
       " (4, 3, 2, 1))"
      ]
     },
     "execution_count": 9,
     "metadata": {},
     "output_type": "execute_result"
    }
   ],
   "source": [
    "permutations"
   ]
  },
  {
   "cell_type": "markdown",
   "id": "95038955-baa0-4082-b92e-d67d0ad851a3",
   "metadata": {},
   "source": [
    "To compute the number we can count them:"
   ]
  },
  {
   "cell_type": "code",
   "execution_count": 10,
   "id": "5aab97f8-bb75-4f73-aada-53b47c85edc6",
   "metadata": {},
   "outputs": [
    {
     "data": {
      "text/plain": [
       "24"
      ]
     },
     "execution_count": 10,
     "metadata": {},
     "output_type": "execute_result"
    }
   ],
   "source": [
    "len(permutations)"
   ]
  },
  {
   "cell_type": "markdown",
   "id": "4a31fc0f-16c6-499e-9368-41ec80af8384",
   "metadata": {},
   "source": [
    "Let us confirm this theoretically. We know that the number should be $4!$:"
   ]
  },
  {
   "cell_type": "code",
   "execution_count": 11,
   "id": "486b2f54-d0ad-4ec4-b475-5f79fc2ee75e",
   "metadata": {},
   "outputs": [
    {
     "data": {
      "text/plain": [
       "24"
      ]
     },
     "execution_count": 11,
     "metadata": {},
     "output_type": "execute_result"
    }
   ],
   "source": [
    "import math\n",
    "math.factorial(4)"
   ]
  },
  {
   "cell_type": "code",
   "execution_count": null,
   "id": "18de8077-006e-442e-9399-23293f1ee8b2",
   "metadata": {},
   "outputs": [],
   "source": []
  }
 ],
 "metadata": {
  "kernelspec": {
   "display_name": "Python 3 (ipykernel)",
   "language": "python",
   "name": "python3"
  },
  "language_info": {
   "codemirror_mode": {
    "name": "ipython",
    "version": 3
   },
   "file_extension": ".py",
   "mimetype": "text/x-python",
   "name": "python",
   "nbconvert_exporter": "python",
   "pygments_lexer": "ipython3",
   "version": "3.13.0"
  }
 },
 "nbformat": 4,
 "nbformat_minor": 5
}
