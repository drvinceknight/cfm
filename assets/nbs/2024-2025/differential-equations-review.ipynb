{
 "cells": [
  {
   "cell_type": "code",
   "execution_count": 1,
   "id": "60b6ce6d-2f18-4c43-9e54-4ac51ac77f31",
   "metadata": {},
   "outputs": [
    {
     "data": {
      "text/latex": [
       "$\\displaystyle \\frac{d}{d x} y{\\left(x \\right)} = \\cos{\\left(x \\right)}$"
      ],
      "text/plain": [
       "Eq(Derivative(y(x), x), cos(x))"
      ]
     },
     "execution_count": 1,
     "metadata": {},
     "output_type": "execute_result"
    }
   ],
   "source": [
    "import sympy as sym\n",
    "\n",
    "x = sym.Symbol(\"x\")\n",
    "y = sym.Function(\"y\")\n",
    "\n",
    "differential_equation = sym.Eq(lhs=sym.diff(y(x), x), rhs=sym.cos(x))\n",
    "differential_equation"
   ]
  },
  {
   "cell_type": "code",
   "execution_count": 3,
   "id": "ae5d9f87-6325-4540-8331-7258e2c0427b",
   "metadata": {},
   "outputs": [],
   "source": [
    "general_solution = sym.dsolve(differential_equation, y(x))"
   ]
  },
  {
   "cell_type": "code",
   "execution_count": 4,
   "id": "9f62d48f-7b5e-4292-ba49-e64eb8fef82e",
   "metadata": {},
   "outputs": [
    {
     "data": {
      "text/latex": [
       "$\\displaystyle y{\\left(x \\right)} = C_{1} + \\sin{\\left(x \\right)}$"
      ],
      "text/plain": [
       "Eq(y(x), C1 + sin(x))"
      ]
     },
     "execution_count": 4,
     "metadata": {},
     "output_type": "execute_result"
    }
   ],
   "source": [
    "general_solution"
   ]
  },
  {
   "cell_type": "code",
   "execution_count": 8,
   "id": "c88bd04e-0cae-411d-ba4f-1c1c726b075f",
   "metadata": {},
   "outputs": [],
   "source": [
    "\n",
    "particular_solution = sym.dsolve(differential_equation, y(x), ics={y(sym.pi): 5})"
   ]
  },
  {
   "cell_type": "code",
   "execution_count": 9,
   "id": "2dbc1bff-5330-4593-84c4-519a0281ca6f",
   "metadata": {},
   "outputs": [
    {
     "data": {
      "text/latex": [
       "$\\displaystyle y{\\left(x \\right)} = \\sin{\\left(x \\right)} + 5$"
      ],
      "text/plain": [
       "Eq(y(x), sin(x) + 5)"
      ]
     },
     "execution_count": 9,
     "metadata": {},
     "output_type": "execute_result"
    }
   ],
   "source": [
    "particular_solution"
   ]
  },
  {
   "cell_type": "code",
   "execution_count": null,
   "id": "4dbadbd4-509e-4c36-9f24-173266f95f03",
   "metadata": {},
   "outputs": [],
   "source": []
  }
 ],
 "metadata": {
  "kernelspec": {
   "display_name": "Python 3 (ipykernel)",
   "language": "python",
   "name": "python3"
  },
  "language_info": {
   "codemirror_mode": {
    "name": "ipython",
    "version": 3
   },
   "file_extension": ".py",
   "mimetype": "text/x-python",
   "name": "python",
   "nbconvert_exporter": "python",
   "pygments_lexer": "ipython3",
   "version": "3.13.0"
  }
 },
 "nbformat": 4,
 "nbformat_minor": 5
}
