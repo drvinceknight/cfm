{
 "cells": [
  {
   "cell_type": "markdown",
   "id": "ba8aac68-d9fd-472a-9b92-19ea4f220997",
   "metadata": {},
   "source": [
    "Let us first write our differential equation:\n",
    "\n",
    "$$\n",
    "\\frac{dV(t)}{dt} = k e ^{-t}\n",
    "$$"
   ]
  },
  {
   "cell_type": "code",
   "execution_count": 13,
   "id": "810fde18-fec7-4713-a734-bcc592a2f5a6",
   "metadata": {},
   "outputs": [],
   "source": [
    "import sympy as sym\n",
    "\n",
    "t = sym.Symbol(\"t\")\n",
    "k = sym.Symbol(\"k\")\n",
    "V = sym.Function(\"V\")"
   ]
  },
  {
   "cell_type": "code",
   "execution_count": 14,
   "id": "6f9d501f-79bd-44ab-8944-d8d364da573d",
   "metadata": {},
   "outputs": [
    {
     "data": {
      "text/latex": [
       "$\\displaystyle \\frac{d}{d t} V{\\left(t \\right)}$"
      ],
      "text/plain": [
       "Derivative(V(t), t)"
      ]
     },
     "execution_count": 14,
     "metadata": {},
     "output_type": "execute_result"
    }
   ],
   "source": [
    "lhs = sym.diff(V(t), t)\n",
    "lhs"
   ]
  },
  {
   "cell_type": "code",
   "execution_count": 8,
   "id": "8b069143-ac32-44de-917c-a47320beca2e",
   "metadata": {},
   "outputs": [
    {
     "data": {
      "text/latex": [
       "$\\displaystyle k e^{- t}$"
      ],
      "text/plain": [
       "k*exp(-t)"
      ]
     },
     "execution_count": 8,
     "metadata": {},
     "output_type": "execute_result"
    }
   ],
   "source": [
    "rhs = k * sym.exp(- t)\n",
    "rhs"
   ]
  },
  {
   "cell_type": "code",
   "execution_count": 9,
   "id": "a9ea4fbd-a33d-41da-a76f-d313be344a07",
   "metadata": {},
   "outputs": [
    {
     "data": {
      "text/latex": [
       "$\\displaystyle \\frac{d}{d t} V{\\left(t \\right)} = k e^{- t}$"
      ],
      "text/plain": [
       "Eq(Derivative(V(t), t), k*exp(-t))"
      ]
     },
     "execution_count": 9,
     "metadata": {},
     "output_type": "execute_result"
    }
   ],
   "source": [
    "differential_equation = sym.Eq(lhs=lhs, rhs=rhs)\n",
    "differential_equation"
   ]
  },
  {
   "cell_type": "markdown",
   "id": "1b267a48-c28b-45e6-a4db-df54c9698045",
   "metadata": {},
   "source": [
    "Let us now solve this differential equation:"
   ]
  },
  {
   "cell_type": "code",
   "execution_count": 15,
   "id": "060f25f4-7c4f-4566-a318-316d9eaed4fc",
   "metadata": {},
   "outputs": [
    {
     "data": {
      "text/latex": [
       "$\\displaystyle V{\\left(t \\right)} = C_{1} - k e^{- t}$"
      ],
      "text/plain": [
       "Eq(V(t), C1 - k*exp(-t))"
      ]
     },
     "execution_count": 15,
     "metadata": {},
     "output_type": "execute_result"
    }
   ],
   "source": [
    "sym.dsolve(differential_equation, V(t))"
   ]
  },
  {
   "cell_type": "markdown",
   "id": "a6a06e9c-935a-48f1-9926-2f80c461734e",
   "metadata": {},
   "source": [
    "The question asked us to show that:\n",
    "\n",
    "$$\n",
    "V(t) = \\frac{-15 e ^ 3}{1 - e ^ 3}\\left(1 - e ^{-t}\\right)\n",
    "$$"
   ]
  },
  {
   "cell_type": "markdown",
   "id": "6989ebe4-8874-47d0-a576-744a219e170b",
   "metadata": {},
   "source": [
    "To do this, we will use our particular/boundary conditions:\n",
    "\n",
    "- $V(0) = 0$\n",
    "- $\\left.\\frac{dV(t)}{d(t)}\\right|_{t=3}=15$"
   ]
  },
  {
   "cell_type": "markdown",
   "id": "6a809b4c-6828-4bc2-a2e9-cbb97df4d341",
   "metadata": {},
   "source": [
    "The first condition can be used to find $C_1$:"
   ]
  },
  {
   "cell_type": "code",
   "execution_count": 16,
   "id": "ea74a3ac-6f58-4b5c-b649-6bf9b561d768",
   "metadata": {},
   "outputs": [],
   "source": [
    "condition = {V(0): 0}"
   ]
  },
  {
   "cell_type": "code",
   "execution_count": 21,
   "id": "971ca276-e9dc-4022-8840-fa6e0852c088",
   "metadata": {},
   "outputs": [
    {
     "data": {
      "text/latex": [
       "$\\displaystyle V{\\left(t \\right)} = k - k e^{- t}$"
      ],
      "text/plain": [
       "Eq(V(t), k - k*exp(-t))"
      ]
     },
     "execution_count": 21,
     "metadata": {},
     "output_type": "execute_result"
    }
   ],
   "source": [
    "particular_solution = sym.dsolve(differential_equation, V(t), ics=condition)\n",
    "particular_solution"
   ]
  },
  {
   "cell_type": "markdown",
   "id": "efd93622-0e74-4113-8a8d-1528718db60e",
   "metadata": {},
   "source": [
    "Now let us use the second boundary condition to find $k$."
   ]
  },
  {
   "cell_type": "code",
   "execution_count": 27,
   "id": "6ddccb19-81fb-4dd2-bbe3-5a5c5ade6d04",
   "metadata": {},
   "outputs": [
    {
     "data": {
      "text/latex": [
       "$\\displaystyle \\frac{k}{e^{3}} = 15$"
      ],
      "text/plain": [
       "Eq(k*exp(-3), 15)"
      ]
     },
     "execution_count": 27,
     "metadata": {},
     "output_type": "execute_result"
    }
   ],
   "source": [
    "lhs = sym.diff(particular_solution.rhs, t).subs({t: 3})\n",
    "rhs = 15\n",
    "equation = sym.Eq(lhs=lhs, rhs=rhs)\n",
    "equation"
   ]
  },
  {
   "cell_type": "code",
   "execution_count": 28,
   "id": "e24d7294-726e-47f6-9349-7f12ba442dfb",
   "metadata": {},
   "outputs": [
    {
     "data": {
      "text/latex": [
       "$\\displaystyle \\left\\{15 e^{3}\\right\\}$"
      ],
      "text/plain": [
       "{15*exp(3)}"
      ]
     },
     "execution_count": 28,
     "metadata": {},
     "output_type": "execute_result"
    }
   ],
   "source": [
    "sym.solveset(equation, k)"
   ]
  },
  {
   "cell_type": "code",
   "execution_count": 31,
   "id": "a2181180-da35-4c89-b3fa-6ff2b8d0c451",
   "metadata": {},
   "outputs": [
    {
     "data": {
      "text/latex": [
       "$\\displaystyle 15 e^{3} - 15 e^{3} e^{- t}$"
      ],
      "text/plain": [
       "15*exp(3) - 15*exp(3)*exp(-t)"
      ]
     },
     "execution_count": 31,
     "metadata": {},
     "output_type": "execute_result"
    }
   ],
   "source": [
    "particular_solution = particular_solution.rhs.subs({k: 15 * sym.exp(3)})\n",
    "particular_solution"
   ]
  },
  {
   "cell_type": "code",
   "execution_count": 32,
   "id": "a8e47cb2-a652-49a0-97f2-57e74926cbe0",
   "metadata": {},
   "outputs": [
    {
     "data": {
      "text/latex": [
       "$\\displaystyle 15 e^{3}$"
      ],
      "text/plain": [
       "15*exp(3)"
      ]
     },
     "execution_count": 32,
     "metadata": {},
     "output_type": "execute_result"
    }
   ],
   "source": [
    "sym.limit(particular_solution, t, sym.oo)"
   ]
  },
  {
   "cell_type": "code",
   "execution_count": 33,
   "id": "25c81e1b-2b37-4f33-995b-fc489e097b5f",
   "metadata": {},
   "outputs": [
    {
     "data": {
      "text/plain": [
       "301.28305384781504"
      ]
     },
     "execution_count": 33,
     "metadata": {},
     "output_type": "execute_result"
    }
   ],
   "source": [
    "float(_)"
   ]
  },
  {
   "cell_type": "markdown",
   "id": "3ede12ac-340a-4d78-a79e-8f3dd164c1c7",
   "metadata": {},
   "source": [
    "# Question 5 from text book\n",
    "\n",
    "The question is asking us to define the following differential equation:\n",
    "\n",
    "$$\n",
    "\\frac{dT}{dt} = k (T - T_R)\n",
    "$$"
   ]
  },
  {
   "cell_type": "code",
   "execution_count": 41,
   "id": "cbe3536c-e1c8-4b29-b659-97cddc290341",
   "metadata": {},
   "outputs": [
    {
     "data": {
      "text/latex": [
       "$\\displaystyle \\frac{d}{d t} T{\\left(t \\right)} = k \\left(- T_{R} + T{\\left(t \\right)}\\right)$"
      ],
      "text/plain": [
       "Eq(Derivative(T(t), t), k*(-T_R + T(t)))"
      ]
     },
     "execution_count": 41,
     "metadata": {},
     "output_type": "execute_result"
    }
   ],
   "source": [
    "T = sym.Function(\"T\")\n",
    "t = sym.Symbol(\"t\")\n",
    "T_R = sym.Symbol(\"T_R\")\n",
    "k = sym.Symbol(\"k\")\n",
    "\n",
    "lhs = sym.diff(T(t), t)\n",
    "rhs = k * (T(t) - T_R)\n",
    "differential_equation = sym.Eq(lhs=lhs, rhs=rhs)\n",
    "differential_equation"
   ]
  },
  {
   "cell_type": "code",
   "execution_count": 44,
   "id": "7f1dc1ca-d5ce-4f99-bb09-c6d415fd7d6f",
   "metadata": {},
   "outputs": [
    {
     "data": {
      "text/latex": [
       "$\\displaystyle T{\\left(t \\right)} = C_{1} e^{k t} + T_{R}$"
      ],
      "text/plain": [
       "Eq(T(t), C1*exp(k*t) + T_R)"
      ]
     },
     "execution_count": 44,
     "metadata": {},
     "output_type": "execute_result"
    }
   ],
   "source": [
    "sym.dsolve(differential_equation, T(t))"
   ]
  },
  {
   "cell_type": "code",
   "execution_count": 49,
   "id": "39bb75d6-fcbe-4c1e-8744-eacfee02ce59",
   "metadata": {},
   "outputs": [
    {
     "data": {
      "text/latex": [
       "$\\displaystyle T{\\left(t \\right)} = 80 e^{k t} + 20$"
      ],
      "text/plain": [
       "Eq(T(t), 80*exp(k*t) + 20)"
      ]
     },
     "execution_count": 49,
     "metadata": {},
     "output_type": "execute_result"
    }
   ],
   "source": [
    "condition = {T(0): 100}\n",
    "particular_solution = sym.dsolve(differential_equation, T(t), ics=condition).subs({T_R: 20})\n",
    "particular_solution"
   ]
  },
  {
   "cell_type": "code",
   "execution_count": 52,
   "id": "f30d9c67-3346-49db-bf2f-cbd89076d239",
   "metadata": {},
   "outputs": [
    {
     "data": {
      "text/latex": [
       "$\\displaystyle 80 e^{3 k} + 20 = 90$"
      ],
      "text/plain": [
       "Eq(80*exp(3*k) + 20, 90)"
      ]
     },
     "execution_count": 52,
     "metadata": {},
     "output_type": "execute_result"
    }
   ],
   "source": [
    "equation = sym.Eq(\n",
    "    lhs=particular_solution.rhs.subs({t: 3}),\n",
    "    rhs=90,\n",
    ")\n",
    "equation"
   ]
  },
  {
   "cell_type": "code",
   "execution_count": 53,
   "id": "a245dc38-faad-41ad-957e-8eeeabd8bc7e",
   "metadata": {},
   "outputs": [
    {
     "data": {
      "text/latex": [
       "$\\displaystyle \\left\\{\\frac{2 n i \\pi}{3} + \\frac{\\log{\\left(\\frac{7}{8} \\right)}}{3}\\; \\middle|\\; n \\in \\mathbb{Z}\\right\\}$"
      ],
      "text/plain": [
       "ImageSet(Lambda(_n, 2*_n*I*pi/3 + log(7/8)/3), Integers)"
      ]
     },
     "execution_count": 53,
     "metadata": {},
     "output_type": "execute_result"
    }
   ],
   "source": [
    "sym.solveset(equation, k)"
   ]
  },
  {
   "cell_type": "markdown",
   "id": "d9fccbff-5ca5-4de2-bb85-3135a9a6a194",
   "metadata": {},
   "source": [
    "We have an infinite amount of solutions, but a single real valued solution (when $n=0$)."
   ]
  },
  {
   "cell_type": "code",
   "execution_count": 56,
   "id": "9f1f71da-1fd8-4048-8c65-f943c621c571",
   "metadata": {},
   "outputs": [
    {
     "data": {
      "text/latex": [
       "$\\displaystyle \\frac{\\log{\\left(\\frac{7}{8} \\right)}}{3}$"
      ],
      "text/plain": [
       "log(7/8)/3"
      ]
     },
     "execution_count": 56,
     "metadata": {},
     "output_type": "execute_result"
    }
   ],
   "source": [
    "particular_k = sym.log(sym.S(7) / 8) / 3\n",
    "particular_k"
   ]
  },
  {
   "cell_type": "code",
   "execution_count": 60,
   "id": "013709dc-7e18-4ce3-9275-a718ad27e258",
   "metadata": {},
   "outputs": [
    {
     "data": {
      "text/latex": [
       "$\\displaystyle 80 e^{\\frac{t \\log{\\left(\\frac{7}{8} \\right)}}{3}} + 20 = 80$"
      ],
      "text/plain": [
       "Eq(80*exp(t*log(7/8)/3) + 20, 80)"
      ]
     },
     "execution_count": 60,
     "metadata": {},
     "output_type": "execute_result"
    }
   ],
   "source": [
    "equation = sym.Eq(\n",
    "    lhs=particular_solution.rhs.subs({k: particular_k}),\n",
    "    rhs=80,\n",
    ")\n",
    "equation"
   ]
  },
  {
   "cell_type": "code",
   "execution_count": 61,
   "id": "16594bb7-e1e6-4742-b116-b4b55c62cb89",
   "metadata": {},
   "outputs": [
    {
     "data": {
      "text/latex": [
       "$\\displaystyle \\left\\{\\frac{3 \\left(2 n i \\pi + \\log{\\left(\\frac{3}{4} \\right)}\\right)}{\\log{\\left(\\frac{7}{8} \\right)}}\\; \\middle|\\; n \\in \\mathbb{Z}\\right\\}$"
      ],
      "text/plain": [
       "ImageSet(Lambda(_n, 3*(2*_n*I*pi + log(3/4))/log(7/8)), Integers)"
      ]
     },
     "execution_count": 61,
     "metadata": {},
     "output_type": "execute_result"
    }
   ],
   "source": [
    "sym.solveset(equation, t)"
   ]
  },
  {
   "cell_type": "markdown",
   "id": "54cb0c52-3f83-4bcf-9192-d87d0f30476b",
   "metadata": {},
   "source": [
    "The only real valued solution is when $n=0$:"
   ]
  },
  {
   "cell_type": "code",
   "execution_count": 63,
   "id": "f3b99d3b-f243-4655-8c98-120ed02519a1",
   "metadata": {},
   "outputs": [
    {
     "data": {
      "text/plain": [
       "6.463245835997122"
      ]
     },
     "execution_count": 63,
     "metadata": {},
     "output_type": "execute_result"
    }
   ],
   "source": [
    "import math\n",
    "\n",
    "3 * math.log(3 / 4) / math.log(7 / 8)"
   ]
  },
  {
   "cell_type": "code",
   "execution_count": null,
   "id": "693dafb4-2663-4c4a-b324-659bd03a5951",
   "metadata": {},
   "outputs": [],
   "source": []
  }
 ],
 "metadata": {
  "kernelspec": {
   "display_name": "Python 3 (ipykernel)",
   "language": "python",
   "name": "python3"
  },
  "language_info": {
   "codemirror_mode": {
    "name": "ipython",
    "version": 3
   },
   "file_extension": ".py",
   "mimetype": "text/x-python",
   "name": "python",
   "nbconvert_exporter": "python",
   "pygments_lexer": "ipython3",
   "version": "3.13.0"
  }
 },
 "nbformat": 4,
 "nbformat_minor": 5
}
