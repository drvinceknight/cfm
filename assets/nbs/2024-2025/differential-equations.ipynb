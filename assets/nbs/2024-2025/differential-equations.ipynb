{
 "cells": [
  {
   "cell_type": "markdown",
   "id": "b16c7b9d-025a-4b1d-84c7-21292e385d1e",
   "metadata": {},
   "source": [
    "Obtain the general solution to the following differential equation:\n",
    "\n",
    "$$\\frac{dy}{dx}=3y^2-5xy^2$$\n",
    "\n",
    "Obtain the particular solution given that $y(3)=4$.\n"
   ]
  },
  {
   "cell_type": "markdown",
   "id": "9fbdf693-5876-431c-8e33-873f42694071",
   "metadata": {},
   "source": [
    "Let us just try to see if $y=x ^ 3$ is a solution to this differential equation:"
   ]
  },
  {
   "cell_type": "code",
   "execution_count": 7,
   "id": "15045f7a-045a-4b26-8eac-0c7c074410b4",
   "metadata": {},
   "outputs": [
    {
     "data": {
      "text/latex": [
       "$\\displaystyle x^{3}$"
      ],
      "text/plain": [
       "x**3"
      ]
     },
     "execution_count": 7,
     "metadata": {},
     "output_type": "execute_result"
    }
   ],
   "source": [
    "import sympy as sym\n",
    "\n",
    "x = sym.Symbol(\"x\")\n",
    "expression = x ** 3\n",
    "expression"
   ]
  },
  {
   "cell_type": "code",
   "execution_count": 8,
   "id": "cf02f765-7a6b-4e95-bd65-b0c669608f26",
   "metadata": {},
   "outputs": [
    {
     "data": {
      "text/latex": [
       "$\\displaystyle 3 x^{2}$"
      ],
      "text/plain": [
       "3*x**2"
      ]
     },
     "execution_count": 8,
     "metadata": {},
     "output_type": "execute_result"
    }
   ],
   "source": [
    "lhs = sym.diff(expression, x)\n",
    "lhs"
   ]
  },
  {
   "cell_type": "code",
   "execution_count": 9,
   "id": "ba6cf69f-4cab-4c4e-a69a-4316e7510fbd",
   "metadata": {},
   "outputs": [
    {
     "data": {
      "text/latex": [
       "$\\displaystyle - 5 x^{7} + 3 x^{6}$"
      ],
      "text/plain": [
       "-5*x**7 + 3*x**6"
      ]
     },
     "execution_count": 9,
     "metadata": {},
     "output_type": "execute_result"
    }
   ],
   "source": [
    "rhs = 3 * expression ** 2 - 5 * x * expression ** 2\n",
    "rhs"
   ]
  },
  {
   "cell_type": "markdown",
   "id": "a826e739-de2f-4a11-9aae-211b9aec90bb",
   "metadata": {},
   "source": [
    "These are clearly not equal."
   ]
  },
  {
   "cell_type": "markdown",
   "id": "cd4a684b-ec1f-4d70-b23c-eebde0bbce00",
   "metadata": {},
   "source": [
    "To solve this differential equation in Sympy, we need to first be able to write it down. This start by defining the abstract function $y$:"
   ]
  },
  {
   "cell_type": "code",
   "execution_count": 10,
   "id": "56d7e05a-8a6a-45e1-b09a-efe2ba792972",
   "metadata": {},
   "outputs": [
    {
     "data": {
      "text/plain": [
       "y"
      ]
     },
     "execution_count": 10,
     "metadata": {},
     "output_type": "execute_result"
    }
   ],
   "source": [
    "y = sym.Function(\"y\")\n",
    "y"
   ]
  },
  {
   "cell_type": "code",
   "execution_count": 12,
   "id": "74b5a33c-6959-49c4-bed3-fb13ca376485",
   "metadata": {},
   "outputs": [
    {
     "data": {
      "text/latex": [
       "$\\displaystyle \\frac{d}{d x} y{\\left(x \\right)}$"
      ],
      "text/plain": [
       "Derivative(y(x), x)"
      ]
     },
     "execution_count": 12,
     "metadata": {},
     "output_type": "execute_result"
    }
   ],
   "source": [
    "sym.diff(y(x), x)"
   ]
  },
  {
   "cell_type": "markdown",
   "id": "591f83c3-de4e-42da-8009-1c949ac3ae23",
   "metadata": {},
   "source": [
    "We can now write down the differential equation:"
   ]
  },
  {
   "cell_type": "code",
   "execution_count": 14,
   "id": "dcd0c583-644b-4205-a4fb-d93f42c9578e",
   "metadata": {},
   "outputs": [
    {
     "data": {
      "text/latex": [
       "$\\displaystyle - 5 x y^{2}{\\left(x \\right)} + 3 y^{2}{\\left(x \\right)}$"
      ],
      "text/plain": [
       "-5*x*y(x)**2 + 3*y(x)**2"
      ]
     },
     "execution_count": 14,
     "metadata": {},
     "output_type": "execute_result"
    }
   ],
   "source": [
    "lhs = sym.diff(y(x), x)\n",
    "rhs = 3 * (y(x)) ** 2 - 5 * x * y(x) ** 2\n",
    "rhs"
   ]
  },
  {
   "cell_type": "code",
   "execution_count": 15,
   "id": "a637124c-76fd-4244-b339-9e65007699bf",
   "metadata": {},
   "outputs": [
    {
     "data": {
      "text/latex": [
       "$\\displaystyle \\frac{d}{d x} y{\\left(x \\right)} = - 5 x y^{2}{\\left(x \\right)} + 3 y^{2}{\\left(x \\right)}$"
      ],
      "text/plain": [
       "Eq(Derivative(y(x), x), -5*x*y(x)**2 + 3*y(x)**2)"
      ]
     },
     "execution_count": 15,
     "metadata": {},
     "output_type": "execute_result"
    }
   ],
   "source": [
    "differential_equation = sym.Eq(lhs, rhs)\n",
    "differential_equation"
   ]
  },
  {
   "cell_type": "markdown",
   "id": "498613e1-2e88-4c92-8d75-a7eea8a5465a",
   "metadata": {},
   "source": [
    "We can now solve this equation:"
   ]
  },
  {
   "cell_type": "code",
   "execution_count": 16,
   "id": "ff81e9bc-e537-4f3a-84aa-e53158ce1ad6",
   "metadata": {},
   "outputs": [
    {
     "data": {
      "text/latex": [
       "$\\displaystyle y{\\left(x \\right)} = \\frac{2}{C_{1} + 5 x^{2} - 6 x}$"
      ],
      "text/plain": [
       "Eq(y(x), 2/(C1 + 5*x**2 - 6*x))"
      ]
     },
     "execution_count": 16,
     "metadata": {},
     "output_type": "execute_result"
    }
   ],
   "source": [
    "sym.dsolve(differential_equation, y(x))"
   ]
  },
  {
   "cell_type": "markdown",
   "id": "8cdc93f9-e053-4852-800a-d991b28e5a05",
   "metadata": {},
   "source": [
    "Let us check this \"by hand\":"
   ]
  },
  {
   "cell_type": "code",
   "execution_count": 20,
   "id": "814e4752-fe4f-4b06-9315-92b406fe2c7a",
   "metadata": {},
   "outputs": [
    {
     "data": {
      "text/latex": [
       "$\\displaystyle \\frac{2}{c_{1} + 5 x^{2} - 6 x}$"
      ],
      "text/plain": [
       "2/(c1 + 5*x**2 - 6*x)"
      ]
     },
     "execution_count": 20,
     "metadata": {},
     "output_type": "execute_result"
    }
   ],
   "source": [
    "c1 = sym.Symbol(\"c1\")\n",
    "\n",
    "expression  = 2 / (c1+ 5 * x ** 2 - 6 * x)\n",
    "expression"
   ]
  },
  {
   "cell_type": "code",
   "execution_count": 21,
   "id": "9b34e634-81d0-4dbc-873b-cd36b488a8c1",
   "metadata": {},
   "outputs": [
    {
     "data": {
      "text/latex": [
       "$\\displaystyle \\frac{2 \\left(6 - 10 x\\right)}{\\left(c_{1} + 5 x^{2} - 6 x\\right)^{2}}$"
      ],
      "text/plain": [
       "2*(6 - 10*x)/(c1 + 5*x**2 - 6*x)**2"
      ]
     },
     "execution_count": 21,
     "metadata": {},
     "output_type": "execute_result"
    }
   ],
   "source": [
    "lhs = sym.diff(expression, x)\n",
    "lhs"
   ]
  },
  {
   "cell_type": "code",
   "execution_count": 22,
   "id": "48a1fdfd-9e92-4c90-b695-4641364d1cd4",
   "metadata": {},
   "outputs": [
    {
     "data": {
      "text/latex": [
       "$\\displaystyle - \\frac{20 x}{\\left(c_{1} + 5 x^{2} - 6 x\\right)^{2}} + \\frac{12}{\\left(c_{1} + 5 x^{2} - 6 x\\right)^{2}}$"
      ],
      "text/plain": [
       "-20*x/(c1 + 5*x**2 - 6*x)**2 + 12/(c1 + 5*x**2 - 6*x)**2"
      ]
     },
     "execution_count": 22,
     "metadata": {},
     "output_type": "execute_result"
    }
   ],
   "source": [
    "rhs = 3 * expression ** 2 - 5 * x * expression ** 2\n",
    "rhs"
   ]
  },
  {
   "cell_type": "code",
   "execution_count": 23,
   "id": "d368c6c3-b387-4052-bf77-ed921f19760e",
   "metadata": {},
   "outputs": [
    {
     "data": {
      "text/latex": [
       "$\\displaystyle y{\\left(x \\right)} = \\frac{2}{C_{1} + 5 x^{2} - 6 x}$"
      ],
      "text/plain": [
       "Eq(y(x), 2/(C1 + 5*x**2 - 6*x))"
      ]
     },
     "execution_count": 23,
     "metadata": {},
     "output_type": "execute_result"
    }
   ],
   "source": [
    "sym.dsolve(differential_equation, y(x))"
   ]
  },
  {
   "cell_type": "markdown",
   "id": "0d22b0f7-64b2-45ce-b6f2-e46885396f9b",
   "metadata": {},
   "source": [
    "We know that $y(3)=4$"
   ]
  },
  {
   "cell_type": "code",
   "execution_count": 26,
   "id": "1d4af5fd-7d83-49f8-91e2-6bf060e19f28",
   "metadata": {},
   "outputs": [
    {
     "data": {
      "text/latex": [
       "$\\displaystyle \\frac{2}{c_{1} + 27} = 4$"
      ],
      "text/plain": [
       "Eq(2/(c1 + 27), 4)"
      ]
     },
     "execution_count": 26,
     "metadata": {},
     "output_type": "execute_result"
    }
   ],
   "source": [
    "lhs = expression.subs({x: 3})\n",
    "rhs = 4\n",
    "particular_equation = sym.Eq(lhs=lhs, rhs=rhs)\n",
    "particular_equation"
   ]
  },
  {
   "cell_type": "code",
   "execution_count": 27,
   "id": "0c424925-a92f-409a-905f-79caa02ec971",
   "metadata": {},
   "outputs": [
    {
     "data": {
      "text/latex": [
       "$\\displaystyle \\left\\{- \\frac{53}{2}\\right\\}$"
      ],
      "text/plain": [
       "{-53/2}"
      ]
     },
     "execution_count": 27,
     "metadata": {},
     "output_type": "execute_result"
    }
   ],
   "source": [
    "sym.solveset(particular_equation, c1)"
   ]
  },
  {
   "cell_type": "markdown",
   "id": "0b2e01dc-cf2c-47c3-a3d3-6060d3263b78",
   "metadata": {},
   "source": [
    "We can also do this directly within the `dsolve` command:"
   ]
  },
  {
   "cell_type": "code",
   "execution_count": 28,
   "id": "55cb6683-a2cb-4c96-89ff-06b6cf0d3409",
   "metadata": {},
   "outputs": [
    {
     "data": {
      "text/latex": [
       "$\\displaystyle y{\\left(x \\right)} = \\frac{2}{5 x^{2} - 6 x - \\frac{53}{2}}$"
      ],
      "text/plain": [
       "Eq(y(x), 2/(5*x**2 - 6*x - 53/2))"
      ]
     },
     "execution_count": 28,
     "metadata": {},
     "output_type": "execute_result"
    }
   ],
   "source": [
    "condition = {y(3): 4}\n",
    "sym.dsolve(differential_equation, ics=condition)"
   ]
  },
  {
   "cell_type": "code",
   "execution_count": null,
   "id": "ade8f035-c4a0-488a-98b3-54c147b52a84",
   "metadata": {},
   "outputs": [],
   "source": []
  }
 ],
 "metadata": {
  "kernelspec": {
   "display_name": "Python 3 (ipykernel)",
   "language": "python",
   "name": "python3"
  },
  "language_info": {
   "codemirror_mode": {
    "name": "ipython",
    "version": 3
   },
   "file_extension": ".py",
   "mimetype": "text/x-python",
   "name": "python",
   "nbconvert_exporter": "python",
   "pygments_lexer": "ipython3",
   "version": "3.13.0"
  }
 },
 "nbformat": 4,
 "nbformat_minor": 5
}
