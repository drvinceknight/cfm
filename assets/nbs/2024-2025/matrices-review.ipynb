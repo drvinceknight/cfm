{
 "cells": [
  {
   "cell_type": "code",
   "execution_count": 1,
   "id": "d499c23a-de3b-41c5-869b-912cd6a2805a",
   "metadata": {},
   "outputs": [
    {
     "data": {
      "text/latex": [
       "$\\displaystyle \\left[\\begin{matrix}a & 3 & 1\\\\a & 2 a & 3\\\\-3 & 2 & 2 a\\end{matrix}\\right]$"
      ],
      "text/plain": [
       "Matrix([\n",
       "[ a,   3,   1],\n",
       "[ a, 2*a,   3],\n",
       "[-3,   2, 2*a]])"
      ]
     },
     "execution_count": 1,
     "metadata": {},
     "output_type": "execute_result"
    }
   ],
   "source": [
    "import sympy as sym\n",
    "\n",
    "\n",
    "a = sym.Symbol(\"a\")\n",
    "A = sym.Matrix(\n",
    "    (\n",
    "        (a, 3, 1),\n",
    "        (a, 2 * a, 3),\n",
    "        (-3, 2, 2 * a),\n",
    "    )\n",
    ")\n",
    "A"
   ]
  },
  {
   "cell_type": "code",
   "execution_count": 2,
   "id": "5ab92565-9718-4643-b387-d437a6343020",
   "metadata": {},
   "outputs": [
    {
     "data": {
      "text/latex": [
       "$\\displaystyle 4 a^{3} - 6 a^{2} + 2 a - 27$"
      ],
      "text/plain": [
       "4*a**3 - 6*a**2 + 2*a - 27"
      ]
     },
     "execution_count": 2,
     "metadata": {},
     "output_type": "execute_result"
    }
   ],
   "source": [
    "determinant = A.det()\n",
    "determinant"
   ]
  },
  {
   "cell_type": "code",
   "execution_count": 3,
   "id": "ff678596-a9a4-4c1a-8f35-00647b8ac23b",
   "metadata": {},
   "outputs": [],
   "source": [
    "equation = sym.Eq(lhs=determinant, rhs=0)\n",
    "singular_values_of_a = sym.solveset(equation, a)"
   ]
  },
  {
   "cell_type": "code",
   "execution_count": 4,
   "id": "3f4298db-88e5-4dcf-b5e9-c4896b31ac66",
   "metadata": {},
   "outputs": [
    {
     "data": {
      "text/latex": [
       "$\\displaystyle \\left\\{\\frac{1}{12 \\sqrt[3]{\\frac{\\sqrt{59046}}{72} + \\frac{27}{8}}} + \\frac{1}{2} + \\sqrt[3]{\\frac{\\sqrt{59046}}{72} + \\frac{27}{8}}, - \\frac{\\sqrt[3]{\\frac{\\sqrt{59046}}{72} + \\frac{27}{8}}}{2} - \\frac{1}{24 \\sqrt[3]{\\frac{\\sqrt{59046}}{72} + \\frac{27}{8}}} + \\frac{1}{2} + i \\left(- \\frac{\\sqrt{3}}{24 \\sqrt[3]{\\frac{\\sqrt{59046}}{72} + \\frac{27}{8}}} + \\frac{\\sqrt{3} \\sqrt[3]{\\frac{\\sqrt{59046}}{72} + \\frac{27}{8}}}{2}\\right), - \\frac{\\sqrt[3]{\\frac{\\sqrt{59046}}{72} + \\frac{27}{8}}}{2} - \\frac{1}{24 \\sqrt[3]{\\frac{\\sqrt{59046}}{72} + \\frac{27}{8}}} + \\frac{1}{2} + i \\left(- \\frac{\\sqrt{3} \\sqrt[3]{\\frac{\\sqrt{59046}}{72} + \\frac{27}{8}}}{2} + \\frac{\\sqrt{3}}{24 \\sqrt[3]{\\frac{\\sqrt{59046}}{72} + \\frac{27}{8}}}\\right)\\right\\}$"
      ],
      "text/plain": [
       "{1/(12*(sqrt(59046)/72 + 27/8)**(1/3)) + 1/2 + (sqrt(59046)/72 + 27/8)**(1/3), -(sqrt(59046)/72 + 27/8)**(1/3)/2 - 1/(24*(sqrt(59046)/72 + 27/8)**(1/3)) + 1/2 + I*(-sqrt(3)/(24*(sqrt(59046)/72 + 27/8)**(1/3)) + sqrt(3)*(sqrt(59046)/72 + 27/8)**(1/3)/2), -(sqrt(59046)/72 + 27/8)**(1/3)/2 - 1/(24*(sqrt(59046)/72 + 27/8)**(1/3)) + 1/2 + I*(-sqrt(3)*(sqrt(59046)/72 + 27/8)**(1/3)/2 + sqrt(3)/(24*(sqrt(59046)/72 + 27/8)**(1/3)))}"
      ]
     },
     "execution_count": 4,
     "metadata": {},
     "output_type": "execute_result"
    }
   ],
   "source": [
    "singular_values_of_a"
   ]
  },
  {
   "cell_type": "code",
   "execution_count": 5,
   "id": "96bfb065-cc10-49f1-94cc-03fdf662e5aa",
   "metadata": {},
   "outputs": [
    {
     "data": {
      "text/plain": [
       "(1/(12*(sqrt(59046)/72 + 27/8)**(1/3)) + 1/2 + (sqrt(59046)/72 + 27/8)**(1/3),\n",
       " -(sqrt(59046)/72 + 27/8)**(1/3)/2 - 1/(24*(sqrt(59046)/72 + 27/8)**(1/3)) + 1/2 + I*(-sqrt(3)/(24*(sqrt(59046)/72 + 27/8)**(1/3)) + sqrt(3)*(sqrt(59046)/72 + 27/8)**(1/3)/2),\n",
       " -(sqrt(59046)/72 + 27/8)**(1/3)/2 - 1/(24*(sqrt(59046)/72 + 27/8)**(1/3)) + 1/2 + I*(-sqrt(3)*(sqrt(59046)/72 + 27/8)**(1/3)/2 + sqrt(3)/(24*(sqrt(59046)/72 + 27/8)**(1/3))))"
      ]
     },
     "execution_count": 5,
     "metadata": {},
     "output_type": "execute_result"
    }
   ],
   "source": [
    "tuple(singular_values_of_a)"
   ]
  },
  {
   "cell_type": "code",
   "execution_count": 28,
   "id": "507ecc48-ca31-4c2b-941e-6bfdd5450218",
   "metadata": {},
   "outputs": [
    {
     "data": {
      "text/plain": [
       "[1/(12*(sqrt(59046)/72 + 27/8)**(1/3)) + 1/2 + (sqrt(59046)/72 + 27/8)**(1/3)]"
      ]
     },
     "execution_count": 28,
     "metadata": {},
     "output_type": "execute_result"
    }
   ],
   "source": [
    "[root for root in singular_values_of_a if root.is_real is True]"
   ]
  },
  {
   "cell_type": "code",
   "execution_count": 26,
   "id": "f2f49669-5805-4a2d-9269-b4fac5c07bb3",
   "metadata": {},
   "outputs": [
    {
     "data": {
      "text/latex": [
       "$\\displaystyle \\left[\\begin{matrix}a & 3 & 1\\\\a & 2 a & 3\\\\-3 & 2 & 2 a\\end{matrix}\\right]$"
      ],
      "text/plain": [
       "Matrix([\n",
       "[ a,   3,   1],\n",
       "[ a, 2*a,   3],\n",
       "[-3,   2, 2*a]])"
      ]
     },
     "execution_count": 26,
     "metadata": {},
     "output_type": "execute_result"
    }
   ],
   "source": [
    "A"
   ]
  },
  {
   "cell_type": "code",
   "execution_count": 20,
   "id": "57c64b64-e371-4c2f-855d-06e2212d3eb2",
   "metadata": {},
   "outputs": [
    {
     "data": {
      "text/latex": [
       "$\\displaystyle 3 \\pi + 5 i$"
      ],
      "text/plain": [
       "3*pi + 5*I"
      ]
     },
     "execution_count": 20,
     "metadata": {},
     "output_type": "execute_result"
    }
   ],
   "source": [
    "number = sym.I * 5 + 3 * sym.pi\n",
    "number"
   ]
  },
  {
   "cell_type": "code",
   "execution_count": 21,
   "id": "274270ef-dd0b-4a9b-9382-292d338519f4",
   "metadata": {},
   "outputs": [
    {
     "data": {
      "text/plain": [
       "False"
      ]
     },
     "execution_count": 21,
     "metadata": {},
     "output_type": "execute_result"
    }
   ],
   "source": [
    "number.is_real"
   ]
  },
  {
   "cell_type": "code",
   "execution_count": 22,
   "id": "0090d0d0-0d2f-4729-9ce6-2490e524e326",
   "metadata": {},
   "outputs": [
    {
     "data": {
      "text/plain": [
       "True"
      ]
     },
     "execution_count": 22,
     "metadata": {},
     "output_type": "execute_result"
    }
   ],
   "source": [
    "sym.pi.is_real"
   ]
  },
  {
   "cell_type": "code",
   "execution_count": 10,
   "id": "5f281f53-0edd-4bff-b197-5b22ae38ca0f",
   "metadata": {},
   "outputs": [
    {
     "data": {
      "text/plain": [
       "\u001b[0;31mType:\u001b[0m        property\n",
       "\u001b[0;31mString form:\u001b[0m <property object at 0x107acd530>\n",
       "\u001b[0;31mDocstring:\u001b[0m   <no docstring>"
      ]
     },
     "metadata": {},
     "output_type": "display_data"
    }
   ],
   "source": [
    "number.is_real?"
   ]
  },
  {
   "cell_type": "code",
   "execution_count": 12,
   "id": "6d577cff-d731-45b5-b7fc-e415903e9875",
   "metadata": {},
   "outputs": [
    {
     "ename": "TypeError",
     "evalue": "Cannot convert complex to float",
     "output_type": "error",
     "traceback": [
      "\u001b[0;31m---------------------------------------------------------------------------\u001b[0m",
      "\u001b[0;31mTypeError\u001b[0m                                 Traceback (most recent call last)",
      "Cell \u001b[0;32mIn[12], line 1\u001b[0m\n\u001b[0;32m----> 1\u001b[0m \u001b[38;5;28;43mfloat\u001b[39;49m\u001b[43m(\u001b[49m\u001b[43mnumber\u001b[49m\u001b[43m)\u001b[49m\n",
      "File \u001b[0;32m/Library/Frameworks/Python.framework/Versions/3.13/lib/python3.13/site-packages/sympy/core/expr.py:339\u001b[0m, in \u001b[0;36mExpr.__float__\u001b[0;34m(self)\u001b[0m\n\u001b[1;32m    337\u001b[0m     \u001b[38;5;28;01mreturn\u001b[39;00m \u001b[38;5;28mfloat\u001b[39m(result)\n\u001b[1;32m    338\u001b[0m \u001b[38;5;28;01mif\u001b[39;00m result\u001b[38;5;241m.\u001b[39mis_number \u001b[38;5;129;01mand\u001b[39;00m result\u001b[38;5;241m.\u001b[39mas_real_imag()[\u001b[38;5;241m1\u001b[39m]:\n\u001b[0;32m--> 339\u001b[0m     \u001b[38;5;28;01mraise\u001b[39;00m \u001b[38;5;167;01mTypeError\u001b[39;00m(\u001b[38;5;124m\"\u001b[39m\u001b[38;5;124mCannot convert complex to float\u001b[39m\u001b[38;5;124m\"\u001b[39m)\n\u001b[1;32m    340\u001b[0m \u001b[38;5;28;01mraise\u001b[39;00m \u001b[38;5;167;01mTypeError\u001b[39;00m(\u001b[38;5;124m\"\u001b[39m\u001b[38;5;124mCannot convert expression to float\u001b[39m\u001b[38;5;124m\"\u001b[39m)\n",
      "\u001b[0;31mTypeError\u001b[0m: Cannot convert complex to float"
     ]
    }
   ],
   "source": [
    "float(number)"
   ]
  },
  {
   "cell_type": "code",
   "execution_count": 13,
   "id": "c9edcbe5-dff4-4dfa-be46-758ccfbcfb27",
   "metadata": {},
   "outputs": [],
   "source": [
    "def give_me_the_number_3():\n",
    "    return 3"
   ]
  },
  {
   "cell_type": "code",
   "execution_count": 15,
   "id": "3c8162b5-0a06-4f2d-8fcd-4e721c34b624",
   "metadata": {},
   "outputs": [
    {
     "data": {
      "text/plain": [
       "3"
      ]
     },
     "execution_count": 15,
     "metadata": {},
     "output_type": "execute_result"
    }
   ],
   "source": [
    "give_me_the_number_3()"
   ]
  },
  {
   "cell_type": "code",
   "execution_count": 16,
   "id": "7a76dcf0-c170-47e4-a44c-1a83d39d5609",
   "metadata": {},
   "outputs": [],
   "source": []
  },
  {
   "cell_type": "code",
   "execution_count": 17,
   "id": "81acb9f8-8f1b-4e6c-b42a-6bdaad3b0480",
   "metadata": {},
   "outputs": [
    {
     "ename": "TypeError",
     "evalue": "'int' object is not callable",
     "output_type": "error",
     "traceback": [
      "\u001b[0;31m---------------------------------------------------------------------------\u001b[0m",
      "\u001b[0;31mTypeError\u001b[0m                                 Traceback (most recent call last)",
      "Cell \u001b[0;32mIn[17], line 1\u001b[0m\n\u001b[0;32m----> 1\u001b[0m \u001b[43mthe_number_3\u001b[49m\u001b[43m(\u001b[49m\u001b[43m)\u001b[49m\n",
      "\u001b[0;31mTypeError\u001b[0m: 'int' object is not callable"
     ]
    }
   ],
   "source": [
    "the_number_3()"
   ]
  },
  {
   "cell_type": "code",
   "execution_count": 18,
   "id": "68ba3e12-af0f-43fa-8ef3-4ba5bc0f2f8c",
   "metadata": {},
   "outputs": [
    {
     "data": {
      "text/plain": [
       "3"
      ]
     },
     "execution_count": 18,
     "metadata": {},
     "output_type": "execute_result"
    }
   ],
   "source": [
    "the_number_3"
   ]
  },
  {
   "cell_type": "code",
   "execution_count": null,
   "id": "fb0e4395-3bea-496c-913c-92f1b02a041c",
   "metadata": {},
   "outputs": [],
   "source": []
  },
  {
   "cell_type": "markdown",
   "id": "68a9591a-d374-4a23-ac87-21d81de20f1d",
   "metadata": {},
   "source": [
    "At the end of class someone came up to me and asked about the interpretation of the determinant of a matrix.\n",
    "\n",
    "This is some code I used to show how the determinant is used in the calculation of the inverse of a matrix."
   ]
  },
  {
   "cell_type": "code",
   "execution_count": 30,
   "id": "d27ccf56-ede5-4aec-a27d-61c906c81d7b",
   "metadata": {},
   "outputs": [
    {
     "data": {
      "text/latex": [
       "$\\displaystyle \\left[\\begin{matrix}\\frac{d}{a d - b c} & - \\frac{b}{a d - b c}\\\\- \\frac{c}{a d - b c} & \\frac{a}{a d - b c}\\end{matrix}\\right]$"
      ],
      "text/plain": [
       "Matrix([\n",
       "[ d/(a*d - b*c), -b/(a*d - b*c)],\n",
       "[-c/(a*d - b*c),  a/(a*d - b*c)]])"
      ]
     },
     "execution_count": 30,
     "metadata": {},
     "output_type": "execute_result"
    }
   ],
   "source": [
    "A.inv()"
   ]
  },
  {
   "cell_type": "code",
   "execution_count": 31,
   "id": "c6e586df-ae86-4878-971c-7fdced801839",
   "metadata": {},
   "outputs": [
    {
     "data": {
      "text/latex": [
       "$\\displaystyle a d - b c$"
      ],
      "text/plain": [
       "a*d - b*c"
      ]
     },
     "execution_count": 31,
     "metadata": {},
     "output_type": "execute_result"
    }
   ],
   "source": [
    "A.det()"
   ]
  },
  {
   "cell_type": "code",
   "execution_count": null,
   "id": "eaa7af05-da19-4ac3-8154-ee70cf9075e9",
   "metadata": {},
   "outputs": [],
   "source": []
  }
 ],
 "metadata": {
  "kernelspec": {
   "display_name": "Python 3 (ipykernel)",
   "language": "python",
   "name": "python3"
  },
  "language_info": {
   "codemirror_mode": {
    "name": "ipython",
    "version": 3
   },
   "file_extension": ".py",
   "mimetype": "text/x-python",
   "name": "python",
   "nbconvert_exporter": "python",
   "pygments_lexer": "ipython3",
   "version": "3.13.0"
  }
 },
 "nbformat": 4,
 "nbformat_minor": 5
}
