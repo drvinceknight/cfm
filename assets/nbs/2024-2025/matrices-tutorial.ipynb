{
 "cells": [
  {
   "cell_type": "code",
   "execution_count": 1,
   "id": "dd513f19-87d9-4f94-8a64-9db9f76849e1",
   "metadata": {},
   "outputs": [],
   "source": [
    "import sympy as sym"
   ]
  },
  {
   "cell_type": "markdown",
   "id": "61bbd094-ee71-4ef5-9dfa-4333a3e44526",
   "metadata": {},
   "source": [
    "Let us start by defining our matrix $a$:"
   ]
  },
  {
   "cell_type": "code",
   "execution_count": 4,
   "id": "cc27943c-bd58-4b78-89e1-af0da920af95",
   "metadata": {},
   "outputs": [
    {
     "data": {
      "text/latex": [
       "$\\displaystyle a$"
      ],
      "text/plain": [
       "a"
      ]
     },
     "execution_count": 4,
     "metadata": {},
     "output_type": "execute_result"
    }
   ],
   "source": [
    "a = sym.Symbol(\"a\")\n",
    "a"
   ]
  },
  {
   "cell_type": "code",
   "execution_count": 5,
   "id": "dc56c10f-eb23-48ed-978a-0499732f32ea",
   "metadata": {},
   "outputs": [
    {
     "data": {
      "text/latex": [
       "$\\displaystyle \\left[\\begin{matrix}a & 1 & 1\\\\1 & a & 1\\\\1 & 1 & 2\\end{matrix}\\right]$"
      ],
      "text/plain": [
       "Matrix([\n",
       "[a, 1, 1],\n",
       "[1, a, 1],\n",
       "[1, 1, 2]])"
      ]
     },
     "execution_count": 5,
     "metadata": {},
     "output_type": "execute_result"
    }
   ],
   "source": [
    "A = sym.Matrix(\n",
    "    (\n",
    "        (a, 1, 1),\n",
    "        (1, a, 1),\n",
    "        (1, 1, 2),\n",
    "    )\n",
    ")\n",
    "A"
   ]
  },
  {
   "cell_type": "markdown",
   "id": "ab1d062b-283e-4aaa-b3a9-d41be8c77589",
   "metadata": {},
   "source": [
    "Now let us compute the determinant:"
   ]
  },
  {
   "cell_type": "code",
   "execution_count": 13,
   "id": "2813b0f4-9af3-450c-a028-feff1b6a3a13",
   "metadata": {},
   "outputs": [
    {
     "data": {
      "text/latex": [
       "$\\displaystyle 2 a^{2} - 2 a$"
      ],
      "text/plain": [
       "2*a**2 - 2*a"
      ]
     },
     "execution_count": 13,
     "metadata": {},
     "output_type": "execute_result"
    }
   ],
   "source": [
    "determinant = A.det()\n",
    "determinant"
   ]
  },
  {
   "cell_type": "markdown",
   "id": "30a85956-a2d2-430b-a182-4706d95d1deb",
   "metadata": {},
   "source": [
    "The definition of a singular matrix is a matrix with determinant 0. Thus to identify the values of $a$ for which $A$ is singular we need to solve the equation $\\text{det}(A)=0$."
   ]
  },
  {
   "cell_type": "code",
   "execution_count": 14,
   "id": "1eaf5d5e-2caa-421f-ad88-7813d1eb1d69",
   "metadata": {},
   "outputs": [
    {
     "data": {
      "text/latex": [
       "$\\displaystyle \\left\\{0, 1\\right\\}$"
      ],
      "text/plain": [
       "{0, 1}"
      ]
     },
     "execution_count": 14,
     "metadata": {},
     "output_type": "execute_result"
    }
   ],
   "source": [
    "equation = sym.Eq(lhs=determinant, rhs=0)\n",
    "sym.solveset(equation, a)"
   ]
  },
  {
   "cell_type": "markdown",
   "id": "c0e21593-3afb-4181-8f9c-ce7844969068",
   "metadata": {},
   "source": [
    "This is a somewhat clear as:"
   ]
  },
  {
   "cell_type": "code",
   "execution_count": 15,
   "id": "87438782-d4bb-423e-b39a-e5f552683efd",
   "metadata": {},
   "outputs": [
    {
     "data": {
      "text/latex": [
       "$\\displaystyle 2 a \\left(a - 1\\right)$"
      ],
      "text/plain": [
       "2*a*(a - 1)"
      ]
     },
     "execution_count": 15,
     "metadata": {},
     "output_type": "execute_result"
    }
   ],
   "source": [
    "sym.factor(determinant)"
   ]
  },
  {
   "cell_type": "markdown",
   "id": "e7931eee-828a-4ac6-9963-fc3dccf63444",
   "metadata": {},
   "source": [
    "Now we shall compute $A^{-1}$ for $a\\in \\{0, 1, 2, 3\\}$:"
   ]
  },
  {
   "cell_type": "code",
   "execution_count": 17,
   "id": "ea53259d-c83f-4ef5-a8f4-252249852d1a",
   "metadata": {},
   "outputs": [
    {
     "ename": "NonInvertibleMatrixError",
     "evalue": "Matrix det == 0; not invertible.",
     "output_type": "error",
     "traceback": [
      "\u001b[0;31m---------------------------------------------------------------------------\u001b[0m",
      "\u001b[0;31mDMNonInvertibleMatrixError\u001b[0m                Traceback (most recent call last)",
      "File \u001b[0;32m/Library/Frameworks/Python.framework/Versions/3.13/lib/python3.13/site-packages/sympy/matrices/inverse.py:326\u001b[0m, in \u001b[0;36m_inv_DM\u001b[0;34m(dM, cancel)\u001b[0m\n\u001b[1;32m    325\u001b[0m \u001b[38;5;28;01mtry\u001b[39;00m:\n\u001b[0;32m--> 326\u001b[0m     dMi, den \u001b[38;5;241m=\u001b[39m \u001b[43mdM\u001b[49m\u001b[38;5;241;43m.\u001b[39;49m\u001b[43minv_den\u001b[49m\u001b[43m(\u001b[49m\u001b[43m)\u001b[49m\n\u001b[1;32m    327\u001b[0m \u001b[38;5;28;01mexcept\u001b[39;00m DMNonInvertibleMatrixError:\n",
      "File \u001b[0;32m/Library/Frameworks/Python.framework/Versions/3.13/lib/python3.13/site-packages/sympy/polys/matrices/domainmatrix.py:2743\u001b[0m, in \u001b[0;36mDomainMatrix.inv_den\u001b[0;34m(self, method)\u001b[0m\n\u001b[1;32m   2742\u001b[0m I \u001b[38;5;241m=\u001b[39m \u001b[38;5;28mself\u001b[39m\u001b[38;5;241m.\u001b[39meye(\u001b[38;5;28mself\u001b[39m\u001b[38;5;241m.\u001b[39mshape, \u001b[38;5;28mself\u001b[39m\u001b[38;5;241m.\u001b[39mdomain)\n\u001b[0;32m-> 2743\u001b[0m \u001b[38;5;28;01mreturn\u001b[39;00m \u001b[38;5;28;43mself\u001b[39;49m\u001b[38;5;241;43m.\u001b[39;49m\u001b[43msolve_den\u001b[49m\u001b[43m(\u001b[49m\u001b[43mI\u001b[49m\u001b[43m,\u001b[49m\u001b[43m \u001b[49m\u001b[43mmethod\u001b[49m\u001b[38;5;241;43m=\u001b[39;49m\u001b[43mmethod\u001b[49m\u001b[43m)\u001b[49m\n",
      "File \u001b[0;32m/Library/Frameworks/Python.framework/Versions/3.13/lib/python3.13/site-packages/sympy/polys/matrices/domainmatrix.py:2883\u001b[0m, in \u001b[0;36mDomainMatrix.solve_den\u001b[0;34m(self, b, method)\u001b[0m\n\u001b[1;32m   2882\u001b[0m \u001b[38;5;28;01melif\u001b[39;00m method \u001b[38;5;241m==\u001b[39m \u001b[38;5;124m'\u001b[39m\u001b[38;5;124mrref\u001b[39m\u001b[38;5;124m'\u001b[39m:\n\u001b[0;32m-> 2883\u001b[0m     xnum, xden \u001b[38;5;241m=\u001b[39m \u001b[38;5;28;43mself\u001b[39;49m\u001b[38;5;241;43m.\u001b[39;49m\u001b[43msolve_den_rref\u001b[49m\u001b[43m(\u001b[49m\u001b[43mb\u001b[49m\u001b[43m)\u001b[49m\n\u001b[1;32m   2884\u001b[0m \u001b[38;5;28;01melse\u001b[39;00m:\n",
      "File \u001b[0;32m/Library/Frameworks/Python.framework/Versions/3.13/lib/python3.13/site-packages/sympy/polys/matrices/domainmatrix.py:2935\u001b[0m, in \u001b[0;36mDomainMatrix.solve_den_rref\u001b[0;34m(self, b)\u001b[0m\n\u001b[1;32m   2934\u001b[0m \u001b[38;5;28;01mif\u001b[39;00m \u001b[38;5;28mlen\u001b[39m(pivots) \u001b[38;5;241m!=\u001b[39m n \u001b[38;5;129;01mor\u001b[39;00m pivots \u001b[38;5;129;01mand\u001b[39;00m pivots[\u001b[38;5;241m-\u001b[39m\u001b[38;5;241m1\u001b[39m] \u001b[38;5;241m>\u001b[39m\u001b[38;5;241m=\u001b[39m n:\n\u001b[0;32m-> 2935\u001b[0m     \u001b[38;5;28;01mraise\u001b[39;00m DMNonInvertibleMatrixError(\u001b[38;5;124m\"\u001b[39m\u001b[38;5;124mNon-unique solution.\u001b[39m\u001b[38;5;124m\"\u001b[39m)\n\u001b[1;32m   2937\u001b[0m xnum \u001b[38;5;241m=\u001b[39m Aaug_rref[:n, n:]\n",
      "\u001b[0;31mDMNonInvertibleMatrixError\u001b[0m: Non-unique solution.",
      "\nDuring handling of the above exception, another exception occurred:\n",
      "\u001b[0;31mNonInvertibleMatrixError\u001b[0m                  Traceback (most recent call last)",
      "Cell \u001b[0;32mIn[17], line 1\u001b[0m\n\u001b[0;32m----> 1\u001b[0m \u001b[43mA\u001b[49m\u001b[38;5;241;43m.\u001b[39;49m\u001b[43msubs\u001b[49m\u001b[43m(\u001b[49m\u001b[43m{\u001b[49m\u001b[43ma\u001b[49m\u001b[43m:\u001b[49m\u001b[43m \u001b[49m\u001b[38;5;241;43m0\u001b[39;49m\u001b[43m}\u001b[49m\u001b[43m)\u001b[49m\u001b[38;5;241;43m.\u001b[39;49m\u001b[43minv\u001b[49m\u001b[43m(\u001b[49m\u001b[43m)\u001b[49m\n",
      "File \u001b[0;32m/Library/Frameworks/Python.framework/Versions/3.13/lib/python3.13/site-packages/sympy/matrices/matrixbase.py:5225\u001b[0m, in \u001b[0;36mMatrixBase.inv\u001b[0;34m(self, method, iszerofunc, try_block_diag)\u001b[0m\n\u001b[1;32m   5224\u001b[0m \u001b[38;5;28;01mdef\u001b[39;00m \u001b[38;5;21minv\u001b[39m(\u001b[38;5;28mself\u001b[39m, method\u001b[38;5;241m=\u001b[39m\u001b[38;5;28;01mNone\u001b[39;00m, iszerofunc\u001b[38;5;241m=\u001b[39m_iszero, try_block_diag\u001b[38;5;241m=\u001b[39m\u001b[38;5;28;01mFalse\u001b[39;00m):\n\u001b[0;32m-> 5225\u001b[0m     \u001b[38;5;28;01mreturn\u001b[39;00m \u001b[43m_inv\u001b[49m\u001b[43m(\u001b[49m\u001b[38;5;28;43mself\u001b[39;49m\u001b[43m,\u001b[49m\u001b[43m \u001b[49m\u001b[43mmethod\u001b[49m\u001b[38;5;241;43m=\u001b[39;49m\u001b[43mmethod\u001b[49m\u001b[43m,\u001b[49m\u001b[43m \u001b[49m\u001b[43miszerofunc\u001b[49m\u001b[38;5;241;43m=\u001b[39;49m\u001b[43miszerofunc\u001b[49m\u001b[43m,\u001b[49m\n\u001b[1;32m   5226\u001b[0m \u001b[43m            \u001b[49m\u001b[43mtry_block_diag\u001b[49m\u001b[38;5;241;43m=\u001b[39;49m\u001b[43mtry_block_diag\u001b[49m\u001b[43m)\u001b[49m\n",
      "File \u001b[0;32m/Library/Frameworks/Python.framework/Versions/3.13/lib/python3.13/site-packages/sympy/matrices/inverse.py:504\u001b[0m, in \u001b[0;36m_inv\u001b[0;34m(M, method, iszerofunc, try_block_diag)\u001b[0m\n\u001b[1;32m    501\u001b[0m         method \u001b[38;5;241m=\u001b[39m \u001b[38;5;124m'\u001b[39m\u001b[38;5;124mGE\u001b[39m\u001b[38;5;124m'\u001b[39m\n\u001b[1;32m    503\u001b[0m \u001b[38;5;28;01mif\u001b[39;00m method \u001b[38;5;241m==\u001b[39m \u001b[38;5;124m\"\u001b[39m\u001b[38;5;124mDM\u001b[39m\u001b[38;5;124m\"\u001b[39m:\n\u001b[0;32m--> 504\u001b[0m     rv \u001b[38;5;241m=\u001b[39m \u001b[43m_inv_DM\u001b[49m\u001b[43m(\u001b[49m\u001b[43mdM\u001b[49m\u001b[43m)\u001b[49m\n\u001b[1;32m    505\u001b[0m \u001b[38;5;28;01melif\u001b[39;00m method \u001b[38;5;241m==\u001b[39m \u001b[38;5;124m\"\u001b[39m\u001b[38;5;124mDMNC\u001b[39m\u001b[38;5;124m\"\u001b[39m:\n\u001b[1;32m    506\u001b[0m     rv \u001b[38;5;241m=\u001b[39m _inv_DM(dM, cancel\u001b[38;5;241m=\u001b[39m\u001b[38;5;28;01mFalse\u001b[39;00m)\n",
      "File \u001b[0;32m/Library/Frameworks/Python.framework/Versions/3.13/lib/python3.13/site-packages/sympy/matrices/inverse.py:328\u001b[0m, in \u001b[0;36m_inv_DM\u001b[0;34m(dM, cancel)\u001b[0m\n\u001b[1;32m    326\u001b[0m     dMi, den \u001b[38;5;241m=\u001b[39m dM\u001b[38;5;241m.\u001b[39minv_den()\n\u001b[1;32m    327\u001b[0m \u001b[38;5;28;01mexcept\u001b[39;00m DMNonInvertibleMatrixError:\n\u001b[0;32m--> 328\u001b[0m     \u001b[38;5;28;01mraise\u001b[39;00m NonInvertibleMatrixError(\u001b[38;5;124m\"\u001b[39m\u001b[38;5;124mMatrix det == 0; not invertible.\u001b[39m\u001b[38;5;124m\"\u001b[39m)\n\u001b[1;32m    330\u001b[0m \u001b[38;5;28;01mif\u001b[39;00m use_exact:\n\u001b[1;32m    331\u001b[0m     dMi \u001b[38;5;241m=\u001b[39m dMi\u001b[38;5;241m.\u001b[39mconvert_to(dom)\n",
      "\u001b[0;31mNonInvertibleMatrixError\u001b[0m: Matrix det == 0; not invertible."
     ]
    }
   ],
   "source": [
    "A.subs({a: 0}).inv()"
   ]
  },
  {
   "cell_type": "markdown",
   "id": "fd64cef0-8e70-47b0-907a-387fdaaf3cfa",
   "metadata": {},
   "source": [
    "We get an error as for $a=0$ the matrix is singular."
   ]
  },
  {
   "cell_type": "markdown",
   "id": "d87ebabe-a480-4315-9777-4794bc353a40",
   "metadata": {},
   "source": [
    "The same outcome will happen for $a=1$:"
   ]
  },
  {
   "cell_type": "code",
   "execution_count": 19,
   "id": "86b869d5-1d04-40ce-a187-70f0aa2db866",
   "metadata": {},
   "outputs": [
    {
     "ename": "NonInvertibleMatrixError",
     "evalue": "Matrix det == 0; not invertible.",
     "output_type": "error",
     "traceback": [
      "\u001b[0;31m---------------------------------------------------------------------------\u001b[0m",
      "\u001b[0;31mDMNonInvertibleMatrixError\u001b[0m                Traceback (most recent call last)",
      "File \u001b[0;32m/Library/Frameworks/Python.framework/Versions/3.13/lib/python3.13/site-packages/sympy/matrices/inverse.py:326\u001b[0m, in \u001b[0;36m_inv_DM\u001b[0;34m(dM, cancel)\u001b[0m\n\u001b[1;32m    325\u001b[0m \u001b[38;5;28;01mtry\u001b[39;00m:\n\u001b[0;32m--> 326\u001b[0m     dMi, den \u001b[38;5;241m=\u001b[39m \u001b[43mdM\u001b[49m\u001b[38;5;241;43m.\u001b[39;49m\u001b[43minv_den\u001b[49m\u001b[43m(\u001b[49m\u001b[43m)\u001b[49m\n\u001b[1;32m    327\u001b[0m \u001b[38;5;28;01mexcept\u001b[39;00m DMNonInvertibleMatrixError:\n",
      "File \u001b[0;32m/Library/Frameworks/Python.framework/Versions/3.13/lib/python3.13/site-packages/sympy/polys/matrices/domainmatrix.py:2743\u001b[0m, in \u001b[0;36mDomainMatrix.inv_den\u001b[0;34m(self, method)\u001b[0m\n\u001b[1;32m   2742\u001b[0m I \u001b[38;5;241m=\u001b[39m \u001b[38;5;28mself\u001b[39m\u001b[38;5;241m.\u001b[39meye(\u001b[38;5;28mself\u001b[39m\u001b[38;5;241m.\u001b[39mshape, \u001b[38;5;28mself\u001b[39m\u001b[38;5;241m.\u001b[39mdomain)\n\u001b[0;32m-> 2743\u001b[0m \u001b[38;5;28;01mreturn\u001b[39;00m \u001b[38;5;28;43mself\u001b[39;49m\u001b[38;5;241;43m.\u001b[39;49m\u001b[43msolve_den\u001b[49m\u001b[43m(\u001b[49m\u001b[43mI\u001b[49m\u001b[43m,\u001b[49m\u001b[43m \u001b[49m\u001b[43mmethod\u001b[49m\u001b[38;5;241;43m=\u001b[39;49m\u001b[43mmethod\u001b[49m\u001b[43m)\u001b[49m\n",
      "File \u001b[0;32m/Library/Frameworks/Python.framework/Versions/3.13/lib/python3.13/site-packages/sympy/polys/matrices/domainmatrix.py:2883\u001b[0m, in \u001b[0;36mDomainMatrix.solve_den\u001b[0;34m(self, b, method)\u001b[0m\n\u001b[1;32m   2882\u001b[0m \u001b[38;5;28;01melif\u001b[39;00m method \u001b[38;5;241m==\u001b[39m \u001b[38;5;124m'\u001b[39m\u001b[38;5;124mrref\u001b[39m\u001b[38;5;124m'\u001b[39m:\n\u001b[0;32m-> 2883\u001b[0m     xnum, xden \u001b[38;5;241m=\u001b[39m \u001b[38;5;28;43mself\u001b[39;49m\u001b[38;5;241;43m.\u001b[39;49m\u001b[43msolve_den_rref\u001b[49m\u001b[43m(\u001b[49m\u001b[43mb\u001b[49m\u001b[43m)\u001b[49m\n\u001b[1;32m   2884\u001b[0m \u001b[38;5;28;01melse\u001b[39;00m:\n",
      "File \u001b[0;32m/Library/Frameworks/Python.framework/Versions/3.13/lib/python3.13/site-packages/sympy/polys/matrices/domainmatrix.py:2935\u001b[0m, in \u001b[0;36mDomainMatrix.solve_den_rref\u001b[0;34m(self, b)\u001b[0m\n\u001b[1;32m   2934\u001b[0m \u001b[38;5;28;01mif\u001b[39;00m \u001b[38;5;28mlen\u001b[39m(pivots) \u001b[38;5;241m!=\u001b[39m n \u001b[38;5;129;01mor\u001b[39;00m pivots \u001b[38;5;129;01mand\u001b[39;00m pivots[\u001b[38;5;241m-\u001b[39m\u001b[38;5;241m1\u001b[39m] \u001b[38;5;241m>\u001b[39m\u001b[38;5;241m=\u001b[39m n:\n\u001b[0;32m-> 2935\u001b[0m     \u001b[38;5;28;01mraise\u001b[39;00m DMNonInvertibleMatrixError(\u001b[38;5;124m\"\u001b[39m\u001b[38;5;124mNon-unique solution.\u001b[39m\u001b[38;5;124m\"\u001b[39m)\n\u001b[1;32m   2937\u001b[0m xnum \u001b[38;5;241m=\u001b[39m Aaug_rref[:n, n:]\n",
      "\u001b[0;31mDMNonInvertibleMatrixError\u001b[0m: Non-unique solution.",
      "\nDuring handling of the above exception, another exception occurred:\n",
      "\u001b[0;31mNonInvertibleMatrixError\u001b[0m                  Traceback (most recent call last)",
      "Cell \u001b[0;32mIn[19], line 1\u001b[0m\n\u001b[0;32m----> 1\u001b[0m \u001b[43mA\u001b[49m\u001b[38;5;241;43m.\u001b[39;49m\u001b[43msubs\u001b[49m\u001b[43m(\u001b[49m\u001b[43m{\u001b[49m\u001b[43ma\u001b[49m\u001b[43m:\u001b[49m\u001b[43m \u001b[49m\u001b[38;5;241;43m1\u001b[39;49m\u001b[43m}\u001b[49m\u001b[43m)\u001b[49m\u001b[38;5;241;43m.\u001b[39;49m\u001b[43minv\u001b[49m\u001b[43m(\u001b[49m\u001b[43m)\u001b[49m\n",
      "File \u001b[0;32m/Library/Frameworks/Python.framework/Versions/3.13/lib/python3.13/site-packages/sympy/matrices/matrixbase.py:5225\u001b[0m, in \u001b[0;36mMatrixBase.inv\u001b[0;34m(self, method, iszerofunc, try_block_diag)\u001b[0m\n\u001b[1;32m   5224\u001b[0m \u001b[38;5;28;01mdef\u001b[39;00m \u001b[38;5;21minv\u001b[39m(\u001b[38;5;28mself\u001b[39m, method\u001b[38;5;241m=\u001b[39m\u001b[38;5;28;01mNone\u001b[39;00m, iszerofunc\u001b[38;5;241m=\u001b[39m_iszero, try_block_diag\u001b[38;5;241m=\u001b[39m\u001b[38;5;28;01mFalse\u001b[39;00m):\n\u001b[0;32m-> 5225\u001b[0m     \u001b[38;5;28;01mreturn\u001b[39;00m \u001b[43m_inv\u001b[49m\u001b[43m(\u001b[49m\u001b[38;5;28;43mself\u001b[39;49m\u001b[43m,\u001b[49m\u001b[43m \u001b[49m\u001b[43mmethod\u001b[49m\u001b[38;5;241;43m=\u001b[39;49m\u001b[43mmethod\u001b[49m\u001b[43m,\u001b[49m\u001b[43m \u001b[49m\u001b[43miszerofunc\u001b[49m\u001b[38;5;241;43m=\u001b[39;49m\u001b[43miszerofunc\u001b[49m\u001b[43m,\u001b[49m\n\u001b[1;32m   5226\u001b[0m \u001b[43m            \u001b[49m\u001b[43mtry_block_diag\u001b[49m\u001b[38;5;241;43m=\u001b[39;49m\u001b[43mtry_block_diag\u001b[49m\u001b[43m)\u001b[49m\n",
      "File \u001b[0;32m/Library/Frameworks/Python.framework/Versions/3.13/lib/python3.13/site-packages/sympy/matrices/inverse.py:504\u001b[0m, in \u001b[0;36m_inv\u001b[0;34m(M, method, iszerofunc, try_block_diag)\u001b[0m\n\u001b[1;32m    501\u001b[0m         method \u001b[38;5;241m=\u001b[39m \u001b[38;5;124m'\u001b[39m\u001b[38;5;124mGE\u001b[39m\u001b[38;5;124m'\u001b[39m\n\u001b[1;32m    503\u001b[0m \u001b[38;5;28;01mif\u001b[39;00m method \u001b[38;5;241m==\u001b[39m \u001b[38;5;124m\"\u001b[39m\u001b[38;5;124mDM\u001b[39m\u001b[38;5;124m\"\u001b[39m:\n\u001b[0;32m--> 504\u001b[0m     rv \u001b[38;5;241m=\u001b[39m \u001b[43m_inv_DM\u001b[49m\u001b[43m(\u001b[49m\u001b[43mdM\u001b[49m\u001b[43m)\u001b[49m\n\u001b[1;32m    505\u001b[0m \u001b[38;5;28;01melif\u001b[39;00m method \u001b[38;5;241m==\u001b[39m \u001b[38;5;124m\"\u001b[39m\u001b[38;5;124mDMNC\u001b[39m\u001b[38;5;124m\"\u001b[39m:\n\u001b[1;32m    506\u001b[0m     rv \u001b[38;5;241m=\u001b[39m _inv_DM(dM, cancel\u001b[38;5;241m=\u001b[39m\u001b[38;5;28;01mFalse\u001b[39;00m)\n",
      "File \u001b[0;32m/Library/Frameworks/Python.framework/Versions/3.13/lib/python3.13/site-packages/sympy/matrices/inverse.py:328\u001b[0m, in \u001b[0;36m_inv_DM\u001b[0;34m(dM, cancel)\u001b[0m\n\u001b[1;32m    326\u001b[0m     dMi, den \u001b[38;5;241m=\u001b[39m dM\u001b[38;5;241m.\u001b[39minv_den()\n\u001b[1;32m    327\u001b[0m \u001b[38;5;28;01mexcept\u001b[39;00m DMNonInvertibleMatrixError:\n\u001b[0;32m--> 328\u001b[0m     \u001b[38;5;28;01mraise\u001b[39;00m NonInvertibleMatrixError(\u001b[38;5;124m\"\u001b[39m\u001b[38;5;124mMatrix det == 0; not invertible.\u001b[39m\u001b[38;5;124m\"\u001b[39m)\n\u001b[1;32m    330\u001b[0m \u001b[38;5;28;01mif\u001b[39;00m use_exact:\n\u001b[1;32m    331\u001b[0m     dMi \u001b[38;5;241m=\u001b[39m dMi\u001b[38;5;241m.\u001b[39mconvert_to(dom)\n",
      "\u001b[0;31mNonInvertibleMatrixError\u001b[0m: Matrix det == 0; not invertible."
     ]
    }
   ],
   "source": [
    "A.subs({a: 1}).inv()"
   ]
  },
  {
   "cell_type": "markdown",
   "id": "71609319-49b2-44ef-8264-2c61e308c3c7",
   "metadata": {},
   "source": [
    "We can in fact compute the inverse symbolically (or \"generally\"):"
   ]
  },
  {
   "cell_type": "code",
   "execution_count": 20,
   "id": "60dc28bf-57a3-4e3f-85a5-47757719b3e0",
   "metadata": {},
   "outputs": [
    {
     "data": {
      "text/latex": [
       "$\\displaystyle \\left[\\begin{matrix}\\frac{2 a - 1}{2 a^{2} - 2 a} & - \\frac{1}{2 a^{2} - 2 a} & - \\frac{1}{2 a}\\\\- \\frac{1}{2 a^{2} - 2 a} & \\frac{2 a - 1}{2 a^{2} - 2 a} & - \\frac{1}{2 a}\\\\- \\frac{1}{2 a} & - \\frac{1}{2 a} & \\frac{a + 1}{2 a}\\end{matrix}\\right]$"
      ],
      "text/plain": [
       "Matrix([\n",
       "[(2*a - 1)/(2*a**2 - 2*a),        -1/(2*a**2 - 2*a),      -1/(2*a)],\n",
       "[       -1/(2*a**2 - 2*a), (2*a - 1)/(2*a**2 - 2*a),      -1/(2*a)],\n",
       "[                -1/(2*a),                 -1/(2*a), (a + 1)/(2*a)]])"
      ]
     },
     "execution_count": 20,
     "metadata": {},
     "output_type": "execute_result"
    }
   ],
   "source": [
    "A.inv()"
   ]
  },
  {
   "cell_type": "markdown",
   "id": "8f441642-0c9b-49aa-a331-0b0cc024010a",
   "metadata": {},
   "source": [
    "This shows *why* the inverse of $A$ does not exist for $a\\in\\{0, 1\\}$."
   ]
  },
  {
   "cell_type": "markdown",
   "id": "2aab46d5-3242-4832-8013-6c9963cfd00a",
   "metadata": {},
   "source": [
    "For $a=2$ however we have:"
   ]
  },
  {
   "cell_type": "code",
   "execution_count": 24,
   "id": "286e8b42-a92d-4d0c-a19a-995f1510e4c2",
   "metadata": {},
   "outputs": [
    {
     "data": {
      "text/latex": [
       "$\\displaystyle \\left[\\begin{matrix}\\frac{3}{4} & - \\frac{1}{4} & - \\frac{1}{4}\\\\- \\frac{1}{4} & \\frac{3}{4} & - \\frac{1}{4}\\\\- \\frac{1}{4} & - \\frac{1}{4} & \\frac{3}{4}\\end{matrix}\\right]$"
      ],
      "text/plain": [
       "Matrix([\n",
       "[ 3/4, -1/4, -1/4],\n",
       "[-1/4,  3/4, -1/4],\n",
       "[-1/4, -1/4,  3/4]])"
      ]
     },
     "execution_count": 24,
     "metadata": {},
     "output_type": "execute_result"
    }
   ],
   "source": [
    "A_inverse_for_a_2 = A.subs({a: 2}).inv()\n",
    "A_inverse_for_a_2"
   ]
  },
  {
   "cell_type": "code",
   "execution_count": 27,
   "id": "973113d9-146e-499a-9392-fe1f4b1cd2c7",
   "metadata": {},
   "outputs": [
    {
     "data": {
      "text/latex": [
       "$\\displaystyle \\left[\\begin{matrix}1 & 0 & 0\\\\0 & 1 & 0\\\\0 & 0 & 1\\end{matrix}\\right]$"
      ],
      "text/plain": [
       "Matrix([\n",
       "[1, 0, 0],\n",
       "[0, 1, 0],\n",
       "[0, 0, 1]])"
      ]
     },
     "execution_count": 27,
     "metadata": {},
     "output_type": "execute_result"
    }
   ],
   "source": [
    "A.subs({a: 2}) @ A_inverse_for_a_2"
   ]
  },
  {
   "cell_type": "markdown",
   "id": "e1519629-f4fe-4d2f-adb3-810ca1e40141",
   "metadata": {},
   "source": [
    "We see that as expected $AA^{-1}$ gives the identity matrix."
   ]
  },
  {
   "cell_type": "code",
   "execution_count": 30,
   "id": "b14d248c-e325-420f-8aea-7312c666727c",
   "metadata": {},
   "outputs": [
    {
     "data": {
      "text/latex": [
       "$\\displaystyle \\left[\\begin{matrix}1 & 0 & 0\\\\0 & 1 & 0\\\\0 & 0 & 1\\end{matrix}\\right]$"
      ],
      "text/plain": [
       "Matrix([\n",
       "[1, 0, 0],\n",
       "[0, 1, 0],\n",
       "[0, 0, 1]])"
      ]
     },
     "execution_count": 30,
     "metadata": {},
     "output_type": "execute_result"
    }
   ],
   "source": [
    "A_inverse_for_a_2 @ A.subs({a: 2})"
   ]
  },
  {
   "cell_type": "markdown",
   "id": "8cf3db57-a5b1-4113-9a14-a425deb9730f",
   "metadata": {},
   "source": [
    "We note that in fact the order of the operation does not matter. We know from theory that if $A^{-1}$ exists then: $AA^{-1}=A^{-1}A=I_n=\\mathbb{1}$."
   ]
  },
  {
   "cell_type": "markdown",
   "id": "9192761c-ab77-41d1-90ca-4da7c0abe775",
   "metadata": {},
   "source": [
    "Note that this is not always the case ($BC\\ne CB$):"
   ]
  },
  {
   "cell_type": "code",
   "execution_count": 38,
   "id": "4297217e-f352-4900-b085-01665900783e",
   "metadata": {},
   "outputs": [],
   "source": [
    "B = A.subs({a: 3})\n",
    "C = A.subs({a: sym.pi})"
   ]
  },
  {
   "cell_type": "code",
   "execution_count": 39,
   "id": "fd8724cf-6aa8-420e-81fb-f92a336cd496",
   "metadata": {},
   "outputs": [
    {
     "data": {
      "text/latex": [
       "$\\displaystyle \\left[\\begin{matrix}3 & 1 & 1\\\\1 & 3 & 1\\\\1 & 1 & 2\\end{matrix}\\right]$"
      ],
      "text/plain": [
       "Matrix([\n",
       "[3, 1, 1],\n",
       "[1, 3, 1],\n",
       "[1, 1, 2]])"
      ]
     },
     "execution_count": 39,
     "metadata": {},
     "output_type": "execute_result"
    }
   ],
   "source": [
    "B"
   ]
  },
  {
   "cell_type": "code",
   "execution_count": 40,
   "id": "c3aa517b-dc12-468f-a5a5-033bf00d6153",
   "metadata": {},
   "outputs": [
    {
     "data": {
      "text/latex": [
       "$\\displaystyle \\left[\\begin{matrix}\\pi & 1 & 1\\\\1 & \\pi & 1\\\\1 & 1 & 2\\end{matrix}\\right]$"
      ],
      "text/plain": [
       "Matrix([\n",
       "[pi,  1, 1],\n",
       "[ 1, pi, 1],\n",
       "[ 1,  1, 2]])"
      ]
     },
     "execution_count": 40,
     "metadata": {},
     "output_type": "execute_result"
    }
   ],
   "source": [
    "C"
   ]
  },
  {
   "cell_type": "code",
   "execution_count": 41,
   "id": "7a748a5d-60a9-4be3-8ef1-db77281b6020",
   "metadata": {},
   "outputs": [
    {
     "data": {
      "text/latex": [
       "$\\displaystyle \\left[\\begin{matrix}2 + 3 \\pi & \\pi + 4 & 6\\\\\\pi + 4 & 2 + 3 \\pi & 6\\\\3 + \\pi & 3 + \\pi & 6\\end{matrix}\\right]$"
      ],
      "text/plain": [
       "Matrix([\n",
       "[2 + 3*pi,   pi + 4, 6],\n",
       "[  pi + 4, 2 + 3*pi, 6],\n",
       "[  3 + pi,   3 + pi, 6]])"
      ]
     },
     "execution_count": 41,
     "metadata": {},
     "output_type": "execute_result"
    }
   ],
   "source": [
    "B @ C"
   ]
  },
  {
   "cell_type": "code",
   "execution_count": 42,
   "id": "3f5c9492-bfd7-42bc-a84d-3f84f2b4d7fc",
   "metadata": {},
   "outputs": [
    {
     "data": {
      "text/latex": [
       "$\\displaystyle \\left[\\begin{matrix}2 + 3 \\pi & \\pi + 4 & 3 + \\pi\\\\\\pi + 4 & 2 + 3 \\pi & 3 + \\pi\\\\6 & 6 & 6\\end{matrix}\\right]$"
      ],
      "text/plain": [
       "Matrix([\n",
       "[2 + 3*pi,   pi + 4, 3 + pi],\n",
       "[  pi + 4, 2 + 3*pi, 3 + pi],\n",
       "[       6,        6,      6]])"
      ]
     },
     "execution_count": 42,
     "metadata": {},
     "output_type": "execute_result"
    }
   ],
   "source": [
    "C @ B"
   ]
  },
  {
   "cell_type": "markdown",
   "id": "76b6a47c-b83d-40aa-8f1a-07c0714d0b47",
   "metadata": {},
   "source": [
    "For $a=3$ we have:"
   ]
  },
  {
   "cell_type": "code",
   "execution_count": 43,
   "id": "b0977e64-363d-4e99-b670-ac2786ca523c",
   "metadata": {},
   "outputs": [
    {
     "data": {
      "text/latex": [
       "$\\displaystyle \\left[\\begin{matrix}\\frac{5}{12} & - \\frac{1}{12} & - \\frac{1}{6}\\\\- \\frac{1}{12} & \\frac{5}{12} & - \\frac{1}{6}\\\\- \\frac{1}{6} & - \\frac{1}{6} & \\frac{2}{3}\\end{matrix}\\right]$"
      ],
      "text/plain": [
       "Matrix([\n",
       "[ 5/12, -1/12, -1/6],\n",
       "[-1/12,  5/12, -1/6],\n",
       "[ -1/6,  -1/6,  2/3]])"
      ]
     },
     "execution_count": 43,
     "metadata": {},
     "output_type": "execute_result"
    }
   ],
   "source": [
    "A_inverse_for_a_3 = A.subs({a: 3}).inv()\n",
    "A_inverse_for_a_3"
   ]
  },
  {
   "cell_type": "code",
   "execution_count": 44,
   "id": "f0a7a9c3-75e2-4b50-9863-9717cec7bbd0",
   "metadata": {},
   "outputs": [
    {
     "data": {
      "text/latex": [
       "$\\displaystyle \\left[\\begin{matrix}1 & 0 & 0\\\\0 & 1 & 0\\\\0 & 0 & 1\\end{matrix}\\right]$"
      ],
      "text/plain": [
       "Matrix([\n",
       "[1, 0, 0],\n",
       "[0, 1, 0],\n",
       "[0, 0, 1]])"
      ]
     },
     "execution_count": 44,
     "metadata": {},
     "output_type": "execute_result"
    }
   ],
   "source": [
    "A_inverse_for_a_3 @ A.subs({a: 3})"
   ]
  },
  {
   "cell_type": "markdown",
   "id": "82784356-f47d-4347-b763-7a42515817c4",
   "metadata": {},
   "source": [
    "This completes the tutorial from the matrices chapter.\n",
    "\n",
    "Some further notes/comments"
   ]
  },
  {
   "cell_type": "markdown",
   "id": "48d34148-2dff-4c97-a872-3e261e41e495",
   "metadata": {},
   "source": [
    "## Why `@` for matrix multiplication?"
   ]
  },
  {
   "cell_type": "code",
   "execution_count": 46,
   "id": "c9132e49-6c92-4e6b-849f-3b29be45b37e",
   "metadata": {},
   "outputs": [
    {
     "data": {
      "text/latex": [
       "$\\displaystyle \\left[\\begin{matrix}3 & 1 & 1\\\\1 & 3 & 1\\\\1 & 1 & 2\\end{matrix}\\right]$"
      ],
      "text/plain": [
       "Matrix([\n",
       "[3, 1, 1],\n",
       "[1, 3, 1],\n",
       "[1, 1, 2]])"
      ]
     },
     "execution_count": 46,
     "metadata": {},
     "output_type": "execute_result"
    }
   ],
   "source": [
    "B"
   ]
  },
  {
   "cell_type": "code",
   "execution_count": 47,
   "id": "07688c0f-4e88-4e48-bbc4-e558a3078ea6",
   "metadata": {},
   "outputs": [
    {
     "data": {
      "text/latex": [
       "$\\displaystyle \\left[\\begin{matrix}3 \\alpha & \\alpha & \\alpha\\\\\\alpha & 3 \\alpha & \\alpha\\\\\\alpha & \\alpha & 2 \\alpha\\end{matrix}\\right]$"
      ],
      "text/plain": [
       "Matrix([\n",
       "[3*alpha,   alpha,   alpha],\n",
       "[  alpha, 3*alpha,   alpha],\n",
       "[  alpha,   alpha, 2*alpha]])"
      ]
     },
     "execution_count": 47,
     "metadata": {},
     "output_type": "execute_result"
    }
   ],
   "source": [
    "alpha = sym.Symbol(\"alpha\")\n",
    "alpha * B"
   ]
  },
  {
   "cell_type": "code",
   "execution_count": 49,
   "id": "9b066e0b-92b0-40aa-8f0a-28ca9ddb6fd0",
   "metadata": {},
   "outputs": [
    {
     "data": {
      "text/latex": [
       "$\\displaystyle \\left[\\begin{matrix}6 & 2 & 2\\\\2 & 6 & 2\\\\2 & 2 & 4\\end{matrix}\\right]$"
      ],
      "text/plain": [
       "Matrix([\n",
       "[6, 2, 2],\n",
       "[2, 6, 2],\n",
       "[2, 2, 4]])"
      ]
     },
     "execution_count": 49,
     "metadata": {},
     "output_type": "execute_result"
    }
   ],
   "source": [
    "3 * B - B"
   ]
  },
  {
   "cell_type": "code",
   "execution_count": 50,
   "id": "0dde2011-c58c-4cbb-8830-11910f9f3b00",
   "metadata": {},
   "outputs": [
    {
     "data": {
      "text/latex": [
       "$\\displaystyle \\left[\\begin{matrix}2 + 3 \\pi & \\pi + 4 & 6\\\\\\pi + 4 & 2 + 3 \\pi & 6\\\\3 + \\pi & 3 + \\pi & 6\\end{matrix}\\right]$"
      ],
      "text/plain": [
       "Matrix([\n",
       "[2 + 3*pi,   pi + 4, 6],\n",
       "[  pi + 4, 2 + 3*pi, 6],\n",
       "[  3 + pi,   3 + pi, 6]])"
      ]
     },
     "execution_count": 50,
     "metadata": {},
     "output_type": "execute_result"
    }
   ],
   "source": [
    "B @ C"
   ]
  },
  {
   "cell_type": "code",
   "execution_count": 51,
   "id": "81f109cc-c5ee-4bc4-9331-deff862e3395",
   "metadata": {},
   "outputs": [
    {
     "data": {
      "text/latex": [
       "$\\displaystyle \\left[\\begin{matrix}2 + 3 \\pi & \\pi + 4 & 6\\\\\\pi + 4 & 2 + 3 \\pi & 6\\\\3 + \\pi & 3 + \\pi & 6\\end{matrix}\\right]$"
      ],
      "text/plain": [
       "Matrix([\n",
       "[2 + 3*pi,   pi + 4, 6],\n",
       "[  pi + 4, 2 + 3*pi, 6],\n",
       "[  3 + pi,   3 + pi, 6]])"
      ]
     },
     "execution_count": 51,
     "metadata": {},
     "output_type": "execute_result"
    }
   ],
   "source": [
    "B * C"
   ]
  },
  {
   "cell_type": "code",
   "execution_count": 52,
   "id": "a8aa6609-5147-46bd-a925-11b96f255409",
   "metadata": {},
   "outputs": [],
   "source": [
    "import numpy as np"
   ]
  },
  {
   "cell_type": "code",
   "execution_count": 53,
   "id": "8d83cf44-cb7e-4bf7-83d5-21336973c530",
   "metadata": {},
   "outputs": [
    {
     "data": {
      "text/plain": [
       "array([[3, 1, 1],\n",
       "       [1, 3, 1],\n",
       "       [1, 1, 2]])"
      ]
     },
     "execution_count": 53,
     "metadata": {},
     "output_type": "execute_result"
    }
   ],
   "source": [
    "B_as_array = np.array(\n",
    "    (\n",
    "        (3, 1, 1),\n",
    "        (1, 3, 1),\n",
    "        (1, 1, 2),\n",
    "    )\n",
    ")\n",
    "B_as_array"
   ]
  },
  {
   "cell_type": "code",
   "execution_count": 54,
   "id": "4fa75c0f-268a-45c8-af7b-67a5338da1d9",
   "metadata": {},
   "outputs": [
    {
     "data": {
      "text/plain": [
       "array([[3.14159265, 1.        , 1.        ],\n",
       "       [1.        , 3.14159265, 1.        ],\n",
       "       [1.        , 1.        , 2.        ]])"
      ]
     },
     "execution_count": 54,
     "metadata": {},
     "output_type": "execute_result"
    }
   ],
   "source": [
    "C_as_array = np.array(\n",
    "    (\n",
    "        (np.pi, 1, 1),\n",
    "        (1, np.pi, 1),\n",
    "        (1, 1, 2),\n",
    "    )\n",
    ")\n",
    "C_as_array"
   ]
  },
  {
   "cell_type": "code",
   "execution_count": 55,
   "id": "6bafbe4a-a311-47ff-b9fb-3031c828e5a5",
   "metadata": {},
   "outputs": [
    {
     "data": {
      "text/plain": [
       "array([[3, 1, 1],\n",
       "       [1, 3, 1],\n",
       "       [1, 1, 2]])"
      ]
     },
     "execution_count": 55,
     "metadata": {},
     "output_type": "execute_result"
    }
   ],
   "source": [
    "B_as_array"
   ]
  },
  {
   "cell_type": "code",
   "execution_count": 56,
   "id": "ca9ff778-93e0-456b-92ba-6ebfbb220ae9",
   "metadata": {},
   "outputs": [
    {
     "data": {
      "text/plain": [
       "array([[3.14159265, 1.        , 1.        ],\n",
       "       [1.        , 3.14159265, 1.        ],\n",
       "       [1.        , 1.        , 2.        ]])"
      ]
     },
     "execution_count": 56,
     "metadata": {},
     "output_type": "execute_result"
    }
   ],
   "source": [
    "C_as_array"
   ]
  },
  {
   "cell_type": "code",
   "execution_count": 57,
   "id": "5a3060c4-8c6b-4944-902f-2dc2a78135ba",
   "metadata": {},
   "outputs": [
    {
     "data": {
      "text/plain": [
       "array([[9.42477796, 1.        , 1.        ],\n",
       "       [1.        , 9.42477796, 1.        ],\n",
       "       [1.        , 1.        , 4.        ]])"
      ]
     },
     "execution_count": 57,
     "metadata": {},
     "output_type": "execute_result"
    }
   ],
   "source": [
    "B_as_array * C_as_array"
   ]
  },
  {
   "cell_type": "code",
   "execution_count": 58,
   "id": "0e7ea969-d09f-4748-9074-c456a1aa5ed3",
   "metadata": {},
   "outputs": [
    {
     "data": {
      "text/latex": [
       "$\\displaystyle \\left[\\begin{matrix}2 + 3 \\pi & \\pi + 4 & 6\\\\\\pi + 4 & 2 + 3 \\pi & 6\\\\3 + \\pi & 3 + \\pi & 6\\end{matrix}\\right]$"
      ],
      "text/plain": [
       "Matrix([\n",
       "[2 + 3*pi,   pi + 4, 6],\n",
       "[  pi + 4, 2 + 3*pi, 6],\n",
       "[  3 + pi,   3 + pi, 6]])"
      ]
     },
     "execution_count": 58,
     "metadata": {},
     "output_type": "execute_result"
    }
   ],
   "source": [
    "B @ C"
   ]
  },
  {
   "cell_type": "code",
   "execution_count": 59,
   "id": "90caccf2-d19a-4178-af9e-384a4c91f0f4",
   "metadata": {},
   "outputs": [
    {
     "data": {
      "text/plain": [
       "array([[11.42477796,  7.14159265,  6.        ],\n",
       "       [ 7.14159265, 11.42477796,  6.        ],\n",
       "       [ 6.14159265,  6.14159265,  6.        ]])"
      ]
     },
     "execution_count": 59,
     "metadata": {},
     "output_type": "execute_result"
    }
   ],
   "source": [
    "B_as_array @ C_as_array"
   ]
  },
  {
   "cell_type": "markdown",
   "id": "dd56c19c-1a58-41d5-8a88-0dbd181fff2a",
   "metadata": {},
   "source": [
    "## Linear systems"
   ]
  },
  {
   "cell_type": "markdown",
   "id": "96ba1222-52b5-439f-a489-b300d7cbef4d",
   "metadata": {},
   "source": [
    "The following system of linear equations:\n",
    "\n",
    "$$\n",
    "x + y =0\n",
    "    $$\n",
    "$$\n",
    "5x + 2y = 34\n",
    "$$\n",
    "\n",
    "is completely equivalent to:\n",
    "$$\n",
    "\\alpha + \\beta =0\n",
    "    $$\n",
    "$$\n",
    "5\\alpha + 2\\beta = 34\n",
    "$$\n",
    "\n",
    "this can be represented as:\n",
    "\n",
    "$$\n",
    "\\begin{pmatrix}\n",
    "1 & 1\\\\\n",
    "5 & 2\\\\\n",
    "\\end{pmatrix}\n",
    "\\begin{pmatrix}\n",
    "x\\\\\n",
    "y\\\\\n",
    "\\end{pmatrix}\n",
    "=\n",
    "\\begin{pmatrix}\n",
    "0\\\\\n",
    "34\n",
    "\\end{pmatrix}\n",
    "$$\n",
    "\n",
    "in general if $A \\bar x = \\bar b$ then we can multiply both sides by $A ^{-1}$:\n",
    "\n",
    "$$\n",
    "A^{-1}A \\bar x = A^{-1}\\bar b\n",
    "$$\n",
    "\n",
    "which gives:\n",
    "\n",
    "$$\n",
    "\\bar x = A^{-1}\\bar b\n",
    "$$"
   ]
  },
  {
   "cell_type": "markdown",
   "id": "b91ec1bb-084e-4d6b-bbd2-f702ca909913",
   "metadata": {},
   "source": [
    "Thus, we can solve this system using sympy:"
   ]
  },
  {
   "cell_type": "code",
   "execution_count": 61,
   "id": "d09891d0-db89-4aec-948c-09f7d4c4998c",
   "metadata": {},
   "outputs": [
    {
     "data": {
      "text/latex": [
       "$\\displaystyle -3$"
      ],
      "text/plain": [
       "-3"
      ]
     },
     "execution_count": 61,
     "metadata": {},
     "output_type": "execute_result"
    }
   ],
   "source": [
    "A = sym.Matrix(\n",
    "    (\n",
    "        (1, 1),\n",
    "        (5, 2),\n",
    "    )\n",
    ")\n",
    "A.det()"
   ]
  },
  {
   "cell_type": "code",
   "execution_count": 62,
   "id": "24f54e62-74ac-4632-bd71-c71754ebb25f",
   "metadata": {},
   "outputs": [
    {
     "data": {
      "text/latex": [
       "$\\displaystyle \\left[\\begin{matrix}0\\\\34\\end{matrix}\\right]$"
      ],
      "text/plain": [
       "Matrix([\n",
       "[ 0],\n",
       "[34]])"
      ]
     },
     "execution_count": 62,
     "metadata": {},
     "output_type": "execute_result"
    }
   ],
   "source": [
    "b = sym.Matrix(\n",
    "    (\n",
    "        (0),\n",
    "        (34),\n",
    "    )\n",
    ")\n",
    "b"
   ]
  },
  {
   "cell_type": "code",
   "execution_count": 64,
   "id": "3c330dc6-f05b-480a-88f3-f7b2a756e755",
   "metadata": {},
   "outputs": [
    {
     "data": {
      "text/latex": [
       "$\\displaystyle \\left[\\begin{matrix}\\frac{34}{3}\\\\- \\frac{34}{3}\\end{matrix}\\right]$"
      ],
      "text/plain": [
       "Matrix([\n",
       "[ 34/3],\n",
       "[-34/3]])"
      ]
     },
     "execution_count": 64,
     "metadata": {},
     "output_type": "execute_result"
    }
   ],
   "source": [
    "A.inv() @ b"
   ]
  },
  {
   "cell_type": "markdown",
   "id": "255925fb-f84f-418f-9462-2ffe9e18af2d",
   "metadata": {},
   "source": [
    "## questions from chat:\n",
    "\n",
    "- why is it that you need square brackets and normal brackets surrounding the A matrix?"
   ]
  },
  {
   "cell_type": "code",
   "execution_count": 66,
   "id": "a237d766-05d1-47ae-8c64-2a0871857388",
   "metadata": {},
   "outputs": [
    {
     "data": {
      "text/latex": [
       "$\\displaystyle \\left[\\begin{matrix}1 & 2 & 0\\\\3 & 1 & 2\\\\0 & -1 & 1\\end{matrix}\\right]$"
      ],
      "text/plain": [
       "Matrix([\n",
       "[1,  2, 0],\n",
       "[3,  1, 2],\n",
       "[0, -1, 1]])"
      ]
     },
     "execution_count": 66,
     "metadata": {},
     "output_type": "execute_result"
    }
   ],
   "source": [
    "A = sym.Matrix([[1,2,0],[3,1,2],[0,-1,1]])\n",
    "A"
   ]
  },
  {
   "cell_type": "code",
   "execution_count": 67,
   "id": "52b4e8e6-fd48-4b07-a546-2f6cbf1ee856",
   "metadata": {},
   "outputs": [
    {
     "data": {
      "text/latex": [
       "$\\displaystyle \\left[\\begin{matrix}1 & 2 & 0\\\\3 & 1 & 2\\\\0 & -1 & 1\\end{matrix}\\right]$"
      ],
      "text/plain": [
       "Matrix([\n",
       "[1,  2, 0],\n",
       "[3,  1, 2],\n",
       "[0, -1, 1]])"
      ]
     },
     "execution_count": 67,
     "metadata": {},
     "output_type": "execute_result"
    }
   ],
   "source": [
    "A = sym.Matrix(((1,2,0),(3,1,2),(0,-1,1)))\n",
    "A"
   ]
  },
  {
   "cell_type": "markdown",
   "id": "417a8dc4-52ed-472b-8532-bf8d8bc280b3",
   "metadata": {},
   "source": [
    "- What’s ‘elif’ and how is it different to ‘else’ and ‘if’ statements\n"
   ]
  },
  {
   "cell_type": "markdown",
   "id": "8df61985-5e0f-433c-9081-9d54090f6842",
   "metadata": {},
   "source": [
    "I want to go to the store to buy some groceries:\n",
    "\n",
    "- If they have eggs I want to buy 10 of them.\n",
    "- If they don't have eggs but we have salad at home then buy 5 slices of ham.\n",
    "- Otherwise buy a burger."
   ]
  },
  {
   "cell_type": "code",
   "execution_count": 84,
   "id": "61ca596a-027c-4c35-93a8-1f181865c3c4",
   "metadata": {},
   "outputs": [],
   "source": [
    "def do_groceries(have_eggs, have_salad_at_home):\n",
    "    \"\"\"\n",
    "    Returns what you bring back from the store based on that stupid scenario\n",
    "    \"\"\"\n",
    "    if have_eggs is True:\n",
    "        return \"10 eggs\"\n",
    "    elif have_salad_at_home is True:\n",
    "        return \"5 slices of ham\"\n",
    "    else:\n",
    "        return \"burger\""
   ]
  },
  {
   "cell_type": "code",
   "execution_count": 80,
   "id": "ffa01910-8cea-4a9f-932b-cf21b1bd0fb6",
   "metadata": {},
   "outputs": [
    {
     "data": {
      "text/plain": [
       "'10 eggs'"
      ]
     },
     "execution_count": 80,
     "metadata": {},
     "output_type": "execute_result"
    }
   ],
   "source": [
    "do_groceries(have_eggs=True, have_salad_at_home=True)"
   ]
  },
  {
   "cell_type": "code",
   "execution_count": null,
   "id": "e58206fb-f34f-46dc-bfe1-2e3bae38842a",
   "metadata": {},
   "outputs": [],
   "source": []
  },
  {
   "cell_type": "code",
   "execution_count": 81,
   "id": "1b340b54-aca7-4e55-8f69-d2e431c0db0a",
   "metadata": {},
   "outputs": [
    {
     "data": {
      "text/plain": [
       "'10 eggs'"
      ]
     },
     "execution_count": 81,
     "metadata": {},
     "output_type": "execute_result"
    }
   ],
   "source": [
    "do_groceries(have_eggs=True, have_salad_at_home=False)"
   ]
  },
  {
   "cell_type": "code",
   "execution_count": 82,
   "id": "b19f2185-c6f8-419a-8f5d-d1a9fcee901c",
   "metadata": {},
   "outputs": [
    {
     "data": {
      "text/plain": [
       "'5 slices of ham'"
      ]
     },
     "execution_count": 82,
     "metadata": {},
     "output_type": "execute_result"
    }
   ],
   "source": [
    "do_groceries(have_eggs=False, have_salad_at_home=True)"
   ]
  },
  {
   "cell_type": "code",
   "execution_count": 83,
   "id": "b163f3b9-75a0-4c79-b971-e573f3d9b1a2",
   "metadata": {},
   "outputs": [
    {
     "data": {
      "text/plain": [
       "'burger'"
      ]
     },
     "execution_count": 83,
     "metadata": {},
     "output_type": "execute_result"
    }
   ],
   "source": [
    "do_groceries(have_eggs=False, have_salad_at_home=False)"
   ]
  },
  {
   "cell_type": "code",
   "execution_count": null,
   "id": "3148c45f-a049-4800-a357-ae3460b87806",
   "metadata": {},
   "outputs": [],
   "source": [
    "def do_groceries(have_eggs, have_salad_at_home):\n",
    "    \"\"\"\n",
    "    Returns what you bring back from the store based on that stupid scenario\n",
    "    \"\"\"\n",
    "    if have_eggs is True:\n",
    "        return \"10 eggs\"\n",
    "    if have_salad_at_home is True:\n",
    "        return \"5 slices of ham\"\n",
    "    return \"burger\""
   ]
  },
  {
   "cell_type": "markdown",
   "id": "d1a9093b-8de0-4cf8-b4d3-b6d0ce8759e1",
   "metadata": {},
   "source": [
    "- What is a list comprehension?\n",
    "\n",
    "A list comprehension is the python equivalent of mathematical expression of the form:\n",
    "\n",
    "$$\n",
    "S_1 = \\{2, 5, 3\\}\n",
    "$$\n",
    "\n",
    "$$\n",
    "S_2 = \\{f(x) |x \\in S_1\\}\n",
    "$$\n",
    "\n",
    "for $f(x)=x ^ 3 - 1$\n",
    "\n",
    "this is:\n",
    "\n",
    "$$\n",
    "S_2 = \\{2 ^ 3 - 1, 5 ^ 3 - 1, 3 ^ 3 - 1\\}\n",
    "$$"
   ]
  },
  {
   "cell_type": "code",
   "execution_count": 87,
   "id": "bec121d0-c41f-407b-bac4-6c5549d72e72",
   "metadata": {},
   "outputs": [],
   "source": [
    "set_1 = (2, 5, 3)\n",
    "set_2 = [x ** 3 - 1 for x in set_1]"
   ]
  },
  {
   "cell_type": "code",
   "execution_count": 88,
   "id": "55d8296e-b4f5-419a-9a05-d81171a28a16",
   "metadata": {},
   "outputs": [
    {
     "data": {
      "text/plain": [
       "[7, 124, 26]"
      ]
     },
     "execution_count": 88,
     "metadata": {},
     "output_type": "execute_result"
    }
   ],
   "source": [
    "set_2"
   ]
  },
  {
   "cell_type": "code",
   "execution_count": null,
   "id": "cea1c2d4-cdf7-4484-99f2-cd10a633e8a4",
   "metadata": {},
   "outputs": [],
   "source": []
  }
 ],
 "metadata": {
  "kernelspec": {
   "display_name": "Python 3 (ipykernel)",
   "language": "python",
   "name": "python3"
  },
  "language_info": {
   "codemirror_mode": {
    "name": "ipython",
    "version": 3
   },
   "file_extension": ".py",
   "mimetype": "text/x-python",
   "name": "python",
   "nbconvert_exporter": "python",
   "pygments_lexer": "ipython3",
   "version": "3.13.0"
  }
 },
 "nbformat": 4,
 "nbformat_minor": 5
}
