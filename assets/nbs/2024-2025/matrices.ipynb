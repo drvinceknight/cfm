{
 "cells": [
  {
   "cell_type": "markdown",
   "id": "804402de-8083-4ba9-88ef-e4e422210836",
   "metadata": {},
   "source": [
    "The matrix $A$ is given by $A=\\begin{pmatrix}1 & 1 & a\\\\ 2 & a & 1\\\\ a & 1 & 2 a\\end{pmatrix}$\n",
    "\n",
    "1. Find the determinant of $A$\n",
    "2. Hence find the values of $a$ for which $A$ is singular.\n",
    "3. For the following values of $a$, when possible obtain $A ^ {- 1}$\n",
    "   and confirm the result by computing $AA^{-1}$:\n",
    "\n",
    "   1. $a = 0$;\n",
    "   2. $a = 1$;\n",
    "   3. $a = 2$;\n",
    "   4. $a = 3$."
   ]
  },
  {
   "cell_type": "markdown",
   "id": "54d1a2fc-c782-4a78-b4a4-8eed59390f46",
   "metadata": {},
   "source": [
    "Let us define our matrix $A$:"
   ]
  },
  {
   "cell_type": "code",
   "execution_count": 3,
   "id": "996dbbe0-b812-4c11-a4da-b4c673972d23",
   "metadata": {},
   "outputs": [],
   "source": [
    "import sympy as sym"
   ]
  },
  {
   "cell_type": "code",
   "execution_count": 4,
   "id": "45b6adfa-d433-4e67-abaf-3b72c233841e",
   "metadata": {},
   "outputs": [
    {
     "data": {
      "text/latex": [
       "$\\displaystyle a$"
      ],
      "text/plain": [
       "a"
      ]
     },
     "execution_count": 4,
     "metadata": {},
     "output_type": "execute_result"
    }
   ],
   "source": [
    "a = sym.Symbol(\"a\")\n",
    "a"
   ]
  },
  {
   "cell_type": "code",
   "execution_count": 6,
   "id": "1987cd89-e9a5-4d55-805f-d7a75fd76d7f",
   "metadata": {},
   "outputs": [
    {
     "data": {
      "text/latex": [
       "$\\displaystyle \\left[\\begin{matrix}1 & 1 & a\\\\2 & a & 1\\\\a & 1 & 2 a\\end{matrix}\\right]$"
      ],
      "text/plain": [
       "Matrix([\n",
       "[1, 1,   a],\n",
       "[2, a,   1],\n",
       "[a, 1, 2*a]])"
      ]
     },
     "execution_count": 6,
     "metadata": {},
     "output_type": "execute_result"
    }
   ],
   "source": [
    "A = sym.Matrix(\n",
    "    (\n",
    "        (1, 1, a),\n",
    "        (2, a, 1),\n",
    "        (a, 1, 2 * a),\n",
    "    )\n",
    ")\n",
    "A"
   ]
  },
  {
   "cell_type": "markdown",
   "id": "3d100ba8-8cb0-4449-8e31-75dd8590eba2",
   "metadata": {},
   "source": [
    "Let us now use sympy to directly compute the determinant:"
   ]
  },
  {
   "cell_type": "code",
   "execution_count": 8,
   "id": "e8d2c673-ae25-48c4-ae93-816e9bfb99d5",
   "metadata": {},
   "outputs": [
    {
     "data": {
      "text/latex": [
       "$\\displaystyle - a^{3} + 2 a^{2} - a - 1$"
      ],
      "text/plain": [
       "-a**3 + 2*a**2 - a - 1"
      ]
     },
     "execution_count": 8,
     "metadata": {},
     "output_type": "execute_result"
    }
   ],
   "source": [
    "determinant = A.det()\n",
    "determinant"
   ]
  },
  {
   "cell_type": "markdown",
   "id": "c447a399-3e06-4b81-8924-7566efc47aaa",
   "metadata": {},
   "source": [
    "A matrix is singular if it has determinant 0. So we can solve the following equation:"
   ]
  },
  {
   "cell_type": "code",
   "execution_count": 9,
   "id": "9cf37537-e9a0-4689-a282-423b4f9da545",
   "metadata": {},
   "outputs": [
    {
     "data": {
      "text/latex": [
       "$\\displaystyle \\left\\{- \\frac{\\sqrt[3]{\\frac{3 \\sqrt{93}}{2} + \\frac{29}{2}}}{3} - \\frac{1}{3 \\sqrt[3]{\\frac{3 \\sqrt{93}}{2} + \\frac{29}{2}}} + \\frac{2}{3}, \\frac{1}{6 \\sqrt[3]{\\frac{3 \\sqrt{93}}{2} + \\frac{29}{2}}} + \\frac{\\sqrt[3]{\\frac{3 \\sqrt{93}}{2} + \\frac{29}{2}}}{6} + \\frac{2}{3} + i \\left(- \\frac{\\sqrt{3}}{6 \\sqrt[3]{\\frac{3 \\sqrt{93}}{2} + \\frac{29}{2}}} + \\frac{\\sqrt{3} \\sqrt[3]{\\frac{3 \\sqrt{93}}{2} + \\frac{29}{2}}}{6}\\right), \\frac{1}{6 \\sqrt[3]{\\frac{3 \\sqrt{93}}{2} + \\frac{29}{2}}} + \\frac{\\sqrt[3]{\\frac{3 \\sqrt{93}}{2} + \\frac{29}{2}}}{6} + \\frac{2}{3} + i \\left(- \\frac{\\sqrt{3} \\sqrt[3]{\\frac{3 \\sqrt{93}}{2} + \\frac{29}{2}}}{6} + \\frac{\\sqrt{3}}{6 \\sqrt[3]{\\frac{3 \\sqrt{93}}{2} + \\frac{29}{2}}}\\right)\\right\\}$"
      ],
      "text/plain": [
       "{-(3*sqrt(93)/2 + 29/2)**(1/3)/3 - 1/(3*(3*sqrt(93)/2 + 29/2)**(1/3)) + 2/3, 1/(6*(3*sqrt(93)/2 + 29/2)**(1/3)) + (3*sqrt(93)/2 + 29/2)**(1/3)/6 + 2/3 + I*(-sqrt(3)/(6*(3*sqrt(93)/2 + 29/2)**(1/3)) + sqrt(3)*(3*sqrt(93)/2 + 29/2)**(1/3)/6), 1/(6*(3*sqrt(93)/2 + 29/2)**(1/3)) + (3*sqrt(93)/2 + 29/2)**(1/3)/6 + 2/3 + I*(-sqrt(3)*(3*sqrt(93)/2 + 29/2)**(1/3)/6 + sqrt(3)/(6*(3*sqrt(93)/2 + 29/2)**(1/3)))}"
      ]
     },
     "execution_count": 9,
     "metadata": {},
     "output_type": "execute_result"
    }
   ],
   "source": [
    "sym.solveset(determinant, a)"
   ]
  },
  {
   "cell_type": "markdown",
   "id": "2891abfd-0b11-4652-b24c-3f56c8bd397c",
   "metadata": {},
   "source": [
    "Let us now compute $A^{-1}$ for the following values of $a$:"
   ]
  },
  {
   "cell_type": "code",
   "execution_count": 14,
   "id": "8ece484d-0279-4bcd-969c-8a2416771ae2",
   "metadata": {},
   "outputs": [
    {
     "data": {
      "text/latex": [
       "$\\displaystyle \\left[\\begin{matrix}1 & 0 & -1\\\\0 & 0 & 1\\\\-2 & 1 & 2\\end{matrix}\\right]$"
      ],
      "text/plain": [
       "Matrix([\n",
       "[ 1, 0, -1],\n",
       "[ 0, 0,  1],\n",
       "[-2, 1,  2]])"
      ]
     },
     "execution_count": 14,
     "metadata": {},
     "output_type": "execute_result"
    }
   ],
   "source": [
    "A_inverse_for_a_0 = A.inv().subs({a: 0})\n",
    "A_inverse_for_a_0"
   ]
  },
  {
   "cell_type": "code",
   "execution_count": 15,
   "id": "76d6908a-6c22-48fe-b58c-03e1978851b2",
   "metadata": {},
   "outputs": [
    {
     "data": {
      "text/latex": [
       "$\\displaystyle \\left[\\begin{matrix}1 & 0 & 0\\\\0 & 1 & 0\\\\0 & 0 & 1\\end{matrix}\\right]$"
      ],
      "text/plain": [
       "Matrix([\n",
       "[1, 0, 0],\n",
       "[0, 1, 0],\n",
       "[0, 0, 1]])"
      ]
     },
     "execution_count": 15,
     "metadata": {},
     "output_type": "execute_result"
    }
   ],
   "source": [
    "A_inverse_for_a_0 @ A.subs({a: 0})"
   ]
  },
  {
   "cell_type": "code",
   "execution_count": 16,
   "id": "e8d0b0c4-9980-459a-af24-0197e7ac93a2",
   "metadata": {},
   "outputs": [
    {
     "data": {
      "text/latex": [
       "$\\displaystyle \\left[\\begin{matrix}-1 & 1 & 0\\\\3 & -1 & -1\\\\-1 & 0 & 1\\end{matrix}\\right]$"
      ],
      "text/plain": [
       "Matrix([\n",
       "[-1,  1,  0],\n",
       "[ 3, -1, -1],\n",
       "[-1,  0,  1]])"
      ]
     },
     "execution_count": 16,
     "metadata": {},
     "output_type": "execute_result"
    }
   ],
   "source": [
    "A_inverse_for_a_1 = A.inv().subs({a: 1})\n",
    "A_inverse_for_a_1"
   ]
  },
  {
   "cell_type": "code",
   "execution_count": 17,
   "id": "30542fdd-8ce5-4e09-831c-441e81edce13",
   "metadata": {},
   "outputs": [
    {
     "data": {
      "text/latex": [
       "$\\displaystyle \\left[\\begin{matrix}1 & 0 & 0\\\\0 & 1 & 0\\\\0 & 0 & 1\\end{matrix}\\right]$"
      ],
      "text/plain": [
       "Matrix([\n",
       "[1, 0, 0],\n",
       "[0, 1, 0],\n",
       "[0, 0, 1]])"
      ]
     },
     "execution_count": 17,
     "metadata": {},
     "output_type": "execute_result"
    }
   ],
   "source": [
    "A_inverse_for_a_1 @ A.subs({a: 1})"
   ]
  },
  {
   "cell_type": "code",
   "execution_count": 18,
   "id": "9f9208e3-45c8-418a-a7e9-f7f2e59ad2d7",
   "metadata": {},
   "outputs": [
    {
     "data": {
      "text/latex": [
       "$\\displaystyle \\left[\\begin{matrix}- \\frac{7}{3} & \\frac{2}{3} & 1\\\\2 & 0 & -1\\\\\\frac{2}{3} & - \\frac{1}{3} & 0\\end{matrix}\\right]$"
      ],
      "text/plain": [
       "Matrix([\n",
       "[-7/3,  2/3,  1],\n",
       "[   2,    0, -1],\n",
       "[ 2/3, -1/3,  0]])"
      ]
     },
     "execution_count": 18,
     "metadata": {},
     "output_type": "execute_result"
    }
   ],
   "source": [
    "A_inverse_for_a_2 = A.inv().subs({a: 2})\n",
    "A_inverse_for_a_2"
   ]
  },
  {
   "cell_type": "code",
   "execution_count": 19,
   "id": "b4018cac-3e98-4e95-baae-4c8e47d02560",
   "metadata": {},
   "outputs": [
    {
     "data": {
      "text/latex": [
       "$\\displaystyle \\left[\\begin{matrix}1 & 0 & 0\\\\0 & 1 & 0\\\\0 & 0 & 1\\end{matrix}\\right]$"
      ],
      "text/plain": [
       "Matrix([\n",
       "[1, 0, 0],\n",
       "[0, 1, 0],\n",
       "[0, 0, 1]])"
      ]
     },
     "execution_count": 19,
     "metadata": {},
     "output_type": "execute_result"
    }
   ],
   "source": [
    "A_inverse_for_a_2 @ A.subs({a: 2})"
   ]
  },
  {
   "cell_type": "code",
   "execution_count": 20,
   "id": "f45f173f-5de0-4161-afbd-1e3c1ace877b",
   "metadata": {},
   "outputs": [
    {
     "data": {
      "text/latex": [
       "$\\displaystyle \\left[\\begin{matrix}- \\frac{17}{13} & \\frac{3}{13} & \\frac{8}{13}\\\\\\frac{9}{13} & \\frac{3}{13} & - \\frac{5}{13}\\\\\\frac{7}{13} & - \\frac{2}{13} & - \\frac{1}{13}\\end{matrix}\\right]$"
      ],
      "text/plain": [
       "Matrix([\n",
       "[-17/13,  3/13,  8/13],\n",
       "[  9/13,  3/13, -5/13],\n",
       "[  7/13, -2/13, -1/13]])"
      ]
     },
     "execution_count": 20,
     "metadata": {},
     "output_type": "execute_result"
    }
   ],
   "source": [
    "A_inverse_for_a_3 = A.inv().subs({a: 3})\n",
    "A_inverse_for_a_3"
   ]
  },
  {
   "cell_type": "code",
   "execution_count": 21,
   "id": "38fb81c8-56e5-4606-9f75-562b70002958",
   "metadata": {},
   "outputs": [
    {
     "data": {
      "text/latex": [
       "$\\displaystyle \\left[\\begin{matrix}1 & 0 & 0\\\\0 & 1 & 0\\\\0 & 0 & 1\\end{matrix}\\right]$"
      ],
      "text/plain": [
       "Matrix([\n",
       "[1, 0, 0],\n",
       "[0, 1, 0],\n",
       "[0, 0, 1]])"
      ]
     },
     "execution_count": 21,
     "metadata": {},
     "output_type": "execute_result"
    }
   ],
   "source": [
    "A_inverse_for_a_3 @ A.subs({a: 3})"
   ]
  },
  {
   "cell_type": "code",
   "execution_count": 22,
   "id": "9d682a6b-1376-4be5-9241-f5293f04f435",
   "metadata": {},
   "outputs": [
    {
     "data": {
      "text/latex": [
       "$\\displaystyle \\left[\\begin{matrix}1 & 1 & a\\\\2 & a & 1\\\\a & 1 & 2 a\\end{matrix}\\right]$"
      ],
      "text/plain": [
       "Matrix([\n",
       "[1, 1,   a],\n",
       "[2, a,   1],\n",
       "[a, 1, 2*a]])"
      ]
     },
     "execution_count": 22,
     "metadata": {},
     "output_type": "execute_result"
    }
   ],
   "source": [
    "A"
   ]
  },
  {
   "cell_type": "code",
   "execution_count": 23,
   "id": "fc32f1e9-b3ed-4fc4-b098-3d613774a713",
   "metadata": {},
   "outputs": [],
   "source": [
    "B = sym.Matrix(\n",
    "    (\n",
    "        (5, 1, a),\n",
    "        (2, a, 3),\n",
    "        (a, 1, 2),\n",
    "    )\n",
    ")"
   ]
  },
  {
   "cell_type": "code",
   "execution_count": 24,
   "id": "f615efe6-888a-4d9c-8bc4-dfd5c38f960c",
   "metadata": {},
   "outputs": [
    {
     "data": {
      "text/latex": [
       "$\\displaystyle \\left[\\begin{matrix}a^{2} + 7 & 2 a + 1 & 3 a + 3\\\\3 a + 10 & a^{2} + 3 & 5 a + 2\\\\2 a^{2} + 5 a + 2 & 4 a & a^{2} + 4 a + 3\\end{matrix}\\right]$"
      ],
      "text/plain": [
       "Matrix([\n",
       "[        a**2 + 7,  2*a + 1,        3*a + 3],\n",
       "[        3*a + 10, a**2 + 3,        5*a + 2],\n",
       "[2*a**2 + 5*a + 2,      4*a, a**2 + 4*a + 3]])"
      ]
     },
     "execution_count": 24,
     "metadata": {},
     "output_type": "execute_result"
    }
   ],
   "source": [
    "A * B"
   ]
  },
  {
   "cell_type": "code",
   "execution_count": 25,
   "id": "a6833e4c-62a1-4383-94aa-45a280451907",
   "metadata": {},
   "outputs": [
    {
     "data": {
      "text/latex": [
       "$\\displaystyle \\left[\\begin{matrix}a^{2} + 7 & 2 a + 1 & 3 a + 3\\\\3 a + 10 & a^{2} + 3 & 5 a + 2\\\\2 a^{2} + 5 a + 2 & 4 a & a^{2} + 4 a + 3\\end{matrix}\\right]$"
      ],
      "text/plain": [
       "Matrix([\n",
       "[        a**2 + 7,  2*a + 1,        3*a + 3],\n",
       "[        3*a + 10, a**2 + 3,        5*a + 2],\n",
       "[2*a**2 + 5*a + 2,      4*a, a**2 + 4*a + 3]])"
      ]
     },
     "execution_count": 25,
     "metadata": {},
     "output_type": "execute_result"
    }
   ],
   "source": [
    "A @ B"
   ]
  },
  {
   "cell_type": "code",
   "execution_count": null,
   "id": "30b0b789-757e-449f-b156-e97731fedc2e",
   "metadata": {},
   "outputs": [],
   "source": []
  }
 ],
 "metadata": {
  "kernelspec": {
   "display_name": "Python 3 (ipykernel)",
   "language": "python",
   "name": "python3"
  },
  "language_info": {
   "codemirror_mode": {
    "name": "ipython",
    "version": 3
   },
   "file_extension": ".py",
   "mimetype": "text/x-python",
   "name": "python",
   "nbconvert_exporter": "python",
   "pygments_lexer": "ipython3",
   "version": "3.13.0"
  }
 },
 "nbformat": 4,
 "nbformat_minor": 5
}
