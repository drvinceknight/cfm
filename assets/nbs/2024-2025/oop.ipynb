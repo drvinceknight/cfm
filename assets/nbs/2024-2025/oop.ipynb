{
 "cells": [
  {
   "cell_type": "markdown",
   "id": "91255f10-598a-4ec8-bc39-591f8daa2844",
   "metadata": {},
   "source": [
    "# Programming a clock"
   ]
  },
  {
   "cell_type": "code",
   "execution_count": 4,
   "id": "e3cd26d6-06f7-4411-b43d-d78bc9b39af2",
   "metadata": {},
   "outputs": [
    {
     "data": {
      "text/plain": [
       "'dogcat'"
      ]
     },
     "execution_count": 4,
     "metadata": {},
     "output_type": "execute_result"
    }
   ],
   "source": [
    "\"dog\" + \"cat\""
   ]
  },
  {
   "cell_type": "code",
   "execution_count": 1,
   "id": "d9358909-17ad-472d-be22-7ff58eb6d9d2",
   "metadata": {},
   "outputs": [
    {
     "data": {
      "text/plain": [
       "[11, 27, 40]"
      ]
     },
     "execution_count": 1,
     "metadata": {},
     "output_type": "execute_result"
    }
   ],
   "source": [
    "time = [11, 27, 40]\n",
    "time"
   ]
  },
  {
   "cell_type": "code",
   "execution_count": 2,
   "id": "cb774236-ce44-46a1-af78-86fc58c43071",
   "metadata": {},
   "outputs": [],
   "source": [
    "delta_time = [0, 40, 15]"
   ]
  },
  {
   "cell_type": "code",
   "execution_count": 3,
   "id": "9b3c5010-19b3-4ea0-bc11-b2c0ac542387",
   "metadata": {},
   "outputs": [
    {
     "data": {
      "text/plain": [
       "[11, 27, 40, 0, 40, 15]"
      ]
     },
     "execution_count": 3,
     "metadata": {},
     "output_type": "execute_result"
    }
   ],
   "source": [
    "time + delta_time"
   ]
  },
  {
   "cell_type": "code",
   "execution_count": null,
   "id": "6b8158ad-d608-4f7e-ae9a-6a8a64db2db6",
   "metadata": {},
   "outputs": [],
   "source": [
    "[11, 67, 55]"
   ]
  },
  {
   "cell_type": "code",
   "execution_count": 6,
   "id": "d66e3066-bd00-4fd7-be57-8aa387669dcb",
   "metadata": {},
   "outputs": [],
   "source": [
    "class Clock:\n",
    "    \"\"\"\n",
    "    A class for a clock.\n",
    "\n",
    "    It has the ability to have hours, minutes and seconds.\n",
    "    \"\"\""
   ]
  },
  {
   "cell_type": "code",
   "execution_count": 7,
   "id": "696b00e9-30a1-4d7c-9875-38a88d2fafa7",
   "metadata": {},
   "outputs": [],
   "source": [
    "wakeup_time = Clock()"
   ]
  },
  {
   "cell_type": "code",
   "execution_count": 8,
   "id": "4797cd29-59ee-42d7-b0a6-c365341eb073",
   "metadata": {},
   "outputs": [
    {
     "data": {
      "text/plain": [
       "<__main__.Clock at 0x103dd02f0>"
      ]
     },
     "execution_count": 8,
     "metadata": {},
     "output_type": "execute_result"
    }
   ],
   "source": [
    "wakeup_time"
   ]
  },
  {
   "cell_type": "code",
   "execution_count": 9,
   "id": "4f38e906-589f-4b51-8281-67370be03348",
   "metadata": {},
   "outputs": [
    {
     "data": {
      "text/plain": [
       "<__main__.Clock at 0x1038dbb10>"
      ]
     },
     "execution_count": 9,
     "metadata": {},
     "output_type": "execute_result"
    }
   ],
   "source": [
    "bed_time = Clock()\n",
    "bed_time"
   ]
  },
  {
   "cell_type": "code",
   "execution_count": 10,
   "id": "bcef0e5e-012e-4705-8876-3f276edeeda4",
   "metadata": {},
   "outputs": [],
   "source": [
    "bed_time.hour = 8\n",
    "bed_time.minutes = 30\n",
    "bed_time.seconds = 0"
   ]
  },
  {
   "cell_type": "code",
   "execution_count": 11,
   "id": "ad96d2f2-f7c2-45b1-9e9a-7bdedb1c21d4",
   "metadata": {},
   "outputs": [
    {
     "ename": "NameError",
     "evalue": "name 'minutes' is not defined",
     "output_type": "error",
     "traceback": [
      "\u001b[0;31m---------------------------------------------------------------------------\u001b[0m",
      "\u001b[0;31mNameError\u001b[0m                                 Traceback (most recent call last)",
      "Cell \u001b[0;32mIn[11], line 1\u001b[0m\n\u001b[0;32m----> 1\u001b[0m \u001b[43mminutes\u001b[49m\n",
      "\u001b[0;31mNameError\u001b[0m: name 'minutes' is not defined"
     ]
    }
   ],
   "source": [
    "minutes"
   ]
  },
  {
   "cell_type": "code",
   "execution_count": 12,
   "id": "7d52ef24-73c8-401c-913b-a0c478dbb9a2",
   "metadata": {},
   "outputs": [
    {
     "data": {
      "text/plain": [
       "8"
      ]
     },
     "execution_count": 12,
     "metadata": {},
     "output_type": "execute_result"
    }
   ],
   "source": [
    "bed_time.hour"
   ]
  },
  {
   "cell_type": "code",
   "execution_count": 13,
   "id": "394285b3-484b-4c20-8dea-57e09f7668f7",
   "metadata": {},
   "outputs": [
    {
     "data": {
      "text/plain": [
       "30"
      ]
     },
     "execution_count": 13,
     "metadata": {},
     "output_type": "execute_result"
    }
   ],
   "source": [
    "bed_time.minutes"
   ]
  },
  {
   "cell_type": "code",
   "execution_count": 14,
   "id": "c8225f6e-76e2-4e19-8e7c-76c29848ead5",
   "metadata": {},
   "outputs": [],
   "source": [
    "wakeup_time.hour = 5\n",
    "wakeup_time.minutes = 0"
   ]
  },
  {
   "cell_type": "code",
   "execution_count": 15,
   "id": "851eb0ee-399a-49c5-b802-699d4d937342",
   "metadata": {},
   "outputs": [
    {
     "data": {
      "text/plain": [
       "5"
      ]
     },
     "execution_count": 15,
     "metadata": {},
     "output_type": "execute_result"
    }
   ],
   "source": [
    "wakeup_time.hour"
   ]
  },
  {
   "cell_type": "code",
   "execution_count": 16,
   "id": "a308b23c-97ef-46e2-9496-d5e2086fcb5d",
   "metadata": {},
   "outputs": [
    {
     "data": {
      "text/plain": [
       "\u001b[0;31mInit signature:\u001b[0m \u001b[0mClock\u001b[0m\u001b[0;34m(\u001b[0m\u001b[0;34m)\u001b[0m\u001b[0;34m\u001b[0m\u001b[0;34m\u001b[0m\u001b[0m\n",
       "\u001b[0;31mDocstring:\u001b[0m     \n",
       "A class for a clock.\n",
       "\n",
       "It has the ability to have hours, minutes and seconds.\n",
       "\u001b[0;31mType:\u001b[0m           type\n",
       "\u001b[0;31mSubclasses:\u001b[0m     "
      ]
     },
     "metadata": {},
     "output_type": "display_data"
    }
   ],
   "source": [
    "Clock?"
   ]
  },
  {
   "cell_type": "markdown",
   "id": "61f81531-755b-44a8-a9d2-9a5402409697",
   "metadata": {},
   "source": [
    "Let us add the ability to \"see\" the clock nicely:"
   ]
  },
  {
   "cell_type": "code",
   "execution_count": 34,
   "id": "09b9dbdc-6bcc-45bd-853f-ec38ffd670a2",
   "metadata": {},
   "outputs": [],
   "source": [
    "class Clock:\n",
    "    \"\"\"\n",
    "    A class for a clock.\n",
    "\n",
    "    It has the ability to have hours, minutes and seconds.\n",
    "    \"\"\"\n",
    "    def read_clock(self):\n",
    "        return f\"{self.hour} H : {self.minutes} m\""
   ]
  },
  {
   "cell_type": "code",
   "execution_count": 35,
   "id": "0d81425f-366d-4e1e-a828-5fde1cbd6f27",
   "metadata": {},
   "outputs": [],
   "source": [
    "wakeup_time = Clock()\n",
    "wakeup_time.hour = 5\n",
    "wakeup_time.minutes = 0"
   ]
  },
  {
   "cell_type": "code",
   "execution_count": 36,
   "id": "7471c3a9-fbfc-4f83-afc3-86d78fe94a21",
   "metadata": {},
   "outputs": [
    {
     "data": {
      "text/plain": [
       "'5 H : 0 m'"
      ]
     },
     "execution_count": 36,
     "metadata": {},
     "output_type": "execute_result"
    }
   ],
   "source": [
    "wakeup_time.read_clock()"
   ]
  },
  {
   "cell_type": "code",
   "execution_count": 37,
   "id": "19f30fb1-e62e-442a-b511-d52ef589f4ca",
   "metadata": {},
   "outputs": [],
   "source": [
    "bed_time = Clock()\n",
    "bed_time.hour = 8\n",
    "bed_time.minutes = 30"
   ]
  },
  {
   "cell_type": "code",
   "execution_count": 38,
   "id": "fac68040-1521-4cd1-9db9-74991f3d7097",
   "metadata": {},
   "outputs": [
    {
     "data": {
      "text/plain": [
       "'8 H : 30 m'"
      ]
     },
     "execution_count": 38,
     "metadata": {},
     "output_type": "execute_result"
    }
   ],
   "source": [
    "bed_time.read_clock()"
   ]
  },
  {
   "cell_type": "markdown",
   "id": "ba0e67c3-e97c-420b-bc35-9a78c3969b79",
   "metadata": {},
   "source": [
    "We have seen other examples of this `self` idea. For example with matrices in Sympy."
   ]
  },
  {
   "cell_type": "code",
   "execution_count": 39,
   "id": "f620f323-77b4-4c7f-8ecc-b2eab4dfc868",
   "metadata": {},
   "outputs": [],
   "source": [
    "import sympy as sym"
   ]
  },
  {
   "cell_type": "code",
   "execution_count": 43,
   "id": "60655ac7-a2ff-4e39-8f08-75644a31b31b",
   "metadata": {},
   "outputs": [
    {
     "data": {
      "text/latex": [
       "$\\displaystyle x$"
      ],
      "text/plain": [
       "x"
      ]
     },
     "execution_count": 43,
     "metadata": {},
     "output_type": "execute_result"
    }
   ],
   "source": [
    "x = sym.Symbol(\"x\")\n",
    "x"
   ]
  },
  {
   "cell_type": "code",
   "execution_count": 44,
   "id": "849f47c5-57db-48ee-9f00-57ecae7c1d9f",
   "metadata": {},
   "outputs": [
    {
     "data": {
      "text/latex": [
       "$\\displaystyle 2 x + 5$"
      ],
      "text/plain": [
       "2*x + 5"
      ]
     },
     "execution_count": 44,
     "metadata": {},
     "output_type": "execute_result"
    }
   ],
   "source": [
    "expression = 2 * x  + 5\n",
    "expression"
   ]
  },
  {
   "cell_type": "code",
   "execution_count": 47,
   "id": "996c1ce8-9bd4-47bf-83db-f5d3c1f5e34b",
   "metadata": {},
   "outputs": [
    {
     "data": {
      "text/latex": [
       "$\\displaystyle 2$"
      ],
      "text/plain": [
       "2"
      ]
     },
     "execution_count": 47,
     "metadata": {},
     "output_type": "execute_result"
    }
   ],
   "source": [
    "expression.diff(x)"
   ]
  },
  {
   "cell_type": "code",
   "execution_count": 48,
   "id": "6cf36864-efbd-4f5e-94cf-93aad92ee9e8",
   "metadata": {},
   "outputs": [
    {
     "data": {
      "text/latex": [
       "$\\displaystyle 2$"
      ],
      "text/plain": [
       "2"
      ]
     },
     "execution_count": 48,
     "metadata": {},
     "output_type": "execute_result"
    }
   ],
   "source": [
    "sym.diff(expression, x)"
   ]
  },
  {
   "cell_type": "markdown",
   "id": "d82efe09-6022-48f1-821f-6f3c87f289a6",
   "metadata": {},
   "source": [
    "Let us return to improving our clock."
   ]
  },
  {
   "cell_type": "code",
   "execution_count": 49,
   "id": "a38817c5-71c6-476a-8d60-b45d96e00e09",
   "metadata": {},
   "outputs": [],
   "source": [
    "class Clock:\n",
    "    \"\"\"\n",
    "    A class for a clock.\n",
    "\n",
    "    It has the ability to have hours, minutes and seconds.\n",
    "    \"\"\"\n",
    "    def set_time(self, hour=0, minutes=0, seconds=0):\n",
    "        \"\"\"\n",
    "        This sets the time for the clock\n",
    "        \"\"\"\n",
    "        self.hour = hour\n",
    "        self.minutes = minutes\n",
    "        self.seconds = seconds\n",
    "    \n",
    "    def read_clock(self):\n",
    "        return f\"{self.hour} H : {self.minutes} m\""
   ]
  },
  {
   "cell_type": "code",
   "execution_count": 51,
   "id": "5ddf2dbf-19fd-4651-8f07-1ea0318bfef2",
   "metadata": {},
   "outputs": [
    {
     "data": {
      "text/plain": [
       "'5 H : 30 m'"
      ]
     },
     "execution_count": 51,
     "metadata": {},
     "output_type": "execute_result"
    }
   ],
   "source": [
    "wakeup_time = Clock()\n",
    "wakeup_time.set_time(hour=5, minutes=30)\n",
    "wakeup_time.read_clock()"
   ]
  },
  {
   "cell_type": "code",
   "execution_count": 63,
   "id": "c0d93d65-9827-42fd-b4b2-d4afd11260d6",
   "metadata": {},
   "outputs": [],
   "source": [
    "class Clock:\n",
    "    \"\"\"\n",
    "    A class for a clock.\n",
    "\n",
    "    It has the ability to have hours, minutes and seconds.\n",
    "    \"\"\"\n",
    "    def __init__(self, hour=0, minutes=0, seconds=0, alarm_time=None):\n",
    "        \"\"\"\n",
    "        This sets the time for the clock\n",
    "        \"\"\"\n",
    "        self.hour = hour\n",
    "        self.minutes = minutes\n",
    "        self.seconds = seconds\n",
    "        self.alarm_time = alarm_time\n",
    "    \n",
    "    def __repr__(self):\n",
    "        return f\"{self.hour} H : {self.minutes} m\""
   ]
  },
  {
   "cell_type": "code",
   "execution_count": 58,
   "id": "efcf0786-82ce-4a66-a2c0-34ee0c1ded7b",
   "metadata": {},
   "outputs": [
    {
     "data": {
      "text/plain": [
       "5 H : 0 m"
      ]
     },
     "execution_count": 58,
     "metadata": {},
     "output_type": "execute_result"
    }
   ],
   "source": [
    "wakeup_time = Clock(hour=5, minutes=0)\n",
    "wakeup_time"
   ]
  },
  {
   "cell_type": "code",
   "execution_count": 59,
   "id": "32b851f2-ac5c-4d59-a93d-c4992e11d139",
   "metadata": {},
   "outputs": [
    {
     "data": {
      "text/plain": [
       "5 H : 0 m"
      ]
     },
     "execution_count": 59,
     "metadata": {},
     "output_type": "execute_result"
    }
   ],
   "source": [
    "wakeup_time"
   ]
  },
  {
   "cell_type": "code",
   "execution_count": 66,
   "id": "7943b17d-b283-4a0b-be64-e19659bd861b",
   "metadata": {},
   "outputs": [
    {
     "data": {
      "text/plain": [
       "0 H : 0 m"
      ]
     },
     "execution_count": 66,
     "metadata": {},
     "output_type": "execute_result"
    }
   ],
   "source": [
    "new_clock = Clock(alarm_time=wakeup_time)\n",
    "new_clock"
   ]
  },
  {
   "cell_type": "code",
   "execution_count": 67,
   "id": "d130a3f4-961d-482b-92e4-bb0e54574632",
   "metadata": {},
   "outputs": [
    {
     "data": {
      "text/plain": [
       "5 H : 0 m"
      ]
     },
     "execution_count": 67,
     "metadata": {},
     "output_type": "execute_result"
    }
   ],
   "source": [
    "new_clock.alarm_time"
   ]
  },
  {
   "cell_type": "code",
   "execution_count": 62,
   "id": "333d42e2-220a-423a-9dfb-328d2ce50476",
   "metadata": {},
   "outputs": [
    {
     "data": {
      "text/plain": [
       "8 H : 30 m"
      ]
     },
     "execution_count": 62,
     "metadata": {},
     "output_type": "execute_result"
    }
   ],
   "source": [
    "bed_time = Clock(hour=8, minutes=30)\n",
    "bed_time"
   ]
  },
  {
   "cell_type": "markdown",
   "id": "d93ebdb6-1f76-423c-bdac-0d1a73d9734e",
   "metadata": {},
   "source": [
    "Let us now allow our clock to \"experience\" time increments."
   ]
  },
  {
   "cell_type": "code",
   "execution_count": 81,
   "id": "d30d90b8-8152-4469-9872-523281d553e8",
   "metadata": {},
   "outputs": [],
   "source": [
    "class Clock:\n",
    "    \"\"\"\n",
    "    A class for a clock.\n",
    "\n",
    "    It has the ability to have hours, minutes and seconds.\n",
    "    \"\"\"\n",
    "    def __init__(self, hour=0, minutes=0, seconds=0, alarm_time=None):\n",
    "        \"\"\"\n",
    "        This sets the time for the clock\n",
    "        \"\"\"\n",
    "        self.hour = hour\n",
    "        self.minutes = minutes\n",
    "        self.seconds = seconds\n",
    "        self.alarm_time = alarm_time\n",
    "    \n",
    "    def __repr__(self):\n",
    "        return f\"{self.hour} H : {self.minutes} m : {self.seconds} s\"\n",
    "\n",
    "    def add_seconds(self, amount_of_seconds):\n",
    "        \"\"\"\n",
    "        We want this to increment the time by a given amount of seconds.\n",
    "\n",
    "        Importanly, we need this to keep track of how many given increments of \n",
    "        60 seconds take place as this should increment the minutes\n",
    "        \"\"\"\n",
    "        number_of_new_minutes = int(amount_of_seconds / 60)\n",
    "        number_of_new_seconds = amount_of_seconds - number_of_new_minutes * 60\n",
    "        self.minutes += number_of_new_minutes\n",
    "        self.seconds += number_of_new_seconds\n",
    "        if self.seconds > 60:\n",
    "            self.seconds -= 60\n",
    "            self.minutes += 1"
   ]
  },
  {
   "cell_type": "code",
   "execution_count": 82,
   "id": "a5dfb6a7-3c0b-4fb9-97cd-cad540496ff5",
   "metadata": {},
   "outputs": [
    {
     "data": {
      "text/plain": [
       "8 H : 30 m : 0 s"
      ]
     },
     "execution_count": 82,
     "metadata": {},
     "output_type": "execute_result"
    }
   ],
   "source": [
    "bed_time = Clock(hour=8, minutes=30)\n",
    "bed_time"
   ]
  },
  {
   "cell_type": "code",
   "execution_count": 83,
   "id": "42341c85-b816-4465-bef3-27bcc8277c79",
   "metadata": {},
   "outputs": [
    {
     "data": {
      "text/plain": [
       "8 H : 30 m : 50 s"
      ]
     },
     "execution_count": 83,
     "metadata": {},
     "output_type": "execute_result"
    }
   ],
   "source": [
    "bed_time.add_seconds(amount_of_seconds=50)\n",
    "bed_time"
   ]
  },
  {
   "cell_type": "code",
   "execution_count": 84,
   "id": "21f012a4-6af8-4b7d-a836-619c73e58537",
   "metadata": {},
   "outputs": [
    {
     "data": {
      "text/plain": [
       "8 H : 31 m : 40 s"
      ]
     },
     "execution_count": 84,
     "metadata": {},
     "output_type": "execute_result"
    }
   ],
   "source": [
    "bed_time.add_seconds(amount_of_seconds=50)\n",
    "bed_time"
   ]
  },
  {
   "cell_type": "code",
   "execution_count": null,
   "id": "622a11dc-99e6-419c-a537-fe43588906b3",
   "metadata": {},
   "outputs": [],
   "source": [
    "bed_time."
   ]
  }
 ],
 "metadata": {
  "kernelspec": {
   "display_name": "Python 3 (ipykernel)",
   "language": "python",
   "name": "python3"
  },
  "language_info": {
   "codemirror_mode": {
    "name": "ipython",
    "version": 3
   },
   "file_extension": ".py",
   "mimetype": "text/x-python",
   "name": "python",
   "nbconvert_exporter": "python",
   "pygments_lexer": "ipython3",
   "version": "3.13.0"
  }
 },
 "nbformat": 4,
 "nbformat_minor": 5
}
