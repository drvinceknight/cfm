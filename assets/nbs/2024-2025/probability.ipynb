{
 "cells": [
  {
   "cell_type": "markdown",
   "id": "e29d6fe9-a94a-4ef1-9854-5f95c560b706",
   "metadata": {},
   "source": [
    "A delivery company delivers fragile items. If a delivery is on time it is usually because it was rushed. The probability that an item is delivered on time is $0.75$. The probability that an item is broken given that it arrived on time is $0.3$ and if it is late $0.2$.\n",
    "\n",
    "What is the probability that an item is late?\n",
    "Given that an item is broken what is the probability that it was on time?"
   ]
  },
  {
   "cell_type": "markdown",
   "id": "b8cf788c-72be-4d19-a6db-0ed39c95ea3b",
   "metadata": {},
   "source": [
    "We will start by writing some code to simulate a single delivery."
   ]
  },
  {
   "cell_type": "code",
   "execution_count": 1,
   "id": "78e8db4a-29af-41b8-a852-d6e3182137bd",
   "metadata": {},
   "outputs": [],
   "source": [
    "import random"
   ]
  },
  {
   "cell_type": "code",
   "execution_count": 2,
   "id": "a90d0e4b-8b74-4ed9-82d5-31553a0c7884",
   "metadata": {},
   "outputs": [
    {
     "data": {
      "text/plain": [
       "0.8444218515250481"
      ]
     },
     "execution_count": 2,
     "metadata": {},
     "output_type": "execute_result"
    }
   ],
   "source": [
    "random.seed(0)\n",
    "random.random()"
   ]
  },
  {
   "cell_type": "code",
   "execution_count": 3,
   "id": "2400a293-1dd2-477a-9634-ab2db5402988",
   "metadata": {},
   "outputs": [],
   "source": [
    "def is_delivery_late():\n",
    "    \"\"\"\n",
    "    Returns a boolean indicating if a given delivery is late or not.\n",
    "    \"\"\"\n",
    "    return random.random() > .75"
   ]
  },
  {
   "cell_type": "code",
   "execution_count": 5,
   "id": "dd7793c7-a2aa-444c-8ad1-e9b943cb9c56",
   "metadata": {},
   "outputs": [
    {
     "data": {
      "text/plain": [
       "\u001b[0;31mSignature:\u001b[0m \u001b[0mis_delivery_late\u001b[0m\u001b[0;34m(\u001b[0m\u001b[0;34m)\u001b[0m\u001b[0;34m\u001b[0m\u001b[0;34m\u001b[0m\u001b[0m\n",
       "\u001b[0;31mSource:\u001b[0m   \n",
       "\u001b[0;32mdef\u001b[0m \u001b[0mis_delivery_late\u001b[0m\u001b[0;34m(\u001b[0m\u001b[0;34m)\u001b[0m\u001b[0;34m:\u001b[0m\u001b[0;34m\u001b[0m\n",
       "\u001b[0;34m\u001b[0m    \u001b[0;34m\"\"\"\u001b[0m\n",
       "\u001b[0;34m    Returns a boolean indicating if a given delivery is late or not.\u001b[0m\n",
       "\u001b[0;34m    \"\"\"\u001b[0m\u001b[0;34m\u001b[0m\n",
       "\u001b[0;34m\u001b[0m    \u001b[0;32mreturn\u001b[0m \u001b[0mrandom\u001b[0m\u001b[0;34m.\u001b[0m\u001b[0mrandom\u001b[0m\u001b[0;34m(\u001b[0m\u001b[0;34m)\u001b[0m \u001b[0;34m>\u001b[0m \u001b[0;36m.75\u001b[0m\u001b[0;34m\u001b[0m\u001b[0;34m\u001b[0m\u001b[0m\n",
       "\u001b[0;31mFile:\u001b[0m      /var/folders/2p/gzkw2x1n7vb7g7p_c4d43vbw0000gp/T/ipykernel_20257/2667376045.py\n",
       "\u001b[0;31mType:\u001b[0m      function"
      ]
     },
     "metadata": {},
     "output_type": "display_data"
    }
   ],
   "source": [
    "is_delivery_late??"
   ]
  },
  {
   "cell_type": "markdown",
   "id": "acf98eea-c3ac-43b5-96ea-bf39aca8b58d",
   "metadata": {},
   "source": [
    "Now that we have the ability to simulate a delivery. Let us create a large number of deliveries:"
   ]
  },
  {
   "cell_type": "code",
   "execution_count": 14,
   "id": "7ab26727-7d2a-4ac9-bfe6-7cdfeb91a931",
   "metadata": {},
   "outputs": [],
   "source": [
    "number_of_repetitions = 10_000\n",
    "samples = [is_delivery_late() for repetition in range(number_of_repetitions)]"
   ]
  },
  {
   "cell_type": "code",
   "execution_count": 15,
   "id": "55494a8e-cc7e-41e3-9ddb-c2521ea5b352",
   "metadata": {},
   "outputs": [
    {
     "data": {
      "text/plain": [
       "10000"
      ]
     },
     "execution_count": 15,
     "metadata": {},
     "output_type": "execute_result"
    }
   ],
   "source": [
    "len(samples)"
   ]
  },
  {
   "cell_type": "code",
   "execution_count": 16,
   "id": "662c3667-5eeb-4787-a6bb-3bfd58be2165",
   "metadata": {},
   "outputs": [
    {
     "data": {
      "text/plain": [
       "list"
      ]
     },
     "execution_count": 16,
     "metadata": {},
     "output_type": "execute_result"
    }
   ],
   "source": [
    "type(samples)"
   ]
  },
  {
   "cell_type": "markdown",
   "id": "2348ffaa-1a79-450f-b96a-c31693b86903",
   "metadata": {},
   "source": [
    "We can now estimate the probability of a delivery being late:"
   ]
  },
  {
   "cell_type": "code",
   "execution_count": 17,
   "id": "8add7747-467e-43c0-810a-7c3de3e113e1",
   "metadata": {},
   "outputs": [
    {
     "data": {
      "text/plain": [
       "0.253"
      ]
     },
     "execution_count": 17,
     "metadata": {},
     "output_type": "execute_result"
    }
   ],
   "source": [
    "sum(samples) / number_of_repetitions"
   ]
  },
  {
   "cell_type": "markdown",
   "id": "d4efff1e-79a7-4c85-9a46-a38d90311911",
   "metadata": {},
   "source": [
    "This can be confirmed theoretically. If the probability of being late is $.75$ then the probability of being on time is $1 - .75=.25$"
   ]
  },
  {
   "cell_type": "markdown",
   "id": "4edf1fda-0eb4-44f4-8017-29e05a4ad2a0",
   "metadata": {},
   "source": [
    "Now to write some code to simulate the entire experiment: not just if it was late but also if it was broken."
   ]
  },
  {
   "cell_type": "code",
   "execution_count": 18,
   "id": "541efd39-c5e5-45e7-ae06-49bc0c2172b8",
   "metadata": {},
   "outputs": [],
   "source": [
    "def sample_experiment():\n",
    "    \"\"\"\n",
    "    This samples a delivery and depending on whether or not it is late\n",
    "    selects whether or not the item is broken.\n",
    "    \"\"\"\n",
    "    is_late = is_delivery_late()\n",
    "\n",
    "    if is_late is True:\n",
    "        probability_of_broken = .2\n",
    "    else:\n",
    "        probability_of_broken = .3\n",
    "\n",
    "    is_broken = random.random() < probability_of_broken\n",
    "    return is_late, is_broken"
   ]
  },
  {
   "cell_type": "code",
   "execution_count": 22,
   "id": "685520ce-0425-4c6b-865b-1cea6b42b71e",
   "metadata": {},
   "outputs": [
    {
     "data": {
      "text/plain": [
       "(True, False)"
      ]
     },
     "execution_count": 22,
     "metadata": {},
     "output_type": "execute_result"
    }
   ],
   "source": [
    "sample_experiment()"
   ]
  },
  {
   "cell_type": "markdown",
   "id": "cd9d90d4-c5c9-4e1c-9424-e30000d2c96a",
   "metadata": {},
   "source": [
    "Let us now repeat the experiments:"
   ]
  },
  {
   "cell_type": "code",
   "execution_count": 23,
   "id": "4ebed52b-37f0-419f-ad5a-d2e189d896fd",
   "metadata": {},
   "outputs": [],
   "source": [
    "samples = [sample_experiment() for repetition in range(number_of_repetitions)]"
   ]
  },
  {
   "cell_type": "code",
   "execution_count": 43,
   "id": "7116b94c-e8cc-4e05-88e9-a4bf27852d82",
   "metadata": {},
   "outputs": [
    {
     "data": {
      "text/plain": [
       "10000"
      ]
     },
     "execution_count": 43,
     "metadata": {},
     "output_type": "execute_result"
    }
   ],
   "source": [
    "len(samples)"
   ]
  },
  {
   "cell_type": "markdown",
   "id": "8ed40afc-9ae0-49c1-8519-3363fc340dd9",
   "metadata": {},
   "source": [
    "Let us now select the deliveries that were broken from all our deliveries:"
   ]
  },
  {
   "cell_type": "code",
   "execution_count": 44,
   "id": "307df3dd-3e62-43ad-ab7f-0d4261b6bd65",
   "metadata": {},
   "outputs": [],
   "source": [
    "deliveries_that_were_broken = [\n",
    "    (is_late, is_broken) \n",
    "    for (is_late, is_broken) in samples\n",
    "    if is_broken is True\n",
    "]"
   ]
  },
  {
   "cell_type": "code",
   "execution_count": 45,
   "id": "08fbc330-6a84-4362-834b-833c78f0b3c0",
   "metadata": {},
   "outputs": [
    {
     "data": {
      "text/plain": [
       "2746"
      ]
     },
     "execution_count": 45,
     "metadata": {},
     "output_type": "execute_result"
    }
   ],
   "source": [
    "len(deliveries_that_were_broken)"
   ]
  },
  {
   "cell_type": "markdown",
   "id": "b7bf914a-4bb2-43e2-a8ea-87b9991902e4",
   "metadata": {},
   "source": [
    "Out of those broken deliveries, how many were late:"
   ]
  },
  {
   "cell_type": "code",
   "execution_count": 48,
   "id": "754d03a2-56d3-4d74-8294-3a1715758f3c",
   "metadata": {},
   "outputs": [
    {
     "data": {
      "text/plain": [
       "513"
      ]
     },
     "execution_count": 48,
     "metadata": {},
     "output_type": "execute_result"
    }
   ],
   "source": [
    "number_of_broken_deliveries_that_were_late = sum(\n",
    "    is_late \n",
    "    for (is_late, is_broken) in deliveries_that_were_broken\n",
    ")\n",
    "number_of_broken_deliveries_that_were_late"
   ]
  },
  {
   "cell_type": "markdown",
   "id": "48380932-6408-4b80-86ff-4ed015e367ac",
   "metadata": {},
   "source": [
    "Thus the probability of an item being late **given** that it is broken is:"
   ]
  },
  {
   "cell_type": "code",
   "execution_count": 49,
   "id": "d8d371c9-9147-4267-990f-28859ca093bc",
   "metadata": {},
   "outputs": [
    {
     "data": {
      "text/plain": [
       "0.18681718863801894"
      ]
     },
     "execution_count": 49,
     "metadata": {},
     "output_type": "execute_result"
    }
   ],
   "source": [
    "number_of_broken_deliveries_that_were_late / len(deliveries_that_were_broken)"
   ]
  },
  {
   "cell_type": "markdown",
   "id": "40884900-1b33-4c03-a7ea-426d6a6dae2c",
   "metadata": {},
   "source": [
    "We can confirm this using Bayes' thereom:\n",
    "\n",
    "$$\n",
    "P(\\text{On time} |\\text{Broken})P(\\text{Broken})= P(\\text{Broken}|\\text{On time})P(\\text{On time})\n",
    "$$\n",
    "\n",
    "we know:\n",
    "\n",
    "$$\n",
    "P(\\text{Broken}|\\text{On time})=.3\n",
    "$$\n",
    "\n",
    "$$\n",
    "P(\\text{On time})=.75\n",
    "$$\n",
    "\n",
    "and can calculate:\n",
    "\n",
    "$$\n",
    "P(\\text{Broken}) = .3\\times .75 + .2\\times.25\n",
    "$$"
   ]
  },
  {
   "cell_type": "code",
   "execution_count": 50,
   "id": "24d03dd1-fb8b-4001-b816-91f3c5830cb9",
   "metadata": {},
   "outputs": [
    {
     "data": {
      "text/plain": [
       "0.8181818181818182"
      ]
     },
     "execution_count": 50,
     "metadata": {},
     "output_type": "execute_result"
    }
   ],
   "source": [
    "probability_of_on_time_if_broken = .3 * .75 / (.3 * .75 + .2 * .25)\n",
    "probability_of_on_time_if_broken"
   ]
  },
  {
   "cell_type": "markdown",
   "id": "52af3720-c3c8-49cc-aac3-19568c435061",
   "metadata": {},
   "source": [
    "Thus, the probability of being late if broken is:"
   ]
  },
  {
   "cell_type": "code",
   "execution_count": 51,
   "id": "907e0896-d795-49ee-9877-b8bff849129a",
   "metadata": {},
   "outputs": [
    {
     "data": {
      "text/plain": [
       "0.18181818181818177"
      ]
     },
     "execution_count": 51,
     "metadata": {},
     "output_type": "execute_result"
    }
   ],
   "source": [
    "1 - probability_of_on_time_if_broken"
   ]
  },
  {
   "cell_type": "code",
   "execution_count": null,
   "id": "26a4ca52-765b-40f2-9fa0-f244d0e9d119",
   "metadata": {},
   "outputs": [],
   "source": []
  }
 ],
 "metadata": {
  "kernelspec": {
   "display_name": "Python 3 (ipykernel)",
   "language": "python",
   "name": "python3"
  },
  "language_info": {
   "codemirror_mode": {
    "name": "ipython",
    "version": 3
   },
   "file_extension": ".py",
   "mimetype": "text/x-python",
   "name": "python",
   "nbconvert_exporter": "python",
   "pygments_lexer": "ipython3",
   "version": "3.13.0"
  }
 },
 "nbformat": 4,
 "nbformat_minor": 5
}
