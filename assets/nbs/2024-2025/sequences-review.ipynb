{
 "cells": [
  {
   "cell_type": "code",
   "execution_count": 3,
   "id": "16c7f911-14b8-4a64-a0ab-78dcd61baac1",
   "metadata": {},
   "outputs": [],
   "source": [
    "def get_sequence(n):\n",
    "    \"\"\"\n",
    "    ...\n",
    "    \"\"\"\n",
    "    if n == 4:\n",
    "        return 1\n",
    "    if n in [1, 2, 3]:\n",
    "        return n\n",
    "    return get_sequence(n - 2) + get_sequence(n - 1)"
   ]
  },
  {
   "cell_type": "code",
   "execution_count": 4,
   "id": "9a45515f-fe12-4491-a723-6be5e539874c",
   "metadata": {},
   "outputs": [
    {
     "data": {
      "text/plain": [
       "9"
      ]
     },
     "execution_count": 4,
     "metadata": {},
     "output_type": "execute_result"
    }
   ],
   "source": [
    "get_sequence(n=7)"
   ]
  },
  {
   "cell_type": "code",
   "execution_count": 5,
   "id": "011a80a7-9049-4d01-98ee-dfdd2244ecea",
   "metadata": {},
   "outputs": [
    {
     "ename": "RecursionError",
     "evalue": "maximum recursion depth exceeded",
     "output_type": "error",
     "traceback": [
      "\u001b[0;31m---------------------------------------------------------------------------\u001b[0m",
      "\u001b[0;31mRecursionError\u001b[0m                            Traceback (most recent call last)",
      "Cell \u001b[0;32mIn[5], line 1\u001b[0m\n\u001b[0;32m----> 1\u001b[0m \u001b[43mget_sequence\u001b[49m\u001b[43m(\u001b[49m\u001b[43mn\u001b[49m\u001b[38;5;241;43m=\u001b[39;49m\u001b[38;5;241;43m-\u001b[39;49m\u001b[38;5;241;43m2\u001b[39;49m\u001b[43m)\u001b[49m\n",
      "Cell \u001b[0;32mIn[3], line 9\u001b[0m, in \u001b[0;36mget_sequence\u001b[0;34m(n)\u001b[0m\n\u001b[1;32m      7\u001b[0m \u001b[38;5;28;01mif\u001b[39;00m n \u001b[38;5;129;01min\u001b[39;00m [\u001b[38;5;241m1\u001b[39m, \u001b[38;5;241m2\u001b[39m, \u001b[38;5;241m3\u001b[39m]:\n\u001b[1;32m      8\u001b[0m     \u001b[38;5;28;01mreturn\u001b[39;00m n\n\u001b[0;32m----> 9\u001b[0m \u001b[38;5;28;01mreturn\u001b[39;00m \u001b[43mget_sequence\u001b[49m\u001b[43m(\u001b[49m\u001b[43mn\u001b[49m\u001b[43m \u001b[49m\u001b[38;5;241;43m-\u001b[39;49m\u001b[43m \u001b[49m\u001b[38;5;241;43m2\u001b[39;49m\u001b[43m)\u001b[49m \u001b[38;5;241m+\u001b[39m get_sequence(n \u001b[38;5;241m-\u001b[39m \u001b[38;5;241m1\u001b[39m)\n",
      "Cell \u001b[0;32mIn[3], line 9\u001b[0m, in \u001b[0;36mget_sequence\u001b[0;34m(n)\u001b[0m\n\u001b[1;32m      7\u001b[0m \u001b[38;5;28;01mif\u001b[39;00m n \u001b[38;5;129;01min\u001b[39;00m [\u001b[38;5;241m1\u001b[39m, \u001b[38;5;241m2\u001b[39m, \u001b[38;5;241m3\u001b[39m]:\n\u001b[1;32m      8\u001b[0m     \u001b[38;5;28;01mreturn\u001b[39;00m n\n\u001b[0;32m----> 9\u001b[0m \u001b[38;5;28;01mreturn\u001b[39;00m \u001b[43mget_sequence\u001b[49m\u001b[43m(\u001b[49m\u001b[43mn\u001b[49m\u001b[43m \u001b[49m\u001b[38;5;241;43m-\u001b[39;49m\u001b[43m \u001b[49m\u001b[38;5;241;43m2\u001b[39;49m\u001b[43m)\u001b[49m \u001b[38;5;241m+\u001b[39m get_sequence(n \u001b[38;5;241m-\u001b[39m \u001b[38;5;241m1\u001b[39m)\n",
      "    \u001b[0;31m[... skipping similar frames: get_sequence at line 9 (2974 times)]\u001b[0m\n",
      "Cell \u001b[0;32mIn[3], line 9\u001b[0m, in \u001b[0;36mget_sequence\u001b[0;34m(n)\u001b[0m\n\u001b[1;32m      7\u001b[0m \u001b[38;5;28;01mif\u001b[39;00m n \u001b[38;5;129;01min\u001b[39;00m [\u001b[38;5;241m1\u001b[39m, \u001b[38;5;241m2\u001b[39m, \u001b[38;5;241m3\u001b[39m]:\n\u001b[1;32m      8\u001b[0m     \u001b[38;5;28;01mreturn\u001b[39;00m n\n\u001b[0;32m----> 9\u001b[0m \u001b[38;5;28;01mreturn\u001b[39;00m \u001b[43mget_sequence\u001b[49m\u001b[43m(\u001b[49m\u001b[43mn\u001b[49m\u001b[43m \u001b[49m\u001b[38;5;241;43m-\u001b[39;49m\u001b[43m \u001b[49m\u001b[38;5;241;43m2\u001b[39;49m\u001b[43m)\u001b[49m \u001b[38;5;241m+\u001b[39m get_sequence(n \u001b[38;5;241m-\u001b[39m \u001b[38;5;241m1\u001b[39m)\n",
      "\u001b[0;31mRecursionError\u001b[0m: maximum recursion depth exceeded"
     ]
    }
   ],
   "source": [
    "get_sequence(n=-2)"
   ]
  },
  {
   "cell_type": "markdown",
   "id": "7b3eefdc-63f6-4469-abef-b147faae9070",
   "metadata": {},
   "source": [
    "Coursework like exercise"
   ]
  },
  {
   "cell_type": "code",
   "execution_count": 7,
   "id": "8dc3bf5c-f6cf-46bd-b6aa-2c6f0d29d66e",
   "metadata": {},
   "outputs": [],
   "source": [
    "import sympy as sym\n",
    "\n",
    "c = sym.Symbol(\"c\")"
   ]
  },
  {
   "cell_type": "code",
   "execution_count": 8,
   "id": "1fcc6e81-14f1-4a6e-9015-343581a68f8a",
   "metadata": {},
   "outputs": [],
   "source": [
    "def get_sequence(n, c_value):\n",
    "    \"\"\"\n",
    "    This gives the nth term of the sequence defined in the question\n",
    "    \"\"\"\n",
    "    if n == 1:\n",
    "        return c_value\n",
    "    return 3 * get_sequence(n=n - 1, c_value=c_value) + c_value / n"
   ]
  },
  {
   "cell_type": "code",
   "execution_count": 11,
   "id": "f99626c0-2e67-4a7e-8bf0-2ca2ee92f604",
   "metadata": {},
   "outputs": [
    {
     "data": {
      "text/latex": [
       "$\\displaystyle c$"
      ],
      "text/plain": [
       "c"
      ]
     },
     "execution_count": 11,
     "metadata": {},
     "output_type": "execute_result"
    }
   ],
   "source": [
    "get_sequence(n=1, c_value=c)"
   ]
  },
  {
   "cell_type": "code",
   "execution_count": 12,
   "id": "8059a41c-3478-42c0-982a-f3936a2e7793",
   "metadata": {},
   "outputs": [
    {
     "data": {
      "text/latex": [
       "$\\displaystyle \\frac{65 c}{6}$"
      ],
      "text/plain": [
       "65*c/6"
      ]
     },
     "execution_count": 12,
     "metadata": {},
     "output_type": "execute_result"
    }
   ],
   "source": [
    "get_sequence(n=3, c_value=c)"
   ]
  },
  {
   "cell_type": "markdown",
   "id": "793a82af-a598-4634-9def-5bd714a81648",
   "metadata": {},
   "source": [
    "Let us now compute $\\sum_{i=1}^{15}a_i$:"
   ]
  },
  {
   "cell_type": "code",
   "execution_count": 15,
   "id": "95327040-e525-4f65-9dff-0179d82b93bd",
   "metadata": {},
   "outputs": [
    {
     "data": {
      "text/latex": [
       "$\\displaystyle \\frac{2748995546 c}{315}$"
      ],
      "text/plain": [
       "2748995546*c/315"
      ]
     },
     "execution_count": 15,
     "metadata": {},
     "output_type": "execute_result"
    }
   ],
   "source": [
    "sum(get_sequence(n=i, c_value=c) for i in range(1, 16))"
   ]
  },
  {
   "cell_type": "markdown",
   "id": "9581c399-94ff-4bc2-bf96-5d4c2cade13c",
   "metadata": {},
   "source": [
    "Let us write our expression for $f$:"
   ]
  },
  {
   "cell_type": "code",
   "execution_count": 20,
   "id": "ee482d63-eda5-422f-89ab-7c234113cb8d",
   "metadata": {},
   "outputs": [],
   "source": [
    "x = sym.Symbol(\"x\")\n",
    "c = sym.S(2)\n",
    "expression = get_sequence(n=1, c_value=c) + get_sequence(n=2, c_value=c) * x ** 1 + get_sequence(n=3, c_value=c) * x ** 2 + get_sequence(n=4, c_value=c) * x ** 3  "
   ]
  },
  {
   "cell_type": "code",
   "execution_count": 21,
   "id": "08e739c9-fe08-45ce-a33c-03c161405cd8",
   "metadata": {},
   "outputs": [
    {
     "data": {
      "text/latex": [
       "$\\displaystyle \\frac{131 x^{3}}{2} + \\frac{65 x^{2}}{3} + 7 x + 2$"
      ],
      "text/plain": [
       "131*x**3/2 + 65*x**2/3 + 7*x + 2"
      ]
     },
     "execution_count": 21,
     "metadata": {},
     "output_type": "execute_result"
    }
   ],
   "source": [
    "expression"
   ]
  },
  {
   "cell_type": "code",
   "execution_count": 25,
   "id": "baec9078-269f-44dc-8956-05323756c0bb",
   "metadata": {},
   "outputs": [
    {
     "data": {
      "text/latex": [
       "$\\displaystyle \\frac{131 x^{3}}{2} + \\frac{65 x^{2}}{3} + 7 x + 2$"
      ],
      "text/plain": [
       "131*x**3/2 + 65*x**2/3 + 7*x + 2"
      ]
     },
     "execution_count": 25,
     "metadata": {},
     "output_type": "execute_result"
    }
   ],
   "source": [
    "x = sym.Symbol(\"x\")\n",
    "c = sym.S(2)\n",
    "expression = sum(get_sequence(n=i, c_value=c) * x ** (i - 1) for i in range(1, 5))\n",
    "expression"
   ]
  },
  {
   "cell_type": "code",
   "execution_count": 27,
   "id": "b7e51bd4-47ea-4348-b66e-2673abb44d8e",
   "metadata": {},
   "outputs": [
    {
     "data": {
      "text/latex": [
       "$\\displaystyle \\frac{393 x^{2}}{2} + \\frac{130 x}{3} + 7$"
      ],
      "text/plain": [
       "393*x**2/2 + 130*x/3 + 7"
      ]
     },
     "execution_count": 27,
     "metadata": {},
     "output_type": "execute_result"
    }
   ],
   "source": [
    "sym.diff(expression, x)"
   ]
  },
  {
   "cell_type": "code",
   "execution_count": 28,
   "id": "47d2a232-0efa-442a-95e1-15780bda34e9",
   "metadata": {},
   "outputs": [
    {
     "data": {
      "text/latex": [
       "$\\displaystyle \\frac{131 x^{4}}{8} + \\frac{65 x^{3}}{9} + \\frac{7 x^{2}}{2} + 2 x$"
      ],
      "text/plain": [
       "131*x**4/8 + 65*x**3/9 + 7*x**2/2 + 2*x"
      ]
     },
     "execution_count": 28,
     "metadata": {},
     "output_type": "execute_result"
    }
   ],
   "source": [
    "sym.integrate(expression, x)"
   ]
  },
  {
   "cell_type": "markdown",
   "id": "44bbab1e-fa2d-4d1f-8a93-071d879ef996",
   "metadata": {},
   "source": [
    "# Question 3"
   ]
  },
  {
   "cell_type": "code",
   "execution_count": null,
   "id": "794ede8a-7186-449b-aaf4-f7934d03ee4d",
   "metadata": {},
   "outputs": [],
   "source": []
  },
  {
   "cell_type": "code",
   "execution_count": 29,
   "id": "5295543e-be14-46f9-ba2f-b313325396c1",
   "metadata": {},
   "outputs": [],
   "source": [
    "def get_sequence(n, first_term, common_difference):\n",
    "    \"\"\"\n",
    "    Return the nth term of a generic arithmetic sequence\n",
    "    \"\"\"\n",
    "    if n == 1:\n",
    "        return first_term\n",
    "    return get_sequence(n=n - 1, first_term=first_term, common_difference=common_difference) + common_difference"
   ]
  },
  {
   "cell_type": "code",
   "execution_count": 30,
   "id": "3cf8d5b8-d99e-418f-af64-7356d280d36f",
   "metadata": {},
   "outputs": [],
   "source": [
    "def addition(a, b):\n",
    "    return a + b"
   ]
  },
  {
   "cell_type": "code",
   "execution_count": 31,
   "id": "ec1225b9-658e-47f7-8031-a429c3b036c2",
   "metadata": {},
   "outputs": [
    {
     "data": {
      "text/plain": [
       "11"
      ]
     },
     "execution_count": 31,
     "metadata": {},
     "output_type": "execute_result"
    }
   ],
   "source": [
    "addition(a=5, b=6)"
   ]
  },
  {
   "cell_type": "code",
   "execution_count": 32,
   "id": "cb76b360-f536-4874-846f-bb547bd5fac0",
   "metadata": {},
   "outputs": [],
   "source": [
    "dog = 6"
   ]
  },
  {
   "cell_type": "code",
   "execution_count": 33,
   "id": "7d746885-627b-4129-8bc0-84641fb6c8f7",
   "metadata": {},
   "outputs": [
    {
     "data": {
      "text/plain": [
       "6"
      ]
     },
     "execution_count": 33,
     "metadata": {},
     "output_type": "execute_result"
    }
   ],
   "source": [
    "dog"
   ]
  },
  {
   "cell_type": "code",
   "execution_count": 34,
   "id": "6cc52340-382d-462f-a3ee-81289ce6048d",
   "metadata": {},
   "outputs": [
    {
     "data": {
      "text/plain": [
       "False"
      ]
     },
     "execution_count": 34,
     "metadata": {},
     "output_type": "execute_result"
    }
   ],
   "source": [
    "dog == 7"
   ]
  },
  {
   "cell_type": "code",
   "execution_count": 35,
   "id": "bcfd90a6-8635-4c20-9343-3322661c4c65",
   "metadata": {},
   "outputs": [
    {
     "data": {
      "text/plain": [
       "True"
      ]
     },
     "execution_count": 35,
     "metadata": {},
     "output_type": "execute_result"
    }
   ],
   "source": [
    "dog == 6"
   ]
  },
  {
   "cell_type": "code",
   "execution_count": 41,
   "id": "aa7ec400-220d-4fbe-a952-c48462d97a1a",
   "metadata": {},
   "outputs": [],
   "source": [
    "def my_jam(pineapple):\n",
    "    if pineapple == 5:\n",
    "        return 7\n",
    "    return my_jam(pineapple - 1) * 3"
   ]
  },
  {
   "cell_type": "code",
   "execution_count": 42,
   "id": "08dd9b92-d60d-4512-9297-e6aba63491a6",
   "metadata": {},
   "outputs": [
    {
     "data": {
      "text/plain": [
       "189"
      ]
     },
     "execution_count": 42,
     "metadata": {},
     "output_type": "execute_result"
    }
   ],
   "source": [
    "my_jam(pineapple=8)"
   ]
  },
  {
   "cell_type": "code",
   "execution_count": null,
   "id": "e706c5d5-b3c4-421b-94c1-496a0d13a935",
   "metadata": {},
   "outputs": [],
   "source": []
  }
 ],
 "metadata": {
  "kernelspec": {
   "display_name": "Python 3 (ipykernel)",
   "language": "python",
   "name": "python3"
  },
  "language_info": {
   "codemirror_mode": {
    "name": "ipython",
    "version": 3
   },
   "file_extension": ".py",
   "mimetype": "text/x-python",
   "name": "python",
   "nbconvert_exporter": "python",
   "pygments_lexer": "ipython3",
   "version": "3.13.0"
  }
 },
 "nbformat": 4,
 "nbformat_minor": 5
}
