{
 "cells": [
  {
   "cell_type": "markdown",
   "id": "83893755-5162-46c3-a5a4-5f2f3e4e6eb5",
   "metadata": {},
   "source": [
    "$$\n",
    "a_{n} = \\left\\{\\begin{array}{l}1\\text{ if }n = 0,\\\\4a_{n - 1}\\end{array}\\right.\n",
    "$$"
   ]
  },
  {
   "cell_type": "markdown",
   "id": "d8a7f55b-cd5e-4c5c-9d74-b7719cc838cd",
   "metadata": {},
   "source": [
    "$$\n",
    "a_{n} = \\left\\{\\begin{array}{l}1\\text{ if }n=0,\\\\4a_{n-1}\\end{array}\\right.\n",
    "$$"
   ]
  },
  {
   "cell_type": "code",
   "execution_count": 2,
   "id": "ac3f274f-9c2d-49ea-8428-e0f7de1d6615",
   "metadata": {},
   "outputs": [],
   "source": [
    "def generate_a(n):\n",
    "    \"\"\"\n",
    "    Give values of a_n recursively.\n",
    "    \"\"\"\n",
    "    if n == 0:\n",
    "        return 1\n",
    "    return 4 * generate_a(n=n-1)"
   ]
  },
  {
   "cell_type": "code",
   "execution_count": 3,
   "id": "4362f5a1-f7a3-49cc-812d-5208692ec363",
   "metadata": {},
   "outputs": [
    {
     "data": {
      "text/plain": [
       "1024"
      ]
     },
     "execution_count": 3,
     "metadata": {},
     "output_type": "execute_result"
    }
   ],
   "source": [
    "generate_a(n=5)"
   ]
  },
  {
   "cell_type": "code",
   "execution_count": 4,
   "id": "352740b7-a6da-457a-82aa-d39e76eb6a92",
   "metadata": {},
   "outputs": [
    {
     "ename": "RecursionError",
     "evalue": "maximum recursion depth exceeded",
     "output_type": "error",
     "traceback": [
      "\u001b[0;31m---------------------------------------------------------------------------\u001b[0m",
      "\u001b[0;31mRecursionError\u001b[0m                            Traceback (most recent call last)",
      "Cell \u001b[0;32mIn[4], line 1\u001b[0m\n\u001b[0;32m----> 1\u001b[0m \u001b[43mgenerate_a\u001b[49m\u001b[43m(\u001b[49m\u001b[43mn\u001b[49m\u001b[38;5;241;43m=\u001b[39;49m\u001b[38;5;241;43m-\u001b[39;49m\u001b[38;5;241;43m4\u001b[39;49m\u001b[43m)\u001b[49m\n",
      "Cell \u001b[0;32mIn[2], line 7\u001b[0m, in \u001b[0;36mgenerate_a\u001b[0;34m(n)\u001b[0m\n\u001b[1;32m      5\u001b[0m \u001b[38;5;28;01mif\u001b[39;00m n \u001b[38;5;241m==\u001b[39m \u001b[38;5;241m0\u001b[39m:\n\u001b[1;32m      6\u001b[0m     \u001b[38;5;28;01mreturn\u001b[39;00m \u001b[38;5;241m1\u001b[39m\n\u001b[0;32m----> 7\u001b[0m \u001b[38;5;28;01mreturn\u001b[39;00m \u001b[38;5;241m4\u001b[39m \u001b[38;5;241m*\u001b[39m \u001b[43mgenerate_a\u001b[49m\u001b[43m(\u001b[49m\u001b[43mn\u001b[49m\u001b[38;5;241;43m=\u001b[39;49m\u001b[43mn\u001b[49m\u001b[38;5;241;43m-\u001b[39;49m\u001b[38;5;241;43m1\u001b[39;49m\u001b[43m)\u001b[49m\n",
      "Cell \u001b[0;32mIn[2], line 7\u001b[0m, in \u001b[0;36mgenerate_a\u001b[0;34m(n)\u001b[0m\n\u001b[1;32m      5\u001b[0m \u001b[38;5;28;01mif\u001b[39;00m n \u001b[38;5;241m==\u001b[39m \u001b[38;5;241m0\u001b[39m:\n\u001b[1;32m      6\u001b[0m     \u001b[38;5;28;01mreturn\u001b[39;00m \u001b[38;5;241m1\u001b[39m\n\u001b[0;32m----> 7\u001b[0m \u001b[38;5;28;01mreturn\u001b[39;00m \u001b[38;5;241m4\u001b[39m \u001b[38;5;241m*\u001b[39m \u001b[43mgenerate_a\u001b[49m\u001b[43m(\u001b[49m\u001b[43mn\u001b[49m\u001b[38;5;241;43m=\u001b[39;49m\u001b[43mn\u001b[49m\u001b[38;5;241;43m-\u001b[39;49m\u001b[38;5;241;43m1\u001b[39;49m\u001b[43m)\u001b[49m\n",
      "    \u001b[0;31m[... skipping similar frames: generate_a at line 7 (2974 times)]\u001b[0m\n",
      "Cell \u001b[0;32mIn[2], line 7\u001b[0m, in \u001b[0;36mgenerate_a\u001b[0;34m(n)\u001b[0m\n\u001b[1;32m      5\u001b[0m \u001b[38;5;28;01mif\u001b[39;00m n \u001b[38;5;241m==\u001b[39m \u001b[38;5;241m0\u001b[39m:\n\u001b[1;32m      6\u001b[0m     \u001b[38;5;28;01mreturn\u001b[39;00m \u001b[38;5;241m1\u001b[39m\n\u001b[0;32m----> 7\u001b[0m \u001b[38;5;28;01mreturn\u001b[39;00m \u001b[38;5;241m4\u001b[39m \u001b[38;5;241m*\u001b[39m \u001b[43mgenerate_a\u001b[49m\u001b[43m(\u001b[49m\u001b[43mn\u001b[49m\u001b[38;5;241;43m=\u001b[39;49m\u001b[43mn\u001b[49m\u001b[38;5;241;43m-\u001b[39;49m\u001b[38;5;241;43m1\u001b[39;49m\u001b[43m)\u001b[49m\n",
      "\u001b[0;31mRecursionError\u001b[0m: maximum recursion depth exceeded"
     ]
    }
   ],
   "source": [
    "generate_a(n=-4)"
   ]
  },
  {
   "cell_type": "markdown",
   "id": "b22a416c-bd92-4f2f-aeec-a94fab2ba5a1",
   "metadata": {},
   "source": [
    "$$\n",
    "a_{n} = \\left\\{\\begin{array}{l}1\\text{ if }n = 100,\\\\4a_{n + 1}\\end{array}\\right.\n",
    "$$"
   ]
  },
  {
   "cell_type": "code",
   "execution_count": 5,
   "id": "8e4db18f-1d18-4129-8c3a-555a254adf99",
   "metadata": {},
   "outputs": [],
   "source": [
    "def generate_a(n):\n",
    "    \"\"\"\n",
    "    Give values of a_n recursively.\n",
    "    \"\"\"\n",
    "    if n == 100:\n",
    "        return 1\n",
    "    return 4 * generate_a(n=n+1)"
   ]
  },
  {
   "cell_type": "code",
   "execution_count": 7,
   "id": "61f2ba88-ac49-4856-ba99-9569c4542b3c",
   "metadata": {},
   "outputs": [
    {
     "data": {
      "text/plain": [
       "4"
      ]
     },
     "execution_count": 7,
     "metadata": {},
     "output_type": "execute_result"
    }
   ],
   "source": [
    "generate_a(n=99)"
   ]
  },
  {
   "cell_type": "code",
   "execution_count": 8,
   "id": "69b42f15-d342-4da2-808a-8a9393edcc4d",
   "metadata": {},
   "outputs": [
    {
     "ename": "RecursionError",
     "evalue": "maximum recursion depth exceeded",
     "output_type": "error",
     "traceback": [
      "\u001b[0;31m---------------------------------------------------------------------------\u001b[0m",
      "\u001b[0;31mRecursionError\u001b[0m                            Traceback (most recent call last)",
      "Cell \u001b[0;32mIn[8], line 1\u001b[0m\n\u001b[0;32m----> 1\u001b[0m \u001b[43mgenerate_a\u001b[49m\u001b[43m(\u001b[49m\u001b[43mn\u001b[49m\u001b[38;5;241;43m=\u001b[39;49m\u001b[38;5;241;43m101\u001b[39;49m\u001b[43m)\u001b[49m\n",
      "Cell \u001b[0;32mIn[5], line 7\u001b[0m, in \u001b[0;36mgenerate_a\u001b[0;34m(n)\u001b[0m\n\u001b[1;32m      5\u001b[0m \u001b[38;5;28;01mif\u001b[39;00m n \u001b[38;5;241m==\u001b[39m \u001b[38;5;241m100\u001b[39m:\n\u001b[1;32m      6\u001b[0m     \u001b[38;5;28;01mreturn\u001b[39;00m \u001b[38;5;241m1\u001b[39m\n\u001b[0;32m----> 7\u001b[0m \u001b[38;5;28;01mreturn\u001b[39;00m \u001b[38;5;241m4\u001b[39m \u001b[38;5;241m*\u001b[39m \u001b[43mgenerate_a\u001b[49m\u001b[43m(\u001b[49m\u001b[43mn\u001b[49m\u001b[38;5;241;43m=\u001b[39;49m\u001b[43mn\u001b[49m\u001b[38;5;241;43m+\u001b[39;49m\u001b[38;5;241;43m1\u001b[39;49m\u001b[43m)\u001b[49m\n",
      "Cell \u001b[0;32mIn[5], line 7\u001b[0m, in \u001b[0;36mgenerate_a\u001b[0;34m(n)\u001b[0m\n\u001b[1;32m      5\u001b[0m \u001b[38;5;28;01mif\u001b[39;00m n \u001b[38;5;241m==\u001b[39m \u001b[38;5;241m100\u001b[39m:\n\u001b[1;32m      6\u001b[0m     \u001b[38;5;28;01mreturn\u001b[39;00m \u001b[38;5;241m1\u001b[39m\n\u001b[0;32m----> 7\u001b[0m \u001b[38;5;28;01mreturn\u001b[39;00m \u001b[38;5;241m4\u001b[39m \u001b[38;5;241m*\u001b[39m \u001b[43mgenerate_a\u001b[49m\u001b[43m(\u001b[49m\u001b[43mn\u001b[49m\u001b[38;5;241;43m=\u001b[39;49m\u001b[43mn\u001b[49m\u001b[38;5;241;43m+\u001b[39;49m\u001b[38;5;241;43m1\u001b[39;49m\u001b[43m)\u001b[49m\n",
      "    \u001b[0;31m[... skipping similar frames: generate_a at line 7 (2974 times)]\u001b[0m\n",
      "Cell \u001b[0;32mIn[5], line 7\u001b[0m, in \u001b[0;36mgenerate_a\u001b[0;34m(n)\u001b[0m\n\u001b[1;32m      5\u001b[0m \u001b[38;5;28;01mif\u001b[39;00m n \u001b[38;5;241m==\u001b[39m \u001b[38;5;241m100\u001b[39m:\n\u001b[1;32m      6\u001b[0m     \u001b[38;5;28;01mreturn\u001b[39;00m \u001b[38;5;241m1\u001b[39m\n\u001b[0;32m----> 7\u001b[0m \u001b[38;5;28;01mreturn\u001b[39;00m \u001b[38;5;241m4\u001b[39m \u001b[38;5;241m*\u001b[39m \u001b[43mgenerate_a\u001b[49m\u001b[43m(\u001b[49m\u001b[43mn\u001b[49m\u001b[38;5;241;43m=\u001b[39;49m\u001b[43mn\u001b[49m\u001b[38;5;241;43m+\u001b[39;49m\u001b[38;5;241;43m1\u001b[39;49m\u001b[43m)\u001b[49m\n",
      "\u001b[0;31mRecursionError\u001b[0m: maximum recursion depth exceeded"
     ]
    }
   ],
   "source": [
    "generate_a(n=101)"
   ]
  },
  {
   "cell_type": "markdown",
   "id": "f275903b-a7d2-41d8-896f-c69077a65838",
   "metadata": {},
   "source": [
    "Let us tackle the tutorial question from pfm which asks us to manipulate the following sequence:\n",
    "\n",
    "$$\n",
    "a_{n} = \\left\\{\\begin{array}{l}k\\text{ if }n = 1,\\\\2a_{n - 1}-7, n> 1\\end{array}\\right.\n",
    "$$"
   ]
  },
  {
   "cell_type": "code",
   "execution_count": 1,
   "id": "324909ec-4f0a-40fc-97ac-892c7f9c7827",
   "metadata": {},
   "outputs": [],
   "source": [
    "def generate_a(k_value, n):\n",
    "    \"\"\"\n",
    "    Generate the nth term of the sequence a given a value of k\n",
    "    \"\"\"\n",
    "    if n == 1:\n",
    "        return k_value\n",
    "    return 2 * generate_a(k_value=k_value, n=n-1) - 7"
   ]
  },
  {
   "cell_type": "code",
   "execution_count": 2,
   "id": "c0481c05-65ef-4473-b1bf-83f16f4ca868",
   "metadata": {},
   "outputs": [
    {
     "data": {
      "text/plain": [
       "21"
      ]
     },
     "execution_count": 2,
     "metadata": {},
     "output_type": "execute_result"
    }
   ],
   "source": [
    "generate_a(k_value=14, n=2)"
   ]
  },
  {
   "cell_type": "markdown",
   "id": "3a2b8577-946d-417f-a794-9a59f1054b25",
   "metadata": {},
   "source": [
    "To obtain an expression for $a_2$ in terms of $k$:"
   ]
  },
  {
   "cell_type": "code",
   "execution_count": 5,
   "id": "a597f976-2833-461c-bdde-6e48cc89bca5",
   "metadata": {},
   "outputs": [
    {
     "data": {
      "text/latex": [
       "$\\displaystyle 2 k - 7$"
      ],
      "text/plain": [
       "2*k - 7"
      ]
     },
     "execution_count": 5,
     "metadata": {},
     "output_type": "execute_result"
    }
   ],
   "source": [
    "import sympy as sym\n",
    "\n",
    "k = sym.Symbol(\"k\")\n",
    "\n",
    "generate_a(k_value=k, n=2)"
   ]
  },
  {
   "cell_type": "markdown",
   "id": "52641f52-59c6-4eb0-bb95-7f5b095dc936",
   "metadata": {},
   "source": [
    "Let us confirm that $a_3=4k-21$:"
   ]
  },
  {
   "cell_type": "code",
   "execution_count": 6,
   "id": "0c4de66d-24b9-4075-b2fe-f6dcd48b91ce",
   "metadata": {},
   "outputs": [
    {
     "data": {
      "text/latex": [
       "$\\displaystyle 4 k - 21$"
      ],
      "text/plain": [
       "4*k - 21"
      ]
     },
     "execution_count": 6,
     "metadata": {},
     "output_type": "execute_result"
    }
   ],
   "source": [
    "generate_a(k_value=k, n=3)"
   ]
  },
  {
   "cell_type": "markdown",
   "id": "05d27ea7-0e8a-4ac0-971b-d2b1754660da",
   "metadata": {},
   "source": [
    "Let us obtain the equation from the question:"
   ]
  },
  {
   "cell_type": "code",
   "execution_count": 7,
   "id": "1068af44-536d-472f-9add-275b7b873774",
   "metadata": {},
   "outputs": [
    {
     "data": {
      "text/latex": [
       "$\\displaystyle k$"
      ],
      "text/plain": [
       "k"
      ]
     },
     "execution_count": 7,
     "metadata": {},
     "output_type": "execute_result"
    }
   ],
   "source": [
    "a_1 = generate_a(k_value=k, n=1)\n",
    "a_1"
   ]
  },
  {
   "cell_type": "code",
   "execution_count": 8,
   "id": "964a364a-13f1-4781-ac33-b0993f454157",
   "metadata": {},
   "outputs": [
    {
     "data": {
      "text/latex": [
       "$\\displaystyle 2 k - 7$"
      ],
      "text/plain": [
       "2*k - 7"
      ]
     },
     "execution_count": 8,
     "metadata": {},
     "output_type": "execute_result"
    }
   ],
   "source": [
    "a_2 = generate_a(k_value=k, n=2)\n",
    "a_2"
   ]
  },
  {
   "cell_type": "code",
   "execution_count": 9,
   "id": "43047e45-d637-49c4-8513-f97115179a01",
   "metadata": {},
   "outputs": [
    {
     "data": {
      "text/latex": [
       "$\\displaystyle 4 k - 21$"
      ],
      "text/plain": [
       "4*k - 21"
      ]
     },
     "execution_count": 9,
     "metadata": {},
     "output_type": "execute_result"
    }
   ],
   "source": [
    "a_3 = generate_a(k_value=k, n=3)\n",
    "a_3"
   ]
  },
  {
   "cell_type": "code",
   "execution_count": 10,
   "id": "bae1cac7-4a9b-4db1-99a2-5194d6e3bfd7",
   "metadata": {},
   "outputs": [
    {
     "data": {
      "text/latex": [
       "$\\displaystyle 8 k - 49$"
      ],
      "text/plain": [
       "8*k - 49"
      ]
     },
     "execution_count": 10,
     "metadata": {},
     "output_type": "execute_result"
    }
   ],
   "source": [
    "a_4 = generate_a(k_value=k, n=4)\n",
    "a_4"
   ]
  },
  {
   "cell_type": "code",
   "execution_count": 11,
   "id": "21c021ec-0dc3-4f36-ba56-b6cc541ef13c",
   "metadata": {},
   "outputs": [
    {
     "data": {
      "text/latex": [
       "$\\displaystyle 15 k - 77$"
      ],
      "text/plain": [
       "15*k - 77"
      ]
     },
     "execution_count": 11,
     "metadata": {},
     "output_type": "execute_result"
    }
   ],
   "source": [
    "lhs = a_1 + a_2 + a_3 + a_4\n",
    "lhs"
   ]
  },
  {
   "cell_type": "code",
   "execution_count": 12,
   "id": "936c4e49-dc78-40a7-9d4c-028b878e6807",
   "metadata": {},
   "outputs": [
    {
     "data": {
      "text/latex": [
       "$\\displaystyle 15 k - 77 = 43$"
      ],
      "text/plain": [
       "Eq(15*k - 77, 43)"
      ]
     },
     "execution_count": 12,
     "metadata": {},
     "output_type": "execute_result"
    }
   ],
   "source": [
    "rhs = 43\n",
    "equation = sym.Eq(lhs=lhs, rhs=rhs)\n",
    "equation"
   ]
  },
  {
   "cell_type": "code",
   "execution_count": 19,
   "id": "c8934615-6c16-402f-9444-46795d48aa3c",
   "metadata": {},
   "outputs": [
    {
     "data": {
      "text/latex": [
       "$\\displaystyle 15 k - 77 = 43$"
      ],
      "text/plain": [
       "Eq(15*k - 77, 43)"
      ]
     },
     "execution_count": 19,
     "metadata": {},
     "output_type": "execute_result"
    }
   ],
   "source": [
    "equation = sym.Eq(lhs=a_1 + a_2 + a_3 + a_4, rhs=43)\n",
    "equation"
   ]
  },
  {
   "cell_type": "code",
   "execution_count": 13,
   "id": "3811aa95-c21c-465b-bedf-2c97100730af",
   "metadata": {},
   "outputs": [
    {
     "data": {
      "text/latex": [
       "$\\displaystyle \\left\\{8\\right\\}$"
      ],
      "text/plain": [
       "{8}"
      ]
     },
     "execution_count": 13,
     "metadata": {},
     "output_type": "execute_result"
    }
   ],
   "source": [
    "sym.solveset(equation, k)"
   ]
  },
  {
   "cell_type": "markdown",
   "id": "58b39958-f5a9-496d-aa8f-baa49d20c4b2",
   "metadata": {},
   "source": [
    "A more efficient approach is to directly write the sigma ($\\sum$) notation:"
   ]
  },
  {
   "cell_type": "code",
   "execution_count": 20,
   "id": "301af1f2-679c-4557-be89-b33d9061bb37",
   "metadata": {},
   "outputs": [
    {
     "data": {
      "text/latex": [
       "$\\displaystyle 562949953421311 k - 3940649673948834$"
      ],
      "text/plain": [
       "562949953421311*k - 3940649673948834"
      ]
     },
     "execution_count": 20,
     "metadata": {},
     "output_type": "execute_result"
    }
   ],
   "source": [
    "lhs = sum(generate_a(k_value=k, n=r) for r in range(1, 50))\n",
    "lhs"
   ]
  },
  {
   "cell_type": "code",
   "execution_count": 21,
   "id": "1ab69817-d372-4ccd-9f78-2b224e9b0e17",
   "metadata": {},
   "outputs": [
    {
     "data": {
      "text/latex": [
       "$\\displaystyle 562949953421311 k - 3940649673948834 = 43$"
      ],
      "text/plain": [
       "Eq(562949953421311*k - 3940649673948834, 43)"
      ]
     },
     "execution_count": 21,
     "metadata": {},
     "output_type": "execute_result"
    }
   ],
   "source": [
    "equation = sym.Eq(lhs=lhs, rhs=rhs)\n",
    "equation"
   ]
  },
  {
   "cell_type": "code",
   "execution_count": 22,
   "id": "decf8eed-22f0-4d01-9c6d-45c3d19ba02b",
   "metadata": {},
   "outputs": [
    {
     "data": {
      "text/latex": [
       "$\\displaystyle \\left\\{\\frac{3940649673948877}{562949953421311}\\right\\}$"
      ],
      "text/plain": [
       "{3940649673948877/562949953421311}"
      ]
     },
     "execution_count": 22,
     "metadata": {},
     "output_type": "execute_result"
    }
   ],
   "source": [
    "sym.solveset(equation, k)"
   ]
  },
  {
   "cell_type": "markdown",
   "id": "cff42c99-c23e-4487-a207-4c677ee4a222",
   "metadata": {},
   "source": [
    "Collatz Conjecture.\n",
    "\n",
    "Let us count the \"collatz steps\": how many steps of the process it takes to get to 1."
   ]
  },
  {
   "cell_type": "code",
   "execution_count": 23,
   "id": "e8f54907-44c0-41e6-9cae-6e19d84507af",
   "metadata": {},
   "outputs": [],
   "source": [
    "def count_collatz_steps(n):\n",
    "    \"\"\"\n",
    "    Returns the number of steps taken until the process leads to 1\n",
    "    \"\"\"\n",
    "    if n == 1:\n",
    "        return 1\n",
    "    if (n % 2) == 0:\n",
    "        return 1 + count_collatz_steps(n=n / 2)\n",
    "    return 1 + count_collatz_steps(n=3 * n + 1)"
   ]
  },
  {
   "cell_type": "code",
   "execution_count": 24,
   "id": "38fc904e-8be7-48ab-a493-2e604e2d5222",
   "metadata": {},
   "outputs": [
    {
     "data": {
      "text/plain": [
       "1"
      ]
     },
     "execution_count": 24,
     "metadata": {},
     "output_type": "execute_result"
    }
   ],
   "source": [
    "count_collatz_steps(n=1)"
   ]
  },
  {
   "cell_type": "code",
   "execution_count": 25,
   "id": "c5cf70c3-ea95-4a82-821c-322e0f4b7bae",
   "metadata": {},
   "outputs": [
    {
     "data": {
      "text/plain": [
       "2"
      ]
     },
     "execution_count": 25,
     "metadata": {},
     "output_type": "execute_result"
    }
   ],
   "source": [
    "count_collatz_steps(n=2)"
   ]
  },
  {
   "cell_type": "code",
   "execution_count": 27,
   "id": "cea931c0-5c78-4c95-a4f4-ea8748e98b9f",
   "metadata": {},
   "outputs": [
    {
     "data": {
      "text/plain": [
       "8"
      ]
     },
     "execution_count": 27,
     "metadata": {},
     "output_type": "execute_result"
    }
   ],
   "source": [
    "count_collatz_steps(n=3)"
   ]
  },
  {
   "cell_type": "code",
   "execution_count": 28,
   "id": "2360470e-f073-4b5e-890d-1b51b4ad1591",
   "metadata": {},
   "outputs": [
    {
     "data": {
      "text/plain": [
       "3"
      ]
     },
     "execution_count": 28,
     "metadata": {},
     "output_type": "execute_result"
    }
   ],
   "source": [
    "count_collatz_steps(n=4)"
   ]
  },
  {
   "cell_type": "code",
   "execution_count": 29,
   "id": "08ce0574-0fb8-4a31-a665-94725a73727a",
   "metadata": {},
   "outputs": [
    {
     "data": {
      "text/plain": [
       "6"
      ]
     },
     "execution_count": 29,
     "metadata": {},
     "output_type": "execute_result"
    }
   ],
   "source": [
    "count_collatz_steps(n=5)"
   ]
  },
  {
   "cell_type": "code",
   "execution_count": 30,
   "id": "dcc1bc16-b9b8-4aa0-a0d8-350e85ef5bab",
   "metadata": {},
   "outputs": [
    {
     "data": {
      "text/plain": [
       "[1,\n",
       " 2,\n",
       " 8,\n",
       " 3,\n",
       " 6,\n",
       " 9,\n",
       " 17,\n",
       " 4,\n",
       " 20,\n",
       " 7,\n",
       " 15,\n",
       " 10,\n",
       " 10,\n",
       " 18,\n",
       " 18,\n",
       " 5,\n",
       " 13,\n",
       " 21,\n",
       " 21,\n",
       " 8,\n",
       " 8,\n",
       " 16,\n",
       " 16,\n",
       " 11,\n",
       " 24,\n",
       " 11,\n",
       " 112,\n",
       " 19,\n",
       " 19,\n",
       " 19,\n",
       " 107,\n",
       " 6,\n",
       " 27,\n",
       " 14,\n",
       " 14,\n",
       " 22,\n",
       " 22,\n",
       " 22,\n",
       " 35,\n",
       " 9,\n",
       " 110,\n",
       " 9,\n",
       " 30,\n",
       " 17,\n",
       " 17,\n",
       " 17,\n",
       " 105,\n",
       " 12,\n",
       " 25,\n",
       " 25,\n",
       " 25,\n",
       " 12,\n",
       " 12,\n",
       " 113,\n",
       " 113,\n",
       " 20,\n",
       " 33,\n",
       " 20,\n",
       " 33,\n",
       " 20,\n",
       " 20,\n",
       " 108,\n",
       " 108,\n",
       " 7,\n",
       " 28,\n",
       " 28,\n",
       " 28,\n",
       " 15,\n",
       " 15,\n",
       " 15,\n",
       " 103,\n",
       " 23,\n",
       " 116,\n",
       " 23,\n",
       " 15,\n",
       " 23,\n",
       " 23,\n",
       " 36,\n",
       " 36,\n",
       " 10,\n",
       " 23,\n",
       " 111,\n",
       " 111,\n",
       " 10,\n",
       " 10,\n",
       " 31,\n",
       " 31,\n",
       " 18,\n",
       " 31,\n",
       " 18,\n",
       " 93,\n",
       " 18,\n",
       " 18,\n",
       " 106,\n",
       " 106,\n",
       " 13,\n",
       " 119,\n",
       " 26,\n",
       " 26,\n",
       " 26]"
      ]
     },
     "execution_count": 30,
     "metadata": {},
     "output_type": "execute_result"
    }
   ],
   "source": [
    "steps = [count_collatz_steps(n=i) for i in range(1, 101)]\n",
    "steps"
   ]
  },
  {
   "cell_type": "code",
   "execution_count": 31,
   "id": "948a2941-a629-4fd6-bdf1-80b08f9cbb76",
   "metadata": {},
   "outputs": [
    {
     "data": {
      "text/plain": [
       "32.42"
      ]
     },
     "execution_count": 31,
     "metadata": {},
     "output_type": "execute_result"
    }
   ],
   "source": [
    "sum(steps) / len(steps)"
   ]
  },
  {
   "cell_type": "code",
   "execution_count": null,
   "id": "60f47528-2ad2-4688-b0cc-313b24bee9f7",
   "metadata": {},
   "outputs": [],
   "source": []
  }
 ],
 "metadata": {
  "kernelspec": {
   "display_name": "Python 3 (ipykernel)",
   "language": "python",
   "name": "python3"
  },
  "language_info": {
   "codemirror_mode": {
    "name": "ipython",
    "version": 3
   },
   "file_extension": ".py",
   "mimetype": "text/x-python",
   "name": "python",
   "nbconvert_exporter": "python",
   "pygments_lexer": "ipython3",
   "version": "3.13.0"
  }
 },
 "nbformat": 4,
 "nbformat_minor": 5
}
