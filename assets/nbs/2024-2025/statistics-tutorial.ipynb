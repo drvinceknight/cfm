{
 "cells": [
  {
   "cell_type": "code",
   "execution_count": 3,
   "id": "a7f40f49-6057-405c-831e-1909088fe388",
   "metadata": {},
   "outputs": [],
   "source": [
    "import statistics as st"
   ]
  },
  {
   "cell_type": "code",
   "execution_count": 4,
   "id": "9dbf0581-0782-4e2d-b8a4-cf77ff5b7d72",
   "metadata": {},
   "outputs": [],
   "source": [
    "h = (\n",
    "    76.0,\n",
    "    72.0,\n",
    "    71.0,\n",
    "    74.0,\n",
    "    71.0,\n",
    "    69.0,\n",
    "    68.0,\n",
    "    68.0,\n",
    "    66.0,\n",
    "    64.0,\n",
    "    65.0,\n",
    "    63.0,\n",
    "    63.0,\n",
    "    62.0,\n",
    "    65.0,\n",
    "    63.0,\n",
    "    65.0,\n",
    "    64.0,\n",
    "    64.0,\n",
    ")\n",
    "m = (\n",
    "    5,\n",
    "    5,\n",
    "    21,\n",
    "    30,\n",
    "    42,\n",
    "    20,\n",
    "    20,\n",
    "    35,\n",
    "    80,\n",
    "    120,\n",
    "    140,\n",
    "    180,\n",
    "    205,\n",
    "    225,\n",
    "    237,\n",
    "    280,\n",
    "    300,\n",
    "    356,\n",
    "    360,\n",
    ")"
   ]
  },
  {
   "cell_type": "markdown",
   "id": "2add274f-6eeb-4763-95bc-ad564a074ba5",
   "metadata": {},
   "source": [
    "Let us do all the univariate analysis for $h$:"
   ]
  },
  {
   "cell_type": "code",
   "execution_count": 5,
   "id": "cf20256d-2309-4c19-85ea-a553b1855ef1",
   "metadata": {},
   "outputs": [
    {
     "data": {
      "text/plain": [
       "67.0"
      ]
     },
     "execution_count": 5,
     "metadata": {},
     "output_type": "execute_result"
    }
   ],
   "source": [
    "st.mean(h)"
   ]
  },
  {
   "cell_type": "code",
   "execution_count": 6,
   "id": "b87b9af1-4e49-47cc-ae73-7ae20af69976",
   "metadata": {},
   "outputs": [
    {
     "data": {
      "text/plain": [
       "65.0"
      ]
     },
     "execution_count": 6,
     "metadata": {},
     "output_type": "execute_result"
    }
   ],
   "source": [
    "st.median(h)"
   ]
  },
  {
   "cell_type": "code",
   "execution_count": 17,
   "id": "fb88baca-dbc6-4fd8-90e5-52ee614eccdb",
   "metadata": {},
   "outputs": [
    {
     "data": {
      "text/plain": [
       "[64.0, 63.0, 63.0, 62.0, 63.0, 64.0, 64.0]"
      ]
     },
     "execution_count": 17,
     "metadata": {},
     "output_type": "execute_result"
    }
   ],
   "source": [
    "[value for value in h if value <= 64]"
   ]
  },
  {
   "cell_type": "code",
   "execution_count": 19,
   "id": "8e5ffafb-96e4-48f4-a6d1-98e0e04ae7d7",
   "metadata": {},
   "outputs": [
    {
     "data": {
      "text/plain": [
       "[68.0, 68.0, 66.0, 65.0, 65.0, 65.0]"
      ]
     },
     "execution_count": 19,
     "metadata": {},
     "output_type": "execute_result"
    }
   ],
   "source": [
    "[value for value in h if value > 64 and value <= 68.3]"
   ]
  },
  {
   "cell_type": "code",
   "execution_count": 20,
   "id": "5a423080-46ee-419a-8b6f-030b80990e57",
   "metadata": {},
   "outputs": [
    {
     "data": {
      "text/plain": [
       "[76.0, 72.0, 71.0, 74.0, 71.0, 69.0]"
      ]
     },
     "execution_count": 20,
     "metadata": {},
     "output_type": "execute_result"
    }
   ],
   "source": [
    "[value for value in h if value > 68.3]"
   ]
  },
  {
   "cell_type": "code",
   "execution_count": 22,
   "id": "9b64e9b9-3f1e-4ddb-abaa-b7816e08a1f6",
   "metadata": {},
   "outputs": [
    {
     "data": {
      "text/plain": [
       "[64.0, 65.0, 71.0]"
      ]
     },
     "execution_count": 22,
     "metadata": {},
     "output_type": "execute_result"
    }
   ],
   "source": [
    "st.quantiles(h, n=4)"
   ]
  },
  {
   "cell_type": "code",
   "execution_count": 11,
   "id": "99eadadf-cc37-4a13-9676-235eb2e5cf5a",
   "metadata": {},
   "outputs": [
    {
     "data": {
      "text/plain": [
       "4.123105625617661"
      ]
     },
     "execution_count": 11,
     "metadata": {},
     "output_type": "execute_result"
    }
   ],
   "source": [
    "st.stdev(h)"
   ]
  },
  {
   "cell_type": "code",
   "execution_count": 23,
   "id": "a83329ee-fd9c-45ff-a72c-5bd51a71b928",
   "metadata": {},
   "outputs": [
    {
     "data": {
      "text/plain": [
       "17.0"
      ]
     },
     "execution_count": 23,
     "metadata": {},
     "output_type": "execute_result"
    }
   ],
   "source": [
    "st.variance(h)"
   ]
  },
  {
   "cell_type": "code",
   "execution_count": 24,
   "id": "8e0a1f8a-67e7-4d79-b752-ab727a08f72a",
   "metadata": {},
   "outputs": [
    {
     "data": {
      "text/plain": [
       "62.0"
      ]
     },
     "execution_count": 24,
     "metadata": {},
     "output_type": "execute_result"
    }
   ],
   "source": [
    "min(h)"
   ]
  },
  {
   "cell_type": "code",
   "execution_count": 25,
   "id": "4457b8f4-b0a4-474c-84f0-ce728bffd848",
   "metadata": {},
   "outputs": [
    {
     "data": {
      "text/plain": [
       "76.0"
      ]
     },
     "execution_count": 25,
     "metadata": {},
     "output_type": "execute_result"
    }
   ],
   "source": [
    "max(h)"
   ]
  },
  {
   "cell_type": "markdown",
   "id": "e9f00142-9c71-40f2-893d-b1bfcec02938",
   "metadata": {},
   "source": [
    "Let us repeat this for $m$:"
   ]
  },
  {
   "cell_type": "code",
   "execution_count": 28,
   "id": "c0359661-0f5e-43c8-853d-ce0fc2d91220",
   "metadata": {},
   "outputs": [
    {
     "data": {
      "text/plain": [
       "140.05263157894737"
      ]
     },
     "execution_count": 28,
     "metadata": {},
     "output_type": "execute_result"
    }
   ],
   "source": [
    "st.mean(m)"
   ]
  },
  {
   "cell_type": "code",
   "execution_count": 29,
   "id": "99159b85-23c3-447c-8f97-314f419838da",
   "metadata": {},
   "outputs": [
    {
     "data": {
      "text/plain": [
       "120"
      ]
     },
     "execution_count": 29,
     "metadata": {},
     "output_type": "execute_result"
    }
   ],
   "source": [
    "st.median(m)"
   ]
  },
  {
   "cell_type": "code",
   "execution_count": 30,
   "id": "0a07a929-dcea-4efa-ad38-694bb7c3d8f3",
   "metadata": {},
   "outputs": [
    {
     "data": {
      "text/plain": [
       "[21.0, 120.0, 237.0]"
      ]
     },
     "execution_count": 30,
     "metadata": {},
     "output_type": "execute_result"
    }
   ],
   "source": [
    "st.quantiles(m, n=4)"
   ]
  },
  {
   "cell_type": "code",
   "execution_count": 31,
   "id": "d3db8015-a0f6-44ad-8caa-82713480f8bc",
   "metadata": {},
   "outputs": [
    {
     "data": {
      "text/plain": [
       "124.46662813970593"
      ]
     },
     "execution_count": 31,
     "metadata": {},
     "output_type": "execute_result"
    }
   ],
   "source": [
    "st.stdev(m)"
   ]
  },
  {
   "cell_type": "code",
   "execution_count": 32,
   "id": "42a284b8-45a1-4899-8d0c-18495e106a35",
   "metadata": {},
   "outputs": [
    {
     "data": {
      "text/plain": [
       "15491.941520467837"
      ]
     },
     "execution_count": 32,
     "metadata": {},
     "output_type": "execute_result"
    }
   ],
   "source": [
    "st.variance(m)"
   ]
  },
  {
   "cell_type": "code",
   "execution_count": 33,
   "id": "3aec5e14-56c6-486a-b4c6-ed830c8430db",
   "metadata": {},
   "outputs": [
    {
     "data": {
      "text/plain": [
       "5"
      ]
     },
     "execution_count": 33,
     "metadata": {},
     "output_type": "execute_result"
    }
   ],
   "source": [
    "min(m)"
   ]
  },
  {
   "cell_type": "code",
   "execution_count": 34,
   "id": "408b6883-2294-46bd-b55d-e329f81b0607",
   "metadata": {},
   "outputs": [
    {
     "data": {
      "text/plain": [
       "360"
      ]
     },
     "execution_count": 34,
     "metadata": {},
     "output_type": "execute_result"
    }
   ],
   "source": [
    "max(m)"
   ]
  },
  {
   "cell_type": "markdown",
   "id": "0c33bb7f-87e5-4e54-86c8-d9475871f55a",
   "metadata": {},
   "source": [
    "Let us calculate the Pearson correlation coefficient:"
   ]
  },
  {
   "cell_type": "code",
   "execution_count": 36,
   "id": "c2ff8eb3-cf18-4cb1-984a-bfc17f249f72",
   "metadata": {},
   "outputs": [
    {
     "data": {
      "text/plain": [
       "-0.7686142969026402"
      ]
     },
     "execution_count": 36,
     "metadata": {},
     "output_type": "execute_result"
    }
   ],
   "source": [
    "st.correlation(h, m)"
   ]
  },
  {
   "cell_type": "code",
   "execution_count": 37,
   "id": "34d75ebe-9a0e-4c11-9112-3f5e7aef4497",
   "metadata": {},
   "outputs": [
    {
     "data": {
      "text/plain": [
       "-0.7686142969026402"
      ]
     },
     "execution_count": 37,
     "metadata": {},
     "output_type": "execute_result"
    }
   ],
   "source": [
    "st.correlation(m, h)"
   ]
  },
  {
   "cell_type": "code",
   "execution_count": 38,
   "id": "8001a14e-dbff-4eed-b618-e153a30adfa6",
   "metadata": {},
   "outputs": [
    {
     "data": {
      "text/plain": [
       "\u001b[0;31mSignature:\u001b[0m \u001b[0mst\u001b[0m\u001b[0;34m.\u001b[0m\u001b[0mcorrelation\u001b[0m\u001b[0;34m(\u001b[0m\u001b[0mx\u001b[0m\u001b[0;34m,\u001b[0m \u001b[0my\u001b[0m\u001b[0;34m,\u001b[0m \u001b[0;34m/\u001b[0m\u001b[0;34m,\u001b[0m \u001b[0;34m*\u001b[0m\u001b[0;34m,\u001b[0m \u001b[0mmethod\u001b[0m\u001b[0;34m=\u001b[0m\u001b[0;34m'linear'\u001b[0m\u001b[0;34m)\u001b[0m\u001b[0;34m\u001b[0m\u001b[0;34m\u001b[0m\u001b[0m\n",
       "\u001b[0;31mDocstring:\u001b[0m\n",
       "Pearson's correlation coefficient\n",
       "\n",
       "Return the Pearson's correlation coefficient for two inputs. Pearson's\n",
       "correlation coefficient *r* takes values between -1 and +1. It measures\n",
       "the strength and direction of a linear relationship.\n",
       "\n",
       ">>> x = [1, 2, 3, 4, 5, 6, 7, 8, 9]\n",
       ">>> y = [9, 8, 7, 6, 5, 4, 3, 2, 1]\n",
       ">>> correlation(x, x)\n",
       "1.0\n",
       ">>> correlation(x, y)\n",
       "-1.0\n",
       "\n",
       "If *method* is \"ranked\", computes Spearman's rank correlation coefficient\n",
       "for two inputs.  The data is replaced by ranks.  Ties are averaged\n",
       "so that equal values receive the same rank.  The resulting coefficient\n",
       "measures the strength of a monotonic relationship.\n",
       "\n",
       "Spearman's rank correlation coefficient is appropriate for ordinal\n",
       "data or for continuous data that doesn't meet the linear proportion\n",
       "requirement for Pearson's correlation coefficient.\n",
       "\u001b[0;31mFile:\u001b[0m      /Library/Frameworks/Python.framework/Versions/3.13/lib/python3.13/statistics.py\n",
       "\u001b[0;31mType:\u001b[0m      function"
      ]
     },
     "metadata": {},
     "output_type": "display_data"
    }
   ],
   "source": [
    "st.correlation?"
   ]
  },
  {
   "cell_type": "markdown",
   "id": "ed579622-e6d9-4f76-8f16-34ec8d9618e6",
   "metadata": {},
   "source": [
    "To calculate a line of best fit between $x=\\ln(m)$ and $y=\\ln(h)$ let us first create $x$ and $y$:"
   ]
  },
  {
   "cell_type": "code",
   "execution_count": 54,
   "id": "c3123258-1e5d-472b-a298-1f54f7b817fe",
   "metadata": {},
   "outputs": [],
   "source": [
    "import math\n",
    "x = [math.log(value) for value in m]\n",
    "y = [math.log(value) for value in h]"
   ]
  },
  {
   "cell_type": "code",
   "execution_count": 58,
   "id": "7eddd1bc-e2ab-431c-9ba1-b8b026ad301c",
   "metadata": {},
   "outputs": [
    {
     "data": {
      "image/png": "[encoded data removed]",
      "text/plain": [
       "<Figure size 640x480 with 1 Axes>"
      ]
     },
     "metadata": {},
     "output_type": "display_data"
    }
   ],
   "source": [
    "import matplotlib.pyplot as plt\n",
    "plt.figure()\n",
    "plt.scatter(x, y);"
   ]
  },
  {
   "cell_type": "code",
   "execution_count": 59,
   "id": "9485e356-8b68-4f9c-8b90-69f83d189446",
   "metadata": {},
   "outputs": [],
   "source": [
    "slope, intercept = st.linear_regression(x, y)"
   ]
  },
  {
   "cell_type": "code",
   "execution_count": 61,
   "id": "ad15f60e-a765-4396-aa44-bb9260c79150",
   "metadata": {},
   "outputs": [
    {
     "data": {
      "text/plain": [
       "-0.03854770754231997"
      ]
     },
     "execution_count": 61,
     "metadata": {},
     "output_type": "execute_result"
    }
   ],
   "source": [
    "slope"
   ]
  },
  {
   "cell_type": "code",
   "execution_count": 62,
   "id": "0f3c0b77-0fab-44ba-8069-751836e0a83e",
   "metadata": {},
   "outputs": [
    {
     "data": {
      "text/plain": [
       "4.368415819445762"
      ]
     },
     "execution_count": 62,
     "metadata": {},
     "output_type": "execute_result"
    }
   ],
   "source": [
    "intercept"
   ]
  },
  {
   "cell_type": "code",
   "execution_count": 63,
   "id": "02bc7c21-dc5e-4ab1-9e18-18c00d018be1",
   "metadata": {},
   "outputs": [
    {
     "data": {
      "text/plain": [
       "Text(0, 0.5, '$y$')"
      ]
     },
     "execution_count": 63,
     "metadata": {},
     "output_type": "execute_result"
    },
    {
     "data": {
      "image/png": "[encoded data removed]",
      "text/plain": [
       "<Figure size 640x480 with 1 Axes>"
      ]
     },
     "metadata": {},
     "output_type": "display_data"
    }
   ],
   "source": [
    "start_point, end_point = min(x), max(x)\n",
    "image_start_point = slope * start_point + intercept\n",
    "image_end_point = slope * end_point + intercept\n",
    "\n",
    "plt.figure()\n",
    "plt.scatter(x, y)\n",
    "plt.plot((start_point, end_point), (image_start_point, image_end_point))\n",
    "plt.xlabel(\"$x$\")\n",
    "plt.ylabel(\"$y$\")"
   ]
  },
  {
   "cell_type": "markdown",
   "id": "50acd434-5492-4ff0-a03a-87d6c4cf5109",
   "metadata": {},
   "source": [
    "The next question asks for a relationship of the form $h=cm^k$"
   ]
  },
  {
   "cell_type": "markdown",
   "id": "3dfb655b-15e9-4eff-afe3-8c772096f4a4",
   "metadata": {},
   "source": [
    "We have just found a relationship of the form $y=ax + b$."
   ]
  },
  {
   "cell_type": "markdown",
   "id": "6c4c8d37-ab82-44ab-b65b-d4e3994da218",
   "metadata": {},
   "source": [
    "Where $a$ is the slope:"
   ]
  },
  {
   "cell_type": "code",
   "execution_count": 64,
   "id": "53393b4c-1d60-4bf9-b9d0-8e62edd5f2fa",
   "metadata": {},
   "outputs": [
    {
     "data": {
      "text/plain": [
       "-0.03854770754231997"
      ]
     },
     "execution_count": 64,
     "metadata": {},
     "output_type": "execute_result"
    }
   ],
   "source": [
    "slope"
   ]
  },
  {
   "cell_type": "markdown",
   "id": "30d22f59-bdc6-495c-a14f-68d23efa419c",
   "metadata": {},
   "source": [
    "and $b$ is the intercept:"
   ]
  },
  {
   "cell_type": "code",
   "execution_count": 65,
   "id": "f6c6cf95-b917-48b6-811c-37ef52adc1d6",
   "metadata": {},
   "outputs": [
    {
     "data": {
      "text/plain": [
       "4.368415819445762"
      ]
     },
     "execution_count": 65,
     "metadata": {},
     "output_type": "execute_result"
    }
   ],
   "source": [
    "intercept"
   ]
  },
  {
   "cell_type": "markdown",
   "id": "ef8efb23-bbfa-44d5-9c32-41f036db3629",
   "metadata": {},
   "source": [
    "Let us manipulate the expressions we have using Sympy."
   ]
  },
  {
   "cell_type": "code",
   "execution_count": 66,
   "id": "a7f44e8a-ad1c-4cd6-9061-09b3ffff2f9c",
   "metadata": {},
   "outputs": [],
   "source": [
    "import sympy as sym\n",
    "\n",
    "h = sym.Symbol(\"h\")\n",
    "m = sym.Symbol(\"m\")\n",
    "a = sym.Symbol(\"a\")\n",
    "b = sym.Symbol(\"b\")\n",
    "x = sym.ln(m)\n",
    "y = sym.ln(h)"
   ]
  },
  {
   "cell_type": "code",
   "execution_count": 68,
   "id": "352d03c9-68b6-4bd0-918d-e39dac0ebfbd",
   "metadata": {},
   "outputs": [
    {
     "data": {
      "text/latex": [
       "$\\displaystyle \\log{\\left(h \\right)} = a \\log{\\left(m \\right)} + b$"
      ],
      "text/plain": [
       "Eq(log(h), a*log(m) + b)"
      ]
     },
     "execution_count": 68,
     "metadata": {},
     "output_type": "execute_result"
    }
   ],
   "source": [
    "line = sym.Eq(lhs=y, rhs=a * x + b)\n",
    "line"
   ]
  },
  {
   "cell_type": "code",
   "execution_count": 69,
   "id": "af2502c9-5b42-47eb-82bc-ac2c2395c414",
   "metadata": {},
   "outputs": [
    {
     "data": {
      "text/latex": [
       "$\\displaystyle h$"
      ],
      "text/plain": [
       "h"
      ]
     },
     "execution_count": 69,
     "metadata": {},
     "output_type": "execute_result"
    }
   ],
   "source": [
    "sym.exp(line.lhs)"
   ]
  },
  {
   "cell_type": "code",
   "execution_count": 70,
   "id": "607fb464-f942-421b-b826-4be9781d9d94",
   "metadata": {},
   "outputs": [
    {
     "data": {
      "text/latex": [
       "$\\displaystyle e^{a \\log{\\left(m \\right)} + b}$"
      ],
      "text/plain": [
       "exp(a*log(m) + b)"
      ]
     },
     "execution_count": 70,
     "metadata": {},
     "output_type": "execute_result"
    }
   ],
   "source": [
    "sym.exp(line.rhs)"
   ]
  },
  {
   "cell_type": "markdown",
   "id": "a2131fed-30ee-40a7-a589-d168d2032736",
   "metadata": {},
   "source": [
    "This expression can be rewritten as:\n",
    "\n",
    "$$\n",
    "e^be^{a\\ln(m)}\n",
    "$$\n",
    "\n",
    "which in turn can be rewritten as:\n",
    "\n",
    "$$\n",
    "e^bm^a\n",
    "$$"
   ]
  },
  {
   "cell_type": "markdown",
   "id": "eef79596-b71b-4de6-97f3-e4b56ab5ae2a",
   "metadata": {},
   "source": [
    "We can now substitute our values for the slope ($a$) and the value for the intercept $b$:"
   ]
  },
  {
   "cell_type": "code",
   "execution_count": 71,
   "id": "2a94169c-2d05-4985-9e07-c0397cfdec12",
   "metadata": {},
   "outputs": [
    {
     "data": {
      "text/latex": [
       "$\\displaystyle \\frac{78.9185114479915}{m^{0.03854770754232}}$"
      ],
      "text/plain": [
       "78.9185114479915/m**0.03854770754232"
      ]
     },
     "execution_count": 71,
     "metadata": {},
     "output_type": "execute_result"
    }
   ],
   "source": [
    "sym.exp(line.rhs).subs({a: slope, b: intercept})"
   ]
  },
  {
   "cell_type": "code",
   "execution_count": null,
   "id": "e0127634-6c17-4d21-9fa3-66ea138bd6e2",
   "metadata": {},
   "outputs": [],
   "source": []
  }
 ],
 "metadata": {
  "kernelspec": {
   "display_name": "Python 3 (ipykernel)",
   "language": "python",
   "name": "python3"
  },
  "language_info": {
   "codemirror_mode": {
    "name": "ipython",
    "version": 3
   },
   "file_extension": ".py",
   "mimetype": "text/x-python",
   "name": "python",
   "nbconvert_exporter": "python",
   "pygments_lexer": "ipython3",
   "version": "3.13.0"
  }
 },
 "nbformat": 4,
 "nbformat_minor": 5
}
