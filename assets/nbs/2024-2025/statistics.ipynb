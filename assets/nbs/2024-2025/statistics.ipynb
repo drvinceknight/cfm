{
 "cells": [
  {
   "cell_type": "markdown",
   "id": "8f507202-02d3-4d5c-9236-7238ab303c6f",
   "metadata": {},
   "source": [
    "I want to know if there is a relationship between study time and\n",
    "expectation of grade in first year mathematics students.\n",
    "\n",
    "The variables:\n",
    "\n",
    "- $x$ is the self reported expectation (between 0 and 100)\n",
    "- $y$ is the self reported number of hours work per week.\n",
    "\n",
    "1. Obtain the following summary statistics for both $x$ and $y$:\n",
    "    - The mean;\n",
    "    - The median;\n",
    "    - The quartiles;\n",
    "    - The standard deviation;\n",
    "2. Obtain the Pearson correlation coefficient between $x$ and $y$.\n",
    "3. Obtain a line of best fit $y=ax + b$."
   ]
  },
  {
   "cell_type": "markdown",
   "id": "5da271d6-4eef-440b-95af-9112b2357438",
   "metadata": {},
   "source": [
    "Let us first create $x$ and $y$ as tuples from the data:"
   ]
  },
  {
   "cell_type": "code",
   "execution_count": 1,
   "id": "98b786a3-05b5-4842-a788-3025d3b66aad",
   "metadata": {},
   "outputs": [],
   "source": [
    "x = (\n",
    " 60.0,\n",
    " 65.0,\n",
    " 75.0,\n",
    " 50.0,\n",
    " 70.0,\n",
    " 62.0,\n",
    " 60.0,\n",
    " 50.0,\n",
    " 70.0,\n",
    " 85.0,\n",
    " 60.0,\n",
    " 55.0,\n",
    " 70.0,\n",
    " 80.0,\n",
    " 75.0,\n",
    " 60.0,\n",
    " 70.0,\n",
    " 46.0,\n",
    " 70.0,\n",
    " 55.0,\n",
    " 70.0,\n",
    " 100.0,\n",
    " 60.0,\n",
    " 90.0,\n",
    " 60.0,\n",
    " 90.0,\n",
    " 60.0,\n",
    " 60.0,\n",
    " 65.0,\n",
    " 80.0,\n",
    " 50.0,\n",
    " 70.0,\n",
    " 75.0,\n",
    " 60.0,\n",
    " 55.0,\n",
    " 2.5,\n",
    " 80.0,\n",
    " 60.0,\n",
    " 40.0,\n",
    " 75.0,\n",
    " 95.0,\n",
    " 80.0,\n",
    " 70.0,\n",
    " 50.0,\n",
    " 65.0,\n",
    " 55.0,\n",
    " 60.0,\n",
    " 55.0,\n",
    " 88.0,\n",
    " 60.0,\n",
    " 80.0,\n",
    " 0.0,\n",
    " 75.0,\n",
    " 75.0,\n",
    " 75.0,\n",
    " 80.0,\n",
    " 93.0,\n",
    " 60.0,\n",
    " 60.0,\n",
    " 80.0,\n",
    " 70.0,\n",
    " 65.0,\n",
    " 60.0,\n",
    " 70.0,\n",
    " 0.0,\n",
    " 65.0,\n",
    " 88.0,\n",
    " 80.0,\n",
    " 50.0,\n",
    " 80.0,\n",
    " 1.0,\n",
    " 80.0,\n",
    " 60.0,\n",
    " 70.0,\n",
    " 70.0,\n",
    " 70.0,\n",
    " 70.0,\n",
    " 70.0,\n",
    " 60.0,\n",
    " 50.0,\n",
    " 40.0,\n",
    " 65.0,\n",
    " 85.0,\n",
    " 82.0,\n",
    " 55.0,\n",
    " 80.0,\n",
    " 65.0,\n",
    " 70.0,\n",
    " 65.0,\n",
    " 100.0,\n",
    " 60.0,\n",
    " 75.0,\n",
    " 80.0,\n",
    " 70.0,\n",
    " 40.0,\n",
    " 70.0,\n",
    " 70.0,\n",
    " 50.0,\n",
    " 80.0,\n",
    ")"
   ]
  },
  {
   "cell_type": "code",
   "execution_count": 2,
   "id": "f5761830-85a8-40c5-992f-534fe0463fb5",
   "metadata": {},
   "outputs": [],
   "source": [
    "y = (7,\n",
    " 15,\n",
    " 10,\n",
    " 10,\n",
    " 0,\n",
    " 10,\n",
    " 20,\n",
    " 10,\n",
    " 14,\n",
    " 0,\n",
    " 4,\n",
    " 5,\n",
    " 11,\n",
    " 12,\n",
    " 15,\n",
    " 12,\n",
    " 3,\n",
    " 0,\n",
    " 0,\n",
    " 25,\n",
    " 10,\n",
    " 0,\n",
    " 6,\n",
    " 20,\n",
    " 10,\n",
    " 12,\n",
    " 0,\n",
    " 12,\n",
    " 7,\n",
    " 10,\n",
    " 7,\n",
    " 8,\n",
    " 10,\n",
    " 4,\n",
    " 14,\n",
    " 25,\n",
    " 20,\n",
    " 10,\n",
    " 0,\n",
    " 12,\n",
    " 10,\n",
    " 10,\n",
    " 20,\n",
    " 1,\n",
    " 18,\n",
    " 10,\n",
    " 7,\n",
    " 20,\n",
    " 15,\n",
    " 10,\n",
    " 7,\n",
    " 5,\n",
    " 3,\n",
    " 8,\n",
    " 15,\n",
    " 4,\n",
    " 8,\n",
    " 20,\n",
    " 12,\n",
    " 40,\n",
    " 15,\n",
    " 35,\n",
    " 10,\n",
    " 4,\n",
    " 72,\n",
    " 7,\n",
    " 2,\n",
    " 15,\n",
    " 8,\n",
    " 30,\n",
    " 0,\n",
    " 15,\n",
    " 5,\n",
    " 14,\n",
    " 16,\n",
    " 15,\n",
    " 10,\n",
    " 2,\n",
    " 3,\n",
    " 35,\n",
    " 5,\n",
    " 7,\n",
    " 20,\n",
    " 4,\n",
    " 5,\n",
    " 5,\n",
    " 2,\n",
    " 20,\n",
    " 7,\n",
    " 15,\n",
    " 14,\n",
    " 20,\n",
    " 2,\n",
    " 5,\n",
    " 15,\n",
    " 5,\n",
    " 30,\n",
    " 3,\n",
    " 20)"
   ]
  },
  {
   "cell_type": "markdown",
   "id": "968b4559-1009-4f31-9715-4624ea6e4d87",
   "metadata": {},
   "source": [
    "We can plot this (**not that plotting is not part of what is covered this Semester)."
   ]
  },
  {
   "cell_type": "code",
   "execution_count": 3,
   "id": "7cc07655-3778-4364-a358-58832ca14935",
   "metadata": {},
   "outputs": [
    {
     "data": {
      "text/plain": [
       "Text(0, 0.5, 'Study hours')"
      ]
     },
     "execution_count": 3,
     "metadata": {},
     "output_type": "execute_result"
    },
    {
     "data": {
      "image/png": "[encoded data removed]",
      "text/plain": [
       "<Figure size 640x480 with 1 Axes>"
      ]
     },
     "metadata": {},
     "output_type": "display_data"
    }
   ],
   "source": [
    "import matplotlib.pyplot as plt\n",
    "plt.figure()\n",
    "plt.scatter(x, y)\n",
    "plt.xlabel(\"Expected grade\")\n",
    "plt.ylabel(\"Study hours\")"
   ]
  },
  {
   "cell_type": "markdown",
   "id": "75d571b1-01d6-4e4c-b133-c6e340dd8515",
   "metadata": {},
   "source": [
    "To carry out the calculations we are going to use the `statistics` library:"
   ]
  },
  {
   "cell_type": "code",
   "execution_count": 4,
   "id": "c5dfe380-3fc2-4232-83e4-0cebd574ee5c",
   "metadata": {},
   "outputs": [],
   "source": [
    "import statistics as st"
   ]
  },
  {
   "cell_type": "code",
   "execution_count": 5,
   "id": "cfd0c9ba-5f0e-4881-bbf7-fbe43496f936",
   "metadata": {},
   "outputs": [
    {
     "data": {
      "text/plain": [
       "65.42929292929293"
      ]
     },
     "execution_count": 5,
     "metadata": {},
     "output_type": "execute_result"
    }
   ],
   "source": [
    "st.mean(x)"
   ]
  },
  {
   "cell_type": "code",
   "execution_count": 6,
   "id": "dd6b2ab8-96a3-4a0b-82c2-dcd395d017a3",
   "metadata": {},
   "outputs": [
    {
     "data": {
      "text/plain": [
       "70.0"
      ]
     },
     "execution_count": 6,
     "metadata": {},
     "output_type": "execute_result"
    }
   ],
   "source": [
    "st.median(x)"
   ]
  },
  {
   "cell_type": "code",
   "execution_count": 7,
   "id": "1e59068b-08b9-4e97-aa8c-d08bdb767ec2",
   "metadata": {},
   "outputs": [
    {
     "data": {
      "text/plain": [
       "[60.0, 70.0, 75.0]"
      ]
     },
     "execution_count": 7,
     "metadata": {},
     "output_type": "execute_result"
    }
   ],
   "source": [
    "st.quantiles(x, n=4)"
   ]
  },
  {
   "cell_type": "code",
   "execution_count": 8,
   "id": "3a4d79e1-f635-4e42-8955-00c4247982e6",
   "metadata": {},
   "outputs": [
    {
     "data": {
      "text/plain": [
       "18.360062316627896"
      ]
     },
     "execution_count": 8,
     "metadata": {},
     "output_type": "execute_result"
    }
   ],
   "source": [
    "st.stdev(x)"
   ]
  },
  {
   "cell_type": "code",
   "execution_count": 9,
   "id": "dcb0f6b9-d351-4ab7-9fc0-d486723ac73a",
   "metadata": {},
   "outputs": [
    {
     "data": {
      "text/plain": [
       "11.515151515151516"
      ]
     },
     "execution_count": 9,
     "metadata": {},
     "output_type": "execute_result"
    }
   ],
   "source": [
    "st.mean(y)"
   ]
  },
  {
   "cell_type": "code",
   "execution_count": 10,
   "id": "1f0ad418-cb81-4dc5-b6ca-865f0ac73bea",
   "metadata": {},
   "outputs": [
    {
     "data": {
      "text/plain": [
       "10"
      ]
     },
     "execution_count": 10,
     "metadata": {},
     "output_type": "execute_result"
    }
   ],
   "source": [
    "st.median(y)"
   ]
  },
  {
   "cell_type": "code",
   "execution_count": 11,
   "id": "b5c6841e-4a60-46b5-ab88-5d10c5301a77",
   "metadata": {},
   "outputs": [
    {
     "data": {
      "text/plain": [
       "[5.0, 10.0, 15.0]"
      ]
     },
     "execution_count": 11,
     "metadata": {},
     "output_type": "execute_result"
    }
   ],
   "source": [
    "st.quantiles(y, n=4)"
   ]
  },
  {
   "cell_type": "code",
   "execution_count": 12,
   "id": "da1e06ad-2923-427c-979f-6d172164f23e",
   "metadata": {},
   "outputs": [
    {
     "data": {
      "text/plain": [
       "10.23834692129987"
      ]
     },
     "execution_count": 12,
     "metadata": {},
     "output_type": "execute_result"
    }
   ],
   "source": [
    "st.stdev(y)"
   ]
  },
  {
   "cell_type": "markdown",
   "id": "3f93f576-5033-4037-b09b-dddc4735544b",
   "metadata": {},
   "source": [
    "The Pearson correlation coefficient:"
   ]
  },
  {
   "cell_type": "code",
   "execution_count": 13,
   "id": "0bf75ee3-a75b-4ac2-bea5-e077f0fa8752",
   "metadata": {},
   "outputs": [
    {
     "data": {
      "text/plain": [
       "-0.153020165717282"
      ]
     },
     "execution_count": 13,
     "metadata": {},
     "output_type": "execute_result"
    }
   ],
   "source": [
    "st.correlation(x, y)"
   ]
  },
  {
   "cell_type": "markdown",
   "id": "58752f2b-f893-477f-87e2-0665e0a34efe",
   "metadata": {},
   "source": [
    "Now for the linear regression:"
   ]
  },
  {
   "cell_type": "code",
   "execution_count": 14,
   "id": "14aa90e9-c77c-4396-bde1-f96395c8968d",
   "metadata": {},
   "outputs": [],
   "source": [
    "slope, intercept = st.linear_regression(x, y)"
   ]
  },
  {
   "cell_type": "code",
   "execution_count": 15,
   "id": "3dbbce5f-318e-4195-8b34-4cf4eb7bf3e9",
   "metadata": {},
   "outputs": [
    {
     "data": {
      "text/plain": [
       "-0.08533051334741186"
      ]
     },
     "execution_count": 15,
     "metadata": {},
     "output_type": "execute_result"
    }
   ],
   "source": [
    "slope"
   ]
  },
  {
   "cell_type": "code",
   "execution_count": 16,
   "id": "f0dd6680-ef67-4951-b4cc-1f380b2a3151",
   "metadata": {},
   "outputs": [
    {
     "data": {
      "text/plain": [
       "17.098266668766264"
      ]
     },
     "execution_count": 16,
     "metadata": {},
     "output_type": "execute_result"
    }
   ],
   "source": [
    "intercept"
   ]
  },
  {
   "cell_type": "code",
   "execution_count": 17,
   "id": "251fa036-7c93-4f32-a5f6-e94fe159f1c3",
   "metadata": {},
   "outputs": [
    {
     "data": {
      "text/plain": [
       "Text(0, 0.5, 'Study hours')"
      ]
     },
     "execution_count": 17,
     "metadata": {},
     "output_type": "execute_result"
    },
    {
     "data": {
      "image/png": "[encoded data removed]",
      "text/plain": [
       "<Figure size 640x480 with 1 Axes>"
      ]
     },
     "metadata": {},
     "output_type": "display_data"
    }
   ],
   "source": [
    "plt.figure()\n",
    "plt.scatter(x, y)\n",
    "plt.plot((0, 100), (intercept, 100 * slope + intercept))\n",
    "plt.xlabel(\"Expected grade\")\n",
    "plt.ylabel(\"Study hours\")"
   ]
  },
  {
   "cell_type": "markdown",
   "id": "6e4fd18f-ce95-491a-bd34-1163ad31d130",
   "metadata": {},
   "source": [
    "This seems to show that the more student expect to get the less hours they work. Perhaps one interpretation of this is that students who are worried about their mark being low, work more.\n",
    "\n",
    "Another possibility is that our data is heavily swayed by the big outlier. Let us remove that outlier from the data and repeat the Pearson correlation coefficient and the linear regression (note this uses slicing which is covered next Semester):"
   ]
  },
  {
   "cell_type": "code",
   "execution_count": 18,
   "id": "7f6c159c-d511-4c18-897f-7ceb297828f8",
   "metadata": {},
   "outputs": [],
   "source": [
    "index_of_outlier = y.index(max(y))\n",
    "y = y[:index_of_outlier] + y[index_of_outlier + 1:]\n",
    "x = x[:index_of_outlier] + x[index_of_outlier + 1:]"
   ]
  },
  {
   "cell_type": "code",
   "execution_count": 19,
   "id": "64f99fb6-10a5-45d2-b567-985915644efb",
   "metadata": {},
   "outputs": [
    {
     "data": {
      "text/plain": [
       "0.08579662343131957"
      ]
     },
     "execution_count": 19,
     "metadata": {},
     "output_type": "execute_result"
    }
   ],
   "source": [
    "st.correlation(x, y)"
   ]
  },
  {
   "cell_type": "markdown",
   "id": "fd92f8b7-13e6-48df-8c35-d1cc1804bd85",
   "metadata": {},
   "source": [
    "We now see a positive correlation."
   ]
  },
  {
   "cell_type": "code",
   "execution_count": 20,
   "id": "1656827e-f173-4cd7-808d-73b78575289d",
   "metadata": {},
   "outputs": [
    {
     "data": {
      "text/plain": [
       "Text(0, 0.5, 'Study hours')"
      ]
     },
     "execution_count": 20,
     "metadata": {},
     "output_type": "execute_result"
    },
    {
     "data": {
      "image/png": "[encoded data removed]",
      "text/plain": [
       "<Figure size 640x480 with 1 Axes>"
      ]
     },
     "metadata": {},
     "output_type": "display_data"
    }
   ],
   "source": [
    "slope, intercept = st.linear_regression(x, y)\n",
    "plt.figure()\n",
    "plt.scatter(x, y)\n",
    "plt.plot((0, 100), (intercept, 100 * slope + intercept))\n",
    "plt.xlabel(\"Expected grade\")\n",
    "plt.ylabel(\"Study hours\")"
   ]
  },
  {
   "cell_type": "markdown",
   "id": "0bd3833d-d1b6-4cf4-a518-cbaeb55e4685",
   "metadata": {},
   "source": [
    "And now we see a positive relationship between students expectations and the amount of work they do."
   ]
  },
  {
   "cell_type": "code",
   "execution_count": null,
   "id": "17c0b136-f5b9-49d0-a4ff-6fdc4df7025d",
   "metadata": {},
   "outputs": [],
   "source": []
  }
 ],
 "metadata": {
  "kernelspec": {
   "display_name": "Python 3 (ipykernel)",
   "language": "python",
   "name": "python3"
  },
  "language_info": {
   "codemirror_mode": {
    "name": "ipython",
    "version": 3
   },
   "file_extension": ".py",
   "mimetype": "text/x-python",
   "name": "python",
   "nbconvert_exporter": "python",
   "pygments_lexer": "ipython3",
   "version": "3.13.0"
  }
 },
 "nbformat": 4,
 "nbformat_minor": 5
}
