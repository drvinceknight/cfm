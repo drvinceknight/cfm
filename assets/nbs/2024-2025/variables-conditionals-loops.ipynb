{
 "cells": [
  {
   "cell_type": "markdown",
   "id": "8d34df0b-47c9-4cae-8db3-d42b2c62f516",
   "metadata": {},
   "source": [
    "A perfect number is a positive integer whose divisors (excluding itself) sum to\n",
    "itself. For example, $6$ is a perfect number because $6 = 1 + 2 +\n",
    "3$.\n",
    "\n",
    "1. How many perfect numbers are there less than 20?\n",
    "2. What is the next perfect number?"
   ]
  },
  {
   "cell_type": "code",
   "execution_count": 1,
   "id": "f1a17d5a-cb5b-45f2-896b-ba41aaa49b37",
   "metadata": {},
   "outputs": [],
   "source": [
    "def is_perfect(n):\n",
    "    \"\"\"\n",
    "    Checks if a number is perfect.\n",
    "\n",
    "    <Write details about which method I use for this>\n",
    "    \"\"\"\n",
    "    return sum(i for i in range(1, n) if (n % i == 0)) == n"
   ]
  },
  {
   "cell_type": "code",
   "execution_count": 2,
   "id": "95c2c53b-d1ef-4648-8a57-ea060f189b40",
   "metadata": {},
   "outputs": [
    {
     "data": {
      "text/plain": [
       "False"
      ]
     },
     "execution_count": 2,
     "metadata": {},
     "output_type": "execute_result"
    }
   ],
   "source": [
    "is_perfect(5)"
   ]
  },
  {
   "cell_type": "code",
   "execution_count": 3,
   "id": "9233dbbd-a5f0-4cca-8904-adec9c0753d8",
   "metadata": {},
   "outputs": [
    {
     "data": {
      "text/plain": [
       "False"
      ]
     },
     "execution_count": 3,
     "metadata": {},
     "output_type": "execute_result"
    }
   ],
   "source": [
    "is_perfect(7)"
   ]
  },
  {
   "cell_type": "code",
   "execution_count": 4,
   "id": "74b61ba7-c4ad-4e8d-b21e-6134203e310f",
   "metadata": {},
   "outputs": [
    {
     "data": {
      "text/plain": [
       "True"
      ]
     },
     "execution_count": 4,
     "metadata": {},
     "output_type": "execute_result"
    }
   ],
   "source": [
    "is_perfect(6)"
   ]
  },
  {
   "cell_type": "markdown",
   "id": "ade6187a-acda-4338-a9c2-0ecc4e912af9",
   "metadata": {},
   "source": [
    "Now let us check all the numbers up until 20:"
   ]
  },
  {
   "cell_type": "code",
   "execution_count": 26,
   "id": "75915414-f4ba-4161-8c9a-e7d4c258f5ae",
   "metadata": {},
   "outputs": [],
   "source": [
    "checks = [is_perfect(n) for n in range(1, 21)]"
   ]
  },
  {
   "cell_type": "code",
   "execution_count": 28,
   "id": "7a2c2a53-8709-448e-a168-e6cc77146d2d",
   "metadata": {},
   "outputs": [
    {
     "data": {
      "text/plain": [
       "5"
      ]
     },
     "execution_count": 28,
     "metadata": {},
     "output_type": "execute_result"
    }
   ],
   "source": [
    "checks.index(True)"
   ]
  },
  {
   "cell_type": "code",
   "execution_count": 7,
   "id": "c9a879f1-26fa-4319-9c6b-2058bbc41cef",
   "metadata": {},
   "outputs": [
    {
     "data": {
      "text/plain": [
       "False"
      ]
     },
     "execution_count": 7,
     "metadata": {},
     "output_type": "execute_result"
    }
   ],
   "source": [
    "all(checks)"
   ]
  },
  {
   "cell_type": "code",
   "execution_count": 8,
   "id": "876f9e85-b38f-494b-b3b9-f08ade9d3bd4",
   "metadata": {},
   "outputs": [
    {
     "data": {
      "text/plain": [
       "True"
      ]
     },
     "execution_count": 8,
     "metadata": {},
     "output_type": "execute_result"
    }
   ],
   "source": [
    "any(checks)"
   ]
  },
  {
   "cell_type": "markdown",
   "id": "3384a757-1287-414e-b6e3-12ecbad50aef",
   "metadata": {},
   "source": [
    "We can also count them:"
   ]
  },
  {
   "cell_type": "code",
   "execution_count": 9,
   "id": "1ba59294-fc5b-4d22-ade1-13c6d0202930",
   "metadata": {},
   "outputs": [
    {
     "data": {
      "text/plain": [
       "1"
      ]
     },
     "execution_count": 9,
     "metadata": {},
     "output_type": "execute_result"
    }
   ],
   "source": [
    "sum(checks)"
   ]
  },
  {
   "cell_type": "markdown",
   "id": "3f559d50-b46c-4fa9-a7ec-cf76acebfdbe",
   "metadata": {},
   "source": [
    "There is just 1 perfect number less than 20. It is 6."
   ]
  },
  {
   "cell_type": "code",
   "execution_count": 17,
   "id": "a49130bb-f26d-40ee-a208-797e11b67ece",
   "metadata": {},
   "outputs": [],
   "source": [
    "n = 497\n",
    "while is_perfect(n) is False:\n",
    "    n += 1"
   ]
  },
  {
   "cell_type": "code",
   "execution_count": 18,
   "id": "8c9c58a1-4dc4-4d97-85c8-291e80eb64e2",
   "metadata": {},
   "outputs": [
    {
     "data": {
      "text/plain": [
       "8128"
      ]
     },
     "execution_count": 18,
     "metadata": {},
     "output_type": "execute_result"
    }
   ],
   "source": [
    "n"
   ]
  },
  {
   "cell_type": "code",
   "execution_count": 19,
   "id": "caf5d62f-ed5f-49f8-a4a4-0d463232cda9",
   "metadata": {},
   "outputs": [
    {
     "data": {
      "text/plain": [
       "True"
      ]
     },
     "execution_count": 19,
     "metadata": {},
     "output_type": "execute_result"
    }
   ],
   "source": [
    "is_perfect(n=28)"
   ]
  },
  {
   "cell_type": "code",
   "execution_count": 14,
   "id": "7cdc2ff7-305a-40b4-9d6f-7963a2c242f8",
   "metadata": {},
   "outputs": [
    {
     "data": {
      "text/plain": [
       "False"
      ]
     },
     "execution_count": 14,
     "metadata": {},
     "output_type": "execute_result"
    }
   ],
   "source": [
    "is_perfect(n=36)"
   ]
  },
  {
   "cell_type": "code",
   "execution_count": 20,
   "id": "05f90430-cc34-4543-bc4a-818525bff130",
   "metadata": {},
   "outputs": [],
   "source": [
    "import sympy as sym"
   ]
  },
  {
   "cell_type": "code",
   "execution_count": 23,
   "id": "59d4aa60-fac2-4198-a666-820a5c1e1600",
   "metadata": {},
   "outputs": [
    {
     "data": {
      "text/plain": [
       "{2: 6, 127: 1}"
      ]
     },
     "execution_count": 23,
     "metadata": {},
     "output_type": "execute_result"
    }
   ],
   "source": [
    "sym.factorint(8128)"
   ]
  },
  {
   "cell_type": "code",
   "execution_count": null,
   "id": "d889ad6b-8727-47ee-8c10-2367c7ea961c",
   "metadata": {},
   "outputs": [],
   "source": []
  }
 ],
 "metadata": {
  "kernelspec": {
   "display_name": "Python 3 (ipykernel)",
   "language": "python",
   "name": "python3"
  },
  "language_info": {
   "codemirror_mode": {
    "name": "ipython",
    "version": 3
   },
   "file_extension": ".py",
   "mimetype": "text/x-python",
   "name": "python",
   "nbconvert_exporter": "python",
   "pygments_lexer": "ipython3",
   "version": "3.13.0"
  }
 },
 "nbformat": 4,
 "nbformat_minor": 5
}
