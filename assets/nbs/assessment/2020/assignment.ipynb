{
 "cells": [
  {
   "cell_type": "markdown",
   "metadata": {},
   "source": [
    "### Computing for Mathematics - 2020/2021 individual coursework\n",
    "\n",
    "**Important** Do not delete the cells containing: \n",
    "\n",
    "```\n",
    "### BEGIN SOLUTION\n",
    "\n",
    "\n",
    "### END SOLUTION\n",
    "```\n",
    "\n",
    "write your solution attempts in those cells.\n",
    "\n",
    "To submit this notebook:\n",
    "\n",
    "- Change the name of the notebook from `main` to: `<student_number>`. For example, if your student number is `c1234567` then change the name of the notebook to `c1234567`.\n",
    "- **Write all your solution attempts in the correct locations**;\n",
    "- **Do not delete** any code that is already in the cells;\n",
    "- Save the notebook (`File>Save As`);\n",
    "- Follow the instructions given in class/email to submit."
   ]
  },
  {
   "cell_type": "markdown",
   "metadata": {},
   "source": [
    "#### Question 1\n",
    "\n",
    "(__Hint__: This question is similar to the [first exercise of the Probability chapter of Python for mathematics](https://vknight.org/pfm/tools-for-mathematics/06-probability/exercises/main.html#exercises).)\n",
    "\n",
    "For each of the following, write a function `sample_experiment`, and repeatedly use it to simulate the probability of an event occurring with the following chances.\n",
    "\n",
    "For each chance **output** the simulated probability.\n",
    "\n",
    "a. $0$ \n",
    "\n",
    "_Available marks: 2_"
   ]
  },
  {
   "cell_type": "code",
   "execution_count": 1,
   "metadata": {
    "tags": [
     "answer:q1-a"
    ]
   },
   "outputs": [
    {
     "data": {
      "text/plain": [
       "0.0"
      ]
     },
     "execution_count": 1,
     "metadata": {},
     "output_type": "execute_result"
    }
   ],
   "source": [
    "import random\n",
    "\n",
    "def sample_experiment():\n",
    "    ### BEGIN SOLUTION\n",
    "\n",
    "\n",
    "### END SOLUTION"
   ]
  },
  {
   "cell_type": "markdown",
   "metadata": {},
   "source": [
    "b. $1/2$\n",
    "\n",
    "_Available marks: 2_"
   ]
  },
  {
   "cell_type": "code",
   "execution_count": 4,
   "metadata": {
    "tags": [
     "answer:q1-b"
    ]
   },
   "outputs": [
    {
     "data": {
      "text/plain": [
       "0.47"
      ]
     },
     "execution_count": 4,
     "metadata": {},
     "output_type": "execute_result"
    }
   ],
   "source": [
    "def sample_experiment():\n",
    "    ### BEGIN SOLUTION\n",
    "\n",
    "\n",
    "### END SOLUTION"
   ]
  },
  {
   "cell_type": "markdown",
   "metadata": {},
   "source": [
    "c. $3/4$\n",
    "\n",
    "_Available marks: 2_"
   ]
  },
  {
   "cell_type": "code",
   "execution_count": 7,
   "metadata": {
    "tags": [
     "answer:q1-c"
    ]
   },
   "outputs": [
    {
     "data": {
      "text/plain": [
       "0.769"
      ]
     },
     "execution_count": 7,
     "metadata": {},
     "output_type": "execute_result"
    }
   ],
   "source": [
    "def sample_experiment():\n",
    "    ### BEGIN SOLUTION\n",
    "\n",
    "\n",
    "### END SOLUTION"
   ]
  },
  {
   "cell_type": "markdown",
   "metadata": {},
   "source": [
    "d. $1$\n",
    "\n",
    "_Available marks: 2_"
   ]
  },
  {
   "cell_type": "code",
   "execution_count": 10,
   "metadata": {
    "tags": [
     "answer:q1-d"
    ]
   },
   "outputs": [
    {
     "data": {
      "text/plain": [
       "1.0"
      ]
     },
     "execution_count": 10,
     "metadata": {},
     "output_type": "execute_result"
    }
   ],
   "source": [
    "def sample_experiment():\n",
    "    ### BEGIN SOLUTION\n",
    "\n",
    "\n",
    "### END SOLUTION"
   ]
  },
  {
   "cell_type": "markdown",
   "metadata": {},
   "source": [
    "### Question 2\n",
    "\n",
    "\n",
    "(__Hint__: This question is similar to the [second exercise of the Combinatorics chapter of Python for mathematics](https://vknight.org/pfm/tools-for-mathematics/05-combinations-permutations/exercises/main.html).)\n",
    "\n",
    "a. Create a variable `number_of_permutations` that gives the number of permutations of `pets = (\"cat\", \"dog\", \"fish\", \"lizard\", \"hamster)` of size 4. Do this by generating and counting them.\n",
    "\n",
    "_Available marks: 2_"
   ]
  },
  {
   "cell_type": "code",
   "execution_count": 13,
   "metadata": {
    "tags": [
     "answer:q2-a"
    ]
   },
   "outputs": [],
   "source": [
    "import itertools\n",
    "\n",
    "pets = (\"cat\", \"dog\", \"fish\", \"lizard\", \"hamster\")\n",
    "\n",
    "### BEGIN SOLUTION\n",
    "\n",
    "\n",
    "### END SOLUTION"
   ]
  },
  {
   "cell_type": "markdown",
   "metadata": {},
   "source": [
    "b. Create a variable `direct_number_of_permutations` that gives the number of permutations of `animals` by direct computation.\n",
    "\n",
    "_Available marks: 1_"
   ]
  },
  {
   "cell_type": "code",
   "execution_count": 15,
   "metadata": {
    "tags": [
     "answer:q2-b"
    ]
   },
   "outputs": [],
   "source": [
    "import scipy.special\n",
    "\n",
    "### BEGIN SOLUTION\n",
    "\n",
    "\n",
    "### END SOLUTION"
   ]
  },
  {
   "cell_type": "markdown",
   "metadata": {},
   "source": [
    "### Question 3\n",
    "\n",
    "(__Hint__: This question uses concepts from the [Algebra](https://vknight.org/pfm/tools-for-mathematics/02-algebra/how/main.html) and [Calculus](https://vknight.org/pfm/tools-for-mathematics/03-calculus/how/main.html) chapters of Python for mathematics.)\n",
    "\n",
    "Consider the second derivative $f''(x)=4 x + \\cos(x)$.\n",
    "\n",
    "a. Create a variable `derivative` which has value $f'(x)$ (use the variables `x` and `c1` if necessary):\n",
    "\n",
    "_Available marks: 3_"
   ]
  },
  {
   "cell_type": "code",
   "execution_count": 17,
   "metadata": {
    "tags": [
     "answer:q3-a"
    ]
   },
   "outputs": [],
   "source": [
    "import sympy as sym\n",
    "\n",
    "\n",
    "x = sym.Symbol(\"x\")\n",
    "c1 = sym.Symbol(\"c1\")\n",
    "### BEGIN SOLUTION\n",
    "\n",
    "\n",
    "### END SOLUTION"
   ]
  },
  {
   "cell_type": "markdown",
   "metadata": {},
   "source": [
    "b. Create a variable `equation` that has value the equation $f'(0)=0$.\n",
    "\n",
    "_Available marks: 4_"
   ]
  },
  {
   "cell_type": "code",
   "execution_count": 20,
   "metadata": {
    "tags": [
     "answer:q3-b"
    ]
   },
   "outputs": [],
   "source": [
    "### BEGIN SOLUTION\n",
    "\n",
    "\n",
    "### END SOLUTION"
   ]
  },
  {
   "cell_type": "markdown",
   "metadata": {},
   "source": [
    "c. Using the solution to that equation, output the value of $\\int_{0}^{5\\pi}f(x)dx$.\n",
    "\n",
    "_Available marks: 4_"
   ]
  },
  {
   "cell_type": "code",
   "execution_count": 23,
   "metadata": {
    "tags": [
     "answer:q3-c"
    ]
   },
   "outputs": [],
   "source": [
    "### BEGIN SOLUTION\n",
    "\n",
    "\n",
    "### END SOLUTION"
   ]
  },
  {
   "cell_type": "markdown",
   "metadata": {},
   "source": [
    "### Question 4\n",
    "\n",
    "(__Hint__: This question uses concepts from the [Calculus](https://vknight.org/pfm/tools-for-mathematics/03-calculus/how/main.html) and [Sequences](https://vknight.org/pfm/tools-for-mathematics/07-sequences/how/main.html) chapters of Python for mathematics.)\n",
    "\n",
    "Consider this recursive definition for the sequence $a_n$:\n",
    "\n",
    "$$\n",
    "a_n = \\begin{cases}\n",
    "        c & \\text{ if n = 1}\\\\\n",
    "        3a_{n - 1} + \\frac{c}{n}\n",
    "      \\end{cases}\n",
    "$$\n",
    "\n",
    "\n",
    "a. Output the sum of the 15 terms.\n",
    "\n",
    "_Available marks: 5_"
   ]
  },
  {
   "cell_type": "code",
   "execution_count": 26,
   "metadata": {
    "tags": [
     "answer:q4-a"
    ]
   },
   "outputs": [
    {
     "data": {
      "text/latex": [
       "$\\displaystyle \\frac{2748995546 c}{315}$"
      ],
      "text/plain": [
       "2748995546*c/315"
      ]
     },
     "execution_count": 26,
     "metadata": {},
     "output_type": "execute_result"
    }
   ],
   "source": [
    "c = sym.Symbol(\"c\")\n",
    "### BEGIN SOLUTION\n",
    "\n",
    "\n",
    "### END SOLUTION"
   ]
  },
  {
   "cell_type": "markdown",
   "metadata": {},
   "source": [
    "b. Given that $c=2$ output $\\frac{df}{dx}$ where:\n",
    "\n",
    "$$\n",
    "f(x) = a_1 + a_2 x + a_3 x ^ 2 + a_4 x ^ 3\n",
    "$$\n",
    "\n",
    "_Available marks: 4_"
   ]
  },
  {
   "cell_type": "code",
   "execution_count": 29,
   "metadata": {
    "tags": [
     "answer:q4-b"
    ]
   },
   "outputs": [],
   "source": [
    "### BEGIN SOLUTION\n",
    "\n",
    "\n",
    "### END SOLUTION"
   ]
  },
  {
   "cell_type": "markdown",
   "metadata": {},
   "source": [
    "c. Given that $c=2$ output $\\int f(x)dx$\n",
    "\n",
    "_Available marks: 4_"
   ]
  },
  {
   "cell_type": "code",
   "execution_count": 32,
   "metadata": {
    "tags": [
     "answer:q4-c"
    ]
   },
   "outputs": [],
   "source": [
    "### BEGIN SOLUTION\n",
    "\n",
    "\n",
    "### END SOLUTION"
   ]
  }
 ],
 "metadata": {
  "celltoolbar": "Tags",
  "kernelspec": {
   "display_name": "Python 3",
   "language": "python",
   "name": "python3"
  },
  "language_info": {
   "codemirror_mode": {
    "name": "ipython",
    "version": 3
   },
   "file_extension": ".py",
   "mimetype": "text/x-python",
   "name": "python",
   "nbconvert_exporter": "python",
   "pygments_lexer": "ipython3",
   "version": "3.8.3"
  }
 },
 "nbformat": 4,
 "nbformat_minor": 4
}
