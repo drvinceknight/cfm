{
 "cells": [
  {
   "cell_type": "markdown",
   "metadata": {},
   "source": [
    "### Computing for Mathematics - 2020/2021 individual coursework\n",
    "\n",
    "**Important** Do not delete the cells containing: \n",
    "\n",
    "```\n",
    "### BEGIN SOLUTION\n",
    "\n",
    "### END SOLUTION\n",
    "```\n",
    "\n",
    "write your solution attempts in those cells.\n",
    "\n",
    "To submit this notebook:\n",
    "\n",
    "- Change the name of the notebook from `main` to: `<student_number>`. For example, if your student number is `c1234567` then change the name of the notebook to `c1234567`.\n",
    "- **Write all your solution attempts in the correct locations**;\n",
    "- **Do not delete** any code that is already in the cells;\n",
    "- Save the notebook (`File>Save As`);\n",
    "- Follow the instructions given in class/email to submit."
   ]
  },
  {
   "cell_type": "markdown",
   "metadata": {},
   "source": [
    "#### Question 1\n",
    "\n",
    "(__Hint__: This question is similar to the [first exercise of the Probability chapter of Python for mathematics](https://vknight.org/pfm/tools-for-mathematics/06-probability/exercises/main.html#exercises).)\n",
    "\n",
    "For each of the following, write a function `sample_experiment`, and repeatedly use it to simulate the probability of an event occurring with the following chances.\n",
    "\n",
    "For each chance **output** the simulated probability.\n",
    "\n",
    "a. $0$ \n",
    "\n",
    "_Available marks: 2_"
   ]
  },
  {
   "cell_type": "code",
   "execution_count": 1,
   "metadata": {
    "tags": [
     "answer:q1-a"
    ]
   },
   "outputs": [
    {
     "data": {
      "text/plain": [
       "0.0"
      ]
     },
     "execution_count": 1,
     "metadata": {},
     "output_type": "execute_result"
    }
   ],
   "source": [
    "import random\n",
    "\n",
    "def sample_experiment():\n",
    "    ### BEGIN SOLUTION\n",
    "    \"\"\"\n",
    "    Returns true if a random number is less than 0\n",
    "    \"\"\"\n",
    "    return random.random() < 0\n",
    "\n",
    "\n",
    "number_of_experiments = 1000\n",
    "sum(\n",
    "    sample_experiment() for repetition in range(number_of_experiments)\n",
    ") / number_of_experiments\n",
    "### END SOLUTION"
   ]
  },
  {
   "cell_type": "code",
   "execution_count": 2,
   "metadata": {
    "tags": [
     "score:1",
     "description:correct-answer"
    ]
   },
   "outputs": [],
   "source": [
    "q1_a_answer = _\n",
    "q1_a_expected_answer = 0\n",
    "feedback_text = \"\"\"Your output is not the expected answer\n",
    "\"\"\"\n",
    "assert q1_a_answer == q1_a_expected_answer, feedback_text"
   ]
  },
  {
   "cell_type": "code",
   "execution_count": 3,
   "metadata": {
    "tags": [
     "score:1",
     "description:use-of-docstrings"
    ]
   },
   "outputs": [],
   "source": [
    "feedback_text = \"\"\"You did not include a docstring. This is important to help document your code.\n",
    "\n",
    "\n",
    "It is done  using triple quotation marks. For example:\n",
    "\n",
    "def get_remainder(m, n):\n",
    "    \\\"\\\"\\\"\n",
    "    This function returns the remainder of m when dividing by n\n",
    "    \\\"\\\"\\\"\n",
    "    …\n",
    "\n",
    "Using that it's possible to access the docstring,\n",
    "one way to do this is to type: `get_remainder?`\n",
    "(which only works in Jupyter) or help(get_remainder).\n",
    "\n",
    "We can also comment code using `#` but this is completely\n",
    "ignored by Python so cannot be accessed in the same way.\n",
    "\n",
    "\"\"\"\n",
    "try:\n",
    "    assert  sample_experiment.__doc__ is not None, feedback_text\n",
    "except NameError:\n",
    "    assert False, \"You did not create a function called `sample_experiment`\""
   ]
  },
  {
   "cell_type": "markdown",
   "metadata": {},
   "source": [
    "b. $1/2$\n",
    "\n",
    "_Available marks: 2_"
   ]
  },
  {
   "cell_type": "code",
   "execution_count": 4,
   "metadata": {
    "tags": [
     "answer:q1-b"
    ]
   },
   "outputs": [
    {
     "data": {
      "text/plain": [
       "0.532"
      ]
     },
     "execution_count": 4,
     "metadata": {},
     "output_type": "execute_result"
    }
   ],
   "source": [
    "def sample_experiment():\n",
    "    ### BEGIN SOLUTION\n",
    "    \"\"\"\n",
    "    Returns true if a random number is less than 1 / 2\n",
    "    \"\"\"\n",
    "    return random.random() < 1 / 2\n",
    "\n",
    "\n",
    "number_of_experiments = 1000\n",
    "sum(\n",
    "    sample_experiment() for repetition in range(number_of_experiments)\n",
    ") / number_of_experiments\n",
    "### END SOLUTION"
   ]
  },
  {
   "cell_type": "code",
   "execution_count": 5,
   "metadata": {
    "tags": [
     "score:1",
     "description:correct-answer"
    ]
   },
   "outputs": [],
   "source": [
    "import numpy as np\n",
    "\n",
    "q1_b_answer = _\n",
    "q1_b_expected_answer = 1 / 2\n",
    "feedback_text = \"\"\"Your output is not within an acceptable range of the expected answer\n",
    "\"\"\"\n",
    "assert q1_b_expected_answer * .75 <= q1_b_answer <= q1_b_expected_answer * 1.25, feedback_text"
   ]
  },
  {
   "cell_type": "code",
   "execution_count": 6,
   "metadata": {
    "tags": [
     "score:1",
     "description:use-of-docstrings"
    ]
   },
   "outputs": [],
   "source": [
    "feedback_text = \"\"\"You did not include a docstring. This is important to help document your code.\n",
    "\n",
    "\n",
    "It is done  using triple quotation marks. For example:\n",
    "\n",
    "def get_remainder(m, n):\n",
    "    \\\"\\\"\\\"\n",
    "    This function returns the remainder of m when dividing by n\n",
    "    \\\"\\\"\\\"\n",
    "    …\n",
    "\n",
    "Using that it's possible to access the docstring,\n",
    "one way to do this is to type: `get_remainder?`\n",
    "(which only works in Jupyter) or help(get_remainder).\n",
    "\n",
    "We can also comment code using `#` but this is completely\n",
    "ignored by Python so cannot be accessed in the same way.\n",
    "\n",
    "\"\"\"\n",
    "try:\n",
    "    assert  sample_experiment.__doc__ is not None, feedback_text\n",
    "except NameError:\n",
    "    assert False, \"You did not create a function called `sample_experiment`\""
   ]
  },
  {
   "cell_type": "markdown",
   "metadata": {},
   "source": [
    "c. $3/4$\n",
    "\n",
    "_Available marks: 2_"
   ]
  },
  {
   "cell_type": "code",
   "execution_count": 7,
   "metadata": {
    "tags": [
     "answer:q1-c"
    ]
   },
   "outputs": [
    {
     "data": {
      "text/plain": [
       "0.722"
      ]
     },
     "execution_count": 7,
     "metadata": {},
     "output_type": "execute_result"
    }
   ],
   "source": [
    "def sample_experiment():\n",
    "    ### BEGIN SOLUTION\n",
    "    \"\"\"\n",
    "    Returns true if a random number is less than 3 / 4\n",
    "    \"\"\"\n",
    "    return random.random() < 3 / 4\n",
    "\n",
    "\n",
    "number_of_experiments = 1000\n",
    "sum(\n",
    "    sample_experiment() for repetition in range(number_of_experiments)\n",
    ") / number_of_experiments\n",
    "### END SOLUTION"
   ]
  },
  {
   "cell_type": "code",
   "execution_count": 8,
   "metadata": {
    "tags": [
     "score:1",
     "description:correct-answer"
    ]
   },
   "outputs": [],
   "source": [
    "q1_c_answer = _\n",
    "q1_c_expected_answer = 3 / 4\n",
    "feedback_text = \"\"\"Your output is not within an acceptable range of the expected answer\n",
    "\"\"\"\n",
    "assert q1_c_expected_answer * .75 <= q1_c_answer <= q1_c_expected_answer * 1.25, feedback_text"
   ]
  },
  {
   "cell_type": "code",
   "execution_count": 9,
   "metadata": {
    "tags": [
     "score:1",
     "description:use-of-docstrings"
    ]
   },
   "outputs": [],
   "source": [
    "feedback_text = \"\"\"You did not include a docstring. This is important to help document your code.\n",
    "\n",
    "\n",
    "It is done  using triple quotation marks. For example:\n",
    "\n",
    "def get_remainder(m, n):\n",
    "    \\\"\\\"\\\"\n",
    "    This function returns the remainder of m when dividing by n\n",
    "    \\\"\\\"\\\"\n",
    "    …\n",
    "\n",
    "Using that it's possible to access the docstring,\n",
    "one way to do this is to type: `get_remainder?`\n",
    "(which only works in Jupyter) or help(get_remainder).\n",
    "\n",
    "We can also comment code using `#` but this is completely\n",
    "ignored by Python so cannot be accessed in the same way.\n",
    "\n",
    "\"\"\"\n",
    "try:\n",
    "    assert  sample_experiment.__doc__ is not None, feedback_text\n",
    "except NameError:\n",
    "    assert False, \"You did not create a function called `sample_experiment`\""
   ]
  },
  {
   "cell_type": "markdown",
   "metadata": {},
   "source": [
    "d. $1$\n",
    "\n",
    "_Available marks: 2_"
   ]
  },
  {
   "cell_type": "code",
   "execution_count": 10,
   "metadata": {
    "tags": [
     "answer:q1-d"
    ]
   },
   "outputs": [
    {
     "data": {
      "text/plain": [
       "1.0"
      ]
     },
     "execution_count": 10,
     "metadata": {},
     "output_type": "execute_result"
    }
   ],
   "source": [
    "def sample_experiment():\n",
    "    ### BEGIN SOLUTION\n",
    "    \"\"\"\n",
    "    Returns true if a random number is less than 1\n",
    "    \"\"\"\n",
    "    return random.random() < 1\n",
    "\n",
    "number_of_experiments = 1000\n",
    "sum(\n",
    "    sample_experiment() for repetition in range(number_of_experiments)\n",
    ") / number_of_experiments\n",
    "### END SOLUTION"
   ]
  },
  {
   "cell_type": "code",
   "execution_count": 11,
   "metadata": {
    "tags": [
     "score:1",
     "description:correct-answer"
    ]
   },
   "outputs": [],
   "source": [
    "q1_d_answer = _\n",
    "q1_d_expected_answer = 1\n",
    "feedback_text = \"\"\"Your output is not the expected answer\n",
    "\"\"\"\n",
    "assert q1_d_answer == q1_d_expected_answer, feedback_text"
   ]
  },
  {
   "cell_type": "code",
   "execution_count": 12,
   "metadata": {
    "tags": [
     "score:1",
     "description:use-of-docstrings"
    ]
   },
   "outputs": [],
   "source": [
    "feedback_text = \"\"\"You did not include a docstring. This is important to help document your code.\n",
    "\n",
    "\n",
    "It is done  using triple quotation marks. For example:\n",
    "\n",
    "def get_remainder(m, n):\n",
    "    \\\"\\\"\\\"\n",
    "    This function returns the remainder of m when dividing by n\n",
    "    \\\"\\\"\\\"\n",
    "    …\n",
    "\n",
    "Using that it's possible to access the docstring,\n",
    "one way to do this is to type: `get_remainder?`\n",
    "(which only works in Jupyter) or help(get_remainder).\n",
    "\n",
    "We can also comment code using `#` but this is completely\n",
    "ignored by Python so cannot be accessed in the same way.\n",
    "\n",
    "\"\"\"\n",
    "try:\n",
    "    assert  sample_experiment.__doc__ is not None, feedback_text\n",
    "except NameError:\n",
    "    assert False, \"You did not create a function called `sample_experiment`\""
   ]
  },
  {
   "cell_type": "markdown",
   "metadata": {},
   "source": [
    "### Question 2\n",
    "\n",
    "\n",
    "(__Hint__: This question is similar to the [second exercise of the Combinatorics chapter of Python for mathematics](https://vknight.org/pfm/tools-for-mathematics/05-combinations-permutations/exercises/main.html).)\n",
    "\n",
    "a. Create a variable `number_of_permutations` that gives the number of permutations of `pets = (\"cat\", \"dog\", \"fish\", \"lizard\", \"hamster)` of size 4. Do this by generating and counting them.\n",
    "\n",
    "_Available marks: 2_"
   ]
  },
  {
   "cell_type": "code",
   "execution_count": 13,
   "metadata": {
    "tags": [
     "answer:q2-a"
    ]
   },
   "outputs": [],
   "source": [
    "import itertools\n",
    "\n",
    "pets = (\"cat\", \"dog\", \"fish\", \"lizard\", \"hamster\")\n",
    "\n",
    "### BEGIN SOLUTION\n",
    "permutations = tuple(itertools.permutations(pets, 4))\n",
    "number_of_permutations = len(permutations)\n",
    "### END SOLUTION"
   ]
  },
  {
   "cell_type": "code",
   "execution_count": 14,
   "metadata": {
    "tags": [
     "score:2",
     "description:correct-answer"
    ]
   },
   "outputs": [],
   "source": [
    "expected_number_of_permutations = 120\n",
    "feedback = \"The expected answer is 120\"\n",
    "\n",
    "try:\n",
    "    assert expected_number_of_permutations == number_of_permutations, feedback\n",
    "except NameError:\n",
    "    assert False, \"You did not create a variable called `number_of_permutations`\""
   ]
  },
  {
   "cell_type": "markdown",
   "metadata": {},
   "source": [
    "b. Create a variable `direct_number_of_permutations` that gives the number of permutations of `pets` of size 4 by direct computation.\n",
    "\n",
    "_Available marks: 1_"
   ]
  },
  {
   "cell_type": "code",
   "execution_count": 15,
   "metadata": {
    "tags": [
     "answer:q2-b"
    ]
   },
   "outputs": [],
   "source": [
    "import scipy.special\n",
    "\n",
    "### BEGIN SOLUTION\n",
    "direct_number_of_permutations = scipy.special.perm(5, 4)\n",
    "### END SOLUTION"
   ]
  },
  {
   "cell_type": "code",
   "execution_count": 16,
   "metadata": {
    "tags": [
     "score:1",
     "description:correct-answer"
    ]
   },
   "outputs": [],
   "source": [
    "expected_number_of_permutations = 120\n",
    "feedback = \"The expected answer is 120\"\n",
    "\n",
    "try:\n",
    "    assert expected_number_of_permutations == direct_number_of_permutations, feedback\n",
    "except NameError:\n",
    "    assert False, \"You did not create a variable called `direct_number_of_permutations`\""
   ]
  },
  {
   "cell_type": "markdown",
   "metadata": {},
   "source": [
    "### Question 3\n",
    "\n",
    "(__Hint__: This question uses concepts from the [Algebra](https://vknight.org/pfm/tools-for-mathematics/02-algebra/how/main.html) and [Calculus](https://vknight.org/pfm/tools-for-mathematics/03-calculus/how/main.html) chapters of Python for mathematics.)\n",
    "\n",
    "Consider the second derivative $f''(x)=4 x + \\cos(x)$.\n",
    "\n",
    "a. Create a variable `derivative` which has value $f'(x)$ (use the variables `x` and `c1` if necessary):\n",
    "\n",
    "_Available marks: 3_"
   ]
  },
  {
   "cell_type": "code",
   "execution_count": 17,
   "metadata": {
    "tags": [
     "answer:q3-a"
    ]
   },
   "outputs": [],
   "source": [
    "import sympy as sym\n",
    "\n",
    "\n",
    "x = sym.Symbol(\"x\")\n",
    "c1 = sym.Symbol(\"c1\")\n",
    "### BEGIN SOLUTION\n",
    "second_derivative = 4 * x + sym.cos(x)\n",
    "derivative = sym.integrate(second_derivative, x) + c1\n",
    "### END SOLUTION"
   ]
  },
  {
   "cell_type": "code",
   "execution_count": 18,
   "metadata": {
    "tags": [
     "score:1",
     "description:creating-a-symbolic-expression"
    ]
   },
   "outputs": [],
   "source": [
    "feedback_text = \"\"\"`derivative` is not a symbolic expression.\n",
    "\n",
    "You are expected to use sympy for this question.\n",
    "\"\"\"\n",
    "try:\n",
    "    assert derivative.expand(), feedback_text\n",
    "except NameError:\n",
    "    assert False, \"You did not create a variable called `derivative`\""
   ]
  },
  {
   "cell_type": "code",
   "execution_count": 19,
   "metadata": {
    "tags": [
     "score:2",
     "description:correct-answer"
    ]
   },
   "outputs": [],
   "source": [
    "import sympy as sym\n",
    "x = sym.Symbol(\"x\")\n",
    "c1 = sym.Symbol(\"c1\")\n",
    "\n",
    "expected_answer = c1 + 2 * x ** 2 + sym.sin(x)\n",
    "feedback_text = f\"\"\"Your answer is not correct.\n",
    "\n",
    "The expected answer is {expected_answer}.\"\"\"\n",
    "assert sym.expand(derivative - expected_answer) == 0, feedback_text"
   ]
  },
  {
   "cell_type": "markdown",
   "metadata": {},
   "source": [
    "b. Create a variable `equation` that has value the equation $f'(0)=0$.\n",
    "\n",
    "_Available marks: 4_"
   ]
  },
  {
   "cell_type": "code",
   "execution_count": 20,
   "metadata": {
    "tags": [
     "answer:q3-b"
    ]
   },
   "outputs": [],
   "source": [
    "### BEGIN SOLUTION\n",
    "equation = sym.Eq(derivative.subs({x:0}), 0)\n",
    "### END SOLUTION"
   ]
  },
  {
   "cell_type": "code",
   "execution_count": 21,
   "metadata": {
    "tags": [
     "score:2",
     "description:correct-lhs"
    ]
   },
   "outputs": [],
   "source": [
    "expected_lhs = c1\n",
    "feedback = f\"The expected left hand side is {expected_lhs}\"\n",
    "try:\n",
    "    assert sym.expand(equation.lhs - expected_lhs) == 0, feedback\n",
    "except AttributeError:\n",
    "    assert False, \"You did not create a symbolic equation\""
   ]
  },
  {
   "cell_type": "code",
   "execution_count": 22,
   "metadata": {
    "tags": [
     "score:2",
     "description:correct-rhs"
    ]
   },
   "outputs": [],
   "source": [
    "expected_rhs = 0\n",
    "feedback = f\"The expected right hand side is {expected_rhs}. Note that the exact value of pi can be used from the sympy library.\"\n",
    "try:\n",
    "    assert sym.expand(equation.rhs - expected_rhs) == 0, feedback\n",
    "except AttributeError:\n",
    "    assert \"You did not create a symbolic equation\", False"
   ]
  },
  {
   "cell_type": "markdown",
   "metadata": {},
   "source": [
    "c. Using the solution to that equation, output the value of $\\int_{0}^{5\\pi}f(x)dx$.\n",
    "\n",
    "_Available marks: 4_"
   ]
  },
  {
   "cell_type": "code",
   "execution_count": 23,
   "metadata": {
    "tags": [
     "answer:q3-c"
    ]
   },
   "outputs": [
    {
     "data": {
      "text/latex": [
       "$\\displaystyle 5 \\pi c_{1} + \\frac{625 \\pi^{4}}{6}$"
      ],
      "text/plain": [
       "5*pi*c1 + 625*pi**4/6"
      ]
     },
     "execution_count": 23,
     "metadata": {},
     "output_type": "execute_result"
    }
   ],
   "source": [
    "### BEGIN SOLUTION\n",
    "particular_derivative = derivative.subs({c1: 0})\n",
    "function = sym.integrate(particular_derivative) + c1\n",
    "sym.integrate(function, (x, 0, 5 * sym.pi))\n",
    "### END SOLUTION"
   ]
  },
  {
   "cell_type": "code",
   "execution_count": 24,
   "metadata": {
    "tags": [
     "score:1",
     "description:creating-a-symbolic-expression"
    ]
   },
   "outputs": [],
   "source": [
    "q3_c_answer = _\n",
    "feedback_text = \"\"\"your output is not a symbolic expression.\n",
    "\n",
    "You are expected to use sympy for this question.\n",
    "\"\"\"\n",
    "assert q3_c_answer.expand(), feedback_text"
   ]
  },
  {
   "cell_type": "code",
   "execution_count": 25,
   "metadata": {
    "tags": [
     "score:3",
     "description:correct-answer"
    ]
   },
   "outputs": [],
   "source": [
    "expected_answer = 625 * sym.pi ** 4 / 6\n",
    "delta = sym.expand((q3_c_answer - expected_answer) / (5 * sym.pi))\n",
    "feedback_text = f\"\"\"The expected answer is: {expected_answer} (up to a constant of integration). \n",
    "This is done by substituting the value of c1=pi+1 and then integrating.)\n",
    "\n",
    "If your we let your answer be Y, so that Y={q3_c_answer}\n",
    "\n",
    "Then\n",
    "\n",
    "(Y - {expected_answer}) / (5 pi) should be a constant but you have:\n",
    "\n",
    "(Y - {expected_answer}) / (5 pi) = {delta}\n",
    "\"\"\"\n",
    "assert (type(delta) is sym.Symbol) or delta == 0, feedback_text"
   ]
  },
  {
   "cell_type": "markdown",
   "metadata": {},
   "source": [
    "### Question 4\n",
    "\n",
    "(__Hint__: This question uses concepts from the [Calculus](https://vknight.org/pfm/tools-for-mathematics/03-calculus/how/main.html) and [Sequences](https://vknight.org/pfm/tools-for-mathematics/07-sequences/how/main.html) chapters of Python for mathematics.)\n",
    "\n",
    "Consider this recursive definition for the sequence $a_n$:\n",
    "\n",
    "$$\n",
    "a_n = \\begin{cases}\n",
    "        c & \\text{ if n = 1}\\\\\n",
    "        3a_{n - 1} + \\frac{c}{n}\n",
    "      \\end{cases}\n",
    "$$\n",
    "\n",
    "\n",
    "a. Output the sum of the 15 terms.\n",
    "\n",
    "_Available marks: 5_"
   ]
  },
  {
   "cell_type": "code",
   "execution_count": 26,
   "metadata": {
    "tags": [
     "answer:q4-a"
    ]
   },
   "outputs": [
    {
     "data": {
      "text/latex": [
       "$\\displaystyle \\frac{2748995546 c}{315}$"
      ],
      "text/plain": [
       "2748995546*c/315"
      ]
     },
     "execution_count": 26,
     "metadata": {},
     "output_type": "execute_result"
    }
   ],
   "source": [
    "c = sym.Symbol(\"c\")\n",
    "### BEGIN SOLUTION\n",
    "def get_sequence_a(n):\n",
    "    \"\"\"\n",
    "    Return the sequence a.\n",
    "    \"\"\"\n",
    "    if n == 1:\n",
    "        return c\n",
    "    return 3 * get_sequence_a(n - 1) + c / n\n",
    "\n",
    "\n",
    "sum(get_sequence_a(n) for n in range(1, 16))\n",
    "### END SOLUTION"
   ]
  },
  {
   "cell_type": "code",
   "execution_count": 27,
   "metadata": {
    "tags": [
     "score:1",
     "description:description:creating-a-symbolic-expression"
    ]
   },
   "outputs": [],
   "source": [
    "q4_a_answer = _\n",
    "feedback_text = \"\"\"your output is not a symbolic expression.\n",
    "\n",
    "You are expected to use sympy for this question.\n",
    "\"\"\"\n",
    "\n",
    "assert q4_a_answer.expand(), feedback_text"
   ]
  },
  {
   "cell_type": "code",
   "execution_count": 28,
   "metadata": {
    "tags": [
     "score:4",
     "description:correct-answer"
    ]
   },
   "outputs": [],
   "source": [
    "expected_answer = 2748995546 * c / 315\n",
    "feedback_text = f\"The expected answer is: {expected_answer}.\"\n",
    "assert sym.expand(q4_a_answer - expected_answer) == 0, feedback_text"
   ]
  },
  {
   "cell_type": "markdown",
   "metadata": {},
   "source": [
    "b. Given that $c=2$ output $\\frac{df}{dx}$ where:\n",
    "\n",
    "$$\n",
    "f(x) = a_1 + a_2 x + a_3 x ^ 2 + a_4 x ^ 3\n",
    "$$\n",
    "\n",
    "_Available marks: 4_"
   ]
  },
  {
   "cell_type": "code",
   "execution_count": 29,
   "metadata": {
    "tags": [
     "answer:q4-b"
    ]
   },
   "outputs": [
    {
     "data": {
      "text/latex": [
       "$\\displaystyle \\frac{393 x^{2}}{2} + \\frac{130 x}{3} + 7$"
      ],
      "text/plain": [
       "393*x**2/2 + 130*x/3 + 7"
      ]
     },
     "execution_count": 29,
     "metadata": {},
     "output_type": "execute_result"
    }
   ],
   "source": [
    "### BEGIN SOLUTION\n",
    "f = (get_sequence_a(n=1) + get_sequence_a(n=2) * x + get_sequence_a(n=3) * x ** 2 + + get_sequence_a(n=4) * x ** 3).subs({c: 2})\n",
    "sym.diff(f, x)\n",
    "### END SOLUTION"
   ]
  },
  {
   "cell_type": "code",
   "execution_count": 30,
   "metadata": {
    "tags": [
     "score:1"
    ]
   },
   "outputs": [],
   "source": [
    "q4_b_answer = _\n",
    "feedback_text = \"\"\"your output is not a symbolic expression.\n",
    "\n",
    "You are expected to use sympy for this question.\n",
    "\"\"\"\n",
    "\n",
    "assert q4_b_answer.expand(), feedback_text"
   ]
  },
  {
   "cell_type": "code",
   "execution_count": 31,
   "metadata": {
    "tags": [
     "score:3"
    ]
   },
   "outputs": [],
   "source": [
    "import sympy as sym\n",
    "expected_answer = sym.S(393) * x ** 2 / 2 + sym.S(130) * x / 3 + sym.S(7)\n",
    "feedback_text = f\"The expected answer is: {expected_answer}.\"\n",
    "assert sym.expand(q4_b_answer - expected_answer) == 0, feedback_text"
   ]
  },
  {
   "cell_type": "markdown",
   "metadata": {},
   "source": [
    "c. Given that $c=2$ output $\\int f(x)dx$\n",
    "\n",
    "_Available marks: 4_"
   ]
  },
  {
   "cell_type": "code",
   "execution_count": 32,
   "metadata": {
    "tags": [
     "answer:q4-c"
    ]
   },
   "outputs": [
    {
     "data": {
      "text/latex": [
       "$\\displaystyle \\frac{131 x^{4}}{8} + \\frac{65 x^{3}}{9} + \\frac{7 x^{2}}{2} + 2 x$"
      ],
      "text/plain": [
       "131*x**4/8 + 65*x**3/9 + 7*x**2/2 + 2*x"
      ]
     },
     "execution_count": 32,
     "metadata": {},
     "output_type": "execute_result"
    }
   ],
   "source": [
    "### BEGIN SOLUTION\n",
    "sym.integrate(f, x)\n",
    "### END SOLUTION"
   ]
  },
  {
   "cell_type": "code",
   "execution_count": 33,
   "metadata": {
    "tags": [
     "score:1",
     "description:creating-a-symbolic-expression"
    ]
   },
   "outputs": [],
   "source": [
    "q4_c_answer = _\n",
    "feedback_text = \"\"\"your output is not a symbolic expression.\n",
    "\n",
    "You are expected to use sympy for this question.\n",
    "\"\"\"\n",
    "\n",
    "assert q4_c_answer.expand(), feedback_text"
   ]
  },
  {
   "cell_type": "code",
   "execution_count": 34,
   "metadata": {
    "tags": [
     "score:3",
     "description:correct-answer"
    ]
   },
   "outputs": [],
   "source": [
    "import sympy as sym\n",
    "expected_derivative = (get_sequence_a(n=1) + get_sequence_a(n=2) * x + get_sequence_a(n=3) * x ** 2 + + get_sequence_a(n=4) * x ** 3).subs({c: 2})\n",
    "feedback_text = f\"The expected answer is: {expected_answer}.\"\n",
    "assert sym.expand(sym.diff(q4_c_answer, x) - expected_derivative) == 0, feedback_text"
   ]
  }
 ],
 "metadata": {
  "celltoolbar": "Tags",
  "kernelspec": {
   "display_name": "Python 3",
   "language": "python",
   "name": "python3"
  },
  "language_info": {
   "codemirror_mode": {
    "name": "ipython",
    "version": 3
   },
   "file_extension": ".py",
   "mimetype": "text/x-python",
   "name": "python",
   "nbconvert_exporter": "python",
   "pygments_lexer": "ipython3",
   "version": "3.8.3"
  }
 },
 "nbformat": 4,
 "nbformat_minor": 4
}
