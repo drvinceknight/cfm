{
 "cells": [
  {
   "cell_type": "markdown",
   "metadata": {},
   "source": [
    "### Computing for Mathematics - Mock individual coursework\n",
    "\n",
    "This jupyter notebook contains questions that will resemble the questions in your individual coursework.\n",
    "\n",
    "**Important** Do not delete the cells containing: \n",
    "\n",
    "```\n",
    "### BEGIN SOLUTION\n",
    "\n",
    "### END SOLUTION\n",
    "```\n",
    "\n",
    "write your solution attempts in those cells.\n",
    "\n",
    "**If you would like to** submit this notebook:\n",
    "\n",
    "- Change the name of the notebook from `main` to: `<student_number>`. For example, if your student number is `c1234567` then change the name of the notebook to `c1234567`.\n",
    "- Write all your solution attempts in the correct locations;\n",
    "- Save the notebook (`File>Save As`);\n",
    "- Follow the instructions given in class/email to submit."
   ]
  },
  {
   "cell_type": "markdown",
   "metadata": {},
   "source": [
    "#### Question 1\n",
    "\n",
    "Output the evaluation of the following expressions exactly.\n",
    "\n",
    "a. \\\\(\\frac{(9a^2bc^4) ^ {\\frac{1}{2}}}{6ab^{\\frac{3}{2}}c}\\\\)"
   ]
  },
  {
   "cell_type": "code",
   "execution_count": 1,
   "metadata": {
    "tags": [
     "answer:q1-a"
    ]
   },
   "outputs": [
    {
     "data": {
      "text/latex": [
       "$\\displaystyle \\frac{\\sqrt{a^{2} b c^{4}}}{2 a b^{\\frac{3}{2}} c}$"
      ],
      "text/plain": [
       "sqrt(a**2*b*c**4)/(2*a*b**(3/2)*c)"
      ]
     },
     "execution_count": 1,
     "metadata": {},
     "output_type": "execute_result"
    }
   ],
   "source": [
    "### BEGIN SOLUTION\n",
    "import sympy as sym\n",
    "a, b, c = sym.Symbol(\"a\"), sym.Symbol(\"b\"), sym.Symbol(\"c\")\n",
    "\n",
    "sym.expand((9 * a ** 2 * b * c ** 4) ** (sym.S(1) / 2) / (6 * a * b ** (sym.S(3) / 2) * c))\n",
    "### END SOLUTION"
   ]
  },
  {
   "cell_type": "code",
   "execution_count": 2,
   "metadata": {
    "tags": [
     "score:1"
    ]
   },
   "outputs": [],
   "source": [
    "q1_a_answer = _\n",
    "feedback_text = \"\"\"Your output is not a symbolic expression.\n",
    "\n",
    "You are expected to use sympy for this question.\n",
    "\"\"\"\n",
    "try:\n",
    "    assert q1_a_answer.expand(), feedback_text\n",
    "except AttributeError:\n",
    "    print(feedback_text)"
   ]
  },
  {
   "cell_type": "code",
   "execution_count": 3,
   "metadata": {
    "tags": [
     "score:2"
    ]
   },
   "outputs": [],
   "source": [
    "a, b, c = sym.Symbol(\"a\"), sym.Symbol(\"b\"), sym.Symbol(\"c\")\n",
    "\n",
    "expected_answer = (9 * a ** 2 * b * c ** 4) ** (sym.S(1) / 2) / (6 * a * b ** (sym.S(3) / 2) * c)\n",
    "feedback_text = f\"\"\"Your answer is not correct.\n",
    "\n",
    "The expected answer is {expected_answer}.\"\"\"\n",
    "assert sym.simplify(q1_a_answer - expected_answer) == 0, feedback_text"
   ]
  },
  {
   "cell_type": "markdown",
   "metadata": {},
   "source": [
    "b. \\\\((2 ^ {\\frac{1}{2}} + 2) ^ 2 - 2 ^ {\\frac{5}{2}}\\\\)"
   ]
  },
  {
   "cell_type": "code",
   "execution_count": 4,
   "metadata": {
    "tags": [
     "answer:q1-b"
    ]
   },
   "outputs": [
    {
     "data": {
      "text/latex": [
       "$\\displaystyle 6$"
      ],
      "text/plain": [
       "6"
      ]
     },
     "execution_count": 4,
     "metadata": {},
     "output_type": "execute_result"
    }
   ],
   "source": [
    "### BEGIN SOLUTION\n",
    "sym.expand((sym.S(2) ** (sym.S(1) / 2) + 2) ** 2 - 2 ** (sym.S(5) / 2))\n",
    "### END SOLUTION"
   ]
  },
  {
   "cell_type": "code",
   "execution_count": 5,
   "metadata": {
    "tags": [
     "score:1"
    ]
   },
   "outputs": [],
   "source": [
    "q1_b_answer = _\n",
    "feedback_text = \"\"\"Your output is not a symbolic expression.\n",
    "\n",
    "You are expected to use sympy for this question.\n",
    "\"\"\"\n",
    "try:\n",
    "    assert q1_b_answer.expand(), feedback_text\n",
    "except AttributeError:\n",
    "    print(feedback_text)"
   ]
  },
  {
   "cell_type": "code",
   "execution_count": 6,
   "metadata": {
    "tags": [
     "score:2"
    ]
   },
   "outputs": [],
   "source": [
    "x = sym.Symbol(\"x\")\n",
    "expected_answer = 6\n",
    "feedback_text = f\"\"\"Your answer is not correct.\n",
    "\n",
    "The expected answer is {expected_answer}.\"\"\"\n",
    "assert q1_b_answer == expected_answer, feedback_text"
   ]
  },
  {
   "cell_type": "markdown",
   "metadata": {},
   "source": [
    "3. \\\\((\\frac{1}{8}) ^ {\\frac{4}{3}}\\\\)"
   ]
  },
  {
   "cell_type": "code",
   "execution_count": 7,
   "metadata": {
    "tags": [
     "answer:q1-c"
    ]
   },
   "outputs": [
    {
     "data": {
      "text/latex": [
       "$\\displaystyle \\frac{1}{16}$"
      ],
      "text/plain": [
       "1/16"
      ]
     },
     "execution_count": 7,
     "metadata": {},
     "output_type": "execute_result"
    }
   ],
   "source": [
    "### BEGIN SOLUTION\n",
    "(sym.S(1) / 8) ** (sym.S(4) / 3)\n",
    "### END SOLUTION"
   ]
  },
  {
   "cell_type": "code",
   "execution_count": 8,
   "metadata": {
    "tags": [
     "score:1"
    ]
   },
   "outputs": [],
   "source": [
    "q1_c_answer = _\n",
    "feedback_text = \"\"\"Your output is not a symbolic expression.\n",
    "\n",
    "You are expected to use sympy for this question.\n",
    "\"\"\"\n",
    "try:\n",
    "    assert q1_c_answer.expand(), feedback_text\n",
    "except AttributeError:\n",
    "    print(feedback_text)"
   ]
  },
  {
   "cell_type": "code",
   "execution_count": 9,
   "metadata": {
    "tags": [
     "score:2"
    ]
   },
   "outputs": [],
   "source": [
    "x = sym.Symbol(\"x\")\n",
    "expected_answer = sym.S(1) / 16\n",
    "feedback_text = f\"\"\"Your answer is not correct.\n",
    "\n",
    "The expected answer is {expected_answer}.\"\"\"\n",
    "assert q1_c_answer == expected_answer, feedback_text"
   ]
  },
  {
   "cell_type": "markdown",
   "metadata": {},
   "source": [
    "### Question 2\n",
    "\n",
    "Write a function `expand` that takes a given mathematical expression and returns the expanded expression."
   ]
  },
  {
   "cell_type": "code",
   "execution_count": 10,
   "metadata": {
    "tags": [
     "answer:q2"
    ]
   },
   "outputs": [],
   "source": [
    "def expand(expression):\n",
    "    ### BEGIN SOLUTION\n",
    "    \"\"\"\n",
    "    Take a symbolic expression and expands it.\n",
    "    \"\"\"\n",
    "    return sym.expand(expression)\n",
    "    ### END SOLUTION"
   ]
  },
  {
   "cell_type": "code",
   "execution_count": 11,
   "metadata": {
    "tags": [
     "score:1"
    ]
   },
   "outputs": [],
   "source": [
    "feedback_text = \"\"\"You did not include a docstring. This is important to help document your code.\n",
    "\n",
    "\n",
    "It is done  using triple quotation marks. For example:\n",
    "\n",
    "def get_remainder(m, n):\n",
    "    \\\"\\\"\\\"\n",
    "    This function returns the remainder of m when dividing by n\n",
    "    \\\"\\\"\\\"\n",
    "    …\n",
    "\n",
    "Using that it's possible to access the docstring,\n",
    "one way to do this is to type: `get_remainder?`\n",
    "(which only works in Jupyter) or help(get_remainder).\n",
    "\n",
    "We can also comment code using `#` but this is completely\n",
    "ignored by Python so cannot be accessed in the same way.\n",
    "\n",
    "\"\"\"\n",
    "try:\n",
    "    assert  expand.__doc__ is not None, feedback_text\n",
    "except NameError:\n",
    "    print(\"You did not create a function called `expand`\")"
   ]
  },
  {
   "cell_type": "code",
   "execution_count": 12,
   "metadata": {
    "tags": [
     "score:3"
    ]
   },
   "outputs": [],
   "source": [
    "expression = x * (x  + 1)\n",
    "assert expand(expression) == x ** 2 + x, f\"Your function failed for {expression}\"\n",
    "expression = x * (x  + 1) - x ** 2\n",
    "assert expand(expression) == x, f\"Your function failed for {expression}\"\n",
    "expression = x ** 2 + 1\n",
    "assert expand(expression) == x ** 2 + 1, f\"Your function failed for {expression}\""
   ]
  },
  {
   "cell_type": "markdown",
   "metadata": {},
   "source": [
    "### Question 3\n",
    "\n",
    "The matrix \\\\(D\\\\) is given by \\\\(D = \\begin{pmatrix} 1& 2 & a\\\\ 3 & 1 & 0\\\\ 1 & 1 & 1\\end{pmatrix}\\\\) where \\\\(a\\ne 2\\\\).\n",
    "\n",
    "a. Create a variable `D` which has value the matrix \\\\(D\\\\)."
   ]
  },
  {
   "cell_type": "code",
   "execution_count": 13,
   "metadata": {
    "tags": [
     "answer:q3-a"
    ]
   },
   "outputs": [],
   "source": [
    "### BEGIN SOLUTION\n",
    "a = sym.Symbol(\"a\")\n",
    "D = sym.Matrix([[1, 2, a], [3, 1, 0], [1, 1, 1]])\n",
    "### END SOLUTION"
   ]
  },
  {
   "cell_type": "code",
   "execution_count": 14,
   "metadata": {
    "tags": [
     "score:1"
    ]
   },
   "outputs": [],
   "source": [
    "expected_D = sym.Matrix([[1, 2, a], [3, 1, 0], [1, 1, 1]])\n",
    "feedback_text = f\"The expected value of `D` is {expected_answer}.\"\n",
    "try:\n",
    "    assert D == expected_D, feedback_text\n",
    "except NameError:\n",
    "    print(\"You did not create a variable `D`\")"
   ]
  },
  {
   "cell_type": "markdown",
   "metadata": {},
   "source": [
    "b. Create a variable `D_inv` with value the inverse of \\\\(D\\\\)."
   ]
  },
  {
   "cell_type": "code",
   "execution_count": 15,
   "metadata": {
    "tags": [
     "answer:q3-b"
    ]
   },
   "outputs": [],
   "source": [
    "### BEGIN SOLUTION\n",
    "D_inv = D.inv()\n",
    "### END SOLUTION"
   ]
  },
  {
   "cell_type": "code",
   "execution_count": 16,
   "metadata": {
    "tags": [
     "score:2"
    ]
   },
   "outputs": [],
   "source": [
    "expected_D_inv = expected_D.inv()\n",
    "feedback_text = f\"The expected value of `D_inv` is {expected_D_inv}.\"\n",
    "try:\n",
    "    assert D_inv == expected_D_inv, feedback_text\n",
    "except NameError:\n",
    "    print(\"You did not create a variable `D_inv`\")"
   ]
  },
  {
   "cell_type": "markdown",
   "metadata": {},
   "source": [
    "c. Using `D_inv` **output** the solution of the following system of equations:\n",
    "\n",
    "\\\\[\n",
    "\\begin{array}{r}\n",
    "    x + 2y + 4z = 3\\\\\n",
    "    3x + y = 4\\\\\n",
    "    x + y + z = 1\\\\\n",
    "\\end{array}\n",
    "\\\\]"
   ]
  },
  {
   "cell_type": "code",
   "execution_count": 17,
   "metadata": {
    "tags": [
     "answer:q3-c"
    ]
   },
   "outputs": [
    {
     "data": {
      "text/latex": [
       "$\\displaystyle \\left[\\begin{matrix}\\frac{7}{3}\\\\-3\\\\\\frac{5}{3}\\end{matrix}\\right]$"
      ],
      "text/plain": [
       "Matrix([\n",
       "[7/3],\n",
       "[ -3],\n",
       "[5/3]])"
      ]
     },
     "execution_count": 17,
     "metadata": {},
     "output_type": "execute_result"
    }
   ],
   "source": [
    "### BEGIN SOLUTION\n",
    "b = sym.Matrix([[3], [4], [1]])\n",
    "sym.simplify(D.inv() @ b).subs({a: 4})\n",
    "### END SOLUTION"
   ]
  },
  {
   "cell_type": "code",
   "execution_count": 18,
   "metadata": {
    "tags": [
     "score:3"
    ]
   },
   "outputs": [],
   "source": [
    "answer_q3_c = _\n",
    "expected_b = sym.Matrix([[3], [4], [1]])\n",
    "expected_answer = sym.simplify(expected_D_inv @ expected_b).subs({a: 4})\n",
    "feedback_text = f\"The expected solution is {expected_answer}.\"\n",
    "assert sym.expand(expected_answer - answer_q3_c) == sym.Matrix([[0], [0], [0]]), feedback_text"
   ]
  },
  {
   "cell_type": "markdown",
   "metadata": {},
   "source": [
    "### Question 4\n",
    "\n",
    "During a game of frisbee between a handler and their dog the handler chooses to randomly select if they throw using a backhand or a forehand: 25% of the time they will throw a backhand.\n",
    "\n",
    "Because of the way their dog chooses to approach a flying frisbee they catch it with the following probabilities:\n",
    "\n",
    "- 80% of the time when it is thrown using a backhand\n",
    "- 90% of the time when it is thrown using a forehand\n",
    "\n",
    "a. Write a function `sample_experiment()` that simulates a given throw and returns the throw type (as a string with value `\"backhand\"` or `\"forehand\"`) and whether it was caught (as a boolean: either `True` or `False`)."
   ]
  },
  {
   "cell_type": "code",
   "execution_count": 19,
   "metadata": {
    "tags": [
     "answer:q4-a"
    ]
   },
   "outputs": [],
   "source": [
    "import random\n",
    "\n",
    "\n",
    "def sample_experiment():\n",
    "    \"\"\"\n",
    "    Returns the throw type and whether it was caught\n",
    "    \"\"\"\n",
    "    ### BEGIN SOLUTION\n",
    "    if random.random() < .25:\n",
    "        throw = \"backhand\"\n",
    "        probability_of_catch = .8\n",
    "    else:\n",
    "        throw = \"forehand\"\n",
    "        probability_of_catch = .9\n",
    "                \n",
    "    caught = random.random() < probability_of_catch\n",
    "    ### END SOLUTION\n",
    "    return throw, caught"
   ]
  },
  {
   "cell_type": "code",
   "execution_count": 20,
   "metadata": {
    "tags": [
     "score:1"
    ]
   },
   "outputs": [],
   "source": [
    "feedback_text = \"\"\"You did not include a docstring. This is important to help document your code.\n",
    "\n",
    "\n",
    "It is done  using triple quotation marks. For example:\n",
    "\n",
    "def get_remainder(m, n):\n",
    "    \\\"\\\"\\\"\n",
    "    This function returns the remainder of m when dividing by n\n",
    "    \\\"\\\"\\\"\n",
    "    …\n",
    "\n",
    "Using that it's possible to access the docstring,\n",
    "one way to do this is to type: `get_remainder?`\n",
    "(which only works in Jupyter) or help(get_remainder).\n",
    "\n",
    "We can also comment code using `#` but this is completely\n",
    "ignored by Python so cannot be accessed in the same way.\n",
    "\n",
    "\"\"\"\n",
    "try:\n",
    "    assert  sample_experiment.__doc__ is not None, feedback_text\n",
    "except NameError:\n",
    "    print(\"You did not create a variable called `sample_experiment`\")"
   ]
  },
  {
   "cell_type": "code",
   "execution_count": 21,
   "metadata": {
    "tags": [
     "score:3"
    ]
   },
   "outputs": [],
   "source": [
    "try:\n",
    "    random.seed(0)\n",
    "    throw, caught = sample_experiment()\n",
    "    assert throw in [\"forehand\", \"backhand\"], \"Your function did not give a throw with seed=0\"\n",
    "    assert caught in [True, False], \"Your function did not give a valid coin with seed=0\"\n",
    "\n",
    "    random.seed(1)\n",
    "    throw, caught = sample_experiment()\n",
    "    assert throw in [\"forehand\", \"backhand\"], \"Your function did not give a valid throw with seed=0\"\n",
    "    assert caught in [True, False], \"Your function did not give a valid coin with seed=0\"\n",
    "except NameError:\n",
    "    print(\"You did not create a function called `sample_experiment` or there is an error in your function.\")"
   ]
  },
  {
   "cell_type": "code",
   "execution_count": 22,
   "metadata": {
    "tags": [
     "score:3"
    ]
   },
   "outputs": [],
   "source": [
    "repetitions = 10_000\n",
    "random.seed(0)\n",
    "feedback_text = f\"\"\"Your function did not give a selection of forehand throws within acceptable error bounds.\n",
    "\n",
    "Out of {repetitions} repetitions you got less than 5500 or more than 9500 forehand throw.\n",
    "\"\"\"\n",
    "throws = [sample_experiment()[0] for _ in range(repetitions)]\n",
    "assert 5_500 <= throws.count(\"forehand\") <= 9_500, feedback_text"
   ]
  },
  {
   "cell_type": "markdown",
   "metadata": {},
   "source": [
    "b. Using 1,000,000 samples create a variable `probability_of_catch` which has value an estimate for the probability of the frisbee being caught."
   ]
  },
  {
   "cell_type": "code",
   "execution_count": 23,
   "metadata": {
    "tags": [
     "answer:q4_b"
    ]
   },
   "outputs": [],
   "source": [
    "### BEGIN SOLUTION\n",
    "number_of_repetitions = 1_000_000\n",
    "random.seed(0)\n",
    "samples = [sample_experiment() for repetition in range(number_of_repetitions)]\n",
    "probability_of_catch = sum(catch is True for throw, catch in samples) / number_of_repetitions\n",
    "### END SOLUTION"
   ]
  },
  {
   "cell_type": "code",
   "execution_count": 24,
   "metadata": {
    "tags": [
     "score:1"
    ]
   },
   "outputs": [],
   "source": [
    "assert type(probability_of_catch) is float, \"You did not return a float\""
   ]
  },
  {
   "cell_type": "code",
   "execution_count": 25,
   "metadata": {
    "tags": [
     "score:4"
    ]
   },
   "outputs": [],
   "source": [
    "expected_answer = sym.S(1) / (4) * sym.S(8) / 10 + sym.S(3) / (4) * sym.S(9) / 10\n",
    "feedback_text = f\"\"\"The expected value is: {expected_answer}\n",
    "\n",
    "Your value was not within 20% of the expected answer.\n",
    "\"\"\"\n",
    "assert expected_answer * .8 <= probability_of_catch <= expected_answer * 1.2, feedback_text"
   ]
  },
  {
   "cell_type": "markdown",
   "metadata": {},
   "source": [
    "c. Using the above, create a variable `probability_of_forehand_given_drop` which has value an estimate for the probability of the frisbee being thrown with a forehand given that it was not caught."
   ]
  },
  {
   "cell_type": "code",
   "execution_count": 26,
   "metadata": {
    "tags": [
     "answer:q4_c"
    ]
   },
   "outputs": [],
   "source": [
    "### BEGIN SOLUTION\n",
    "samples_with_drop = [(throw, catch) for throw, catch in samples if catch is False]\n",
    "number_of_drops = len(samples_with_drop)\n",
    "probability_of_forehand_given_drop = sum(throw == \"forehand\" for throw, catch in samples_with_drop) / number_of_drops\n",
    "### END SOLUTION"
   ]
  },
  {
   "cell_type": "code",
   "execution_count": 27,
   "metadata": {
    "tags": [
     "score:1"
    ]
   },
   "outputs": [],
   "source": [
    "assert type(probability_of_forehand_given_drop) is float, \"You did not return a float\""
   ]
  },
  {
   "cell_type": "code",
   "execution_count": 28,
   "metadata": {
    "tags": [
     "score:5"
    ]
   },
   "outputs": [],
   "source": [
    "expected_answer = (sym.S(1) / (10) * sym.S(75) / 100) / (1 - (sym.S(1) / (4) * sym.S(8) / 10 + sym.S(3) / (4) * sym.S(9) / 10))\n",
    "feedback_text = f\"\"\"The expected value is: {expected_answer}\n",
    "\n",
    "Your value was not within 20% of the expected answer.\n",
    "\"\"\"\n",
    "assert expected_answer * .8 <= probability_of_forehand_given_drop <= expected_answer * 1.2, feedback_text"
   ]
  }
 ],
 "metadata": {
  "celltoolbar": "Tags",
  "kernelspec": {
   "display_name": "Python 3",
   "language": "python",
   "name": "python3"
  },
  "language_info": {
   "codemirror_mode": {
    "name": "ipython",
    "version": 3
   },
   "file_extension": ".py",
   "mimetype": "text/x-python",
   "name": "python",
   "nbconvert_exporter": "python",
   "pygments_lexer": "ipython3",
   "version": "3.8.3"
  }
 },
 "nbformat": 4,
 "nbformat_minor": 4
}
