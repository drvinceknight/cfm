{
 "cells": [
  {
   "cell_type": "code",
   "execution_count": 1,
   "metadata": {},
   "outputs": [],
   "source": [
    "import random\n",
    "\n",
    "def aros(nifer_geifr=2):\n",
    "    \"\"\"Ffwythiant i efelychu chwarae'r gem os ydyn yn aros\"\"\"\n",
    "    drysau = ['Car'] + nifer_geifr * ['Gafr']\n",
    "        \n",
    "    dewis_gwreiddiol = random.choice(drysau)  # gwneud dewis\n",
    "    return dewis_gwreiddiol == 'Car'\n",
    "\n",
    "def newid(nifer_geifr=2):\n",
    "    \"\"\"Ffwythiant i efelychu chwarae'r gem os ydyn yn newid\"\"\"\n",
    "    drysau = ['Car'] + nifer_geifr * ['Gafr']\n",
    "    \n",
    "    dewis_gwreiddiol = random.choice(drysau)  # gwneud dewis\n",
    "    \n",
    "    drysau.remove(dewis_gwreiddiol)  # Newid: cael gwared a'r dewis gwreiddiol\n",
    "    drysau.remove('Gafr')  # Mae'r cyflwynwr yn dangos gafr i ni\n",
    "    \n",
    "    dewis_newydd = random.choice(drysau)   # Rydym yn dewis yr un opsiwn sydd ar ol\n",
    "            \n",
    "    return dewis_newydd == 'Car'"
   ]
  },
  {
   "cell_type": "markdown",
   "metadata": {},
   "source": [
    "Gwirio'r tebygolrwyddau gwreiddiol:"
   ]
  },
  {
   "cell_type": "code",
   "execution_count": 2,
   "metadata": {},
   "outputs": [
    {
     "data": {
      "text/plain": [
       "(0.3346, 0.6636)"
      ]
     },
     "execution_count": 2,
     "metadata": {},
     "output_type": "execute_result"
    }
   ],
   "source": [
    "ailadroddiadau = 10000\n",
    "random.seed(0)\n",
    "tebyg_ennill_aros = sum([aros() for ail in range(ailadroddiadau)]) / ailadroddiadau\n",
    "tebyg_ennill_newid = sum([newid() for ail in range(ailadroddiadau)]) / ailadroddiadau\n",
    "tebyg_ennill_aros, tebyg_ennill_newid"
   ]
  },
  {
   "cell_type": "markdown",
   "metadata": {},
   "source": [
    "Gwirio'r fformiwla mathemategol:"
   ]
  },
  {
   "cell_type": "code",
   "execution_count": 3,
   "metadata": {},
   "outputs": [
    {
     "data": {
      "text/latex": [
       "$\\displaystyle \\frac{n}{n^{2} - 1}$"
      ],
      "text/plain": [
       "n/(n**2 - 1)"
      ]
     },
     "execution_count": 3,
     "metadata": {},
     "output_type": "execute_result"
    }
   ],
   "source": [
    "import sympy as sym\n",
    "n = sym.symbols('n')\n",
    "p_n = (1 - 1 / (n + 1)) * (1 / (n - 1))\n",
    "p_n.simplify()"
   ]
  },
  {
   "cell_type": "code",
   "execution_count": 4,
   "metadata": {},
   "outputs": [
    {
     "data": {
      "text/latex": [
       "$\\displaystyle \\frac{n}{n - 1}$"
      ],
      "text/plain": [
       "n/(n - 1)"
      ]
     },
     "execution_count": 4,
     "metadata": {},
     "output_type": "execute_result"
    }
   ],
   "source": [
    "(p_n / (1 / (n + 1))).simplify() "
   ]
  },
  {
   "cell_type": "markdown",
   "metadata": {},
   "source": [
    "Ffwythiant ar gyfer y cymhareb:"
   ]
  },
  {
   "cell_type": "code",
   "execution_count": 5,
   "metadata": {},
   "outputs": [],
   "source": [
    "def cymhareb(ailadroddiadau=50000, nifer_geifr=2):\n",
    "    \"\"\"Cael cymhareb y tebygolrwyddau o ennill\"\"\"\n",
    "    tebyg_ennill_aros = sum([aros(nifer_geifr=nifer_geifr) \n",
    "                          for ail in range(ailadroddiadau)]) / ailadroddiadau\n",
    "    tebyg_ennill_newid = sum([newid(nifer_geifr=nifer_geifr) \n",
    "                           for ail in range(ailadroddiadau)]) / ailadroddiadau\n",
    "    return tebyg_ennill_newid / tebyg_ennill_aros"
   ]
  },
  {
   "cell_type": "markdown",
   "metadata": {},
   "source": [
    "Tynnwch lun y plot:"
   ]
  },
  {
   "cell_type": "code",
   "execution_count": 6,
   "metadata": {
    "tags": [
     "nbval-ignore-output"
    ]
   },
   "outputs": [],
   "source": [
    "import matplotlib.pyplot as plt\n",
    "random.seed(0)\n",
    "geifr = range(2, 25 + 1)\n",
    "cymarebau = [cymhareb(nifer_geifr=n) for n in geifr]\n",
    "cymhareb_theoretig = [(n / (n - 1)) for n in geifr]\n",
    "\n",
    "plt.figure()\n",
    "plt.scatter(geifr, cymarebau, label=\"efelychiadau\")\n",
    "plt.plot(geifr, cymhareb_theoretig, color=\"C1\", label=\"theoretig\")\n",
    "plt.xlabel(\"Nifer o geifr\")\n",
    "plt.ylabel(\"Cymhareb\")\n",
    "plt.legend()\n",
    "plt.savefig(\"simulated_v_expected_ratio_of_win_probability.pdf\");"
   ]
  },
  {
   "cell_type": "code",
   "execution_count": 7,
   "metadata": {},
   "outputs": [
    {
     "data": {
      "text/latex": [
       "$\\displaystyle 1$"
      ],
      "text/plain": [
       "1"
      ]
     },
     "execution_count": 7,
     "metadata": {},
     "output_type": "execute_result"
    }
   ],
   "source": [
    "sym.limit((p_n / (1 / (n + 1))), n, sym.oo)"
   ]
  }
 ],
 "metadata": {
  "anaconda-cloud": {},
  "celltoolbar": "Tags",
  "kernelspec": {
   "display_name": "CfM",
   "language": "python",
   "name": "cfm"
  },
  "language_info": {
   "codemirror_mode": {
    "name": "ipython",
    "version": 3
   },
   "file_extension": ".py",
   "mimetype": "text/x-python",
   "name": "python",
   "nbconvert_exporter": "python",
   "pygments_lexer": "ipython3",
   "version": "3.6.5"
  }
 },
 "nbformat": 4,
 "nbformat_minor": 2
}
