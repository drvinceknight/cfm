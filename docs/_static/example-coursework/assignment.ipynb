{
 "cells": [
  {
   "cell_type": "markdown",
   "metadata": {},
   "source": [
    "### Computing for Mathematics - Example individual coursework\n",
    "\n",
    "This jupyter notebook contains questions that will resemble the questions in your individual coursework.\n",
    "\n",
    "**Important** Do not delete the cells containing: \n",
    "\n",
    "```\n",
    "### BEGIN SOLUTION\n",
    "\n",
    "\n",
    "### END SOLUTION\n",
    "```\n",
    "\n",
    "write your solution attempts in those cells.\n",
    "\n",
    "Note that this notebook also includes some cells that check your answers."
   ]
  },
  {
   "cell_type": "markdown",
   "metadata": {},
   "source": [
    "#### Question 1\n",
    "\n",
    "For each of the following functions **output** \\\\(\\frac{dy}{dx}\\\\).\n",
    "\n",
    "a. \\\\(y= 2 x (x - 3) (x - 5)\\\\)"
   ]
  },
  {
   "cell_type": "code",
   "execution_count": 2,
   "metadata": {
    "tags": [
     "answer:q1-a"
    ]
   },
   "outputs": [
    {
     "data": {
      "text/latex": [
       "$\\displaystyle - \\sin{\\left(x \\right)}$"
      ],
      "text/plain": [
       "-sin(x)"
      ]
     },
     "execution_count": 2,
     "metadata": {},
     "output_type": "execute_result"
    }
   ],
   "source": [
    "### BEGIN SOLUTION\n",
    "import sympy as sym\n",
    "x = sym.Symbol(\"x\")\n",
    "y = sym.cos(x)\n",
    "sym.diff(y, x)\n",
    "### END SOLUTION"
   ]
  },
  {
   "cell_type": "markdown",
   "metadata": {},
   "source": [
    "b. y =\\\\(\\frac{3x ^ 3 + 6 \\sqrt{x} + 3}{ (3  x ^{(1 / 4)})}\\\\)"
   ]
  },
  {
   "cell_type": "code",
   "execution_count": 3,
   "metadata": {
    "tags": [
     "answer:q1-b"
    ]
   },
   "outputs": [
    {
     "data": {
      "text/latex": [
       "$\\displaystyle \\frac{6 x + \\frac{3}{\\sqrt{x}}}{3 \\sqrt[4]{x}} - \\frac{6 \\sqrt{x} + 3 x^{2} + 3}{12 x^{\\frac{5}{4}}}$"
      ],
      "text/plain": [
       "(6*x + 3/sqrt(x))/(3*x**(1/4)) - (6*sqrt(x) + 3*x**2 + 3)/(12*x**(5/4))"
      ]
     },
     "execution_count": 3,
     "metadata": {},
     "output_type": "execute_result"
    }
   ],
   "source": [
    "### BEGIN SOLUTION\n",
    "y = (3 * x ** 2 + 6 * sym.sqrt(x) + 3) / (3 * x ** (sym.S(1) / 4))\n",
    "sym.diff(y, x)\n",
    "### END SOLUTION"
   ]
  },
  {
   "cell_type": "markdown",
   "metadata": {},
   "source": [
    "c. \\\\(y=2 x (x - 3) (x - 5)\\\\)"
   ]
  },
  {
   "cell_type": "code",
   "execution_count": 4,
   "metadata": {
    "tags": [
     "answer:q1-c"
    ]
   },
   "outputs": [
    {
     "data": {
      "text/latex": [
       "$\\displaystyle 2 x \\left(x - 5\\right) + 2 x \\left(x - 3\\right) + 2 \\left(x - 5\\right) \\left(x - 3\\right)$"
      ],
      "text/plain": [
       "2*x*(x - 5) + 2*x*(x - 3) + 2*(x - 5)*(x - 3)"
      ]
     },
     "execution_count": 4,
     "metadata": {},
     "output_type": "execute_result"
    }
   ],
   "source": [
    "### BEGIN SOLUTION\n",
    "y = 2 * x * (x- 3) * (x - 5)\n",
    "sym.diff(y, x)\n",
    "### END SOLUTION"
   ]
  },
  {
   "cell_type": "markdown",
   "metadata": {},
   "source": [
    "### Question 2\n",
    "\n",
    "Consider the functions \\\\(f(x)=-x^3+2x^2+3x\\\\) and \\\\(g(x)=-x^3+3x^2-x+3\\\\).\n",
    "\n",
    "a. Create a variable `turning_points` which has value the set of turning points of \\\\(f(x)\\\\)."
   ]
  },
  {
   "cell_type": "code",
   "execution_count": 5,
   "metadata": {
    "tags": [
     "answer:q2-a"
    ]
   },
   "outputs": [],
   "source": [
    "### BEGIN SOLUTION\n",
    "f = - x ** 3 + 2 * x ** 2 + 3 * x\n",
    "f_dash = sym.diff(f, x)\n",
    "turning_points = sym.solveset(f_dash, x)\n",
    "### END SOLUTION"
   ]
  },
  {
   "cell_type": "markdown",
   "metadata": {},
   "source": [
    "b. Create a variable `intersection_points` which has value the points where \\\\(f(x)\\\\) and \\\\(g(x)\\\\) intersect."
   ]
  },
  {
   "cell_type": "code",
   "execution_count": 6,
   "metadata": {
    "tags": [
     "answer:q2-b"
    ]
   },
   "outputs": [
    {
     "data": {
      "text/latex": [
       "$\\displaystyle \\left\\{1, 3\\right\\}$"
      ],
      "text/plain": [
       "{1, 3}"
      ]
     },
     "execution_count": 6,
     "metadata": {},
     "output_type": "execute_result"
    }
   ],
   "source": [
    "### BEGIN SOLUTION\n",
    "g = - x ** 3 + 3 * x ** 2 - x + 3\n",
    "intersection_points = sym.solveset(sym.Eq(f, g), x)\n",
    "intersection_points\n",
    "### END SOLUTION"
   ]
  },
  {
   "cell_type": "markdown",
   "metadata": {},
   "source": [
    "c. Using your answers to parts b., calculate the area of the region between \\\\(f\\\\) and \\\\(g\\\\). Assign this value to a variable `area_of_shaded_region`."
   ]
  },
  {
   "cell_type": "code",
   "execution_count": 7,
   "metadata": {
    "tags": [
     "answer:q2-c"
    ]
   },
   "outputs": [
    {
     "data": {
      "text/latex": [
       "$\\displaystyle \\frac{4}{3}$"
      ],
      "text/plain": [
       "4/3"
      ]
     },
     "execution_count": 7,
     "metadata": {},
     "output_type": "execute_result"
    }
   ],
   "source": [
    "### BEGIN SOLUTION\n",
    "area_of_shaded_region = abs(sym.integrate(f, (x, 1, 3)) - sym.integrate(g, (x, 1, 3)))\n",
    "area_of_shaded_region\n",
    "### END SOLUTION"
   ]
  },
  {
   "cell_type": "markdown",
   "metadata": {},
   "source": [
    "### Question 3\n",
    "\n",
    "4 letters are selected at random from the 8 letters of the word `MONGOLIA`, without regard to order.\n",
    "\n",
    "a. Create a variable `number_of_selections` with value the number of possible selections of 4 letters."
   ]
  },
  {
   "cell_type": "code",
   "execution_count": 8,
   "metadata": {
    "tags": [
     "answer:q3-a"
    ]
   },
   "outputs": [],
   "source": [
    "import itertools\n",
    "### BEGIN SOLUTION\n",
    "letters = \"MONGOLIA\"\n",
    "words = list(itertools.combinations(letters, 4))\n",
    "number_of_selections = len(words)\n",
    "### END SOLUTION"
   ]
  },
  {
   "cell_type": "markdown",
   "metadata": {},
   "source": [
    "b. Create a variable `probability_of_selecting_N` with value the probability that the letter `N` is included in the selection."
   ]
  },
  {
   "cell_type": "code",
   "execution_count": 11,
   "metadata": {
    "tags": [
     "answer:q3-b"
    ]
   },
   "outputs": [],
   "source": [
    "### BEGIN SOLUTION\n",
    "probability_of_selecting_N = sum(\"N\" in word for word in words) / len(words)\n",
    "### END SOLUTION"
   ]
  },
  {
   "cell_type": "markdown",
   "metadata": {},
   "source": [
    "c. letters are now selected at random, one at a time, from the 8 letters of the word `MONGOLIA`, and are placed in order in a line. Create a variable `probability_of_selecting_GOAL` with value the probability that the 4 letters can form the word `GOAL`."
   ]
  },
  {
   "cell_type": "code",
   "execution_count": 13,
   "metadata": {
    "tags": [
     "answer:q3-c"
    ]
   },
   "outputs": [],
   "source": [
    "### BEGIN SOLUTION\n",
    "probability_of_selecting_GOAL = sum([\"A\", \"G\", \"L\", \"O\"] == sorted(word) for word in words) / len(words)\n",
    "### END SOLUTION"
   ]
  },
  {
   "cell_type": "markdown",
   "metadata": {},
   "source": [
    "### Question 4\n",
    "\n",
    "A sequence is given by:\n",
    "\n",
    "\\\\[\n",
    "    x_1 = 1\\\\\n",
    "    x_{n + 1}= x_n(p + x_n)\n",
    "\\\\]\n",
    "\n",
    "for \\\\(p\\ne0\\\\).\n",
    "\n",
    "a. Define a python function `generate_x(n, p)` that returns the terms of that sequence."
   ]
  },
  {
   "cell_type": "code",
   "execution_count": 28,
   "metadata": {
    "tags": [
     "answer:q4-a"
    ]
   },
   "outputs": [],
   "source": [
    "def generate_x(n, p):\n",
    "    ### BEGIN SOLUTION\n",
    "    \"\"\"\n",
    "    Gives the nth term of the sequence for a given value of p.\n",
    "    \"\"\"\n",
    "    if n == 1:\n",
    "        return 1\n",
    "    previous_x = generate_x(n - 1, p)\n",
    "    return previous_x * (p + previous_x)\n",
    "\n",
    "### END SOLUTION"
   ]
  },
  {
   "cell_type": "markdown",
   "metadata": {},
   "source": [
    "b. **Output** an expression for \\\\(x_2\\\\) in terms of \\\\(p\\\\)."
   ]
  },
  {
   "cell_type": "code",
   "execution_count": 29,
   "metadata": {},
   "outputs": [
    {
     "data": {
      "text/latex": [
       "$\\displaystyle p + 1$"
      ],
      "text/plain": [
       "p + 1"
      ]
     },
     "execution_count": 29,
     "metadata": {},
     "output_type": "execute_result"
    }
   ],
   "source": [
    "### BEGIN SOLUTION\n",
    "p = sym.Symbol(\"p\")\n",
    "generate_x(n=2, p=p)\n",
    "### END SOLUTION"
   ]
  },
  {
   "cell_type": "markdown",
   "metadata": {},
   "source": [
    "b. **Output** an expression for \\\\(x_3\\\\) in terms of \\\\(p\\\\)"
   ]
  },
  {
   "cell_type": "code",
   "execution_count": 30,
   "metadata": {
    "tags": [
     "answer:q4-b"
    ]
   },
   "outputs": [
    {
     "data": {
      "text/latex": [
       "$\\displaystyle \\left(p + 1\\right) \\left(2 p + 1\\right)$"
      ],
      "text/plain": [
       "(p + 1)*(2*p + 1)"
      ]
     },
     "execution_count": 30,
     "metadata": {},
     "output_type": "execute_result"
    }
   ],
   "source": [
    "### BEGIN SOLUTION\n",
    "generate_x(n=3, p=p)\n",
    "### END SOLUTION"
   ]
  },
  {
   "cell_type": "markdown",
   "metadata": {},
   "source": [
    "c. **Output** the values of \\\\(p\\\\) for which \\\\(x_3=1\\\\)."
   ]
  },
  {
   "cell_type": "code",
   "execution_count": 31,
   "metadata": {
    "tags": [
     "answer:q4-c"
    ]
   },
   "outputs": [
    {
     "data": {
      "text/latex": [
       "$\\displaystyle \\left\\{- \\frac{3}{2}, 0\\right\\}$"
      ],
      "text/plain": [
       "{-3/2, 0}"
      ]
     },
     "execution_count": 31,
     "metadata": {},
     "output_type": "execute_result"
    }
   ],
   "source": [
    "### BEGIN SOLUTION\n",
    "sym.solveset(sym.Eq(generate_x(n=3, p=p), 1), p)\n",
    "### END SOLUTION"
   ]
  },
  {
   "cell_type": "markdown",
   "metadata": {},
   "source": [
    "d. Using the non zero value of \\\\(p\\\\) calculated in the previous question calculate \\\\(x_n\\\\) for \\\\(n\\in\\{1, 2, 3, 4, 5, 6, 7, 8, 9, 100, 200, 300\\}\\\\) and create a variable `range_of_values` with minimum and maximum value or \\\\(x_n\\\\)."
   ]
  },
  {
   "cell_type": "code",
   "execution_count": 32,
   "metadata": {
    "tags": [
     "answer:q4-d"
    ]
   },
   "outputs": [],
   "source": [
    "values_of_n = [1, 2, 3, 4, 5, 6, 7, 8, 9, 100, 200, 300]\n",
    "### BEGIN SOLUTION\n",
    "values = [generate_x(n=n, p= - sym.S(3) / 2) for n in values_of_n]\n",
    "range_of_values = min(values), max(values)\n",
    "### END SOLUTION"
   ]
  },
  {
   "cell_type": "code",
   "execution_count": 33,
   "metadata": {},
   "outputs": [
    {
     "data": {
      "text/plain": [
       "(-1/2, 1)"
      ]
     },
     "execution_count": 33,
     "metadata": {},
     "output_type": "execute_result"
    }
   ],
   "source": [
    "range_of_values"
   ]
  },
  {
   "cell_type": "code",
   "execution_count": null,
   "metadata": {},
   "outputs": [],
   "source": []
  }
 ],
 "metadata": {
  "celltoolbar": "Tags",
  "kernelspec": {
   "display_name": "Python 3",
   "language": "python",
   "name": "python3"
  },
  "language_info": {
   "codemirror_mode": {
    "name": "ipython",
    "version": 3
   },
   "file_extension": ".py",
   "mimetype": "text/x-python",
   "name": "python",
   "nbconvert_exporter": "python",
   "pygments_lexer": "ipython3",
   "version": "3.8.3"
  }
 },
 "nbformat": 4,
 "nbformat_minor": 4
}
