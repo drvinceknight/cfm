{
 "cells": [
  {
   "cell_type": "markdown",
   "id": "f0e95490-b02a-4214-9725-bd879f307966",
   "metadata": {},
   "source": [
    "Verify the following identity for all integer values of $0 \\leq a \\leq\n",
    "100$, $0 \\leq b \\leq 100$ and $1 \\leq n \\leq 10$:\n",
    "\n",
    "$$(a + b) ^ n = \\sum_{i=0}^n\\binom{n}{i} a ^ i b ^ {n - i}$$"
   ]
  },
  {
   "cell_type": "code",
   "execution_count": 1,
   "id": "0d351c31-3dd5-4c26-af32-dac25bb666d6",
   "metadata": {},
   "outputs": [],
   "source": [
    "def get_lhs(a, b, n):\n",
    "    \"\"\"\n",
    "    Compute (a + b) ^ n directly\n",
    "    \"\"\"\n",
    "    return (a + b)  ** n"
   ]
  },
  {
   "cell_type": "code",
   "execution_count": 2,
   "id": "eaf46eb3-4b4a-48f5-a9e6-5b374efeabb2",
   "metadata": {},
   "outputs": [
    {
     "data": {
      "text/plain": [
       "759375"
      ]
     },
     "execution_count": 2,
     "metadata": {},
     "output_type": "execute_result"
    }
   ],
   "source": [
    "get_lhs(a=5, b=10, n=5)"
   ]
  },
  {
   "cell_type": "code",
   "execution_count": 22,
   "id": "2feb6dc1-af2f-43b3-b39e-afd92594231c",
   "metadata": {},
   "outputs": [],
   "source": [
    "import scipy.special\n",
    "\n",
    "def get_rhs(a, b, n):\n",
    "    \"\"\"\n",
    "    Compute the right hand side of the equation ...\n",
    "    \"\"\"\n",
    "    return sum(int(scipy.special.binom(n, i)) * a ** i * b ** (n - i) for i in range(0, n + 1))"
   ]
  },
  {
   "cell_type": "code",
   "execution_count": 23,
   "id": "4ada7f9a-f07a-4f59-8ea7-a9274c8693e7",
   "metadata": {},
   "outputs": [
    {
     "data": {
      "text/plain": [
       "759375"
      ]
     },
     "execution_count": 23,
     "metadata": {},
     "output_type": "execute_result"
    }
   ],
   "source": [
    "get_rhs(a=5, b=10, n=5)"
   ]
  },
  {
   "cell_type": "code",
   "execution_count": 24,
   "id": "eec10872-bded-4620-807b-196718ba64b6",
   "metadata": {},
   "outputs": [],
   "source": [
    "def check_identity(a, b, n):\n",
    "    \"\"\"\n",
    "    Computes the lhs and the rhs and returns if they are equal\n",
    "    \"\"\"\n",
    "    return get_lhs(a=a, b=b, n=n) == get_rhs(a=a, b=b, n=n)"
   ]
  },
  {
   "cell_type": "code",
   "execution_count": 25,
   "id": "0006023a-a049-4bb8-8120-394deee6db42",
   "metadata": {},
   "outputs": [],
   "source": [
    "checks = [\n",
    "    check_identity(a, b, n)\n",
    "    for a in range(101)\n",
    "    for b in range(101)\n",
    "    for n in range(1, 11)\n",
    "]"
   ]
  },
  {
   "cell_type": "code",
   "execution_count": 26,
   "id": "10b9f28b-1250-474e-93bc-8d8f6cb8a2b7",
   "metadata": {},
   "outputs": [
    {
     "data": {
      "text/plain": [
       "True"
      ]
     },
     "execution_count": 26,
     "metadata": {},
     "output_type": "execute_result"
    }
   ],
   "source": [
    "all(checks)"
   ]
  },
  {
   "cell_type": "code",
   "execution_count": 11,
   "id": "57590973-d544-4a51-b6db-0fb5a4c62405",
   "metadata": {},
   "outputs": [
    {
     "data": {
      "text/plain": [
       "True"
      ]
     },
     "execution_count": 11,
     "metadata": {},
     "output_type": "execute_result"
    }
   ],
   "source": [
    "any(checks)"
   ]
  },
  {
   "cell_type": "code",
   "execution_count": 13,
   "id": "2509348b-0044-411a-a35b-bbb5817d6677",
   "metadata": {},
   "outputs": [
    {
     "data": {
      "text/plain": [
       "1509"
      ]
     },
     "execution_count": 13,
     "metadata": {},
     "output_type": "execute_result"
    }
   ],
   "source": [
    "checks.index(False)"
   ]
  },
  {
   "cell_type": "code",
   "execution_count": 14,
   "id": "d72846e2-6b59-4a78-b43d-fe85865ee658",
   "metadata": {},
   "outputs": [
    {
     "data": {
      "text/plain": [
       "np.False_"
      ]
     },
     "execution_count": 14,
     "metadata": {},
     "output_type": "execute_result"
    }
   ],
   "source": [
    "checks[1509]"
   ]
  },
  {
   "cell_type": "code",
   "execution_count": 15,
   "id": "4311ed7e-0c52-4273-b5aa-96e6faef88f9",
   "metadata": {},
   "outputs": [
    {
     "data": {
      "text/plain": [
       "np.True_"
      ]
     },
     "execution_count": 15,
     "metadata": {},
     "output_type": "execute_result"
    }
   ],
   "source": [
    "check_identity(a=5, b=10, n=5)"
   ]
  },
  {
   "cell_type": "code",
   "execution_count": 16,
   "id": "8dba74db-371c-45b3-9d48-bba727420bd9",
   "metadata": {},
   "outputs": [],
   "source": [
    "checks_with_indices = [\n",
    "    (a, b, n, check_identity(a, b, n))\n",
    "    for a in range(101)\n",
    "    for b in range(101)\n",
    "    for n in range(1, 11)\n",
    "]"
   ]
  },
  {
   "cell_type": "code",
   "execution_count": 18,
   "id": "5406792d-ddcb-45a9-bb94-75e2cf3419a5",
   "metadata": {},
   "outputs": [
    {
     "data": {
      "text/plain": [
       "(1, 49, 10, np.False_)"
      ]
     },
     "execution_count": 18,
     "metadata": {},
     "output_type": "execute_result"
    }
   ],
   "source": [
    "checks_with_indices[1509]"
   ]
  },
  {
   "cell_type": "code",
   "execution_count": 19,
   "id": "d79adecb-973d-4931-8feb-7a2aa3bb2836",
   "metadata": {},
   "outputs": [
    {
     "data": {
      "text/plain": [
       "np.False_"
      ]
     },
     "execution_count": 19,
     "metadata": {},
     "output_type": "execute_result"
    }
   ],
   "source": [
    "check_identity(a=1, b=49, n=10)"
   ]
  },
  {
   "cell_type": "code",
   "execution_count": 20,
   "id": "39478b6a-bad5-4eae-9dc3-af369da5825a",
   "metadata": {},
   "outputs": [
    {
     "data": {
      "text/plain": [
       "97656250000000000"
      ]
     },
     "execution_count": 20,
     "metadata": {},
     "output_type": "execute_result"
    }
   ],
   "source": [
    "get_lhs(a=1, b=49, n=10)"
   ]
  },
  {
   "cell_type": "code",
   "execution_count": 21,
   "id": "f10f312b-dba4-43ae-82ed-bf2c460cd054",
   "metadata": {},
   "outputs": [
    {
     "data": {
      "text/plain": [
       "np.float64(9.765625000000003e+16)"
      ]
     },
     "execution_count": 21,
     "metadata": {},
     "output_type": "execute_result"
    }
   ],
   "source": [
    "get_rhs(a=1, b=49, n=10)"
   ]
  },
  {
   "cell_type": "code",
   "execution_count": null,
   "id": "2fc1042e-3f62-4166-9d6e-ce52a9918d23",
   "metadata": {},
   "outputs": [],
   "source": []
  }
 ],
 "metadata": {
  "kernelspec": {
   "display_name": "Python 3 (ipykernel)",
   "language": "python",
   "name": "python3"
  },
  "language_info": {
   "codemirror_mode": {
    "name": "ipython",
    "version": 3
   },
   "file_extension": ".py",
   "mimetype": "text/x-python",
   "name": "python",
   "nbconvert_exporter": "python",
   "pygments_lexer": "ipython3",
   "version": "3.13.0"
  }
 },
 "nbformat": 4,
 "nbformat_minor": 5
}
