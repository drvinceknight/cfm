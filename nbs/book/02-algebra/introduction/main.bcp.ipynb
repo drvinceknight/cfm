{
 "cells": [
  {
   "cell_type": "markdown",
   "metadata": {},
   "source": [
    "# Algebra\n",
    "\n",
    "## Introduction\n",
    "\n",
    "As of 2020, the A-level syllabus includes Algebra which\n",
    "https://www.cambridgeinternational.org/Images/415060-2020-2022-syllabus.pdf\n",
    "describes as:\n",
    "\n",
    "> Algebra: this is an essential tool which supports and expresses mathematical\n",
    "> reasoning and provides a means to generalise across a number of contexts.\n",
    "\n",
    "In practice this often means:\n",
    "\n",
    "- Manipulating numeric expressions;\n",
    "- Manipulating symbolic expressions;\n",
    "- Solving equations.\n",
    "\n",
    "We can use a computer to carry out some of these techniques.\n",
    "\n",
    "```{note}\n",
    "Here is a note\n",
    "```\n",
    "\n",
    "```{warning}\n",
    "Here is a warning\n",
    "```\n",
    "\n",
    "\n",
    "Here is some inline mathematics $2 + 3$.\n",
    "\n",
    "Here is some displaystyle mathematics\n",
    "\n",
    "$$22 + 23$$"
   ]
  },
  {
   "cell_type": "code",
   "execution_count": 1,
   "metadata": {},
   "outputs": [
    {
     "data": {
      "text/latex": [
       "$\\displaystyle x^{2}$"
      ],
      "text/plain": [
       "x**2"
      ]
     },
     "execution_count": 1,
     "metadata": {},
     "output_type": "execute_result"
    }
   ],
   "source": [
    "import sympy as sym\n",
    "\n",
    "x = sym.Symbol(\"x\")\n",
    "x ** 2"
   ]
  },
  {
   "cell_type": "code",
   "execution_count": 2,
   "metadata": {
    "tags": [
     "nbval-ignore-output"
    ]
   },
   "outputs": [
    {
     "data": {
      "text/plain": [
       "[<matplotlib.lines.Line2D at 0x7fd352ecae20>]"
      ]
     },
     "execution_count": 2,
     "metadata": {},
     "output_type": "execute_result"
    },
    {
     "data": {
      "image/png": "[encoded data removed]",
      "text/plain": [
       "<Figure size 432x288 with 1 Axes>"
      ]
     },
     "metadata": {
      "needs_background": "light"
     },
     "output_type": "display_data"
    }
   ],
   "source": [
    "import matplotlib.pyplot as plt\n",
    "\n",
    "plt.plot([1, 2], [3, 4])"
   ]
  },
  {
   "cell_type": "markdown",
   "metadata": {},
   "source": [
    "```python\n",
    "def function(a, b):\n",
    "    \"\"\"Good docstring\"\"\"\n",
    "    return a + b\n",
    "```"
   ]
  }
 ],
 "metadata": {
  "jupytext": {
   "formats": "ipynb,md:myst"
  },
  "kernelspec": {
   "display_name": "Python 3",
   "language": "python",
   "name": "python3"
  },
  "language_info": {
   "codemirror_mode": {
    "name": "ipython",
    "version": 3
   },
   "file_extension": ".py",
   "mimetype": "text/x-python",
   "name": "python",
   "nbconvert_exporter": "python",
   "pygments_lexer": "ipython3",
   "version": "3.8.3"
  }
 },
 "nbformat": 4,
 "nbformat_minor": 4
}
