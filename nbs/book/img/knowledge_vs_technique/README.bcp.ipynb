{
 "cells": [
  {
   "cell_type": "markdown",
   "metadata": {},
   "source": [
    "# Knowledge versus technique\n",
    "\n",
    "A diagram showing the difference between technique and knowledge.\n",
    "\n",
    "## To compile\n",
    "\n",
    "To compile the LaTeX document:\n",
    "\n",
    "    $ latexmk --xelatex main.tex\n",
    "\n",
    "To convert `main.pdf` to `png`:\n",
    "\n",
    "    $ convert -density 300 main.pdf -quality 90 main.png "
   ]
  }
 ],
 "metadata": {
  "jupytext": {
   "cell_metadata_filter": "-all"
  },
  "kernelspec": {
   "display_name": "Python 3",
   "language": "python",
   "name": "python3"
  },
  "language_info": {
   "codemirror_mode": {
    "name": "ipython",
    "version": 3
   },
   "file_extension": ".py",
   "mimetype": "text/x-python",
   "name": "python",
   "nbconvert_exporter": "python",
   "pygments_lexer": "ipython3",
   "version": "3.8.3"
  }
 },
 "nbformat": 4,
 "nbformat_minor": 4
}
