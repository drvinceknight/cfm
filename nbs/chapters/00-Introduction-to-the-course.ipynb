{
 "cells": [
  {
   "cell_type": "markdown",
   "metadata": {},
   "source": [
    "## Computing for Mathematics: Introduction to the course\n",
    "\n",
    "This course will cover the following aspects of computer programming:\n",
    "\n",
    "- Introduction to basic concepts of programming using Python\n",
    "- Overview of specific concepts relevant to mathematics\n",
    "\n",
    "All course materials are available online at  http://vknight.org/cfm/. You can also find all the source files that create that website at  http://github.com/drvinceknight/cfm/.\n",
    "\n",
    "## Course notes\n",
    "\n",
    "The course notes are in the form of lab sheets and are all available to you. These are written using Jupyter notebooks (a tool you will learn to use yourself). You will see mathematics and explanations as well as computer code. For example here is some code to raise $2$ to the power of $10$:"
   ]
  },
  {
   "cell_type": "code",
   "execution_count": 1,
   "metadata": {},
   "outputs": [
    {
     "data": {
      "text/plain": [
       "1024"
      ]
     },
     "execution_count": 1,
     "metadata": {},
     "output_type": "execute_result"
    }
   ],
   "source": [
    "2 ** 10"
   ]
  },
  {
   "cell_type": "markdown",
   "metadata": {},
   "source": [
    "The structure of the course is 3 hours of contact time:\n",
    "\n",
    "- A \"pre\" class meeting: we will discuss and demonstrate the concepts we will learn in any given week.\n",
    "- A lab session: you have the opportunity to get feedback and ask questions on the lab sheets.\n",
    "- A \"post\" class meeting: we will discuss potential difficulties and reaffirm understanding through in class activity.\n",
    "\n",
    "The lab sheets include optional exercises, solutions to them are in the notebooks that you can download from the class site. I recommend you work on those exercises without looking at the solutions. You can ask for feedback and advice in lab sessions and I will also go over specific solutions if required in the post class meeting.\n",
    "\n",
    "Note that this class requires you to work on the course content outside of contact time. I will not be going over the lab sheets directly in class so I recommend you do those in your own time. At any time you are welcome to view my personal notes for the various meetings we will be having: http://vkcfm.readthedocs.io/\n",
    "\n",
    "If you would like some information about the pedagogic approach: you can find my \"teaching philosophy\" here: https://vknight.org/tch-phi/\n",
    "\n",
    "It is possible that the course notes will change: for things like typos and clarifications, all of the notes are hosted openly on github and if you're interested you can find a list of all changes here: https://github.com/drvinceknight/cfm/commits/master\n",
    "\n",
    "## Software installation\n",
    "\n",
    "There are various distributions of Python, we will use Anaconda which comes packaged with a variety of other useful tools (including the notebooks I mentioned above).\n",
    "\n",
    "To install it on your personal machine follow these steps:\n",
    "\n",
    "1.  Go to this webpage:  https://www.anaconda.com/download/.\n",
    "2.  Identify and download the version of Python 3 for your operating system (Windows, Mac OSX, Linux).\n",
    "    Run the installer.\n",
    "\n",
    "We will use a Jupyter notebook which runs in your browser. To open a local server find the Continuum navigator and click on Jupyter. You do not need to be connected to the internet to use this.\n",
    "\n",
    "[This video is a demo of using a notebook.](https://www.youtube.com/watch?v=Zk0RhwCiiNA&feature=youtu.be)\n",
    "\n",
    "## Technology in class\n",
    "\n",
    "Please use whatever resources you need to be successful in this class. Let me know if I can help with anything.\n",
    "\n",
    "In class activities will often involve you writing some code: if you have a laptop you can use it but it is not required.\n",
    "\n",
    "## Office hours\n",
    "\n",
    "I will hold 2-3 hours a week for office hours during which you may come and get help. Specific hours will be determined collaboratively as a class during the first class meeting.\n",
    "\n",
    "## Assessment\n",
    "\n",
    "This module is assessed using an individual piece of coursework. After week 7, this will be the main focus of our work."
   ]
  }
 ],
 "metadata": {
  "anaconda-cloud": {},
  "kernelspec": {
   "display_name": "CfM",
   "language": "python",
   "name": "cfm"
  },
  "language_info": {
   "codemirror_mode": {
    "name": "ipython",
    "version": 3
   },
   "file_extension": ".py",
   "mimetype": "text/x-python",
   "name": "python",
   "nbconvert_exporter": "python",
   "pygments_lexer": "ipython3",
   "version": "3.6.5"
  }
 },
 "nbformat": 4,
 "nbformat_minor": 2
}
