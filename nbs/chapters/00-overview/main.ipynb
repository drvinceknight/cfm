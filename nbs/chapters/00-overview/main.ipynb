{
 "cells": [
  {
   "cell_type": "markdown",
   "metadata": {},
   "source": [
    "# Computing for mathematics\n",
    "\n",
    "## Overview\n",
    "\n",
    "This course aims to introduce students to programming for mathematics.\n",
    "\n",
    "It is assumed that students are used to solving problems of the form:\n",
    "\n",
    "---\n",
    "\n",
    "> Given the function \\\\(f:\\mathbb{R}\\to\\mathbb{R}\\\\) defined by \\\\(f(x) = x ^ 2 - 3 x + 1\\\\) obtain the global minima of the function.\n",
    "\n",
    "To solve this we need to apply our **mathematical knowledge** which tells us to:\n",
    "\n",
    "1. Differentiate \\\\(f(x)\\\\) to get \\\\(\\frac{df}{dx}\\\\);\n",
    "2. Equate \\\\(\\frac{df}{dx}=0\\\\);\n",
    "3. Use the second derivative test on the solution to the previous equation.\n",
    "\n",
    "For each of those 3 steps we will usually make use of our **mathematical techniques**:\n",
    "\n",
    "1. Differentiate \\\\(f(x)\\\\):\n",
    "\n",
    "   \\\\[\\frac{df}{dx} = 2 x - 3\\\\]\n",
    "\n",
    "2. Equate \\\\(\\frac{df}{dx}=0\\\\):\n",
    "\n",
    "   \\\\[2x-3 =0 \\Rightarrow x = 3/2\\\\]\n",
    "\n",
    "3. Use the second derivate test on the solution:\n",
    "\n",
    "   \\\\[\\frac{d^2f}{dx^2} = 2 > 0\\text{ for all values of }x\\\\]\n",
    "\n",
    "   Thus \\\\(x=2/3\\\\) is the global minima of the function.\n",
    "\n",
    "---\n",
    "\n",
    "As we progress as mathematicians **mathematical knowledge** is more prominant than **mathematical technique**: often knowing what to do is the real problem as opposed to having the technical ability to do it.\n",
    "\n",
    "This is what this course will cover: **programming** allows us to instruct a computer to carry out mathematical techniques.\n",
    "\n",
    "We will for example learn how to solve the above problem by instructing a computer which **mathematical technique** to carry out.\n",
    "\n",
    "**This course will teach us how to give the correct instructions to a computer.**\n",
    "\n",
    "The following is an example, do not worry too much about the specific code used for now:\n",
    "\n",
    "1. Differentiate \\\\(f(x)\\\\) to get \\\\(\\frac{df}{dx}\\\\);"
   ]
  },
  {
   "cell_type": "code",
   "execution_count": null,
   "metadata": {},
   "outputs": [],
   "source": [
    "import sympy as sym\n",
    "\n",
    "x = sym.Symbol(\"x\")\n",
    "sym.diff(x ** 2 - 3 * x + 1, x)"
   ]
  },
  {
   "cell_type": "markdown",
   "metadata": {},
   "source": [
    "2. Equate \\\\(\\frac{df}{dx}=0\\\\):"
   ]
  },
  {
   "cell_type": "code",
   "execution_count": null,
   "metadata": {},
   "outputs": [],
   "source": [
    "sym.solveset(2 * x - 3, x)"
   ]
  },
  {
   "cell_type": "markdown",
   "metadata": {},
   "source": [
    "3. Use the second derivate test on the solution:"
   ]
  },
  {
   "cell_type": "code",
   "execution_count": null,
   "metadata": {},
   "outputs": [],
   "source": [
    "sym.diff(x ** 2 - 3 * x + 1, x, 2)"
   ]
  },
  {
   "cell_type": "markdown",
   "metadata": {},
   "source": [
    "This diagram is a brief summary:\n",
    "\n",
    "![](./img/knowledge_vs_technique/main.png)"
   ]
  },
  {
   "cell_type": "markdown",
   "metadata": {},
   "source": [
    "## How this course will work\n",
    "\n",
    "Most programming courses introduce students to the building blocks of programming and builds up to using more sophisticated tools for a specific purpose.\n",
    "\n",
    "This is akin to teaching someone how to forge metal so as to make a nail and then slowly work our way to using more sophisticated tools such as power tools to build a house.\n",
    "\n",
    "This course will do thing differentially: we will start with using and understanding tools that are helpful to mathematicians. In the later part of the course we will cover the building blocks and you will be able to build your own sophisticated tools.\n",
    "\n",
    "1. Tools for mathematics;\n",
    "2. Building tools.\n",
    "\n",
    "As such the first part of the course will not make use of any novel mathematics. Instead we will consider a number of mathematics problem akin to what will be seen in secondary school:\n",
    "\n",
    "- Algebraic manipulation\n",
    "- Calculus (differentiation and integration)\n",
    "- Permutations and combinations\n",
    "- Probability\n",
    "- Linear algebra\n",
    "\n",
    "The questions we will tackle will be familiar in their presentation and description. **What will be different** is that no **by hand** calculations will be done. We will instead carry them all out using a programming language.\n",
    "\n",
    "In the second part of the course you will be encouraged to build your own tools to be able to tackle a problem type of your choice (perhaps an area of mathematics you have been introduced to in the first Semester).\n",
    "\n",
    "## Assessment\n",
    "\n",
    "There are two pieces of coursework for this coures:\n",
    "\n",
    "1. An individual piece of coursework: this will be a collection of secondary school type problems that you will solve using programming. This will assess the first part of the course.\n",
    "2. A group piece of coursework culminating in a presentation. This will assess the second part of the course.\n",
    "\n",
    "## What is a programming language\n",
    "\n",
    "## What language will we use\n",
    "\n",
    "## What tools will we use\n",
    "\n",
    "## Overview of materials\n",
    "\n",
    "Every chapter will have 4 parts:\n",
    "\n",
    "- A tutorial: you will be walked through solving a problem. You will be specifically told what to do and what to expect.\n",
    "- A how to section: this will be a shorter more succint section that will detail how to carry out specific things.\n",
    "- A reference section: this will be a section with references to further resources as well as background information about specific things in the chapter.\n",
    "- An exercise section: this will be a number of exercises that you can work on."
   ]
  }
 ],
 "metadata": {
  "jupytext": {
   "formats": "ipynb,md"
  },
  "kernelspec": {
   "display_name": "Python 3",
   "language": "python",
   "name": "python3"
  },
  "language_info": {
   "codemirror_mode": {
    "name": "ipython",
    "version": 3
   },
   "file_extension": ".py",
   "mimetype": "text/x-python",
   "name": "python",
   "nbconvert_exporter": "python",
   "pygments_lexer": "ipython3",
   "version": "3.8.3"
  }
 },
 "nbformat": 4,
 "nbformat_minor": 4
}
