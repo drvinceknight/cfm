{
 "cells": [
  {
   "cell_type": "markdown",
   "metadata": {},
   "source": [
    "## Chapter 01: Variables, Conditional Statements and Loops\n",
    "\n",
    "This first lab sheet will introduce you to programming. You are expected to work\n",
    "through the tutorial and the worked example. **worked\n",
    "example**. There are other exercises that aim to push your understanding\n",
    "further. Finally at the end of the sheet there are links to other resources and\n",
    "tutorials that you might find helpful and/or interesting.\n",
    "\n",
    "There are videos throughout the sheets describing the concepts as well as\n",
    "showing demos.\n",
    "\n",
    "[Here is an overview of the course.](https://youtu.be/IB1wc1qgb7Q)\n",
    "\n",
    "### Installing and running Python\n",
    "\n",
    "Python is a programming language. There are various other programming languages:\n",
    "\n",
    "- Java\n",
    "- C\n",
    "- C++\n",
    "- Ruby\n",
    "- VBA\n",
    "- and many more.\n",
    "\n",
    "A programming language allows you to write a program which is a sequence of\n",
    "instructions that specifies how to perform a computation.\n",
    "\n",
    "When writing a program you need two things:\n",
    "\n",
    "- Something to save the code (a text editor for example)\n",
    "- Something to run the code\n",
    "\n",
    "We will be using a combination of these 2 things called **notebooks**.\n",
    "\n",
    "### Install Python\n",
    "\n",
    "There are various distributions of Python, we will use\n",
    "[Anaconda](https://www.continuum.io/why-anaconda) which comes packaged with a\n",
    "variety of other useful tools (including the notebooks I mentioned above).\n",
    "\n",
    "To install it on your personal machine follow these steps:\n",
    "\n",
    "1. Go to this webpage:\n",
    "   [www.continuum.io/downloads](https://www.continuum.io/downloads).\n",
    "2. Identify and download the version of Python 3 for your operating system\n",
    "   (Windows, Mac OSX, Linux).\n",
    "3. Run the installer.\n",
    "\n",
    "We will use a Jupyter notebook which runs in your browser. To open a local\n",
    "server find the Continuum navigator and click on Jupyter. You do not need to be\n",
    "connected to the internet to use this.\n",
    "\n",
    "[This video is a demo of using a notebook.](https://youtu.be/Zk0RhwCiiNA)\n",
    "\n",
    "These lab sheets will include code snippets. They show what code you should\n",
    "write but also the output you should see. Try the following:"
   ]
  },
  {
   "cell_type": "code",
   "execution_count": 1,
   "metadata": {},
   "outputs": [
    {
     "name": "stdout",
     "output_type": "stream",
     "text": [
      "Hello world\n"
     ]
    }
   ],
   "source": [
    "print(\"Hello world\")"
   ]
  },
  {
   "cell_type": "markdown",
   "metadata": {},
   "source": [
    "## Tutorial\n",
    "\n",
    "Work through the following:\n",
    "\n",
    "---\n",
    "\n",
    "### 1: Creating numeric variables.\n",
    "\n",
    "[A video describing the concept.](https://youtu.be/KtDrCIauto0)\n",
    "\n",
    "[A video demo.](https://youtu.be/Esp-5f0kmpE)\n",
    "\n",
    "One of the building block of any\n",
    "programming language is variables. This is how we store a particular variable\n",
    "that we can reuse:"
   ]
  },
  {
   "cell_type": "code",
   "execution_count": 2,
   "metadata": {},
   "outputs": [
    {
     "data": {
      "text/plain": [
       "20"
      ]
     },
     "execution_count": 2,
     "metadata": {},
     "output_type": "execute_result"
    }
   ],
   "source": [
    "age = 20\n",
    "age"
   ]
  },
  {
   "cell_type": "markdown",
   "metadata": {},
   "source": [
    "It is possible to carry out a variety of numeric operations and reassigning the value of the variable:"
   ]
  },
  {
   "cell_type": "code",
   "execution_count": 3,
   "metadata": {},
   "outputs": [
    {
     "data": {
      "text/plain": [
       "21"
      ]
     },
     "execution_count": 3,
     "metadata": {},
     "output_type": "execute_result"
    }
   ],
   "source": [
    "age = age + 1  # Adding 1 to age\n",
    "age"
   ]
  },
  {
   "cell_type": "markdown",
   "metadata": {},
   "source": [
    "Python has some **short hand** for the above:"
   ]
  },
  {
   "cell_type": "code",
   "execution_count": 4,
   "metadata": {},
   "outputs": [
    {
     "data": {
      "text/plain": [
       "22"
      ]
     },
     "execution_count": 4,
     "metadata": {},
     "output_type": "execute_result"
    }
   ],
   "source": [
    "age += 1  # Adding 1 to age\n",
    "age"
   ]
  },
  {
   "cell_type": "markdown",
   "metadata": {},
   "source": [
    "We can do more than just addition (experiment with these as you might need\n",
    "them later on):\n",
    "\n",
    "- Subtraction: `-`\n",
    "- Multiplication: `*`\n",
    "- Division: `/`\n",
    "- Exponentiation: `**`\n",
    "- Modulo division: `%`"
   ]
  },
  {
   "cell_type": "markdown",
   "metadata": {},
   "source": [
    "We can check the type of our variables, this can be particularly helpful when trying to understand errors and/or undexpected behaviour:"
   ]
  },
  {
   "cell_type": "code",
   "execution_count": 5,
   "metadata": {},
   "outputs": [
    {
     "data": {
      "text/plain": [
       "int"
      ]
     },
     "execution_count": 5,
     "metadata": {},
     "output_type": "execute_result"
    }
   ],
   "source": [
    "type(5)  # An integer"
   ]
  },
  {
   "cell_type": "code",
   "execution_count": 6,
   "metadata": {},
   "outputs": [
    {
     "data": {
      "text/plain": [
       "float"
      ]
     },
     "execution_count": 6,
     "metadata": {},
     "output_type": "execute_result"
    }
   ],
   "source": [
    "type(5.4)  # A 'float'"
   ]
  },
  {
   "cell_type": "markdown",
   "metadata": {},
   "source": [
    "**Experiment with manipulating numeric variables.**"
   ]
  },
  {
   "cell_type": "markdown",
   "metadata": {},
   "source": [
    "---\n",
    "\n",
    "### 2: Creating character variables.\n",
    "\n",
    "[A video describing the concept.](https://youtu.be/8-lY3TepDKc)\n",
    "\n",
    "[A video demo.](https://youtu.be/v3HBPbf0I3s)\n",
    "\n",
    "Another type of variable used is called a character variable. **In\n",
    "programming these are called strings**."
   ]
  },
  {
   "cell_type": "code",
   "execution_count": 7,
   "metadata": {},
   "outputs": [
    {
     "data": {
      "text/plain": [
       "'Vince'"
      ]
     },
     "execution_count": 7,
     "metadata": {},
     "output_type": "execute_result"
    }
   ],
   "source": [
    "firstname = \"Vince\"\n",
    "firstname"
   ]
  },
  {
   "cell_type": "code",
   "execution_count": 8,
   "metadata": {},
   "outputs": [
    {
     "data": {
      "text/plain": [
       "str"
      ]
     },
     "execution_count": 8,
     "metadata": {},
     "output_type": "execute_result"
    }
   ],
   "source": [
    "type(firstname)"
   ]
  },
  {
   "cell_type": "markdown",
   "metadata": {},
   "source": [
    "We can also create new strings from other ones:"
   ]
  },
  {
   "cell_type": "code",
   "execution_count": 9,
   "metadata": {},
   "outputs": [
    {
     "data": {
      "text/plain": [
       "'Vince Knight'"
      ]
     },
     "execution_count": 9,
     "metadata": {},
     "output_type": "execute_result"
    }
   ],
   "source": [
    "lastname = \"Knight\"\n",
    "fullname = firstname + \" \" + lastname\n",
    "fullname"
   ]
  },
  {
   "cell_type": "markdown",
   "metadata": {},
   "source": [
    "**Experiment by creating your own strings variables.**"
   ]
  },
  {
   "cell_type": "markdown",
   "metadata": {},
   "source": [
    "---\n",
    "\n",
    "### 3. Boolean variables and if statements.\n",
    "\n",
    "[A video describing the concept.](https://youtu.be/IxU67BAFtHI)\n",
    "\n",
    "[A video demo.](https://youtu.be/EVAbSgT2Fvk)\n",
    "\n",
    "Programming languages can be used to check if statements are true or not. A\n",
    "variable that can either be `True` or `False` is called a boolean variable.\n",
    "Here is a simple example:\n"
   ]
  },
  {
   "cell_type": "code",
   "execution_count": 10,
   "metadata": {},
   "outputs": [
    {
     "data": {
      "text/plain": [
       "True"
      ]
     },
     "execution_count": 10,
     "metadata": {},
     "output_type": "execute_result"
    }
   ],
   "source": [
    "a = 4\n",
    "b = 8 / 2\n",
    "a == b # Check if a is equal to b"
   ]
  },
  {
   "cell_type": "code",
   "execution_count": 11,
   "metadata": {},
   "outputs": [
    {
     "data": {
      "text/plain": [
       "False"
      ]
     },
     "execution_count": 11,
     "metadata": {},
     "output_type": "execute_result"
    }
   ],
   "source": [
    "a != b # Check if a is NOT equal to b"
   ]
  },
  {
   "cell_type": "code",
   "execution_count": 12,
   "metadata": {},
   "outputs": [
    {
     "data": {
      "text/plain": [
       "True"
      ]
     },
     "execution_count": 12,
     "metadata": {},
     "output_type": "execute_result"
    }
   ],
   "source": [
    "a >= b # Check if a is bigger or equal to b"
   ]
  },
  {
   "cell_type": "code",
   "execution_count": 13,
   "metadata": {},
   "outputs": [
    {
     "data": {
      "text/plain": [
       "True"
      ]
     },
     "execution_count": 13,
     "metadata": {},
     "output_type": "execute_result"
    }
   ],
   "source": [
    "a < b + 1  # Check if a is stricly smaller than b + 1"
   ]
  },
  {
   "cell_type": "markdown",
   "metadata": {},
   "source": [
    "Note that we can set the statement to be a variable itself:"
   ]
  },
  {
   "cell_type": "code",
   "execution_count": 14,
   "metadata": {},
   "outputs": [
    {
     "data": {
      "text/plain": [
       "True"
      ]
     },
     "execution_count": 14,
     "metadata": {},
     "output_type": "execute_result"
    }
   ],
   "source": [
    "statement = a == b\n",
    "statement"
   ]
  },
  {
   "cell_type": "code",
   "execution_count": 15,
   "metadata": {},
   "outputs": [
    {
     "data": {
      "text/plain": [
       "bool"
      ]
     },
     "execution_count": 15,
     "metadata": {},
     "output_type": "execute_result"
    }
   ],
   "source": [
    "type(statement)"
   ]
  },
  {
   "cell_type": "markdown",
   "metadata": {},
   "source": [
    "We can use this to carry out different operations depending on whether or not a boolean is True or False."
   ]
  },
  {
   "cell_type": "code",
   "execution_count": 16,
   "metadata": {},
   "outputs": [
    {
     "data": {
      "text/plain": [
       "3"
      ]
     },
     "execution_count": 16,
     "metadata": {},
     "output_type": "execute_result"
    }
   ],
   "source": [
    "n = 11\n",
    "if n <= 5:  # Experiment by changing the value of n\n",
    "    value = 1\n",
    "elif n % 2 == 0:  # Otherwise if (else if)\n",
    "    value = 2\n",
    "else:  # Otherwise\n",
    "    value = 3\n",
    "value"
   ]
  },
  {
   "cell_type": "markdown",
   "metadata": {},
   "source": [
    "**The indentation is important: everything indented after the `if`, `elif`,\n",
    "`else` statements is what will be evaluated in that specific case.**\n",
    "\n",
    "The above is in essence producing:\n",
    "\n",
    "$$f(n)=\\begin{cases}\n",
    "1&\\text{ if } n\\leq 5\\\\\n",
    "2&\\text{ if } n> 5\\text{ and } n \\text{ even}\\\\\n",
    "3&\\text{ otherwise }\\\\\n",
    "\\end{cases}$$\n",
    "\n",
    "**Experiment by changing the function \\\\(f\\\\) and modifying the code.**"
   ]
  },
  {
   "cell_type": "markdown",
   "metadata": {},
   "source": [
    "---\n",
    "\n",
    "### 4. While loops.\n",
    "\n",
    "[A video describing the concept.](https://youtu.be/MnKlyszfa7g)\n",
    "\n",
    "[A video demo.](https://youtu.be/orAnw7ZiFV4)\n",
    "\n",
    "It is possible to use code to repeat various actions. Here is a `while` loop\n",
    "that repeats whatever is indented until the boolean condition is no longer\n",
    "true:"
   ]
  },
  {
   "cell_type": "code",
   "execution_count": 17,
   "metadata": {},
   "outputs": [
    {
     "data": {
      "text/plain": [
       "55"
      ]
     },
     "execution_count": 17,
     "metadata": {},
     "output_type": "execute_result"
    }
   ],
   "source": [
    "count = 0  # A variable to count\n",
    "total = 0  # We will sum the first ten numbers\n",
    "while count < 10:  # Keep repeating until count if >= 10\n",
    "    count += 1  # Adding 1 to count\n",
    "    total += count  # Adding the count to the total\n",
    "total"
   ]
  },
  {
   "cell_type": "markdown",
   "metadata": {},
   "source": [
    "**Experiment by summing (or perhaps multiplying?) over a different list of\n",
    "items.**"
   ]
  },
  {
   "cell_type": "markdown",
   "metadata": {},
   "source": [
    "---\n",
    "\n",
    "### Worked example\n",
    "\n",
    "[A video describing the concept.](https://youtu.be/cPfHwhJgeik)\n",
    "\n",
    "[A video demo.](https://www.youtube.com/watch?v=im6yVzlFrys)\n",
    "\n",
    "This is a slightly more complex example that brings together the various\n",
    "concepts above.\n",
    "\n",
    "Let us aim to verify (**this is not a proof!**) that the following statement is\n",
    "true:\n",
    "\n",
    "\\\\[\n",
    "\\sum_{i=0}^n i ^ 2 = \\frac{n(n+1)(2n+1)}{6}\n",
    "\\\\]\n",
    "\n",
    "We will do this by computing the left hand side and the right hand side:\n",
    "\n"
   ]
  },
  {
   "cell_type": "code",
   "execution_count": 18,
   "metadata": {},
   "outputs": [
    {
     "data": {
      "text/plain": [
       "True"
      ]
     },
     "execution_count": 18,
     "metadata": {},
     "output_type": "execute_result"
    }
   ],
   "source": [
    "n = 20\n",
    "rhs = n * (n +  1) * (2 * n + 1) / 6\n",
    "lhs = 0\n",
    "i = 0\n",
    "while i < n:\n",
    "    i += 1\n",
    "    lhs += i ** 2\n",
    "lhs == rhs"
   ]
  },
  {
   "cell_type": "markdown",
   "metadata": {},
   "source": [
    "We can put all of the above in a `while` loop that will check it for a large number of values of n:"
   ]
  },
  {
   "cell_type": "code",
   "execution_count": 19,
   "metadata": {
    "collapsed": true
   },
   "outputs": [],
   "source": [
    "max_n = 2000\n",
    "n = 0\n",
    "while n < max_n:\n",
    "    n += 1\n",
    "    rhs = n * (n +  1) * (2 * n + 1) / 6\n",
    "    lhs = 0\n",
    "    i = 0\n",
    "    while i < n:\n",
    "        i += 1\n",
    "        lhs += i ** 2\n",
    "    if lhs != rhs:      \n",
    "        print(False)"
   ]
  },
  {
   "cell_type": "markdown",
   "metadata": {},
   "source": [
    "---\n",
    "\n",
    "## Exercises\n",
    "\n",
    "Here are a number of exercises that are possible to carry out using the code concepts discussed:\n",
    "\n",
    "- Variable assignement: for example `a = 5`\n",
    "- Arithmetic manipulation: for example `a += 2`\n",
    "- Conditional statements: for example `if a == 7:`\n",
    "- While loops: for example `while a <= 10:`"
   ]
  },
  {
   "cell_type": "markdown",
   "metadata": {},
   "source": [
    "---\n",
    "\n",
    "### Exercise 1\n",
    "\n",
    "**Debugging exercise**\n",
    "\n",
    "[A video demo.](https://youtu.be/NvAEDqMRSEw)\n",
    "\n",
    "Below is code that attempts to verify the following identity for all values\n",
    "less than 2000.\n",
    "\n",
    "\\\\[\n",
    "\\sum_{i=0}^ni ^ 3 = \\frac{\\left(n ^ 2 + n\\right)^{2}}{4}\n",
    "\\\\]\n",
    "\n",
    "**There is at least one error (also called a bug) in the\n",
    "code**. Find and fix all the bugs.\n",
    "\n",
    "```python\n",
    "max_n = 2000\n",
    "n = 0\n",
    "while n > max_n:\n",
    "   n += 2\n",
    "   rhs = ((n ** 2 + 2 * n) ** 2) / 4\n",
    "   lhs = 0\n",
    "   i = 0\n",
    "   while i < n:\n",
    "       i += 1\n",
    "       lhs += i ** 2\n",
    "   if lhs != rhs:\n",
    "       print(False)\n",
    "```"
   ]
  },
  {
   "cell_type": "code",
   "execution_count": 20,
   "metadata": {
    "collapsed": true,
    "tags": [
     "solution"
    ]
   },
   "outputs": [],
   "source": [
    "max_n = 2000\n",
    "n = 0\n",
    "#while n > max_n:  This inequality is the wrong way around:\n",
    "while n < max_n:\n",
    "    #n += 2  We should be incrementing by 1\n",
    "    n += 1\n",
    "    #rhs = ((n ** 2 + 2 * n) ** 2) / 4 This is the incorrect formula\n",
    "    rhs = ((n ** 2 + n) ** 2) / 4\n",
    "    lhs = 0\n",
    "    i = 0\n",
    "    while i < n:\n",
    "        i += 1\n",
    "        #lhs += i ** 2 Incrementing the incorrect amount\n",
    "        lhs += i ** 3\n",
    "    if lhs != rhs:\n",
    "        print(False)"
   ]
  },
  {
   "cell_type": "markdown",
   "metadata": {},
   "source": [
    "---\n",
    "\n",
    "### Exercise 2\n",
    "\n",
    "Use code to check the following identity:\n",
    "\n",
    "\\\\[\n",
    "    \\sum_{i=0}^{n}i=\\frac{n(n+1)}{2}\n",
    "\\\\]\n",
    "\n",
    "for \\\\(n=20\\\\)."
   ]
  },
  {
   "cell_type": "code",
   "execution_count": 21,
   "metadata": {
    "tags": [
     "solution"
    ]
   },
   "outputs": [
    {
     "data": {
      "text/plain": [
       "210.0"
      ]
     },
     "execution_count": 21,
     "metadata": {},
     "output_type": "execute_result"
    }
   ],
   "source": [
    "# Here is the right hand side:\n",
    "\n",
    "n = 20\n",
    "rhs = n * (n +  1) / 2\n",
    "rhs"
   ]
  },
  {
   "cell_type": "code",
   "execution_count": 22,
   "metadata": {
    "tags": [
     "solution"
    ]
   },
   "outputs": [
    {
     "data": {
      "text/plain": [
       "210"
      ]
     },
     "execution_count": 22,
     "metadata": {},
     "output_type": "execute_result"
    }
   ],
   "source": [
    "# Here is the left hand side:\n",
    "\n",
    "lhs = 0\n",
    "i = 0\n",
    "while i < n:\n",
    "    i += 1\n",
    "    lhs += i  # This is the only line that is different to before\n",
    "lhs"
   ]
  },
  {
   "cell_type": "code",
   "execution_count": 23,
   "metadata": {
    "tags": [
     "solution"
    ]
   },
   "outputs": [
    {
     "data": {
      "text/plain": [
       "True"
      ]
     },
     "execution_count": 23,
     "metadata": {},
     "output_type": "execute_result"
    }
   ],
   "source": [
    "lhs == rhs"
   ]
  },
  {
   "cell_type": "markdown",
   "metadata": {},
   "source": [
    "---\n",
    "\n",
    "### Exercise 3\n",
    "\n",
    "Modify **the above** (Exercise 2) to check it for all values less than 2000."
   ]
  },
  {
   "cell_type": "code",
   "execution_count": 24,
   "metadata": {
    "collapsed": true,
    "tags": [
     "solution"
    ]
   },
   "outputs": [],
   "source": [
    "max_n = 2000\n",
    "n = 0\n",
    "while n < max_n:  # checking the equality for n up until 2000\n",
    "    n += 1\n",
    "    rhs = n * (n +  1) / 2\n",
    "    lhs = 0\n",
    "    i = 0\n",
    "    while i < n:\n",
    "        i += 1\n",
    "        lhs += i\n",
    "    if lhs != rhs:\n",
    "        print(False)  # Will print a False if it ever finds an error"
   ]
  },
  {
   "cell_type": "markdown",
   "metadata": {},
   "source": [
    "----\n",
    "\n",
    "### Exercise 4\n",
    "\n",
    "Calculate the sum of the first natural numbers less than 1000 that are not divisible by 3."
   ]
  },
  {
   "cell_type": "code",
   "execution_count": 25,
   "metadata": {
    "tags": [
     "solution"
    ]
   },
   "outputs": [
    {
     "data": {
      "text/plain": [
       "333667"
      ]
     },
     "execution_count": 25,
     "metadata": {},
     "output_type": "execute_result"
    }
   ],
   "source": [
    "upper_limit = 1000\n",
    "\n",
    "total = 0\n",
    "number = 0\n",
    "\n",
    "while number < upper_limit:\n",
    "    number += 1  # Increment the number\n",
    "    if number % 3 != 0:  # Check if it is divisible by 3\n",
    "        total += number\n",
    "total"
   ]
  },
  {
   "cell_type": "markdown",
   "metadata": {},
   "source": [
    "---\n",
    "\n",
    "### Exercise 5\n",
    "\n",
    "Calculate the sum of the first 1000 natural numbers that are not divisible by 3."
   ]
  },
  {
   "cell_type": "code",
   "execution_count": 26,
   "metadata": {
    "tags": [
     "solution"
    ]
   },
   "outputs": [
    {
     "data": {
      "text/plain": [
       "750000"
      ]
     },
     "execution_count": 26,
     "metadata": {},
     "output_type": "execute_result"
    }
   ],
   "source": [
    "upper_count = 1000\n",
    "\n",
    "total = 0\n",
    "number = 0\n",
    "count = 0\n",
    "\n",
    "while count < upper_count:\n",
    "    number += 1  # Increment the number\n",
    "    if number % 3 != 0:  # Check if it is divisible by 3\n",
    "        total += number\n",
    "        # Keep track of how many numbers we have that are divisible by 3\n",
    "        count += 1  \n",
    "total"
   ]
  },
  {
   "cell_type": "markdown",
   "metadata": {},
   "source": [
    "---\n",
    "\n",
    "###  Exercise 6\n",
    "\n",
    "It can be shown (you are not required to check this) that the following sequence:\n",
    "\n",
    "\\\\[\n",
    "    x_{n+1}=\\frac{x_n + K / x_{n}}{2}\n",
    "\\\\]\n",
    "\n",
    "approaches \\\\(\\sqrt{K}\\\\) as \\\\(n\\\\) increases. Write some code to\n",
    "verify this to any given level of precision."
   ]
  },
  {
   "cell_type": "code",
   "execution_count": 27,
   "metadata": {
    "tags": [
     "solution"
    ]
   },
   "outputs": [
    {
     "name": "stdout",
     "output_type": "stream",
     "text": [
      "13.5\n",
      "10.157407407407408\n",
      "9.607418380093858\n",
      "9.591675965316126\n"
     ]
    }
   ],
   "source": [
    "epsilon = 0.001\n",
    "K = 92  #This sets an initial value to take the square root of\n",
    "X = K / 4.0  # This picks an initial value for the sequence\n",
    "while abs(X**2 - K) > epsilon:  # abs is the absolute value\n",
    "    X = (X + K / X) / 2\n",
    "    print(X)"
   ]
  },
  {
   "cell_type": "code",
   "execution_count": 28,
   "metadata": {
    "tags": [
     "solution"
    ]
   },
   "outputs": [
    {
     "data": {
      "text/plain": [
       "92.0"
      ]
     },
     "execution_count": 28,
     "metadata": {},
     "output_type": "execute_result"
    }
   ],
   "source": [
    "# Let us check:\n",
    "round(X ** 2, 3)"
   ]
  },
  {
   "cell_type": "markdown",
   "metadata": {},
   "source": [
    "---\n",
    "\n",
    "## Further resources\n",
    "\n",
    "- [The official Python introduction\n",
    "  tutorial](https://docs.python.org/3/tutorial/introduction.html)\n",
    "- [A non programmers tutorial for\n",
    "  Python](https://en.wikibooks.org/wiki/Non-Programmer%27s_Tutorial_for_Python_3):\n",
    "    - [Variables](https://en.wikibooks.org/wiki/Non-Programmer%27s_Tutorial_for_Python_3/Hello,_World).\n",
    "    - [Debugging](https://en.wikibooks.org/wiki/Non-Programmer%27s_Tutorial_for_Python_3/Debugging).\n",
    "    - [Boolean\n",
    "      variables](https://en.wikibooks.org/wiki/Non-Programmer%27s_Tutorial_for_Python_3/Boolean_Expressions).\n",
    "    - [If\n",
    "      statements](https://en.wikibooks.org/wiki/Non-Programmer%27s_Tutorial_for_Python_3/Decisions).\n",
    "    - [For](https://en.wikibooks.org/wiki/Non-Programmer%27s_Tutorial_for_Python_3/For_Loops)\n",
    "      and\n",
    "      [while](https://en.wikibooks.org/wiki/Non-Programmer%27s_Tutorial_for_Python_3/Count_to_10)\n",
    "      loops.\n",
    "- [Learn X in Y minutes for Python3](https://learnxinyminutes.com/docs/python3/)\n",
    "- [A good youtube\n",
    "  playlist](https://www.youtube.com/watch?v=HBxCHonP6Ro&list=PL6gx4Cwl9DGAcbMi1sH6oAMk4JHw91mC_)\n",
    "- [Automating the boring stuff: a nice\n",
    "  book](https://automatetheboringstuff.com/)"
   ]
  }
 ],
 "metadata": {
  "anaconda-cloud": {},
  "celltoolbar": "Tags",
  "kernelspec": {
   "display_name": "Python 3",
   "language": "python",
   "name": "python3"
  },
  "language_info": {
   "codemirror_mode": {
    "name": "ipython",
    "version": 3
   },
   "file_extension": ".py",
   "mimetype": "text/x-python",
   "name": "python",
   "nbconvert_exporter": "python",
   "pygments_lexer": "ipython3",
   "version": "3.5.1"
  }
 },
 "nbformat": 4,
 "nbformat_minor": 2
}
