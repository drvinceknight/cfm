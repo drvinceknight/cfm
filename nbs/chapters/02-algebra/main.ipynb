{
 "cells": [
  {
   "cell_type": "markdown",
   "metadata": {},
   "source": [
    "## Algebra\n",
    "\n",
    "### Introduction\n",
    "\n",
    "As of 2020, the A-level syllabus includes Algebra which\n",
    "https://www.cambridgeinternational.org/Images/415060-2020-2022-syllabus.pdf\n",
    "describes as:\n",
    "\n",
    "> Algebra: this is an essential tool which supports and expresses mathematical\n",
    "> reasoning and provides a means to generalise across a number of contexts.\n",
    "\n",
    "In practice this often means:\n",
    "\n",
    "- Manipulating numeric expressions;\n",
    "- Manipulating symbolic expressions;\n",
    "- Solving equations.\n",
    "\n",
    "We can use a computer to carry out some of these techniques.\n",
    "\n",
    "## Tutorial\n",
    "\n",
    "To demonstrate the ways in which we can use a computer to assist with Algebra we\n",
    "will solve the following two problems:\n",
    "\n",
    "---\n",
    "\n",
    "1. Rationalise the denominator of \\\\(\\frac{1}{\\sqrt{2} + 1}\\\\)\n",
    "2. Consider the quadratic: \\\\(f(x)=2x ^ 2 + x + 1\\\\):\n",
    "  1. Calculate the descriminant of the quadratic equation \\\\(2x ^ 2 + x + 1 =\n",
    "     0\\\\). What does this tell us about the solutions to the equation? What\n",
    "     does this tell us about the graph of \\\\(f(x)\\\\)?\n",
    "  2. By completing the square, show that the minimum point of \\\\(f(x)\\\\) is\n",
    "     \\\\(\\left(-\\frac{1}{4}, \\frac{7}{8}\\right)\\\\)\n",
    "\n",
    "---\n",
    "\n",
    "To do this we will be using a specific collections of tools available in Python.\n",
    "Often specific sets of tools are separated in to things called **libraries**. We\n",
    "start by telling Python that we want to use the specific library for **symbolic\n",
    "mathematics**:"
   ]
  },
  {
   "cell_type": "code",
   "execution_count": 32,
   "metadata": {},
   "outputs": [],
   "source": [
    "import sympy"
   ]
  },
  {
   "cell_type": "markdown",
   "metadata": {},
   "source": [
    "This allows us to solve the first part of the question. First we create a variable `expression` and **assign** it a value of \\\\(\\frac{1}{\\sqrt{2} + 1}\\\\)."
   ]
  },
  {
   "cell_type": "code",
   "execution_count": 33,
   "metadata": {
    "lines_to_next_cell": 2
   },
   "outputs": [
    {
     "data": {
      "text/latex": [
       "$\\displaystyle \\frac{1}{1 + \\sqrt{2}}$"
      ],
      "text/plain": [
       "1/(1 + sqrt(2))"
      ]
     },
     "execution_count": 33,
     "metadata": {},
     "output_type": "execute_result"
    }
   ],
   "source": [
    "expression = 1 / (sympy.sqrt(2) + 1)\n",
    "expression"
   ]
  },
  {
   "cell_type": "markdown",
   "metadata": {},
   "source": [
    "**Note** that this is not what would happen if we plugged the above in to a basic calculator, it would instead give us a value of:"
   ]
  },
  {
   "cell_type": "code",
   "execution_count": 34,
   "metadata": {},
   "outputs": [
    {
     "data": {
      "text/plain": [
       "0.41421356237309503"
      ]
     },
     "execution_count": 34,
     "metadata": {},
     "output_type": "execute_result"
    }
   ],
   "source": [
    "float(expression)"
   ]
  },
  {
   "cell_type": "markdown",
   "metadata": {},
   "source": [
    "The `sympy` library has a diverse set of tools available, one of which is to algorithmically attempt to simplify an expression. Here is how we do that:"
   ]
  },
  {
   "cell_type": "code",
   "execution_count": 35,
   "metadata": {},
   "outputs": [
    {
     "data": {
      "text/latex": [
       "$\\displaystyle -1 + \\sqrt{2}$"
      ],
      "text/plain": [
       "-1 + sqrt(2)"
      ]
     },
     "execution_count": 35,
     "metadata": {},
     "output_type": "execute_result"
    }
   ],
   "source": [
    "sympy.simplify(expression)"
   ]
  },
  {
   "cell_type": "markdown",
   "metadata": {},
   "source": [
    "This implies that:\n",
    "\n",
    "\\\\[\n",
    "    \\frac{1}{\\sqrt{2} + 1} = -1 + \\sqrt{2}\n",
    "\\\\]\n",
    "\n",
    "If we muliply both sides by \\\\({\\sqrt{2} + 1}\\\\) we get:\n",
    "\n",
    "\\\\[\n",
    "    1=\\frac{1}{\\sqrt{2} + 1}\\times \\left(\\sqrt{2} + 1\\right) = \\left(-1 + \\sqrt{2}\\right)\\times \\left(\\sqrt{2} + 1\\right)\n",
    "\\\\]\n",
    "\n",
    "The `sympy.simplify` command did not give us much insight in to what happened but we can further confirm that above manipulation by expanding \\\\(\\left(-1 + \\sqrt{2}\\right)\\times \\left(\\sqrt{2} + 1\\right)\\\\). \n",
    "\n",
    "Here is how we do that:"
   ]
  },
  {
   "cell_type": "code",
   "execution_count": 36,
   "metadata": {},
   "outputs": [
    {
     "data": {
      "text/latex": [
       "$\\displaystyle 1$"
      ],
      "text/plain": [
       "1"
      ]
     },
     "execution_count": 36,
     "metadata": {},
     "output_type": "execute_result"
    }
   ],
   "source": [
    "sympy.expand((-1 + sympy.sqrt(2)) * (1 + sympy.sqrt(2)))"
   ]
  },
  {
   "cell_type": "markdown",
   "metadata": {},
   "source": [
    "We see that `sympy` allows us to carry out basic expression manipulation. We will now consider the second part of the question:\n",
    "\n",
    "\n",
    "---\n",
    "\n",
    "2. Consider the quadratic: \\\\(f(x)=2x ^ 2 + x + 1\\\\):\n",
    "  1. Calculate the descriminant of the quadratic equation \\\\(2x ^ 2 + x + 1 =\n",
    "     0\\\\). What does this tell us about the solutions to the equation? What\n",
    "     does this tell us about the graph of \\\\(f(x)\\\\)?\n",
    "  2. By completing the square, show that the minimum point of \\\\(f(x)\\\\) is\n",
    "     \\\\(\\left(-\\frac{1}{4}, \\frac{7}{8}\\right)\\\\)\n",
    "\n",
    "---\n",
    "\n",
    "We will start by reassigning the value of the variable `expression` to be the expression: \\\\(2x ^ 2 + x + 1\\\\)."
   ]
  },
  {
   "cell_type": "code",
   "execution_count": 37,
   "metadata": {},
   "outputs": [
    {
     "data": {
      "text/latex": [
       "$\\displaystyle 2 x^{2} + x + 1$"
      ],
      "text/plain": [
       "2*x**2 + x + 1"
      ]
     },
     "execution_count": 37,
     "metadata": {},
     "output_type": "execute_result"
    }
   ],
   "source": [
    "x = sympy.Symbol(\"x\")\n",
    "expression = 2 * x ** 2 + x + 1\n",
    "expression"
   ]
  },
  {
   "cell_type": "markdown",
   "metadata": {},
   "source": [
    "**Recall** that the `**` symbol is how we communicate exponentiation.\n",
    "\n",
    "**Note** we start by communicating to the code that `x` is going to be a symbolic variable.\n",
    "\n",
    "We can immediately use this to compute the discriminant:"
   ]
  },
  {
   "cell_type": "code",
   "execution_count": 38,
   "metadata": {},
   "outputs": [
    {
     "data": {
      "text/latex": [
       "$\\displaystyle -7$"
      ],
      "text/plain": [
       "-7"
      ]
     },
     "execution_count": 38,
     "metadata": {},
     "output_type": "execute_result"
    }
   ],
   "source": [
    "sympy.discriminant(expression)"
   ]
  },
  {
   "cell_type": "markdown",
   "metadata": {},
   "source": [
    "Now we can complement this with our mathematical knowledge: if a quadratic has a negative descriminant then it does not have any roots and all the values are of the same sign as the coefficient of \\\\(x ^ 2 \\\\). Which in this case is \\\\(2>0\\\\).\n",
    "\n",
    "We can confirm this by directly creating the equation. We do this by creating a variable `equation` and assigning it the equation which has a `lhs` and a `rhs`:"
   ]
  },
  {
   "cell_type": "code",
   "execution_count": 45,
   "metadata": {},
   "outputs": [
    {
     "data": {
      "text/latex": [
       "$\\displaystyle 2 x^{2} + x + 1 = 0$"
      ],
      "text/plain": [
       "Eq(2*x**2 + x + 1, 0)"
      ]
     },
     "execution_count": 45,
     "metadata": {},
     "output_type": "execute_result"
    }
   ],
   "source": [
    "equation = sympy.Eq(lhs=expression, rhs=0)\n",
    "equation"
   ]
  },
  {
   "cell_type": "markdown",
   "metadata": {},
   "source": [
    "and asking Sympy to solve it:"
   ]
  },
  {
   "cell_type": "code",
   "execution_count": 47,
   "metadata": {},
   "outputs": [
    {
     "data": {
      "text/latex": [
       "$\\displaystyle \\left\\{- \\frac{1}{4} - \\frac{\\sqrt{7} i}{4}, - \\frac{1}{4} + \\frac{\\sqrt{7} i}{4}\\right\\}$"
      ],
      "text/plain": [
       "FiniteSet(-1/4 - sqrt(7)*I/4, -1/4 + sqrt(7)*I/4)"
      ]
     },
     "execution_count": 47,
     "metadata": {},
     "output_type": "execute_result"
    }
   ],
   "source": [
    "sympy.solveset(equation)"
   ]
  },
  {
   "cell_type": "markdown",
   "metadata": {},
   "source": [
    "Indeed the only solutions are imaginary numbers: the graph of \\\\(f(x)\\\\) is thus a convex parabola.\n",
    "\n",
    "Let us know complete the square so that we can write:\n",
    "\n",
    "\\\\[\n",
    "    f(x) = a (x - b) ^ 2 + c\n",
    "\\\\]\n",
    "\n",
    "for some values of \\\\(a, b, c\\\\).\n",
    "\n",
    "First let us create variables that have those 3 constants as value but also create a variable `completed_square` and assign it the general expression:"
   ]
  },
  {
   "cell_type": "code",
   "execution_count": 84,
   "metadata": {},
   "outputs": [
    {
     "data": {
      "text/latex": [
       "$\\displaystyle a \\left(- b + x\\right)^{2} + c$"
      ],
      "text/plain": [
       "a*(-b + x)**2 + c"
      ]
     },
     "execution_count": 84,
     "metadata": {},
     "output_type": "execute_result"
    }
   ],
   "source": [
    "a, b, c = sympy.Symbol(\"a\"), sympy.Symbol(\"b\"), sympy.Symbol(\"c\")\n",
    "completed_square = a * (x - b) ** 2 + c\n",
    "completed_square"
   ]
  },
  {
   "cell_type": "markdown",
   "metadata": {},
   "source": [
    "We can expand this:"
   ]
  },
  {
   "cell_type": "code",
   "execution_count": 85,
   "metadata": {},
   "outputs": [
    {
     "data": {
      "text/latex": [
       "$\\displaystyle a b^{2} - 2 a b x + a x^{2} + c$"
      ],
      "text/plain": [
       "a*b**2 - 2*a*b*x + a*x**2 + c"
      ]
     },
     "execution_count": 85,
     "metadata": {},
     "output_type": "execute_result"
    }
   ],
   "source": [
    "sympy.expand(completed_square)"
   ]
  },
  {
   "cell_type": "markdown",
   "metadata": {},
   "source": [
    "We will now use sympy to solve the various equations that arise from comparing the coefficiences of:\n",
    "\n",
    "\\\\[\n",
    "    f(x) = 2x ^2 + x + 1\n",
    "\\\\]\n",
    "\n",
    "with the completed square.\n",
    "\n",
    "First, we see that the coefficient of \\\\(x ^ 2\\\\) gives us a simple equation:\n",
    "\n",
    "\\\\[\n",
    "    a = 2\n",
    "\\\\]\n",
    "\n",
    "For completeness we will write the code that solves this trivial equation:"
   ]
  },
  {
   "cell_type": "code",
   "execution_count": 87,
   "metadata": {},
   "outputs": [
    {
     "data": {
      "text/latex": [
       "$\\displaystyle \\left\\{2\\right\\}$"
      ],
      "text/plain": [
       "FiniteSet(2)"
      ]
     },
     "execution_count": 87,
     "metadata": {},
     "output_type": "execute_result"
    }
   ],
   "source": [
    "equation = sympy.Eq(a, 2)\n",
    "sympy.solveset(equation, a)"
   ]
  },
  {
   "cell_type": "markdown",
   "metadata": {},
   "source": [
    "We will now substitute this value of \\\\(a\\\\) in to the completed square and update the variable with the new value:"
   ]
  },
  {
   "cell_type": "code",
   "execution_count": 89,
   "metadata": {},
   "outputs": [
    {
     "data": {
      "text/latex": [
       "$\\displaystyle c + 2 \\left(- b + x\\right)^{2}$"
      ],
      "text/plain": [
       "c + 2*(-b + x)**2"
      ]
     },
     "execution_count": 89,
     "metadata": {},
     "output_type": "execute_result"
    }
   ],
   "source": [
    "completed_square = completed_square.subs({a: 2})\n",
    "completed_square"
   ]
  },
  {
   "cell_type": "markdown",
   "metadata": {},
   "source": [
    "**Note** the different types of brackets being used there: both `()` and `{}`. This is important and has specific meaning in Python which we will cover soon.\n",
    "\n",
    "Now let us look at the expression with our two remaining constants:"
   ]
  },
  {
   "cell_type": "code",
   "execution_count": 91,
   "metadata": {},
   "outputs": [
    {
     "data": {
      "text/latex": [
       "$\\displaystyle 2 b^{2} - 4 b x + c + 2 x^{2}$"
      ],
      "text/plain": [
       "2*b**2 - 4*b*x + c + 2*x**2"
      ]
     },
     "execution_count": 91,
     "metadata": {},
     "output_type": "execute_result"
    }
   ],
   "source": [
    "sympy.expand(completed_square)"
   ]
  },
  {
   "cell_type": "markdown",
   "metadata": {},
   "source": [
    "Comparing the coefficients of \\\\(x\\\\) we have the equation:\n",
    "    \n",
    "\\\\[\n",
    "  - 4 b = 1  \n",
    "\\\\]"
   ]
  },
  {
   "cell_type": "code",
   "execution_count": 93,
   "metadata": {},
   "outputs": [
    {
     "data": {
      "text/latex": [
       "$\\displaystyle \\left\\{- \\frac{1}{4}\\right\\}$"
      ],
      "text/plain": [
       "FiniteSet(-1/4)"
      ]
     },
     "execution_count": 93,
     "metadata": {},
     "output_type": "execute_result"
    }
   ],
   "source": [
    "equation = sympy.Eq(- 4 * b, 1)\n",
    "sympy.solveset(equation, b)"
   ]
  },
  {
   "cell_type": "markdown",
   "metadata": {},
   "source": [
    "We will now substitute this value of \\\\(b\\\\) back in to our expression.\n",
    "\n",
    "**Note** that we make a point to tell sympy to treat \\\\(1 / 4\\\\) symbolically and to not calculate the numeric value:"
   ]
  },
  {
   "cell_type": "code",
   "execution_count": 94,
   "metadata": {},
   "outputs": [
    {
     "data": {
      "text/latex": [
       "$\\displaystyle c + 2 \\left(x + \\frac{1}{4}\\right)^{2}$"
      ],
      "text/plain": [
       "c + 2*(x + 1/4)**2"
      ]
     },
     "execution_count": 94,
     "metadata": {},
     "output_type": "execute_result"
    }
   ],
   "source": [
    "completed_square = completed_square.subs({b: - 1 / sympy.S(4)})\n",
    "completed_square"
   ]
  },
  {
   "cell_type": "markdown",
   "metadata": {},
   "source": [
    "Expanding this to see our expression with the one remaining constant gives:"
   ]
  },
  {
   "cell_type": "code",
   "execution_count": 95,
   "metadata": {},
   "outputs": [
    {
     "data": {
      "text/latex": [
       "$\\displaystyle c + 2 x^{2} + x + \\frac{1}{8}$"
      ],
      "text/plain": [
       "c + 2*x**2 + x + 1/8"
      ]
     },
     "execution_count": 95,
     "metadata": {},
     "output_type": "execute_result"
    }
   ],
   "source": [
    "sympy.expand(completed_square)"
   ]
  },
  {
   "cell_type": "markdown",
   "metadata": {},
   "source": [
    "We have a final equation for the constant term:\n",
    "\n",
    "\\\\[\n",
    "    c + 1 / 8 = 1\n",
    "\\\\]\n",
    "\n",
    "We will use sympy to find the value of \\\\(c\\\\):"
   ]
  },
  {
   "cell_type": "code",
   "execution_count": 96,
   "metadata": {},
   "outputs": [
    {
     "data": {
      "text/latex": [
       "$\\displaystyle \\left\\{\\frac{7}{8}\\right\\}$"
      ],
      "text/plain": [
       "FiniteSet(7/8)"
      ]
     },
     "execution_count": 96,
     "metadata": {},
     "output_type": "execute_result"
    }
   ],
   "source": [
    "sympy.solveset(sympy.Eq(c + sympy.S(1) / 8, 1), c)"
   ]
  },
  {
   "cell_type": "markdown",
   "metadata": {},
   "source": [
    "As before we will substitute that in and update the value of `completed_square`:"
   ]
  },
  {
   "cell_type": "code",
   "execution_count": 97,
   "metadata": {},
   "outputs": [
    {
     "data": {
      "text/latex": [
       "$\\displaystyle 2 \\left(x + \\frac{1}{4}\\right)^{2} + \\frac{7}{8}$"
      ],
      "text/plain": [
       "2*(x + 1/4)**2 + 7/8"
      ]
     },
     "execution_count": 97,
     "metadata": {},
     "output_type": "execute_result"
    }
   ],
   "source": [
    "completed_square = completed_square.subs({c: 7 / sympy.S(8)})\n",
    "completed_square"
   ]
  },
  {
   "cell_type": "markdown",
   "metadata": {},
   "source": [
    "Using this we can see that the there are indeed no values of \\\\(x\\\\) which give negative values of \\\\(f(x)\\\\) as \\\\(f(x)\\\\) is a square added to a constant.\n",
    "\n",
    "The minimum is clearly when \\\\(x=-1/4\\\\) which gives: \\\\(f(-1/4)=7/8\\\\):"
   ]
  },
  {
   "cell_type": "code",
   "execution_count": 98,
   "metadata": {},
   "outputs": [
    {
     "data": {
      "text/latex": [
       "$\\displaystyle \\frac{7}{8}$"
      ],
      "text/plain": [
       "7/8"
      ]
     },
     "execution_count": 98,
     "metadata": {},
     "output_type": "execute_result"
    }
   ],
   "source": [
    "completed_square.subs({x: - 1 / sympy.S(4)})"
   ]
  },
  {
   "cell_type": "markdown",
   "metadata": {},
   "source": [
    "### How To\n",
    "\n",
    "\n",
    "#### How to create a symbolic numeric value\n",
    "\n",
    "#### How to factor an expression\n",
    "\n",
    "#### How to expand an expression\n",
    "\n",
    "#### How to simplify an expression\n",
    "\n",
    "#### How to solve an equation\n",
    "\n",
    "#### How to substitute a value in to an expression\n",
    "\n",
    "#### How to get the numerical value of a symbolic expression"
   ]
  },
  {
   "cell_type": "markdown",
   "metadata": {},
   "source": [
    "### Exercises"
   ]
  },
  {
   "cell_type": "markdown",
   "metadata": {},
   "source": [
    "### Reference\n",
    "\n",
    "\n",
    "#### Why do we need to use sympy?\n",
    "\n",
    "#### Why is some code in separate libraries?\n",
    "\n",
    "#### Why do I sometimes see `import sympy as sym`?\n",
    "\n",
    "#### Are there other resources for learning sympy?\n",
    "\n",
    "#### Why do I sometimes see `from sympy import *`?"
   ]
  }
 ],
 "metadata": {
  "jupytext": {
   "formats": "ipynb,md"
  },
  "kernelspec": {
   "display_name": "Python 3",
   "language": "python",
   "name": "python3"
  },
  "language_info": {
   "codemirror_mode": {
    "name": "ipython",
    "version": 3
   },
   "file_extension": ".py",
   "mimetype": "text/x-python",
   "name": "python",
   "nbconvert_exporter": "python",
   "pygments_lexer": "ipython3",
   "version": "3.8.3"
  }
 },
 "nbformat": 4,
 "nbformat_minor": 4
}
