{
 "cells": [
  {
   "cell_type": "markdown",
   "metadata": {},
   "source": [
    "## Algebra\n",
    "\n",
    "### Introduction\n",
    "\n",
    "As of 2020, the A-level syllabus includes Algebra which\n",
    "https://www.cambridgeinternational.org/Images/415060-2020-2022-syllabus.pdf\n",
    "describes as:\n",
    "\n",
    "> Algebra: this is an essential tool which supports and expresses mathematical\n",
    "> reasoning and provides a means to generalise across a number of contexts.\n",
    "\n",
    "In practice this often means:\n",
    "\n",
    "- Manipulating numeric expressions;\n",
    "- Manipulating symbolic expressions;\n",
    "- Solving equations.\n",
    "\n",
    "We can use a computer to carry out some of these techniques.\n",
    "\n",
    "## Tutorial\n",
    "\n",
    "To demonstrate the ways in which we can use a computer to assist with Algebra we\n",
    "will solve the following two problems:\n",
    "\n",
    "---\n",
    "\n",
    "1. Rationalise the denominator of \\\\(\\frac{1}{\\sqrt{2} + 1}\\\\)\n",
    "2. Consider the quadratic: \\\\(f(x)=2x ^ 2 + x + 1\\\\):\n",
    "  1. Calculate the descriminant of the quadratic equation \\\\(2x ^ 2 + x + 1 =\n",
    "     0\\\\). What does this tell us about the solutions to the equation? What\n",
    "     does this tell us about the graph of \\\\(f(x)\\\\)?\n",
    "  2. By completing the square, show that the minimum point of \\\\(f(x)\\\\) is\n",
    "     \\\\(\\left(-\\frac{1}{4}, \\frac{7}{8}\\right)\\\\)\n",
    "\n",
    "---\n",
    "\n",
    "To do this we will be using a specific collections of tools available in Python.\n",
    "Often specific sets of tools are separated in to things called **libraries**. We\n",
    "start by telling Python that we want to use the specific library for **symbolic\n",
    "mathematics**:"
   ]
  },
  {
   "cell_type": "code",
   "execution_count": 1,
   "metadata": {},
   "outputs": [],
   "source": [
    "import sympy"
   ]
  },
  {
   "cell_type": "markdown",
   "metadata": {},
   "source": [
    "This allows us to solve the first part of the question. First we create a variable `expression` and **assign** it a value of \\\\(\\frac{1}{\\sqrt{2} + 1}\\\\)."
   ]
  },
  {
   "cell_type": "code",
   "execution_count": 2,
   "metadata": {
    "lines_to_next_cell": 2
   },
   "outputs": [
    {
     "data": {
      "text/latex": [
       "$\\displaystyle \\frac{1}{1 + \\sqrt{2}}$"
      ],
      "text/plain": [
       "1/(1 + sqrt(2))"
      ]
     },
     "execution_count": 2,
     "metadata": {},
     "output_type": "execute_result"
    }
   ],
   "source": [
    "expression = 1 / (sympy.sqrt(2) + 1)\n",
    "expression"
   ]
  },
  {
   "cell_type": "markdown",
   "metadata": {},
   "source": [
    "**Note** that this is not what would happen if we plugged the above in to a basic calculator, it would instead give us a value of:"
   ]
  },
  {
   "cell_type": "code",
   "execution_count": 3,
   "metadata": {},
   "outputs": [
    {
     "data": {
      "text/plain": [
       "0.41421356237309503"
      ]
     },
     "execution_count": 3,
     "metadata": {},
     "output_type": "execute_result"
    }
   ],
   "source": [
    "float(expression)"
   ]
  },
  {
   "cell_type": "markdown",
   "metadata": {},
   "source": [
    "The `sympy` library has a diverse set of tools available, one of which is to\n",
    "algorithmically attempt to simplify an expression. Here is how we do that:"
   ]
  },
  {
   "cell_type": "code",
   "execution_count": 4,
   "metadata": {},
   "outputs": [
    {
     "data": {
      "text/latex": [
       "$\\displaystyle -1 + \\sqrt{2}$"
      ],
      "text/plain": [
       "-1 + sqrt(2)"
      ]
     },
     "execution_count": 4,
     "metadata": {},
     "output_type": "execute_result"
    }
   ],
   "source": [
    "sympy.simplify(expression)"
   ]
  },
  {
   "cell_type": "markdown",
   "metadata": {},
   "source": [
    "This implies that:\n",
    "\n",
    "\\\\[\n",
    "    \\frac{1}{\\sqrt{2} + 1} = -1 + \\sqrt{2}\n",
    "\\\\]\n",
    "\n",
    "If we multiply both sides by \\\\({\\sqrt{2} + 1}\\\\) we get:\n",
    "\n",
    "\\\\[\n",
    "    1=\\frac{1}{\\sqrt{2} + 1}\\times \\left(\\sqrt{2} + 1\\right) = \\left(-1 + \\sqrt{2}\\right)\\times \\left(\\sqrt{2} + 1\\right)\n",
    "\\\\]\n",
    "\n",
    "The `sympy.simplify` command did not give us much insight in to what happened but we can further confirm that above manipulation by expanding \\\\(\\left(-1 + \\sqrt{2}\\right)\\times \\left(\\sqrt{2} + 1\\right)\\\\). \n",
    "\n",
    "Here is how we do that:"
   ]
  },
  {
   "cell_type": "code",
   "execution_count": 5,
   "metadata": {},
   "outputs": [
    {
     "data": {
      "text/latex": [
       "$\\displaystyle 1$"
      ],
      "text/plain": [
       "1"
      ]
     },
     "execution_count": 5,
     "metadata": {},
     "output_type": "execute_result"
    }
   ],
   "source": [
    "sympy.expand((-1 + sympy.sqrt(2)) * (1 + sympy.sqrt(2)))"
   ]
  },
  {
   "cell_type": "markdown",
   "metadata": {},
   "source": [
    "We see that `sympy` allows us to carry out basic expression manipulation. We will now consider the second part of the question:\n",
    "\n",
    "\n",
    "---\n",
    "\n",
    "2. Consider the quadratic: \\\\(f(x)=2x ^ 2 + x + 1\\\\):\n",
    "  1. Calculate the descriminant of the quadratic equation \\\\(2x ^ 2 + x + 1 =\n",
    "     0\\\\). What does this tell us about the solutions to the equation? What\n",
    "     does this tell us about the graph of \\\\(f(x)\\\\)?\n",
    "  2. By completing the square, show that the minimum point of \\\\(f(x)\\\\) is\n",
    "     \\\\(\\left(-\\frac{1}{4}, \\frac{7}{8}\\right)\\\\)\n",
    "\n",
    "---\n",
    "\n",
    "We will start by reassigning the value of the variable `expression` to be the expression: \\\\(2x ^ 2 + x + 1\\\\)."
   ]
  },
  {
   "cell_type": "code",
   "execution_count": 6,
   "metadata": {},
   "outputs": [
    {
     "data": {
      "text/latex": [
       "$\\displaystyle 2 x^{2} + x + 1$"
      ],
      "text/plain": [
       "2*x**2 + x + 1"
      ]
     },
     "execution_count": 6,
     "metadata": {},
     "output_type": "execute_result"
    }
   ],
   "source": [
    "x = sympy.Symbol(\"x\")\n",
    "expression = 2 * x ** 2 + x + 1\n",
    "expression"
   ]
  },
  {
   "cell_type": "markdown",
   "metadata": {},
   "source": [
    "**Recall** that the `**` symbol is how we communicate exponentiation.\n",
    "\n",
    "**Note** we start by communicating to the code that `x` is going to be a symbolic variable.\n",
    "\n",
    "We can immediately use this to compute the discriminant:"
   ]
  },
  {
   "cell_type": "code",
   "execution_count": 7,
   "metadata": {},
   "outputs": [
    {
     "data": {
      "text/latex": [
       "$\\displaystyle -7$"
      ],
      "text/plain": [
       "-7"
      ]
     },
     "execution_count": 7,
     "metadata": {},
     "output_type": "execute_result"
    }
   ],
   "source": [
    "sympy.discriminant(expression)"
   ]
  },
  {
   "cell_type": "markdown",
   "metadata": {},
   "source": [
    "Now we can complement this with our mathematical knowledge: if a quadratic has a negative descriminant then it does not have any roots and all the values are of the same sign as the coefficient of \\\\(x ^ 2 \\\\). Which in this case is \\\\(2>0\\\\).\n",
    "\n",
    "We can confirm this by directly creating the equation. We do this by creating a variable `equation` and assigning it the equation which has a `lhs` and a `rhs`:"
   ]
  },
  {
   "cell_type": "code",
   "execution_count": 8,
   "metadata": {},
   "outputs": [
    {
     "data": {
      "text/latex": [
       "$\\displaystyle 2 x^{2} + x + 1 = 0$"
      ],
      "text/plain": [
       "Eq(2*x**2 + x + 1, 0)"
      ]
     },
     "execution_count": 8,
     "metadata": {},
     "output_type": "execute_result"
    }
   ],
   "source": [
    "equation = sympy.Eq(lhs=expression, rhs=0)\n",
    "equation"
   ]
  },
  {
   "cell_type": "markdown",
   "metadata": {},
   "source": [
    "and asking Sympy to solve it:"
   ]
  },
  {
   "cell_type": "code",
   "execution_count": 9,
   "metadata": {},
   "outputs": [
    {
     "data": {
      "text/latex": [
       "$\\displaystyle \\left\\{- \\frac{1}{4} - \\frac{\\sqrt{7} i}{4}, - \\frac{1}{4} + \\frac{\\sqrt{7} i}{4}\\right\\}$"
      ],
      "text/plain": [
       "FiniteSet(-1/4 - sqrt(7)*I/4, -1/4 + sqrt(7)*I/4)"
      ]
     },
     "execution_count": 9,
     "metadata": {},
     "output_type": "execute_result"
    }
   ],
   "source": [
    "sympy.solveset(equation)"
   ]
  },
  {
   "cell_type": "markdown",
   "metadata": {},
   "source": [
    "Indeed the only solutions are imaginary numbers: the graph of \\\\(f(x)\\\\) is thus a convex parabola.\n",
    "\n",
    "Let us know complete the square so that we can write:\n",
    "\n",
    "\\\\[\n",
    "    f(x) = a (x - b) ^ 2 + c\n",
    "\\\\]\n",
    "\n",
    "for some values of \\\\(a, b, c\\\\).\n",
    "\n",
    "First let us create variables that have those 3 constants as value but also create a variable `completed_square` and assign it the general expression:"
   ]
  },
  {
   "cell_type": "code",
   "execution_count": 10,
   "metadata": {},
   "outputs": [
    {
     "data": {
      "text/latex": [
       "$\\displaystyle a \\left(- b + x\\right)^{2} + c$"
      ],
      "text/plain": [
       "a*(-b + x)**2 + c"
      ]
     },
     "execution_count": 10,
     "metadata": {},
     "output_type": "execute_result"
    }
   ],
   "source": [
    "a, b, c = sympy.Symbol(\"a\"), sympy.Symbol(\"b\"), sympy.Symbol(\"c\")\n",
    "completed_square = a * (x - b) ** 2 + c\n",
    "completed_square"
   ]
  },
  {
   "cell_type": "markdown",
   "metadata": {},
   "source": [
    "We can expand this:"
   ]
  },
  {
   "cell_type": "code",
   "execution_count": 11,
   "metadata": {},
   "outputs": [
    {
     "data": {
      "text/latex": [
       "$\\displaystyle a b^{2} - 2 a b x + a x^{2} + c$"
      ],
      "text/plain": [
       "a*b**2 - 2*a*b*x + a*x**2 + c"
      ]
     },
     "execution_count": 11,
     "metadata": {},
     "output_type": "execute_result"
    }
   ],
   "source": [
    "sympy.expand(completed_square)"
   ]
  },
  {
   "cell_type": "markdown",
   "metadata": {},
   "source": [
    "We will now use sympy to solve the various equations that arise from comparing the coefficients of:\n",
    "\n",
    "\\\\[\n",
    "    f(x) = 2x ^2 + x + 1\n",
    "\\\\]\n",
    "\n",
    "with the completed square.\n",
    "\n",
    "First, we see that the coefficient of \\\\(x ^ 2\\\\) gives us a simple equation:\n",
    "\n",
    "\\\\[\n",
    "    a = 2\n",
    "\\\\]\n",
    "\n",
    "For completeness we will write the code that solves this trivial equation:"
   ]
  },
  {
   "cell_type": "code",
   "execution_count": 12,
   "metadata": {},
   "outputs": [
    {
     "data": {
      "text/latex": [
       "$\\displaystyle \\left\\{2\\right\\}$"
      ],
      "text/plain": [
       "FiniteSet(2)"
      ]
     },
     "execution_count": 12,
     "metadata": {},
     "output_type": "execute_result"
    }
   ],
   "source": [
    "equation = sympy.Eq(a, 2)\n",
    "sympy.solveset(equation, a)"
   ]
  },
  {
   "cell_type": "markdown",
   "metadata": {},
   "source": [
    "We will now substitute this value of \\\\(a\\\\) in to the completed square and update the variable with the new value:"
   ]
  },
  {
   "cell_type": "code",
   "execution_count": 13,
   "metadata": {},
   "outputs": [
    {
     "data": {
      "text/latex": [
       "$\\displaystyle c + 2 \\left(- b + x\\right)^{2}$"
      ],
      "text/plain": [
       "c + 2*(-b + x)**2"
      ]
     },
     "execution_count": 13,
     "metadata": {},
     "output_type": "execute_result"
    }
   ],
   "source": [
    "completed_square = completed_square.subs({a: 2})\n",
    "completed_square"
   ]
  },
  {
   "cell_type": "markdown",
   "metadata": {},
   "source": [
    "**Note** the different types of brackets being used there: both `()` and `{}`. This is important and has specific meaning in Python which we will cover soon.\n",
    "\n",
    "Now let us look at the expression with our two remaining constants:"
   ]
  },
  {
   "cell_type": "code",
   "execution_count": 14,
   "metadata": {},
   "outputs": [
    {
     "data": {
      "text/latex": [
       "$\\displaystyle 2 b^{2} - 4 b x + c + 2 x^{2}$"
      ],
      "text/plain": [
       "2*b**2 - 4*b*x + c + 2*x**2"
      ]
     },
     "execution_count": 14,
     "metadata": {},
     "output_type": "execute_result"
    }
   ],
   "source": [
    "sympy.expand(completed_square)"
   ]
  },
  {
   "cell_type": "markdown",
   "metadata": {},
   "source": [
    "Comparing the coefficients of \\\\(x\\\\) we have the equation:\n",
    "    \n",
    "\\\\[\n",
    "  - 4 b = 1  \n",
    "\\\\]"
   ]
  },
  {
   "cell_type": "code",
   "execution_count": 15,
   "metadata": {},
   "outputs": [
    {
     "data": {
      "text/latex": [
       "$\\displaystyle \\left\\{- \\frac{1}{4}\\right\\}$"
      ],
      "text/plain": [
       "FiniteSet(-1/4)"
      ]
     },
     "execution_count": 15,
     "metadata": {},
     "output_type": "execute_result"
    }
   ],
   "source": [
    "equation = sympy.Eq(-4 * b, 1)\n",
    "sympy.solveset(equation, b)"
   ]
  },
  {
   "cell_type": "markdown",
   "metadata": {},
   "source": [
    "We will now substitute this value of \\\\(b\\\\) back in to our expression.\n",
    "\n",
    "**Note** that we make a point to tell sympy to treat \\\\(1 / 4\\\\) symbolically and to not calculate the numeric value:"
   ]
  },
  {
   "cell_type": "code",
   "execution_count": 16,
   "metadata": {},
   "outputs": [
    {
     "data": {
      "text/latex": [
       "$\\displaystyle c + 2 \\left(x + \\frac{1}{4}\\right)^{2}$"
      ],
      "text/plain": [
       "c + 2*(x + 1/4)**2"
      ]
     },
     "execution_count": 16,
     "metadata": {},
     "output_type": "execute_result"
    }
   ],
   "source": [
    "completed_square = completed_square.subs({b: -1 / sympy.S(4)})\n",
    "completed_square"
   ]
  },
  {
   "cell_type": "markdown",
   "metadata": {},
   "source": [
    "Expanding this to see our expression with the one remaining constant gives:"
   ]
  },
  {
   "cell_type": "code",
   "execution_count": 17,
   "metadata": {},
   "outputs": [
    {
     "data": {
      "text/latex": [
       "$\\displaystyle c + 2 x^{2} + x + \\frac{1}{8}$"
      ],
      "text/plain": [
       "c + 2*x**2 + x + 1/8"
      ]
     },
     "execution_count": 17,
     "metadata": {},
     "output_type": "execute_result"
    }
   ],
   "source": [
    "sympy.expand(completed_square)"
   ]
  },
  {
   "cell_type": "markdown",
   "metadata": {},
   "source": [
    "We have a final equation for the constant term:\n",
    "\n",
    "\\\\[\n",
    "    c + 1 / 8 = 1\n",
    "\\\\]\n",
    "\n",
    "We will use sympy to find the value of \\\\(c\\\\):"
   ]
  },
  {
   "cell_type": "code",
   "execution_count": 18,
   "metadata": {},
   "outputs": [
    {
     "data": {
      "text/latex": [
       "$\\displaystyle \\left\\{\\frac{7}{8}\\right\\}$"
      ],
      "text/plain": [
       "FiniteSet(7/8)"
      ]
     },
     "execution_count": 18,
     "metadata": {},
     "output_type": "execute_result"
    }
   ],
   "source": [
    "sympy.solveset(sympy.Eq(c + sympy.S(1) / 8, 1), c)"
   ]
  },
  {
   "cell_type": "markdown",
   "metadata": {},
   "source": [
    "As before we will substitute that in and update the value of `completed_square`:"
   ]
  },
  {
   "cell_type": "code",
   "execution_count": 19,
   "metadata": {},
   "outputs": [
    {
     "data": {
      "text/latex": [
       "$\\displaystyle 2 \\left(x + \\frac{1}{4}\\right)^{2} + \\frac{7}{8}$"
      ],
      "text/plain": [
       "2*(x + 1/4)**2 + 7/8"
      ]
     },
     "execution_count": 19,
     "metadata": {},
     "output_type": "execute_result"
    }
   ],
   "source": [
    "completed_square = completed_square.subs({c: 7 / sympy.S(8)})\n",
    "completed_square"
   ]
  },
  {
   "cell_type": "markdown",
   "metadata": {},
   "source": [
    "Using this we can see that the there are indeed no values of \\\\(x\\\\) which give negative values of \\\\(f(x)\\\\) as \\\\(f(x)\\\\) is a square added to a constant.\n",
    "\n",
    "The minimum is clearly when \\\\(x=-1/4\\\\) which gives: \\\\(f(-1/4)=7/8\\\\):"
   ]
  },
  {
   "cell_type": "code",
   "execution_count": 20,
   "metadata": {},
   "outputs": [
    {
     "data": {
      "text/latex": [
       "$\\displaystyle \\frac{7}{8}$"
      ],
      "text/plain": [
       "7/8"
      ]
     },
     "execution_count": 20,
     "metadata": {},
     "output_type": "execute_result"
    }
   ],
   "source": [
    "completed_square.subs({x: -1 / sympy.S(4)})"
   ]
  },
  {
   "cell_type": "markdown",
   "metadata": {},
   "source": [
    "### How To\n",
    "\n",
    "\n",
    "#### How to create a symbolic numeric value\n",
    "\n",
    "To create a symbolic numerical value use `sympy.S`. For example:"
   ]
  },
  {
   "cell_type": "code",
   "execution_count": 21,
   "metadata": {},
   "outputs": [
    {
     "data": {
      "text/latex": [
       "$\\displaystyle 3$"
      ],
      "text/plain": [
       "3"
      ]
     },
     "execution_count": 21,
     "metadata": {},
     "output_type": "execute_result"
    }
   ],
   "source": [
    "value = sympy.S(3)\n",
    "value"
   ]
  },
  {
   "cell_type": "markdown",
   "metadata": {},
   "source": [
    "Note that if we combine a symbolic value with a non symbolic value it will automatically give a symbolic value:"
   ]
  },
  {
   "cell_type": "code",
   "execution_count": 22,
   "metadata": {},
   "outputs": [
    {
     "data": {
      "text/latex": [
       "$\\displaystyle \\frac{1}{3}$"
      ],
      "text/plain": [
       "1/3"
      ]
     },
     "execution_count": 22,
     "metadata": {},
     "output_type": "execute_result"
    }
   ],
   "source": [
    "1 / value"
   ]
  },
  {
   "cell_type": "markdown",
   "metadata": {},
   "source": [
    "#### How to get the numerical value of a symbolic expression\n",
    "\n",
    "We can get the numerical value of a symbolic value using `float` or `int`:\n",
    "\n",
    "- `float` will give the numeric approximation in \\\\(\\mathbb{R}\\\\)\n",
    "- `int` will give the integer value\n",
    "\n",
    "For example, let us create a symbolic numeric variable with value \\\\(\\frac{1}{5}\\\\):"
   ]
  },
  {
   "cell_type": "code",
   "execution_count": 23,
   "metadata": {},
   "outputs": [
    {
     "data": {
      "text/latex": [
       "$\\displaystyle \\frac{1}{5}$"
      ],
      "text/plain": [
       "1/5"
      ]
     },
     "execution_count": 23,
     "metadata": {},
     "output_type": "execute_result"
    }
   ],
   "source": [
    "value = 1 / sympy.S(5)\n",
    "value"
   ]
  },
  {
   "cell_type": "markdown",
   "metadata": {},
   "source": [
    "To get the numerical value:"
   ]
  },
  {
   "cell_type": "code",
   "execution_count": 24,
   "metadata": {},
   "outputs": [
    {
     "data": {
      "text/plain": [
       "0.2"
      ]
     },
     "execution_count": 24,
     "metadata": {},
     "output_type": "execute_result"
    }
   ],
   "source": [
    "float(value)"
   ]
  },
  {
   "cell_type": "markdown",
   "metadata": {},
   "source": [
    "If we wanted the integer value:"
   ]
  },
  {
   "cell_type": "code",
   "execution_count": 25,
   "metadata": {},
   "outputs": [
    {
     "data": {
      "text/plain": [
       "0"
      ]
     },
     "execution_count": 25,
     "metadata": {},
     "output_type": "execute_result"
    }
   ],
   "source": [
    "int(value)"
   ]
  },
  {
   "cell_type": "markdown",
   "metadata": {},
   "source": [
    "**Note** this is not rounding to the nearest integer. It is returning the integer part."
   ]
  },
  {
   "cell_type": "markdown",
   "metadata": {},
   "source": [
    "#### How to factor an expression\n",
    "\n",
    "We use the `sympy.factor` tool to factor expressions:"
   ]
  },
  {
   "cell_type": "code",
   "execution_count": 26,
   "metadata": {},
   "outputs": [
    {
     "data": {
      "text/latex": [
       "$\\displaystyle \\left(x - 3\\right) \\left(x + 3\\right)$"
      ],
      "text/plain": [
       "(x - 3)*(x + 3)"
      ]
     },
     "execution_count": 26,
     "metadata": {},
     "output_type": "execute_result"
    }
   ],
   "source": [
    "sympy.factor(x ** 2 - 9)"
   ]
  },
  {
   "cell_type": "markdown",
   "metadata": {},
   "source": [
    "#### How to expand an expression\n",
    "\n",
    "We use the `sympy.expand` tool to expand expressions:"
   ]
  },
  {
   "cell_type": "code",
   "execution_count": 27,
   "metadata": {},
   "outputs": [
    {
     "data": {
      "text/latex": [
       "$\\displaystyle x^{2} - 9$"
      ],
      "text/plain": [
       "x**2 - 9"
      ]
     },
     "execution_count": 27,
     "metadata": {},
     "output_type": "execute_result"
    }
   ],
   "source": [
    "sympy.expand((x - 3) * (x + 3))"
   ]
  },
  {
   "cell_type": "markdown",
   "metadata": {},
   "source": [
    "#### How to simplify an expression\n",
    "\n",
    "We use the `sympy.simplify` tool to simplify an expression. "
   ]
  },
  {
   "cell_type": "code",
   "execution_count": 28,
   "metadata": {},
   "outputs": [
    {
     "data": {
      "text/latex": [
       "$\\displaystyle x^{2} - 9$"
      ],
      "text/plain": [
       "x**2 - 9"
      ]
     },
     "execution_count": 28,
     "metadata": {},
     "output_type": "execute_result"
    }
   ],
   "source": [
    "sympy.simplify((x - 3) * (x + 3))"
   ]
  },
  {
   "cell_type": "markdown",
   "metadata": {},
   "source": [
    "**Note** this will not always give the expected (or any) result. At times it could be more beneficial to use `sympy.expand` and/or `sympy.factor`."
   ]
  },
  {
   "cell_type": "markdown",
   "metadata": {},
   "source": [
    "#### How to solve an equation\n",
    "\n",
    "We use the `sympy.solveset` tool to solve an equation. It takes two values as inputs. The first is either:\n",
    "\n",
    "- An expression for which a root is to be found\n",
    "- An equation\n",
    "\n",
    "The second is the variable we want to solve for. \n",
    "\n",
    "Here is how we can use Sympy to obtain the roots of the general quadratic:\n",
    "\n",
    "\\\\[\n",
    "    a x ^ 2 + bx + c\n",
    "\\\\]"
   ]
  },
  {
   "cell_type": "code",
   "execution_count": 29,
   "metadata": {},
   "outputs": [
    {
     "data": {
      "text/latex": [
       "$\\displaystyle \\left\\{- \\frac{b}{2 a} - \\frac{\\sqrt{- 4 a c + b^{2}}}{2 a}, - \\frac{b}{2 a} + \\frac{\\sqrt{- 4 a c + b^{2}}}{2 a}\\right\\}$"
      ],
      "text/plain": [
       "FiniteSet(-b/(2*a) - sqrt(-4*a*c + b**2)/(2*a), -b/(2*a) + sqrt(-4*a*c + b**2)/(2*a))"
      ]
     },
     "execution_count": 29,
     "metadata": {},
     "output_type": "execute_result"
    }
   ],
   "source": [
    "quadratic = a * x ** 2 + b * x + c\n",
    "sympy.solveset(quadratic, x)"
   ]
  },
  {
   "cell_type": "markdown",
   "metadata": {},
   "source": [
    "Here is how we would solve the same equation but not for \\\\(x\\\\) but for \\\\(b\\\\):"
   ]
  },
  {
   "cell_type": "code",
   "execution_count": 30,
   "metadata": {},
   "outputs": [
    {
     "data": {
      "text/latex": [
       "$\\displaystyle \\left\\{- \\frac{a x^{2} + c}{x}\\right\\}$"
      ],
      "text/plain": [
       "FiniteSet(-(a*x**2 + c)/x)"
      ]
     },
     "execution_count": 30,
     "metadata": {},
     "output_type": "execute_result"
    }
   ],
   "source": [
    "sympy.solveset(quadratic, b)"
   ]
  },
  {
   "cell_type": "markdown",
   "metadata": {},
   "source": [
    "It is however clearer to specifically write the equation that we want to solve:"
   ]
  },
  {
   "cell_type": "code",
   "execution_count": 31,
   "metadata": {},
   "outputs": [
    {
     "data": {
      "text/latex": [
       "$\\displaystyle \\left\\{- \\frac{b}{2 a} - \\frac{\\sqrt{- 4 a c + b^{2}}}{2 a}, - \\frac{b}{2 a} + \\frac{\\sqrt{- 4 a c + b^{2}}}{2 a}\\right\\}$"
      ],
      "text/plain": [
       "FiniteSet(-b/(2*a) - sqrt(-4*a*c + b**2)/(2*a), -b/(2*a) + sqrt(-4*a*c + b**2)/(2*a))"
      ]
     },
     "execution_count": 31,
     "metadata": {},
     "output_type": "execute_result"
    }
   ],
   "source": [
    "equation = sympy.Eq(a * x ** 2 + b * x + c, 0)\n",
    "sympy.solveset(equation, x)"
   ]
  },
  {
   "cell_type": "markdown",
   "metadata": {},
   "source": [
    "#### How to substitute a value in to an expression\n",
    "\n",
    "Given a Sympy expression it is possible to substite values in to it using the `.subs()` tool. This takes the variables and their values in the following format:\n",
    "\n",
    "```python\n",
    "expression.subs({variable: value})\n",
    "```\n",
    "\n",
    "Note that it is possible to pass multiple variables at a time.\n",
    "\n",
    "For example we can substitute the values for \\\\(a, b, c\\\\) in to our quadratic:"
   ]
  },
  {
   "cell_type": "code",
   "execution_count": 32,
   "metadata": {},
   "outputs": [
    {
     "data": {
      "text/latex": [
       "$\\displaystyle x^{2} + \\frac{7 x}{8}$"
      ],
      "text/plain": [
       "x**2 + 7*x/8"
      ]
     },
     "execution_count": 32,
     "metadata": {},
     "output_type": "execute_result"
    }
   ],
   "source": [
    "quadratic = a * x ** 2 + b * x + c\n",
    "quadratic.subs({a: 1, b: sympy.S(7) / 8, c: 0})"
   ]
  },
  {
   "cell_type": "markdown",
   "metadata": {},
   "source": [
    "### Exercises\n",
    "\n",
    "**After** completing the tutorial attempt the following exercises.\n",
    "\n",
    "**If you are not sure how to do something, have a look at the \"How To\" section.**\n",
    "\n",
    "1. Simplify the following expressions:\n",
    "    1. \\\\(\\frac{3}{\\sqrt{3}}\\\\)\n",
    "    2. \\\\(\\frac{2 ^ {78}}{2 ^ {12}2^{-32}}\\\\)\n",
    "    3. \\\\(8^0\\\\)\n",
    "    4. \\\\(a^4b^{-2}+a^{3}b^{2}+a^{4}b^0\\\\)\n",
    "2. Solve the following equations:\n",
    "    1. \\\\(x + 3 = -1\\\\)\n",
    "    2. \\\\(3 x ^ 2 - 2 x = 5\\\\)\n",
    "    3. \\\\(x (x - 1) (x + 3) = 0\\\\)\n",
    "    4. \\\\(4 x ^3 + 7x - 24 = 1\\\\)\n",
    "3. Consider the equation: \\\\(x ^ 2 + 4 - y = \\frac{1}{y}\\\\):\n",
    "    1. Find the solution to this equation for \\\\(x\\\\).\n",
    "    2. Obtain the specific solution when \\\\(y = 5\\\\). Do this in two ways: subsitute the value in to your equation and substitue the value in to your solution.\n",
    "4. Consider the quadratic: \\\\(f(x)=4x ^ 2 + 16x + 25\\\\):\n",
    "  1. Calculate the descriminant of the quadratic equation \\\\(4x ^ 2 + 16x + 25 =\n",
    "     0\\\\). What does this tell us about the solutions to the equation? What\n",
    "     does this tell us about the graph of \\\\(f(x)\\\\)?\n",
    "  2. By completing the square, show that the minimum point of \\\\(f(x)\\\\) is\n",
    "     \\\\(\\left(-2, 9\\right)\\\\)\n",
    "5. Consider the quadratic: \\\\(f(x)=-3x ^ 2 + 24x - 97\\\\):\n",
    "  1. Calculate the descriminant of the quadratic equation \\\\(-3x ^ 2 + 24x - 97 =\n",
    "     0\\\\). What does this tell us about the solutions to the equation? What\n",
    "     does this tell us about the graph of \\\\(f(x)\\\\)?\n",
    "  2. By completing the square, show that the minimum point of \\\\(f(x)\\\\) is\n",
    "     \\\\(\\left(4, -97\\right)\\\\)\n",
    "6. Consider the function \\\\(f(x) = x^ 2 +ax + b\\\\).\n",
    "  1. Given that \\\\(f(0) = 0\\\\) and \\\\(f(3) = 0\\\\) obtain the values of \\\\(a\\\\) and \\\\(b\\\\).\n",
    "  2. By completing the square confirm that graph of \\\\(f(x)\\\\) has a line of symmetry at \\\\(x=\\frac{3}{2}\\\\)"
   ]
  },
  {
   "cell_type": "markdown",
   "metadata": {},
   "source": [
    "### Reference\n",
    "\n",
    "\n",
    "#### Why is some code in separate libraries?\n",
    "\n",
    "When we run the `import sympy` command we are telling Python that we want to use a specific set of tools. We will see other examples of this throughout this course.\n",
    "\n",
    "One of the advantages of having code in libraries is that it is more efficient for Python to only use what is needed.\n",
    "\n",
    "There are two types of Python libraries:\n",
    "\n",
    "- Those that are part of the so called \"standard library\": these are part of Python itself.\n",
    "- Those that are completely seperate: Sympy is one such example of this.\n",
    "\n",
    "This seperation allows for the development of tools to be not dependent on each others. The developers of Sympy do not need to coordinate with the developers of Python to make new releases of the software.\n",
    "\n",
    "#### Why do we need to use sympy?\n",
    "\n",
    "Sympt is the library for symbolic mathematics. There are other python libraries for carrying out mathematics in Python.\n",
    "\n",
    "For example, let us compute the value of the following expression:\n",
    "\n",
    "\\\\[\n",
    "    (\\sqrt{2} + 2) ^ 2 - 2\n",
    "\\\\]\n",
    "\n",
    "We could compute this using the `math` library (for the square root tool):"
   ]
  },
  {
   "cell_type": "code",
   "execution_count": 33,
   "metadata": {},
   "outputs": [
    {
     "data": {
      "text/plain": [
       "9.65685424949238"
      ]
     },
     "execution_count": 33,
     "metadata": {},
     "output_type": "execute_result"
    }
   ],
   "source": [
    "import math\n",
    "\n",
    "(math.sqrt(2) + 2) ** 2 - 2"
   ]
  },
  {
   "cell_type": "markdown",
   "metadata": {},
   "source": [
    "We could also make use of the fact that we do not need a square root tool at all:\n",
    "\n",
    "\\\\[\n",
    "    (\\sqrt{2} + 2) ^ 2 - 2 = (2 ^ {1 / 2} + 2) ^ 2 - 2\n",
    "\\\\]"
   ]
  },
  {
   "cell_type": "code",
   "execution_count": 34,
   "metadata": {},
   "outputs": [
    {
     "data": {
      "text/plain": [
       "9.65685424949238"
      ]
     },
     "execution_count": 34,
     "metadata": {},
     "output_type": "execute_result"
    }
   ],
   "source": [
    "(2 ** (1 / 2) + 2) ** 2 - 2"
   ]
  },
  {
   "cell_type": "markdown",
   "metadata": {},
   "source": [
    "We see that in both those instances, we have a numeric value for the expression that seems to be precise up to 14 decimal places.\n",
    "\n",
    "However, that is **not** the exact value of that expression. The exact value of the expression needs to be computed symbolically:"
   ]
  },
  {
   "cell_type": "code",
   "execution_count": 35,
   "metadata": {},
   "outputs": [
    {
     "data": {
      "text/latex": [
       "$\\displaystyle 4 + 4 \\sqrt{2}$"
      ],
      "text/plain": [
       "4 + 4*sqrt(2)"
      ]
     },
     "execution_count": 35,
     "metadata": {},
     "output_type": "execute_result"
    }
   ],
   "source": [
    "expression = (sympy.sqrt(2) + 2) ** 2 - 2\n",
    "sympy.expand(expression)"
   ]
  },
  {
   "cell_type": "markdown",
   "metadata": {},
   "source": [
    "This is just one example of why Sympy is an effective tool for mathematicians. The other one seen in this chapter is being able to compute expressions with no numerical value at all:"
   ]
  },
  {
   "cell_type": "code",
   "execution_count": 36,
   "metadata": {},
   "outputs": [
    {
     "data": {
      "text/latex": [
       "$\\displaystyle \\left(a - b\\right) \\left(a + b\\right)$"
      ],
      "text/plain": [
       "(a - b)*(a + b)"
      ]
     },
     "execution_count": 36,
     "metadata": {},
     "output_type": "execute_result"
    }
   ],
   "source": [
    "sympy.factor(a ** 2 - b ** 2)"
   ]
  },
  {
   "cell_type": "markdown",
   "metadata": {},
   "source": [
    "#### Why do I sometimes see `from sympy import *`?\n",
    "\n",
    "There a number of resources available from which you can learn to use Sympy. In some isntances you will not see `import sympy` but instead you will see `from sympy import *`.\n",
    "\n",
    "**This it not a good way to do it.**\n",
    "\n",
    "What this does is taking all the tools inside of sympy and putting it at the same level of all the other tools available to you.\n",
    "\n",
    "The problem with doing this is that it no longer makes your code clear.\n",
    "\n",
    "An example of this are trigonometric functions. These exist in a number of libraries:"
   ]
  },
  {
   "cell_type": "code",
   "execution_count": 37,
   "metadata": {},
   "outputs": [],
   "source": [
    "import math\n",
    "import sympy"
   ]
  },
  {
   "cell_type": "code",
   "execution_count": 38,
   "metadata": {},
   "outputs": [
    {
     "data": {
      "text/latex": [
       "$\\displaystyle 1$"
      ],
      "text/plain": [
       "1"
      ]
     },
     "execution_count": 38,
     "metadata": {},
     "output_type": "execute_result"
    }
   ],
   "source": [
    "sympy.cos(0)"
   ]
  },
  {
   "cell_type": "code",
   "execution_count": 39,
   "metadata": {},
   "outputs": [
    {
     "data": {
      "text/plain": [
       "1.0"
      ]
     },
     "execution_count": 39,
     "metadata": {},
     "output_type": "execute_result"
    }
   ],
   "source": [
    "math.cos(0)"
   ]
  },
  {
   "cell_type": "markdown",
   "metadata": {},
   "source": [
    "One however allows us to carry out exact computations:"
   ]
  },
  {
   "cell_type": "code",
   "execution_count": 40,
   "metadata": {},
   "outputs": [
    {
     "data": {
      "text/latex": [
       "$\\displaystyle \\frac{\\sqrt{2}}{2}$"
      ],
      "text/plain": [
       "sqrt(2)/2"
      ]
     },
     "execution_count": 40,
     "metadata": {},
     "output_type": "execute_result"
    }
   ],
   "source": [
    "sympy.cos(sympy.pi / 4)"
   ]
  },
  {
   "cell_type": "code",
   "execution_count": 41,
   "metadata": {},
   "outputs": [
    {
     "data": {
      "text/plain": [
       "0.7071067811865476"
      ]
     },
     "execution_count": 41,
     "metadata": {},
     "output_type": "execute_result"
    }
   ],
   "source": [
    "math.cos(math.pi / 4)"
   ]
  },
  {
   "cell_type": "markdown",
   "metadata": {},
   "source": [
    "If we chose to import all the functionality using `from sympy import *` then we cannot tell immediately which function we are using (except from its output):"
   ]
  },
  {
   "cell_type": "code",
   "execution_count": 42,
   "metadata": {},
   "outputs": [],
   "source": [
    "from sympy import *"
   ]
  },
  {
   "cell_type": "code",
   "execution_count": 43,
   "metadata": {},
   "outputs": [],
   "source": [
    "from math import *"
   ]
  },
  {
   "cell_type": "code",
   "execution_count": 44,
   "metadata": {},
   "outputs": [
    {
     "data": {
      "text/plain": [
       "0.7071067811865476"
      ]
     },
     "execution_count": 44,
     "metadata": {},
     "output_type": "execute_result"
    }
   ],
   "source": [
    "cos(pi / 4)"
   ]
  },
  {
   "cell_type": "markdown",
   "metadata": {},
   "source": [
    "In that case the second import has overwritten the first. \n",
    "\n",
    "**It is never recommended to use** `import *` this makes your code less clear and you are more likely to make mistakes when your code is not clear."
   ]
  },
  {
   "cell_type": "markdown",
   "metadata": {},
   "source": [
    "#### Why do I sometimes see `import sympy as sym`?\n",
    "\n",
    "In some resources you will see that instead of `import sympy` people use: `import sympy as sym`. This is common and take advantage of the fact that Python can import a library and give it an alias/nickname at the same time:\n",
    "\n",
    "```python\n",
    "import <library> as <nickname>\n",
    "```\n",
    "\n",
    "So with sympy we can use:"
   ]
  },
  {
   "cell_type": "code",
   "execution_count": 45,
   "metadata": {},
   "outputs": [
    {
     "data": {
      "text/latex": [
       "$\\displaystyle \\frac{\\sqrt{2}}{2}$"
      ],
      "text/plain": [
       "sqrt(2)/2"
      ]
     },
     "execution_count": 45,
     "metadata": {},
     "output_type": "execute_result"
    }
   ],
   "source": [
    "import sympy as sym\n",
    "\n",
    "sym.cos(sym.pi / 4)"
   ]
  },
  {
   "cell_type": "markdown",
   "metadata": {},
   "source": [
    "There is nothing stopping you using whatever alias you want:"
   ]
  },
  {
   "cell_type": "code",
   "execution_count": 46,
   "metadata": {},
   "outputs": [
    {
     "data": {
      "text/latex": [
       "$\\displaystyle \\frac{\\sqrt{2}}{2}$"
      ],
      "text/plain": [
       "sqrt(2)/2"
      ]
     },
     "execution_count": 46,
     "metadata": {},
     "output_type": "execute_result"
    }
   ],
   "source": [
    "import sympy as a_poor_name_choice\n",
    "\n",
    "a_poor_name_choice.cos(a_poor_name_choice.pi / 4)"
   ]
  },
  {
   "cell_type": "markdown",
   "metadata": {},
   "source": [
    "**It is important** when doing this to use accepted conventions for these nicknames. For sympy, an accepted convention is indeed `import sympy as sym`."
   ]
  },
  {
   "cell_type": "markdown",
   "metadata": {},
   "source": [
    "#### Are there other resources for learning sympy?\n",
    "\n",
    "There are a large number of resources for learning Sympy. Not all concentrate on the algebra that we have considered in this chapter, and we will be covering further Sympy functionality in the next chapters.\n",
    "\n",
    "Here are some resources:\n",
    "\n",
    "- The main sympy documentation: https://docs.sympy.org/latest/index.html\n",
    "- The scientific python lecture notes chapter on sympy: https://scipy-lectures.org/packages/sympy.html\n",
    "- A short tutorial: https://github.com/drvinceknight/Python-Mathematics-Handbook/blob/master/01-Symbolic-mathematics-with-Sympy.ipynb\n",
    "\n",
    "There are numerous other resources on the web, if you would like to know if they are reliable or not do not hesitate to ask."
   ]
  }
 ],
 "metadata": {
  "jupytext": {
   "formats": "ipynb,md"
  },
  "kernelspec": {
   "display_name": "Python 3",
   "language": "python",
   "name": "python3"
  },
  "language_info": {
   "codemirror_mode": {
    "name": "ipython",
    "version": 3
   },
   "file_extension": ".py",
   "mimetype": "text/x-python",
   "name": "python",
   "nbconvert_exporter": "python",
   "pygments_lexer": "ipython3",
   "version": "3.8.3"
  }
 },
 "nbformat": 4,
 "nbformat_minor": 4
}
