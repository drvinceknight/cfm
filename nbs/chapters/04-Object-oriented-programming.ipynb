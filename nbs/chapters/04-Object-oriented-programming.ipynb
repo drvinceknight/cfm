{
 "cells": [
  {
   "cell_type": "markdown",
   "metadata": {},
   "source": [
    "## Chapter 04: Object Oriented Programming\n",
    "\n",
    "This lab sheet introduces object oriented programming. We have been using object oriented programming throughout the previous lab sheets. Here we will learn how to create our own objects (what this means become clear)."
   ]
  },
  {
   "cell_type": "markdown",
   "metadata": {},
   "source": [
    "## Tutorial\n",
    "\n",
    "Work through the following:\n",
    "\n",
    "---\n",
    "\n",
    "### 1. Writing a class.\n",
    "\n",
    "[A video describing the concept.](https://youtu.be/-58By9KGWX4)\n",
    "\n",
    "[A video demo.](https://youtu.be/kcGzJ52MZNU)\n",
    "\n",
    "The main idea behind object orientated programming (OOP) is to\n",
    "create abstract structures that allow us to not worry about data. Alan Kay\n",
    "came up with the concept and is quoted as saying: ‘I wanted to get rid of\n",
    "data’. Instead of keeping track of variables using lists and arrays and\n",
    "writing specific functions for each operation we could be trying to do we use\n",
    "a system similar to the cellular structure in biology:\n",
    "\n",
    "![Biology](/{{root}}/img/biology.png)\n",
    "\n",
    "Here is an image showing the various things we will consider in this lab\n",
    "sheet:\n",
    "\n",
    "![Classes](/{{root}}/img/classes.png)\n",
    "\n",
    "Creating a class in Python is similar to creating a function: we write down\n",
    "the rules:"
   ]
  },
  {
   "cell_type": "code",
   "execution_count": 1,
   "metadata": {
    "collapsed": true
   },
   "outputs": [],
   "source": [
    "class Student:\n",
    "    \"\"\"A base class\"\"\""
   ]
  },
  {
   "cell_type": "markdown",
   "metadata": {},
   "source": [
    "We can then create 'instances' of this class:"
   ]
  },
  {
   "cell_type": "code",
   "execution_count": 2,
   "metadata": {
    "tags": [
     "nbval-ignore-output"
    ]
   },
   "outputs": [
    {
     "data": {
      "text/plain": [
       "<__main__.Student at 0x7f54c811a9e8>"
      ]
     },
     "execution_count": 2,
     "metadata": {},
     "output_type": "execute_result"
    }
   ],
   "source": [
    "vince = Student()\n",
    "zoe = Student()\n",
    "vince"
   ]
  },
  {
   "cell_type": "code",
   "execution_count": 3,
   "metadata": {
    "tags": [
     "nbval-ignore-output"
    ]
   },
   "outputs": [
    {
     "data": {
      "text/plain": [
       "<__main__.Student at 0x7f54c811a9b0>"
      ]
     },
     "execution_count": 3,
     "metadata": {},
     "output_type": "execute_result"
    }
   ],
   "source": [
    "zoe"
   ]
  },
  {
   "cell_type": "markdown",
   "metadata": {},
   "source": [
    "The `at ...` is a pointer to the location of the instance in memory. If you\n",
    "re run the code that location will change.\n",
    "\n",
    "We have already seen examples of classes in Python:\n",
    "\n",
    "- Integers;\n",
    "- Strings;\n",
    "- Lists.\n",
    "\n",
    "There are many more and we are going to see how to build our own.\n",
    "\n",
    "**Experiment with building an instance of the Student class.**\n",
    "\n",
    "\n",
    "### 2. Attributes\n",
    "\n",
    "[A video describing the concept.](https://youtu.be/TDErnRv0SP8)\n",
    "\n",
    "[A video demo.](https://youtu.be/c05rLmFf-Xk)\n",
    "\n",
    "The above student class is not very useful. We now see how to make our\n",
    "objects ‘hold’ information. The following code re-creates our previous\n",
    "student class but gives the class some 'attributes':"
   ]
  },
  {
   "cell_type": "code",
   "execution_count": 4,
   "metadata": {
    "collapsed": true
   },
   "outputs": [],
   "source": [
    "class Student:\n",
    "    courses = ['Biology', 'Mathematics', 'English']\n",
    "    age = 12\n",
    "    gender = \"Female\""
   ]
  },
  {
   "cell_type": "markdown",
   "metadata": {},
   "source": [
    "Now our class itself has some information:"
   ]
  },
  {
   "cell_type": "code",
   "execution_count": 5,
   "metadata": {},
   "outputs": [
    {
     "data": {
      "text/plain": [
       "12"
      ]
     },
     "execution_count": 5,
     "metadata": {},
     "output_type": "execute_result"
    }
   ],
   "source": [
    "Student.age"
   ]
  },
  {
   "cell_type": "markdown",
   "metadata": {},
   "source": [
    "This information is also passed on to any instances of the class:"
   ]
  },
  {
   "cell_type": "code",
   "execution_count": 6,
   "metadata": {},
   "outputs": [
    {
     "data": {
      "text/plain": [
       "['Biology', 'Mathematics', 'English']"
      ]
     },
     "execution_count": 6,
     "metadata": {},
     "output_type": "execute_result"
    }
   ],
   "source": [
    "vince = Student()\n",
    "vince.courses"
   ]
  },
  {
   "cell_type": "code",
   "execution_count": 7,
   "metadata": {},
   "outputs": [
    {
     "data": {
      "text/plain": [
       "12"
      ]
     },
     "execution_count": 7,
     "metadata": {},
     "output_type": "execute_result"
    }
   ],
   "source": [
    "vince.age"
   ]
  },
  {
   "cell_type": "code",
   "execution_count": 8,
   "metadata": {},
   "outputs": [
    {
     "data": {
      "text/plain": [
       "'Female'"
      ]
     },
     "execution_count": 8,
     "metadata": {},
     "output_type": "execute_result"
    }
   ],
   "source": [
    "vince.gender"
   ]
  },
  {
   "cell_type": "markdown",
   "metadata": {},
   "source": [
    "We can use and/or modify those attributes just like any other Python variable:"
   ]
  },
  {
   "cell_type": "code",
   "execution_count": 9,
   "metadata": {},
   "outputs": [
    {
     "data": {
      "text/plain": [
       "13"
      ]
     },
     "execution_count": 9,
     "metadata": {},
     "output_type": "execute_result"
    }
   ],
   "source": [
    "vince.age += 1\n",
    "vince.age"
   ]
  },
  {
   "cell_type": "code",
   "execution_count": 10,
   "metadata": {},
   "outputs": [
    {
     "data": {
      "text/plain": [
       "'Male'"
      ]
     },
     "execution_count": 10,
     "metadata": {},
     "output_type": "execute_result"
    }
   ],
   "source": [
    "vince.gender = 'Male'\n",
    "vince.gender"
   ]
  },
  {
   "cell_type": "code",
   "execution_count": 11,
   "metadata": {},
   "outputs": [
    {
     "data": {
      "text/plain": [
       "['Biology', 'Mathematics', 'English', 'Chemistry']"
      ]
     },
     "execution_count": 11,
     "metadata": {},
     "output_type": "execute_result"
    }
   ],
   "source": [
    "vince.courses.append('Chemistry')\n",
    "vince.courses"
   ]
  },
  {
   "cell_type": "markdown",
   "metadata": {},
   "source": [
    "**Create instances with attributes and experiment with them.**"
   ]
  },
  {
   "cell_type": "markdown",
   "metadata": {},
   "source": [
    "### 3. Methods\n",
    "\n",
    "[A video describing the concept.](https://youtu.be/dKS18fQVPxY)\n",
    "\n",
    "[A video demo.](https://youtu.be/6AGuxUC2LUE)\n",
    "\n",
    "We will now see how to make classes 'do' things. These are called 'methods' and they are just functions 'attached' to classes."
   ]
  },
  {
   "cell_type": "code",
   "execution_count": 12,
   "metadata": {},
   "outputs": [
    {
     "data": {
      "text/plain": [
       "13"
      ]
     },
     "execution_count": 12,
     "metadata": {},
     "output_type": "execute_result"
    }
   ],
   "source": [
    "class Student:\n",
    "    \"\"\"A class to represent a student\"\"\"\n",
    "    courses = ['Biology', 'Mathematics', 'English']\n",
    "    age = 12\n",
    "    gender = \"Female\"\n",
    "    def have_a_birthday(self, years=1):\n",
    "        \"\"\"Increment the age\"\"\"\n",
    "        self.age += years  # self corresponds to the instance\n",
    "vince = Student()\n",
    "vince.have_a_birthday()\n",
    "vince.age"
   ]
  },
  {
   "cell_type": "code",
   "execution_count": 13,
   "metadata": {},
   "outputs": [
    {
     "data": {
      "text/plain": [
       "23"
      ]
     },
     "execution_count": 13,
     "metadata": {},
     "output_type": "execute_result"
    }
   ],
   "source": [
    "vince.have_a_birthday(years=10)\n",
    "vince.age"
   ]
  },
  {
   "cell_type": "markdown",
   "metadata": {},
   "source": [
    "There are various 'special' methods names that act in particular ways.\n",
    "One of these is `__init__`, this method is called when an instance is\n",
    "created ('initialised'):"
   ]
  },
  {
   "cell_type": "code",
   "execution_count": 14,
   "metadata": {
    "collapsed": true
   },
   "outputs": [],
   "source": [
    "class Student:\n",
    "    \"\"\"A class to represent a student\"\"\"\n",
    "    def __init__(self, courses, age, gender):\n",
    "        self.courses = courses\n",
    "        self.age = age\n",
    "        self.gender = gender\n",
    "    def have_a_birthday(self, years=1):\n",
    "        \"\"\"Increment the age\"\"\"\n",
    "        self.age += years  # self corresponds to the instance"
   ]
  },
  {
   "cell_type": "markdown",
   "metadata": {},
   "source": [
    "Now we can easily create instances with given attributes:"
   ]
  },
  {
   "cell_type": "code",
   "execution_count": 15,
   "metadata": {},
   "outputs": [
    {
     "data": {
      "text/plain": [
       "(['Maths'], 32, 'Male')"
      ]
     },
     "execution_count": 15,
     "metadata": {},
     "output_type": "execute_result"
    }
   ],
   "source": [
    "vince = Student([\"Maths\"], 32, \"Male\")\n",
    "zoe = Student([\"Biology\"], 31, \"Female\")\n",
    "vince.courses, vince.age, vince.gender"
   ]
  },
  {
   "cell_type": "code",
   "execution_count": 16,
   "metadata": {},
   "outputs": [
    {
     "data": {
      "text/plain": [
       "(['Biology'], 31, 'Female')"
      ]
     },
     "execution_count": 16,
     "metadata": {},
     "output_type": "execute_result"
    }
   ],
   "source": [
    "zoe.courses, zoe.age, zoe.gender"
   ]
  },
  {
   "cell_type": "markdown",
   "metadata": {},
   "source": [
    "There are various other 'special' methods, we will see one of them in the worked example.\n",
    "\n",
    "**Create instances of the Student class with these new methods.**"
   ]
  },
  {
   "cell_type": "markdown",
   "metadata": {},
   "source": [
    "### 4. Inheritance\n",
    "\n",
    "[A video describing the concept.](https://youtu.be/f3Wh4MDEog8)\n",
    "\n",
    "[A video demo.](https://youtu.be/fg4krAA5QXg)\n",
    "\n",
    "One final (very important) aspect of object oriented programming is the\n",
    "concept of inheritance. This allows us to create new classes from other ones.\n",
    "In practice this saves replicating code as we can change only certain methods\n",
    "as required.\n",
    "\n",
    "To do this we simply create the new class as usual but pass it the old class:\n",
    "\n",
    "```python\n",
    "   class NewClass(OldClass):\n",
    "       ...\n",
    "   ```\n",
    "\n",
    "For example, let us create a student who we know is born on the 29th of\n",
    "February (a date that only occurs once every 4 years):\n"
   ]
  },
  {
   "cell_type": "code",
   "execution_count": 17,
   "metadata": {
    "collapsed": true
   },
   "outputs": [],
   "source": [
    "class LeapYearStudent(Student):\n",
    "    \"\"\"A class for a student born on the 29th of February\"\"\"\n",
    "    # Note that we do not have to rewrite the init method\n",
    "    def have_a_birthday(self, years=1):\n",
    "        self.age += int(years / 4)\n",
    "    def complain(self):\n",
    "        \"\"\"Return a string complaining about birthday\"\"\"\n",
    "        # This is a new method that the Student class does not have     \n",
    "        return \"I wish I was not born on the 29th of Feb\""
   ]
  },
  {
   "cell_type": "markdown",
   "metadata": {},
   "source": [
    "Here is how this new class behaves:"
   ]
  },
  {
   "cell_type": "code",
   "execution_count": 18,
   "metadata": {},
   "outputs": [
    {
     "data": {
      "text/plain": [
       "22"
      ]
     },
     "execution_count": 18,
     "metadata": {},
     "output_type": "execute_result"
    }
   ],
   "source": [
    "geraint = LeapYearStudent([\"Maths\"], 22, \"Male\")\n",
    "geraint.have_a_birthday()\n",
    "geraint.age  # Still  22"
   ]
  },
  {
   "cell_type": "code",
   "execution_count": 19,
   "metadata": {},
   "outputs": [
    {
     "data": {
      "text/plain": [
       "24"
      ]
     },
     "execution_count": 19,
     "metadata": {},
     "output_type": "execute_result"
    }
   ],
   "source": [
    "geraint.have_a_birthday(8)\n",
    "geraint.age"
   ]
  },
  {
   "cell_type": "code",
   "execution_count": 20,
   "metadata": {},
   "outputs": [
    {
     "data": {
      "text/plain": [
       "'I wish I was not born on the 29th of Feb'"
      ]
     },
     "execution_count": 20,
     "metadata": {},
     "output_type": "execute_result"
    }
   ],
   "source": [
    "geraint.complain()"
   ]
  },
  {
   "cell_type": "markdown",
   "metadata": {},
   "source": [
    "**Experiment with the above code: how would it work if leap year was every 3 years?**"
   ]
  },
  {
   "cell_type": "markdown",
   "metadata": {},
   "source": [
    "---\n",
    "\n",
    "### Worked example\n",
    "\n",
    "[A video describing the concept.](https://youtu.be/nlIz2QtBCTk)\n",
    "\n",
    "[A video demo.](https://youtu.be/BRLbh-6QU_Q)\n",
    "\n",
    "Let us assume we want to study linear expressions. These are expressions\n",
    "of the form:\n",
    "\n",
    "\\\\[\n",
    "    ax+b\n",
    "\\\\]\n",
    "\n",
    "We are interested, for example, in what the value of \\\\(x\\\\) for which a\n",
    "linear expression is 0. This is called the 'root' and is the solution to the\n",
    "following equation:\n",
    "\n",
    "\\\\[\n",
    "    ax+b=0\n",
    "\\\\]\n",
    "\n",
    "This is obviously an easy thing to study but we're going to assume it's not\n",
    "and build a class to represent and manipulate linear expressions."
   ]
  },
  {
   "cell_type": "code",
   "execution_count": 21,
   "metadata": {
    "collapsed": true
   },
   "outputs": [],
   "source": [
    "class LinearExpression:\n",
    "    \"\"\"A class for a linear expression\"\"\"\n",
    "    def __init__(self, a, b):\n",
    "        self.a = a\n",
    "        self.b = b\n",
    "    \n",
    "    def root(self):\n",
    "        \"\"\"Return the root of the linear expression\"\"\"\n",
    "        return - self.b / self.a\n",
    "    \n",
    "    def __add__(self, linexp):\n",
    "        \"\"\"A special method: lets us have addition between expressions\"\"\"\n",
    "        return LinearExpression(self.a + linexp.a, self.b + linexp.b)\n",
    "\n",
    "    def __repr__(self):\n",
    "        \"\"\"A special method: changes the way an instance is displayed\"\"\"\n",
    "        return \"Linear expression: \" + str(self.a) + \"x + \" + str(self.b)"
   ]
  },
  {
   "cell_type": "code",
   "execution_count": 22,
   "metadata": {},
   "outputs": [
    {
     "data": {
      "text/plain": [
       "Linear expression: 2x + 4"
      ]
     },
     "execution_count": 22,
     "metadata": {},
     "output_type": "execute_result"
    }
   ],
   "source": [
    "exp = LinearExpression(2, 4)\n",
    "exp  # This output is given by the `__repr__` method"
   ]
  },
  {
   "cell_type": "code",
   "execution_count": 23,
   "metadata": {},
   "outputs": [
    {
     "data": {
      "text/plain": [
       "2"
      ]
     },
     "execution_count": 23,
     "metadata": {},
     "output_type": "execute_result"
    }
   ],
   "source": [
    "exp.a"
   ]
  },
  {
   "cell_type": "code",
   "execution_count": 24,
   "metadata": {},
   "outputs": [
    {
     "data": {
      "text/plain": [
       "4"
      ]
     },
     "execution_count": 24,
     "metadata": {},
     "output_type": "execute_result"
    }
   ],
   "source": [
    "exp.b"
   ]
  },
  {
   "cell_type": "code",
   "execution_count": 25,
   "metadata": {},
   "outputs": [
    {
     "data": {
      "text/plain": [
       "-2.0"
      ]
     },
     "execution_count": 25,
     "metadata": {},
     "output_type": "execute_result"
    }
   ],
   "source": [
    "exp.root()"
   ]
  },
  {
   "cell_type": "code",
   "execution_count": 26,
   "metadata": {},
   "outputs": [
    {
     "data": {
      "text/plain": [
       "Linear expression: 5x + -2"
      ]
     },
     "execution_count": 26,
     "metadata": {},
     "output_type": "execute_result"
    }
   ],
   "source": [
    "exp2 = LinearExpression(5, -2)\n",
    "exp2"
   ]
  },
  {
   "cell_type": "code",
   "execution_count": 27,
   "metadata": {},
   "outputs": [
    {
     "data": {
      "text/plain": [
       "Linear expression: 7x + 2"
      ]
     },
     "execution_count": 27,
     "metadata": {},
     "output_type": "execute_result"
    }
   ],
   "source": [
    "exp + exp2  # This works because of the `__add__` method"
   ]
  },
  {
   "cell_type": "markdown",
   "metadata": {},
   "source": [
    "This class works just fine but we quickly arrive at a problem:"
   ]
  },
  {
   "cell_type": "code",
   "execution_count": 28,
   "metadata": {},
   "outputs": [
    {
     "data": {
      "text/plain": [
       "Linear expression: 0x + 8"
      ]
     },
     "execution_count": 28,
     "metadata": {},
     "output_type": "execute_result"
    }
   ],
   "source": [
    "exp1 = LinearExpression(2, 4)\n",
    "exp2 = LinearExpression(-2, 4)\n",
    "exp3 = exp1 + exp2\n",
    "exp3"
   ]
  },
  {
   "cell_type": "code",
   "execution_count": 29,
   "metadata": {
    "tags": [
     "nbval-output-ignore",
     "raises-exception"
    ]
   },
   "outputs": [
    {
     "ename": "ZeroDivisionError",
     "evalue": "division by zero",
     "output_type": "error",
     "traceback": [
      "\u001b[0;31m---------------------------------------------------------------------------\u001b[0m",
      "\u001b[0;31mZeroDivisionError\u001b[0m                         Traceback (most recent call last)",
      "\u001b[0;32m<ipython-input-29-78f38426a60e>\u001b[0m in \u001b[0;36m<module>\u001b[0;34m()\u001b[0m\n\u001b[0;32m----> 1\u001b[0;31m \u001b[0mexp3\u001b[0m\u001b[0;34m.\u001b[0m\u001b[0mroot\u001b[0m\u001b[0;34m(\u001b[0m\u001b[0;34m)\u001b[0m\u001b[0;34m\u001b[0m\u001b[0m\n\u001b[0m",
      "\u001b[0;32m<ipython-input-21-5c37504e78d2>\u001b[0m in \u001b[0;36mroot\u001b[0;34m(self)\u001b[0m\n\u001b[1;32m      7\u001b[0m     \u001b[0;32mdef\u001b[0m \u001b[0mroot\u001b[0m\u001b[0;34m(\u001b[0m\u001b[0mself\u001b[0m\u001b[0;34m)\u001b[0m\u001b[0;34m:\u001b[0m\u001b[0;34m\u001b[0m\u001b[0m\n\u001b[1;32m      8\u001b[0m         \u001b[0;34m\"\"\"Return the root of the linear expression\"\"\"\u001b[0m\u001b[0;34m\u001b[0m\u001b[0m\n\u001b[0;32m----> 9\u001b[0;31m         \u001b[0;32mreturn\u001b[0m \u001b[0;34m-\u001b[0m \u001b[0mself\u001b[0m\u001b[0;34m.\u001b[0m\u001b[0mb\u001b[0m \u001b[0;34m/\u001b[0m \u001b[0mself\u001b[0m\u001b[0;34m.\u001b[0m\u001b[0ma\u001b[0m\u001b[0;34m\u001b[0m\u001b[0m\n\u001b[0m\u001b[1;32m     10\u001b[0m \u001b[0;34m\u001b[0m\u001b[0m\n\u001b[1;32m     11\u001b[0m     \u001b[0;32mdef\u001b[0m \u001b[0m__add__\u001b[0m\u001b[0;34m(\u001b[0m\u001b[0mself\u001b[0m\u001b[0;34m,\u001b[0m \u001b[0mlinexp\u001b[0m\u001b[0;34m)\u001b[0m\u001b[0;34m:\u001b[0m\u001b[0;34m\u001b[0m\u001b[0m\n",
      "\u001b[0;31mZeroDivisionError\u001b[0m: division by zero"
     ]
    }
   ],
   "source": [
    "exp3.root()"
   ]
  },
  {
   "cell_type": "markdown",
   "metadata": {},
   "source": [
    "We get an error because our `root` method is attempting to divide by 0.\n",
    "Let's fix that:"
   ]
  },
  {
   "cell_type": "code",
   "execution_count": 30,
   "metadata": {
    "collapsed": true
   },
   "outputs": [],
   "source": [
    "class LinearExpression:\n",
    "    \"\"\"A class for a linear expression\"\"\"\n",
    "    def __init__(self, a, b):\n",
    "        self.a = a\n",
    "        self.b = b\n",
    "        \n",
    "    def root(self):\n",
    "        \"\"\"Return the root of the linear expression\"\"\"\n",
    "        if self.a != 0:\n",
    "            return - self.b / self.a\n",
    "        return False\n",
    "    \n",
    "    def __add__(self, linexp):\n",
    "        \"\"\"A special method: let's us have addition between expressions\"\"\"\n",
    "        return LinearExpression(self.a + linexp.a, self.b + linexp.b)\n",
    "    \n",
    "    def __repr__(self):\n",
    "        \"\"\"A special method: changes the default way an instance is displayed\"\"\"\n",
    "        return \"Linear expression: \" + str(self.a) + \"x + \" + str(self.b)"
   ]
  },
  {
   "cell_type": "code",
   "execution_count": 31,
   "metadata": {},
   "outputs": [
    {
     "data": {
      "text/plain": [
       "False"
      ]
     },
     "execution_count": 31,
     "metadata": {},
     "output_type": "execute_result"
    }
   ],
   "source": [
    "exp3 = LinearExpression(0, 8)\n",
    "exp3.root()"
   ]
  },
  {
   "cell_type": "markdown",
   "metadata": {},
   "source": [
    "Let us now use this to verify the following simple fact. If \\\\(f(x) =\n",
    "a_1x+b_1\\\\) and \\\\(g(x) = a_2x+b_2\\\\), then the root of \\\\(f(x) + g(x)\\\\) is\n",
    "given by:\n",
    "\n",
    "\\\\[\n",
    "    \\frac{a_1x_1 + a_2x_2}{a_1+a_2}\n",
    "\\\\]\n",
    "\n",
    "where \\\\(x_1\\\\) is the root of \\\\(f\\\\) and \\\\(x_2\\\\) is the root of \\\\(g\\\\)\n",
    "(if they exist).\n",
    "\n",
    "First let's write a function that checks this for a given set of\n",
    "\\\\(a_1, a_2, b_1, b_2\\\\)."
   ]
  },
  {
   "cell_type": "code",
   "execution_count": 32,
   "metadata": {},
   "outputs": [
    {
     "data": {
      "text/plain": [
       "True"
      ]
     },
     "execution_count": 32,
     "metadata": {},
     "output_type": "execute_result"
    }
   ],
   "source": [
    "def check_result(a1, a2, b1, b2):\n",
    "    \"\"\"Check that the relationship holds\"\"\"\n",
    "    f = LinearExpression(a1, b1)\n",
    "    g = LinearExpression(a2, b2)\n",
    "    k = f + g\n",
    "    x1 = f.root()\n",
    "    x2 = g.root()\n",
    "    x3 = k.root()\n",
    "    if (x1 is not False) and (x2 is not False) and (x3 is not False):\n",
    "        # Assuming our three expressions have a root\n",
    "        return (a1 * x1 + a2 * x2) / (a1 + a2) == x3\n",
    "    return True  # If f, g have no roots the relationship is still true\n",
    "check_result(2, 3, 4, 5)"
   ]
  },
  {
   "cell_type": "markdown",
   "metadata": {},
   "source": [
    "We will verify this by randomly sampling values for \\\\(a_1, a_2, b_1, b_2\\\\)."
   ]
  },
  {
   "cell_type": "code",
   "execution_count": 33,
   "metadata": {},
   "outputs": [
    {
     "data": {
      "text/plain": [
       "True"
      ]
     },
     "execution_count": 33,
     "metadata": {},
     "output_type": "execute_result"
    }
   ],
   "source": [
    "import random  # Importing the random module\n",
    "N = 1000  # The number of samples\n",
    "checks = []\n",
    "for _ in range(N):\n",
    "    a1 = random.randint(-10, 10)\n",
    "    a2 = random.randint(-10, 10)\n",
    "    b1 = random.randint(-10, 10)\n",
    "    b2 = random.randint(-10, 10)\n",
    "    checks.append(check_result(a1, a2, b1, b2))\n",
    "all(checks)"
   ]
  },
  {
   "cell_type": "markdown",
   "metadata": {},
   "source": [
    "---\n",
    "\n",
    "## Exercises\n",
    "\n",
    "Here are a number of exercises that are possible to carry out using the code concepts discussed:\n",
    "\n",
    "- Classes: creating a set of rules that describe an abstract \"thing\"\n",
    "- Attributes: variables on a class\n",
    "- Methods: functions on a class\n",
    "- Inheritance: creating new classes from old classes"
   ]
  },
  {
   "cell_type": "markdown",
   "metadata": {},
   "source": [
    "---\n",
    "\n",
    "### Exercise 1\n",
    "\n",
    "**Debugging exercise**\n",
    "\n",
    "   The following is an attempt to write a class for rectangle, find\n",
    "   and fix all the bugs.\n",
    "\n",
    "   ```python\n",
    "   class Rectangle:\n",
    "       \"\"\"A class for a rectangle\"\"\n",
    "\n",
    "       def __init__(width, length)\n",
    "           self.width = width\n",
    "           self.length = width\n",
    "\n",
    "       def obtain_area(self:\n",
    "           \"\"\"Obtain the area of the rectangle\"\"\"\n",
    "           return self.width * self.length\n",
    "\n",
    "       def is_square():\n",
    "           \"\"\"Check if the rectangle is a square\"\"\"\n",
    "           return self.width == self.length\n",
    "\n",
    "   ```"
   ]
  },
  {
   "cell_type": "code",
   "execution_count": 34,
   "metadata": {
    "collapsed": true,
    "tags": [
     "solution"
    ]
   },
   "outputs": [],
   "source": [
    "class Rectangle:\n",
    "    # \"\"\"A class for a rectangle\"\"  Wrong number of \"\n",
    "    \"\"\"A class for a rectangle\"\"\"\n",
    "    #def __init__(width, length)  Missing self and :\n",
    "    def __init__(self, width, length):\n",
    "        self.width = width\n",
    "        #self.length = width  # Wrong assignment\n",
    "        self.length = length\n",
    "    #def obtain_area(self:  Missing bracket\n",
    "    def obtain_area(self):\n",
    "        \"\"\"Obtain the area of the rectangle\"\"\"\n",
    "        return self.width * self.length\n",
    "    #def is_square():  Missing self\n",
    "    def is_square(self):\n",
    "        \"\"\"Check if the rectangle is a square\"\"\"\n",
    "        return self.width == self.length"
   ]
  },
  {
   "cell_type": "markdown",
   "metadata": {
    "tags": [
     "solution"
    ]
   },
   "source": [
    "Creating a non square rectangle:"
   ]
  },
  {
   "cell_type": "code",
   "execution_count": 35,
   "metadata": {
    "tags": [
     "solution"
    ]
   },
   "outputs": [
    {
     "data": {
      "text/plain": [
       "(20, False)"
      ]
     },
     "execution_count": 35,
     "metadata": {},
     "output_type": "execute_result"
    }
   ],
   "source": [
    "rectangle = Rectangle(5, 4)\n",
    "rectangle.obtain_area(), rectangle.is_square()"
   ]
  },
  {
   "cell_type": "markdown",
   "metadata": {
    "tags": [
     "solution"
    ]
   },
   "source": [
    "Creating a square rectangle:"
   ]
  },
  {
   "cell_type": "code",
   "execution_count": 36,
   "metadata": {
    "tags": [
     "solution"
    ]
   },
   "outputs": [
    {
     "data": {
      "text/plain": [
       "(9, True)"
      ]
     },
     "execution_count": 36,
     "metadata": {},
     "output_type": "execute_result"
    }
   ],
   "source": [
    "square = Rectangle(3, 3)\n",
    "square.obtain_area(), square.is_square()"
   ]
  },
  {
   "cell_type": "markdown",
   "metadata": {},
   "source": [
    "---\n",
    "\n",
    "### Exercise 2\n",
    "\n",
    "Build a class for a quadratic expression:\n",
    "\n",
    "\\\\[ax^2+bx+c\\\\]\n",
    "\n",
    "Include a method for adding two quadratic expressions together and also a\n",
    "method to calculate the roots of the expression."
   ]
  },
  {
   "cell_type": "code",
   "execution_count": 1,
   "metadata": {
    "collapsed": true,
    "tags": [
     "solution"
    ]
   },
   "outputs": [],
   "source": [
    "import math\n",
    "\n",
    "class QuadraticExpression:\n",
    "    \"\"\"A class for a quadratic expression\"\"\"\n",
    "    def __init__(self, a, b, c):\n",
    "        self.a = a\n",
    "        self.b = b\n",
    "        self.c = c\n",
    "    def root(self):\n",
    "        \"\"\"Return the roots of the quadratic expression\"\"\"\n",
    "        discriminant = self.b ** 2 - 4 * self.a * self.c\n",
    "        if discriminant >= 0:\n",
    "            x1 = - (self.b + math.sqrt(discriminant))/ (2 * self.a)\n",
    "            x2 = - (self.b - math.sqrt(discriminant))/ (2 * self.a)\n",
    "            return x1, x2\n",
    "        return False\n",
    "    def __add__(self, quadexp):\n",
    "        \"\"\"A special method: let's us have addition between expressions\"\"\"\n",
    "        return QuadraticExpression(self.a + quadexp.a, self.b + quadexp.b, self.c + quadexp.c)\n",
    "    def __repr__(self):\n",
    "        \"\"\"A special method: changes the default way an instance is displayed\"\"\"\n",
    "        return \"Quadratic expression: \" + str(self.a) + \"x ^ 2 + \" + str(self.b) + \"x + \" + str(self.c)"
   ]
  },
  {
   "cell_type": "code",
   "execution_count": 2,
   "metadata": {
    "tags": [
     "solution"
    ]
   },
   "outputs": [
    {
     "data": {
      "text/plain": [
       "Quadratic expression: 1x ^ 2 + 5x + 2"
      ]
     },
     "execution_count": 2,
     "metadata": {},
     "output_type": "execute_result"
    }
   ],
   "source": [
    "quad = QuadraticExpression(1, 5, 2)\n",
    "quad"
   ]
  },
  {
   "cell_type": "code",
   "execution_count": 3,
   "metadata": {
    "tags": [
     "solution",
     "nbval-ignore-output"
    ]
   },
   "outputs": [
    {
     "data": {
      "text/plain": [
       "(-4.561552812808831, -0.4384471871911697)"
      ]
     },
     "execution_count": 3,
     "metadata": {},
     "output_type": "execute_result"
    }
   ],
   "source": [
    "quad.root()"
   ]
  },
  {
   "cell_type": "code",
   "execution_count": 40,
   "metadata": {
    "tags": [
     "solution"
    ]
   },
   "outputs": [
    {
     "data": {
      "text/plain": [
       "Quadratic expression: 5x ^ 2 + 10x + 4"
      ]
     },
     "execution_count": 40,
     "metadata": {},
     "output_type": "execute_result"
    }
   ],
   "source": [
    "quad2 = QuadraticExpression(4, 5, 2)\n",
    "quad + quad2"
   ]
  },
  {
   "cell_type": "markdown",
   "metadata": {},
   "source": [
    "---\n",
    "\n",
    "### Exercise 3\n",
    "\n",
    "If rain drops were to fall randomly on a square of side length \\\\(2r\\\\) the\n",
    "probability of the drops landing in an inscribed circle of radius \\\\(r\\\\)\n",
    "would be given by:\n",
    "\n",
    "\\\\[\n",
    "    P = \\frac{\\text{Area of circle}}{\\text{Area of square}}=\\frac{\\pi r ^2}{4r^2}=\\frac{\\pi}{4}\n",
    "\\\\]\n",
    "\n",
    "![Circle](/{{root}}/img/circle.png)\n",
    "\n",
    "Thus, if we can approximate \\\\(P\\\\) then we can approximate \\\\(\\pi\\\\) as\n",
    "\\\\(4P\\\\). In this question we will write code to approximate \\\\(P\\\\) using\n",
    "the random library.\n",
    "\n",
    "First of all, create a class for a rain drop (make sure you\n",
    "understand the code!):\n",
    "\n",
    "```python\n",
    "class Drop():\n",
    "    def __init__(self, r=1):\n",
    "        self.x = (.5 - random.random()) * 2 * r\n",
    "        self.y = (.5 - random.random()) * 2 * r\n",
    "        self.incircle = (self.y) ** 2 + (self.x) ** 2 <= (r) ** 2\n",
    "\n",
    "```\n",
    "\n",
    "Note that the above uses the following equation for a circle centred at\n",
    "\\\\((0,0)\\\\) of radius \\\\(r\\\\):\n",
    "\n",
    "\\\\[\n",
    "    x^2+y^2≤r^2\n",
    "\\\\]\n",
    "\n",
    "To approximate \\\\(P\\\\) simply create \\\\(N=1000\\\\) instances of Drops and\n",
    "count the number of those that are in the circle.  Use this to approximate\n",
    "\\\\(\\pi\\\\).\n",
    "\n",
    "(This is an example of a technique called Monte Carlo Simulation.)"
   ]
  },
  {
   "cell_type": "code",
   "execution_count": 3,
   "metadata": {
    "collapsed": true,
    "tags": [
     "solution"
    ]
   },
   "outputs": [],
   "source": [
    "import random\n",
    "import math  # This is not necessarily needed but will be useful for some comparisons later on.\n",
    "\n",
    "\n",
    "class Drop():\n",
    "    \"\"\" \n",
    "    A class for a rain drop falling in a random location \n",
    "    on a square \n",
    "    \"\"\"\n",
    "    def __init__(self, r=1):\n",
    "        self.x = (.5 - random.random()) * 2 * r\n",
    "        self.y = (.5 - random.random()) * 2 * r\n",
    "        self.incircle = (self.y) ** 2 + (self.x) ** 2 <= (r) ** 2  \n",
    "        # This returns the boolean corresponding to whether or not the point is in the circle\n",
    "\n",
    "\n",
    "def approxpi(N=1000):\n",
    "    \"\"\"\n",
    "    Function to return an approximation for pi using montecarlo simulation\n",
    "    \"\"\"\n",
    "    numberofpointsincircle = 0\n",
    "    for i in range(N):  # A loop to drop sufficient points\n",
    "        drop = Drop()  # Generate a new drop\n",
    "        if drop.incircle:  # Check if drop is in circle\n",
    "            numberofpointsincircle += 1\n",
    "    return 4 * numberofpointsincircle / float(N)"
   ]
  },
  {
   "cell_type": "code",
   "execution_count": 42,
   "metadata": {
    "tags": [
     "solution",
     "nbval-ignore-output"
    ]
   },
   "outputs": [
    {
     "data": {
      "text/plain": [
       "3.276"
      ]
     },
     "execution_count": 42,
     "metadata": {},
     "output_type": "execute_result"
    }
   ],
   "source": [
    "approxpi()"
   ]
  },
  {
   "cell_type": "markdown",
   "metadata": {},
   "source": [
    "----\n",
    "\n",
    "### Exercise 4\n",
    "\n",
    "In a similar fashion to question 8, approximate the integral\n",
    "\\\\(\\int_{0}^11-x^2\\;dx\\\\).\n",
    "\n",
    "Recall that the integral corresponds to the area under a curve.\n",
    "Furthermore this diagram might be helpful:\n",
    "\n",
    "![Grid](/{{root}}/img/gridwithplot.png)"
   ]
  },
  {
   "cell_type": "code",
   "execution_count": 4,
   "metadata": {
    "collapsed": true,
    "tags": [
     "solution"
    ]
   },
   "outputs": [],
   "source": [
    "\n",
    "\n",
    "class Point():\n",
    "    \"\"\"\n",
    "    A class for a point falling in a random location on a square\n",
    "\n",
    "    Attributes:\n",
    "        x: the x coordinate of the point\n",
    "        y: the y coordinate of the point\n",
    "        undergraph: a boolean indicating whether or not the point is under the graph\n",
    "    \"\"\"\n",
    "    def __init__(self, r=1):\n",
    "        self.x = random.random()\n",
    "        self.y = random.random()\n",
    "        self.undergraph = 1 - (self.x) ** 2 >= self.y  \n",
    "        # This returns the boolean checking whether or not the point is under the graph\n",
    "\n",
    "\n",
    "def approxint(N=1000):\n",
    "    \"\"\"\n",
    "    Function to return an approximation for the integral using montecarlo simulation\n",
    "\n",
    "    Arguments: N (default=1000) which is the number of points\n",
    "\n",
    "    Outputs: An approximation of the integral\n",
    "    \"\"\"\n",
    "    numberofpointsundergraph = 0\n",
    "    for i in range(N):  # A loop to drop sufficient points\n",
    "        point = Point()  # Generate a new point\n",
    "        if point.undergraph:  # Check if point is under circle\n",
    "            numberofpointsundergraph += 1\n",
    "    return numberofpointsundergraph / float(N)"
   ]
  },
  {
   "cell_type": "code",
   "execution_count": 5,
   "metadata": {
    "tags": [
     "solution",
     "nbval-ignore-output"
    ]
   },
   "outputs": [
    {
     "data": {
      "text/plain": [
       "0.646"
      ]
     },
     "execution_count": 5,
     "metadata": {},
     "output_type": "execute_result"
    }
   ],
   "source": [
    "approxint()"
   ]
  },
  {
   "cell_type": "markdown",
   "metadata": {},
   "source": [
    "---\n",
    "\n",
    "## Further resources\n",
    "\n",
    "\n",
    "- [A non programmers tutorial for\n",
    "  Python:\n",
    "  Object Oriented\n",
    "  Programming](https://en.wikibooks.org/wiki/Non-Programmer%27s_Tutorial_for_Python_3/Intro_to_Object_Oriented_Programming_in_Python_3)\n",
    "- [A nice tutorial: a role playing\n",
    "  example](https://inventwithpython.com/blog/2014/12/02/why-is-object-oriented-programming-useful-with-a-role-playing-game-example/)\n",
    "- [A video about classed suggested by a student\n",
    "  tutor](https://www.youtube.com/watch?v=trOZBgZ8F_c)"
   ]
  }
 ],
 "metadata": {
  "anaconda-cloud": {},
  "celltoolbar": "Tags",
  "kernelspec": {
   "display_name": "Python 3",
   "language": "python",
   "name": "python3"
  },
  "language_info": {
   "codemirror_mode": {
    "name": "ipython",
    "version": 3
   },
   "file_extension": ".py",
   "mimetype": "text/x-python",
   "name": "python",
   "nbconvert_exporter": "python",
   "pygments_lexer": "ipython3",
   "version": "3.5.1"
  }
 },
 "nbformat": 4,
 "nbformat_minor": 2
}
