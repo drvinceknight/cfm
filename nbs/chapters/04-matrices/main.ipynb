{
 "cells": [
  {
   "cell_type": "markdown",
   "metadata": {},
   "source": [
    "## Matrices\n",
    "\n",
    "### Introduction\n",
    "\n",
    "Matrices form the building block of an area of mathematics referred to as Linear Algebra. The dictionary definition of a matrix is:\n",
    "\n",
    "> a group of numbers or other symbols arranged in a rectangle that can be used together as a single unit to solve particular mathematical problems\n",
    "\n",
    "The specific mathematical problems discussed usually correspond to solving large systems of linear equations. However they have become an area of interest in their own right and manipulating matrices usually corresponds to:\n",
    "\n",
    "- calculating the determinant of a matrix;\n",
    "- calculating the inverse of a matrix.\n",
    "\n",
    "Here we will see how to instruct a computer to carry out these techniques.\n",
    "\n",
    "## Tutorial\n",
    "\n",
    "We will solve the following problem using a computer to assist with the technical aspects:\n",
    "\n",
    "\n",
    "---\n",
    "\n",
    "The matrix \\\\(A\\\\) is given by \\\\(A=\\begin{pmatrix}a & 1 & 1\\\\ 1 & a & 1\\\\ 1 & 1 & 2\\end{pmatrix}\\\\).\n",
    "\n",
    "1. Find the determinant of \\\\(A\\\\)\n",
    "2. Hence find the values of \\\\(a\\\\) for which \\\\(A\\\\) is singular.\n",
    "3. For the following values of \\\\(a\\\\), when possible obtain \\\\(A ^ {- 1}\\\\) and confirm the result by computing \\\\(AA^{-1}\\\\):\n",
    "    1. \\\\(a = 0\\\\);\n",
    "    2. \\\\(a = 1\\\\);\n",
    "    3. \\\\(a = 2\\\\);\n",
    "    4. \\\\(a = 3\\\\).\n",
    "\n",
    "---\n",
    "\n",
    "Sympy is once again the library we will use for this.\n",
    "\n",
    "We will start by our matrix \\\\(A\\\\):"
   ]
  },
  {
   "cell_type": "code",
   "execution_count": 15,
   "metadata": {},
   "outputs": [],
   "source": [
    "import sympy as sym\n",
    "\n",
    "a = sym.Symbol(\"a\")\n",
    "A = sym.Matrix([[a, 1, 1], [1, a, 1], [1, 1, 2]])"
   ]
  },
  {
   "cell_type": "markdown",
   "metadata": {},
   "source": [
    "We can now create a variable `determinant` and assign it the value of the determinant of \\\\(A\\\\):"
   ]
  },
  {
   "cell_type": "code",
   "execution_count": 16,
   "metadata": {},
   "outputs": [
    {
     "data": {
      "text/latex": [
       "$\\displaystyle 2 a^{2} - 2 a$"
      ],
      "text/plain": [
       "2*a**2 - 2*a"
      ]
     },
     "execution_count": 16,
     "metadata": {},
     "output_type": "execute_result"
    }
   ],
   "source": [
    "determinant = A.det()\n",
    "determinant"
   ]
  },
  {
   "cell_type": "markdown",
   "metadata": {},
   "source": [
    "A matrix is singular if it has determinant 0. We can find the values of \\\\(a\\\\) for which this occurs:"
   ]
  },
  {
   "cell_type": "code",
   "execution_count": 17,
   "metadata": {},
   "outputs": [
    {
     "data": {
      "text/latex": [
       "$\\displaystyle \\left\\{0, 1\\right\\}$"
      ],
      "text/plain": [
       "FiniteSet(0, 1)"
      ]
     },
     "execution_count": 17,
     "metadata": {},
     "output_type": "execute_result"
    }
   ],
   "source": [
    "sym.solveset(determinant, a)"
   ]
  },
  {
   "cell_type": "markdown",
   "metadata": {},
   "source": [
    "Thus it is not possible to find the determinant of \\\\(A\\\\) for \\\\(a\\in\\{0, 1\\}\\\\).\n",
    "\n",
    "However for \\\\(a = 2\\\\):"
   ]
  },
  {
   "cell_type": "code",
   "execution_count": 18,
   "metadata": {},
   "outputs": [
    {
     "data": {
      "text/latex": [
       "$\\displaystyle \\left[\\begin{matrix}2 & 1 & 1\\\\1 & 2 & 1\\\\1 & 1 & 2\\end{matrix}\\right]$"
      ],
      "text/plain": [
       "Matrix([\n",
       "[2, 1, 1],\n",
       "[1, 2, 1],\n",
       "[1, 1, 2]])"
      ]
     },
     "execution_count": 18,
     "metadata": {},
     "output_type": "execute_result"
    }
   ],
   "source": [
    "A.subs({a: 2})"
   ]
  },
  {
   "cell_type": "code",
   "execution_count": 19,
   "metadata": {},
   "outputs": [
    {
     "data": {
      "text/latex": [
       "$\\displaystyle \\left[\\begin{matrix}\\frac{3}{4} & - \\frac{1}{4} & - \\frac{1}{4}\\\\- \\frac{1}{4} & \\frac{3}{4} & - \\frac{1}{4}\\\\- \\frac{1}{4} & - \\frac{1}{4} & \\frac{3}{4}\\end{matrix}\\right]$"
      ],
      "text/plain": [
       "Matrix([\n",
       "[ 3/4, -1/4, -1/4],\n",
       "[-1/4,  3/4, -1/4],\n",
       "[-1/4, -1/4,  3/4]])"
      ]
     },
     "execution_count": 19,
     "metadata": {},
     "output_type": "execute_result"
    }
   ],
   "source": [
    "A.subs({a: 2}).inv()"
   ]
  },
  {
   "cell_type": "markdown",
   "metadata": {},
   "source": [
    "To carry out matrix multiplication we use the `@` symbol:"
   ]
  },
  {
   "cell_type": "code",
   "execution_count": 22,
   "metadata": {},
   "outputs": [
    {
     "data": {
      "text/latex": [
       "$\\displaystyle \\left[\\begin{matrix}1 & 0 & 0\\\\0 & 1 & 0\\\\0 & 0 & 1\\end{matrix}\\right]$"
      ],
      "text/plain": [
       "Matrix([\n",
       "[1, 0, 0],\n",
       "[0, 1, 0],\n",
       "[0, 0, 1]])"
      ]
     },
     "execution_count": 22,
     "metadata": {},
     "output_type": "execute_result"
    }
   ],
   "source": [
    "A.subs({a: 2}).inv() @ A.subs({a: 2})"
   ]
  },
  {
   "cell_type": "markdown",
   "metadata": {},
   "source": [
    "and for \\\\(a = 3\\\\):"
   ]
  },
  {
   "cell_type": "code",
   "execution_count": 14,
   "metadata": {},
   "outputs": [
    {
     "data": {
      "text/latex": [
       "$\\displaystyle \\left[\\begin{matrix}\\frac{5}{12} & - \\frac{1}{12} & - \\frac{1}{6}\\\\- \\frac{1}{12} & \\frac{5}{12} & - \\frac{1}{6}\\\\- \\frac{1}{6} & - \\frac{1}{6} & \\frac{2}{3}\\end{matrix}\\right]$"
      ],
      "text/plain": [
       "Matrix([\n",
       "[ 5/12, -1/12, -1/6],\n",
       "[-1/12,  5/12, -1/6],\n",
       "[ -1/6,  -1/6,  2/3]])"
      ]
     },
     "execution_count": 14,
     "metadata": {},
     "output_type": "execute_result"
    }
   ],
   "source": [
    "A.subs({a: 3}).inv()"
   ]
  },
  {
   "cell_type": "code",
   "execution_count": 23,
   "metadata": {},
   "outputs": [
    {
     "data": {
      "text/latex": [
       "$\\displaystyle \\left[\\begin{matrix}1 & 0 & 0\\\\0 & 1 & 0\\\\0 & 0 & 1\\end{matrix}\\right]$"
      ],
      "text/plain": [
       "Matrix([\n",
       "[1, 0, 0],\n",
       "[0, 1, 0],\n",
       "[0, 0, 1]])"
      ]
     },
     "execution_count": 23,
     "metadata": {},
     "output_type": "execute_result"
    }
   ],
   "source": [
    "A.subs({a: 3}).inv() @ A.subs({a: 3})"
   ]
  },
  {
   "cell_type": "markdown",
   "metadata": {},
   "source": [
    "### How to\n",
    "\n",
    "\n",
    "#### Create a matrix\n",
    "\n",
    "We create a matrix using the `sym.Matrix` tool. We combine this with the square brackets `[]` which we nest so that every row is also inside square brackets.\n",
    "\n",
    "For example, the following creates the matrix:\n",
    "\n",
    "\\\\[\n",
    "    B = \\begin{pmatrix}\n",
    "            1 & 2 & 3 & 4\\\\\n",
    "            5 & 6 & 7 & 8\\\\\n",
    "            9 & 10 & 11 & 12\n",
    "        \\end{pmatrix}\n",
    "\\\\]"
   ]
  },
  {
   "cell_type": "code",
   "execution_count": 24,
   "metadata": {},
   "outputs": [
    {
     "data": {
      "text/latex": [
       "$\\displaystyle \\left[\\begin{matrix}1 & 2 & 3 & 4\\\\5 & 6 & 7 & 8\\\\9 & 10 & 11 & 12\\end{matrix}\\right]$"
      ],
      "text/plain": [
       "Matrix([\n",
       "[1,  2,  3,  4],\n",
       "[5,  6,  7,  8],\n",
       "[9, 10, 11, 12]])"
      ]
     },
     "execution_count": 24,
     "metadata": {},
     "output_type": "execute_result"
    }
   ],
   "source": [
    "B = sym.Matrix([[1, 2, 3, 4], [5, 6, 7, 8], [9, 10, 11, 12]])\n",
    "B"
   ]
  },
  {
   "cell_type": "markdown",
   "metadata": {},
   "source": [
    "**Note** that it is possible to write the code in a more readable way as long as an incomplete line ends with an open bracket:\n",
    "\n",
    "\n",
    "```\n",
    "B = sym.Matrix(\n",
    "    [\n",
    "        [1, 2, 3, 4],\n",
    "        [5, 6, 7, 8],\n",
    "        [9, 10, 11, 12]\n",
    "    ]\n",
    ")\n",
    "```"
   ]
  },
  {
   "cell_type": "markdown",
   "metadata": {},
   "source": [
    "#### Calculate the determinant of a matrix\n",
    "\n",
    "To calculate the determinant of a matrix, we use the `.det` tool. For example to calculate the determinant of:\n",
    "\n",
    "\\\\[\n",
    "    \\begin{pmatrix}\n",
    "    1 & 5\\\\\n",
    "    5 & 1\n",
    "    \\end{pmatrix}\n",
    "\\\\]"
   ]
  },
  {
   "cell_type": "code",
   "execution_count": 28,
   "metadata": {},
   "outputs": [
    {
     "data": {
      "text/latex": [
       "$\\displaystyle -24$"
      ],
      "text/plain": [
       "-24"
      ]
     },
     "execution_count": 28,
     "metadata": {},
     "output_type": "execute_result"
    }
   ],
   "source": [
    "matrix = sym.Matrix([[1, 5], [5, 1]])\n",
    "matrix.det()"
   ]
  },
  {
   "cell_type": "markdown",
   "metadata": {},
   "source": [
    "#### Calculate the inverse of a matrix\n",
    "\n",
    "\n",
    "To calculate the inverse of a matrix, we use the `.inv` tool. For example to calculate the inverse of:\n",
    "\n",
    "\\\\[\n",
    "    \\begin{pmatrix}\n",
    "        1 / 2 & 1\\\\\n",
    "        5     & 0\n",
    "    \\end{pmatrix}\n",
    "\\\\]"
   ]
  },
  {
   "cell_type": "code",
   "execution_count": 30,
   "metadata": {},
   "outputs": [
    {
     "data": {
      "text/latex": [
       "$\\displaystyle \\left[\\begin{matrix}0 & \\frac{1}{5}\\\\1 & - \\frac{1}{10}\\end{matrix}\\right]$"
      ],
      "text/plain": [
       "Matrix([\n",
       "[0,   1/5],\n",
       "[1, -1/10]])"
      ]
     },
     "execution_count": 30,
     "metadata": {},
     "output_type": "execute_result"
    }
   ],
   "source": [
    "matrix = sym.Matrix([[sym.S(1) / 2, 1], [5, 0]])\n",
    "matrix.inv()"
   ]
  },
  {
   "cell_type": "markdown",
   "metadata": {},
   "source": [
    "#### Multiply matrices by a scalar\n",
    "\n",
    "To multiple a matrix by a scalar we use the `*` operator. For example to multiply the following matrix by \\\\(6\\\\):\n",
    "\n",
    "\\\\[\n",
    "    \\begin{pmatrix}\n",
    "        1 / 5 & 1\\\\\n",
    "        1 & 1\n",
    "    \\end{pmatrix}\n",
    "\\\\]"
   ]
  },
  {
   "cell_type": "code",
   "execution_count": 32,
   "metadata": {},
   "outputs": [
    {
     "data": {
      "text/latex": [
       "$\\displaystyle \\left[\\begin{matrix}\\frac{6}{5} & 6\\\\6 & 6\\end{matrix}\\right]$"
      ],
      "text/plain": [
       "Matrix([\n",
       "[6/5, 6],\n",
       "[  6, 6]])"
      ]
     },
     "execution_count": 32,
     "metadata": {},
     "output_type": "execute_result"
    }
   ],
   "source": [
    "matrix = sym.Matrix([[sym.S(1) / 5, 1], [1, 1]])\n",
    "6 * matrix"
   ]
  },
  {
   "cell_type": "markdown",
   "metadata": {},
   "source": [
    "#### Add matrices together\n",
    "\n",
    "To add matrices we use the `+` operator. For example to compute:\n",
    "\n",
    "\\\\[\n",
    "    \\begin{pmatrix}\n",
    "        1 / 5 & 1\\\\\n",
    "        1 & 1\n",
    "    \\end{pmatrix} +\n",
    "    \\begin{pmatrix}\n",
    "        4 / 5 & 0\\\\\n",
    "        0 & 0\n",
    "    \\end{pmatrix}\n",
    "\\\\]"
   ]
  },
  {
   "cell_type": "code",
   "execution_count": 34,
   "metadata": {},
   "outputs": [
    {
     "data": {
      "text/latex": [
       "$\\displaystyle \\left[\\begin{matrix}1 & 1\\\\1 & 1\\end{matrix}\\right]$"
      ],
      "text/plain": [
       "Matrix([\n",
       "[1, 1],\n",
       "[1, 1]])"
      ]
     },
     "execution_count": 34,
     "metadata": {},
     "output_type": "execute_result"
    }
   ],
   "source": [
    "matrix = sym.Matrix([[sym.S(1) / 5, 1], [1, 1]])\n",
    "other_matrix = sym.Matrix([[sym.S(4) / 5, 0], [0, 0]])\n",
    "matrix + other_matrix"
   ]
  },
  {
   "cell_type": "markdown",
   "metadata": {},
   "source": [
    "#### Multiply matrices together\n",
    "\n",
    "To multiply matrices together we use the `@` operator. For example to compute:\n",
    "\n",
    "\n",
    "\\\\[\n",
    "    \\begin{pmatrix}\n",
    "        1 / 5 & 1\\\\\n",
    "        1 & 1\n",
    "    \\end{pmatrix}\n",
    "    \\begin{pmatrix}\n",
    "        4 / 5 & 0\\\\\n",
    "        0 & 0\n",
    "    \\end{pmatrix}\n",
    "\\\\]"
   ]
  },
  {
   "cell_type": "code",
   "execution_count": 35,
   "metadata": {},
   "outputs": [
    {
     "data": {
      "text/latex": [
       "$\\displaystyle \\left[\\begin{matrix}\\frac{4}{25} & 0\\\\\\frac{4}{5} & 0\\end{matrix}\\right]$"
      ],
      "text/plain": [
       "Matrix([\n",
       "[4/25, 0],\n",
       "[ 4/5, 0]])"
      ]
     },
     "execution_count": 35,
     "metadata": {},
     "output_type": "execute_result"
    }
   ],
   "source": [
    "matrix @ other_matrix"
   ]
  },
  {
   "cell_type": "markdown",
   "metadata": {},
   "source": [
    "#### How to create a vector\n",
    "\n",
    "A vector is essentially a matrix with a single row or column. For example to create the vector:\n",
    "\n",
    "\\\\[\n",
    "    \\begin{pmatrix}\n",
    "    3 \\\\\n",
    "    2 \\\\\n",
    "    1\n",
    "    \\end{pmatrix}\n",
    "\\\\]"
   ]
  },
  {
   "cell_type": "code",
   "execution_count": 37,
   "metadata": {},
   "outputs": [
    {
     "data": {
      "text/latex": [
       "$\\displaystyle \\left[\\begin{matrix}3\\\\2\\\\1\\end{matrix}\\right]$"
      ],
      "text/plain": [
       "Matrix([\n",
       "[3],\n",
       "[2],\n",
       "[1]])"
      ]
     },
     "execution_count": 37,
     "metadata": {},
     "output_type": "execute_result"
    }
   ],
   "source": [
    "vector = sym.Matrix([[3], [2], [1]])\n",
    "vector"
   ]
  },
  {
   "cell_type": "markdown",
   "metadata": {},
   "source": [
    "#### How to solve a linear system\n",
    "\n",
    "To solve a given linear system that can be represented in matrix form, we create the corresponding matrix and vector and use the matrix inverse. For example to solve the following equations:\n",
    "\n",
    "\\\\[\n",
    "    \\begin{array}\n",
    "        a x + 2y = 3\\\\\n",
    "        3x + y + 2z = 4\\\\\n",
    "        - y + z = 1\\\\\n",
    "    \\end{array}\n",
    "\\\\]"
   ]
  },
  {
   "cell_type": "code",
   "execution_count": 40,
   "metadata": {},
   "outputs": [
    {
     "data": {
      "text/latex": [
       "$\\displaystyle \\left[\\begin{matrix}- \\frac{5}{3}\\\\\\frac{7}{3}\\\\\\frac{10}{3}\\end{matrix}\\right]$"
      ],
      "text/plain": [
       "Matrix([\n",
       "[-5/3],\n",
       "[ 7/3],\n",
       "[10/3]])"
      ]
     },
     "execution_count": 40,
     "metadata": {},
     "output_type": "execute_result"
    }
   ],
   "source": [
    "A = sym.Matrix([[1, 2, 0], [3, 1, 2], [0, -1, 1]])\n",
    "b = sym.Matrix([[3], [4], [1]])\n",
    "A.inv() @ b"
   ]
  },
  {
   "cell_type": "markdown",
   "metadata": {},
   "source": [
    "### Exercises\n",
    "\n",
    "**After** completing the tutorial attempt the following exercises.\n",
    "\n",
    "**If you are not sure how to do something, have a look at the \"How To\" section.**\n",
    "\n",
    "1. Obtain the determinant and the inverses of the following matrices:\n",
    "    1. \\\\(A = \\begin{pmatrix} 1 / 5 & 1\\\\1 & 1\\end{pmatrix}\\\\)\n",
    "    2. \\\\(B = \\begin{pmatrix} 1 / 5 & 1 & 5\\\\3 & 1 & 6 \\\\ 1 & 2 & 1\\end{pmatrix}\\\\)\n",
    "    3. \\\\(C = \\begin{pmatrix} 1 / 5 & 5 & 5\\\\3 & 1 & 7 \\\\ a & b & c\\end{pmatrix}\\\\)\n",
    "2. Compute the following:\n",
    "    1. \\\\(500\\begin{pmatrix} 1 / 5 & 1\\\\1 & 1\\end{pmatrix}\\\\)\n",
    "    2. \\\\(\\pi \\begin{pmatrix} 1 / \\pi & 2\\pi\\\\3/\\pi & 1\\end{pmatrix}\\\\)\n",
    "    3. \\\\(500\\begin{pmatrix} 1 / 5 & 1\\\\1 & 1\\end{pmatrix} + \\pi \\begin{pmatrix} 1 / \\pi & 2\\pi\\\\3/\\pi & 1\\end{pmatrix}\\\\)\n",
    "    4. \\\\(500\\begin{pmatrix} 1 / 5 & 1\\\\1 & 1\\end{pmatrix}\\begin{pmatrix} 1 / \\pi & 2\\pi\\\\3/\\pi & 1\\end{pmatrix}\\\\)\n",
    "3. The matrix \\\\(A\\\\) is given by \\\\(A=\\begin{pmatrix}a & 4 & 2\\\\ 1 & a & 0\\\\ 1 & 2 & 1\\end{pmatrix}\\\\).\n",
    "    1. Find the determinant of \\\\(A\\\\)\n",
    "    2. Hence find the values of \\\\(a\\\\) for which \\\\(A\\\\) is singular.\n",
    "    3. State, giving a brief reason in each case, whether the simultaneous equations\n",
    "        \\\\[\n",
    "            \\begin{array}\n",
    "                a x + 4y + 2z= 3a\\\\\n",
    "                x + a  = 1\\\\\n",
    "                x + 2y + z = 3\\\\\n",
    "            \\end{array}\n",
    "        \\\\]\n",
    "\n",
    "        have any solutions when:\n",
    "          1. \\\\(a = 3\\\\);\n",
    "          2. \\\\(a = 2\\\\)\n",
    "4. Q1 The matrix \\\\(D\\\\) is given by \\\\(D = \\begin{pmatrix} a & 2 & 0\\\\ 3 & 1 & 2\\\\ 0 & -1 & 1\\end{pmatrix}\\\\) where \\\\(a\\ne 2\\\\).\n",
    "    1. Find \\\\(D^{-1}\\\\).\n",
    "    2. Hence of otherwise, solve the equations:\n",
    "\n",
    "    \\\\[\n",
    "    \\begin{array}\n",
    "        a x + 2y = 3\\\\\n",
    "        3x + y + 2z = 4\\\\\n",
    "        - y + z = 1\\\\\n",
    "    \\end{array}\n",
    "    \\\\]\n",
    "\n",
    "\n",
    "### References\n",
    "\n",
    "#### Why do we use `@` for matrix multiplication and not `*`?\n",
    "\n",
    "With sympy it is in fact possible to use the `*` operator for matrix multiplication:"
   ]
  },
  {
   "cell_type": "code",
   "execution_count": 36,
   "metadata": {},
   "outputs": [
    {
     "data": {
      "text/latex": [
       "$\\displaystyle \\left[\\begin{matrix}\\frac{4}{25} & 0\\\\\\frac{4}{5} & 0\\end{matrix}\\right]$"
      ],
      "text/plain": [
       "Matrix([\n",
       "[4/25, 0],\n",
       "[ 4/5, 0]])"
      ]
     },
     "execution_count": 36,
     "metadata": {},
     "output_type": "execute_result"
    }
   ],
   "source": [
    "matrix = sym.Matrix([[sym.S(1) / 5, 1], [1, 1]])\n",
    "other_matrix = sym.Matrix([[sym.S(4) / 5, 0], [0, 0]])\n",
    "matrix * other_matrix"
   ]
  },
  {
   "cell_type": "markdown",
   "metadata": {},
   "source": [
    "However there are other libraries that can be used for linear algebra and in those libraries the `*` does not do matrix multiplication, it does element wise multiplication instead. So for clarity it is preferred to use `@` throughout."
   ]
  },
  {
   "cell_type": "markdown",
   "metadata": {},
   "source": [
    "#### I have read that `numpy` is a library for linear algebra?|\n",
    "\n",
    "`numpy` is one of the most popular and important libraries in the Python ecosystem. It is in fact the best library to use when doing linear algebra as it is computationally efficient, **however** it cannot handle symbolic variables which is why we are seeing how to use `Sympy` here."
   ]
  }
 ],
 "metadata": {
  "jupytext": {
   "formats": "ipynb,md"
  },
  "kernelspec": {
   "display_name": "Python 3",
   "language": "python",
   "name": "python3"
  },
  "language_info": {
   "codemirror_mode": {
    "name": "ipython",
    "version": 3
   },
   "file_extension": ".py",
   "mimetype": "text/x-python",
   "name": "python",
   "nbconvert_exporter": "python",
   "pygments_lexer": "ipython3",
   "version": "3.8.3"
  }
 },
 "nbformat": 4,
 "nbformat_minor": 4
}
