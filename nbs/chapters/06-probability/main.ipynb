{
 "cells": [
  {
   "cell_type": "markdown",
   "metadata": {},
   "source": [
    "## Probability\n",
    "\n",
    "### Introduction\n",
    "\n",
    "Probability is the study of random events. Computers are particularly helpful here as they can be used to carry out a number of experiments to confirm and/or explore theoretic results.\n",
    "\n",
    "> a group of numbers or other symbols arranged in a rectangle that can be used together as a single unit to solve particular mathematical problems\n",
    "\n",
    "In practice studying probability will often involve:\n",
    "\n",
    "- calculating expected chances of an event occurring;\n",
    "- calculating the conditional chances of an event occurring given another event occurring.\n",
    "\n",
    "Here we will see how to instruct a computer to sample such events.\n",
    "\n",
    "## Tutorial\n",
    "\n",
    "We will solve the following problem using a computer to estimate the expected probabilities:\n",
    "\n",
    "\n",
    "---\n",
    "\n",
    "An experiment consists of selecting a token from a bag and spinning a coin. The bag contains 5 red tokens and 7 blue tokens. A token is selected at random from the bag, its colour is noted and then the token is returned to the bag.\n",
    "\n",
    "When a red token is selected, a biased coin with probability \\\\(\\frac{2}{3}\\\\) of landing heads is spun.\n",
    "\n",
    "When a blue token is selected a fair coin is spun.\n",
    "\n",
    "1. What is the probability of picking a red token?\n",
    "2. What is the probability of obtaining Heads?\n",
    "3. If a heads is obtained, what is the probability of having selected a red token.\n",
    "\n",
    "---\n",
    "\n",
    "We will use the `random` library from the Python standard library to do this.\n",
    "\n",
    "First we start off by building a Python **tuple** to represent the bag with the tokens. We assign this to a variable `bag`:"
   ]
  },
  {
   "cell_type": "code",
   "execution_count": 1,
   "metadata": {},
   "outputs": [
    {
     "data": {
      "text/plain": [
       "('Red',\n",
       " 'Red',\n",
       " 'Red',\n",
       " 'Red',\n",
       " 'Red',\n",
       " 'Blue',\n",
       " 'Blue',\n",
       " 'Blue',\n",
       " 'Blue',\n",
       " 'Blue',\n",
       " 'Blue',\n",
       " 'Blue')"
      ]
     },
     "execution_count": 1,
     "metadata": {},
     "output_type": "execute_result"
    }
   ],
   "source": [
    "bag = (\n",
    "    \"Red\",\n",
    "    \"Red\",\n",
    "    \"Red\",\n",
    "    \"Red\",\n",
    "    \"Red\",\n",
    "    \"Blue\",\n",
    "    \"Blue\",\n",
    "    \"Blue\",\n",
    "    \"Blue\",\n",
    "    \"Blue\",\n",
    "    \"Blue\",\n",
    "    \"Blue\",\n",
    ")\n",
    "bag"
   ]
  },
  {
   "cell_type": "markdown",
   "metadata": {},
   "source": [
    "**Note** We are there using the circular brackets `()` and the quotation marks\n",
    "`\"`. Those are important and cannot be omitted. The choice of brackets `()` as\n",
    "opposed to `{}` or `[]` is in fact important as it instructs Python to do\n",
    "different things (we will learn about this later). You can use `\"` or `'`\n",
    "interchangeably."
   ]
  },
  {
   "cell_type": "markdown",
   "metadata": {},
   "source": [
    "Instead of writing every entry out we can create a Python **list** which allows for us to carry out some basic algebra on the items. Here we essentially:\n",
    "\n",
    "- Create a list with 5 `\"Red\"`s.\n",
    "- Create a list with 7 `\"Blue\"`s.\n",
    "- Combine both lists:"
   ]
  },
  {
   "cell_type": "code",
   "execution_count": 2,
   "metadata": {},
   "outputs": [
    {
     "data": {
      "text/plain": [
       "['Red',\n",
       " 'Red',\n",
       " 'Red',\n",
       " 'Red',\n",
       " 'Red',\n",
       " 'Blue',\n",
       " 'Blue',\n",
       " 'Blue',\n",
       " 'Blue',\n",
       " 'Blue',\n",
       " 'Blue',\n",
       " 'Blue']"
      ]
     },
     "execution_count": 2,
     "metadata": {},
     "output_type": "execute_result"
    }
   ],
   "source": [
    "bag = [\"Red\"] * 5 + [\"Blue\"] * 7\n",
    "bag"
   ]
  },
  {
   "cell_type": "markdown",
   "metadata": {},
   "source": [
    "Now to sample from that we use the `random` library which has a `choice` command:"
   ]
  },
  {
   "cell_type": "code",
   "execution_count": 3,
   "metadata": {
    "tags": [
     "nbval-ignore-output"
    ]
   },
   "outputs": [
    {
     "data": {
      "text/plain": [
       "'Red'"
      ]
     },
     "execution_count": 3,
     "metadata": {},
     "output_type": "execute_result"
    }
   ],
   "source": [
    "import random\n",
    "\n",
    "\n",
    "random.choice(bag)"
   ]
  },
  {
   "cell_type": "markdown",
   "metadata": {},
   "source": [
    "If we run this many times we will not always get the same outcome:"
   ]
  },
  {
   "cell_type": "code",
   "execution_count": 4,
   "metadata": {
    "tags": [
     "nbval-ignore-output"
    ]
   },
   "outputs": [
    {
     "data": {
      "text/plain": [
       "'Blue'"
      ]
     },
     "execution_count": 4,
     "metadata": {},
     "output_type": "execute_result"
    }
   ],
   "source": [
    "random.choice(bag)"
   ]
  },
  {
   "cell_type": "markdown",
   "metadata": {},
   "source": [
    "**Note** that the `bag` variable is unchanged:"
   ]
  },
  {
   "cell_type": "code",
   "execution_count": 5,
   "metadata": {},
   "outputs": [
    {
     "data": {
      "text/plain": [
       "['Red',\n",
       " 'Red',\n",
       " 'Red',\n",
       " 'Red',\n",
       " 'Red',\n",
       " 'Blue',\n",
       " 'Blue',\n",
       " 'Blue',\n",
       " 'Blue',\n",
       " 'Blue',\n",
       " 'Blue',\n",
       " 'Blue']"
      ]
     },
     "execution_count": 5,
     "metadata": {},
     "output_type": "execute_result"
    }
   ],
   "source": [
    "bag"
   ]
  },
  {
   "cell_type": "markdown",
   "metadata": {},
   "source": [
    "In order to answer the first question (what is the probability of picking a red token) we want to repeat this many times.\n",
    "\n",
    "We do this by defining a Python function (which is akin to a mathematical function) that allows us to repeat code:"
   ]
  },
  {
   "cell_type": "code",
   "execution_count": 6,
   "metadata": {},
   "outputs": [],
   "source": [
    "def pick_a_token(container):\n",
    "    \"\"\"\n",
    "    A function to randomly sample from a `container`.\n",
    "    \"\"\"\n",
    "    return random.choice(container)"
   ]
  },
  {
   "cell_type": "markdown",
   "metadata": {},
   "source": [
    "We can then call this function, passing our `bag` to it as the `container` from which to pick:"
   ]
  },
  {
   "cell_type": "code",
   "execution_count": 7,
   "metadata": {
    "tags": [
     "nbval-ignore-output"
    ]
   },
   "outputs": [
    {
     "data": {
      "text/plain": [
       "'Blue'"
      ]
     },
     "execution_count": 7,
     "metadata": {},
     "output_type": "execute_result"
    }
   ],
   "source": [
    "pick_a_token(container=bag)"
   ]
  },
  {
   "cell_type": "code",
   "execution_count": 8,
   "metadata": {
    "tags": [
     "nbval-ignore-output"
    ]
   },
   "outputs": [
    {
     "data": {
      "text/plain": [
       "'Blue'"
      ]
     },
     "execution_count": 8,
     "metadata": {},
     "output_type": "execute_result"
    }
   ],
   "source": [
    "pick_a_token(container=bag)"
   ]
  },
  {
   "cell_type": "markdown",
   "metadata": {},
   "source": [
    "In order to simulate the probability of picking a red token we need to repeat this not once or twice but tens of thousands of times. We will do this using something called a \"list comprehension\" which is akin to the mathematical notation we use all the time to create sets:\n",
    "\n",
    "\\\\[\n",
    "    S_1 = \\{f(x)\\text{ for }x\\text{ in }S_2\\}\n",
    "\\\\]"
   ]
  },
  {
   "cell_type": "code",
   "execution_count": 9,
   "metadata": {
    "tags": [
     "nbval-ignore-output"
    ]
   },
   "outputs": [
    {
     "data": {
      "text/plain": [
       "['Blue',\n",
       " 'Blue',\n",
       " 'Red',\n",
       " 'Blue',\n",
       " 'Blue',\n",
       " 'Red',\n",
       " 'Red',\n",
       " 'Red',\n",
       " 'Blue',\n",
       " 'Blue',\n",
       " 'Blue',\n",
       " 'Red',\n",
       " 'Blue',\n",
       " 'Red',\n",
       " 'Blue',\n",
       " 'Blue',\n",
       " 'Blue',\n",
       " 'Red',\n",
       " 'Red',\n",
       " 'Red',\n",
       " 'Blue',\n",
       " 'Red',\n",
       " 'Red',\n",
       " 'Red',\n",
       " 'Blue',\n",
       " 'Blue',\n",
       " 'Blue',\n",
       " 'Blue',\n",
       " 'Blue',\n",
       " 'Blue',\n",
       " 'Blue',\n",
       " 'Red',\n",
       " 'Blue',\n",
       " 'Blue',\n",
       " 'Blue',\n",
       " 'Blue',\n",
       " 'Blue',\n",
       " 'Blue',\n",
       " 'Blue',\n",
       " 'Blue',\n",
       " 'Blue',\n",
       " 'Blue',\n",
       " 'Red',\n",
       " 'Blue',\n",
       " 'Red',\n",
       " 'Blue',\n",
       " 'Blue',\n",
       " 'Blue',\n",
       " 'Blue',\n",
       " 'Blue',\n",
       " 'Blue',\n",
       " 'Blue',\n",
       " 'Blue',\n",
       " 'Blue',\n",
       " 'Red',\n",
       " 'Blue',\n",
       " 'Red',\n",
       " 'Blue',\n",
       " 'Blue',\n",
       " 'Blue',\n",
       " 'Red',\n",
       " 'Red',\n",
       " 'Red',\n",
       " 'Red',\n",
       " 'Blue',\n",
       " 'Blue',\n",
       " 'Blue',\n",
       " 'Red',\n",
       " 'Blue',\n",
       " 'Red',\n",
       " 'Red',\n",
       " 'Red',\n",
       " 'Blue',\n",
       " 'Blue',\n",
       " 'Blue',\n",
       " 'Blue',\n",
       " 'Blue',\n",
       " 'Blue',\n",
       " 'Red',\n",
       " 'Red',\n",
       " 'Blue',\n",
       " 'Blue',\n",
       " 'Red',\n",
       " 'Red',\n",
       " 'Red',\n",
       " 'Red',\n",
       " 'Red',\n",
       " 'Red',\n",
       " 'Blue',\n",
       " 'Red',\n",
       " 'Red',\n",
       " 'Red',\n",
       " 'Red',\n",
       " 'Blue',\n",
       " 'Blue',\n",
       " 'Red',\n",
       " 'Red',\n",
       " 'Blue',\n",
       " 'Red',\n",
       " 'Red',\n",
       " 'Red',\n",
       " 'Blue',\n",
       " 'Blue',\n",
       " 'Red',\n",
       " 'Blue',\n",
       " 'Blue',\n",
       " 'Red',\n",
       " 'Red',\n",
       " 'Blue',\n",
       " 'Blue',\n",
       " 'Blue',\n",
       " 'Red',\n",
       " 'Red',\n",
       " 'Blue',\n",
       " 'Red',\n",
       " 'Blue',\n",
       " 'Red',\n",
       " 'Red',\n",
       " 'Blue',\n",
       " 'Blue',\n",
       " 'Red',\n",
       " 'Blue',\n",
       " 'Red',\n",
       " 'Blue',\n",
       " 'Blue',\n",
       " 'Blue',\n",
       " 'Red',\n",
       " 'Blue',\n",
       " 'Blue',\n",
       " 'Red',\n",
       " 'Blue',\n",
       " 'Blue',\n",
       " 'Blue',\n",
       " 'Red',\n",
       " 'Blue',\n",
       " 'Red',\n",
       " 'Red',\n",
       " 'Blue',\n",
       " 'Red',\n",
       " 'Red',\n",
       " 'Red',\n",
       " 'Blue',\n",
       " 'Blue',\n",
       " 'Blue',\n",
       " 'Blue',\n",
       " 'Blue',\n",
       " 'Red',\n",
       " 'Blue',\n",
       " 'Blue',\n",
       " 'Blue',\n",
       " 'Red',\n",
       " 'Red',\n",
       " 'Red',\n",
       " 'Red',\n",
       " 'Blue',\n",
       " 'Blue',\n",
       " 'Red',\n",
       " 'Red',\n",
       " 'Blue',\n",
       " 'Red',\n",
       " 'Red',\n",
       " 'Blue',\n",
       " 'Blue',\n",
       " 'Red',\n",
       " 'Blue',\n",
       " 'Red',\n",
       " 'Red',\n",
       " 'Red',\n",
       " 'Blue',\n",
       " 'Blue',\n",
       " 'Red',\n",
       " 'Red',\n",
       " 'Blue',\n",
       " 'Red',\n",
       " 'Red',\n",
       " 'Blue',\n",
       " 'Blue',\n",
       " 'Red',\n",
       " 'Red',\n",
       " 'Blue',\n",
       " 'Red',\n",
       " 'Blue',\n",
       " 'Red',\n",
       " 'Red',\n",
       " 'Red',\n",
       " 'Blue',\n",
       " 'Blue',\n",
       " 'Red',\n",
       " 'Blue',\n",
       " 'Red',\n",
       " 'Blue',\n",
       " 'Blue',\n",
       " 'Red',\n",
       " 'Red',\n",
       " 'Blue',\n",
       " 'Red',\n",
       " 'Blue',\n",
       " 'Red',\n",
       " 'Red',\n",
       " 'Blue',\n",
       " 'Blue',\n",
       " 'Red',\n",
       " 'Blue',\n",
       " 'Red',\n",
       " 'Red',\n",
       " 'Red',\n",
       " 'Red',\n",
       " 'Red',\n",
       " 'Red',\n",
       " 'Red',\n",
       " 'Red',\n",
       " 'Red',\n",
       " 'Blue',\n",
       " 'Red',\n",
       " 'Red',\n",
       " 'Red',\n",
       " 'Blue',\n",
       " 'Red',\n",
       " 'Blue',\n",
       " 'Red',\n",
       " 'Blue',\n",
       " 'Blue',\n",
       " 'Blue',\n",
       " 'Blue',\n",
       " 'Red',\n",
       " 'Blue',\n",
       " 'Blue',\n",
       " 'Blue',\n",
       " 'Blue',\n",
       " 'Blue',\n",
       " 'Red',\n",
       " 'Blue',\n",
       " 'Blue',\n",
       " 'Red',\n",
       " 'Blue',\n",
       " 'Red',\n",
       " 'Blue',\n",
       " 'Red',\n",
       " 'Blue',\n",
       " 'Red',\n",
       " 'Blue',\n",
       " 'Red',\n",
       " 'Blue',\n",
       " 'Blue',\n",
       " 'Red',\n",
       " 'Blue',\n",
       " 'Blue',\n",
       " 'Blue',\n",
       " 'Blue',\n",
       " 'Red',\n",
       " 'Red',\n",
       " 'Blue',\n",
       " 'Red',\n",
       " 'Red',\n",
       " 'Red',\n",
       " 'Red',\n",
       " 'Red',\n",
       " 'Blue',\n",
       " 'Blue',\n",
       " 'Red',\n",
       " 'Red',\n",
       " 'Blue',\n",
       " 'Red',\n",
       " 'Red',\n",
       " 'Blue',\n",
       " 'Red',\n",
       " 'Blue',\n",
       " 'Blue',\n",
       " 'Blue',\n",
       " 'Red',\n",
       " 'Red',\n",
       " 'Blue',\n",
       " 'Red',\n",
       " 'Blue',\n",
       " 'Red',\n",
       " 'Blue',\n",
       " 'Blue',\n",
       " 'Blue',\n",
       " 'Blue',\n",
       " 'Blue',\n",
       " 'Blue',\n",
       " 'Blue',\n",
       " 'Red',\n",
       " 'Blue',\n",
       " 'Red',\n",
       " 'Blue',\n",
       " 'Blue',\n",
       " 'Blue',\n",
       " 'Red',\n",
       " 'Red',\n",
       " 'Blue',\n",
       " 'Blue',\n",
       " 'Red',\n",
       " 'Blue',\n",
       " 'Blue',\n",
       " 'Red',\n",
       " 'Red',\n",
       " 'Blue',\n",
       " 'Blue',\n",
       " 'Blue',\n",
       " 'Blue',\n",
       " 'Blue',\n",
       " 'Red',\n",
       " 'Blue',\n",
       " 'Blue',\n",
       " 'Red',\n",
       " 'Blue',\n",
       " 'Blue',\n",
       " 'Blue',\n",
       " 'Red',\n",
       " 'Red',\n",
       " 'Blue',\n",
       " 'Blue',\n",
       " 'Red',\n",
       " 'Blue',\n",
       " 'Blue',\n",
       " 'Red',\n",
       " 'Red',\n",
       " 'Blue',\n",
       " 'Blue',\n",
       " 'Red',\n",
       " 'Blue',\n",
       " 'Blue',\n",
       " 'Blue',\n",
       " 'Red',\n",
       " 'Blue',\n",
       " 'Blue',\n",
       " 'Blue',\n",
       " 'Blue',\n",
       " 'Blue',\n",
       " 'Blue',\n",
       " 'Blue',\n",
       " 'Red',\n",
       " 'Red',\n",
       " 'Blue',\n",
       " 'Blue',\n",
       " 'Blue',\n",
       " 'Blue',\n",
       " 'Red',\n",
       " 'Blue',\n",
       " 'Blue',\n",
       " 'Blue',\n",
       " 'Red',\n",
       " 'Red',\n",
       " 'Blue',\n",
       " 'Red',\n",
       " 'Blue',\n",
       " 'Blue',\n",
       " 'Red',\n",
       " 'Blue',\n",
       " 'Red',\n",
       " 'Red',\n",
       " 'Blue',\n",
       " 'Red',\n",
       " 'Blue',\n",
       " 'Red',\n",
       " 'Red',\n",
       " 'Blue',\n",
       " 'Blue',\n",
       " 'Red',\n",
       " 'Blue',\n",
       " 'Red',\n",
       " 'Red',\n",
       " 'Blue',\n",
       " 'Red',\n",
       " 'Red',\n",
       " 'Red',\n",
       " 'Blue',\n",
       " 'Blue',\n",
       " 'Blue',\n",
       " 'Red',\n",
       " 'Blue',\n",
       " 'Red',\n",
       " 'Blue',\n",
       " 'Red',\n",
       " 'Red',\n",
       " 'Red',\n",
       " 'Blue',\n",
       " 'Red',\n",
       " 'Blue',\n",
       " 'Blue',\n",
       " 'Blue',\n",
       " 'Red',\n",
       " 'Blue',\n",
       " 'Red',\n",
       " 'Blue',\n",
       " 'Red',\n",
       " 'Blue',\n",
       " 'Blue',\n",
       " 'Blue',\n",
       " 'Blue',\n",
       " 'Red',\n",
       " 'Blue',\n",
       " 'Blue',\n",
       " 'Red',\n",
       " 'Red',\n",
       " 'Red',\n",
       " 'Blue',\n",
       " 'Blue',\n",
       " 'Blue',\n",
       " 'Red',\n",
       " 'Blue',\n",
       " 'Blue',\n",
       " 'Red',\n",
       " 'Blue',\n",
       " 'Red',\n",
       " 'Blue',\n",
       " 'Blue',\n",
       " 'Red',\n",
       " 'Red',\n",
       " 'Blue',\n",
       " 'Blue',\n",
       " 'Red',\n",
       " 'Red',\n",
       " 'Red',\n",
       " 'Blue',\n",
       " 'Red',\n",
       " 'Red',\n",
       " 'Red',\n",
       " 'Red',\n",
       " 'Red',\n",
       " 'Blue',\n",
       " 'Blue',\n",
       " 'Blue',\n",
       " 'Blue',\n",
       " 'Red',\n",
       " 'Blue',\n",
       " 'Red',\n",
       " 'Red',\n",
       " 'Red',\n",
       " 'Blue',\n",
       " 'Red',\n",
       " 'Blue',\n",
       " 'Blue',\n",
       " 'Red',\n",
       " 'Blue',\n",
       " 'Blue',\n",
       " 'Blue',\n",
       " 'Blue',\n",
       " 'Red',\n",
       " 'Red',\n",
       " 'Red',\n",
       " 'Red',\n",
       " 'Blue',\n",
       " 'Blue',\n",
       " 'Red',\n",
       " 'Red',\n",
       " 'Red',\n",
       " 'Blue',\n",
       " 'Blue',\n",
       " 'Blue',\n",
       " 'Red',\n",
       " 'Blue',\n",
       " 'Blue',\n",
       " 'Red',\n",
       " 'Red',\n",
       " 'Blue',\n",
       " 'Blue',\n",
       " 'Red',\n",
       " 'Blue',\n",
       " 'Red',\n",
       " 'Red',\n",
       " 'Blue',\n",
       " 'Blue',\n",
       " 'Red',\n",
       " 'Red',\n",
       " 'Red',\n",
       " 'Blue',\n",
       " 'Blue',\n",
       " 'Blue',\n",
       " 'Red',\n",
       " 'Red',\n",
       " 'Red',\n",
       " 'Red',\n",
       " 'Blue',\n",
       " 'Blue',\n",
       " 'Blue',\n",
       " 'Red',\n",
       " 'Red',\n",
       " 'Blue',\n",
       " 'Red',\n",
       " 'Blue',\n",
       " 'Blue',\n",
       " 'Blue',\n",
       " 'Red',\n",
       " 'Blue',\n",
       " 'Blue',\n",
       " 'Blue',\n",
       " 'Blue',\n",
       " 'Blue',\n",
       " 'Blue',\n",
       " 'Red',\n",
       " 'Red',\n",
       " 'Blue',\n",
       " 'Blue',\n",
       " 'Red',\n",
       " 'Red',\n",
       " 'Red',\n",
       " 'Blue',\n",
       " 'Blue',\n",
       " 'Blue',\n",
       " 'Blue',\n",
       " 'Blue',\n",
       " 'Red',\n",
       " 'Red',\n",
       " 'Blue',\n",
       " 'Blue',\n",
       " 'Blue',\n",
       " 'Blue',\n",
       " 'Red',\n",
       " 'Blue',\n",
       " 'Red',\n",
       " 'Blue',\n",
       " 'Blue',\n",
       " 'Red',\n",
       " 'Blue',\n",
       " 'Blue',\n",
       " 'Red',\n",
       " 'Blue',\n",
       " 'Blue',\n",
       " 'Red',\n",
       " 'Blue',\n",
       " 'Blue',\n",
       " 'Blue',\n",
       " 'Blue',\n",
       " 'Red',\n",
       " 'Blue',\n",
       " 'Red',\n",
       " 'Blue',\n",
       " 'Blue',\n",
       " 'Blue',\n",
       " 'Red',\n",
       " 'Blue',\n",
       " 'Blue',\n",
       " 'Red',\n",
       " 'Blue',\n",
       " 'Blue',\n",
       " 'Red',\n",
       " 'Blue',\n",
       " 'Blue',\n",
       " 'Blue',\n",
       " 'Red',\n",
       " 'Blue',\n",
       " 'Red',\n",
       " 'Blue',\n",
       " 'Blue',\n",
       " 'Red',\n",
       " 'Blue',\n",
       " 'Red',\n",
       " 'Red',\n",
       " 'Red',\n",
       " 'Blue',\n",
       " 'Blue',\n",
       " 'Red',\n",
       " 'Blue',\n",
       " 'Red',\n",
       " 'Red',\n",
       " 'Red',\n",
       " 'Blue',\n",
       " 'Red',\n",
       " 'Blue',\n",
       " 'Blue',\n",
       " 'Blue',\n",
       " 'Blue',\n",
       " 'Blue',\n",
       " 'Blue',\n",
       " 'Red',\n",
       " 'Blue',\n",
       " 'Red',\n",
       " 'Blue',\n",
       " 'Blue',\n",
       " 'Blue',\n",
       " 'Red',\n",
       " 'Red',\n",
       " 'Red',\n",
       " 'Red',\n",
       " 'Blue',\n",
       " 'Red',\n",
       " 'Blue',\n",
       " 'Red',\n",
       " 'Red',\n",
       " 'Blue',\n",
       " 'Blue',\n",
       " 'Blue',\n",
       " 'Red',\n",
       " 'Blue',\n",
       " 'Red',\n",
       " 'Blue',\n",
       " 'Blue',\n",
       " 'Red',\n",
       " 'Red',\n",
       " 'Blue',\n",
       " 'Red',\n",
       " 'Blue',\n",
       " 'Blue',\n",
       " 'Red',\n",
       " 'Red',\n",
       " 'Blue',\n",
       " 'Red',\n",
       " 'Red',\n",
       " 'Red',\n",
       " 'Blue',\n",
       " 'Blue',\n",
       " 'Red',\n",
       " 'Blue',\n",
       " 'Blue',\n",
       " 'Blue',\n",
       " 'Red',\n",
       " 'Red',\n",
       " 'Blue',\n",
       " 'Red',\n",
       " 'Red',\n",
       " 'Red',\n",
       " 'Blue',\n",
       " 'Red',\n",
       " 'Blue',\n",
       " 'Red',\n",
       " 'Red',\n",
       " 'Blue',\n",
       " 'Red',\n",
       " 'Blue',\n",
       " 'Blue',\n",
       " 'Red',\n",
       " 'Blue',\n",
       " 'Red',\n",
       " 'Blue',\n",
       " 'Blue',\n",
       " 'Blue',\n",
       " 'Blue',\n",
       " 'Blue',\n",
       " 'Red',\n",
       " 'Red',\n",
       " 'Red',\n",
       " 'Blue',\n",
       " 'Red',\n",
       " 'Red',\n",
       " 'Blue',\n",
       " 'Blue',\n",
       " 'Blue',\n",
       " 'Red',\n",
       " 'Blue',\n",
       " 'Blue',\n",
       " 'Red',\n",
       " 'Blue',\n",
       " 'Blue',\n",
       " 'Blue',\n",
       " 'Blue',\n",
       " 'Red',\n",
       " 'Blue',\n",
       " 'Blue',\n",
       " 'Blue',\n",
       " 'Blue',\n",
       " 'Blue',\n",
       " 'Red',\n",
       " 'Blue',\n",
       " 'Red',\n",
       " 'Red',\n",
       " 'Blue',\n",
       " 'Red',\n",
       " 'Red',\n",
       " 'Blue',\n",
       " 'Blue',\n",
       " 'Blue',\n",
       " 'Blue',\n",
       " 'Blue',\n",
       " 'Blue',\n",
       " 'Red',\n",
       " 'Red',\n",
       " 'Red',\n",
       " 'Blue',\n",
       " 'Red',\n",
       " 'Blue',\n",
       " 'Blue',\n",
       " 'Blue',\n",
       " 'Blue',\n",
       " 'Red',\n",
       " 'Blue',\n",
       " 'Blue',\n",
       " 'Red',\n",
       " 'Blue',\n",
       " 'Blue',\n",
       " 'Blue',\n",
       " 'Red',\n",
       " 'Red',\n",
       " 'Blue',\n",
       " 'Blue',\n",
       " 'Red',\n",
       " 'Blue',\n",
       " 'Red',\n",
       " 'Blue',\n",
       " 'Blue',\n",
       " 'Blue',\n",
       " 'Red',\n",
       " 'Red',\n",
       " 'Blue',\n",
       " 'Blue',\n",
       " 'Red',\n",
       " 'Red',\n",
       " 'Red',\n",
       " 'Red',\n",
       " 'Blue',\n",
       " 'Blue',\n",
       " 'Blue',\n",
       " 'Blue',\n",
       " 'Blue',\n",
       " 'Red',\n",
       " 'Blue',\n",
       " 'Red',\n",
       " 'Blue',\n",
       " 'Blue',\n",
       " 'Red',\n",
       " 'Blue',\n",
       " 'Blue',\n",
       " 'Red',\n",
       " 'Blue',\n",
       " 'Blue',\n",
       " 'Red',\n",
       " 'Blue',\n",
       " 'Red',\n",
       " 'Blue',\n",
       " 'Blue',\n",
       " 'Red',\n",
       " 'Blue',\n",
       " 'Blue',\n",
       " 'Red',\n",
       " 'Red',\n",
       " 'Red',\n",
       " 'Blue',\n",
       " 'Blue',\n",
       " 'Blue',\n",
       " 'Blue',\n",
       " 'Blue',\n",
       " 'Red',\n",
       " 'Red',\n",
       " 'Blue',\n",
       " 'Blue',\n",
       " 'Blue',\n",
       " 'Red',\n",
       " 'Red',\n",
       " 'Red',\n",
       " 'Red',\n",
       " 'Blue',\n",
       " 'Red',\n",
       " 'Red',\n",
       " 'Red',\n",
       " 'Red',\n",
       " 'Red',\n",
       " 'Red',\n",
       " 'Blue',\n",
       " 'Red',\n",
       " 'Blue',\n",
       " 'Blue',\n",
       " 'Blue',\n",
       " 'Red',\n",
       " 'Blue',\n",
       " 'Red',\n",
       " 'Red',\n",
       " 'Red',\n",
       " 'Blue',\n",
       " 'Blue',\n",
       " 'Blue',\n",
       " 'Red',\n",
       " 'Blue',\n",
       " 'Blue',\n",
       " 'Red',\n",
       " 'Red',\n",
       " 'Blue',\n",
       " 'Red',\n",
       " 'Blue',\n",
       " 'Red',\n",
       " 'Red',\n",
       " 'Red',\n",
       " 'Red',\n",
       " 'Red',\n",
       " 'Blue',\n",
       " 'Red',\n",
       " 'Blue',\n",
       " 'Blue',\n",
       " 'Red',\n",
       " 'Red',\n",
       " 'Blue',\n",
       " 'Red',\n",
       " 'Red',\n",
       " 'Red',\n",
       " 'Blue',\n",
       " 'Red',\n",
       " 'Red',\n",
       " 'Red',\n",
       " 'Red',\n",
       " 'Blue',\n",
       " 'Blue',\n",
       " 'Blue',\n",
       " 'Blue',\n",
       " 'Blue',\n",
       " 'Blue',\n",
       " 'Blue',\n",
       " 'Blue',\n",
       " 'Red',\n",
       " 'Red',\n",
       " 'Red',\n",
       " 'Blue',\n",
       " 'Red',\n",
       " 'Red',\n",
       " 'Red',\n",
       " 'Red',\n",
       " 'Blue',\n",
       " 'Blue',\n",
       " 'Blue',\n",
       " 'Red',\n",
       " 'Blue',\n",
       " 'Blue',\n",
       " 'Red',\n",
       " 'Red',\n",
       " 'Red',\n",
       " 'Red',\n",
       " 'Red',\n",
       " 'Blue',\n",
       " 'Red',\n",
       " 'Red',\n",
       " 'Blue',\n",
       " 'Blue',\n",
       " 'Blue',\n",
       " 'Red',\n",
       " 'Red',\n",
       " 'Blue',\n",
       " 'Blue',\n",
       " 'Blue',\n",
       " 'Blue',\n",
       " 'Red',\n",
       " 'Blue',\n",
       " 'Blue',\n",
       " 'Blue',\n",
       " 'Red',\n",
       " 'Red',\n",
       " 'Red',\n",
       " 'Blue',\n",
       " 'Red',\n",
       " 'Blue',\n",
       " 'Red',\n",
       " 'Red',\n",
       " 'Blue',\n",
       " 'Red',\n",
       " 'Red',\n",
       " 'Blue',\n",
       " 'Blue',\n",
       " 'Blue',\n",
       " 'Blue',\n",
       " 'Red',\n",
       " 'Red',\n",
       " 'Blue',\n",
       " 'Blue',\n",
       " 'Blue',\n",
       " 'Red',\n",
       " 'Blue',\n",
       " 'Red',\n",
       " 'Blue',\n",
       " 'Red',\n",
       " 'Blue',\n",
       " 'Blue',\n",
       " 'Blue',\n",
       " 'Blue',\n",
       " 'Blue',\n",
       " 'Blue',\n",
       " 'Red',\n",
       " 'Blue',\n",
       " 'Blue',\n",
       " 'Blue',\n",
       " 'Blue',\n",
       " 'Red',\n",
       " 'Blue',\n",
       " 'Red',\n",
       " 'Blue',\n",
       " 'Red',\n",
       " 'Blue',\n",
       " 'Blue',\n",
       " 'Blue',\n",
       " 'Blue',\n",
       " 'Red',\n",
       " 'Red',\n",
       " 'Red',\n",
       " 'Red',\n",
       " 'Blue',\n",
       " 'Blue',\n",
       " 'Blue',\n",
       " 'Red',\n",
       " 'Blue',\n",
       " 'Red',\n",
       " 'Red',\n",
       " 'Red',\n",
       " 'Blue',\n",
       " 'Blue',\n",
       " 'Blue',\n",
       " 'Blue',\n",
       " 'Red',\n",
       " 'Blue',\n",
       " 'Blue',\n",
       " 'Blue',\n",
       " 'Blue',\n",
       " 'Red',\n",
       " 'Blue',\n",
       " 'Red',\n",
       " 'Blue',\n",
       " 'Red',\n",
       " 'Blue',\n",
       " 'Blue',\n",
       " 'Blue',\n",
       " 'Red',\n",
       " 'Red',\n",
       " 'Blue',\n",
       " 'Blue',\n",
       " 'Blue',\n",
       " 'Blue',\n",
       " 'Blue',\n",
       " 'Red',\n",
       " 'Red',\n",
       " 'Blue',\n",
       " 'Blue',\n",
       " 'Red',\n",
       " 'Red',\n",
       " 'Blue',\n",
       " 'Blue',\n",
       " 'Blue',\n",
       " 'Blue',\n",
       " 'Red',\n",
       " 'Red',\n",
       " 'Blue',\n",
       " 'Red',\n",
       " 'Blue',\n",
       " 'Blue',\n",
       " 'Red',\n",
       " 'Red',\n",
       " 'Red',\n",
       " 'Red',\n",
       " 'Red',\n",
       " 'Blue',\n",
       " 'Red',\n",
       " 'Blue',\n",
       " 'Red',\n",
       " 'Red',\n",
       " 'Red',\n",
       " 'Blue',\n",
       " 'Red',\n",
       " 'Blue',\n",
       " 'Blue',\n",
       " 'Red',\n",
       " 'Red',\n",
       " 'Red',\n",
       " 'Blue',\n",
       " 'Red',\n",
       " 'Blue',\n",
       " 'Red',\n",
       " 'Red',\n",
       " 'Red',\n",
       " 'Blue',\n",
       " 'Blue',\n",
       " 'Red',\n",
       " 'Blue',\n",
       " 'Blue',\n",
       " 'Blue',\n",
       " 'Red',\n",
       " 'Red',\n",
       " 'Red',\n",
       " 'Red',\n",
       " 'Red',\n",
       " 'Blue',\n",
       " 'Blue',\n",
       " 'Blue',\n",
       " 'Blue',\n",
       " 'Red',\n",
       " 'Red',\n",
       " 'Blue',\n",
       " 'Red',\n",
       " 'Blue',\n",
       " 'Red',\n",
       " 'Red',\n",
       " 'Red',\n",
       " 'Red',\n",
       " 'Blue',\n",
       " 'Red',\n",
       " 'Red',\n",
       " 'Blue',\n",
       " 'Red',\n",
       " 'Blue',\n",
       " 'Blue',\n",
       " 'Blue',\n",
       " 'Blue',\n",
       " 'Red',\n",
       " 'Red',\n",
       " 'Blue',\n",
       " 'Red',\n",
       " 'Red',\n",
       " 'Blue',\n",
       " 'Blue',\n",
       " 'Blue',\n",
       " 'Red',\n",
       " 'Blue',\n",
       " 'Red',\n",
       " 'Blue',\n",
       " 'Blue',\n",
       " 'Blue',\n",
       " ...]"
      ]
     },
     "execution_count": 9,
     "metadata": {},
     "output_type": "execute_result"
    }
   ],
   "source": [
    "number_of_repetitions = 10000\n",
    "samples = [pick_a_token(container=bag) for repetition in range(number_of_repetitions)]\n",
    "samples"
   ]
  },
  {
   "cell_type": "markdown",
   "metadata": {},
   "source": [
    "We can confirm that we have the correct number of samples:"
   ]
  },
  {
   "cell_type": "code",
   "execution_count": 10,
   "metadata": {},
   "outputs": [
    {
     "data": {
      "text/plain": [
       "10000"
      ]
     },
     "execution_count": 10,
     "metadata": {},
     "output_type": "execute_result"
    }
   ],
   "source": [
    "len(samples)"
   ]
  },
  {
   "cell_type": "markdown",
   "metadata": {},
   "source": [
    "`len` is the Python tool to get the length of a given Python iterable."
   ]
  },
  {
   "cell_type": "markdown",
   "metadata": {},
   "source": [
    "Using this we can now use `==` (double `=`) to check how many of those samples are `Red`:"
   ]
  },
  {
   "cell_type": "code",
   "execution_count": 11,
   "metadata": {
    "tags": [
     "nbval-ignore-output"
    ]
   },
   "outputs": [
    {
     "data": {
      "text/plain": [
       "0.4146"
      ]
     },
     "execution_count": 11,
     "metadata": {},
     "output_type": "execute_result"
    }
   ],
   "source": [
    "sum(token == \"Red\" for token in samples) / number_of_repetitions"
   ]
  },
  {
   "cell_type": "markdown",
   "metadata": {},
   "source": [
    "We have sampled  probability of around .41. The theoretic value is \\\\(\\frac{5}{5 + 7}\\\\):"
   ]
  },
  {
   "cell_type": "code",
   "execution_count": 12,
   "metadata": {
    "tags": [
     "nbval-ignore-output"
    ]
   },
   "outputs": [
    {
     "data": {
      "text/plain": [
       "0.4166666666666667"
      ]
     },
     "execution_count": 12,
     "metadata": {},
     "output_type": "execute_result"
    }
   ],
   "source": [
    "5 / (5 + 7)"
   ]
  },
  {
   "cell_type": "markdown",
   "metadata": {},
   "source": [
    "To answer the second question (What is the probability of obtaining Heads?) we need to make use of another Python tool: an `if` statement. This will allow us to write a function that does precisely what is described in the problem:\n",
    "\n",
    "- Choose a token;\n",
    "- Set the probability of flipping a given coin;\n",
    "- Select that coin.\n",
    "\n",
    "**Note** that for the second random selection (flipping a coin) we will not choose from a list but instead select a random number between 0 and 1."
   ]
  },
  {
   "cell_type": "code",
   "execution_count": 13,
   "metadata": {},
   "outputs": [],
   "source": [
    "import random\n",
    "\n",
    "\n",
    "def sample_experiment(bag):\n",
    "    \"\"\"\n",
    "    This samples a token from a given bag and then\n",
    "    selects a coin with a given probability.\n",
    "\n",
    "    If the sampled token is red then the probability\n",
    "    of selecting heads is 2/3 otherwise it is 1/2.\n",
    "\n",
    "    This function returns both the selected token\n",
    "    and the coin face.\n",
    "    \"\"\"\n",
    "    selected_token = pick_a_token(container=bag)\n",
    "\n",
    "    if selected_token == \"Red\":\n",
    "        probability_of_selecting_heads = 2 / 3\n",
    "    else:\n",
    "        probability_of_selecting_heads = 1 / 2\n",
    "\n",
    "    if random.random() < probability_of_selecting_heads:\n",
    "        coin = \"Heads\"\n",
    "    else:\n",
    "        coin = \"Tails\"\n",
    "    return selected_token, coin"
   ]
  },
  {
   "cell_type": "markdown",
   "metadata": {},
   "source": [
    "Using this we can sample according to the problem description:"
   ]
  },
  {
   "cell_type": "code",
   "execution_count": 14,
   "metadata": {
    "tags": [
     "nbval-ignore-output"
    ]
   },
   "outputs": [
    {
     "data": {
      "text/plain": [
       "('Red', 'Heads')"
      ]
     },
     "execution_count": 14,
     "metadata": {},
     "output_type": "execute_result"
    }
   ],
   "source": [
    "sample_experiment(bag=bag)"
   ]
  },
  {
   "cell_type": "code",
   "execution_count": 15,
   "metadata": {
    "tags": [
     "nbval-ignore-output"
    ]
   },
   "outputs": [
    {
     "data": {
      "text/plain": [
       "('Blue', 'Heads')"
      ]
     },
     "execution_count": 15,
     "metadata": {},
     "output_type": "execute_result"
    }
   ],
   "source": [
    "sample_experiment(bag=bag)"
   ]
  },
  {
   "cell_type": "markdown",
   "metadata": {},
   "source": [
    "We can now find out the probability of selecting heads by carrying out a large number of repetitions and checking which ones have a coin that is heads:"
   ]
  },
  {
   "cell_type": "code",
   "execution_count": 16,
   "metadata": {
    "tags": [
     "nbval-ignore-output"
    ]
   },
   "outputs": [
    {
     "data": {
      "text/plain": [
       "0.5704"
      ]
     },
     "execution_count": 16,
     "metadata": {},
     "output_type": "execute_result"
    }
   ],
   "source": [
    "samples = [sample_experiment(bag=bag) for repetition in range(number_of_repetitions)]\n",
    "sum(coin == \"Heads\" for token, coin in samples) / number_of_repetitions"
   ]
  },
  {
   "cell_type": "markdown",
   "metadata": {},
   "source": [
    "We can compute this theoretically as well, the expected probability is:"
   ]
  },
  {
   "cell_type": "code",
   "execution_count": 17,
   "metadata": {},
   "outputs": [
    {
     "data": {
      "text/latex": [
       "$\\displaystyle \\frac{41}{72}$"
      ],
      "text/plain": [
       "41/72"
      ]
     },
     "execution_count": 17,
     "metadata": {},
     "output_type": "execute_result"
    }
   ],
   "source": [
    "import sympy as sym\n",
    "\n",
    "sym.S(5) / (12) * sym.S(2) / 3 + sym.S(7) / (12) * sym.S(1) / 2"
   ]
  },
  {
   "cell_type": "code",
   "execution_count": 18,
   "metadata": {
    "tags": [
     "nbval-ignore-output"
    ]
   },
   "outputs": [
    {
     "data": {
      "text/plain": [
       "0.5694444444444444"
      ]
     },
     "execution_count": 18,
     "metadata": {},
     "output_type": "execute_result"
    }
   ],
   "source": [
    "41 / 72"
   ]
  },
  {
   "cell_type": "markdown",
   "metadata": {},
   "source": [
    "We can also use our samples to calculate the conditional probability that a token was read if the coin is heads. This is done again using the list comprehension notation but including an `if` statement which allows us to emulate the mathematical notation:\n",
    "\n",
    "\\\\[\n",
    "    S_3 = \\{x \\in S_1  | \\text{ if some property of \\(x\\) holds}\\}\n",
    "\\\\]"
   ]
  },
  {
   "cell_type": "code",
   "execution_count": 19,
   "metadata": {
    "tags": [
     "nbval-ignore-output"
    ]
   },
   "outputs": [
    {
     "data": {
      "text/plain": [
       "0.491234221598878"
      ]
     },
     "execution_count": 19,
     "metadata": {},
     "output_type": "execute_result"
    }
   ],
   "source": [
    "samples_with_heads = [(token, coin) for token, coin in samples if coin == \"Heads\"]\n",
    "sum(token == \"Red\" for token, coin in samples_with_heads) / len(samples_with_heads)"
   ]
  },
  {
   "cell_type": "markdown",
   "metadata": {},
   "source": [
    "Using Bayes' theorem this is given theoretically by:\n",
    "\n",
    "\\\\[\n",
    "    P(\\text{Red}|\\text{Heads}) = \\frac{P(\\text{Heads} | \\text{Red})P(\\text{Red})}{P(\\text{Heads})}\n",
    "\\\\]"
   ]
  },
  {
   "cell_type": "code",
   "execution_count": 20,
   "metadata": {},
   "outputs": [
    {
     "data": {
      "text/latex": [
       "$\\displaystyle \\frac{20}{41}$"
      ],
      "text/plain": [
       "20/41"
      ]
     },
     "execution_count": 20,
     "metadata": {},
     "output_type": "execute_result"
    }
   ],
   "source": [
    "(sym.S(2) / 3 * sym.S(5) / 12) / (sym.S(41) / 72)"
   ]
  },
  {
   "cell_type": "code",
   "execution_count": 21,
   "metadata": {
    "tags": [
     "nbval-ignore-output"
    ]
   },
   "outputs": [
    {
     "data": {
      "text/plain": [
       "0.4878048780487805"
      ]
     },
     "execution_count": 21,
     "metadata": {},
     "output_type": "execute_result"
    }
   ],
   "source": [
    "20 / 41"
   ]
  },
  {
   "cell_type": "markdown",
   "metadata": {},
   "source": [
    "### How to\n",
    "\n",
    "#### Create a list\n",
    "\n",
    "To create a list which is an ordered collection of objects that **can** be changed we use the `[]` brackets:"
   ]
  },
  {
   "cell_type": "code",
   "execution_count": 22,
   "metadata": {},
   "outputs": [
    {
     "data": {
      "text/plain": [
       "['Bread', 'Biscuits', 'Coffee']"
      ]
     },
     "execution_count": 22,
     "metadata": {},
     "output_type": "execute_result"
    }
   ],
   "source": [
    "basket = [\"Bread\", \"Biscuits\", \"Coffee\"]\n",
    "basket"
   ]
  },
  {
   "cell_type": "markdown",
   "metadata": {},
   "source": [
    "We can add to our list by appending to it:"
   ]
  },
  {
   "cell_type": "code",
   "execution_count": 23,
   "metadata": {},
   "outputs": [
    {
     "data": {
      "text/plain": [
       "['Bread', 'Biscuits', 'Coffee', 'Tea']"
      ]
     },
     "execution_count": 23,
     "metadata": {},
     "output_type": "execute_result"
    }
   ],
   "source": [
    "basket.append(\"Tea\")\n",
    "basket"
   ]
  },
  {
   "cell_type": "markdown",
   "metadata": {},
   "source": [
    "We can also combine lists together:"
   ]
  },
  {
   "cell_type": "code",
   "execution_count": 24,
   "metadata": {},
   "outputs": [
    {
     "data": {
      "text/plain": [
       "['Bread', 'Biscuits', 'Coffee', 'Tea', 'Toothpaste']"
      ]
     },
     "execution_count": 24,
     "metadata": {},
     "output_type": "execute_result"
    }
   ],
   "source": [
    "other_basket = [\"Toothpaste\"]\n",
    "basket = basket + other_basket\n",
    "basket"
   ]
  },
  {
   "cell_type": "markdown",
   "metadata": {},
   "source": [
    "As for tuples we can also access elements using their indices:"
   ]
  },
  {
   "cell_type": "code",
   "execution_count": 25,
   "metadata": {},
   "outputs": [
    {
     "data": {
      "text/plain": [
       "'Tea'"
      ]
     },
     "execution_count": 25,
     "metadata": {},
     "output_type": "execute_result"
    }
   ],
   "source": [
    "basket[3]"
   ]
  },
  {
   "cell_type": "markdown",
   "metadata": {},
   "source": [
    "#### Define a function\n",
    "\n",
    "We define a function using the `def` keyword (short for define):\n",
    "\n",
    "```\n",
    "def name(variable1, variable2, ...):\n",
    "    \"\"\"\n",
    "    A docstring between triple quotation to describe what is happening\n",
    "    \"\"\"\n",
    "    INDENTED BLOCK OF CODE\n",
    "    return output\n",
    "```\n",
    "\n",
    "INCLUDE IMAGE HERE\n",
    "\n",
    "We can for example define \\\\(f:\\mathbb{R}\\to\\mathbb{R}\\\\) given by \\\\(f(x) = x ^ 3\\\\) using the following:"
   ]
  },
  {
   "cell_type": "code",
   "execution_count": 26,
   "metadata": {},
   "outputs": [],
   "source": [
    "def x_cubed(x):\n",
    "    \"\"\"\n",
    "    A function to return x ^ 3\n",
    "    \"\"\"\n",
    "    return x ** 3"
   ]
  },
  {
   "cell_type": "markdown",
   "metadata": {},
   "source": [
    "It is important to include the *docstring* as this allows us to make sure our code is clear. We can access that docstring using `help`:"
   ]
  },
  {
   "cell_type": "code",
   "execution_count": 27,
   "metadata": {},
   "outputs": [
    {
     "name": "stdout",
     "output_type": "stream",
     "text": [
      "Help on function x_cubed in module __main__:\n",
      "\n",
      "x_cubed(x)\n",
      "    A function to return x ^ 3\n",
      "\n"
     ]
    }
   ],
   "source": [
    "help(x_cubed)"
   ]
  },
  {
   "cell_type": "markdown",
   "metadata": {},
   "source": [
    "#### Call a function\n",
    "\n",
    "Once a function is defined we call it using the `()`:\n",
    "\n",
    "```\n",
    "name(variable1, variable2, ...)\n",
    "```"
   ]
  },
  {
   "cell_type": "markdown",
   "metadata": {},
   "source": [
    "For example:"
   ]
  },
  {
   "cell_type": "code",
   "execution_count": 28,
   "metadata": {},
   "outputs": [
    {
     "data": {
      "text/plain": [
       "8"
      ]
     },
     "execution_count": 28,
     "metadata": {},
     "output_type": "execute_result"
    }
   ],
   "source": [
    "x_cubed(2)"
   ]
  },
  {
   "cell_type": "code",
   "execution_count": 29,
   "metadata": {},
   "outputs": [
    {
     "data": {
      "text/plain": [
       "125"
      ]
     },
     "execution_count": 29,
     "metadata": {},
     "output_type": "execute_result"
    }
   ],
   "source": [
    "x_cubed(5)"
   ]
  },
  {
   "cell_type": "code",
   "execution_count": 30,
   "metadata": {},
   "outputs": [
    {
     "data": {
      "text/latex": [
       "$\\displaystyle x^{3}$"
      ],
      "text/plain": [
       "x**3"
      ]
     },
     "execution_count": 30,
     "metadata": {},
     "output_type": "execute_result"
    }
   ],
   "source": [
    "x = sym.Symbol(\"x\")\n",
    "x_cubed(x)"
   ]
  },
  {
   "cell_type": "markdown",
   "metadata": {},
   "source": [
    "#### Conditional running of code\n",
    "\n",
    "To run code depending on whether or not a particular condition is met we use something called an `if` statement.\n",
    "\n",
    "\n",
    "```\n",
    "if condition:\n",
    "    INDENTED BLOCK OF CODE TO RUN IF CONDITION IS TRUE\n",
    "else:\n",
    "    OTHER INDENTED BLOCK OF CODE TO RUM IF CONDITION IS NOT TRUE\n",
    "```"
   ]
  },
  {
   "cell_type": "markdown",
   "metadata": {},
   "source": [
    "These `if` statements are most useful when combined with functions. For example we can define the following function:\n",
    "\n",
    "\\\\[\n",
    "    f(x) = \\begin{cases}\n",
    "            x ^ 3&\\text{ if }x < 0\\\\\n",
    "            x ^ 2&\\text{ otherwise}\n",
    "            \\end{cases}\n",
    "\\\\]"
   ]
  },
  {
   "cell_type": "code",
   "execution_count": 31,
   "metadata": {},
   "outputs": [],
   "source": [
    "def f(x):\n",
    "    \"\"\"\n",
    "    A function that returns x ^ 3 if x is negative.\n",
    "    Otherwise it returns x ^ 2.\n",
    "    \"\"\"\n",
    "    if x < 0:\n",
    "        return x ** 3\n",
    "    return x ** 2"
   ]
  },
  {
   "cell_type": "code",
   "execution_count": 32,
   "metadata": {},
   "outputs": [
    {
     "data": {
      "text/plain": [
       "0"
      ]
     },
     "execution_count": 32,
     "metadata": {},
     "output_type": "execute_result"
    }
   ],
   "source": [
    "f(0)"
   ]
  },
  {
   "cell_type": "code",
   "execution_count": 33,
   "metadata": {},
   "outputs": [
    {
     "data": {
      "text/plain": [
       "-1"
      ]
     },
     "execution_count": 33,
     "metadata": {},
     "output_type": "execute_result"
    }
   ],
   "source": [
    "f(-1)"
   ]
  },
  {
   "cell_type": "code",
   "execution_count": 34,
   "metadata": {},
   "outputs": [
    {
     "data": {
      "text/plain": [
       "9"
      ]
     },
     "execution_count": 34,
     "metadata": {},
     "output_type": "execute_result"
    }
   ],
   "source": [
    "f(3)"
   ]
  },
  {
   "cell_type": "markdown",
   "metadata": {},
   "source": [
    "Here is another example of a function that returns the price of a given item, if the item is not specific in the function then the price is free:"
   ]
  },
  {
   "cell_type": "code",
   "execution_count": 35,
   "metadata": {},
   "outputs": [],
   "source": [
    "def get_price_of_item(item):\n",
    "    \"\"\"\n",
    "    Returns the price of an item:\n",
    "\n",
    "    - 'Bread': 2\n",
    "    - 'Biscuits': 3\n",
    "    - 'Coffee': 1.80\n",
    "    - 'Tea': .50\n",
    "    - 'Toothpaste': 3.50\n",
    "\n",
    "    Other items will give a price of 0.\n",
    "    \"\"\"\n",
    "    if item == \"Bread\":\n",
    "        return 2\n",
    "    if item == \"Biscuits\":\n",
    "        return 3\n",
    "    if item == \"Coffee\":\n",
    "        return 1.80\n",
    "    if item == \"Tea\":\n",
    "        return 0.50\n",
    "    if item == \"Toothpaste\":\n",
    "        return 3.50\n",
    "    return 0"
   ]
  },
  {
   "cell_type": "code",
   "execution_count": 36,
   "metadata": {},
   "outputs": [
    {
     "data": {
      "text/plain": [
       "3.5"
      ]
     },
     "execution_count": 36,
     "metadata": {},
     "output_type": "execute_result"
    }
   ],
   "source": [
    "get_price_of_item(\"Toothpaste\")"
   ]
  },
  {
   "cell_type": "code",
   "execution_count": 37,
   "metadata": {},
   "outputs": [
    {
     "data": {
      "text/plain": [
       "3"
      ]
     },
     "execution_count": 37,
     "metadata": {},
     "output_type": "execute_result"
    }
   ],
   "source": [
    "get_price_of_item(\"Biscuits\")"
   ]
  },
  {
   "cell_type": "code",
   "execution_count": 38,
   "metadata": {},
   "outputs": [
    {
     "data": {
      "text/plain": [
       "0"
      ]
     },
     "execution_count": 38,
     "metadata": {},
     "output_type": "execute_result"
    }
   ],
   "source": [
    "get_price_of_item(\"Rollerblades\")"
   ]
  },
  {
   "cell_type": "markdown",
   "metadata": {},
   "source": [
    "#### Create a list using a list comprehension\n",
    "\n",
    "We can create a new list from an old list using a **list comprehension**. This corresponds to building a set from another set in the usual mathematical notation:\n",
    "\n",
    "\\\\[\n",
    "S_2 = \\{f(x)\\text{ for x in }S_1\\}\n",
    "\\\\]\n",
    "\n",
    "If \\\\(f(x)=x - 5\\\\) and \\\\(S_1=\\{2, 5, 10\\}\\\\) then we would have:\n",
    "\n",
    "\\\\[\n",
    "S_2 = \\{-3, 0, 5\\}\n",
    "\\\\]\n",
    "\n",
    "In Python this is done as follows:\n",
    "\n",
    "\n",
    "```python\n",
    "new_list = [object for object in old_list]\n",
    "```"
   ]
  },
  {
   "cell_type": "code",
   "execution_count": 39,
   "metadata": {},
   "outputs": [
    {
     "data": {
      "text/plain": [
       "[-3, 0, 5]"
      ]
     },
     "execution_count": 39,
     "metadata": {},
     "output_type": "execute_result"
    }
   ],
   "source": [
    "s_1 = [2, 5, 10]\n",
    "s_2 = [x - 5 for x in s_1]\n",
    "s_2"
   ]
  },
  {
   "cell_type": "markdown",
   "metadata": {},
   "source": [
    "We can combine this with functions to write succinct efficient code.\n",
    "\n",
    "For example we can compute the price of a basket of goods using the following:"
   ]
  },
  {
   "cell_type": "code",
   "execution_count": 40,
   "metadata": {},
   "outputs": [
    {
     "data": {
      "text/plain": [
       "[0.5, 0.5, 3.5, 2]"
      ]
     },
     "execution_count": 40,
     "metadata": {},
     "output_type": "execute_result"
    }
   ],
   "source": [
    "basket = [\"Tea\", \"Tea\", \"Toothpaste\", \"Bread\"]\n",
    "prices = [get_price_of_item(item) for item in basket]\n",
    "prices"
   ]
  },
  {
   "cell_type": "markdown",
   "metadata": {},
   "source": [
    "#### Creating an iterable with a given number of items\n",
    "\n",
    "A common use of list comprehensions is to combine it with the `range` tool which gives a given number of integers.\n",
    "\n",
    "For example:"
   ]
  },
  {
   "cell_type": "code",
   "execution_count": 41,
   "metadata": {},
   "outputs": [
    {
     "data": {
      "text/plain": [
       "[0, 1, 2, 3, 4, 5, 6, 7, 8, 9]"
      ]
     },
     "execution_count": 41,
     "metadata": {},
     "output_type": "execute_result"
    }
   ],
   "source": [
    "[number for number in range(10)]"
   ]
  },
  {
   "cell_type": "markdown",
   "metadata": {},
   "source": [
    "Note that `range(N)` gives the integers from 0 until \\\\(N - 1\\\\) (inclusive)."
   ]
  },
  {
   "cell_type": "markdown",
   "metadata": {},
   "source": [
    "#### Adding items in a list\n",
    "\n",
    "We can compute the sum of items in a list using the `sum` tool:"
   ]
  },
  {
   "cell_type": "code",
   "execution_count": 42,
   "metadata": {},
   "outputs": [
    {
     "data": {
      "text/plain": [
       "6"
      ]
     },
     "execution_count": 42,
     "metadata": {},
     "output_type": "execute_result"
    }
   ],
   "source": [
    "sum([1, 2, 3])"
   ]
  },
  {
   "cell_type": "markdown",
   "metadata": {},
   "source": [
    "We can also directly use the `sum` without specifically creating the list. This corresponds to the following mathematical notation:\n",
    "\n",
    "\\\\[\n",
    "    \\sum_{s\\in S}f(s)\n",
    "\\\\]\n",
    "\n",
    "and is done using the following:\n",
    "\n",
    "\n",
    "```python\n",
    "sum(f(object) for object in old_list)\n",
    "```\n",
    "\n",
    "This gives the same result as:\n",
    "\n",
    "\n",
    "```python\n",
    "sum([f(object) for object in old_list])\n",
    "```\n",
    "\n",
    "but it is not as efficient.\n",
    "\n",
    "Here is an example of getting the total price of a basket of goods:"
   ]
  },
  {
   "cell_type": "code",
   "execution_count": 43,
   "metadata": {},
   "outputs": [
    {
     "data": {
      "text/plain": [
       "6.5"
      ]
     },
     "execution_count": 43,
     "metadata": {},
     "output_type": "execute_result"
    }
   ],
   "source": [
    "basket = [\"Tea\", \"Tea\", \"Toothpaste\", \"Bread\"]\n",
    "total_price = sum(get_price_of_item(item) for item in basket)\n",
    "total_price"
   ]
  },
  {
   "cell_type": "markdown",
   "metadata": {},
   "source": [
    "#### Sample from an iterable\n",
    "\n",
    "To randomly sample from any collection of items (this is called an **iterable**) we use the random library and the `choice` tool:"
   ]
  },
  {
   "cell_type": "code",
   "execution_count": 44,
   "metadata": {
    "tags": [
     "nbval-ignore-output"
    ]
   },
   "outputs": [
    {
     "data": {
      "text/plain": [
       "'Tea'"
      ]
     },
     "execution_count": 44,
     "metadata": {},
     "output_type": "execute_result"
    }
   ],
   "source": [
    "import random\n",
    "\n",
    "\n",
    "basket = [\"Tea\", \"Tea\", \"Toothpaste\", \"Bread\"]\n",
    "random.choice(basket)"
   ]
  },
  {
   "cell_type": "markdown",
   "metadata": {},
   "source": [
    "#### Sample a random number\n",
    "\n",
    "To sample a random number between 0 and 1 we use the random library and the `random` tool:"
   ]
  },
  {
   "cell_type": "code",
   "execution_count": 45,
   "metadata": {
    "tags": [
     "nbval-ignore-output"
    ]
   },
   "outputs": [
    {
     "data": {
      "text/plain": [
       "0.9193454808484859"
      ]
     },
     "execution_count": 45,
     "metadata": {},
     "output_type": "execute_result"
    }
   ],
   "source": [
    "import random\n",
    "\n",
    "\n",
    "random.random()"
   ]
  },
  {
   "cell_type": "markdown",
   "metadata": {},
   "source": [
    "#### Reproduce random events\n",
    "\n",
    "The random numbers processes generated by the Python random module are what are called pseudo random which means that we can get a computer to reproduce them by **seeding** the random process:"
   ]
  },
  {
   "cell_type": "code",
   "execution_count": 46,
   "metadata": {},
   "outputs": [
    {
     "data": {
      "text/plain": [
       "0.8444218515250481"
      ]
     },
     "execution_count": 46,
     "metadata": {},
     "output_type": "execute_result"
    }
   ],
   "source": [
    "import random\n",
    "\n",
    "random.seed(0)\n",
    "random.random()"
   ]
  },
  {
   "cell_type": "code",
   "execution_count": 47,
   "metadata": {},
   "outputs": [
    {
     "data": {
      "text/plain": [
       "0.7579544029403025"
      ]
     },
     "execution_count": 47,
     "metadata": {},
     "output_type": "execute_result"
    }
   ],
   "source": [
    "random.random()"
   ]
  },
  {
   "cell_type": "code",
   "execution_count": 48,
   "metadata": {},
   "outputs": [
    {
     "data": {
      "text/plain": [
       "0.8444218515250481"
      ]
     },
     "execution_count": 48,
     "metadata": {},
     "output_type": "execute_result"
    }
   ],
   "source": [
    "random.seed(0)\n",
    "random.random()"
   ]
  },
  {
   "cell_type": "markdown",
   "metadata": {},
   "source": [
    "### Exercises\n",
    "\n",
    "**After** completing the tutorial attempt the following exercises.\n",
    "\n",
    "**If you are not sure how to do something, have a look at the \"How To\" section.**\n",
    "\n",
    "1. Simulate the probability of an event occurring with the following chances:\n",
    "    1. \\\\(\\frac{2}{7}\\\\)\n",
    "    2. \\\\(\\frac{1}{10}\\\\)\n",
    "    3.  \\\\(\\frac{1}{100}\\\\)\n",
    "    4.  \\\\(1\\\\)\n",
    "2. Simulate the probability of selecting a red token from each of the following configurations:\n",
    "    1. A bag with 4 red tokens and 4 green tokens.\n",
    "    2. A bag with 4 red tokens, 4 green tokens and 10 yellow tokens.\n",
    "    3. A bag with 0 red tokens, 4 green tokens and 10 yellow tokens.\n",
    "3. An experiment consists of selecting a token from a bag and spinning a coin. The bag contains 3 red tokens and 4 blue tokens. A token is selected at random from the bag, its colour is noted and then the token is returned to the bag.\n",
    "\n",
    "    When a red token is selected, a biased coin with probability \\\\(\\frac{4}{5}\\\\) of landing heads is spun.\n",
    "\n",
    "    When a blue token is selected, a biased coin with probability \\\\(\\frac{2}{5}\\\\) of landing heads is spun.\n",
    "\n",
    "    1. What is the probability of picking a red token?\n",
    "    2. What is the probability of obtaining Heads?\n",
    "    3. If a heads is obtained, what is the probability of having selected a red token.\n",
    "4. On a randomly chose day, the probability of an individual travelling to school by car, bicycle or on foot is \\\\(1/2\\\\), \\\\(1/6\\\\) and \\\\(1/3\\\\) respectively. The probability of being late when using these methods of travel is \\\\(1/5\\\\), \\\\(2/5\\\\) and \\\\(1/10\\\\) respectively.\n",
    "\n",
    "    1. Find the probability that an individual travels by foot and is late.\n",
    "    2. Find the probability that an individual is not late.\n",
    "    3. Given that an individual is late, find the probability that they did not travel on foot.\n",
    "\n",
    "### References\n",
    "\n",
    "#### What is the difference between a Python list and a Python tuple?\n",
    "\n",
    "Two of the most used Python iterables are lists and tuples. In practice they have a number of similarities, they are both ordered collections of objects that can be used in list comprehensions as well as in other ways.\n",
    "\n",
    "- Tuples are **immutable**\n",
    "- Lists are **mutable**\n",
    "\n",
    "This means that once created tuples cannot be changed and lists can.\n",
    "\n",
    "As a general rule of thumb: if you do not need to modify your iterable then use a tuple as they are more computationally efficient.\n",
    "\n",
    "This blog post is a good explanation of the difference: https://www.afternerd.com/blog/difference-between-list-tuple/\n",
    "\n",
    "#### Why does the sum of booleans counts the `True`s?\n",
    "\n",
    "In the tutorial and elsewhere we created a list of booleans and then take the sum. Here are some of the steps:\n"
   ]
  },
  {
   "cell_type": "code",
   "execution_count": 49,
   "metadata": {},
   "outputs": [],
   "source": [
    "samples = (\"Red\", \"Red\", \"Blue\")"
   ]
  },
  {
   "cell_type": "code",
   "execution_count": 50,
   "metadata": {},
   "outputs": [
    {
     "data": {
      "text/plain": [
       "[True, True, False]"
      ]
     },
     "execution_count": 50,
     "metadata": {},
     "output_type": "execute_result"
    }
   ],
   "source": [
    "booleans = [sample == \"Red\" for sample in samples]\n",
    "booleans"
   ]
  },
  {
   "cell_type": "markdown",
   "metadata": {},
   "source": [
    "When we take the `sum` of that list we get a numeric value:"
   ]
  },
  {
   "cell_type": "code",
   "execution_count": 51,
   "metadata": {},
   "outputs": [
    {
     "data": {
      "text/plain": [
       "2"
      ]
     },
     "execution_count": 51,
     "metadata": {},
     "output_type": "execute_result"
    }
   ],
   "source": [
    "sum(booleans)"
   ]
  },
  {
   "cell_type": "markdown",
   "metadata": {},
   "source": [
    "This has in fact counted the `True` values as 1 and the `False` values as 0."
   ]
  },
  {
   "cell_type": "code",
   "execution_count": 52,
   "metadata": {},
   "outputs": [
    {
     "data": {
      "text/plain": [
       "1"
      ]
     },
     "execution_count": 52,
     "metadata": {},
     "output_type": "execute_result"
    }
   ],
   "source": [
    "int(True)"
   ]
  },
  {
   "cell_type": "code",
   "execution_count": 53,
   "metadata": {},
   "outputs": [
    {
     "data": {
      "text/plain": [
       "0"
      ]
     },
     "execution_count": 53,
     "metadata": {},
     "output_type": "execute_result"
    }
   ],
   "source": [
    "int(False)"
   ]
  },
  {
   "cell_type": "markdown",
   "metadata": {},
   "source": [
    "#### What is the difference between `print` and `return`?\n",
    "\n",
    "In functions you see we use the `return` statement. This does two things:\n",
    "\n",
    "1. Assigns a value to the function run;\n",
    "2. Ends the function.\n",
    "\n",
    "The `print` statement **only** displays the output.\n",
    "\n",
    "As an example let us create the following set:\n",
    "\n",
    "\\\\[\n",
    "    S = \\{f(x)\\text{ for }x \\in \\{0, \\pi / 4, \\pi / 2, 3\\pi / 4\\}\\}\n",
    "\\\\]\n",
    "\n",
    "where \\\\(f(x)= \\cos^2(x)\\\\)."
   ]
  },
  {
   "cell_type": "markdown",
   "metadata": {},
   "source": [
    "The correct way to do this is:"
   ]
  },
  {
   "cell_type": "code",
   "execution_count": 54,
   "metadata": {},
   "outputs": [
    {
     "data": {
      "text/plain": [
       "[1, 1/2, 0, 1/2]"
      ]
     },
     "execution_count": 54,
     "metadata": {},
     "output_type": "execute_result"
    }
   ],
   "source": [
    "import sympy as sym\n",
    "\n",
    "\n",
    "def f(x):\n",
    "    \"\"\"\n",
    "    Return the square of the cosine of x\n",
    "    \"\"\"\n",
    "    return sym.cos(x) ** 2\n",
    "\n",
    "\n",
    "S = [f(x) for x in (0, sym.pi / 4, sym.pi / 2, 3 * sym.pi / 4)]\n",
    "S"
   ]
  },
  {
   "cell_type": "markdown",
   "metadata": {},
   "source": [
    "If we replaced the `return` statement in the function definition with a `print` we obtain:"
   ]
  },
  {
   "cell_type": "code",
   "execution_count": 55,
   "metadata": {},
   "outputs": [
    {
     "name": "stdout",
     "output_type": "stream",
     "text": [
      "1\n",
      "1/2\n",
      "0\n",
      "1/2\n"
     ]
    }
   ],
   "source": [
    "def f(x):\n",
    "    \"\"\"\n",
    "    Return the square of the cosine of x\n",
    "    \"\"\"\n",
    "    print(sym.cos(x) ** 2)\n",
    "\n",
    "\n",
    "S = [f(x) for x in (0, sym.pi / 4, sym.pi / 2, 3 * sym.pi / 4)]"
   ]
  },
  {
   "cell_type": "markdown",
   "metadata": {},
   "source": [
    "We see now that as the function has been run it displays the output.\n",
    "\n",
    "**However** if we look at what `S` is we see that the function has not returned anything:"
   ]
  },
  {
   "cell_type": "code",
   "execution_count": 56,
   "metadata": {},
   "outputs": [
    {
     "data": {
      "text/plain": [
       "[None, None, None, None]"
      ]
     },
     "execution_count": 56,
     "metadata": {},
     "output_type": "execute_result"
    }
   ],
   "source": [
    "S"
   ]
  },
  {
   "cell_type": "markdown",
   "metadata": {},
   "source": [
    "Here are some other materials on this subject:\n",
    "\n",
    "- https://www.tutorialspoint.com/Why-would-you-use-the-return-statement-in-Python\n",
    "- https://pythonprinciples.com/blog/print-vs-return/"
   ]
  },
  {
   "cell_type": "markdown",
   "metadata": {},
   "source": [
    "#### How does Python sample randomness?\n",
    "\n",
    "When using the Python random module we are in fact generating a pseudo random process. True randomness is actually not common.\n",
    "\n",
    "Pseudo randomness is an important area of mathematics as strong algorithms that\n",
    "create unpredictable sequences of numbers are vital to cryptographic security.\n",
    "\n",
    "The specific algorithm using in Python for randomness is called the Mersenne twister algorithm is state of the art.\n",
    "\n",
    "You can read more about this here: https://docs.python.org/3/library/random.html#module-random"
   ]
  },
  {
   "cell_type": "markdown",
   "metadata": {},
   "source": [
    "#### What is the difference between a docstring and a comment\n",
    "\n",
    "In Python it is possible to write statements that are ignored using the `#` symbol. This creates something called a \"comment\". For example:"
   ]
  },
  {
   "cell_type": "code",
   "execution_count": 57,
   "metadata": {},
   "outputs": [],
   "source": [
    "# create a list to represent the tokens in a bag\n",
    "bag = [\"Red\", \"Red\", \"Blue\"]"
   ]
  },
  {
   "cell_type": "markdown",
   "metadata": {},
   "source": [
    "A docstring however is something that is \"attached\" to a function and can be accessed by Python.\n",
    "\n",
    "If we rewrite the function to sample the experiment of the tutorial without a docstring but using comments we will have:"
   ]
  },
  {
   "cell_type": "code",
   "execution_count": 58,
   "metadata": {},
   "outputs": [],
   "source": [
    "def sample_experiment(bag):\n",
    "    # Select a token\n",
    "    selected_token = pick_a_token(container=bag)\n",
    "\n",
    "    # If the token is red then the probability of selecting heads is 2/3\n",
    "    if selected_token == \"Red\":\n",
    "        probability_of_selecting_heads = 2 / 3\n",
    "    # Otherwise it is 1 / 2\n",
    "    else:\n",
    "        probability_of_selecting_heads = 1 / 2\n",
    "\n",
    "    # Select a coin according to the probability.\n",
    "    if random.random() < probability_of_selecting_heads:\n",
    "        coin = \"Heads\"\n",
    "    else:\n",
    "        coin = \"Tails\"\n",
    "\n",
    "    # Return both the selected token and the coin.\n",
    "    return selected_token, coin"
   ]
  },
  {
   "cell_type": "markdown",
   "metadata": {},
   "source": [
    "Now if we try to access the help for the function we will not get it:"
   ]
  },
  {
   "cell_type": "code",
   "execution_count": 59,
   "metadata": {},
   "outputs": [
    {
     "name": "stdout",
     "output_type": "stream",
     "text": [
      "Help on function sample_experiment in module __main__:\n",
      "\n",
      "sample_experiment(bag)\n",
      "\n"
     ]
    }
   ],
   "source": [
    "help(sample_experiment)"
   ]
  },
  {
   "cell_type": "markdown",
   "metadata": {},
   "source": [
    "Furthermore, if you look at the code with comments you will see that because of the choice of variable names the comments are in fact redundant.\n",
    "\n",
    "In software engineering it is generally accepted that comments indicate that your code is not clear and so it is preferable to write clear documentation explaining why something is done through docstrings."
   ]
  },
  {
   "cell_type": "code",
   "execution_count": 60,
   "metadata": {},
   "outputs": [],
   "source": [
    "def sample_experiment(bag):\n",
    "    \"\"\"\n",
    "    This samples a token from a given bag and then\n",
    "    selects a coin with a given probability.\n",
    "\n",
    "    If the sampled token is red then the probability\n",
    "    of selecting heads is 2/3 otherwise it is 1/2.\n",
    "\n",
    "    This function returns both the selected token\n",
    "    and the coin face.\n",
    "    \"\"\"\n",
    "    selected_token = pick_a_token(container=bag)\n",
    "\n",
    "    if selected_token == \"Red\":\n",
    "        probability_of_selecting_heads = 2 / 3\n",
    "    else:\n",
    "        probability_of_selecting_heads = 1 / 2\n",
    "\n",
    "    if random.random() < probability_of_selecting_heads:\n",
    "        coin = \"Heads\"\n",
    "    else:\n",
    "        coin = \"Tails\"\n",
    "    return selected_token, coin"
   ]
  },
  {
   "cell_type": "markdown",
   "metadata": {},
   "source": [
    "Here are some resources on this:\n",
    "\n",
    "- https://blog.codinghorror.com/coding-without-comments/\n",
    "- https://visualstudiomagazine.com/articles/2013/07/26/why-commenting-code-is-still-bad.aspx"
   ]
  }
 ],
 "metadata": {
  "celltoolbar": "Tags",
  "jupytext": {
   "formats": "ipynb,md"
  },
  "kernelspec": {
   "display_name": "Python 3",
   "language": "python",
   "name": "python3"
  },
  "language_info": {
   "codemirror_mode": {
    "name": "ipython",
    "version": 3
   },
   "file_extension": ".py",
   "mimetype": "text/x-python",
   "name": "python",
   "nbconvert_exporter": "python",
   "pygments_lexer": "ipython3",
   "version": "3.8.3"
  }
 },
 "nbformat": 4,
 "nbformat_minor": 4
}
