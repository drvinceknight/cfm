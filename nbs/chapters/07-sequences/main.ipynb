{
 "cells": [
  {
   "cell_type": "markdown",
   "metadata": {},
   "source": [
    "## Sequences\n",
    "\n",
    "### Introduction\n",
    "\n",
    "The formal definition of sequences is a collection of ordered objects with potential repetitions.\n",
    "\n",
    "The study of these sequences leads to many interesting results. Here we will concentrate on using recursive definitions to generate the values in a sequence.\n",
    "\n",
    "## Tutorial\n",
    "\n",
    "We will solve the following problem using a computer to using a programming technique called **recursion**.\n",
    "\n",
    "---\n",
    "\n",
    "A sequence \\\\(a_1, a_2, a_3, ...\\\\) is defined by:\n",
    "\n",
    "\\\\[\n",
    "    \\left\\{\n",
    "    \\begin{array}{l}\n",
    "        a_1 = k,\\\\\n",
    "        a_{n + 1} = 2a_n – 7, n \\geq 1,\n",
    "    \\end{array}\n",
    "    \\right.\n",
    "\\\\]\n",
    "\n",
    "where \\\\(k\\\\) is a constant.\n",
    "\n",
    "\n",
    "1. Write down an expression for \\\\(a_2\\\\) in terms of \\\\(k\\\\).\n",
    "2. Show that \\\\(a_3 = 4k -21\\\\)\n",
    "3. Given that \\\\(\\sum_{r=1}^4 a_r = 43\\\\) find the value of \\\\(k\\\\).\n",
    "---\n",
    "\n",
    "We will use a Python to define a function that reproduces the mathematical definition of \\\\(a_k\\\\):"
   ]
  },
  {
   "cell_type": "code",
   "execution_count": 1,
   "metadata": {},
   "outputs": [],
   "source": [
    "def generate_a(k_value, n):\n",
    "    \"\"\"\n",
    "    Uses recursion to return a_n for a given value of k:\n",
    "    \n",
    "    a_1 = k\n",
    "    a_n = 2a_n - 7\n",
    "    \"\"\"\n",
    "    if n == 1:\n",
    "        return k_value\n",
    "    return 2 * generate_a(k_value, n - 1) - 7"
   ]
  },
  {
   "cell_type": "markdown",
   "metadata": {},
   "source": [
    "**Note** that similarly to the mathematical definition the Python definition of the function refers to itself."
   ]
  },
  {
   "cell_type": "markdown",
   "metadata": {},
   "source": [
    "We can use this to compute \\\\(a_3\\\\) for \\\\(k=4\\\\):"
   ]
  },
  {
   "cell_type": "code",
   "execution_count": 2,
   "metadata": {},
   "outputs": [
    {
     "data": {
      "text/plain": [
       "-5"
      ]
     },
     "execution_count": 2,
     "metadata": {},
     "output_type": "execute_result"
    }
   ],
   "source": [
    "generate_a(k_value=4, n=3)"
   ]
  },
  {
   "cell_type": "markdown",
   "metadata": {},
   "source": [
    "We can use this to compute \\\\(a_5\\\\) for \\\\(k=1\\\\):"
   ]
  },
  {
   "cell_type": "code",
   "execution_count": 3,
   "metadata": {},
   "outputs": [
    {
     "data": {
      "text/plain": [
       "-89"
      ]
     },
     "execution_count": 3,
     "metadata": {},
     "output_type": "execute_result"
    }
   ],
   "source": [
    "generate_a(k_value=1, n=5)"
   ]
  },
  {
   "cell_type": "markdown",
   "metadata": {},
   "source": [
    "Finally it is also possible to pass a symbolic value to `k_value`. This allows us to answer the first question:"
   ]
  },
  {
   "cell_type": "code",
   "execution_count": 4,
   "metadata": {},
   "outputs": [
    {
     "data": {
      "text/latex": [
       "$\\displaystyle 2 k - 7$"
      ],
      "text/plain": [
       "2*k - 7"
      ]
     },
     "execution_count": 4,
     "metadata": {},
     "output_type": "execute_result"
    }
   ],
   "source": [
    "import sympy as sym\n",
    "\n",
    "k = sym.Symbol(\"k\")\n",
    "generate_a(k_value=k, n=2)"
   ]
  },
  {
   "cell_type": "markdown",
   "metadata": {},
   "source": [
    "Likewise for \\\\(a_3\\\\):"
   ]
  },
  {
   "cell_type": "code",
   "execution_count": 5,
   "metadata": {},
   "outputs": [
    {
     "data": {
      "text/latex": [
       "$\\displaystyle 4 k - 21$"
      ],
      "text/plain": [
       "4*k - 21"
      ]
     },
     "execution_count": 5,
     "metadata": {},
     "output_type": "execute_result"
    }
   ],
   "source": [
    "generate_a(k_value=k, n=3)"
   ]
  },
  {
   "cell_type": "markdown",
   "metadata": {},
   "source": [
    "For the last question we start by computing the sum:\n",
    "\n",
    "\\\\[\n",
    "    \\sum_{r=1}^4 a_r = 43\n",
    "\\\\]"
   ]
  },
  {
   "cell_type": "code",
   "execution_count": 6,
   "metadata": {},
   "outputs": [
    {
     "data": {
      "text/latex": [
       "$\\displaystyle 15 k - 77$"
      ],
      "text/plain": [
       "15*k - 77"
      ]
     },
     "execution_count": 6,
     "metadata": {},
     "output_type": "execute_result"
    }
   ],
   "source": [
    "sum_of_first_four_terms = sum(generate_a(k_value=k, n=r) for r in range(1, 5))\n",
    "sum_of_first_four_terms"
   ]
  },
  {
   "cell_type": "markdown",
   "metadata": {},
   "source": [
    "This allows us to create the given equation and solve it:"
   ]
  },
  {
   "cell_type": "code",
   "execution_count": 7,
   "metadata": {},
   "outputs": [
    {
     "data": {
      "text/latex": [
       "$\\displaystyle \\left\\{8\\right\\}$"
      ],
      "text/plain": [
       "FiniteSet(8)"
      ]
     },
     "execution_count": 7,
     "metadata": {},
     "output_type": "execute_result"
    }
   ],
   "source": [
    "equation = sym.Eq(sum_of_first_four_terms, 43)\n",
    "sym.solveset(equation, k)"
   ]
  },
  {
   "cell_type": "markdown",
   "metadata": {},
   "source": [
    "### How to\n",
    "\n",
    "#### Define a function using recursion\n",
    "\n",
    "It is possible to define a recursive expression using a recursive function in Python. This requires two things:\n",
    "\n",
    "- A recursive rule: something that relates the current term to another one;\n",
    "- A base case: a particular term that does not need the recursive rule to be calculated.\n",
    "\n",
    "Consider the following mathematical expression:\n",
    "\n",
    "\\\\[\n",
    "    \\left\\{\n",
    "    \\begin{array}{l}\n",
    "        a_1 = 1,\\\\\n",
    "        a_n = 2a_{n - 1}, n > 1,\n",
    "    \\end{array}\n",
    "    \\right.\n",
    "\\\\]\n",
    "\n",
    "- The recursive rule is: \\\\(a_n = 2a_{n - 1}\\\\);\n",
    "- The base case is: \\\\(a_1 = 1\\\\).\n",
    "\n",
    "In Python this can be written as:"
   ]
  },
  {
   "cell_type": "code",
   "execution_count": 8,
   "metadata": {},
   "outputs": [],
   "source": [
    "def generate_sequence(n):\n",
    "    \"\"\"\n",
    "    Generate the sequence defined by:\n",
    "    \n",
    "    a_1 = 1\n",
    "    a_n = 2 a_{n - 1}\n",
    "    \n",
    "    This is done using recursion.\n",
    "    \"\"\"\n",
    "    if n == 1:\n",
    "        return 1\n",
    "    return 2 * generate_sequence(n - 1)"
   ]
  },
  {
   "cell_type": "markdown",
   "metadata": {},
   "source": [
    "Here we can get the first 7 terms:"
   ]
  },
  {
   "cell_type": "code",
   "execution_count": 9,
   "metadata": {},
   "outputs": [
    {
     "data": {
      "text/plain": [
       "[1, 2, 4, 8, 16, 32, 64]"
      ]
     },
     "execution_count": 9,
     "metadata": {},
     "output_type": "execute_result"
    }
   ],
   "source": [
    "values_of_sequence = [generate_sequence(n) for n in range(1, 8)]\n",
    "values_of_sequence"
   ]
  },
  {
   "cell_type": "markdown",
   "metadata": {},
   "source": [
    "### Exercises\n",
    "\n",
    "**After** completing the tutorial attempt the following exercises.\n",
    "\n",
    "**If you are not sure how to do something, have a look at the \"How To\" section.**\n",
    "\n",
    "1. Using recursion, obtain the first 10 terms of the following sequences:\n",
    "    1. \\\\(\\left\\{\\begin{array}{l}a_1 = 1,\\\\a_n = 3a_{n - 1}, n > 1\\end{array}\\right.\\\\)\n",
    "    2. \\\\(\\left\\{\\begin{array}{l}a_1 = 3,\\\\a_n = 6a_{n - 1}, n > 1\\end{array}\\right.\\\\)\n",
    "    3. \\\\(\\left\\{\\begin{array}{l}a_1 = 3,\\\\a_n = 6a_{n - 1} + 3, n > 1\\end{array}\\right.\\\\)\n",
    "    4. \\\\(\\left\\{\\begin{array}{l}a_0 = 3,\\\\a_n = \\sqrt{a_{n - 1}} + 3, n > 0\\end{array}\\right.\\\\)\n",
    "2. Using recursion, obtain the first 5 terms of the Fibonacci sequence:\n",
    "    \\\\[\\left\\{\\begin{array}{l}\n",
    "        a_0 = 0,\\\\\n",
    "        a_1 = 1,\\\\ \n",
    "        a_n = a_{n - 1} + a_{n - 2}, n \\geq 2\\end{array}\\right.\n",
    "    \\\\]\n",
    "3. A 40 year building programme for new houses began in Oldtown in the year 1951 (Year 1) and finished in 1990 (Year 40).\n",
    "\n",
    "    The number of houses built each year form an arithmetic sequence with first term \\\\(a\\\\) and common difference \\\\(d\\\\).\n",
    "\n",
    "    Given that 2400 new houses were built in 1960 and 600 new houses were built in 1990, find:\n",
    "\n",
    "    1. The value of \\\\(d\\\\).\n",
    "    2. The value of \\\\(a\\\\).\n",
    "    3. The total number of houses biult in Oldtown over the 40 year period.\n",
    "    4. On a randomly chose day, the probability of an individual travelling to school by car, bicycle or on foot is \\\\(1/2\\\\), \\\\(1/6\\\\) and \\\\(1/3\\\\) respectively. The probability of being late when using these methods of travel is \\\\(1/5\\\\), \\\\(2/5\\\\) and \\\\(1/10\\\\) respectively.\n",
    "4. A sequence is given by:\n",
    "\n",
    "    \\\\[\n",
    "        \\left\\{\\begin{array}{l}\n",
    "        x_1 = 1\\\\\n",
    "        x_{n + 1}= x_n(p + x_n), n > 1\n",
    "        \\end{array}\\right.\n",
    "    \\\\]\n",
    "\n",
    "    for \\\\(p\\ne0\\\\).\n",
    "\n",
    "    1. Find \\\\(x_2\\\\) in terms of \\\\(p\\\\).\n",
    "    2. Show that \\\\(x_3=1+3p+2p^2\\\\).\n",
    "    3. Given that \\\\(x_3=1\\\\), find the value of \\\\(p\\\\)\n",
    "\n",
    "### References\n",
    "\n",
    "#### What are the differences between recursion and iteration?\n",
    "\n",
    "When giving instructions to a computer it is possible to use recursion to directly implement a common mathematical definition. For example consider the following sequence:\n",
    "\n",
    "\\\\[\n",
    "    \\left\\{\\begin{array}{l}\n",
    "    a_1 = 1\\\\\n",
    "    a_{n + 1}= 3a_n, n > 1\n",
    "    \\end{array}\\right.\n",
    "\\\\]\n",
    "\n",
    "We can define this in Python as follows:"
   ]
  },
  {
   "cell_type": "code",
   "execution_count": 10,
   "metadata": {},
   "outputs": [],
   "source": [
    "def generate_sequence(n):\n",
    "    \"\"\"\n",
    "    Generate the sequence defined by:\n",
    "    \n",
    "    a_1 = 1\n",
    "    a_n = 3 a_{n - 1}\n",
    "    \n",
    "    This is done using recursion.\n",
    "    \"\"\"\n",
    "    if n == 1:\n",
    "        return 1\n",
    "    return 3 * generate_sequence(n - 1)"
   ]
  },
  {
   "cell_type": "markdown",
   "metadata": {},
   "source": [
    "The first 6 terms:"
   ]
  },
  {
   "cell_type": "code",
   "execution_count": 11,
   "metadata": {},
   "outputs": [
    {
     "data": {
      "text/plain": [
       "[1, 3, 9, 27, 81, 243]"
      ]
     },
     "execution_count": 11,
     "metadata": {},
     "output_type": "execute_result"
    }
   ],
   "source": [
    "[generate_sequence(n) for n in range(1, 7)]"
   ]
  },
  {
   "cell_type": "markdown",
   "metadata": {},
   "source": [
    "We note that in this case this corresponds to powers of \\\\(3\\\\), and indeed we can prove that: \\\\(a_n = 3 ^ {n - 1}\\\\). We will not carry out the proof here but one approach to doing it would be to use proof by induction which is closely related to recursive functions.\n",
    "\n",
    "We can of course write a different python function that uses this formulae. This is called **iteration**:"
   ]
  },
  {
   "cell_type": "code",
   "execution_count": 12,
   "metadata": {},
   "outputs": [],
   "source": [
    "def calculate_sequence(n):\n",
    "    \"\"\"\n",
    "    Calculate the nth term of the sequence defined by:\n",
    "    \n",
    "    a_1 = 1\n",
    "    a_n = 3 a_{n - 1}\n",
    "    \n",
    "    This is done using iteration using the direct formula:\n",
    "    \n",
    "    a_n = 3 ^ n\n",
    "    \"\"\"\n",
    "    return 3 ** (n - 1)"
   ]
  },
  {
   "cell_type": "code",
   "execution_count": 13,
   "metadata": {},
   "outputs": [
    {
     "data": {
      "text/plain": [
       "[1, 3, 9, 27, 81, 243]"
      ]
     },
     "execution_count": 13,
     "metadata": {},
     "output_type": "execute_result"
    }
   ],
   "source": [
    "[calculate_sequence(n) for n in range(1, 7)]"
   ]
  },
  {
   "cell_type": "markdown",
   "metadata": {},
   "source": [
    "We can in fact use a Jupyter [magic command](https://ipython.readthedocs.io/en/stable/interactive/magics.html) to time the execution of a command. It is clear that recursion is slower."
   ]
  },
  {
   "cell_type": "code",
   "execution_count": null,
   "metadata": {
    "tags": [
     "nbval-ignore-output"
    ]
   },
   "outputs": [],
   "source": [
    "%timeit [generate_sequence(n) for n in range(1, 25)]"
   ]
  },
  {
   "cell_type": "code",
   "execution_count": null,
   "metadata": {
    "tags": [
     "naval-ignore-output"
    ]
   },
   "outputs": [],
   "source": [
    "%timeit [calculate_sequence(n) for n in range(1, 25)]"
   ]
  },
  {
   "cell_type": "markdown",
   "metadata": {},
   "source": [
    "In practice:\n",
    "\n",
    "- Using recursion is powerful as it can be used to directly implement recursive definitions.\n",
    "- Using iteration is more computationally efficient but it is not always straightforward to obtain an iterative formula."
   ]
  },
  {
   "cell_type": "markdown",
   "metadata": {},
   "source": [
    "#### What is caching\n",
    "\n",
    "One of the reasons that recursion is computationally inefficient is that it always has to recalculate previously calculated values.\n",
    "\n",
    "For example:\n",
    "\n",
    "\n",
    "\\\\[\n",
    "    \\left\\{\\begin{array}{l}\n",
    "    a_1 = 1\\\\\n",
    "    a_{n + 1}= 3a_n, n > 1\n",
    "    \\end{array}\\right.\n",
    "\\\\]\n",
    "\n",
    "One way to overcome this is to use caching which means that when a function is called for a value it has already computed it remembers the value.\n",
    "\n",
    "Python has a caching tool available in the functools library:"
   ]
  },
  {
   "cell_type": "code",
   "execution_count": null,
   "metadata": {},
   "outputs": [],
   "source": [
    "import functools\n",
    "\n",
    "def generate_sequence(n):\n",
    "    \"\"\"\n",
    "    Generate the sequence defined by:\n",
    "    \n",
    "    a_1 = 1\n",
    "    a_n = 3 a_{n - 1}\n",
    "    \n",
    "    This is done using recursion.\n",
    "    \"\"\"\n",
    "    if n == 1:\n",
    "        return 1\n",
    "    return 3 * generate_sequence(n - 1)\n",
    "\n",
    "@functools.lru_cache()\n",
    "def cached_generate_sequence(n):\n",
    "    \"\"\"\n",
    "    Generate the sequence defined by:\n",
    "    \n",
    "    a_1 = 1\n",
    "    a_n = 3 a_{n - 1}\n",
    "    \n",
    "    This is done using recursion but also includes a cache.\n",
    "    \"\"\"\n",
    "    if n == 1:\n",
    "        return 1\n",
    "    return 3 * cached_generate_sequence(n - 1)"
   ]
  },
  {
   "cell_type": "markdown",
   "metadata": {},
   "source": [
    "Timing both these approaches confirms a substantial increase in time for the cached version."
   ]
  },
  {
   "cell_type": "code",
   "execution_count": null,
   "metadata": {
    "tags": [
     "nbval-ignore-output"
    ]
   },
   "outputs": [],
   "source": [
    "%timeit [generate_sequence(n) for n in range(1, 25)]"
   ]
  },
  {
   "cell_type": "code",
   "execution_count": null,
   "metadata": {
    "tags": [
     "nbval-ignore-output"
    ]
   },
   "outputs": [],
   "source": [
    "%timeit [cached_generate_sequence(n) for n in range(1, 25)]"
   ]
  }
 ],
 "metadata": {
  "celltoolbar": "Tags",
  "jupytext": {
   "formats": "ipynb,md"
  },
  "kernelspec": {
   "display_name": "Python 3",
   "language": "python",
   "name": "python3"
  },
  "language_info": {
   "codemirror_mode": {
    "name": "ipython",
    "version": 3
   },
   "file_extension": ".py",
   "mimetype": "text/x-python",
   "name": "python",
   "nbconvert_exporter": "python",
   "pygments_lexer": "ipython3",
   "version": "3.8.3"
  }
 },
 "nbformat": 4,
 "nbformat_minor": 4
}
