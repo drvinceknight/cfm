{
 "cells": [
  {
   "cell_type": "markdown",
   "metadata": {},
   "source": [
    "## Cyfrifiadureg ar gyfer Mathemateg: Cyflwyniad i'r cwrs\n",
    "\n",
    "Bydd y cwrs yma yn trafod yr agweddau canlynol o raglenni cyfrifiadurol:\n",
    "\n",
    "- Cyflwyniad i gysyniadau sylfaenol rhaglenni gan ddefnyddio Python\n",
    "- Trosolwg o gysyniadau penodol sy'n berthnasol i fathemateg\n",
    "\n",
    "Mae holl ddeunyddiau'r cwrs ar gael yn http://vknight.org/cfm/. Fe allwch ddod i hyd i'r ffeiliau ffynhonnell sy'n creu'r wefan yna yn http://github.com/drvinceknight/cfm/.\n",
    "\n",
    "## Nodiadau cwrs\n",
    "\n",
    "Mae nodiadau'r cwrs ar ffurf taflenni lab, ac maent i gyd ar gael i chi. Ysgrifennir y rhain yn defnyddio notebooks Jupyter (offeryn byddwch chi'n defnyddio eich hun). Byddwch yn gweld mathemateg ac esboniadau yn ogystal â chod cyfrifiadur. Er enghraifft dyma god sy'n codi $2$ i bŵer $10$:"
   ]
  },
  {
   "cell_type": "code",
   "execution_count": 1,
   "metadata": {},
   "outputs": [
    {
     "data": {
      "text/plain": [
       "1024"
      ]
     },
     "execution_count": 1,
     "metadata": {},
     "output_type": "execute_result"
    }
   ],
   "source": [
    "2 ** 10"
   ]
  },
  {
   "cell_type": "markdown",
   "metadata": {},
   "source": [
    "Strwythur y cwrs yw 3 awr o amser cyswllt:\n",
    "\n",
    "- Cyfarfod \"cyn\" y dosbarth: byddwn yn trafod a dangos cysyniadau byddwch yn dysgu yn yr wythnos yna.\n",
    "- Y sesiwn lab: mae gennych chi'r cyfle i gael adborth a gofyn cwestiynau am y taflenni lab.\n",
    "- Cyfarfod \"ar ôl\" y dosbarth: byddwn yn trafod unrhyw anawsterau potensial ac yn ailddatgan eich dealltwriaeth trwy weithgaredd dosbarth.\n",
    "\n",
    "Mae'r daflen lab yn cynnwys ymarferion opsiynol, ac mae datrysiadau ar gael yn y notebooks rydych yn gallu lawrlwytho o'r wefan dosbarth. Awgrymir i chi gweithio trwy'r ymarferion yna heb edrych ar y datrysiadau. Gallwch ofyn am adborth yn y sesiynau lab a byddaf i'n mynd dros ddatrysiadau penodol yn y cyfarfod dosbarth os oes angen.\n",
    "\n",
    "Nodwch fod y dosbarth yma yn gofyn i chi gweithio ar gynnwys y cwrs tu allan i'r amser cyswllt. Ni fyddaf yn mynd dros y taflenni lab yn uniongyrchol felly awgrymir i chi wneud hwnna yn amser eich hun. Ar unrhyw adeg mae croeso i chi edrych ar fy nodiadau personol ar gyfer y cyfarfodydd byddwn ni'n cynnal: http://vkcfm.readthedocs.io/\n",
    "\n",
    "Os hoffwch wybodaeth ar fy ymagwedd addysgol: gallwch ddod o hyd i fy \"athroniaeth dysgu\" fan hyn: https://vknight.org/tch-phi/\n",
    "\n",
    "Mae'n bosib bydd nodiadau'r cwrs yn newid: ar gyfer pethau fel typos ac eglurhad, gwesteia’r nodiadau yma yn agored ar github ac os oes diddordeb gallwch weld rhestr o’r holl newidiadau fan hyn: https://github.com/drvinceknight/cfm/commits/master\n",
    "\n",
    "## Gosod meddalwedd\n",
    "\n",
    "Mae yna nifer o ddosbarthiadau o Python, a fyddwn ni'n defnyddio Anaconda sy'n dod gydag amrywiad o offerynnau defnyddiol (gan gynnwys y notebooks soniais amdanynt uchod).\n",
    "\n",
    "I'w osod ar eich peiriant personol dilynwch y camau hyn:\n",
    "\n",
    "1.  Ewch i'r wefan yma: https://www.anaconda.com/download/.\n",
    "2.  Adnabyddwch a lawrlwythwch y fersiwn o Python 3 ar gyfer eich system weithredu (Windows, Mac OSX, Linux). Rhedeg yr osodwr.\n",
    "\n",
    "Byddwn yn defnyddio notebooks Jupyter sy'n rhedeg tu fewn i'r porthwr we. I agor gweinydd lleol ffeindiwch y porthwr Continuum a chliciwch ar Jupyter. Does dim angen cael cysylltiad i'r we er mwyn defnyddio hwn.\n",
    "\n",
    "[Mae'r fideo yma yn dangos demo o ddefnyddio notebook.](https://www.youtube.com/watch?v=Zk0RhwCiiNA&feature=youtu.be)\n",
    "\n",
    "## Technoleg yn y dosbarth\n",
    "\n",
    "Defnyddiwch pa bynnag adnoddau sydd angen arnoch i fod yn llwyddiannus yn y dosbarth. Gadewch i fi wybod os oes angen help gydag unrhyw beth.\n",
    "\n",
    "Fel arfer bydd gweithgareddau yn y dosbarth yn cynnwys ysgrifennu cod: os oes gennych liniadur gallwch ei ddefnyddio ond nid yw'n hanfodol.\n",
    "\n",
    "\n",
    "## Oriau swyddfa\n",
    "\n",
    "Byddaf yn cynnal 2-3 awr yr wythnos ar gyfer oriau swyddfa, yn ystod rhain gallwch ddod i gael cymorth. Dewisir yr oriau penodol ar y cyd fel dosbarth yn y cyfarfod dosbarth cyntaf.\n",
    "\n",
    "\n",
    "## Aseiniad\n",
    "\n",
    "Mae'r modiwl yma wedi'i asesu gan ddarn o waith cwrs unigol. Ar ôl wythnos 7, hwn fydd prif ffocws y gwaith.\n"
   ]
  },
  {
   "cell_type": "code",
   "execution_count": null,
   "metadata": {},
   "outputs": [],
   "source": []
  }
 ],
 "metadata": {
  "anaconda-cloud": {},
  "kernelspec": {
   "display_name": "Python 3",
   "language": "python",
   "name": "python3"
  },
  "language_info": {
   "codemirror_mode": {
    "name": "ipython",
    "version": 3
   },
   "file_extension": ".py",
   "mimetype": "text/x-python",
   "name": "python",
   "nbconvert_exporter": "python",
   "pygments_lexer": "ipython3",
   "version": "3.6.5"
  }
 },
 "nbformat": 4,
 "nbformat_minor": 2
}
