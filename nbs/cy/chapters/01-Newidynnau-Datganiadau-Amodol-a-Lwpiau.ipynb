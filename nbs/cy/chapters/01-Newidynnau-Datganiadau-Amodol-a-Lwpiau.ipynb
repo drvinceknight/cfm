{
 "cells": [
  {
   "cell_type": "markdown",
   "metadata": {},
   "source": [
    "## Pennod 01: Newidynnau, Datganiadau Amodol a Lwpiau\n",
    "\n",
    "Bydd y daflen lab cyntaf yma yn eich cyflwyno i raglenni. Mae disgwyl i chi gweithio trwy'r holl diwtorial a hefyd yr **enghraifft weithredol**. Mae ymarferion eraill sy'n anelu at wthio'ch dealltwriaeth ymhellach. Yn olaf ar ddiwedd y daflen mae linciau i adnoddau a thiwtorialau eraill efallai bydd yn help neu o ddiddordeb.\n",
    "\n",
    "Mae fideos trwy gydol y taflenni yn disgrifio'r cysyniadau yn ogystal â dangos demos.\n",
    "\n",
    "[Dyma drosolwg o'r cwrs.](https://youtu.be/IB1wc1qgb7Q)\n",
    "\n",
    "### Gosod a rhedeg Python\n",
    "\n",
    "Mae Python yn iaith rhaglenni. Mae yna nifer o ieithoedd rhaglenni gwahanol:\n",
    "\n",
    "- Java\n",
    "- C\n",
    "- C++\n",
    "- Ruby\n",
    "- VBA\n",
    "- a llawer mwy.\n",
    "\n",
    "Mae iaith rhaglenni yn galluogi ni i ysgrifennu rhaglen sy'n ddilyniant o gyfarwyddiadau sy'n nodi sut mae perfformio cyfrifiad.\n",
    "\n",
    "Wrth ysgrifennu rhaglen mae angen dau beth:\n",
    "\n",
    "- Rhywbeth i arbed y cod (golygydd testun er enghraifft)\n",
    "- Rhywbeth i redeg y cod\n",
    "\n",
    "Byddwn ni'n defnyddio cyfuniad o'r ddau beth yma o'r enw **notebook**.\n",
    "\n",
    "### Gosod Python\n",
    "\n",
    "Mae nifer o ddosbarthiadau o Python, byddwn ni'n defnyddio [Anaconda](https://www.continuum.io/why-anaconda) sy'n dod wedi'i becynnu gydag amryw o offerynnau defnyddiol (gan gynnwys y notebooks soniais amdanynt uchod).\n",
    "\n",
    "I'w osod ar eich peiriant personol dilynwch y camau yma:\n",
    "\n",
    "1. Ewch i'r wefan: [www.continuum.io/downloads](https://www.continuum.io/downloads).\n",
    "2. Adnabyddwch a lawrlwythwch y fersiwn o Python 3 ar gyfer eich system weithredu (Windows, Mac OSX, Linux).\n",
    "3. Rhedwch yr osodwr.\n",
    "\n",
    "Byddwn yn defnyddio notebooks Jupyter sy'n rhedeg tu fewn i'r porthwr we. I agor gweinydd lleol ffeindiwch y porthwr Continuum a chliciwch ar Jupyter. Does dim angen cael cysylltiad i'r we er mwyn defnyddio hwn.\n",
    "\n",
    "[Mae'r fideo yma yn dangos demo o ddefnyddio notebook.](https://youtu.be/Zk0RhwCiiNA)\n",
    "\n",
    "Bydd y taflenni lab yma yn cynnwys pytiau cod. Maent yn dangos y cod dylech chi ysgrifennu ond hefyd yr allbwn disgwyliedig. Rhowch gynnig ar y canlynol:"
   ]
  },
  {
   "cell_type": "code",
   "execution_count": 1,
   "metadata": {},
   "outputs": [
    {
     "name": "stdout",
     "output_type": "stream",
     "text": [
      "Helo byd\n"
     ]
    }
   ],
   "source": [
    "print(\"Helo byd\")"
   ]
  },
  {
   "cell_type": "markdown",
   "metadata": {},
   "source": [
    "## Tiwtorial\n",
    "\n",
    "Gweithiwch trwy'r canlynol:\n",
    "\n",
    "---\n",
    "\n",
    "### 1: Creu newidynnau rhifiadol.\n",
    "\n",
    "[Fideo yn disgrifio'r cysyniad.](https://youtu.be/KtDrCIauto0)\n",
    "\n",
    "[Fideo demo.](https://youtu.be/Esp-5f0kmpE)\n",
    "\n",
    "Un o'r blociau adeiladu unrhyw iaith rhaglenni yw newidynnau. Dyma sut rydym yn storio newidyn penodol gallwn ei ail-ddefnyddio:"
   ]
  },
  {
   "cell_type": "code",
   "execution_count": 2,
   "metadata": {},
   "outputs": [
    {
     "data": {
      "text/plain": [
       "20"
      ]
     },
     "execution_count": 2,
     "metadata": {},
     "output_type": "execute_result"
    }
   ],
   "source": [
    "oedran = 20\n",
    "oedran"
   ]
  },
  {
   "cell_type": "markdown",
   "metadata": {},
   "source": [
    "Mae'n bosib cario allan nifer o weithrediadau rhifiadol ac u ail-aseinio gwerth y newidyn:"
   ]
  },
  {
   "cell_type": "code",
   "execution_count": 3,
   "metadata": {},
   "outputs": [
    {
     "data": {
      "text/plain": [
       "21"
      ]
     },
     "execution_count": 3,
     "metadata": {},
     "output_type": "execute_result"
    }
   ],
   "source": [
    "oedran = oedran + 1  # Ychwanegu 1 i'r oedran\n",
    "oedran"
   ]
  },
  {
   "cell_type": "markdown",
   "metadata": {},
   "source": [
    "Mae gan Python **llaw fer** ar gyfer y cod uchod:"
   ]
  },
  {
   "cell_type": "code",
   "execution_count": 4,
   "metadata": {},
   "outputs": [
    {
     "data": {
      "text/plain": [
       "22"
      ]
     },
     "execution_count": 4,
     "metadata": {},
     "output_type": "execute_result"
    }
   ],
   "source": [
    "oedran += 1  # Ychwanegu 1 i'r oedran\n",
    "oedran"
   ]
  },
  {
   "cell_type": "markdown",
   "metadata": {},
   "source": [
    "Gallwn wneud mwy na adio yn unig (arbrofwch gyda rhain oherwydd efallai bydd eu hangen nes ymlaen):\n",
    "\n",
    "- Tynnu: `-`\n",
    "- Lluosi: `*`\n",
    "- Rhannu: `/`\n",
    "- Esbonyddu: `**`\n",
    "- Rhannu modwlo: `%`"
   ]
  },
  {
   "cell_type": "markdown",
   "metadata": {},
   "source": [
    "Gallwn wirio math ein newidynnau, mae hwn yn ddefnyddiol iawn wrth geisio deall gwallau ac/neu ymddygiad annisgwyl:"
   ]
  },
  {
   "cell_type": "code",
   "execution_count": 5,
   "metadata": {},
   "outputs": [
    {
     "data": {
      "text/plain": [
       "int"
      ]
     },
     "execution_count": 5,
     "metadata": {},
     "output_type": "execute_result"
    }
   ],
   "source": [
    "type(5)  # Cyfanrif"
   ]
  },
  {
   "cell_type": "code",
   "execution_count": 6,
   "metadata": {},
   "outputs": [
    {
     "data": {
      "text/plain": [
       "float"
      ]
     },
     "execution_count": 6,
     "metadata": {},
     "output_type": "execute_result"
    }
   ],
   "source": [
    "type(5.4)  # 'float'"
   ]
  },
  {
   "cell_type": "markdown",
   "metadata": {},
   "source": [
    "**Arbrofwch gyda thrin newidynnau rhifiadol.**"
   ]
  },
  {
   "cell_type": "markdown",
   "metadata": {},
   "source": [
    "---\n",
    "\n",
    "### 2: Creu newidynnau o gymeriadau.\n",
    "\n",
    "[Fideo yn disgrifio'r cysyniad.](https://youtu.be/8-lY3TepDKc)\n",
    "\n",
    "[Fideo demo.](https://youtu.be/v3HBPbf0I3s)\n",
    "\n",
    "Math arall o newidyn a defnyddiwn yw newidyn o gymeriadau. **Mewn rhaglenni fe elwir y rhain yn 'strings'**."
   ]
  },
  {
   "cell_type": "code",
   "execution_count": 7,
   "metadata": {},
   "outputs": [
    {
     "data": {
      "text/plain": [
       "'Vince'"
      ]
     },
     "execution_count": 7,
     "metadata": {},
     "output_type": "execute_result"
    }
   ],
   "source": [
    "enwcyntaf = \"Vince\"\n",
    "enwcyntaf"
   ]
  },
  {
   "cell_type": "code",
   "execution_count": 8,
   "metadata": {},
   "outputs": [
    {
     "data": {
      "text/plain": [
       "str"
      ]
     },
     "execution_count": 8,
     "metadata": {},
     "output_type": "execute_result"
    }
   ],
   "source": [
    "type(enwcyntaf)"
   ]
  },
  {
   "cell_type": "markdown",
   "metadata": {},
   "source": [
    "Gallwn hefyd creu strings newydd o rhai eraill:"
   ]
  },
  {
   "cell_type": "code",
   "execution_count": 9,
   "metadata": {},
   "outputs": [
    {
     "data": {
      "text/plain": [
       "'Vince Knight'"
      ]
     },
     "execution_count": 9,
     "metadata": {},
     "output_type": "execute_result"
    }
   ],
   "source": [
    "enwolaf = \"Knight\"\n",
    "enwllawn = enwcyntaf + \" \" + enwolaf\n",
    "enwllawn"
   ]
  },
  {
   "cell_type": "markdown",
   "metadata": {},
   "source": [
    "**Arbrofwch trwy greu newidynnau string eich hun.**"
   ]
  },
  {
   "cell_type": "markdown",
   "metadata": {},
   "source": [
    "---\n",
    "\n",
    "### 3. Newidynnau Boolean a datganiadau 'if'.\n",
    "\n",
    "[Fideo yn disgrifio'r cysyniad.](https://youtu.be/IxU67BAFtHI)\n",
    "\n",
    "[Fideo demo.](https://youtu.be/EVAbSgT2Fvk)\n",
    "\n",
    "Gallwn ddefnyddio ieithoedd rhaglenni i wirio os yw datganiad yn wir neu beidio. Fe elwir newidyn sy'n gallu bod yn `True` neu yn `False` yn newidyn boolean. Dyma enghraifft:"
   ]
  },
  {
   "cell_type": "code",
   "execution_count": 10,
   "metadata": {},
   "outputs": [
    {
     "data": {
      "text/plain": [
       "True"
      ]
     },
     "execution_count": 10,
     "metadata": {},
     "output_type": "execute_result"
    }
   ],
   "source": [
    "a = 4\n",
    "b = 8 / 2\n",
    "a == b # Gwirio os yw a yn hafal i b"
   ]
  },
  {
   "cell_type": "code",
   "execution_count": 11,
   "metadata": {},
   "outputs": [
    {
     "data": {
      "text/plain": [
       "False"
      ]
     },
     "execution_count": 11,
     "metadata": {},
     "output_type": "execute_result"
    }
   ],
   "source": [
    "a != b # Gwirio os NAD yw a yn hafal i b"
   ]
  },
  {
   "cell_type": "code",
   "execution_count": 12,
   "metadata": {},
   "outputs": [
    {
     "data": {
      "text/plain": [
       "True"
      ]
     },
     "execution_count": 12,
     "metadata": {},
     "output_type": "execute_result"
    }
   ],
   "source": [
    "a >= b # Gwirio os yw a yn fwy na neu'n hafal i b"
   ]
  },
  {
   "cell_type": "code",
   "execution_count": 13,
   "metadata": {},
   "outputs": [
    {
     "data": {
      "text/plain": [
       "True"
      ]
     },
     "execution_count": 13,
     "metadata": {},
     "output_type": "execute_result"
    }
   ],
   "source": [
    "a < b + 1  # Gwirio os yw a yn llai na b + 1"
   ]
  },
  {
   "cell_type": "markdown",
   "metadata": {},
   "source": [
    "Nodwch gallwch osod y datganiad ei hun i fod yn newidyn:"
   ]
  },
  {
   "cell_type": "code",
   "execution_count": 14,
   "metadata": {},
   "outputs": [
    {
     "data": {
      "text/plain": [
       "True"
      ]
     },
     "execution_count": 14,
     "metadata": {},
     "output_type": "execute_result"
    }
   ],
   "source": [
    "datganiad = a == b\n",
    "datganiad"
   ]
  },
  {
   "cell_type": "code",
   "execution_count": 15,
   "metadata": {},
   "outputs": [
    {
     "data": {
      "text/plain": [
       "bool"
      ]
     },
     "execution_count": 15,
     "metadata": {},
     "output_type": "execute_result"
    }
   ],
   "source": [
    "type(datganiad)"
   ]
  },
  {
   "cell_type": "markdown",
   "metadata": {},
   "source": [
    "Gallwn ddefnyddio hwn i gwblhau gweithrediadau gwahanol yn dibynnu os yw boolean yn wir neu beidio."
   ]
  },
  {
   "cell_type": "code",
   "execution_count": 16,
   "metadata": {},
   "outputs": [
    {
     "data": {
      "text/plain": [
       "3"
      ]
     },
     "execution_count": 16,
     "metadata": {},
     "output_type": "execute_result"
    }
   ],
   "source": [
    "n = 11\n",
    "if n <= 5:  # Arbrofwch trwy newid gwerth n\n",
    "    gwerth = 1\n",
    "elif n % 2 == 0:  # fel arall, os\n",
    "    gwerth = 2\n",
    "else:  # fel arall\n",
    "    gwerth = 3\n",
    "gwerth"
   ]
  },
  {
   "cell_type": "markdown",
   "metadata": {},
   "source": [
    "**Mae mewnoliadau yn bwysig: bydd popeth sydd wedi'u mewnoli ar ôl y datganiadau `if`, `elif`, `else` yn rhedeg ar gyfer yr achos penodol yna.**\n",
    "\n",
    "Mae'r cod uchod yn cynhyrchu:\n",
    "\n",
    "$$f(n)=\\begin{cases}\n",
    "1&\\text{ os yw } n\\leq 5\\\\\n",
    "2&\\text{ os yw } n> 5\\text{ ac } n \\text{ yn eilrif }\\\\\n",
    "3&\\text{ fel arall }\\\\\n",
    "\\end{cases}$$\n",
    "\n",
    "**Arbrofwch trwy newid y ffwythiant \\\\(f\\\\) a newid y cod.**"
   ]
  },
  {
   "cell_type": "markdown",
   "metadata": {},
   "source": [
    "---\n",
    "\n",
    "### 4. Lwpiau 'while'.\n",
    "\n",
    "[Fideo yn disgrifio'r cysyniad.](https://youtu.be/MnKlyszfa7g)\n",
    "\n",
    "[Fideo demo.](https://youtu.be/orAnw7ZiFV4)\n",
    "\n",
    "Mae'n bosib defnyddio cod i ailadrodd gweithrediadau. Dyma lwp `while` sy'n ailadrodd beth bynnag sydd wedi'i mewnoli oddi tanodd nes nad yw'r amod boolean yn wir ragor:"
   ]
  },
  {
   "cell_type": "code",
   "execution_count": 17,
   "metadata": {},
   "outputs": [
    {
     "data": {
      "text/plain": [
       "55"
      ]
     },
     "execution_count": 17,
     "metadata": {},
     "output_type": "execute_result"
    }
   ],
   "source": [
    "cyfrif = 0  # Newidyn i gyfri\n",
    "cyfanswm = 0  # Byddwn yn symio'r deg rhif cyntaf\n",
    "while cyfrif < 10:  # Cadw ailadrodd nes i'r cyfrif nes i'r cyfrif >= 10\n",
    "    cyfrif += 1  # Adio 1 i'r cyfrif\n",
    "    cyfanswm += cyfrif  # Adio'r cyfrif i'r cyfanswm\n",
    "cyfanswm"
   ]
  },
  {
   "cell_type": "markdown",
   "metadata": {},
   "source": [
    "**Arbrofwch trwy symio (neu efallai lluosi?) dros wahanol restrau o eitemau.**"
   ]
  },
  {
   "cell_type": "markdown",
   "metadata": {},
   "source": [
    "---\n",
    "\n",
    "### Enghraifft weithredol\n",
    "\n",
    "[Fideo yn disgrifio'r cysyniad.](https://youtu.be/cPfHwhJgeik)\n",
    "\n",
    "[Fideo demo.](https://www.youtube.com/watch?v=im6yVzlFrys)\n",
    "\n",
    "Dyma enghraifft fach fwy cymhleth sy'n cyfuno'r cysyniadau amryw uchod.\n",
    "\n",
    "Gadewch i ni wirio (**nid prawf yw hwn!**) bod y datganiad canlynol yn wir:\n",
    "\n",
    "\n",
    "\\\\[\n",
    "\\sum_{i=0}^n i ^ 2 = \\frac{n(n+1)(2n+1)}{6}\n",
    "\\\\]\n",
    "\n",
    "Byddwn yn gwneud hwn trwy gyfrifo'r ochr chwith a'r ochr de:\n"
   ]
  },
  {
   "cell_type": "code",
   "execution_count": 18,
   "metadata": {},
   "outputs": [
    {
     "data": {
      "text/plain": [
       "True"
      ]
     },
     "execution_count": 18,
     "metadata": {},
     "output_type": "execute_result"
    }
   ],
   "source": [
    "n = 20\n",
    "rhs = n * (n +  1) * (2 * n + 1) / 6\n",
    "lhs = 0\n",
    "i = 0\n",
    "while i < n:\n",
    "    i += 1\n",
    "    lhs += i ** 2\n",
    "lhs == rhs"
   ]
  },
  {
   "cell_type": "markdown",
   "metadata": {},
   "source": [
    "Gallwn roi'r holl beth mewn i lwp `while` er mwyn ei wirio ar gyfer nifer mawr o werthoedd o n:"
   ]
  },
  {
   "cell_type": "code",
   "execution_count": 19,
   "metadata": {},
   "outputs": [],
   "source": [
    "n_macs = 2000\n",
    "n = 0\n",
    "while n < n_macs:\n",
    "    n += 1\n",
    "    rhs = n * (n +  1) * (2 * n + 1) / 6\n",
    "    lhs = 0\n",
    "    i = 0\n",
    "    while i < n:\n",
    "        i += 1\n",
    "        lhs += i ** 2\n",
    "    if lhs != rhs:      \n",
    "        print(False)"
   ]
  },
  {
   "cell_type": "markdown",
   "metadata": {},
   "source": [
    "---\n",
    "\n",
    "## Ymarferion\n",
    "\n",
    "Dyma nifer o ymarferion sy'n bosib cyflawni gan ddefnyddio'r cysyniadau cod a thrafodir:\n",
    "\n",
    "- Aseinio newidynnau: er enghraifft `a = 5`\n",
    "- Triniaeth rhifyddeg: er enghraifft `a += 1`\n",
    "- Datganiadau amodol: er enghraifft `if a == 7:`\n",
    "- Lwpiau 'while': er enghraifft `while a <= 10:`"
   ]
  },
  {
   "cell_type": "markdown",
   "metadata": {},
   "source": [
    "---\n",
    "\n",
    "### Ymarfer 1\n",
    "\n",
    "** Ymarfer datbygio**\n",
    "\n",
    "[Fideo demo.](https://youtu.be/NvAEDqMRSEw)\n",
    "\n",
    "Isod yw cod sy'n ceisio gwirio'r unfathiant canlynol ar gyfer holl gwerthoedd llai na 200.\n",
    "\n",
    "\\\\[\n",
    "\\sum_{i=0}^ni ^ 3 = \\frac{\\left(n ^ 2 + n\\right)^{2}}{4}\n",
    "\\\\]\n",
    "\n",
    "**Mae o leiaf un gwall (hefyd elwir yn byg) yn y cod**. Canfyddwch a chywirwch yr holl bygs.\n",
    "\n",
    "```python\n",
    "n_macs = 2000\n",
    "n = 0\n",
    "while n > n_macs:\n",
    "   n += 2\n",
    "   rhs = ((n ** 2 + 2 * n) ** 2) / 4\n",
    "   lhs = 0\n",
    "   i = 0\n",
    "   while i < n:\n",
    "       i += 1\n",
    "       lhs += i ** 2\n",
    "   if lhs != rhs:\n",
    "       print(False)\n",
    "```"
   ]
  },
  {
   "cell_type": "code",
   "execution_count": 20,
   "metadata": {
    "tags": [
     "solution"
    ]
   },
   "outputs": [],
   "source": [
    "n_macs = 2000\n",
    "n = 0\n",
    "#while n > n_macs:  Mae'r anhafaledd yma yn wyneb i waered:\n",
    "while n < n_macs:\n",
    "    #n += 2  Fe dylwn cynyddu gan 1\n",
    "    n += 1\n",
    "    #rhs = ((n ** 2 + 2 * n) ** 2) / 4 Dyma'r fformiwla anghywir\n",
    "    rhs = ((n ** 2 + n) ** 2) / 4\n",
    "    lhs = 0\n",
    "    i = 0\n",
    "    while i < n:\n",
    "        i += 1\n",
    "        #lhs += i ** 2 Cynyddu gan y gwerth cywir\n",
    "        lhs += i ** 3\n",
    "    if lhs != rhs:\n",
    "        print(False)"
   ]
  },
  {
   "cell_type": "markdown",
   "metadata": {},
   "source": [
    "---\n",
    "\n",
    "### Ymarfer 2\n",
    "\n",
    "Defnyddiwch god i wirio'r unfathiant canlynol:\n",
    "\n",
    "\\\\[\n",
    "    \\sum_{i=0}^{n}i=\\frac{n(n+1)}{2}\n",
    "\\\\]\n",
    "\n",
    "ar gyfer \\\\(n=20\\\\)."
   ]
  },
  {
   "cell_type": "code",
   "execution_count": 21,
   "metadata": {
    "tags": [
     "solution"
    ]
   },
   "outputs": [
    {
     "data": {
      "text/plain": [
       "210.0"
      ]
     },
     "execution_count": 21,
     "metadata": {},
     "output_type": "execute_result"
    }
   ],
   "source": [
    "# Dyma'r ochr dde:\n",
    "\n",
    "n = 20\n",
    "rhs = n * (n +  1) / 2\n",
    "rhs"
   ]
  },
  {
   "cell_type": "code",
   "execution_count": 22,
   "metadata": {
    "tags": [
     "solution"
    ]
   },
   "outputs": [
    {
     "data": {
      "text/plain": [
       "210"
      ]
     },
     "execution_count": 22,
     "metadata": {},
     "output_type": "execute_result"
    }
   ],
   "source": [
    "# Dyma'r ochr chwith:\n",
    "\n",
    "lhs = 0\n",
    "i = 0\n",
    "while i < n:\n",
    "    i += 1\n",
    "    lhs += i  # Dyma'r unig linell sy'n wahanol\n",
    "lhs"
   ]
  },
  {
   "cell_type": "code",
   "execution_count": 23,
   "metadata": {
    "tags": [
     "solution"
    ]
   },
   "outputs": [
    {
     "data": {
      "text/plain": [
       "True"
      ]
     },
     "execution_count": 23,
     "metadata": {},
     "output_type": "execute_result"
    }
   ],
   "source": [
    "lhs == rhs"
   ]
  },
  {
   "cell_type": "markdown",
   "metadata": {},
   "source": [
    "---\n",
    "\n",
    "### Ymarfer 3\n",
    "\n",
    "Newidiwch **yr uchod** (Ymarfer 2) i wirio os yw'n wir ar gyfer pob gwerth llai na 2000."
   ]
  },
  {
   "cell_type": "code",
   "execution_count": 24,
   "metadata": {
    "tags": [
     "solution"
    ]
   },
   "outputs": [],
   "source": [
    "n_macs = 2000\n",
    "n = 0\n",
    "while n < n_macs:  # gwirio'r hafaliad ar gyfer n hyd at 2000\n",
    "    n += 1\n",
    "    rhs = n * (n +  1) / 2\n",
    "    lhs = 0\n",
    "    i = 0\n",
    "    while i < n:\n",
    "        i += 1\n",
    "        lhs += i\n",
    "    if lhs != rhs:\n",
    "        print(False)  # Byddwn yn printio False os yw'r cod yn ffeindio gwall"
   ]
  },
  {
   "cell_type": "markdown",
   "metadata": {},
   "source": [
    "----\n",
    "\n",
    "### Ymarfer 4\n",
    "\n",
    "Cyfrifwch swm y rhifau naturiol llai na 1000 nad yw'n rhanadwy gan 3."
   ]
  },
  {
   "cell_type": "code",
   "execution_count": 25,
   "metadata": {
    "tags": [
     "solution"
    ]
   },
   "outputs": [
    {
     "data": {
      "text/plain": [
       "333667"
      ]
     },
     "execution_count": 25,
     "metadata": {},
     "output_type": "execute_result"
    }
   ],
   "source": [
    "terfan_uchaf = 1000\n",
    "\n",
    "cyfanswm = 0\n",
    "rhif = 0\n",
    "\n",
    "while rhif < terfan_uchaf:\n",
    "    rhif += 1  # Cynyddu'r rhif\n",
    "    if rhif % 3 != 0:  # Gwirio os yw'n rhanadwy gan 3\n",
    "        cyfanswm += rhif\n",
    "cyfanswm"
   ]
  },
  {
   "cell_type": "markdown",
   "metadata": {},
   "source": [
    "---\n",
    "\n",
    "### Ymarfer 5\n",
    "\n",
    "Cyfrifwch swm y 1000 rhif naturiol cyntaf nad yw'n rhanadwy gan 3."
   ]
  },
  {
   "cell_type": "code",
   "execution_count": 26,
   "metadata": {
    "tags": [
     "solution"
    ]
   },
   "outputs": [
    {
     "data": {
      "text/plain": [
       "750000"
      ]
     },
     "execution_count": 26,
     "metadata": {},
     "output_type": "execute_result"
    }
   ],
   "source": [
    "terfan_uchad = 1000\n",
    "\n",
    "cyfanswm = 0\n",
    "rhif = 0\n",
    "cyfrif = 0\n",
    "\n",
    "while cyfrif < terfan_uchaf:\n",
    "    rhif += 1  # Cynyddu'r rhif\n",
    "    if rhif % 3 != 0:  # Gwirio os yw'n rhanadwy gyda 3\n",
    "        cyfanswm += rhif\n",
    "        # Cadw tra ar faint o rhifau sydd gennym sy'n nad rhanadwy gyda 3.\n",
    "        cyfrif += 1  \n",
    "cyfanswm"
   ]
  },
  {
   "cell_type": "markdown",
   "metadata": {},
   "source": [
    "---\n",
    "\n",
    "###  Ymarfer 6\n",
    "\n",
    "Fe ellir dangos (does dim angen profi hwn) bod y dilyniant canlynol:\n",
    "\n",
    "\\\\[\n",
    "    x_{n+1}=\\frac{x_n + K / x_{n}}{2}\n",
    "\\\\]\n",
    "\n",
    "yn agosáu ar \\\\(\\sqrt{K}\\\\) wrth i \\\\(n\\\\) cynyddu. Ysgrifennwch god i wirio hwn ar gyfer unrhyw lefel o drachywiredd."
   ]
  },
  {
   "cell_type": "code",
   "execution_count": 27,
   "metadata": {
    "tags": [
     "solution"
    ]
   },
   "outputs": [
    {
     "name": "stdout",
     "output_type": "stream",
     "text": [
      "13.5\n",
      "10.157407407407408\n",
      "9.607418380093858\n",
      "9.591675965316126\n"
     ]
    }
   ],
   "source": [
    "epsilon = 0.001\n",
    "K = 92  # Mae hwn yn gosod y gwerth cyntaf i cymryf ail isradd ohono\n",
    "X = K / 4.0  # Mae hwn yn dewis gwerth cychwynnol y dilyniant\n",
    "while abs(X**2 - K) > epsilon:  # abs yw'r gwerth absoliwt\n",
    "    X = (X + K / X) / 2\n",
    "    print(X)"
   ]
  },
  {
   "cell_type": "code",
   "execution_count": 28,
   "metadata": {
    "tags": [
     "solution"
    ]
   },
   "outputs": [
    {
     "data": {
      "text/plain": [
       "92.0"
      ]
     },
     "execution_count": 28,
     "metadata": {},
     "output_type": "execute_result"
    }
   ],
   "source": [
    "# gwiriwn\n",
    "round(X ** 2, 3)"
   ]
  },
  {
   "cell_type": "markdown",
   "metadata": {},
   "source": [
    "---\n",
    "\n",
    "## Adnoddau pellach\n",
    "\n",
    "- [Y tiwtorial Python swyddogol](https://docs.python.org/3/tutorial/introduction.html)\n",
    "- [Tiwtorial Python ar gyfer rheini sydd ddim yn rhaglenwyr](https://en.wikibooks.org/wiki/Non-Programmer%27s_Tutorial_for_Python_3):\n",
    "    - [Newidynnau](https://en.wikibooks.org/wiki/Non-Programmer%27s_Tutorial_for_Python_3/Hello,_World).\n",
    "    - [Datbygio](https://en.wikibooks.org/wiki/Non-Programmer%27s_Tutorial_for_Python_3/Debugging).\n",
    "    - [Newidynau boolean](https://en.wikibooks.org/wiki/Non-Programmer%27s_Tutorial_for_Python_3/Boolean_Expressions).\n",
    "    - [Datganiadau 'if](https://en.wikibooks.org/wiki/Non-Programmer%27s_Tutorial_for_Python_3/Decisions).\n",
    "    - [Lwpiau 'For'](https://en.wikibooks.org/wiki/Non-Programmer%27s_Tutorial_for_Python_3/For_Loops)\n",
    "      a\n",
    "      ['while'](https://en.wikibooks.org/wiki/Non-Programmer%27s_Tutorial_for_Python_3/Count_to_10).\n",
    "- ['Learn X in Y minutes for Python3'](https://learnxinyminutes.com/docs/python3/)\n",
    "- [Rhestr chwarae da](https://www.youtube.com/watch?v=HBxCHonP6Ro&list=PL6gx4Cwl9DGAcbMi1sH6oAMk4JHw91mC_)\n",
    "- ['Automating the boring stuff': llyfr neis](https://automatetheboringstuff.com/)"
   ]
  },
  {
   "cell_type": "code",
   "execution_count": null,
   "metadata": {},
   "outputs": [],
   "source": []
  }
 ],
 "metadata": {
  "anaconda-cloud": {},
  "celltoolbar": "Tags",
  "kernelspec": {
   "display_name": "Python 3",
   "language": "python",
   "name": "python3"
  },
  "language_info": {
   "codemirror_mode": {
    "name": "ipython",
    "version": 3
   },
   "file_extension": ".py",
   "mimetype": "text/x-python",
   "name": "python",
   "nbconvert_exporter": "python",
   "pygments_lexer": "ipython3",
   "version": "3.6.5"
  }
 },
 "nbformat": 4,
 "nbformat_minor": 2
}
