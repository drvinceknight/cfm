{
 "cells": [
  {
   "cell_type": "markdown",
   "metadata": {},
   "source": [
    "## Pennod 02: Strwythurau Data a Ffwythiannau\n",
    "\n",
    "Bydd y daflen lab yma yn symud ymlaen i ddeall sut i ysgrifennu ffwythiannau (yn debyg iawn i ffwythiannau mathemategol) a rhestrau (ffordd o gynnal data)."
   ]
  },
  {
   "cell_type": "markdown",
   "metadata": {},
   "source": [
    "## Tiwtorial\n",
    "\n",
    "Gweithiwch trwy'r canlynol:\n",
    "\n",
    "---\n",
    "\n",
    "### 1. Rhestrau\n",
    "\n",
    "[Fideo yn disgrifio'r cysyniad.](https://youtu.be/oLrrdPQzZas)\n",
    "\n",
    "[Fideo demo.](https://youtu.be/E3BNVFwLWkM)\n",
    "\n",
    "Math arall o newidyn yn Python (rydym yn barod wedi gweld newidynnau rhifiadol a newidynnau o gymeriadau) yw rhestr. Mae hwn yn ymddwyn fel cynhwysydd sy'n dal nifer o eitemau arall mewn trefn.\n",
    "\n",
    "Dyma restr o'm hoff rifau:\n"
   ]
  },
  {
   "cell_type": "code",
   "execution_count": 1,
   "metadata": {},
   "outputs": [
    {
     "data": {
      "text/plain": [
       "[9, 12, 13, 7]"
      ]
     },
     "execution_count": 1,
     "metadata": {},
     "output_type": "execute_result"
    }
   ],
   "source": [
    "hoff_rhifau = [9, 12, 13, 7]\n",
    "hoff_rhifau"
   ]
  },
  {
   "cell_type": "code",
   "execution_count": 2,
   "metadata": {},
   "outputs": [
    {
     "data": {
      "text/plain": [
       "list"
      ]
     },
     "execution_count": 2,
     "metadata": {},
     "output_type": "execute_result"
    }
   ],
   "source": [
    "type(hoff_rhifau)"
   ]
  },
  {
   "cell_type": "markdown",
   "metadata": {},
   "source": [
    "Gallwn wneud amryw o bethau i eitemau mewn rhestr:"
   ]
  },
  {
   "cell_type": "code",
   "execution_count": 3,
   "metadata": {},
   "outputs": [
    {
     "data": {
      "text/plain": [
       "41"
      ]
     },
     "execution_count": 3,
     "metadata": {},
     "output_type": "execute_result"
    }
   ],
   "source": [
    "sum(hoff_rhifau)  # Adio'r holl elfennau yn y rhestr"
   ]
  },
  {
   "cell_type": "code",
   "execution_count": 4,
   "metadata": {},
   "outputs": [
    {
     "data": {
      "text/plain": [
       "13"
      ]
     },
     "execution_count": 4,
     "metadata": {},
     "output_type": "execute_result"
    }
   ],
   "source": [
    "max(hoff_rhifau)  # Cael yr elfen mwyaf yn y rhestr"
   ]
  },
  {
   "cell_type": "code",
   "execution_count": 5,
   "metadata": {},
   "outputs": [
    {
     "data": {
      "text/plain": [
       "7"
      ]
     },
     "execution_count": 5,
     "metadata": {},
     "output_type": "execute_result"
    }
   ],
   "source": [
    "min(hoff_rhifau)  # Cael yr elfen lleiaf yn y rhestr"
   ]
  },
  {
   "cell_type": "code",
   "execution_count": 6,
   "metadata": {},
   "outputs": [
    {
     "data": {
      "text/plain": [
       "[9, 12, 13, 7, -100]"
      ]
     },
     "execution_count": 6,
     "metadata": {},
     "output_type": "execute_result"
    }
   ],
   "source": [
    "hoff_rhifau.append(-100)  # Ychwanegu elfen arall i'r rhestr\n",
    "hoff_rhifau"
   ]
  },
  {
   "cell_type": "markdown",
   "metadata": {},
   "source": [
    "Hefyd gallwn adfer eitemau penodol o'r rhestr. Mae hwn yn gweithio yn yr un modd â gyda strings:"
   ]
  },
  {
   "cell_type": "code",
   "execution_count": 7,
   "metadata": {},
   "outputs": [
    {
     "data": {
      "text/plain": [
       "9"
      ]
     },
     "execution_count": 7,
     "metadata": {},
     "output_type": "execute_result"
    }
   ],
   "source": [
    "hoff_rhifau[0]  # Cael elfen cyntaf y rhestr"
   ]
  },
  {
   "cell_type": "code",
   "execution_count": 8,
   "metadata": {},
   "outputs": [
    {
     "data": {
      "text/plain": [
       "12"
      ]
     },
     "execution_count": 8,
     "metadata": {},
     "output_type": "execute_result"
    }
   ],
   "source": [
    "hoff_rhifau[1]  # Cael ail elfen y rhestr"
   ]
  },
  {
   "cell_type": "code",
   "execution_count": 9,
   "metadata": {},
   "outputs": [
    {
     "data": {
      "text/plain": [
       "-100"
      ]
     },
     "execution_count": 9,
     "metadata": {},
     "output_type": "execute_result"
    }
   ],
   "source": [
    "hoff_rhifau[-1]  # Cael elfen olaf y rhestr"
   ]
  },
  {
   "cell_type": "code",
   "execution_count": 10,
   "metadata": {},
   "outputs": [
    {
     "data": {
      "text/plain": [
       "[13, 7]"
      ]
     },
     "execution_count": 10,
     "metadata": {},
     "output_type": "execute_result"
    }
   ],
   "source": [
    "hoff_rhifau[2:4]  # Cael y 3ydd i'r 4ydd elfen y rhestr"
   ]
  },
  {
   "cell_type": "markdown",
   "metadata": {},
   "source": [
    "Mae strings (gweler y daflen lab diwethaf) a rhestrau yn debyg iawn yn y ffordd maent yn 'cynwysyddion' ar gyfer eitemau. Mae lot o'r gweithrediadau sy'n gweithio gyda rhestrau hefyd yn gweithio gyda strings:"
   ]
  },
  {
   "cell_type": "code",
   "execution_count": 11,
   "metadata": {},
   "outputs": [
    {
     "data": {
      "text/plain": [
       "5"
      ]
     },
     "execution_count": 11,
     "metadata": {},
     "output_type": "execute_result"
    }
   ],
   "source": [
    "enwcyntaf = \"Vince\"\n",
    "len(enwcyntaf)  # Faint o gymeriadau sydd yn y newidyn"
   ]
  },
  {
   "cell_type": "code",
   "execution_count": 12,
   "metadata": {},
   "outputs": [
    {
     "data": {
      "text/plain": [
       "'V'"
      ]
     },
     "execution_count": 12,
     "metadata": {},
     "output_type": "execute_result"
    }
   ],
   "source": [
    "enwcyntaf[0]  # Gallwn pwyntio at cymeriadau unigol, 0 yw'r cyntaf"
   ]
  },
  {
   "cell_type": "code",
   "execution_count": 13,
   "metadata": {},
   "outputs": [
    {
     "data": {
      "text/plain": [
       "'e'"
      ]
     },
     "execution_count": 13,
     "metadata": {},
     "output_type": "execute_result"
    }
   ],
   "source": [
    "enwcyntaf[4]"
   ]
  },
  {
   "cell_type": "code",
   "execution_count": 14,
   "metadata": {},
   "outputs": [
    {
     "data": {
      "text/plain": [
       "'e'"
      ]
     },
     "execution_count": 14,
     "metadata": {},
     "output_type": "execute_result"
    }
   ],
   "source": [
    "enwcyntaf[-1]  # Gallwn defnyddio rhifau negatif i dechau'r cyfri o'r diwedd"
   ]
  },
  {
   "cell_type": "code",
   "execution_count": 15,
   "metadata": {},
   "outputs": [
    {
     "data": {
      "text/plain": [
       "'Vinc'"
      ]
     },
     "execution_count": 15,
     "metadata": {},
     "output_type": "execute_result"
    }
   ],
   "source": [
    "enwcyntaf[0:4]  # Gallwn 'sleisio' strings"
   ]
  },
  {
   "cell_type": "markdown",
   "metadata": {},
   "source": [
    "**Arbrofwch trwy creu rhestrau a'u trin.**"
   ]
  },
  {
   "cell_type": "markdown",
   "metadata": {},
   "source": [
    "### 2. Lwpiau 'for'.\n",
    "\n",
    "[Fideo yn disgrifio'r cysyniad.](https://youtu.be/icgb6I85pX8)\n",
    "\n",
    "[Fideo demo.](https://youtu.be/npJqdB1pqdQ)\n",
    "\n",
    "Yn y daflen lab diwethaf, gwelwn gallwn ddefnyddio lwp `while` i ailadrodd darn o god nes bod amod boolean yn `False`. Mae hefyd yn bosib ailadrodd rhyw weithrediad ar gyfer pob elfen mewn rhestr."
   ]
  },
  {
   "cell_type": "code",
   "execution_count": 16,
   "metadata": {},
   "outputs": [
    {
     "data": {
      "text/plain": [
       "55"
      ]
     },
     "execution_count": 16,
     "metadata": {},
     "output_type": "execute_result"
    }
   ],
   "source": [
    "eitemmau = [1, 2, 3, 4, 5, 6, 7, 8, 9, 10]  # Creu rhestr\n",
    "cyfanswm = 0\n",
    "for eitem in eitemmau:\n",
    "    cyfanswm += eitem\n",
    "cyfanswm"
   ]
  },
  {
   "cell_type": "markdown",
   "metadata": {},
   "source": [
    "Ffordd gyflym o gael rhestr o gyfanrifau yw'r gorchymyn `range`:"
   ]
  },
  {
   "cell_type": "code",
   "execution_count": 17,
   "metadata": {},
   "outputs": [
    {
     "name": "stdout",
     "output_type": "stream",
     "text": [
      "0\n",
      "1\n",
      "2\n",
      "3\n",
      "4\n",
      "5\n",
      "6\n",
      "7\n",
      "8\n",
      "9\n"
     ]
    }
   ],
   "source": [
    "for k in range(10):\n",
    "    print(k)"
   ]
  },
  {
   "cell_type": "markdown",
   "metadata": {},
   "source": [
    "**Arbrofwch trwy symio (neu efallai lluosi?) dros wahanol restrau o eitemau.**"
   ]
  },
  {
   "cell_type": "markdown",
   "metadata": {},
   "source": [
    "### 3. Cyfansoddiad rhestrau\n",
    "\n",
    "[Fideo yn disgrifio'r cysyniad.](https://youtu.be/tEyxAfVWEGE)\n",
    "\n",
    "[Fideo demo.](https://youtu.be/893eu9F75gI)\n",
    "\n",
    "Dyma restr o rifau sgwâr, wedi'i gynhyrchu trwy ddefnyddio'r dull `append` a lwp 'for'."
   ]
  },
  {
   "cell_type": "code",
   "execution_count": 18,
   "metadata": {},
   "outputs": [
    {
     "data": {
      "text/plain": [
       "[81, 144, 169, 49, 10000]"
      ]
     },
     "execution_count": 18,
     "metadata": {},
     "output_type": "execute_result"
    }
   ],
   "source": [
    "cyfanswm = 0\n",
    "hoff_rhifau_sgwar = []  # Creu rhestr gwag\n",
    "for n in hoff_rhifau:\n",
    "    hoff_rhifau_sgwar.append(n ** 2)\n",
    "hoff_rhifau_sgwar"
   ]
  },
  {
   "cell_type": "markdown",
   "metadata": {},
   "source": [
    "Ond gallwn ni gwneud hwn trwy ddefnyddio cystrawen Python o'r enw cyfansoddiad rhestrau:"
   ]
  },
  {
   "cell_type": "code",
   "execution_count": 19,
   "metadata": {},
   "outputs": [
    {
     "data": {
      "text/plain": [
       "[81, 144, 169, 49, 10000]"
      ]
     },
     "execution_count": 19,
     "metadata": {},
     "output_type": "execute_result"
    }
   ],
   "source": [
    "hoff_rhifau_sgwar = [x ** 2 for x in hoff_rhifau]\n",
    "hoff_rhifau_sgwar"
   ]
  },
  {
   "cell_type": "markdown",
   "metadata": {},
   "source": [
    "Mae hwn yn gyfarwydd, gan ei fod yn dyblygu nodiant mathemategol. Er enghraifft dyma sut gallwn gael swm yr elfennau yn y set ganlynol:\n",
    "\n",
    "\\\\[\n",
    "    \\{n \\in S \\;| \\text{ os yw } n \\text{ yn rhanadwy gan 2}\\}\n",
    "\\\\]\n",
    "\n",
    "(Dyma nodiant mathemategol ar gyfer \"y set o'r holl bethau yn \\\\(S\\\\) sy'n rhanadwy gan 2\".)"
   ]
  },
  {
   "cell_type": "code",
   "execution_count": 20,
   "metadata": {},
   "outputs": [
    {
     "data": {
      "text/plain": [
       "-88"
      ]
     },
     "execution_count": 20,
     "metadata": {},
     "output_type": "execute_result"
    }
   ],
   "source": [
    "sum([n for n in hoff_rhifau if n % 2 == 0])"
   ]
  },
  {
   "cell_type": "markdown",
   "metadata": {},
   "source": [
    "**Arbrofwch trwy newid y cod yma i greu rhestr wahanol.**"
   ]
  },
  {
   "cell_type": "markdown",
   "metadata": {},
   "source": [
    "### 4. Ysgrifennu ffwythiannau syml.\n",
    "\n",
    "[Fideo yn disgrifio'r cysyniad.](https://youtu.be/_8gcT7_o84U)\n",
    "\n",
    "[Fideo demo.](https://youtu.be/FHXiY22e6NQ)\n",
    "\n",
    "Yn aml bydd angen defnyddio cod mwy nag unwaith. Y ffordd o wneud hwn yw ysgrifennu ffwythiant. Dyma enghraifft syml. Mae'n ffwythiant sy'n allbynnu string yn dweud \"Helo byd\":\n"
   ]
  },
  {
   "cell_type": "code",
   "execution_count": 21,
   "metadata": {},
   "outputs": [],
   "source": [
    "def dweud_hi():\n",
    "    return \"Helo byd\""
   ]
  },
  {
   "cell_type": "markdown",
   "metadata": {},
   "source": [
    "Nawr, i **ddefnyddio'r** ffwythiant mae angen galw'r ffwythiant, gallwn wneud hwn trwy ddefnyddio pâr o gromfachau `()`."
   ]
  },
  {
   "cell_type": "code",
   "execution_count": 22,
   "metadata": {},
   "outputs": [
    {
     "data": {
      "text/plain": [
       "'Helo byd'"
      ]
     },
     "execution_count": 22,
     "metadata": {},
     "output_type": "execute_result"
    }
   ],
   "source": [
    "dweud_hi()"
   ]
  },
  {
   "cell_type": "markdown",
   "metadata": {},
   "source": [
    "Mae'n ymarfer da i dorri cod lawr i ffwythiannau bach er mwyn i'w wneud yn haws i'w ddarllen.\n",
    "\n",
    "Arbrofwch gyda newid beth mae'r ffwythiant `dweud_hi` yn dweud."
   ]
  },
  {
   "cell_type": "markdown",
   "metadata": {},
   "source": [
    "### 5. Ffwythiannau gyda newidynnau.\n",
    "\n",
    "[Fideo yn disgrifio'r cysyniad.](https://youtu.be/S-pzofb4Ok0)\n",
    "\n",
    "[Fideo demo.](https://youtu.be/X13uTM0GPjI)\n",
    "\n",
    "Mae'n fwy defnyddio i gynnwys newidynnau yn ein ffwythiannau (yn yr union un modd a ffwythiannau mathemategol!).\n",
    "\n",
    "Gadewch i ni ail-edrych ar y ffwythiant mathemategol disgrifion ni yn y daflen lab diwethaf:\n",
    "\n",
    "\\\\[\n",
    "    f(n)=\\begin{cases}\n",
    "        1&\\text{ os yw } n\\leq 5\\\\\n",
    "        2&\\text{ os yw } n> 5\\text{ ac } n \\text{ yn eilrif }\\\\\n",
    "        3&\\text{ fel arall }\\\\\n",
    "    \\end{cases}\n",
    "\\\\]\n",
    "\n",
    "Dyma'r cod sy'n diffinio'r ffwythiant yma (cymharwch hwn gyda'r cod ysgrifennon ni yn y daflen lab diwethaf):"
   ]
  },
  {
   "cell_type": "code",
   "execution_count": 23,
   "metadata": {},
   "outputs": [
    {
     "data": {
      "text/plain": [
       "3"
      ]
     },
     "execution_count": 23,
     "metadata": {},
     "output_type": "execute_result"
    }
   ],
   "source": [
    "def f(n):\n",
    "    \"\"\"\n",
    "    Fe elwir yr ysgrifen sydd rhwng dyfynodau triphlyg yn 'doc string'.\n",
    "    Defnyddiwn hwn i ddisgrifio beth mae'r ffwythiant yn gwneud. Er\n",
    "    enghraifft byddwn yn ysgrifennu: Mae'r ffwythiant yma yn allbynnu\n",
    "    f(n) fel y disgrifir uchod.\n",
    "    \"\"\"\n",
    "    if n <= 5:\n",
    "        return 1\n",
    "    elif n % 2 == 0:  # fel arall, os\n",
    "        return 2\n",
    "    else:  # fel arall\n",
    "        return 3\n",
    "f(11)"
   ]
  },
  {
   "cell_type": "markdown",
   "metadata": {},
   "source": [
    "Gallwn hefyd cael ffwythiannau gyda mwy nag un newidyn:"
   ]
  },
  {
   "cell_type": "code",
   "execution_count": 24,
   "metadata": {},
   "outputs": [
    {
     "data": {
      "text/plain": [
       "12"
      ]
     },
     "execution_count": 24,
     "metadata": {},
     "output_type": "execute_result"
    }
   ],
   "source": [
    "def swm_syml(a, b):\n",
    "    \"\"\"Allbynu swm a ac b\"\"\"\n",
    "    return a + b\n",
    "swm_syml(5, 7)"
   ]
  },
  {
   "cell_type": "markdown",
   "metadata": {},
   "source": [
    "Mae hefyd yn bosib gosod newidynnau diofyn:"
   ]
  },
  {
   "cell_type": "code",
   "execution_count": 25,
   "metadata": {},
   "outputs": [],
   "source": [
    "def swm_syml(a=5, b=1):\n",
    "    \"\"\"Allbynu swm a ac b\"\"\"\n",
    "    return a + b"
   ]
  },
  {
   "cell_type": "code",
   "execution_count": 26,
   "metadata": {},
   "outputs": [
    {
     "data": {
      "text/plain": [
       "6"
      ]
     },
     "execution_count": 26,
     "metadata": {},
     "output_type": "execute_result"
    }
   ],
   "source": [
    "swm_syml()"
   ]
  },
  {
   "cell_type": "code",
   "execution_count": 27,
   "metadata": {},
   "outputs": [
    {
     "data": {
      "text/plain": [
       "7"
      ]
     },
     "execution_count": 27,
     "metadata": {},
     "output_type": "execute_result"
    }
   ],
   "source": [
    "swm_syml(b=2)"
   ]
  },
  {
   "cell_type": "code",
   "execution_count": 28,
   "metadata": {},
   "outputs": [
    {
     "data": {
      "text/plain": [
       "4"
      ]
     },
     "execution_count": 28,
     "metadata": {},
     "output_type": "execute_result"
    }
   ],
   "source": [
    "swm_syml(a=3)"
   ]
  },
  {
   "cell_type": "markdown",
   "metadata": {},
   "source": [
    "**Arbrofwch trwy greu ffwythiant eich hun**"
   ]
  },
  {
   "cell_type": "markdown",
   "metadata": {},
   "source": [
    "---\n",
    "\n",
    "### Enghraifft weithredol\n",
    "\n",
    "[Fideo yn disgrifio'r cysyniad.](https://youtu.be/Y1mdHL7OZiU)\n",
    "\n",
    "[Fideo demo.](https://youtu.be/h0_nnFmRwUQ)\n",
    "\n",
    "Diffinnir y rhifau Fibonacci gan y fformiwla fathemategol:\n",
    "\n",
    "\\\\[\n",
    "    f_n = \\begin{cases}\n",
    "    1,\\text{ is yw } n \\in \\{0, 1\\}\\\\\n",
    "    f_{n - 1} + f_{n - 2}, \\text{ fel arall }\n",
    "    \\end{cases}\n",
    "\\\\]\n",
    "\n",
    "Nod y cwestiwn yma yw gwirio'r theorem ganlynol am swm y rhifau Fibonacci cyntaf:\n",
    "\n",
    "\\\\[\n",
    "    \\sum_{i=0}^n f_i = f_{n + 2} - 1\n",
    "\\\\]\n",
    "\n",
    "Fel enghraifft gyda \\\\(n=2\\\\) mae gennym \\\\(f_0=f_1=1, f_2=2, f_3=3\\\\) ac \\\\(f_5=8\\\\).\n",
    "Felly mae gennym:\n",
    "\n",
    "\\\\[\n",
    "    \\sum_{i=0}^nf_i = 1 + 1 + 2 + 3 = 7 = 8 - 1 = f_{3 + 2} - 1\n",
    "\\\\]\n",
    "\n",
    "Byddwn yn gwirio'r fformiwla trwy ddefnyddio Python.\n",
    "Yn gyntaf ysgrifennwn ffwythiant ar gyfer y dilyniant Fibonacci ei hun:\n"
   ]
  },
  {
   "cell_type": "code",
   "execution_count": 29,
   "metadata": {},
   "outputs": [],
   "source": [
    "def fibonacci(n):\n",
    "    \"\"\"Allbynnu'r n fed rhif fibonacci\"\"\"\n",
    "    if n in [0, 1]:  # Yr achos arbennig o n for yn 0 neu 1\n",
    "        return 1\n",
    "    a = 1  # Gosod y gwerthoedd cychwynnol\n",
    "    b = 1\n",
    "    for i in range(n - 1):  # Yn mynd trwy;r n - 1 term cyntaf\n",
    "        drosdro = b  # Newidyn dros dro i cofio gweth b\n",
    "        b = a + b  # Gwerth newydd b\n",
    "        a = drosdro  # Gwerth newydd a (hen werth b)\n",
    "    return b"
   ]
  },
  {
   "cell_type": "markdown",
   "metadata": {},
   "source": [
    "Gadewch i ni alw'r ffwythiant yma i wirio ei fod yn gywir:"
   ]
  },
  {
   "cell_type": "code",
   "execution_count": 30,
   "metadata": {},
   "outputs": [
    {
     "name": "stdout",
     "output_type": "stream",
     "text": [
      "1\n",
      "1\n",
      "2\n",
      "3\n",
      "5\n"
     ]
    }
   ],
   "source": [
    "for n in range(5):\n",
    "    print(fibonacci(n))"
   ]
  },
  {
   "cell_type": "markdown",
   "metadata": {},
   "source": [
    "Gallwn nawr cael rhestr o'r \\\\(K\\\\) rhif fibonacci cyntaf a gwirio'r theorem:"
   ]
  },
  {
   "cell_type": "code",
   "execution_count": 31,
   "metadata": {},
   "outputs": [
    {
     "data": {
      "text/plain": [
       "True"
      ]
     },
     "execution_count": 31,
     "metadata": {},
     "output_type": "execute_result"
    }
   ],
   "source": [
    "K = 3\n",
    "rhestr_fib = [fibonacci(n) for n in range(K + 1)]\n",
    "sum(rhestr_fib) == fibonacci(K + 2) - 1"
   ]
  },
  {
   "cell_type": "markdown",
   "metadata": {},
   "source": [
    "Gallwn nawr rhoi'r cod yma, sy'n gwirio os yw'r perthynas yn wir, i mewn i ffwythiant newydd:"
   ]
  },
  {
   "cell_type": "code",
   "execution_count": 32,
   "metadata": {},
   "outputs": [],
   "source": [
    "def gwirio_theorem(K):\n",
    "    \"\"\"\n",
    "    Gwirio'r perthynas ar gyfer swm y K rhif fibonacci cyntaf\n",
    "    \"\"\"\n",
    "    rhestr_fib = [fibonacci(n) for n in range(K + 1)]\n",
    "    return  sum(rhestr_fib) == fibonacci(K + 2) - 1"
   ]
  },
  {
   "cell_type": "markdown",
   "metadata": {},
   "source": [
    "Nawr gwiriwn ni'r theorem ar gyfer y 200 gwerth cyntaf \\\\(K\\\\):"
   ]
  },
  {
   "cell_type": "code",
   "execution_count": 33,
   "metadata": {},
   "outputs": [
    {
     "data": {
      "text/plain": [
       "True"
      ]
     },
     "execution_count": 33,
     "metadata": {},
     "output_type": "execute_result"
    }
   ],
   "source": [
    "gwiriadau = [gwirio_theorem(K) for K in range(200)]\n",
    "all(gwiriadau)  # Mae `all` yn cyfuno pob boolean mewn rhestr"
   ]
  },
  {
   "cell_type": "markdown",
   "metadata": {},
   "source": [
    "---\n",
    "\n",
    "## Ymarferion\n",
    "\n",
    "Dyma nifer o ymarferion sy'n bosib cario allan trwy ddefnyddio'r cysyniadau a thrafodwyd:\n",
    "\n",
    "- Rhestrau, er enghraifft: `rhifau_od = [1, 3, 5, 7]`\n",
    "- Lwpiau 'for', er enghraifft:\n",
    "    ```python\n",
    "    for i in rhifau_od:\n",
    "        print(i ** 2)\n",
    "    ```\n",
    "- Cyfansoddiadau rhestrau, er enghraifft: `rhifau_od_sgwar = [n ** 2 for n in rhifau_od]`\n",
    "- Ffwythiannau, er enghraifft:\n",
    "    ```python\n",
    "    def rhannu(a=4, b=1):\n",
    "        return a / b\n",
    "    ```"
   ]
  },
  {
   "cell_type": "markdown",
   "metadata": {},
   "source": [
    "---\n",
    "\n",
    "### Ymarfer 1\n",
    "\n",
    "**Ymarfer datbygio**\n",
    "\n",
    "   Mae'r cod canlynol yn ceisio ysgrifennu \\\\(n!\\\\) fel ffwythiant. Canfyddwch a chywirwch yr holl bygs.\n",
    "\n",
    "   ```python\n",
    "   def ffactorial(n):\n",
    "       \"\"\"Ffwythiant sy'n allbynnu ffactorial n\"\"\"\n",
    "       for i in range(n)\n",
    "           lluoswm *= i\n",
    "   ```"
   ]
  },
  {
   "cell_type": "code",
   "execution_count": 34,
   "metadata": {
    "tags": [
     "solution"
    ]
   },
   "outputs": [],
   "source": [
    "def ffactorial(n):\n",
    "    \"\"\"Ffwythiant sy'n allbynnu ffactorial n\"\"\"\n",
    "    lluoswm = 1  # Angen cychwyn y newidyn ffug yma.\n",
    "    #for i in range(n)  # Mae `:` ar goll, nid yw'r amrediad yn gywir\n",
    "    for i in range(1, n + 1):\n",
    "        lluoswm *= i\n",
    "    return lluoswm  # Nid oedd yn allbynnu"
   ]
  },
  {
   "cell_type": "markdown",
   "metadata": {
    "tags": [
     "solution"
    ]
   },
   "source": [
    "Gwiriad gloi:"
   ]
  },
  {
   "cell_type": "code",
   "execution_count": 35,
   "metadata": {
    "tags": [
     "solution"
    ]
   },
   "outputs": [
    {
     "name": "stdout",
     "output_type": "stream",
     "text": [
      "0 1\n",
      "1 1\n",
      "2 2\n",
      "3 6\n",
      "4 24\n"
     ]
    }
   ],
   "source": [
    "for n in range(5):\n",
    "    print(n, ffactorial(n))"
   ]
  },
  {
   "cell_type": "markdown",
   "metadata": {},
   "source": [
    "---\n",
    "\n",
    "### Ymarfer 2\n",
    "\n",
    "Ysgrifennwch ffwythiant sy'n allbynnu'r rhifau triongl \\\\(T_n\\\\):\n",
    "\n",
    "\\\\[\n",
    "    T_n=\\frac{n(n+1)}{2}\n",
    "\\\\]"
   ]
  },
  {
   "cell_type": "code",
   "execution_count": 36,
   "metadata": {
    "tags": [
     "solution"
    ]
   },
   "outputs": [],
   "source": [
    "def trionglog(n):\n",
    "    \"\"\"Allbynnu'r nfed rhif triongl\"\"\"\n",
    "    return n * (n + 1) / 2"
   ]
  },
  {
   "cell_type": "code",
   "execution_count": 37,
   "metadata": {
    "tags": [
     "solution"
    ]
   },
   "outputs": [
    {
     "name": "stdout",
     "output_type": "stream",
     "text": [
      "0.0\n",
      "1.0\n",
      "3.0\n",
      "6.0\n",
      "10.0\n",
      "15.0\n",
      "21.0\n",
      "28.0\n",
      "36.0\n",
      "45.0\n"
     ]
    }
   ],
   "source": [
    "for n in range(10):\n",
    "    print(trionglog(n))"
   ]
  },
  {
   "cell_type": "markdown",
   "metadata": {},
   "source": [
    "---\n",
    "\n",
    "### Ymarfer 3\n",
    "\n",
    "Defnyddiwch god i wirio fod y perthynas yma yn wir:\n",
    "\n",
    "\\\\[\n",
    "    \\sum_{i=0}^{n}T_i=\\frac{n(n+1)(n+2)}{6}\n",
    "\\\\]"
   ]
  },
  {
   "cell_type": "code",
   "execution_count": 38,
   "metadata": {
    "tags": [
     "solution"
    ]
   },
   "outputs": [],
   "source": [
    "def gwirio_theorem(K):\n",
    "    \"\"\"\n",
    "    Gwirio'r perthynas ar gyfer swm y K rhif triongl cyntaf\n",
    "    \"\"\"\n",
    "    rhestr_trionglog = [trionglog(n) for n in range(K + 1)]\n",
    "    return  sum(rhestr_trionglog) == K * (K + 1) * (K + 2) / 6"
   ]
  },
  {
   "cell_type": "code",
   "execution_count": 39,
   "metadata": {
    "tags": [
     "solution"
    ]
   },
   "outputs": [
    {
     "data": {
      "text/plain": [
       "True"
      ]
     },
     "execution_count": 39,
     "metadata": {},
     "output_type": "execute_result"
    }
   ],
   "source": [
    "gwirio_theorem(4)"
   ]
  },
  {
   "cell_type": "markdown",
   "metadata": {
    "tags": [
     "solution"
    ]
   },
   "source": [
    "Fan hyn gwiriwn y 200 rhif cyntaf:"
   ]
  },
  {
   "cell_type": "code",
   "execution_count": 40,
   "metadata": {
    "tags": [
     "solution"
    ]
   },
   "outputs": [
    {
     "data": {
      "text/plain": [
       "True"
      ]
     },
     "execution_count": 40,
     "metadata": {},
     "output_type": "execute_result"
    }
   ],
   "source": [
    "gwiriadau = [gwirio_theorem(K) for K in range(200)]\n",
    "all(gwiriadau)  # Mae `all` yn cyfuno holl boolean mewn rhestr"
   ]
  },
  {
   "cell_type": "markdown",
   "metadata": {},
   "source": [
    "----\n",
    "\n",
    "### Ymarfer 4\n",
    "\n",
    "Crëwch restr gyda'r 1300 cyfanrif cyntaf sy'n rhanadwy â 3. Beth  yw'r rhif mwyaf yma? Beth yw'r rhif lleiaf? Beth yw cymedr y rhifau yma?"
   ]
  },
  {
   "cell_type": "code",
   "execution_count": 41,
   "metadata": {
    "tags": [
     "solution"
    ]
   },
   "outputs": [],
   "source": [
    "rhifau_rhanadwy = []\n",
    "terfan_uchaf = 1300\n",
    "n = 0\n",
    "while len(rhifau_rhanadwy) < terfan_uchaf:\n",
    "    n += 1\n",
    "    if n % 3 == 0:\n",
    "        rhifau_rhanadwy.append(n)"
   ]
  },
  {
   "cell_type": "code",
   "execution_count": 42,
   "metadata": {
    "tags": [
     "solution"
    ]
   },
   "outputs": [
    {
     "data": {
      "text/plain": [
       "3900"
      ]
     },
     "execution_count": 42,
     "metadata": {},
     "output_type": "execute_result"
    }
   ],
   "source": [
    "max(rhifau_rhanadwy)  # rhif mwyaf"
   ]
  },
  {
   "cell_type": "code",
   "execution_count": 43,
   "metadata": {
    "tags": [
     "solution"
    ]
   },
   "outputs": [
    {
     "data": {
      "text/plain": [
       "3"
      ]
     },
     "execution_count": 43,
     "metadata": {},
     "output_type": "execute_result"
    }
   ],
   "source": [
    "min(rhifau_rhanadwy)  # rhif lleiaf"
   ]
  },
  {
   "cell_type": "code",
   "execution_count": 44,
   "metadata": {
    "tags": [
     "solution"
    ]
   },
   "outputs": [
    {
     "data": {
      "text/plain": [
       "1951.5"
      ]
     },
     "execution_count": 44,
     "metadata": {},
     "output_type": "execute_result"
    }
   ],
   "source": [
    "sum(rhifau_rhanadwy) / len(rhifau_rhanadwy)  # cymedr"
   ]
  },
  {
   "cell_type": "markdown",
   "metadata": {},
   "source": [
    "---\n",
    "\n",
    "### Ymarfer 5\n",
    "\n",
    "Archwiliwch i mewn i ddefnydd y llyfrgell Python `random`. Defnyddiwch hwn i\n",
    "efelychi'r [problem Monty hall](https://en.wikipedia.org/wiki/Monty_Hall_problem):\n",
    "\n",
    "- Ysgrifennwch ffwythiant sy'n efelychu'r gem pan rydych yn cadw at eich dewis gwreiddiol.\n",
    "- Ysgrifennwch ffwythiant sy'n efelychu'r gem pan rydych yn newid eich dewis.\n",
    "- Ailadroddwch chwarae'r em gan ddefnyddio'r ddau ffwythiant a chymharwch y tebygolrwydd o ennill.\n"
   ]
  },
  {
   "cell_type": "code",
   "execution_count": 45,
   "metadata": {
    "tags": [
     "solution"
    ]
   },
   "outputs": [],
   "source": [
    "import random  # mewnforio'r llyfrgell random"
   ]
  },
  {
   "cell_type": "code",
   "execution_count": 46,
   "metadata": {
    "tags": [
     "solution",
     "nbval-ignore-output"
    ]
   },
   "outputs": [
    {
     "data": {
      "text/plain": [
       "0.38665853758464197"
      ]
     },
     "execution_count": 46,
     "metadata": {},
     "output_type": "execute_result"
    }
   ],
   "source": [
    "random.random()  # Mae hwn yn rhoi haprif rhwng 0 ac 1"
   ]
  },
  {
   "cell_type": "markdown",
   "metadata": {
    "tags": [
     "solution"
    ]
   },
   "source": [
    "Nodwch nad yw'r rhain yn haprifau **go iawn**: mewn gwirionedd maent yn dilyn dilyniant nad yw'n hawdd rhagfynegi ac sy'n ymddwyn yn debyg iawn i haprifau. Mae'n bosib nodi rydym eisiau'r union un dilyniant, ac rydym yn gwneud hwn trwy osod hedyn:"
   ]
  },
  {
   "cell_type": "code",
   "execution_count": 47,
   "metadata": {
    "tags": [
     "solution"
    ]
   },
   "outputs": [
    {
     "data": {
      "text/plain": [
       "(0.13436424411240122, 0.8474337369372327)"
      ]
     },
     "execution_count": 47,
     "metadata": {},
     "output_type": "execute_result"
    }
   ],
   "source": [
    "random.seed(1)  # Cymerir hwn unrhyw cyfanrif\n",
    "random.random(), random.random()"
   ]
  },
  {
   "cell_type": "markdown",
   "metadata": {
    "tags": [
     "solution"
    ]
   },
   "source": [
    "Gadewch i ni alw'r cod uchod unwaith eto:"
   ]
  },
  {
   "cell_type": "code",
   "execution_count": 48,
   "metadata": {
    "tags": [
     "solution"
    ]
   },
   "outputs": [
    {
     "data": {
      "text/plain": [
       "(0.13436424411240122, 0.8474337369372327)"
      ]
     },
     "execution_count": 48,
     "metadata": {},
     "output_type": "execute_result"
    }
   ],
   "source": [
    "random.seed(1)  # Defnyddiwn yr un hedyn ac o'r blaen\n",
    "random.random(), random.random()  # A chawn yr un rhifau"
   ]
  },
  {
   "cell_type": "markdown",
   "metadata": {
    "tags": [
     "solution"
    ]
   },
   "source": [
    "Gallwn hefyd gwneud hapddewis o restr:"
   ]
  },
  {
   "cell_type": "code",
   "execution_count": 49,
   "metadata": {
    "tags": [
     "solution",
     "nbval-ignore-output"
    ]
   },
   "outputs": [
    {
     "data": {
      "text/plain": [
       "'A'"
      ]
     },
     "execution_count": 49,
     "metadata": {},
     "output_type": "execute_result"
    }
   ],
   "source": [
    "drysau = ['A', 'B', 'C']\n",
    "random.choice(drysau)"
   ]
  },
  {
   "cell_type": "code",
   "execution_count": 50,
   "metadata": {
    "tags": [
     "solution"
    ]
   },
   "outputs": [],
   "source": [
    "def cadw():\n",
    "    \"\"\"Ffwythiant sy'n efelychu gem lle rydym yn cadw at in dewis\"\"\"\n",
    "    ennill = 0 \n",
    "\n",
    "    drysau = ['Car', 'Gafr', 'Gafr']\n",
    "        \n",
    "    dewis_cychwynnol = random.choice(drysau)  # gwneud dewis\n",
    "    return dewis_cychwynnol == 'Car'"
   ]
  },
  {
   "cell_type": "code",
   "execution_count": 51,
   "metadata": {
    "tags": [
     "solution",
     "nbval-ignore-output"
    ]
   },
   "outputs": [
    {
     "data": {
      "text/plain": [
       "False"
      ]
     },
     "execution_count": 51,
     "metadata": {},
     "output_type": "execute_result"
    }
   ],
   "source": [
    "cadw()"
   ]
  },
  {
   "cell_type": "code",
   "execution_count": 52,
   "metadata": {
    "tags": [
     "solution"
    ]
   },
   "outputs": [],
   "source": [
    "def newid():\n",
    "    \"\"\"Ffwythiant sy'n efelychu gem lle rydym yn newid ein dewis\"\"\"\n",
    "    drysau = ['Car', 'Gafr', 'Gafr']\n",
    "    \n",
    "    dewis_cychwynnol = random.choice(drysau)  # gwneud dewis\n",
    "    drysau.remove(dewis_cychwynnol)  # Newid y dewis cychwynnol\n",
    "    drysau.remove('Gafr')  # Mae'r cyflwynydd yn dangos gafr\n",
    "    \n",
    "    dewis_newydd = drysau[0]  # Dewisiwn yr un opsiwn sydd ar ôl\n",
    "            \n",
    "    return dewis_newydd == 'Car'"
   ]
  },
  {
   "cell_type": "code",
   "execution_count": 53,
   "metadata": {
    "tags": [
     "solution",
     "nbval-ignore-output"
    ]
   },
   "outputs": [
    {
     "data": {
      "text/plain": [
       "False"
      ]
     },
     "execution_count": 53,
     "metadata": {},
     "output_type": "execute_result"
    }
   ],
   "source": [
    "newid()"
   ]
  },
  {
   "cell_type": "markdown",
   "metadata": {
    "tags": [
     "solution"
    ]
   },
   "source": [
    "Nawr rhedwn nifer o ailadroddiadau o'r uchod er mwyn cael y tebygolrwydd o ennill:"
   ]
  },
  {
   "cell_type": "code",
   "execution_count": 54,
   "metadata": {
    "tags": [
     "solution"
    ]
   },
   "outputs": [
    {
     "data": {
      "text/plain": [
       "(0.3346, 0.6649)"
      ]
     },
     "execution_count": 54,
     "metadata": {},
     "output_type": "execute_result"
    }
   ],
   "source": [
    "random.seed(0)\n",
    "ailadroddiadau = 10000\n",
    "tebygolrwydd_ennill_cadw = sum([cadw() for ail in range(ailadroddiadau)]) / ailadroddiadau\n",
    "tebygolrwydd_ennill_newid = sum([newid() for ail in range(ailadroddiadau)]) / ailadroddiadau\n",
    "tebygolrwydd_ennill_cadw, tebygolrwydd_ennill_newid"
   ]
  },
  {
   "cell_type": "markdown",
   "metadata": {},
   "source": [
    "---\n",
    "\n",
    "###  Ymarfer 6\n",
    "\n",
    "Un math o ddata nad ydym wedi ystyried yw geiriaduron. Mae'r rhain yn fath penodol o rywbeth a elwir yn 'dabl stwnsh' (hash table). Canfyddwch wybodaeth am eiriaduron ac arbrofwch gyda nhw."
   ]
  },
  {
   "cell_type": "markdown",
   "metadata": {
    "tags": [
     "solution"
    ]
   },
   "source": [
    "Mae geiriaduron yn strwythurau data sy'n gadael i ni fapio allweddau i werthoedd. Mae hwn yn ddefnyddiol pan mae angen cael un set o werthoedd o set arall. I bob pwrpas hwn yw ffordd o raglennu ffwythiant deusaethol.\n",
    "\n",
    "Fel enghraifft byddwn ni eisiau strwythur data sy'n mapio enwau pobl i'w rhifau myfyrwyr:"
   ]
  },
  {
   "cell_type": "code",
   "execution_count": 55,
   "metadata": {
    "tags": [
     "solution"
    ]
   },
   "outputs": [
    {
     "data": {
      "text/plain": [
       "{'Vince': 1, 'Zoe': 2, 'Julien': 3, 'Marie': 4}"
      ]
     },
     "execution_count": 55,
     "metadata": {},
     "output_type": "execute_result"
    }
   ],
   "source": [
    "enwau_i_rhifau = {\"Vince\": 1, \"Zoe\": 2, \"Julien\": 3, \"Marie\": 4}\n",
    "enwau_i_rhifau"
   ]
  },
  {
   "cell_type": "markdown",
   "metadata": {
    "tags": [
     "solution"
    ]
   },
   "source": [
    "Nawr medrwn gael gwerth unrhyw allwedd benodol:"
   ]
  },
  {
   "cell_type": "code",
   "execution_count": 56,
   "metadata": {
    "tags": [
     "solution"
    ]
   },
   "outputs": [
    {
     "data": {
      "text/plain": [
       "4"
      ]
     },
     "execution_count": 56,
     "metadata": {},
     "output_type": "execute_result"
    }
   ],
   "source": [
    "enwau_i_rhifau['Marie']"
   ]
  },
  {
   "cell_type": "markdown",
   "metadata": {
    "tags": [
     "solution"
    ]
   },
   "source": [
    "Gallwn newid y gwerthoedd fel o'r blaen:"
   ]
  },
  {
   "cell_type": "code",
   "execution_count": 57,
   "metadata": {
    "tags": [
     "solution"
    ]
   },
   "outputs": [
    {
     "data": {
      "text/plain": [
       "{'Vince': 1, 'Zoe': 2, 'Julien': 3, 'Marie': 5}"
      ]
     },
     "execution_count": 57,
     "metadata": {},
     "output_type": "execute_result"
    }
   ],
   "source": [
    "enwau_i_rhifau['Marie'] += 1\n",
    "enwau_i_rhifau"
   ]
  },
  {
   "cell_type": "markdown",
   "metadata": {
    "tags": [
     "solution"
    ]
   },
   "source": [
    "Os ceisiwn gael allwedd nad yw o fewn y geiriadur cawn wall, ond gallwn ychwanegu parau allwedd/gwerth i eiriaduron:"
   ]
  },
  {
   "cell_type": "code",
   "execution_count": 58,
   "metadata": {
    "tags": [
     "solution"
    ]
   },
   "outputs": [
    {
     "data": {
      "text/plain": [
       "{'Vince': 1, 'Zoe': 2, 'Julien': 3, 'Marie': 5, 'Jon': 5}"
      ]
     },
     "execution_count": 58,
     "metadata": {},
     "output_type": "execute_result"
    }
   ],
   "source": [
    "enwau_i_rhifau[\"Jon\"] = 5\n",
    "enwau_i_rhifau"
   ]
  },
  {
   "cell_type": "markdown",
   "metadata": {},
   "source": [
    "---\n",
    "\n",
    "## Adnoddau pellach\n",
    "\n",
    "- [Tiwtorial Python ar gyfer rheini sydd ddim yn rhaglenwyr:\n",
    "  Ffwythiannau](https://en.wikibooks.org/wiki/Non-Programmer%27s_Tutorial_for_Python_3/Defining_Functions)\n",
    "- [Tiwtorial neis o \"The Python\n",
    "  Course\"](http://www.python-course.eu/python3_functions.php)"
   ]
  },
  {
   "cell_type": "code",
   "execution_count": null,
   "metadata": {},
   "outputs": [],
   "source": []
  }
 ],
 "metadata": {
  "anaconda-cloud": {},
  "celltoolbar": "Tags",
  "kernelspec": {
   "display_name": "Python 3",
   "language": "python",
   "name": "python3"
  },
  "language_info": {
   "codemirror_mode": {
    "name": "ipython",
    "version": 3
   },
   "file_extension": ".py",
   "mimetype": "text/x-python",
   "name": "python",
   "nbconvert_exporter": "python",
   "pygments_lexer": "ipython3",
   "version": "3.6.5"
  }
 },
 "nbformat": 4,
 "nbformat_minor": 2
}
