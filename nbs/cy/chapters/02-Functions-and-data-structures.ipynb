{
 "cells": [
  {
   "cell_type": "markdown",
   "metadata": {},
   "source": [
    "## Chapter 02: Data Structures and Functions\n",
    "\n",
    "This lab sheet will move on to understanding how to write functions (very similar to mathematical functions) and lists (a way of holding data)."
   ]
  },
  {
   "cell_type": "markdown",
   "metadata": {},
   "source": [
    "## Tutorial\n",
    "\n",
    "Work through the following:\n",
    "\n",
    "---\n",
    "\n",
    "### 1. Lists\n",
    "\n",
    "[A video describing the concept.](https://youtu.be/oLrrdPQzZas)\n",
    "\n",
    "[A video demo.](https://youtu.be/E3BNVFwLWkM)\n",
    "\n",
    "Another type of variable in Python (we have already seen numeric and\n",
    "character variables) is the list. This type acts as a container that can hold\n",
    "multiple other items in an ordered way.\n",
    "\n",
    "Here is a list of my favourite numbers:\n"
   ]
  },
  {
   "cell_type": "code",
   "execution_count": 1,
   "metadata": {},
   "outputs": [
    {
     "data": {
      "text/plain": [
       "[9, 12, 13, 7]"
      ]
     },
     "execution_count": 1,
     "metadata": {},
     "output_type": "execute_result"
    }
   ],
   "source": [
    "favourite_numbers = [9, 12, 13, 7]\n",
    "favourite_numbers"
   ]
  },
  {
   "cell_type": "code",
   "execution_count": 2,
   "metadata": {},
   "outputs": [
    {
     "data": {
      "text/plain": [
       "list"
      ]
     },
     "execution_count": 2,
     "metadata": {},
     "output_type": "execute_result"
    }
   ],
   "source": [
    "type(favourite_numbers)"
   ]
  },
  {
   "cell_type": "markdown",
   "metadata": {},
   "source": [
    "We can do various things to the items in the list:"
   ]
  },
  {
   "cell_type": "code",
   "execution_count": 3,
   "metadata": {},
   "outputs": [
    {
     "data": {
      "text/plain": [
       "41"
      ]
     },
     "execution_count": 3,
     "metadata": {},
     "output_type": "execute_result"
    }
   ],
   "source": [
    "sum(favourite_numbers)  # Adding all the elements of our list"
   ]
  },
  {
   "cell_type": "code",
   "execution_count": 4,
   "metadata": {},
   "outputs": [
    {
     "data": {
      "text/plain": [
       "13"
      ]
     },
     "execution_count": 4,
     "metadata": {},
     "output_type": "execute_result"
    }
   ],
   "source": [
    "max(favourite_numbers)  # Getting the largest element of a list"
   ]
  },
  {
   "cell_type": "code",
   "execution_count": 5,
   "metadata": {},
   "outputs": [
    {
     "data": {
      "text/plain": [
       "7"
      ]
     },
     "execution_count": 5,
     "metadata": {},
     "output_type": "execute_result"
    }
   ],
   "source": [
    "min(favourite_numbers)  # Getting the minimum element of a list"
   ]
  },
  {
   "cell_type": "code",
   "execution_count": 6,
   "metadata": {},
   "outputs": [
    {
     "data": {
      "text/plain": [
       "[9, 12, 13, 7, -100]"
      ]
     },
     "execution_count": 6,
     "metadata": {},
     "output_type": "execute_result"
    }
   ],
   "source": [
    "favourite_numbers.append(-100)  # Add another element to a list\n",
    "favourite_numbers"
   ]
  },
  {
   "cell_type": "markdown",
   "metadata": {},
   "source": [
    "We can also go in to our lists and get specific items. This works just as it did with strings:"
   ]
  },
  {
   "cell_type": "code",
   "execution_count": 7,
   "metadata": {},
   "outputs": [
    {
     "data": {
      "text/plain": [
       "9"
      ]
     },
     "execution_count": 7,
     "metadata": {},
     "output_type": "execute_result"
    }
   ],
   "source": [
    "favourite_numbers[0]  # Getting the first element of a list"
   ]
  },
  {
   "cell_type": "code",
   "execution_count": 8,
   "metadata": {},
   "outputs": [
    {
     "data": {
      "text/plain": [
       "12"
      ]
     },
     "execution_count": 8,
     "metadata": {},
     "output_type": "execute_result"
    }
   ],
   "source": [
    "favourite_numbers[1]  # Getting the second element of a list"
   ]
  },
  {
   "cell_type": "code",
   "execution_count": 9,
   "metadata": {},
   "outputs": [
    {
     "data": {
      "text/plain": [
       "-100"
      ]
     },
     "execution_count": 9,
     "metadata": {},
     "output_type": "execute_result"
    }
   ],
   "source": [
    "favourite_numbers[-1]  # Getting the last element of a list"
   ]
  },
  {
   "cell_type": "code",
   "execution_count": 10,
   "metadata": {},
   "outputs": [
    {
     "data": {
      "text/plain": [
       "[13, 7]"
      ]
     },
     "execution_count": 10,
     "metadata": {},
     "output_type": "execute_result"
    }
   ],
   "source": [
    "favourite_numbers[2:4]  # Getting the 3rd till the 4th element of a list"
   ]
  },
  {
   "cell_type": "markdown",
   "metadata": {},
   "source": [
    "Strings (see in in the previous lab sheet) and lists are similar in that they\n",
    "   are 'containers' for items. A lot of the manipulation that works with lists\n",
    "   also works with strings:"
   ]
  },
  {
   "cell_type": "code",
   "execution_count": 11,
   "metadata": {},
   "outputs": [
    {
     "data": {
      "text/plain": [
       "5"
      ]
     },
     "execution_count": 11,
     "metadata": {},
     "output_type": "execute_result"
    }
   ],
   "source": [
    "firstname = \"Vince\"\n",
    "len(firstname)  # How many characters are in the variable"
   ]
  },
  {
   "cell_type": "code",
   "execution_count": 12,
   "metadata": {},
   "outputs": [
    {
     "data": {
      "text/plain": [
       "'V'"
      ]
     },
     "execution_count": 12,
     "metadata": {},
     "output_type": "execute_result"
    }
   ],
   "source": [
    "firstname[0]  # We can point at individual characters, 0 is the first"
   ]
  },
  {
   "cell_type": "code",
   "execution_count": 13,
   "metadata": {},
   "outputs": [
    {
     "data": {
      "text/plain": [
       "'e'"
      ]
     },
     "execution_count": 13,
     "metadata": {},
     "output_type": "execute_result"
    }
   ],
   "source": [
    "firstname[4]"
   ]
  },
  {
   "cell_type": "code",
   "execution_count": 14,
   "metadata": {},
   "outputs": [
    {
     "data": {
      "text/plain": [
       "'e'"
      ]
     },
     "execution_count": 14,
     "metadata": {},
     "output_type": "execute_result"
    }
   ],
   "source": [
    "firstname[-1]  # We can use negative number to start counting from the end"
   ]
  },
  {
   "cell_type": "code",
   "execution_count": 15,
   "metadata": {},
   "outputs": [
    {
     "data": {
      "text/plain": [
       "'Vinc'"
      ]
     },
     "execution_count": 15,
     "metadata": {},
     "output_type": "execute_result"
    }
   ],
   "source": [
    "firstname[0:4]  # We can 'slice' strings"
   ]
  },
  {
   "cell_type": "markdown",
   "metadata": {},
   "source": [
    "**Experiment by creating lists and manipulating them.**"
   ]
  },
  {
   "cell_type": "markdown",
   "metadata": {},
   "source": [
    "### 2. For loops.\n",
    "\n",
    "[A video describing the concept.](https://youtu.be/icgb6I85pX8)\n",
    "\n",
    "[A video demo.](https://youtu.be/npJqdB1pqdQ)\n",
    "\n",
    "In the previous sheet, we saw that a `while` loop can be used to repeat a\n",
    "code chunk until a boolean condition is `False`. It is also possible to\n",
    "repeat an action for all elements of a list."
   ]
  },
  {
   "cell_type": "code",
   "execution_count": 16,
   "metadata": {},
   "outputs": [
    {
     "data": {
      "text/plain": [
       "55"
      ]
     },
     "execution_count": 16,
     "metadata": {},
     "output_type": "execute_result"
    }
   ],
   "source": [
    "items = [1, 2, 3, 4, 5, 6, 7, 8, 9, 10]  # Creating a list\n",
    "total = 0\n",
    "for item in items:\n",
    "    total += item\n",
    "total"
   ]
  },
  {
   "cell_type": "markdown",
   "metadata": {},
   "source": [
    "A quick way to get a list of integers is the `range` command:"
   ]
  },
  {
   "cell_type": "code",
   "execution_count": 17,
   "metadata": {},
   "outputs": [
    {
     "name": "stdout",
     "output_type": "stream",
     "text": [
      "0\n",
      "1\n",
      "2\n",
      "3\n",
      "4\n",
      "5\n",
      "6\n",
      "7\n",
      "8\n",
      "9\n"
     ]
    }
   ],
   "source": [
    "for k in range(10):\n",
    "    print(k)"
   ]
  },
  {
   "cell_type": "markdown",
   "metadata": {},
   "source": [
    "**Experiment by summing (or perhaps multiplying?) over a different list of items.**"
   ]
  },
  {
   "cell_type": "markdown",
   "metadata": {},
   "source": [
    "### 3. List comprehension\n",
    "\n",
    "[A video describing the concept.](https://youtu.be/tEyxAfVWEGE)\n",
    "\n",
    "[A video demo.](https://youtu.be/893eu9F75gI)\n",
    "\n",
    "Here is a list of squares, done using the `append` method and a for loop."
   ]
  },
  {
   "cell_type": "code",
   "execution_count": 18,
   "metadata": {},
   "outputs": [
    {
     "data": {
      "text/plain": [
       "[81, 144, 169, 49, 10000]"
      ]
     },
     "execution_count": 18,
     "metadata": {},
     "output_type": "execute_result"
    }
   ],
   "source": [
    "total = 0\n",
    "square_of_favourite_numbers = []  # Create an empty list\n",
    "for n in favourite_numbers:\n",
    "    square_of_favourite_numbers.append(n ** 2)\n",
    "square_of_favourite_numbers"
   ]
  },
  {
   "cell_type": "markdown",
   "metadata": {},
   "source": [
    "We can however do this using some nice Python syntax called a list\n",
    "comprehension:"
   ]
  },
  {
   "cell_type": "code",
   "execution_count": 19,
   "metadata": {},
   "outputs": [
    {
     "data": {
      "text/plain": [
       "[81, 144, 169, 49, 10000]"
      ]
     },
     "execution_count": 19,
     "metadata": {},
     "output_type": "execute_result"
    }
   ],
   "source": [
    "square_of_favourite_numbers = [x ** 2 for x in favourite_numbers]\n",
    "square_of_favourite_numbers"
   ]
  },
  {
   "cell_type": "markdown",
   "metadata": {},
   "source": [
    "This is familiar, as it replicates mathematical notation. For example here is how to get the sum of the elements in the following set:\n",
    "\n",
    "\\\\[\n",
    "    \\{n \\in S \\;| \\text{ if } n \\text{ is divisible by  2}\\}\n",
    "\\\\]\n",
    "\n",
    "(This is mathematical notation for \"the set of all things in \\\\(S\\\\) that are divisible by 2.)"
   ]
  },
  {
   "cell_type": "code",
   "execution_count": 20,
   "metadata": {},
   "outputs": [
    {
     "data": {
      "text/plain": [
       "-88"
      ]
     },
     "execution_count": 20,
     "metadata": {},
     "output_type": "execute_result"
    }
   ],
   "source": [
    "sum([n for n in favourite_numbers if n % 2 == 0])"
   ]
  },
  {
   "cell_type": "markdown",
   "metadata": {},
   "source": [
    "**Experiment by modifying this code to create a different list.**"
   ]
  },
  {
   "cell_type": "markdown",
   "metadata": {},
   "source": [
    "### 4. Writing simple functions.\n",
    "\n",
    "[A video describing the concept.](https://youtu.be/_8gcT7_o84U)\n",
    "\n",
    "[A video demo.](https://youtu.be/FHXiY22e6NQ)\n",
    "\n",
    "Often we want to be able to use code more than once. The way to do this is to\n",
    "write a function. Here is a very simple example. This creates a function that\n",
    "returns a string saying \"Hello world\":\n",
    "\n"
   ]
  },
  {
   "cell_type": "code",
   "execution_count": 21,
   "metadata": {},
   "outputs": [],
   "source": [
    "def say_hi():\n",
    "    return \"Hello world\""
   ]
  },
  {
   "cell_type": "markdown",
   "metadata": {},
   "source": [
    "Now, to **use** that function we need to call the function, which we do using a pair of brackets: `()`."
   ]
  },
  {
   "cell_type": "code",
   "execution_count": 22,
   "metadata": {},
   "outputs": [
    {
     "data": {
      "text/plain": [
       "'Hello world'"
      ]
     },
     "execution_count": 22,
     "metadata": {},
     "output_type": "execute_result"
    }
   ],
   "source": [
    "say_hi()"
   ]
  },
  {
   "cell_type": "markdown",
   "metadata": {},
   "source": [
    "It is good practice to break down code in to smaller functions that make it easier to read.\n",
    "\n",
    "Experiment with changing what the `say_hi` function says."
   ]
  },
  {
   "cell_type": "markdown",
   "metadata": {},
   "source": [
    "### 5. Functions with variables.\n",
    "\n",
    "[A video describing the concept.](https://youtu.be/S-pzofb4Ok0)\n",
    "\n",
    "[A video demo.](https://youtu.be/X13uTM0GPjI)\n",
    "\n",
    "It is more useful to include variables in our functions (in the exact same\n",
    "way as for mathematical functions!).\n",
    "\n",
    "Let us revisit the mathematical function we described in the previous lab\n",
    "sheet:\n",
    "\n",
    "\\\\[\n",
    "    f(n)=\\begin{cases}\n",
    "        1&\\text{ if } n\\leq 5\\\\\n",
    "        2&\\text{ if } n> 5\\text{ and } n \\text{ even}\\\\\n",
    "        3&\\text{ otherwise }\\\\\n",
    "    \\end{cases}\n",
    "\\\\]\n",
    "\n",
    "Here is the code that defines this function (compare it to the code we wrote\n",
    "in the previous lab sheet):"
   ]
  },
  {
   "cell_type": "code",
   "execution_count": 23,
   "metadata": {},
   "outputs": [
    {
     "data": {
      "text/plain": [
       "3"
      ]
     },
     "execution_count": 23,
     "metadata": {},
     "output_type": "execute_result"
    }
   ],
   "source": [
    "def f(n):\n",
    "    \"\"\"\n",
    "    This is text in between triple quoatation marks is a doc string.\n",
    "    We use it to describe what a function does. For example here we would\n",
    "    write: This function returns f(n) as described above.\n",
    "    \"\"\"\n",
    "    if n <= 5:\n",
    "        return 1\n",
    "    elif n % 2 == 0:  # Otherwise if (else if)\n",
    "        return 2\n",
    "    else:  # Otherwise\n",
    "        return 3\n",
    "f(11)"
   ]
  },
  {
   "cell_type": "markdown",
   "metadata": {},
   "source": [
    "We can also have functions with more than 1 variable:"
   ]
  },
  {
   "cell_type": "code",
   "execution_count": 24,
   "metadata": {},
   "outputs": [
    {
     "data": {
      "text/plain": [
       "12"
      ]
     },
     "execution_count": 24,
     "metadata": {},
     "output_type": "execute_result"
    }
   ],
   "source": [
    "def simple_sum(a, b):\n",
    "    \"\"\"Returns the sum of a and b\"\"\"\n",
    "    return a + b\n",
    "simple_sum(5, 7)"
   ]
  },
  {
   "cell_type": "markdown",
   "metadata": {},
   "source": [
    "It is also possible to have default variables:"
   ]
  },
  {
   "cell_type": "code",
   "execution_count": 25,
   "metadata": {},
   "outputs": [],
   "source": [
    "def simple_sum(a=5, b=1):\n",
    "    \"\"\"Returns the sum of a and b\"\"\"   \n",
    "    return a + b"
   ]
  },
  {
   "cell_type": "code",
   "execution_count": 26,
   "metadata": {},
   "outputs": [
    {
     "data": {
      "text/plain": [
       "6"
      ]
     },
     "execution_count": 26,
     "metadata": {},
     "output_type": "execute_result"
    }
   ],
   "source": [
    "simple_sum()"
   ]
  },
  {
   "cell_type": "code",
   "execution_count": 27,
   "metadata": {},
   "outputs": [
    {
     "data": {
      "text/plain": [
       "7"
      ]
     },
     "execution_count": 27,
     "metadata": {},
     "output_type": "execute_result"
    }
   ],
   "source": [
    "simple_sum(b=2)"
   ]
  },
  {
   "cell_type": "code",
   "execution_count": 28,
   "metadata": {},
   "outputs": [
    {
     "data": {
      "text/plain": [
       "4"
      ]
     },
     "execution_count": 28,
     "metadata": {},
     "output_type": "execute_result"
    }
   ],
   "source": [
    "simple_sum(a=3)"
   ]
  },
  {
   "cell_type": "markdown",
   "metadata": {},
   "source": [
    "**Experiment by creating your own function.**"
   ]
  },
  {
   "cell_type": "markdown",
   "metadata": {},
   "source": [
    "---\n",
    "\n",
    "### Worked example\n",
    "\n",
    "[A video describing the concept.](https://youtu.be/Y1mdHL7OZiU)\n",
    "\n",
    "[A video demo.](https://youtu.be/h0_nnFmRwUQ)\n",
    "\n",
    "The Fibonacci numbers are defined by the following mathematical formula:\n",
    "\n",
    "\\\\[\n",
    "    f_n = \\begin{cases}\n",
    "    1,\\text{ if } n \\in \\{0, 1\\}\\\\\n",
    "    f_{n - 1} + f_{n - 2}, \\text{ otherwise}\n",
    "    \\end{cases}\n",
    "\\\\]\n",
    "\n",
    "The goal of this question is to verify the following theorem about the sum\n",
    "of the first Fibonacci numbers:\n",
    "\n",
    "\\\\[\n",
    "    \\sum_{i=0}^n f_i = f_{n + 2} - 1\n",
    "\\\\]\n",
    "\n",
    "As an example with \\\\(n=3\\\\) we have: \\\\(f_0=f_1=1, f_2=2, f_3=3\\\\) and\n",
    "\\\\(f_5=8\\\\). We indeed have:\n",
    "\n",
    "\\\\[\n",
    "    \\sum_{i=0}^nf_i = 1 + 1 + 2 + 3 = 7 = 8 - 1 = f_{3 + 2} - 1\n",
    "\\\\]\n",
    "\n",
    "We are going to automate checking the formula using Python.\n",
    "Let us first write a function for the Fibonacci sequence itself:"
   ]
  },
  {
   "cell_type": "code",
   "execution_count": 29,
   "metadata": {},
   "outputs": [],
   "source": [
    "def fibonacci(n):\n",
    "    \"\"\"Returns the n th fibonacci number\"\"\"\n",
    "    if n in [0, 1]:  # The special case of n being 0 or 1\n",
    "        return 1\n",
    "    a = 1  # Setting the starting values\n",
    "    b = 1\n",
    "    for i in range(n - 1):  # Going through the first n - 1 terms\n",
    "        temp = b  # A temporary variable to remember the value of b\n",
    "        b = a + b  # New value of b\n",
    "        a = temp  # New value of a (old value of b)\n",
    "    return b"
   ]
  },
  {
   "cell_type": "markdown",
   "metadata": {},
   "source": [
    "Let us now call this function to check that it is correct:"
   ]
  },
  {
   "cell_type": "code",
   "execution_count": 30,
   "metadata": {},
   "outputs": [
    {
     "name": "stdout",
     "output_type": "stream",
     "text": [
      "1\n",
      "1\n",
      "2\n",
      "3\n",
      "5\n"
     ]
    }
   ],
   "source": [
    "for n in range(5):\n",
    "    print(fibonacci(n))"
   ]
  },
  {
   "cell_type": "markdown",
   "metadata": {},
   "source": [
    "We can now obtain a list of the first \\\\(K\\\\) fibonacci numbers and check the theorem:"
   ]
  },
  {
   "cell_type": "code",
   "execution_count": 31,
   "metadata": {},
   "outputs": [
    {
     "data": {
      "text/plain": [
       "True"
      ]
     },
     "execution_count": 31,
     "metadata": {},
     "output_type": "execute_result"
    }
   ],
   "source": [
    "K = 3\n",
    "list_of_fib = [fibonacci(n) for n in range(K + 1)]\n",
    "sum(list_of_fib) == fibonacci(K + 2) - 1"
   ]
  },
  {
   "cell_type": "markdown",
   "metadata": {},
   "source": [
    "We can put this code that checks if a relationship is true in to a new function:"
   ]
  },
  {
   "cell_type": "code",
   "execution_count": 32,
   "metadata": {},
   "outputs": [],
   "source": [
    "def check_theorem(K):\n",
    "    \"\"\"\n",
    "    Check the relationship for the sum of the first K fibonacci numbers\n",
    "    \"\"\"\n",
    "    list_of_fib = [fibonacci(n) for n in range(K + 1)]\n",
    "    return  sum(list_of_fib) == fibonacci(K + 2) - 1"
   ]
  },
  {
   "cell_type": "markdown",
   "metadata": {},
   "source": [
    "Let us now check that our theorem can be checked for the first 200 values of \\\\(K\\\\):"
   ]
  },
  {
   "cell_type": "code",
   "execution_count": 33,
   "metadata": {},
   "outputs": [
    {
     "data": {
      "text/plain": [
       "True"
      ]
     },
     "execution_count": 33,
     "metadata": {},
     "output_type": "execute_result"
    }
   ],
   "source": [
    "checks = [check_theorem(K) for K in range(200)]\n",
    "all(checks)  # `all` combines all booleans in a list"
   ]
  },
  {
   "cell_type": "markdown",
   "metadata": {},
   "source": [
    "---\n",
    "\n",
    "## Exercises\n",
    "\n",
    "Here are a number of exercises that are possible to carry out using the code concepts discussed:\n",
    "\n",
    "- Lists, for example: `odd_numbers = [1, 3, 5, 7]`\n",
    "- For loops, for example:\n",
    "    ```python\n",
    "    for i in odd_numbers:\n",
    "        print(i ** 2)\n",
    "    ```\n",
    "- List comprehensions, for example: `square_of_odd_numbers = [n ** 2 for n in odd_numbers]`\n",
    "- Functions, for example:\n",
    "    ```python\n",
    "    def division(a=4, b=1):\n",
    "        return a / b\n",
    "    ```"
   ]
  },
  {
   "cell_type": "markdown",
   "metadata": {},
   "source": [
    "---\n",
    "\n",
    "### Exercise 1\n",
    "\n",
    "**Debugging exercise**\n",
    "\n",
    "   The following is an attempt to write \\\\(n!\\\\) as a function. Find\n",
    "   and fix all the bugs.\n",
    "\n",
    "   ```python\n",
    "   def factorial(n):\n",
    "       \"\"\"A function that returns factorial n\"\"\"\n",
    "       for i in range(n)\n",
    "           prod *= i\n",
    "   ```"
   ]
  },
  {
   "cell_type": "code",
   "execution_count": 34,
   "metadata": {
    "tags": [
     "solution"
    ]
   },
   "outputs": [],
   "source": [
    "def factorial(n):\n",
    "    \"\"\"A function that returns factorial n\"\"\"\n",
    "    prod = 1  # Need to initiate this dummy variable.\n",
    "    #for i in range(n)  # Missing the `:`, not going in correct range\n",
    "    for i in range(1, n + 1):\n",
    "        prod *= i\n",
    "    return prod  # Not returning"
   ]
  },
  {
   "cell_type": "markdown",
   "metadata": {
    "tags": [
     "solution"
    ]
   },
   "source": [
    "A quick check:"
   ]
  },
  {
   "cell_type": "code",
   "execution_count": 35,
   "metadata": {
    "tags": [
     "solution"
    ]
   },
   "outputs": [
    {
     "name": "stdout",
     "output_type": "stream",
     "text": [
      "0 1\n",
      "1 1\n",
      "2 2\n",
      "3 6\n",
      "4 24\n"
     ]
    }
   ],
   "source": [
    "for n in range(5):\n",
    "    print(n, factorial(n))"
   ]
  },
  {
   "cell_type": "markdown",
   "metadata": {},
   "source": [
    "---\n",
    "\n",
    "### Exercise 2\n",
    "\n",
    "Write a function that returns the triangular numbers \\\\(T_n\\\\):\n",
    "\n",
    "\\\\[\n",
    "    T_n=\\frac{n(n+1)}{2}\n",
    "\\\\]"
   ]
  },
  {
   "cell_type": "code",
   "execution_count": 36,
   "metadata": {
    "tags": [
     "solution"
    ]
   },
   "outputs": [],
   "source": [
    "def triangular(n):\n",
    "    \"\"\"Return the nth triangular number\"\"\"\n",
    "    return n * (n + 1) / 2"
   ]
  },
  {
   "cell_type": "code",
   "execution_count": 37,
   "metadata": {
    "tags": [
     "solution"
    ]
   },
   "outputs": [
    {
     "name": "stdout",
     "output_type": "stream",
     "text": [
      "0.0\n",
      "1.0\n",
      "3.0\n",
      "6.0\n",
      "10.0\n",
      "15.0\n",
      "21.0\n",
      "28.0\n",
      "36.0\n",
      "45.0\n"
     ]
    }
   ],
   "source": [
    "for n in range(10):\n",
    "    print(triangular(n))"
   ]
  },
  {
   "cell_type": "markdown",
   "metadata": {},
   "source": [
    "---\n",
    "\n",
    "### Exercise 3\n",
    "\n",
    "Use code to check that the following relationship is true:\n",
    "\n",
    "\\\\[\n",
    "    \\sum_{i=0}^{n}T_i=\\frac{n(n+1)(n+2)}{6}\n",
    "\\\\]"
   ]
  },
  {
   "cell_type": "code",
   "execution_count": 38,
   "metadata": {
    "tags": [
     "solution"
    ]
   },
   "outputs": [],
   "source": [
    "def check_theorem(K):\n",
    "    \"\"\"\n",
    "    Check the relationship for the sum of the first K triangular numbers\n",
    "    \"\"\"\n",
    "    list_of_tri = [triangular(n) for n in range(K + 1)]\n",
    "    return  sum(list_of_tri) == K * (K + 1) * (K + 2) / 6"
   ]
  },
  {
   "cell_type": "code",
   "execution_count": 39,
   "metadata": {
    "tags": [
     "solution"
    ]
   },
   "outputs": [
    {
     "data": {
      "text/plain": [
       "True"
      ]
     },
     "execution_count": 39,
     "metadata": {},
     "output_type": "execute_result"
    }
   ],
   "source": [
    "check_theorem(4)"
   ]
  },
  {
   "cell_type": "markdown",
   "metadata": {
    "tags": [
     "solution"
    ]
   },
   "source": [
    "Here we are checking the first 200 numbers:"
   ]
  },
  {
   "cell_type": "code",
   "execution_count": 40,
   "metadata": {
    "tags": [
     "solution"
    ]
   },
   "outputs": [
    {
     "data": {
      "text/plain": [
       "True"
      ]
     },
     "execution_count": 40,
     "metadata": {},
     "output_type": "execute_result"
    }
   ],
   "source": [
    "checks = [check_theorem(K) for K in range(200)]\n",
    "all(checks)  # `all` combines all booleans in a list"
   ]
  },
  {
   "cell_type": "markdown",
   "metadata": {},
   "source": [
    "----\n",
    "\n",
    "### Exercise 4\n",
    "\n",
    "Create a list with the first 1300 integers divisible by 3. What is the largest such number? What is the smallest such number? What is the mean of these numbers?"
   ]
  },
  {
   "cell_type": "code",
   "execution_count": 41,
   "metadata": {
    "tags": [
     "solution"
    ]
   },
   "outputs": [],
   "source": [
    "divisibles = []\n",
    "upper_limit = 1300\n",
    "n = 0\n",
    "while len(divisibles) < upper_limit:\n",
    "    n += 1\n",
    "    if n % 3 == 0:\n",
    "        divisibles.append(n)"
   ]
  },
  {
   "cell_type": "code",
   "execution_count": 42,
   "metadata": {
    "tags": [
     "solution"
    ]
   },
   "outputs": [
    {
     "data": {
      "text/plain": [
       "3900"
      ]
     },
     "execution_count": 42,
     "metadata": {},
     "output_type": "execute_result"
    }
   ],
   "source": [
    "max(divisibles)  # largest number"
   ]
  },
  {
   "cell_type": "code",
   "execution_count": 43,
   "metadata": {
    "tags": [
     "solution"
    ]
   },
   "outputs": [
    {
     "data": {
      "text/plain": [
       "3"
      ]
     },
     "execution_count": 43,
     "metadata": {},
     "output_type": "execute_result"
    }
   ],
   "source": [
    "min(divisibles)  # smallest number"
   ]
  },
  {
   "cell_type": "code",
   "execution_count": 44,
   "metadata": {
    "tags": [
     "solution"
    ]
   },
   "outputs": [
    {
     "data": {
      "text/plain": [
       "1951.5"
      ]
     },
     "execution_count": 44,
     "metadata": {},
     "output_type": "execute_result"
    }
   ],
   "source": [
    "sum(divisibles) / len(divisibles)  # mean number"
   ]
  },
  {
   "cell_type": "markdown",
   "metadata": {},
   "source": [
    "---\n",
    "\n",
    "### Exercise 5\n",
    "\n",
    "Investigate the use of the Python `random` library. Use this to simulate the\n",
    "[Monty hall problem](https://en.wikipedia.org/wiki/Monty_Hall_problem):\n",
    "\n",
    "- Write a function that simulates the play of the game when you 'stick' with\n",
    "  the initial choice.\n",
    "- Write a function that simulates the play of the game when you 'change' your\n",
    "  choice.\n",
    "- Repeat the play of the game using both those functions and compare the\n",
    "  probability of winning."
   ]
  },
  {
   "cell_type": "code",
   "execution_count": 45,
   "metadata": {
    "tags": [
     "solution"
    ]
   },
   "outputs": [],
   "source": [
    "import random  # importing the random library"
   ]
  },
  {
   "cell_type": "code",
   "execution_count": 46,
   "metadata": {
    "tags": [
     "solution",
     "nbval-ignore-output"
    ]
   },
   "outputs": [
    {
     "data": {
      "text/plain": [
       "0.3174674416502159"
      ]
     },
     "execution_count": 46,
     "metadata": {},
     "output_type": "execute_result"
    }
   ],
   "source": [
    "random.random()  # Thi gives a random number between 0 and 1"
   ]
  },
  {
   "cell_type": "markdown",
   "metadata": {
    "tags": [
     "solution"
    ]
   },
   "source": [
    "Note that these are not **true** random numbers: they actually follow a sequence that is not easy to predict and behaves similarly to random numbers. It is possible to state that we want the same sequence, we do this by setting a random seed:"
   ]
  },
  {
   "cell_type": "code",
   "execution_count": 47,
   "metadata": {
    "tags": [
     "solution"
    ]
   },
   "outputs": [
    {
     "data": {
      "text/plain": [
       "(0.13436424411240122, 0.8474337369372327)"
      ]
     },
     "execution_count": 47,
     "metadata": {},
     "output_type": "execute_result"
    }
   ],
   "source": [
    "random.seed(1)  # This takes any integer\n",
    "random.random(), random.random()"
   ]
  },
  {
   "cell_type": "markdown",
   "metadata": {
    "tags": [
     "solution"
    ]
   },
   "source": [
    "Let us call the above again:"
   ]
  },
  {
   "cell_type": "code",
   "execution_count": 48,
   "metadata": {
    "tags": [
     "solution"
    ]
   },
   "outputs": [
    {
     "data": {
      "text/plain": [
       "(0.13436424411240122, 0.8474337369372327)"
      ]
     },
     "execution_count": 48,
     "metadata": {},
     "output_type": "execute_result"
    }
   ],
   "source": [
    "random.seed(1)  # We use the same seed as before\n",
    "random.random(), random.random()  # We get the same numbers"
   ]
  },
  {
   "cell_type": "markdown",
   "metadata": {
    "tags": [
     "solution"
    ]
   },
   "source": [
    "We can also use this to make random choices from a list:"
   ]
  },
  {
   "cell_type": "code",
   "execution_count": 49,
   "metadata": {
    "tags": [
     "solution",
     "nbval-ignore-output"
    ]
   },
   "outputs": [
    {
     "data": {
      "text/plain": [
       "'A'"
      ]
     },
     "execution_count": 49,
     "metadata": {},
     "output_type": "execute_result"
    }
   ],
   "source": [
    "doors = ['A', 'B', 'C']\n",
    "random.choice(doors)"
   ]
  },
  {
   "cell_type": "code",
   "execution_count": 50,
   "metadata": {
    "tags": [
     "solution"
    ]
   },
   "outputs": [],
   "source": [
    "def stick():\n",
    "    \"\"\"A function to simulate a play of the game when we stick\"\"\"\n",
    "    wins = 0 \n",
    "\n",
    "    doors = ['Car', 'Goat', 'Goat']\n",
    "        \n",
    "    initial_choice = random.choice(doors)  # make a choice\n",
    "    return initial_choice == 'Car'"
   ]
  },
  {
   "cell_type": "code",
   "execution_count": 51,
   "metadata": {
    "tags": [
     "solution",
     "nbval-ignore-output"
    ]
   },
   "outputs": [
    {
     "data": {
      "text/plain": [
       "False"
      ]
     },
     "execution_count": 51,
     "metadata": {},
     "output_type": "execute_result"
    }
   ],
   "source": [
    "stick()"
   ]
  },
  {
   "cell_type": "code",
   "execution_count": 52,
   "metadata": {
    "tags": [
     "solution"
    ]
   },
   "outputs": [],
   "source": [
    "def switch():\n",
    "    \"\"\"A function to simulate a play of the game when we swap\"\"\"\n",
    "    doors = ['Car', 'Goat', 'Goat']\n",
    "    \n",
    "    initial_choice = random.choice(doors)  # make a choice\n",
    "    doors.remove(initial_choice)  # Switching: remove initial choice\n",
    "    doors.remove('Goat')  # The game show host shows us a goat\n",
    "    \n",
    "    new_choice = doors[0]  # We choose our one remaining option\n",
    "            \n",
    "    return new_choice == 'Car'"
   ]
  },
  {
   "cell_type": "code",
   "execution_count": 53,
   "metadata": {
    "tags": [
     "solution",
     "nbval-ignore-output"
    ]
   },
   "outputs": [
    {
     "data": {
      "text/plain": [
       "False"
      ]
     },
     "execution_count": 53,
     "metadata": {},
     "output_type": "execute_result"
    }
   ],
   "source": [
    "switch()"
   ]
  },
  {
   "cell_type": "markdown",
   "metadata": {
    "tags": [
     "solution"
    ]
   },
   "source": [
    "We can now run a number of repetitions of the above and get the probability of winning:"
   ]
  },
  {
   "cell_type": "code",
   "execution_count": 54,
   "metadata": {
    "tags": [
     "solution"
    ]
   },
   "outputs": [
    {
     "data": {
      "text/plain": [
       "(0.3346, 0.6649)"
      ]
     },
     "execution_count": 54,
     "metadata": {},
     "output_type": "execute_result"
    }
   ],
   "source": [
    "random.seed(0)\n",
    "repetitions = 10000\n",
    "prob_win_stick = sum([stick() for rep in range(repetitions)]) / repetitions\n",
    "prob_win_switch = sum([switch() for rep in range(repetitions)]) / repetitions\n",
    "prob_win_stick, prob_win_switch"
   ]
  },
  {
   "cell_type": "markdown",
   "metadata": {},
   "source": [
    "---\n",
    "\n",
    "###  Exercise 6\n",
    "\n",
    "A data type that we have not considered are dictionaries. These are a specific type of what is generally called a 'hash table'. Find information about dictionaries and experiment with them."
   ]
  },
  {
   "cell_type": "markdown",
   "metadata": {
    "tags": [
     "solution"
    ]
   },
   "source": [
    "Dictionaries are a data structure that let us map keys to values. This is useful when need to go for one set of values to another. This is in effect an programming implementation of a bijective function.\n",
    "\n",
    "As an example let's say we wanted a data structure that mapped names of people to their student number:"
   ]
  },
  {
   "cell_type": "code",
   "execution_count": 55,
   "metadata": {
    "tags": [
     "solution"
    ]
   },
   "outputs": [
    {
     "data": {
      "text/plain": [
       "{'Vince': 1, 'Zoe': 2, 'Julien': 3, 'Marie': 4}"
      ]
     },
     "execution_count": 55,
     "metadata": {},
     "output_type": "execute_result"
    }
   ],
   "source": [
    "names_to_numbers = {\"Vince\": 1, \"Zoe\": 2, \"Julien\": 3, \"Marie\": 4}\n",
    "names_to_numbers"
   ]
  },
  {
   "cell_type": "markdown",
   "metadata": {
    "tags": [
     "solution"
    ]
   },
   "source": [
    "We can get the value of a particular key:"
   ]
  },
  {
   "cell_type": "code",
   "execution_count": 56,
   "metadata": {
    "tags": [
     "solution"
    ]
   },
   "outputs": [
    {
     "data": {
      "text/plain": [
       "4"
      ]
     },
     "execution_count": 56,
     "metadata": {},
     "output_type": "execute_result"
    }
   ],
   "source": [
    "names_to_numbers['Marie']"
   ]
  },
  {
   "cell_type": "markdown",
   "metadata": {
    "tags": [
     "solution"
    ]
   },
   "source": [
    "We can manipulate that value as always:"
   ]
  },
  {
   "cell_type": "code",
   "execution_count": 57,
   "metadata": {
    "tags": [
     "solution"
    ]
   },
   "outputs": [
    {
     "data": {
      "text/plain": [
       "{'Vince': 1, 'Zoe': 2, 'Julien': 3, 'Marie': 5}"
      ]
     },
     "execution_count": 57,
     "metadata": {},
     "output_type": "execute_result"
    }
   ],
   "source": [
    "names_to_numbers['Marie'] += 1\n",
    "names_to_numbers"
   ]
  },
  {
   "cell_type": "markdown",
   "metadata": {
    "tags": [
     "solution"
    ]
   },
   "source": [
    "If we try and get a key that is not in the dictionary we get an error but we can add key/value pairs to dictionaries:"
   ]
  },
  {
   "cell_type": "code",
   "execution_count": 58,
   "metadata": {
    "tags": [
     "solution"
    ]
   },
   "outputs": [
    {
     "data": {
      "text/plain": [
       "{'Vince': 1, 'Zoe': 2, 'Julien': 3, 'Marie': 5, 'Jon': 5}"
      ]
     },
     "execution_count": 58,
     "metadata": {},
     "output_type": "execute_result"
    }
   ],
   "source": [
    "names_to_numbers[\"Jon\"] = 5\n",
    "names_to_numbers"
   ]
  },
  {
   "cell_type": "markdown",
   "metadata": {},
   "source": [
    "---\n",
    "\n",
    "## Further resources\n",
    "\n",
    "- [A non programmers tutorial for\n",
    "  Python:\n",
    "  Functions](https://en.wikibooks.org/wiki/Non-Programmer%27s_Tutorial_for_Python_3/Defining_Functions)\n",
    "- [A nice tutorial from The Python\n",
    "  Course](http://www.python-course.eu/python3_functions.php)"
   ]
  }
 ],
 "metadata": {
  "anaconda-cloud": {},
  "celltoolbar": "Tags",
  "kernelspec": {
   "display_name": "Python [conda env:cfm]",
   "language": "python",
   "name": "conda-env-cfm-py"
  },
  "language_info": {
   "codemirror_mode": {
    "name": "ipython",
    "version": 3
   },
   "file_extension": ".py",
   "mimetype": "text/x-python",
   "name": "python",
   "nbconvert_exporter": "python",
   "pygments_lexer": "ipython3",
   "version": "3.6.5"
  }
 },
 "nbformat": 4,
 "nbformat_minor": 2
}
