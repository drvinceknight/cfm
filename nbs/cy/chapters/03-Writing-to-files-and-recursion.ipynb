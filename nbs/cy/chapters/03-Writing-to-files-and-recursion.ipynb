{
 "cells": [
  {
   "cell_type": "markdown",
   "metadata": {},
   "source": [
    "## Chapter 03: Reading and writing to file, recursion and algorithms\n",
    "\n",
    "This lab sheet will allow us to read and write to text files (which lets us store information even after we close down Python) and introduce recursion."
   ]
  },
  {
   "cell_type": "markdown",
   "metadata": {},
   "source": [
    "## Tutorial\n",
    "\n",
    "Work through the following:\n",
    "\n",
    "---\n",
    "\n",
    "### 1. Recursion.\n",
    "\n",
    "[A video describing the concept.](https://youtu.be/xFQGaPeaFxg)\n",
    "\n",
    "[A video demo.](https://youtu.be/VDXYEJcksPs)\n",
    "\n",
    "It is possible to define functions recursively. This is similar to inductive\n",
    "proofs in mathematics. To do this we need to consider two things:\n",
    "\n",
    "1. A recursive rule;\n",
    "2. A base case (that the recursive rule reduces to).\n",
    "\n",
    "As an example let us code the following function:\n",
    "\n",
    "\\\\[\n",
    "    f(n) = \\sum_{i=0}^ni\n",
    "\\\\]\n",
    "\n",
    "We can see the **'recursive rule'**:\n",
    "\n",
    "\\\\[\n",
    "    f(n) = f(n-1) + n\n",
    "\\\\]\n",
    "\n",
    "We also know that the **'base case'** is:\n",
    "\n",
    "\\\\[\n",
    "    f(0) = 0\n",
    "\\\\]\n",
    "\n",
    "Now let us program this function using recursion:"
   ]
  },
  {
   "cell_type": "code",
   "execution_count": 1,
   "metadata": {},
   "outputs": [
    {
     "data": {
      "text/plain": [
       "6"
      ]
     },
     "execution_count": 1,
     "metadata": {},
     "output_type": "execute_result"
    }
   ],
   "source": [
    "def sum_of_integers(n):\n",
    "    \"\"\"Sum of integers from 0 to n\"\"\"\n",
    "    if n == 0:  # Base case\n",
    "        return 0\n",
    "    return sum_of_integers(n - 1) + n  # Recursive rule\n",
    "sum_of_integers(3)"
   ]
  },
  {
   "cell_type": "markdown",
   "metadata": {},
   "source": [
    "Here is another example. The factorial function \\\\(n!=n\\times(n-1)\\times(n-2)...2\\times 1\\\\) can be defined as:\n",
    "\n",
    "1. The base case: \\\\(0!=1\\\\)\n",
    "2. The recursive rule: \\\\(n!=n\\times (n-1)!\\\\)\n",
    "\n",
    "Here is how to code this:"
   ]
  },
  {
   "cell_type": "code",
   "execution_count": 2,
   "metadata": {},
   "outputs": [],
   "source": [
    "def factorial(n):\n",
    "    \"\"\"Returns n! using recursion\"\"\"\n",
    "    if n == 0:  # Base case\n",
    "        return 1\n",
    "    return n * factorial(n - 1)"
   ]
  },
  {
   "cell_type": "code",
   "execution_count": 3,
   "metadata": {},
   "outputs": [
    {
     "name": "stdout",
     "output_type": "stream",
     "text": [
      "1\n",
      "1\n",
      "2\n",
      "6\n",
      "24\n",
      "120\n"
     ]
    }
   ],
   "source": [
    "for n in range(6):\n",
    "    print(factorial(n))"
   ]
  },
  {
   "cell_type": "markdown",
   "metadata": {},
   "source": [
    "Experiment with modifying the above code.\n",
    "\n",
    "### 2. Writing to file.\n",
    "\n",
    "[A video describing the concept.](https://youtu.be/w-gEOEOLfiA)\n",
    "\n",
    "[A video demo.](https://youtu.be/jFS015bgRS0)\n",
    "\n",
    "All of the data we handle with variables, lists and dictionaries lives in\n",
    "the ‘memory’ of a computer when our Python code is running. When the program\n",
    "stops running the data is lost. There will be occasions when we want to write\n",
    "our data to a file on the hard drive of a computer (so that it is always\n",
    "available even when we turn the computer off).\n",
    "\n",
    "To do this we need Python to\n",
    "open a file (usually a basic text file), write strings to the text file and\n",
    "then close the file. The following code opens (or creates a) text file in\n",
    "‘write mode’ (that’s what the w is for) and writes the numbers 1 to 10 to it:\n"
   ]
  },
  {
   "cell_type": "code",
   "execution_count": 4,
   "metadata": {},
   "outputs": [],
   "source": [
    "textfile = open('mytextfile.txt', 'w')  # Open the file in write mode\n",
    "for i in range(1, 11):\n",
    "    textfile.write(str(i) + \"\\n\")\n",
    "textfile.close()  # Close the file"
   ]
  },
  {
   "cell_type": "markdown",
   "metadata": {},
   "source": [
    "It is also possible to do it as below (so that we don't have to worry about closing the file)."
   ]
  },
  {
   "cell_type": "code",
   "execution_count": 5,
   "metadata": {},
   "outputs": [],
   "source": [
    "with open('mytextfile.txt', 'w') as textfile:\n",
    "    for i in range(1, 11):\n",
    "        textfile.write(str(i) + \"\\n\")"
   ]
  },
  {
   "cell_type": "markdown",
   "metadata": {},
   "source": [
    "Modify the above code to write something different to file.\n",
    "\n",
    "### 3. Reading files.\n",
    "\n",
    "[A video describing the concept.](https://youtu.be/rn21nG6TZlg)\n",
    "\n",
    "[A video demo.](https://youtu.be/jtU3dML5mqw)\n",
    "\n",
    "To read data from a file, we need to open the file in ‘read mode’:"
   ]
  },
  {
   "cell_type": "code",
   "execution_count": 6,
   "metadata": {},
   "outputs": [],
   "source": [
    "with open('mytextfile.txt', 'r') as textfile:\n",
    "    string = textfile.read()"
   ]
  },
  {
   "cell_type": "code",
   "execution_count": 7,
   "metadata": {},
   "outputs": [
    {
     "data": {
      "text/plain": [
       "'1\\n2\\n3\\n4\\n5\\n6\\n7\\n8\\n9\\n10\\n'"
      ]
     },
     "execution_count": 7,
     "metadata": {},
     "output_type": "execute_result"
    }
   ],
   "source": [
    "string"
   ]
  },
  {
   "cell_type": "markdown",
   "metadata": {},
   "source": [
    "This string is not particularly helpful. To transform the string to a\n",
    "list we can use the split method which separates a string on a given\n",
    "character:"
   ]
  },
  {
   "cell_type": "code",
   "execution_count": 8,
   "metadata": {},
   "outputs": [
    {
     "data": {
      "text/plain": [
       "['1', '2', '3', '4', '5', '6', '7', '8', '9', '10', '']"
      ]
     },
     "execution_count": 8,
     "metadata": {},
     "output_type": "execute_result"
    }
   ],
   "source": [
    "data = string.split('\\n')\n",
    "data"
   ]
  },
  {
   "cell_type": "markdown",
   "metadata": {},
   "source": [
    "We see that we have a list of **strings** and also have a last empy item.\n",
    "Here we clean that up (converting the strings to integers and ignoring the last item):"
   ]
  },
  {
   "cell_type": "code",
   "execution_count": 9,
   "metadata": {},
   "outputs": [
    {
     "data": {
      "text/plain": [
       "[1, 2, 3, 4, 5, 6, 7, 8, 9, 10]"
      ]
     },
     "execution_count": 9,
     "metadata": {},
     "output_type": "execute_result"
    }
   ],
   "source": [
    "data = [int(e) for e in data[:-1]]\n",
    "data"
   ]
  },
  {
   "cell_type": "markdown",
   "metadata": {},
   "source": [
    "---\n",
    "\n",
    "### Worked example\n",
    "\n",
    "[A video describing the concept.](https://youtu.be/WgmgK7K3WUM)\n",
    "\n",
    "[A video demo.](https://youtu.be/7245uwUjSkI)\n",
    "\n",
    "The Fibonacci sequence can be thought of as:\n",
    "\n",
    "1. The base case: \\\\(f(0)=f(1)=1\\\\)\n",
    "2. The recursive rule: \\\\(f(n)=f(n-1)+f(n-2)\\\\)\n",
    "\n",
    "Here is how to code this:"
   ]
  },
  {
   "cell_type": "code",
   "execution_count": 10,
   "metadata": {},
   "outputs": [],
   "source": [
    "def fibonacci(n):\n",
    "    \"\"\"Returns the nth fibonacci number using recursion\"\"\"\n",
    "    if n in [0, 1]:  # Base case\n",
    "        return 1\n",
    "    return fibonacci(n - 1) + fibonacci(n - 2)  # Recursive rule"
   ]
  },
  {
   "cell_type": "code",
   "execution_count": 11,
   "metadata": {},
   "outputs": [
    {
     "name": "stdout",
     "output_type": "stream",
     "text": [
      "1\n",
      "1\n",
      "2\n",
      "3\n",
      "5\n",
      "8\n",
      "13\n",
      "21\n",
      "34\n",
      "55\n"
     ]
    }
   ],
   "source": [
    "for n in range(10):\n",
    "     print(fibonacci(n))"
   ]
  },
  {
   "cell_type": "markdown",
   "metadata": {},
   "source": [
    "It can be shown that the Fibonacci sequence can also be given by:\n",
    "\n",
    "\\\\[\n",
    "    f(n) = \\frac{\\phi^{(n + 1)} - (-\\phi)^{-(n + 1)}}{\\sqrt{5}}\n",
    "\\\\]\n",
    "\n",
    "Where \\\\(\\phi\\\\) is the golden ratio:\n",
    "\n",
    "\\\\[\n",
    "    \\phi = \\frac{1 + \\sqrt{5}}{2}\n",
    "\\\\]\n",
    "\n",
    "Let us use the recursive function to verify that this formula is correct for the first 30 values of \\\\(n\\\\):"
   ]
  },
  {
   "cell_type": "code",
   "execution_count": 12,
   "metadata": {},
   "outputs": [],
   "source": [
    "import math  # This is a library that has various helpful function\n",
    "phi = (1 + math.sqrt(5)) / 2\n",
    "def alt_fibonacci(n):\n",
    "    \"\"\"Return the nth fibonacci number using the golden ratio formula\"\"\"\n",
    "    return (phi ** (n + 1) - (-phi) ** (-(n + 1))) / (math.sqrt(5))"
   ]
  },
  {
   "cell_type": "markdown",
   "metadata": {},
   "source": [
    "As we did in the previous sheet let us write a function to check the formula:"
   ]
  },
  {
   "cell_type": "code",
   "execution_count": 13,
   "metadata": {},
   "outputs": [
    {
     "data": {
      "text/plain": [
       "True"
      ]
     },
     "execution_count": 13,
     "metadata": {},
     "output_type": "execute_result"
    }
   ],
   "source": [
    "def check_formula(K):\n",
    "    \"\"\"Check the golden ratio formula\"\"\"\n",
    "    return fibonacci(K) == round(alt_fibonacci(K), 1)\n",
    "check_formula(3)"
   ]
  },
  {
   "cell_type": "markdown",
   "metadata": {},
   "source": [
    "Let us check this for the first 30 values:"
   ]
  },
  {
   "cell_type": "code",
   "execution_count": 14,
   "metadata": {},
   "outputs": [
    {
     "data": {
      "text/plain": [
       "True"
      ]
     },
     "execution_count": 14,
     "metadata": {},
     "output_type": "execute_result"
    }
   ],
   "source": [
    "checks = [check_formula(K) for K in range(30)]\n",
    "all(checks)  # `all` combines all booleans in a list"
   ]
  },
  {
   "cell_type": "markdown",
   "metadata": {},
   "source": [
    "We can then use the alternative formula to write a large file with the first 500 Fibonacci numbers:"
   ]
  },
  {
   "cell_type": "code",
   "execution_count": 15,
   "metadata": {},
   "outputs": [],
   "source": [
    "with open('fibonacci.txt', 'w') as textfile:\n",
    "    for n in range(500):\n",
    "        fib_number = int(round(alt_fibonacci(n), 0))  # Rounding the number\n",
    "        textfile.write(str(fib_number) + \"\\n\")  # Writing it"
   ]
  },
  {
   "cell_type": "markdown",
   "metadata": {},
   "source": [
    "---\n",
    "\n",
    "## Exercises\n",
    "\n",
    "Here are a number of exercises that are possible to carry out using the code concepts discussed:\n",
    "\n",
    "- Recursion, writing code that matchs mathematical recursive definitions. For example \\\\(a(0)=1\\\\) and \\\\(a(n)=2a(n-1)\\\\):\n",
    "    ```python\n",
    "    def sequence_a(n):\n",
    "        if n == 0:  # base case\n",
    "           return 1  \n",
    "        return 2 * a(n - 1)  # recursive relationship\n",
    "    ```\n",
    "\n",
    "- Writing to file with `open(\"file.txt\", \"w\")` and reading from file with `open(\"file.txt\", \"r\")`"
   ]
  },
  {
   "cell_type": "markdown",
   "metadata": {},
   "source": [
    "---\n",
    "\n",
    "### Exercise 1\n",
    "\n",
    "**Debugging exercise**\n",
    "\n",
    "The following is an attempt to write \\\\(n!\\\\) as a recursive function. Find\n",
    "and fix all the bugs.\n",
    "\n",
    "```python\n",
    "def factorial(n):\n",
    "    \"\"\"A function that returns factorial n\"\"\"\n",
    "    return n * factoial(n)\n",
    "```"
   ]
  },
  {
   "cell_type": "code",
   "execution_count": 16,
   "metadata": {
    "tags": [
     "solution"
    ]
   },
   "outputs": [],
   "source": [
    "def factorial(n):\n",
    "    \"\"\"A function that returns factorial n\"\"\"\n",
    "    # Need a base case:\n",
    "    if n == 0:\n",
    "        return 1\n",
    "    #return n * factoial(n)  # Typo in 'factorial' and not correct value.\n",
    "    return n * factorial(n - 1)"
   ]
  },
  {
   "cell_type": "markdown",
   "metadata": {
    "tags": [
     "solution"
    ]
   },
   "source": [
    "A quick check:"
   ]
  },
  {
   "cell_type": "code",
   "execution_count": 17,
   "metadata": {
    "tags": [
     "solution"
    ]
   },
   "outputs": [
    {
     "name": "stdout",
     "output_type": "stream",
     "text": [
      "0 1\n",
      "1 1\n",
      "2 2\n",
      "3 6\n",
      "4 24\n"
     ]
    }
   ],
   "source": [
    "for n in range(5):\n",
    "    print(n, factorial(n))"
   ]
  },
  {
   "cell_type": "markdown",
   "metadata": {},
   "source": [
    "---\n",
    "\n",
    "### Exercise 2\n",
    "\n",
    "Write a recursive function that returns the Catalan numbers \\\\(C(n)\\\\) defined by the following:\n",
    "\n",
    "1. Base case: \\\\(C(0)=1\\\\);\n",
    "2. Recursive rule: \\\\(C(n)=\\sum_{i=0}^{n-1}C(i)C(n-1-i)\\\\)"
   ]
  },
  {
   "cell_type": "code",
   "execution_count": 18,
   "metadata": {
    "tags": [
     "solution"
    ]
   },
   "outputs": [],
   "source": [
    "def catalan(n):\n",
    "    \"\"\"Returns the nth Catalan number using recursion\"\"\"\n",
    "    if n == 0:\n",
    "        return 1\n",
    "    return sum([catalan(i) * catalan(n - i - 1) for i in range(n)])"
   ]
  },
  {
   "cell_type": "markdown",
   "metadata": {
    "tags": [
     "solution"
    ]
   },
   "source": [
    "Here is the first 5 terms:"
   ]
  },
  {
   "cell_type": "code",
   "execution_count": 19,
   "metadata": {
    "tags": [
     "solution"
    ]
   },
   "outputs": [
    {
     "name": "stdout",
     "output_type": "stream",
     "text": [
      "1\n",
      "1\n",
      "2\n",
      "5\n",
      "14\n"
     ]
    }
   ],
   "source": [
    "for n in range(5):\n",
    "    print(catalan(n))"
   ]
  },
  {
   "cell_type": "markdown",
   "metadata": {},
   "source": [
    "---\n",
    "\n",
    "### Exercise 3\n",
    "\n",
    "Verify for the first 15 values of \\\\(n\\\\) that the following\n",
    "alternative formula also gives the Catalan numbers (this is in fact the more\n",
    "commonly used formula):\n",
    "\n",
    "\\\\[\n",
    "    C(n) = \\frac{(2n)!}{(n+1)!n!}\n",
    "\\\\]\n",
    "\n",
    "Write the first 500 catalan numbers to file.\n",
    "\n",
    "You can use the factorial function we defined in this lab sheet (Exercise 1) or you   can use the `math` library: `math.factorial`."
   ]
  },
  {
   "cell_type": "code",
   "execution_count": 20,
   "metadata": {
    "tags": [
     "solution"
    ]
   },
   "outputs": [],
   "source": [
    "import math  # Use the factorial from the math library\n",
    "\n",
    "def alt_catalan(n):\n",
    "    \"\"\"An alternative formula for the Catalan numbers\"\"\"\n",
    "    return math.factorial(2 * n) / (math.factorial(n + 1) * math.factorial(n))"
   ]
  },
  {
   "cell_type": "markdown",
   "metadata": {
    "tags": [
     "solution"
    ]
   },
   "source": [
    "Here is a function to check the formula:"
   ]
  },
  {
   "cell_type": "code",
   "execution_count": 21,
   "metadata": {
    "tags": [
     "solution"
    ]
   },
   "outputs": [],
   "source": [
    "def check_formula(n):\n",
    "    \"\"\"\n",
    "    Check the value for the nth Cataln number\n",
    "    \"\"\"\n",
    "    return  catalan(n) == alt_catalan(n)"
   ]
  },
  {
   "cell_type": "markdown",
   "metadata": {
    "tags": [
     "solution"
    ]
   },
   "source": [
    "Here we are checking the first 15 numbers:"
   ]
  },
  {
   "cell_type": "code",
   "execution_count": 22,
   "metadata": {
    "tags": [
     "solution"
    ]
   },
   "outputs": [
    {
     "data": {
      "text/plain": [
       "True"
      ]
     },
     "execution_count": 22,
     "metadata": {},
     "output_type": "execute_result"
    }
   ],
   "source": [
    "checks = [check_formula(n) for n in range(15)]\n",
    "all(checks)  # `all` combines all booleans in a list"
   ]
  },
  {
   "cell_type": "markdown",
   "metadata": {},
   "source": [
    "----\n",
    "\n",
    "### Exercise 4\n",
    "\n",
    "The file `primes.csv` ([download](/{{root}}/nbs/chapters/primes.csv)) contains the first million prime numbers. Use it to attempt to verify [Goldbach's conjecture](https://en.wikipedia.org/wiki/Goldbach%27s_conjecture)."
   ]
  },
  {
   "cell_type": "markdown",
   "metadata": {
    "tags": [
     "solution"
    ]
   },
   "source": [
    "Let us first check Goldbachs conjecture using a small list of primes."
   ]
  },
  {
   "cell_type": "code",
   "execution_count": 23,
   "metadata": {
    "tags": [
     "solution"
    ]
   },
   "outputs": [],
   "source": [
    "primes = [2, 3, 5, 7, 11]"
   ]
  },
  {
   "cell_type": "code",
   "execution_count": 24,
   "metadata": {
    "tags": [
     "solution"
    ]
   },
   "outputs": [],
   "source": [
    "def check_goldbach(n, primes):\n",
    "    \"\"\"\n",
    "    Checks that n (if it is even) can be written as \n",
    "    the sum of two numbers in the list `primes`\n",
    "    \"\"\"\n",
    "    if n % 2 == 1:\n",
    "        # If n is odd than the conjecture is still true\n",
    "        return True\n",
    "    for p1 in primes:\n",
    "        for p2 in primes:\n",
    "            if p1 + p2 == n:\n",
    "                return True, p1, p2\n",
    "    # If we loop over all primes and do not obtain \n",
    "    # the required sum then the conjecture is false\n",
    "    return False"
   ]
  },
  {
   "cell_type": "code",
   "execution_count": 25,
   "metadata": {
    "tags": [
     "solution"
    ]
   },
   "outputs": [
    {
     "data": {
      "text/plain": [
       "(True, 3, 3)"
      ]
     },
     "execution_count": 25,
     "metadata": {},
     "output_type": "execute_result"
    }
   ],
   "source": [
    "check_goldbach(6, primes)"
   ]
  },
  {
   "cell_type": "code",
   "execution_count": 26,
   "metadata": {
    "tags": [
     "solution"
    ]
   },
   "outputs": [
    {
     "data": {
      "text/plain": [
       "(True, 3, 7)"
      ]
     },
     "execution_count": 26,
     "metadata": {},
     "output_type": "execute_result"
    }
   ],
   "source": [
    "check_goldbach(10, primes)"
   ]
  },
  {
   "cell_type": "markdown",
   "metadata": {
    "tags": [
     "solution"
    ]
   },
   "source": [
    "We can check a few numbers as above but after a while we won't have enough prime numbers, for example with \\\\(n=20\\\\) we get a failure:"
   ]
  },
  {
   "cell_type": "code",
   "execution_count": 27,
   "metadata": {
    "tags": [
     "solution"
    ]
   },
   "outputs": [
    {
     "data": {
      "text/plain": [
       "False"
      ]
     },
     "execution_count": 27,
     "metadata": {},
     "output_type": "execute_result"
    }
   ],
   "source": [
    "check_goldbach(20, primes)"
   ]
  },
  {
   "cell_type": "markdown",
   "metadata": {
    "tags": [
     "solution"
    ]
   },
   "source": [
    "Let us read in the large number of primes:"
   ]
  },
  {
   "cell_type": "code",
   "execution_count": 28,
   "metadata": {
    "tags": [
     "solution"
    ]
   },
   "outputs": [],
   "source": [
    "with open(\"primes.csv\", 'r') as outfile:\n",
    "    data = [int(prime) for prime in outfile.read().split()]"
   ]
  },
  {
   "cell_type": "markdown",
   "metadata": {
    "tags": [
     "solution"
    ]
   },
   "source": [
    "Let us look at the last 10 entries:"
   ]
  },
  {
   "cell_type": "code",
   "execution_count": 29,
   "metadata": {
    "tags": [
     "solution"
    ]
   },
   "outputs": [
    {
     "data": {
      "text/plain": [
       "[15485761,\n",
       " 15485773,\n",
       " 15485783,\n",
       " 15485801,\n",
       " 15485807,\n",
       " 15485837,\n",
       " 15485843,\n",
       " 15485849,\n",
       " 15485857,\n",
       " 15485863]"
      ]
     },
     "execution_count": 29,
     "metadata": {},
     "output_type": "execute_result"
    }
   ],
   "source": [
    "data[-10:]"
   ]
  },
  {
   "cell_type": "markdown",
   "metadata": {
    "tags": [
     "solution"
    ]
   },
   "source": [
    "We can now confirm that \\\\(n=20\\\\) is not a counter example to Goldbach's conjecture:"
   ]
  },
  {
   "cell_type": "code",
   "execution_count": 30,
   "metadata": {
    "tags": [
     "solution"
    ]
   },
   "outputs": [
    {
     "data": {
      "text/plain": [
       "(True, 3, 17)"
      ]
     },
     "execution_count": 30,
     "metadata": {},
     "output_type": "execute_result"
    }
   ],
   "source": [
    "check_goldbach(20, data)"
   ]
  },
  {
   "cell_type": "markdown",
   "metadata": {
    "tags": [
     "solution"
    ]
   },
   "source": [
    "Let us check the first 200 integers that are even:"
   ]
  },
  {
   "cell_type": "code",
   "execution_count": 31,
   "metadata": {
    "tags": [
     "solution"
    ]
   },
   "outputs": [],
   "source": [
    "upper_count = 200\n",
    "count = 0 \n",
    "n = 2\n",
    "bools = []\n",
    "while count < upper_count:\n",
    "    n += 1\n",
    "    if n % 2 == 0:\n",
    "        count += 1\n",
    "        bools.append(check_goldbach(n, data)[0])  # Appending the first element"
   ]
  },
  {
   "cell_type": "markdown",
   "metadata": {
    "tags": [
     "solution"
    ]
   },
   "source": [
    "Let us check all our booleans:"
   ]
  },
  {
   "cell_type": "code",
   "execution_count": 32,
   "metadata": {
    "tags": [
     "solution"
    ]
   },
   "outputs": [
    {
     "data": {
      "text/plain": [
       "(True, 200)"
      ]
     },
     "execution_count": 32,
     "metadata": {},
     "output_type": "execute_result"
    }
   ],
   "source": [
    "all(bools), len(bools)"
   ]
  },
  {
   "cell_type": "markdown",
   "metadata": {
    "tags": [
     "solution"
    ]
   },
   "source": [
    "The approach we have taken is called a 'brute force' approach. Can you think of a smarter way of writing check_goldbach?"
   ]
  },
  {
   "cell_type": "markdown",
   "metadata": {},
   "source": [
    "---\n",
    "# Further resources\n",
    "\n",
    "- [A non programmers tutorial for\n",
    "  Python:\n",
    "  Recursion](https://en.wikibooks.org/wiki/Non-Programmer%27s_Tutorial_for_Python_3/Recursion)\n",
    "- [A nice tutorial from The Python\n",
    "  Course on recursion](http://www.python-course.eu/recursive_functions.php)\n",
    "- [A short blog post by John Cook about\n",
    "  recursion](http://www.johndcook.com/blog/2010/03/30/understanding-recursion/)\n",
    "- [Reading and writing csv files with the csv library](https://pymotw.com/3/csv/)\n",
    "- [Documentation for the caching function available in Python\n",
    "  3](https://docs.python.org/3/library/functools.html#functools.lru_cache)"
   ]
  }
 ],
 "metadata": {
  "anaconda-cloud": {},
  "celltoolbar": "Tags",
  "kernelspec": {
   "display_name": "Python [conda env:cfm]",
   "language": "python",
   "name": "conda-env-cfm-py"
  },
  "language_info": {
   "codemirror_mode": {
    "name": "ipython",
    "version": 3
   },
   "file_extension": ".py",
   "mimetype": "text/x-python",
   "name": "python",
   "nbconvert_exporter": "python",
   "pygments_lexer": "ipython3",
   "version": "3.6.5"
  }
 },
 "nbformat": 4,
 "nbformat_minor": 2
}
