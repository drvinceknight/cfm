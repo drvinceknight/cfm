{
 "cells": [
  {
   "cell_type": "markdown",
   "metadata": {},
   "source": [
    "## Pennod 03: Darllen ac ysgrifennu i ffeil, ffwythiannau ailadroddol, ac algorithmau\n",
    "\n",
    "Bydd y daflen lab yma yn ein galluogi ni i ysgrifennu i ffeiliau tecst (sy'n gadael i ni storio gwybodaeth ar ôl i ni gau Python) ac yn cyflwyno ffwythiannau ailadroddol."
   ]
  },
  {
   "cell_type": "markdown",
   "metadata": {},
   "source": [
    "## Tiwtorial\n",
    "\n",
    "Gweithiwch trwy'r canlynol:\n",
    "\n",
    "---\n",
    "\n",
    "### 1. Ffwythiannau ailadroddol.\n",
    "\n",
    "[Fideo yn disgrifio'r cysyniad.](https://youtu.be/xFQGaPeaFxg)\n",
    "\n",
    "[Fideo demo.](https://youtu.be/VDXYEJcksPs)\n",
    "\n",
    "Mae'n bosib diffinio ffwythiannau mewn modd ailadroddol. Mae hwn yn debyg i brofion anwythiad mewn mathemateg. I wneud hwn rhaid ystyried dau beth:\n",
    "\n",
    "1. Rheol ailadroddol;\n",
    "2. Achos sylfaenol (hwnna mae’r rheol ailadroddol yn ei ostwng iddo).\n",
    "\n",
    "Fel enghraifft gadewch i ni godio'r ffwythiant canlynol:\n",
    "\n",
    "\\\\[\n",
    "    f(n) = \\sum_{i=0}^ni\n",
    "\\\\]\n",
    "\n",
    "Gwelwn y **'rheol ailadroddol'**:\n",
    "\n",
    "\\\\[\n",
    "    f(n) = f(n-1) + n\n",
    "\\\\]\n",
    "\n",
    "Rydyn ni hefyd yn gwybod bod yr **'achos sylfaenol'** yw:\n",
    "\n",
    "\\\\[\n",
    "    f(0) = 0\n",
    "\\\\]\n",
    "\n",
    "Nawr byddwn yn rhaglennu'r ffwythiant yma gan ddefnyddio ffwythiant ailadroddol:"
   ]
  },
  {
   "cell_type": "code",
   "execution_count": 1,
   "metadata": {},
   "outputs": [
    {
     "data": {
      "text/plain": [
       "6"
      ]
     },
     "execution_count": 1,
     "metadata": {},
     "output_type": "execute_result"
    }
   ],
   "source": [
    "def swm_cyfanrifau(n):\n",
    "    \"\"\"Swm y cyfanrifau o 0 i n\"\"\"\n",
    "    if n == 0:  # Achos sylfaenol\n",
    "        return 0\n",
    "    return swm_cyfanrifau(n - 1) + n  # Rheol ailadroddol\n",
    "swm_cyfanrifau(3)"
   ]
  },
  {
   "cell_type": "markdown",
   "metadata": {},
   "source": [
    "Dyma enghraifft arall. Gallwn ddiffinio'r ffwythiant ffactorial \\\\(n!=n\\times(n-1)\\times(n-2)...2\\times 1\\\\) fel:\n",
    "\n",
    "1. Yr achos sylfaenol: \\\\(0!=1\\\\)\n",
    "2. Y rheol ailadroddol: \\\\(n!=n\\times (n-1)!\\\\)\n",
    "\n",
    "Dyma sut byddwn yn codio hwn:"
   ]
  },
  {
   "cell_type": "code",
   "execution_count": 2,
   "metadata": {},
   "outputs": [],
   "source": [
    "def ffactorial(n):\n",
    "    \"\"\"Allbynnu n! gan ddefnyddio ffwythiant ailadroddol\"\"\"\n",
    "    if n == 0:  # Achos sylfaenol\n",
    "        return 1\n",
    "    return n * ffactorial(n - 1)"
   ]
  },
  {
   "cell_type": "code",
   "execution_count": 3,
   "metadata": {},
   "outputs": [
    {
     "name": "stdout",
     "output_type": "stream",
     "text": [
      "1\n",
      "1\n",
      "2\n",
      "6\n",
      "24\n",
      "120\n"
     ]
    }
   ],
   "source": [
    "for n in range(6):\n",
    "    print(ffactorial(n))"
   ]
  },
  {
   "cell_type": "markdown",
   "metadata": {},
   "source": [
    "Arbrofwch trwy newid y cod uchod.\n",
    "\n",
    "### 2. Ysgrifennu i ffeil.\n",
    "\n",
    "[Fideo yn disgrifio'r cysyniad.](https://youtu.be/w-gEOEOLfiA)\n",
    "\n",
    "[Fideo demo.](https://youtu.be/jFS015bgRS0)\n",
    "\n",
    "Mae'r holl ddata rydym yn trin gyda newidynnau, rhestrau a geiriaduron yn byw yng 'nghof' y cyfrifiadur lle mae ein cod Python yn rhedeg. Mae'r holl ddata yma yn cael eu colli pan mae'r rhaglen wedi gorffen rhedeg. Bydd achlysuron pan fyddwn eisiau ysgrifennu'r data yma i ffeil ar yriant caled ein cyfrifiadur (felly ei bod ar gael hyd yn oed pan fyddwn yn troi'r cyfrifiadur i ffwrdd).\n",
    "\n",
    "I wneud hwn rhaid i Python agor ffeil (fel arfer ffeil tecst syml), ysgrifennu strings i'r ffeil, ac yna cau'r ffeil. Mae'r cod canlynol yn agor (neu greu) ffeil tecst mewn modd 'write' (dyma beth mae'r w ar ei chyfer) ac yn ysgrifennu'r rhifau o 1 i 10 iddo:"
   ]
  },
  {
   "cell_type": "code",
   "execution_count": 4,
   "metadata": {},
   "outputs": [],
   "source": [
    "ffeiltecst = open('fyffeiltecst.txt', 'w')  # Agor y ffeil mewn modd ysgrifennu\n",
    "for i in range(1, 11):\n",
    "    ffeiltecst.write(str(i) + \"\\n\")\n",
    "ffeiltecst.close()  # Cau'r ffeil"
   ]
  },
  {
   "cell_type": "markdown",
   "metadata": {},
   "source": [
    "Mae hefyd yn bosib gwneud hwn yn y ffordd isod (felly nid oes angen poeni am gau'r ffeil)."
   ]
  },
  {
   "cell_type": "code",
   "execution_count": 5,
   "metadata": {},
   "outputs": [],
   "source": [
    "with open('fyffeiltecst.txt', 'w') as ffeiltecst:\n",
    "    for i in range(1, 11):\n",
    "        ffeiltecst.write(str(i) + \"\\n\")"
   ]
  },
  {
   "cell_type": "markdown",
   "metadata": {},
   "source": [
    "Newidiwch y cod uchod i ysgrifennu rhywbeth gwahanol i ffeil.\n",
    "\n",
    "### 3. Darllen ffeiliau.\n",
    "\n",
    "[Fideo yn disgrifio'r cysyniad.](https://youtu.be/rn21nG6TZlg)\n",
    "\n",
    "[Fideo demo.](https://youtu.be/jtU3dML5mqw)\n",
    "\n",
    "I ddarllen data o ffeil, rhaid agor y ffeil mewn modd `read`:"
   ]
  },
  {
   "cell_type": "code",
   "execution_count": 6,
   "metadata": {},
   "outputs": [],
   "source": [
    "with open('fyffeiltecst.txt', 'r') as ffeiltecst:\n",
    "    string = ffeiltecst.read()"
   ]
  },
  {
   "cell_type": "code",
   "execution_count": 7,
   "metadata": {},
   "outputs": [
    {
     "data": {
      "text/plain": [
       "'1\\n2\\n3\\n4\\n5\\n6\\n7\\n8\\n9\\n10\\n'"
      ]
     },
     "execution_count": 7,
     "metadata": {},
     "output_type": "execute_result"
    }
   ],
   "source": [
    "string"
   ]
  },
  {
   "cell_type": "markdown",
   "metadata": {},
   "source": [
    "Nid yw'r string yma'n ddefnyddiol iawn. I'w trawsnewid i mewn i restr gallwn ddefnyddio'r dull 'split' sy'n gwahanu string wedi seilio ar gymeriad penodol:"
   ]
  },
  {
   "cell_type": "code",
   "execution_count": 8,
   "metadata": {},
   "outputs": [
    {
     "data": {
      "text/plain": [
       "['1', '2', '3', '4', '5', '6', '7', '8', '9', '10', '']"
      ]
     },
     "execution_count": 8,
     "metadata": {},
     "output_type": "execute_result"
    }
   ],
   "source": [
    "data = string.split('\\n')\n",
    "data"
   ]
  },
  {
   "cell_type": "markdown",
   "metadata": {},
   "source": [
    "Gwelwn fod gennym restr o **strings** a hefyd un eitem olaf sy'n wag.\n",
    "I glirio hwn lan (trwy drosi'r strings i gyfanrifau ac anwybyddu'r eitem olaf):"
   ]
  },
  {
   "cell_type": "code",
   "execution_count": 9,
   "metadata": {},
   "outputs": [
    {
     "data": {
      "text/plain": [
       "[1, 2, 3, 4, 5, 6, 7, 8, 9, 10]"
      ]
     },
     "execution_count": 9,
     "metadata": {},
     "output_type": "execute_result"
    }
   ],
   "source": [
    "data = [int(e) for e in data[:-1]]\n",
    "data"
   ]
  },
  {
   "cell_type": "markdown",
   "metadata": {},
   "source": [
    "---\n",
    "\n",
    "### Enghraifft weithredol\n",
    "\n",
    "[Fideo yn disgrifio'r cysyniad.](https://youtu.be/WgmgK7K3WUM)\n",
    "\n",
    "[Fideo demo.](https://youtu.be/7245uwUjSkI)\n",
    "\n",
    "Gallwn feddwl am y dilyniant Fibonacci fel:\n",
    "\n",
    "1. Yr achos sylfaenol: \\\\(f(0)=f(1)=1\\\\)\n",
    "2. Y rheol ailadroddol: \\\\(f(n)=f(n-1)+f(n-2)\\\\)\n",
    "\n",
    "Dyma sut byddwn yn codio hwn:"
   ]
  },
  {
   "cell_type": "code",
   "execution_count": 10,
   "metadata": {},
   "outputs": [],
   "source": [
    "def fibonacci(n):\n",
    "    \"\"\"Allbynnu'r nfed rhif fibonacci trwy defnyddio ffwythiant ailadroddol\"\"\"\n",
    "    if n in [0, 1]:  # Yr achos sylfaenol\n",
    "        return 1\n",
    "    return fibonacci(n - 1) + fibonacci(n - 2)  # Y rheol ailadroddol"
   ]
  },
  {
   "cell_type": "code",
   "execution_count": 11,
   "metadata": {},
   "outputs": [
    {
     "name": "stdout",
     "output_type": "stream",
     "text": [
      "1\n",
      "1\n",
      "2\n",
      "3\n",
      "5\n",
      "8\n",
      "13\n",
      "21\n",
      "34\n",
      "55\n"
     ]
    }
   ],
   "source": [
    "for n in range(10):\n",
    "     print(fibonacci(n))"
   ]
  },
  {
   "cell_type": "markdown",
   "metadata": {},
   "source": [
    "Gallwn dangos hefyd rhoddir y dilyniant Fibonacci gan:\n",
    "\n",
    "\\\\[\n",
    "    f(n) = \\frac{\\phi^{(n + 1)} - (-\\phi)^{-(n + 1)}}{\\sqrt{5}}\n",
    "\\\\]\n",
    "\n",
    "Lle \\\\(\\phi\\\\) yw'r gymhareb euraidd:\n",
    "\n",
    "\\\\[\n",
    "    \\phi = \\frac{1 + \\sqrt{5}}{2}\n",
    "\\\\]\n",
    "\n",
    "Defnyddiwn y ffwythiant ailadroddol i wirio bod y fformiwla yma yn gywir ar gyfer y 30 gwerth cyntaf o \\\\(n\\\\):"
   ]
  },
  {
   "cell_type": "code",
   "execution_count": 12,
   "metadata": {},
   "outputs": [],
   "source": [
    "import math  # Dyma llyfrgell sy'n cynnwys nifer o ffwythiannau defnyddiol\n",
    "phi = (1 + math.sqrt(5)) / 2\n",
    "def fibonacci_amgen(n):\n",
    "    \"\"\"Allbynnu'r nfed rhif fibonacci trwy defnyddio'r fformiwla cymhareb euraidd\"\"\"\n",
    "    return (phi ** (n + 1) - (-phi) ** (-(n + 1))) / (math.sqrt(5))"
   ]
  },
  {
   "cell_type": "markdown",
   "metadata": {},
   "source": [
    "Fel gwnaethon ni yn y daflen lab diwethaf ysgrifennwn ffwythiant i wirio'r fformiwla"
   ]
  },
  {
   "cell_type": "code",
   "execution_count": 13,
   "metadata": {},
   "outputs": [
    {
     "data": {
      "text/plain": [
       "True"
      ]
     },
     "execution_count": 13,
     "metadata": {},
     "output_type": "execute_result"
    }
   ],
   "source": [
    "def gwirio_fformiwla(K):\n",
    "    \"\"\"Gwirio'r fformiwla cymhareb euraidd\"\"\"\n",
    "    return fibonacci(K) == round(fibonacci_amgen(K), 1)\n",
    "gwirio_fformiwla(3)"
   ]
  },
  {
   "cell_type": "markdown",
   "metadata": {},
   "source": [
    "Gwiriwn am y 30 gwerth cyntaf:"
   ]
  },
  {
   "cell_type": "code",
   "execution_count": 14,
   "metadata": {},
   "outputs": [
    {
     "data": {
      "text/plain": [
       "True"
      ]
     },
     "execution_count": 14,
     "metadata": {},
     "output_type": "execute_result"
    }
   ],
   "source": [
    "gwiriadau = [gwirio_fformiwla(K) for K in range(30)]\n",
    "all(gwiriadau)  # mae `all` yn cyfuno pob boolean mewn rhestr"
   ]
  },
  {
   "cell_type": "markdown",
   "metadata": {},
   "source": [
    "Yna gallwn ddefnyddio'n fformiwla amgen i ysgrifennu ffeil mawr gyda'r 500 rhif Fibonacci cyntaf:"
   ]
  },
  {
   "cell_type": "code",
   "execution_count": 15,
   "metadata": {},
   "outputs": [],
   "source": [
    "with open('fibonacci.txt', 'w') as ffeiltecst:\n",
    "    for n in range(500):\n",
    "        rhif_fib = int(round(fibonacci_amgen(n), 0))  # Talgrynnu'r rhif\n",
    "        ffeiltecst.write(str(rhif_fib) + \"\\n\")  # A'i ysgrifennu"
   ]
  },
  {
   "cell_type": "markdown",
   "metadata": {},
   "source": [
    "---\n",
    "\n",
    "## Ymarferion\n",
    "\n",
    "Dyma nifer o ymarferion sy'n bosib cwblhau trwy ddefnyddio'r cysyniadau cod a thrafodwyd:\n",
    "\n",
    "- Ffwythiannau ailadroddol, ysgrifennu cod sy'n cyfateb â diffiniadau ailadroddol mathemategol. Er enghraifft \\\\(a(0)=1\\\\) ac \\\\(a(n)=2a(n-1)\\\\):\n",
    "    ```python\n",
    "    def dilyniant_a(n):\n",
    "        if n == 0:  # achos sylfaenol\n",
    "           return 1  \n",
    "        return 2 * a(n - 1)  # perthynas ailadroddol\n",
    "    ```\n",
    "\n",
    "- Ysgrifennu i ffeil gyda `open(\"ffeil.txt\", \"w\")` a darllen o ffeil gyda `open(\"ffeil.txt\", \"r\")`"
   ]
  },
  {
   "cell_type": "markdown",
   "metadata": {},
   "source": [
    "---\n",
    "\n",
    "### Ymarfer 1\n",
    "\n",
    "**Ymarfer datbygio**\n",
    "\n",
    "Mae'r cod canlynol yn ceisio ysgrifennu \\\\(n!\\\\) fel ffwythiant ailadroddol. Canfyddwch a chywirwch yr holl fygiau.\n",
    "\n",
    "```python\n",
    "def ffactorial(n):\n",
    "    \"\"\"Ffwythiant sy'n allbynnu ffactorial n\"\"\"\n",
    "    return n * ffactoial(n)\n",
    "```"
   ]
  },
  {
   "cell_type": "code",
   "execution_count": 16,
   "metadata": {
    "tags": [
     "solution"
    ]
   },
   "outputs": [],
   "source": [
    "def ffactorial(n):\n",
    "    \"\"\"Ffwythiant sy'n allbynnu ffactorial n\"\"\"\n",
    "    # Mae angen achos sylfaenol:\n",
    "    if n == 0:\n",
    "        return 1\n",
    "    #return n * ffactoial(n)  # Typo yn 'ffactorial' a nid yw'n defnyddio'r gwerth cywir.\n",
    "    return n * ffactorial(n - 1)"
   ]
  },
  {
   "cell_type": "markdown",
   "metadata": {
    "tags": [
     "solution"
    ]
   },
   "source": [
    "Gwiriad gloi:"
   ]
  },
  {
   "cell_type": "code",
   "execution_count": 17,
   "metadata": {
    "tags": [
     "solution"
    ]
   },
   "outputs": [
    {
     "name": "stdout",
     "output_type": "stream",
     "text": [
      "0 1\n",
      "1 1\n",
      "2 2\n",
      "3 6\n",
      "4 24\n"
     ]
    }
   ],
   "source": [
    "for n in range(5):\n",
    "    print(n, ffactorial(n))"
   ]
  },
  {
   "cell_type": "markdown",
   "metadata": {},
   "source": [
    "---\n",
    "\n",
    "### Ymarfer 2\n",
    "\n",
    "Ysgrifennwch ffwythiant ailadroddol sy'n allbynnu'r rhifau Catalan \\\\(C(n)\\\\) wedi diffinio gan y canlynol:\n",
    "\n",
    "1. Achos sylfaenol: \\\\(C(0)=1\\\\);\n",
    "2. Rheol ailadroddol: \\\\(C(n)=\\sum_{i=0}^{n-1}C(i)C(n-1-i)\\\\)"
   ]
  },
  {
   "cell_type": "code",
   "execution_count": 18,
   "metadata": {
    "tags": [
     "solution"
    ]
   },
   "outputs": [],
   "source": [
    "def catalan(n):\n",
    "    \"\"\"Allbynnu'r nfed rhif Catalan trwy defnyddio ffwythiant ailadroddol\"\"\"\n",
    "    if n == 0:\n",
    "        return 1\n",
    "    return sum([catalan(i) * catalan(n - i - 1) for i in range(n)])"
   ]
  },
  {
   "cell_type": "markdown",
   "metadata": {
    "tags": [
     "solution"
    ]
   },
   "source": [
    "Dyma'r 5 term cyntaf:"
   ]
  },
  {
   "cell_type": "code",
   "execution_count": 19,
   "metadata": {
    "tags": [
     "solution"
    ]
   },
   "outputs": [
    {
     "name": "stdout",
     "output_type": "stream",
     "text": [
      "1\n",
      "1\n",
      "2\n",
      "5\n",
      "14\n"
     ]
    }
   ],
   "source": [
    "for n in range(5):\n",
    "    print(catalan(n))"
   ]
  },
  {
   "cell_type": "markdown",
   "metadata": {},
   "source": [
    "---\n",
    "\n",
    "### Ymarfer 3\n",
    "\n",
    "Ar gyfer yr 15 gwerth cyntaf o \\\\(n\\\\) bod y fformiwla amgen canlynol hefyd yn rhoi'r rhifau Catalan (mewn gwirionedd dyma'r fformiwla a ddefnyddiwyd yn fwy aml):\n",
    "\n",
    "\\\\[\n",
    "    C(n) = \\frac{(2n)!}{(n+1)!n!}\n",
    "\\\\]\n",
    "\n",
    "Ysgrifennwch y 500 rhif catalan cyntaf i ffeil.\n",
    "\n",
    "Gallwch ddefnyddio'r ffwythiant ffactorial a diffiniwyd yn y daflen lab yma (Ymarfer 1) neu gallwch ddefnyddio'r llyfrgell `math`: `math.factorial`.\n"
   ]
  },
  {
   "cell_type": "code",
   "execution_count": 20,
   "metadata": {
    "tags": [
     "solution"
    ]
   },
   "outputs": [],
   "source": [
    "import math  # Defnyddio'r fformiwla ffactorial o'r llyfrgell math\n",
    "\n",
    "def catalan_amgen(n):\n",
    "    \"\"\"Fformiwla amgen am y rhifau Catalan\"\"\"\n",
    "    return math.factorial(2 * n) / (math.factorial(n + 1) * math.factorial(n))"
   ]
  },
  {
   "cell_type": "markdown",
   "metadata": {
    "tags": [
     "solution"
    ]
   },
   "source": [
    "Dyma ffwythiant i wirio'r fformiwla:"
   ]
  },
  {
   "cell_type": "code",
   "execution_count": 21,
   "metadata": {
    "tags": [
     "solution"
    ]
   },
   "outputs": [],
   "source": [
    "def gwirio_fformiwla(n):\n",
    "    \"\"\"\n",
    "    Gwirio'r gwerth ar gyfer yr nfed rhif Catalan\n",
    "    \"\"\"\n",
    "    return  catalan(n) == catalan_amgen(n)"
   ]
  },
  {
   "cell_type": "markdown",
   "metadata": {
    "tags": [
     "solution"
    ]
   },
   "source": [
    "A gwiriwn yr 15 rhif cyntaf:"
   ]
  },
  {
   "cell_type": "code",
   "execution_count": 22,
   "metadata": {
    "tags": [
     "solution"
    ]
   },
   "outputs": [
    {
     "data": {
      "text/plain": [
       "True"
      ]
     },
     "execution_count": 22,
     "metadata": {},
     "output_type": "execute_result"
    }
   ],
   "source": [
    "gwiriadau = [gwirio_fformiwla(n) for n in range(15)]\n",
    "all(gwiriadau)  # Mae `all` yn cyfuno pob boolean mewn rhestr"
   ]
  },
  {
   "cell_type": "markdown",
   "metadata": {},
   "source": [
    "----\n",
    "\n",
    "### Ymarfer 4\n",
    "\n",
    "Mae'r ffeil `cysefin.csv` ([lawrlwytho](/{{root}}/nbs/cy/chapters/cysefin.csv)) yn cynnwys y filiwn rhif cysefin cyntaf. Defnyddiwch hwy i geisio gwirio [dyfaliad Goldbach](https://en.wikipedia.org/wiki/Goldbach%27s_conjecture)."
   ]
  },
  {
   "cell_type": "markdown",
   "metadata": {
    "tags": [
     "solution"
    ]
   },
   "source": [
    "Yn gyntaf gwiriwn ddyfaliad Goldbach yn defnyddio rhestr fach o rifau cysefin."
   ]
  },
  {
   "cell_type": "code",
   "execution_count": 23,
   "metadata": {
    "tags": [
     "solution"
    ]
   },
   "outputs": [],
   "source": [
    "rhifau_cysefin = [2, 3, 5, 7, 11]"
   ]
  },
  {
   "cell_type": "code",
   "execution_count": 24,
   "metadata": {
    "tags": [
     "solution"
    ]
   },
   "outputs": [],
   "source": [
    "def gwirio_goldbach(n, rhifau_cysefin):\n",
    "    \"\"\"\n",
    "    Gwirio bod n (os yw'n eilrif) yn gallu cael ei\n",
    "    ysgrifennu fel swm dau rhif yn `rhestr_cysefin`\n",
    "    \"\"\"\n",
    "    if n % 2 == 1:\n",
    "        # Os yw n yn od yna mae'r dyfaliad dal yn wir\n",
    "        return True\n",
    "    for c1 in rhifau_cysefin:\n",
    "        for c2 in rhifau_cysefin:\n",
    "            if c1 + c2 == n:\n",
    "                return True, c1, c2\n",
    "    # Os lwpiwn trwy'r holl rhifau cysefin a nad ydyn\n",
    "    # yn canfod y swm priodol yna nid yw'r dyfaliad yn wir\n",
    "    return False"
   ]
  },
  {
   "cell_type": "code",
   "execution_count": 25,
   "metadata": {
    "tags": [
     "solution"
    ]
   },
   "outputs": [
    {
     "data": {
      "text/plain": [
       "(True, 3, 3)"
      ]
     },
     "execution_count": 25,
     "metadata": {},
     "output_type": "execute_result"
    }
   ],
   "source": [
    "gwirio_goldbach(6, rhifau_cysefin)"
   ]
  },
  {
   "cell_type": "code",
   "execution_count": 26,
   "metadata": {
    "tags": [
     "solution"
    ]
   },
   "outputs": [
    {
     "data": {
      "text/plain": [
       "(True, 3, 7)"
      ]
     },
     "execution_count": 26,
     "metadata": {},
     "output_type": "execute_result"
    }
   ],
   "source": [
    "gwirio_goldbach(10, rhifau_cysefin)"
   ]
  },
  {
   "cell_type": "markdown",
   "metadata": {
    "tags": [
     "solution"
    ]
   },
   "source": [
    "Gallwn wirio cwpl o rifau fel gwnaethon ni uchod ond ar ôl bach ni fydd gennym ddigon o rifau cysefin, er enghraifft gyda \\\\(n = 20\\\\) cawn wall:"
   ]
  },
  {
   "cell_type": "code",
   "execution_count": 27,
   "metadata": {
    "tags": [
     "solution"
    ]
   },
   "outputs": [
    {
     "data": {
      "text/plain": [
       "False"
      ]
     },
     "execution_count": 27,
     "metadata": {},
     "output_type": "execute_result"
    }
   ],
   "source": [
    "gwirio_goldbach(20, rhifau_cysefin)"
   ]
  },
  {
   "cell_type": "markdown",
   "metadata": {
    "tags": [
     "solution"
    ]
   },
   "source": [
    "Nawr darllenwn ni'r nifer mawr o rifau cysefin:"
   ]
  },
  {
   "cell_type": "code",
   "execution_count": 28,
   "metadata": {
    "tags": [
     "solution"
    ]
   },
   "outputs": [],
   "source": [
    "with open(\"cysefin.csv\", 'r') as ffeilmas:\n",
    "    data = [int(cysefin) for cysefin in ffeilmas.read().split()]"
   ]
  },
  {
   "cell_type": "markdown",
   "metadata": {
    "tags": [
     "solution"
    ]
   },
   "source": [
    "Edrychwn ar y 10 cofnod olaf:"
   ]
  },
  {
   "cell_type": "code",
   "execution_count": 29,
   "metadata": {
    "tags": [
     "solution"
    ]
   },
   "outputs": [
    {
     "data": {
      "text/plain": [
       "[15485761,\n",
       " 15485773,\n",
       " 15485783,\n",
       " 15485801,\n",
       " 15485807,\n",
       " 15485837,\n",
       " 15485843,\n",
       " 15485849,\n",
       " 15485857,\n",
       " 15485863]"
      ]
     },
     "execution_count": 29,
     "metadata": {},
     "output_type": "execute_result"
    }
   ],
   "source": [
    "data[-10:]"
   ]
  },
  {
   "cell_type": "markdown",
   "metadata": {
    "tags": [
     "solution"
    ]
   },
   "source": [
    "Nawr gallwn gadarnhau nad yw \\\\(n=20\\\\) yn wrthenghraifft o ddyfaliad Goldbach:"
   ]
  },
  {
   "cell_type": "code",
   "execution_count": 30,
   "metadata": {
    "tags": [
     "solution"
    ]
   },
   "outputs": [
    {
     "data": {
      "text/plain": [
       "(True, 3, 17)"
      ]
     },
     "execution_count": 30,
     "metadata": {},
     "output_type": "execute_result"
    }
   ],
   "source": [
    "gwirio_goldbach(20, data)"
   ]
  },
  {
   "cell_type": "markdown",
   "metadata": {
    "tags": [
     "solution"
    ]
   },
   "source": [
    "Gwiriwn y 200 eilrif cyntaf:"
   ]
  },
  {
   "cell_type": "code",
   "execution_count": 31,
   "metadata": {
    "tags": [
     "solution"
    ]
   },
   "outputs": [],
   "source": [
    "cyfrif_uchaf = 200\n",
    "cyfrif = 0 \n",
    "n = 2\n",
    "bools = []\n",
    "while cyfrif < cyfrif_uchaf:\n",
    "    n += 1\n",
    "    if n % 2 == 0:\n",
    "        cyfrif += 1\n",
    "        bools.append(gwirio_goldbach(n, data)[0])  # Ychwanegu'r elfen cyntaf"
   ]
  },
  {
   "cell_type": "markdown",
   "metadata": {
    "tags": [
     "solution"
    ]
   },
   "source": [
    "A gwiriwn pob boolean:"
   ]
  },
  {
   "cell_type": "code",
   "execution_count": 32,
   "metadata": {
    "tags": [
     "solution"
    ]
   },
   "outputs": [
    {
     "data": {
      "text/plain": [
       "(True, 200)"
      ]
     },
     "execution_count": 32,
     "metadata": {},
     "output_type": "execute_result"
    }
   ],
   "source": [
    "all(bools), len(bools)"
   ]
  },
  {
   "cell_type": "markdown",
   "metadata": {
    "tags": [
     "solution"
    ]
   },
   "source": [
    "Galwn ni'r ymagwedd yma yn ymagwedd 'grym llym'. A allwch chi feddwl am ffordd fwy clyfar o ysgrifennu gwirio_goldbach?"
   ]
  },
  {
   "cell_type": "markdown",
   "metadata": {},
   "source": [
    "---\n",
    "# Adnoddau pellach\n",
    "\n",
    "- [A non programmers tutorial for Python: Recursion](https://en.wikibooks.org/wiki/Non-Programmer%27s_Tutorial_for_Python_3/Recursion)\n",
    "- [Tiwtorial neis gan 'The Python Course' ar ffwythiannau ailadroddol](http://www.python-course.eu/recursive_functions.php)\n",
    "- [Blog byr gan Joh Cook am ffwythiannau ailadroddol](http://www.johndcook.com/blog/2010/03/30/understanding-recursion/)\n",
    "- [Ysgrifennu a darllen ffeiliau csv gyda'r llyfrgell csv](https://pymotw.com/3/csv/)\n",
    "- [Dogfennaeth ar gyfer y ffwythiant 'cache' yn Python 3](https://docs.python.org/3/library/functools.html#functools.lru_cache)"
   ]
  },
  {
   "cell_type": "code",
   "execution_count": null,
   "metadata": {},
   "outputs": [],
   "source": []
  }
 ],
 "metadata": {
  "anaconda-cloud": {},
  "celltoolbar": "Tags",
  "kernelspec": {
   "display_name": "Python 3",
   "language": "python",
   "name": "python3"
  },
  "language_info": {
   "codemirror_mode": {
    "name": "ipython",
    "version": 3
   },
   "file_extension": ".py",
   "mimetype": "text/x-python",
   "name": "python",
   "nbconvert_exporter": "python",
   "pygments_lexer": "ipython3",
   "version": "3.6.5"
  }
 },
 "nbformat": 4,
 "nbformat_minor": 2
}
