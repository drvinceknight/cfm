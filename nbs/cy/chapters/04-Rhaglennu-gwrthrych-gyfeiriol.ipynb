{
 "cells": [
  {
   "cell_type": "markdown",
   "metadata": {},
   "source": [
    "## Pennod 04: Rhaglennu Gwrthrych-Gyfeiriadol\n",
    "\n",
    "Mae'r daflen lab yma yn cyflwyno rhaglennu gwrthrych-gyfeiriadol. Rydym wedi defnyddio rhaglennu gwerthrych-gyfeiriadol trwy gydol y taflennu lab. Fan hyn byddwn yn dysgu sut i greu gwrthrychau ein hunain (bydd yr hyn mae hwn yn golygu yn dod yn eglur cyn bo hir)."
   ]
  },
  {
   "cell_type": "markdown",
   "metadata": {},
   "source": [
    "## Tiwtorial\n",
    "\n",
    "Gweithiwch trwy'r canlynol:\n",
    "\n",
    "---\n",
    "\n",
    "### 1. Ysgrifennu dosbarth.\n",
    "\n",
    "[Fideo yn disgrifio'r cysyniad.](https://youtu.be/-58By9KGWX4)\n",
    "\n",
    "[Fideo demo.](https://youtu.be/kcGzJ52MZNU)\n",
    "\n",
    "Y prif syniad tu ôl i raglennu gwrthrych-gyfeiriadol (OOP) yw creu strwythurau haniaethol felly nid oes angen poeni am ddata. Alan Kay daeth i fyny gyda'r cysyniad, a dyfynnwyd yn dweud: 'I wanted to get rid of data'. Yn lle cadw trac ar newidynnau trwy ddefnyddio rhestrau ac araeau ac ysgrifennu ffwythiannau penodol ar gyfer pob gweithrediad, gallwn geisio defnyddio system yn debyg i strwythur cell mewn bioleg:\n",
    "\n",
    "![Bioleg](/{{root}}/img/biology.png)\n",
    "\n",
    "Mae'r ddelwedd yma yn dangos amryw o bethau byddwn yn ystyried yn y daflen lab yma:\n",
    "\n",
    "![Dosbarthau](/{{root}}/img/classes.png)\n",
    "\n",
    "Mae creu dosbarth yn Python yn debyg i greu ffwythiant: rydym yn ysgrifennu lawr y rheolau:"
   ]
  },
  {
   "cell_type": "code",
   "execution_count": 1,
   "metadata": {},
   "outputs": [],
   "source": [
    "class Myfyriwr:\n",
    "    \"\"\"Dosbarth sylfaenol\"\"\""
   ]
  },
  {
   "cell_type": "markdown",
   "metadata": {},
   "source": [
    "Yna gallwn greu 'achosion' o'r dosbarth yma:"
   ]
  },
  {
   "cell_type": "code",
   "execution_count": 2,
   "metadata": {
    "tags": [
     "nbval-ignore-output"
    ]
   },
   "outputs": [
    {
     "data": {
      "text/plain": [
       "<__main__.Myfyriwr at 0x11296e048>"
      ]
     },
     "execution_count": 2,
     "metadata": {},
     "output_type": "execute_result"
    }
   ],
   "source": [
    "vince = Myfyriwr()\n",
    "zoe = Myfyriwr()\n",
    "vince"
   ]
  },
  {
   "cell_type": "code",
   "execution_count": 3,
   "metadata": {
    "tags": [
     "nbval-ignore-output"
    ]
   },
   "outputs": [
    {
     "data": {
      "text/plain": [
       "<__main__.Myfyriwr at 0x112452fd0>"
      ]
     },
     "execution_count": 3,
     "metadata": {},
     "output_type": "execute_result"
    }
   ],
   "source": [
    "zoe"
   ]
  },
  {
   "cell_type": "markdown",
   "metadata": {},
   "source": [
    "Mae'r `at ...` yn bwyntydd i leoliad yr achos yma yn gof y cyfrifiadur. Os ail-rhedwn y cod yna bydd y lleoliad yna yn newid.\n",
    "\n",
    "Rydym ni wedi gweld enghreifftiau o ddosbarthiadau yn barod yn Python:\n",
    "\n",
    "- Cyfanrifau;\n",
    "- Strings;\n",
    "- Rhestrau.\n",
    "\n",
    "Mae llawer mwy, a byddwn yn gweld sut i adeiladu un ein hunain.\n",
    "\n",
    "**Arbrofwch gyda chreu achos o'r dosbarth Myfyriwr**\n",
    "\n",
    "\n",
    "### 2. Priodweddau\n",
    "\n",
    "[Fideo yn disgrifio'r cysyniad.](https://youtu.be/TDErnRv0SP8)\n",
    "\n",
    "[Fideo demo.](https://youtu.be/c05rLmFf-Xk)\n",
    "\n",
    "Nid yw'r dosbarth uchod yn ddefnyddiol iawn. Nawr gwelwn sut i wneud i'n wrthrychau 'gafael' ar wybodaeth. Mae'r cod canlynol yn ail-greu ein dosbarth Myfyriwr blaenorol ond gan roi'r dosbarth rhai 'briodweddau':"
   ]
  },
  {
   "cell_type": "code",
   "execution_count": 4,
   "metadata": {},
   "outputs": [],
   "source": [
    "class Myfyriwr:\n",
    "    cyrsiau = ['Bioleg', 'Mathemateg', 'Saesneg']\n",
    "    oedran = 12\n",
    "    rhyw = \"Benyw\""
   ]
  },
  {
   "cell_type": "markdown",
   "metadata": {},
   "source": [
    "Nawr mae gan y dosbarth ei hun bach o wybodaeth:"
   ]
  },
  {
   "cell_type": "code",
   "execution_count": 5,
   "metadata": {},
   "outputs": [
    {
     "data": {
      "text/plain": [
       "12"
      ]
     },
     "execution_count": 5,
     "metadata": {},
     "output_type": "execute_result"
    }
   ],
   "source": [
    "Myfyriwr.oedran"
   ]
  },
  {
   "cell_type": "markdown",
   "metadata": {},
   "source": [
    "Pasiwyd y wybodaeth yma i unrhyw achos o'r dosbarth:"
   ]
  },
  {
   "cell_type": "code",
   "execution_count": 6,
   "metadata": {},
   "outputs": [
    {
     "data": {
      "text/plain": [
       "['Bioleg', 'Mathemateg', 'Saesneg']"
      ]
     },
     "execution_count": 6,
     "metadata": {},
     "output_type": "execute_result"
    }
   ],
   "source": [
    "vince = Myfyriwr()\n",
    "vince.cyrsiau"
   ]
  },
  {
   "cell_type": "code",
   "execution_count": 7,
   "metadata": {},
   "outputs": [
    {
     "data": {
      "text/plain": [
       "12"
      ]
     },
     "execution_count": 7,
     "metadata": {},
     "output_type": "execute_result"
    }
   ],
   "source": [
    "vince.oedran"
   ]
  },
  {
   "cell_type": "code",
   "execution_count": 8,
   "metadata": {},
   "outputs": [
    {
     "data": {
      "text/plain": [
       "'Benyw'"
      ]
     },
     "execution_count": 8,
     "metadata": {},
     "output_type": "execute_result"
    }
   ],
   "source": [
    "vince.rhyw"
   ]
  },
  {
   "cell_type": "markdown",
   "metadata": {},
   "source": [
    "Gallwn ddefnyddio ac/neu newid y priodweddau yma yn union fel unrhyw newidyn Python arall:"
   ]
  },
  {
   "cell_type": "code",
   "execution_count": 9,
   "metadata": {},
   "outputs": [
    {
     "data": {
      "text/plain": [
       "13"
      ]
     },
     "execution_count": 9,
     "metadata": {},
     "output_type": "execute_result"
    }
   ],
   "source": [
    "vince.oedran += 1\n",
    "vince.oedran"
   ]
  },
  {
   "cell_type": "code",
   "execution_count": 10,
   "metadata": {},
   "outputs": [
    {
     "data": {
      "text/plain": [
       "'Gwryw'"
      ]
     },
     "execution_count": 10,
     "metadata": {},
     "output_type": "execute_result"
    }
   ],
   "source": [
    "vince.rhyw = 'Gwryw'\n",
    "vince.rhyw"
   ]
  },
  {
   "cell_type": "code",
   "execution_count": 11,
   "metadata": {},
   "outputs": [
    {
     "data": {
      "text/plain": [
       "['Bioleg', 'Mathemateg', 'Saesneg', 'Cemeg']"
      ]
     },
     "execution_count": 11,
     "metadata": {},
     "output_type": "execute_result"
    }
   ],
   "source": [
    "vince.cyrsiau.append('Cemeg')\n",
    "vince.cyrsiau"
   ]
  },
  {
   "cell_type": "markdown",
   "metadata": {},
   "source": [
    "**Crëwch achosion gyda phriodweddau ac arbrofwch gyda nhw.**"
   ]
  },
  {
   "cell_type": "markdown",
   "metadata": {},
   "source": [
    "### 3. Dulliau\n",
    "\n",
    "[Fideo yn disgrifio'r cysyniad.](https://youtu.be/dKS18fQVPxY)\n",
    "\n",
    "[Fideo demo.](https://youtu.be/6AGuxUC2LUE)\n",
    "\n",
    "Nawr byddwn yn gweld sut i wneud i ddosbarthiadau 'gwneud' pethau. Fe elwir y rhain yn 'dulliau' a jyst ffwythiannau ydynt sydd 'ynghlwm' a'r dosbarthau."
   ]
  },
  {
   "cell_type": "code",
   "execution_count": 12,
   "metadata": {},
   "outputs": [
    {
     "data": {
      "text/plain": [
       "13"
      ]
     },
     "execution_count": 12,
     "metadata": {},
     "output_type": "execute_result"
    }
   ],
   "source": [
    "class Myfyriwr:\n",
    "    \"\"\"Dosbarth i gynrychioli myfyriwr\"\"\"\n",
    "    cyrsiau = ['Bioleg', 'Mathemateg', 'Saesneg']\n",
    "    oedran = 12\n",
    "    rhyw = \"Female\"\n",
    "    def cael_penblwydd(self, blynyddoedd=1):\n",
    "        \"\"\"Cynyddu'r oedran\"\"\"\n",
    "        self.oedran += blynyddoedd  # Mae 'self' yn cyfateb a'r achos\n",
    "vince = Myfyriwr()\n",
    "vince.cael_penblwydd()\n",
    "vince.oedran"
   ]
  },
  {
   "cell_type": "code",
   "execution_count": 13,
   "metadata": {},
   "outputs": [
    {
     "data": {
      "text/plain": [
       "23"
      ]
     },
     "execution_count": 13,
     "metadata": {},
     "output_type": "execute_result"
    }
   ],
   "source": [
    "vince.cael_penblwydd(blynyddoedd=10)\n",
    "vince.oedran"
   ]
  },
  {
   "cell_type": "markdown",
   "metadata": {},
   "source": [
    "Mae nifer o enwau dull 'arbennig' sy'n ymddwyn mewn ffordd benodol.\n",
    "Un o rain yw `__init__`, ac mae'r dull yma yn cael ei alw ar y foment crëir yr achos ('initialised'):"
   ]
  },
  {
   "cell_type": "code",
   "execution_count": 14,
   "metadata": {},
   "outputs": [],
   "source": [
    "class Myfyriwr:\n",
    "    \"\"\"Dosbarth i gynrychioli myfyriwr\"\"\"\n",
    "    def __init__(self, cyrsiau, oedran, rhyw):\n",
    "        self.cyrsiau = cyrsiau\n",
    "        self.oedran = oedran\n",
    "        self.rhyw = rhyw\n",
    "    def cael_penblwydd(self, blynyddoedd=1):\n",
    "        \"\"\"Cynyddu'r oedran\"\"\"\n",
    "        self.oedran += blynyddoedd  # Mae 'self' yn cyfateb a'r achos"
   ]
  },
  {
   "cell_type": "markdown",
   "metadata": {},
   "source": [
    "Nawr mae'n hawdd creu achos gyda rhyw briodweddau penodol:"
   ]
  },
  {
   "cell_type": "code",
   "execution_count": 15,
   "metadata": {},
   "outputs": [
    {
     "data": {
      "text/plain": [
       "(['Maths'], 32, 'Gwryw')"
      ]
     },
     "execution_count": 15,
     "metadata": {},
     "output_type": "execute_result"
    }
   ],
   "source": [
    "vince = Myfyriwr([\"Maths\"], 32, \"Gwryw\")\n",
    "zoe = Myfyriwr([\"Bioleg\"], 31, \"Benyw\")\n",
    "vince.cyrsiau, vince.oedran, vince.rhyw"
   ]
  },
  {
   "cell_type": "code",
   "execution_count": 16,
   "metadata": {},
   "outputs": [
    {
     "data": {
      "text/plain": [
       "(['Bioleg'], 31, 'Benyw')"
      ]
     },
     "execution_count": 16,
     "metadata": {},
     "output_type": "execute_result"
    }
   ],
   "source": [
    "zoe.cyrsiau, zoe.oedran, zoe.rhyw"
   ]
  },
  {
   "cell_type": "markdown",
   "metadata": {},
   "source": [
    "Mae nifer o ddulliau 'arbennig' eraill, byddwn yn gweld un ohonynt yn yr enghraifft weithredol.\n",
    "\n",
    "**Crëwch achosion o'r dosbarth Myfyriwr gyda'r dulliau newydd yma.**"
   ]
  },
  {
   "cell_type": "markdown",
   "metadata": {},
   "source": [
    "### 4. Etifeddiaeth\n",
    "\n",
    "[Fideo yn disgrifio'r cysyniad.](https://youtu.be/f3Wh4MDEog8)\n",
    "\n",
    "[Fideo demo.](https://youtu.be/fg4krAA5QXg)\n",
    "\n",
    "Un agwedd olaf (ond bwysig iawn) o raglennu gwrthrych-gyfeiriadol yw'r cysyniad o etifeddiaeth. Mae hwn yn galluogi ni i greu dosbarthau newydd o rhai eraill. Yn ymarferol mae hwn yn arbed dyblygu cod oherwydd gallwn newid ond rhai dulliau fel sydd angen.\n",
    "\n",
    "I wneud hwn rydym yn creu dosbarth newydd fel arfer ond trwy basio'r hen ddosbarth iddo:\n",
    "\n",
    "```python\n",
    "   class DosbarthNewydd(HenDdosbarth):\n",
    "       ...\n",
    "   ```\n",
    "\n",
    "Er enghraifft, gadewch i ni greu myfyriwr sydd â phen-blwydd ar Chwefror 29 (dyddiad sydd ond yn digwydd unwaith pob 4 blwyddyn):\n"
   ]
  },
  {
   "cell_type": "code",
   "execution_count": 17,
   "metadata": {},
   "outputs": [],
   "source": [
    "class MyfyriwrBlwyddynNaid(Myfyriwr):\n",
    "    \"\"\"Dosbarth ar gyfer myfyriwr a chafodd ei eni ar Chwefror 29\"\"\"\n",
    "    # Nodwch does dim angen ailysgrifennu'r dull init\n",
    "    def cael_penblwydd(self, blynyddoedd=1):\n",
    "        self.oedran += int(blynyddoedd / 4)\n",
    "    def cwyno(self):\n",
    "        \"\"\"Allbynnu string yn cwyno am ei phenblwydd\"\"\"\n",
    "        # MAe hwn yn dull newydd nad oes gan y dosbarth Myfyriwr\n",
    "        return \"Dymunaf ni chefais fy ngeni ar Chwef 29\""
   ]
  },
  {
   "cell_type": "markdown",
   "metadata": {},
   "source": [
    "Dyma sut mae'r dosbarth newydd yn ymddwyn:"
   ]
  },
  {
   "cell_type": "code",
   "execution_count": 18,
   "metadata": {},
   "outputs": [
    {
     "data": {
      "text/plain": [
       "22"
      ]
     },
     "execution_count": 18,
     "metadata": {},
     "output_type": "execute_result"
    }
   ],
   "source": [
    "geraint = MyfyriwrBlwyddynNaid([\"Maths\"], 22, \"Gwryw\")\n",
    "geraint.cael_penblwydd()\n",
    "geraint.oedran  # Dal yn 22"
   ]
  },
  {
   "cell_type": "code",
   "execution_count": 19,
   "metadata": {},
   "outputs": [
    {
     "data": {
      "text/plain": [
       "24"
      ]
     },
     "execution_count": 19,
     "metadata": {},
     "output_type": "execute_result"
    }
   ],
   "source": [
    "geraint.cael_penblwydd(8)\n",
    "geraint.oedran"
   ]
  },
  {
   "cell_type": "code",
   "execution_count": 20,
   "metadata": {},
   "outputs": [
    {
     "data": {
      "text/plain": [
       "'Dymunaf ni chefais fy ngeni ar Chwef 29'"
      ]
     },
     "execution_count": 20,
     "metadata": {},
     "output_type": "execute_result"
    }
   ],
   "source": [
    "geraint.cwyno()"
   ]
  },
  {
   "cell_type": "markdown",
   "metadata": {},
   "source": [
    "**Arbrofwch gyda'r cod uchod: sut bydd yn gweithio os oedd blwyddyn nai pob 3 blwyddyn?**"
   ]
  },
  {
   "cell_type": "markdown",
   "metadata": {},
   "source": [
    "---\n",
    "\n",
    "### Enghraifft weithredol\n",
    "\n",
    "[Fideo yn disgrifio'r cysyniad.](https://youtu.be/nlIz2QtBCTk)\n",
    "\n",
    "[Fideo demo.](https://youtu.be/BRLbh-6QU_Q)\n",
    "\n",
    "Tybiwch rydym ni eisiau astudio mynegiannau llinol. Mae'r mynegiannau ar ffurf:\n",
    "\n",
    "\\\\[\n",
    "    ax+b\n",
    "\\\\]\n",
    "\n",
    "Mae gennym ddiddordeb, er enghraifft, yn y gwerth \\\\(x\\\\) lle mae'r mynegiant llinol yn 0. Fe elwir hwn yn 'gwraidd' ac mae'n ddatrysiad i'r hafaliad canlynol:\n",
    "\n",
    "\\\\[\n",
    "    ax+b=0\n",
    "\\\\]\n",
    "\n",
    "Yn amlwg mae hwn yn beth hawdd i'w astudio ond tybiwn fod e ddim, ac adeiladwn ddosbarth i gynrychioli a thrin mynegiannau llinol."
   ]
  },
  {
   "cell_type": "code",
   "execution_count": 21,
   "metadata": {},
   "outputs": [],
   "source": [
    "class MynegiantLlinol:\n",
    "    \"\"\"Dosbarth ar gyfer mynegiant llinol\"\"\"\n",
    "    def __init__(self, a, b):\n",
    "        self.a = a\n",
    "        self.b = b\n",
    "    \n",
    "    def gwraidd(self):\n",
    "        \"\"\"Allbynnu gwraidd y mynegiant llinol\"\"\"\n",
    "        return - self.b / self.a\n",
    "    \n",
    "    def __add__(self, mynegiant):\n",
    "        \"\"\"Dull arbennig: yn galluogi ni i adio mynegiannau\"\"\"\n",
    "        return MynegiantLlinol(self.a + mynegiant.a, self.b + mynegiant.b)\n",
    "\n",
    "    def __repr__(self):\n",
    "        \"\"\"Dull arbennig: yn newid sut arddangosir yr achos\"\"\"\n",
    "        return \"Mynegiant llinol: \" + str(self.a) + \"x + \" + str(self.b)"
   ]
  },
  {
   "cell_type": "code",
   "execution_count": 22,
   "metadata": {},
   "outputs": [
    {
     "data": {
      "text/plain": [
       "Mynegiant llinol: 2x + 4"
      ]
     },
     "execution_count": 22,
     "metadata": {},
     "output_type": "execute_result"
    }
   ],
   "source": [
    "myn = MynegiantLlinol(2, 4)\n",
    "myn  # rhoddir yr allwbn yma gan y dull '__repr__'"
   ]
  },
  {
   "cell_type": "code",
   "execution_count": 23,
   "metadata": {},
   "outputs": [
    {
     "data": {
      "text/plain": [
       "2"
      ]
     },
     "execution_count": 23,
     "metadata": {},
     "output_type": "execute_result"
    }
   ],
   "source": [
    "myn.a"
   ]
  },
  {
   "cell_type": "code",
   "execution_count": 24,
   "metadata": {},
   "outputs": [
    {
     "data": {
      "text/plain": [
       "4"
      ]
     },
     "execution_count": 24,
     "metadata": {},
     "output_type": "execute_result"
    }
   ],
   "source": [
    "myn.b"
   ]
  },
  {
   "cell_type": "code",
   "execution_count": 25,
   "metadata": {},
   "outputs": [
    {
     "data": {
      "text/plain": [
       "-2.0"
      ]
     },
     "execution_count": 25,
     "metadata": {},
     "output_type": "execute_result"
    }
   ],
   "source": [
    "myn.gwraidd()"
   ]
  },
  {
   "cell_type": "code",
   "execution_count": 26,
   "metadata": {},
   "outputs": [
    {
     "data": {
      "text/plain": [
       "Mynegiant llinol: 5x + -2"
      ]
     },
     "execution_count": 26,
     "metadata": {},
     "output_type": "execute_result"
    }
   ],
   "source": [
    "myn2 = MynegiantLlinol(5, -2)\n",
    "myn2"
   ]
  },
  {
   "cell_type": "code",
   "execution_count": 27,
   "metadata": {},
   "outputs": [
    {
     "data": {
      "text/plain": [
       "Mynegiant llinol: 7x + 2"
      ]
     },
     "execution_count": 27,
     "metadata": {},
     "output_type": "execute_result"
    }
   ],
   "source": [
    "myn + myn2  # Mae hwn yn gweithio oherwydd y dull `__add__`"
   ]
  },
  {
   "cell_type": "markdown",
   "metadata": {},
   "source": [
    "Mae'r dosbarth yma yn gweithio'r iawn, ond rydym yn gweld problem yn eithaf cloi:"
   ]
  },
  {
   "cell_type": "code",
   "execution_count": 28,
   "metadata": {},
   "outputs": [
    {
     "data": {
      "text/plain": [
       "Mynegiant llinol: 0x + 8"
      ]
     },
     "execution_count": 28,
     "metadata": {},
     "output_type": "execute_result"
    }
   ],
   "source": [
    "myn1 = MynegiantLlinol(2, 4)\n",
    "myn2 = MynegiantLlinol(-2, 4)\n",
    "myn3 = myn1 + myn2\n",
    "myn3"
   ]
  },
  {
   "cell_type": "code",
   "execution_count": 29,
   "metadata": {
    "tags": [
     "nbval-output-ignore",
     "raises-exception"
    ]
   },
   "outputs": [
    {
     "ename": "ZeroDivisionError",
     "evalue": "division by zero",
     "output_type": "error",
     "traceback": [
      "\u001b[0;31m---------------------------------------------------------------------------\u001b[0m",
      "\u001b[0;31mZeroDivisionError\u001b[0m                         Traceback (most recent call last)",
      "\u001b[0;32m<ipython-input-29-e15c207507f7>\u001b[0m in \u001b[0;36m<module>\u001b[0;34m()\u001b[0m\n\u001b[0;32m----> 1\u001b[0;31m \u001b[0mmyn3\u001b[0m\u001b[0;34m.\u001b[0m\u001b[0mgwraidd\u001b[0m\u001b[0;34m(\u001b[0m\u001b[0;34m)\u001b[0m\u001b[0;34m\u001b[0m\u001b[0m\n\u001b[0m",
      "\u001b[0;32m<ipython-input-21-74e7a72ae826>\u001b[0m in \u001b[0;36mgwraidd\u001b[0;34m(self)\u001b[0m\n\u001b[1;32m      7\u001b[0m     \u001b[0;32mdef\u001b[0m \u001b[0mgwraidd\u001b[0m\u001b[0;34m(\u001b[0m\u001b[0mself\u001b[0m\u001b[0;34m)\u001b[0m\u001b[0;34m:\u001b[0m\u001b[0;34m\u001b[0m\u001b[0m\n\u001b[1;32m      8\u001b[0m         \u001b[0;34m\"\"\"Allbynnu gwraidd y mynegiant llinol\"\"\"\u001b[0m\u001b[0;34m\u001b[0m\u001b[0m\n\u001b[0;32m----> 9\u001b[0;31m         \u001b[0;32mreturn\u001b[0m \u001b[0;34m-\u001b[0m \u001b[0mself\u001b[0m\u001b[0;34m.\u001b[0m\u001b[0mb\u001b[0m \u001b[0;34m/\u001b[0m \u001b[0mself\u001b[0m\u001b[0;34m.\u001b[0m\u001b[0ma\u001b[0m\u001b[0;34m\u001b[0m\u001b[0m\n\u001b[0m\u001b[1;32m     10\u001b[0m \u001b[0;34m\u001b[0m\u001b[0m\n\u001b[1;32m     11\u001b[0m     \u001b[0;32mdef\u001b[0m \u001b[0m__add__\u001b[0m\u001b[0;34m(\u001b[0m\u001b[0mself\u001b[0m\u001b[0;34m,\u001b[0m \u001b[0mmynegiant\u001b[0m\u001b[0;34m)\u001b[0m\u001b[0;34m:\u001b[0m\u001b[0;34m\u001b[0m\u001b[0m\n",
      "\u001b[0;31mZeroDivisionError\u001b[0m: division by zero"
     ]
    }
   ],
   "source": [
    "myn3.gwraidd()"
   ]
  },
  {
   "cell_type": "markdown",
   "metadata": {},
   "source": [
    "Cawn wall gan fod y dull `gwraidd` yn ceisio rhannu gyda sero.\n",
    "Cywirwn ni hwn:"
   ]
  },
  {
   "cell_type": "code",
   "execution_count": 30,
   "metadata": {},
   "outputs": [],
   "source": [
    "class MynegiantLlinol:\n",
    "    \"\"\"Dosbarth ar gyfer mynegiant llinol\"\"\"\n",
    "    def __init__(self, a, b):\n",
    "        self.a = a\n",
    "        self.b = b\n",
    "    \n",
    "    def gwraidd(self):\n",
    "        \"\"\"Allbynnu gwraidd y mynegiant llinol\"\"\"\n",
    "        if self.a != 0:\n",
    "            return - self.b / self.a\n",
    "        return False\n",
    "    \n",
    "    def __add__(self, mynegiant):\n",
    "        \"\"\"Dull arbennig: yn galluogi ni i adio mynegiannau\"\"\"\n",
    "        return MynegiantLlinol(self.a + mynegiant.a, self.b + mynegiant.b)\n",
    "\n",
    "    def __repr__(self):\n",
    "        \"\"\"Dull arbennig: yn newid sut arddangosir yr achos\"\"\"\n",
    "        return \"Mynegiant llinol: \" + str(self.a) + \"x + \" + str(self.b)"
   ]
  },
  {
   "cell_type": "code",
   "execution_count": 31,
   "metadata": {},
   "outputs": [
    {
     "data": {
      "text/plain": [
       "False"
      ]
     },
     "execution_count": 31,
     "metadata": {},
     "output_type": "execute_result"
    }
   ],
   "source": [
    "myn3 = MynegiantLlinol(0, 8)\n",
    "myn3.gwraidd()"
   ]
  },
  {
   "cell_type": "markdown",
   "metadata": {},
   "source": [
    "Defnyddiwn ni hwn i wirio'r faith syml canlynol. Os yw \\\\(f(x) =\n",
    "a_1x+b_1\\\\) ac \\\\(g(x) = a_2x+b_2\\\\), yna rhoddir gwraidd \\\\(f(x) + g(x)\\\\) gan:\n",
    "\n",
    "\\\\[\n",
    "    \\frac{a_1x_1 + a_2x_2}{a_1+a_2}\n",
    "\\\\]\n",
    "\n",
    "Lle \\\\(x_1\\\\) yw gwraidd \\\\(f\\\\) ac \\\\(x_2\\\\) yw gwraidd \\\\(g\\\\) (os ydynt yn bodoli).\n",
    "\n",
    "Yn gyntaf ysgrifennwn ffwythiant sy'n gwirio hwn ar gyfer rhyw set o\n",
    "\\\\(a_1, a_2, b_1, b_2\\\\)."
   ]
  },
  {
   "cell_type": "code",
   "execution_count": 32,
   "metadata": {},
   "outputs": [
    {
     "data": {
      "text/plain": [
       "True"
      ]
     },
     "execution_count": 32,
     "metadata": {},
     "output_type": "execute_result"
    }
   ],
   "source": [
    "def gwirio_canlyniad(a1, a2, b1, b2):\n",
    "    \"\"\"Gwirio bod y canlyniad wedi bodloni\"\"\"\n",
    "    f = MynegiantLlinol(a1, b1)\n",
    "    g = MynegiantLlinol(a2, b2)\n",
    "    k = f + g\n",
    "    x1 = f.gwraidd()\n",
    "    x2 = g.gwraidd()\n",
    "    x3 = k.gwraidd()\n",
    "    if (x1 is not False) and (x2 is not False) and (x3 is not False):\n",
    "        # Yn tybio bod gennym tair mynegiant ar gyfer y gwraidd\n",
    "        return (a1 * x1 + a2 * x2) / (a1 + a2) == x3\n",
    "    return True  # Os nad oes gan f, g gwreiddiau mae'r perthynas dal yn wir\n",
    "gwirio_canlyniad(2, 3, 4, 5)"
   ]
  },
  {
   "cell_type": "markdown",
   "metadata": {},
   "source": [
    "Byddwn yn gwirio hwn trwy samplu hap-werthoedd ar gyfer  \\\\(a_1, a_2, b_1, b_2\\\\)."
   ]
  },
  {
   "cell_type": "code",
   "execution_count": 33,
   "metadata": {},
   "outputs": [
    {
     "data": {
      "text/plain": [
       "True"
      ]
     },
     "execution_count": 33,
     "metadata": {},
     "output_type": "execute_result"
    }
   ],
   "source": [
    "import random  # Mewnforio'r modiwl random\n",
    "N = 1000  # Nifer o samplau\n",
    "gwiriadau = []\n",
    "for _ in range(N):\n",
    "    a1 = random.randint(-10, 10)\n",
    "    a2 = random.randint(-10, 10)\n",
    "    b1 = random.randint(-10, 10)\n",
    "    b2 = random.randint(-10, 10)\n",
    "    gwiriadau.append(gwirio_canlyniad(a1, a2, b1, b2))\n",
    "all(gwiriadau)"
   ]
  },
  {
   "cell_type": "markdown",
   "metadata": {},
   "source": [
    "---\n",
    "\n",
    "## Ymarferion\n",
    "\n",
    "Dyma nifer o ymarferion sy'n bosib eu cwblhau trwy ddefnyddio'r cysyniadau a thrafodwyd:\n",
    "\n",
    "- Dosbarthau: creu set o reolau sy'n disgrifio rhyw \"peth\" haniaethol\n",
    "- Priodweddau: newidynnau ar ddosbarth\n",
    "- Dulliau: ffwythiannau ar ddosbarth\n",
    "- Etifeddiaeth: creu dosbarthau newydd o rhai hen"
   ]
  },
  {
   "cell_type": "markdown",
   "metadata": {},
   "source": [
    "---\n",
    "\n",
    "### Ymarfer 1\n",
    "\n",
    "**Ymarfer datbygio**\n",
    "   \n",
    "   Mae'r canlynol yn gais i ysgrifennu dosbarth ar gyfer petryal,\n",
    "   canfyddwch a chywirwch yr holl fygs.\n",
    "   \n",
    "   ```python\n",
    "   class Petryal:\n",
    "       \"\"\"Dosbarth ar gyfer petryal\"\"\n",
    "\n",
    "       def __init__(lled, hyd)\n",
    "           self.lled = lled\n",
    "           self.hyd = lled\n",
    "\n",
    "       def cael_arwynebedd(self:\n",
    "           \"\"\"Cael arwynebedd y petryal\"\"\"\n",
    "           return self.lled * self.hyd\n",
    "\n",
    "       def yn_sgwar():\n",
    "           \"\"\"Gwirio os yw'r petryal yn sgwar\"\"\"\n",
    "           return self.lled == self.hyd\n",
    "\n",
    "   ```"
   ]
  },
  {
   "cell_type": "code",
   "execution_count": 34,
   "metadata": {
    "tags": [
     "solution"
    ]
   },
   "outputs": [],
   "source": [
    "class Petryal:\n",
    "    # \"\"\"Dosbarth ar gyfer petryal\"\"  Nifer anghywir o \"\n",
    "    \"\"\"Dosbarth ar gyfer petryal\"\"\"\n",
    "    #def __init__(lled, hyd)  Does dim self nac :\n",
    "    def __init__(self, lled, hyd):\n",
    "        self.lled = lled\n",
    "        #self.hyd = lled  # Aseiniad anghywir\n",
    "        self.hyd = hyd\n",
    "    #def cael_arwynebedd(self:  Cromfach ar goll\n",
    "    def cael_arwynebedd(self):\n",
    "        \"\"\"Cael arwynebedd y petryal\"\"\"\n",
    "        return self.lled * self.hyd\n",
    "    #def yn_sgwar():  Does dim self\n",
    "    def yn_sgwar(self):\n",
    "        \"\"\"Gwirio os yw'r petryal yn sgwar\"\"\"\n",
    "        return self.lled == self.hyd"
   ]
  },
  {
   "cell_type": "markdown",
   "metadata": {
    "tags": [
     "solution"
    ]
   },
   "source": [
    "Creu petryal nad yw'n sgwâr:"
   ]
  },
  {
   "cell_type": "code",
   "execution_count": 35,
   "metadata": {
    "tags": [
     "solution"
    ]
   },
   "outputs": [
    {
     "data": {
      "text/plain": [
       "(20, False)"
      ]
     },
     "execution_count": 35,
     "metadata": {},
     "output_type": "execute_result"
    }
   ],
   "source": [
    "petryal = Petryal(5, 4)\n",
    "petryal.cael_arwynebedd(), petryal.yn_sgwar()"
   ]
  },
  {
   "cell_type": "markdown",
   "metadata": {
    "tags": [
     "solution"
    ]
   },
   "source": [
    "Creu petryal sgwâr:"
   ]
  },
  {
   "cell_type": "code",
   "execution_count": 36,
   "metadata": {
    "tags": [
     "solution"
    ]
   },
   "outputs": [
    {
     "data": {
      "text/plain": [
       "(9, True)"
      ]
     },
     "execution_count": 36,
     "metadata": {},
     "output_type": "execute_result"
    }
   ],
   "source": [
    "sgwar = Petryal(3, 3)\n",
    "sgwar.cael_arwynebedd(), sgwar.yn_sgwar()"
   ]
  },
  {
   "cell_type": "markdown",
   "metadata": {},
   "source": [
    "---\n",
    "\n",
    "### Ymarfer 2\n",
    "\n",
    "Adeiladwch ddosbarth ar gyfer y mynegiant cwadratig:\n",
    "\n",
    "\\\\[ax^2+bx+c\\\\]\n",
    "\n",
    "Fe ddylai cynnwys dull i adio dau fynegiant cwadratig gyda'i gilydd a hefyd i gyfrifo gwreiddiau'r mynegiant."
   ]
  },
  {
   "cell_type": "code",
   "execution_count": 37,
   "metadata": {
    "tags": [
     "solution"
    ]
   },
   "outputs": [],
   "source": [
    "import math\n",
    "\n",
    "class MynegiantCwadratig:\n",
    "    \"\"\"Dosbarth ar gyfer mynegiant cwadratig\"\"\"\n",
    "    def __init__(self, a, b, c):\n",
    "        self.a = a\n",
    "        self.b = b\n",
    "        self.c = c\n",
    "    def gwraidd(self):\n",
    "        \"\"\"Allbynnu gwreiddiau'r mynegiant cwadratig\"\"\"\n",
    "        gwahanolyn = self.b ** 2 - 4 * self.a * self.c\n",
    "        if gwahanolyn >= 0:\n",
    "            x1 = - (self.b + math.sqrt(gwahanolyn))/ (2 * self.a)\n",
    "            x2 = - (self.b - math.sqrt(gwahanolyn))/ (2 * self.a)\n",
    "            return x1, x2\n",
    "        return False\n",
    "    def __add__(self, myncwad):\n",
    "        \"\"\"Dull arbennig sy'n galluogi adio mynegiannau\"\"\"\n",
    "        return MynegiantCwadratig(self.a + myncwad.a, self.b + myncwad.b, self.c + myncwad.c)\n",
    "    def __repr__(self):\n",
    "        \"\"\"Dull arbennig: yn newid sut arddangosir yr achos\"\"\"\n",
    "        return \"Mynegiant cwadratig: \" + str(self.a) + \"x ^ 2 + \" + str(self.b) + \"x + \" + str(self.c)"
   ]
  },
  {
   "cell_type": "code",
   "execution_count": 38,
   "metadata": {
    "tags": [
     "solution"
    ]
   },
   "outputs": [
    {
     "data": {
      "text/plain": [
       "Mynegiant cwadratig: 1x ^ 2 + 5x + 2"
      ]
     },
     "execution_count": 38,
     "metadata": {},
     "output_type": "execute_result"
    }
   ],
   "source": [
    "cwad = MynegiantCwadratig(1, 5, 2)\n",
    "cwad"
   ]
  },
  {
   "cell_type": "code",
   "execution_count": 39,
   "metadata": {
    "tags": [
     "solution",
     "nbval-ignore-output"
    ]
   },
   "outputs": [
    {
     "data": {
      "text/plain": [
       "(-4.561552812808831, -0.4384471871911697)"
      ]
     },
     "execution_count": 39,
     "metadata": {},
     "output_type": "execute_result"
    }
   ],
   "source": [
    "cwad.gwraidd()"
   ]
  },
  {
   "cell_type": "code",
   "execution_count": 40,
   "metadata": {
    "tags": [
     "solution"
    ]
   },
   "outputs": [
    {
     "data": {
      "text/plain": [
       "Mynegiant cwadratig: 5x ^ 2 + 10x + 4"
      ]
     },
     "execution_count": 40,
     "metadata": {},
     "output_type": "execute_result"
    }
   ],
   "source": [
    "cwad2 = MynegiantCwadratig(4, 5, 2)\n",
    "cwad + cwad2"
   ]
  },
  {
   "cell_type": "markdown",
   "metadata": {},
   "source": [
    "---\n",
    "\n",
    "### Ymarfer 3\n",
    "\n",
    "Os yw diferion glaw yn cwympo ar hap ar sgwâr gyda hyd \\\\(2r\\\\) yna rhoddir\n",
    "tebygolrwydd o'r diferion yn glanio mewn cylch gyda radiws \\\\(r\\\\) gan:\n",
    "\n",
    "\\\\[\n",
    "    P = \\frac{\\text{Arwynebedd cylch}}{\\text{Arwynebedd sgwâr}}=\\frac{\\pi r ^2}{4r^2}=\\frac{\\pi}{4}\n",
    "\\\\]\n",
    "\n",
    "![Cylch](/{{root}}/img/circle.png)\n",
    "\n",
    "Felly gallwn amcangyfrif \\\\(P\\\\) ac felly amcangyfrif \\\\(\\pi\\\\) fel\n",
    "\\\\(4P\\\\). Yn y cwestiwn yma byddwn yn ysgrifennu cod i amcangyfrif \\\\(P\\\\)\n",
    "trwy ddefnyddio'r llyfrgell random.\n",
    "\n",
    "Yn gyntaf, crëwn ddosbarth ar gyfer diferyn o law (sicrhewch eich bod yn deall y cod yma!):\n",
    "\n",
    "```python\n",
    "class Diferyn():\n",
    "    def __init__(self, r=1):\n",
    "        self.x = (.5 - random.random()) * 2 * r\n",
    "        self.y = (.5 - random.random()) * 2 * r\n",
    "        self.mewncylch = (self.y) ** 2 + (self.x) ** 2 <= (r) ** 2\n",
    "\n",
    "```\n",
    "\n",
    "Nodwch fod y cod uchod yn defnyddio'r hafaliad yma ar gyfer cylch gyda chanol\n",
    "yn \\\\((0,0)\\\\) a radiws \\\\(r\\\\):\n",
    "\n",
    "\\\\[\n",
    "    x^2+y^2≤r^2\n",
    "\\\\]\n",
    "\n",
    "I amcangyfrif \\\\(P\\\\) crëwn \\\\(N=1000\\\\) achos o Diferyn a chyfri'r nifer o rheini sydd o fewn y cylch. Defnyddiwch hwn i amcangyfrif \\\\(\\pi\\\\).\n",
    "\n",
    "(Mae hwn yn enghraifft o dechneg a elwir yn efelychiad Monte Carlo.)"
   ]
  },
  {
   "cell_type": "code",
   "execution_count": 41,
   "metadata": {
    "tags": [
     "solution"
    ]
   },
   "outputs": [],
   "source": [
    "import random\n",
    "import math  # Nid yw hwn yn angenrheidiol ond byddwn yn ei defnyddio ar gyfer cymhariaethau nes ymlaen.\n",
    "\n",
    "\n",
    "class Diferyn():\n",
    "    \"\"\" \n",
    "    Dosbarth ar gyfer diferyn o law ar leoliad ar hap ar sgwar\n",
    "    \"\"\"\n",
    "    def __init__(self, r=1):\n",
    "        self.x = (.5 - random.random()) * 2 * r\n",
    "        self.y = (.5 - random.random()) * 2 * r\n",
    "        self.mewncylch = (self.y) ** 2 + (self.x) ** 2 <= (r) ** 2\n",
    "        # Mae hwn yn allbynnu boolean yn cyfateb gyda os yw'r pwynt o fewn y cylch neu peidio\n",
    "\n",
    "\n",
    "def amcangyfrifpi(N=1000):\n",
    "    \"\"\"\n",
    "    Ffwythiant sy'n allbynnu amcangyfrif ar gyfer pi gan ddefnyddio efelychiad monte carlo\n",
    "    \"\"\"\n",
    "    niferpwyntiaumewncylch = 0\n",
    "    for i in range(N):  # Lwp ar gyfer nifer i diferion\n",
    "        diferyn = Diferyn()  # Generadu diferyn newydd\n",
    "        if diferyn.mewncylch:  # Gwirio os yw o fewn y cylch\n",
    "            niferpwyntiaumewncylch += 1\n",
    "    return 4 * niferpwyntiaumewncylch / float(N)"
   ]
  },
  {
   "cell_type": "code",
   "execution_count": 42,
   "metadata": {
    "tags": [
     "solution",
     "nbval-ignore-output"
    ]
   },
   "outputs": [
    {
     "data": {
      "text/plain": [
       "3.188"
      ]
     },
     "execution_count": 42,
     "metadata": {},
     "output_type": "execute_result"
    }
   ],
   "source": [
    "amcangyfrifpi()"
   ]
  },
  {
   "cell_type": "markdown",
   "metadata": {},
   "source": [
    "----\n",
    "\n",
    "### Ymarfer 4\n",
    "\n",
    "Mewn modd tebyg i ymarfer 3, amcangyfrifwch yr integryn\n",
    "\\\\(\\int_{0}^11-x^2\\;dx\\\\).\n",
    "\n",
    "Cofiwch fod integryn yn cyfateb ag arwynebedd o dan gromlin.\n",
    "Gall hyn fod yn ddefnyddiol:\n",
    "\n",
    "![Grid](/{{root}}/img/gridwithplot.png)"
   ]
  },
  {
   "cell_type": "code",
   "execution_count": 43,
   "metadata": {
    "tags": [
     "solution"
    ]
   },
   "outputs": [],
   "source": [
    "class Pwynt():\n",
    "    \"\"\"\n",
    "    Dosbarth ar gyfer pwynt sy'n disgyn yn leoliad ar hap o fewn sgwar\n",
    "\n",
    "    Priodweddau:\n",
    "        x: y gyfesuryn 'x' y pwynt\n",
    "        y: y gyfesuryn 'y' y pwynt\n",
    "        odangraff: boolean yn nodi os yw'r pwynt o dan y graph neu peidio\n",
    "    \"\"\"\n",
    "    def __init__(self, r=1):\n",
    "        self.x = random.random()\n",
    "        self.y = random.random()\n",
    "        self.odangraff = 1 - (self.x) ** 2 >= self.y\n",
    "        # Mae hwn yn allbynnu boolean sy'n gwirio os yw'r pwynt o dan y graff neu beidio\n",
    "\n",
    "def amcangyfrifint(N=1000):\n",
    "    \"\"\"\n",
    "    Ffwythiant sy'n allbynnu amcangyfrif yr integryn gan ddefnyddio efelychiad monte carlo\n",
    "\n",
    "    Dadleuon: N (diofyn=1000) sef nifer o bwyntiau\n",
    "\n",
    "    Allbynnau: Amcangyfrif yr integryn\n",
    "    \"\"\"\n",
    "    niferodanygraff = 0\n",
    "    for i in range(N):  # Lwp i ostwng nifer o bwyntiau\n",
    "        pwynt = Pwynt()  # Generadu pwynt newydd\n",
    "        if pwynt.odangraff:  # Gwirio os yw o dan y graff\n",
    "            niferodanygraff += 1\n",
    "    return niferodanygraff / float(N)"
   ]
  },
  {
   "cell_type": "code",
   "execution_count": 44,
   "metadata": {
    "tags": [
     "solution",
     "nbval-ignore-output"
    ]
   },
   "outputs": [
    {
     "data": {
      "text/plain": [
       "0.68"
      ]
     },
     "execution_count": 44,
     "metadata": {},
     "output_type": "execute_result"
    }
   ],
   "source": [
    "amcangyfrifint()"
   ]
  },
  {
   "cell_type": "markdown",
   "metadata": {},
   "source": [
    "---\n",
    "\n",
    "## Adnoddau pellach\n",
    "\n",
    "\n",
    "- [A non programmers tutorial for\n",
    "  Python:\n",
    "  Object Oriented\n",
    "  Programming](https://en.wikibooks.org/wiki/Non-Programmer%27s_Tutorial_for_Python_3/Intro_to_Object_Oriented_Programming_in_Python_3)\n",
    "- [Enghraifft neis: enghraifft chwarae rôl](https://inventwithpython.com/blog/2014/12/02/why-is-object-oriented-programming-useful-with-a-role-playing-game-example/)\n",
    "- [Fideo ar dosbarthiadau awgrymmir gan diwtor](https://www.youtube.com/watch?v=trOZBgZ8F_c)"
   ]
  },
  {
   "cell_type": "code",
   "execution_count": null,
   "metadata": {},
   "outputs": [],
   "source": []
  }
 ],
 "metadata": {
  "anaconda-cloud": {},
  "celltoolbar": "Tags",
  "kernelspec": {
   "display_name": "Python 3",
   "language": "python",
   "name": "python3"
  },
  "language_info": {
   "codemirror_mode": {
    "name": "ipython",
    "version": 3
   },
   "file_extension": ".py",
   "mimetype": "text/x-python",
   "name": "python",
   "nbconvert_exporter": "python",
   "pygments_lexer": "ipython3",
   "version": "3.6.5"
  }
 },
 "nbformat": 4,
 "nbformat_minor": 2
}
