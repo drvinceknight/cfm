{
 "cells": [
  {
   "cell_type": "markdown",
   "metadata": {},
   "source": [
    "## Pennod 05: Mathemateg symbolaidd gyda Sympy\n",
    "\n",
    "Mae'r daflen lab yma yn cyflwyno'r llyfrgell fathemategol Sympy sy'n gadael i ni gario allan mathemateg symbolaidd.\n",
    "\n",
    "Wythnos diwethaf gwelon ni amryw o lyfrgelloedd gwahanol:"
   ]
  },
  {
   "cell_type": "code",
   "execution_count": 1,
   "metadata": {},
   "outputs": [],
   "source": [
    "import random\n",
    "import math"
   ]
  },
  {
   "cell_type": "markdown",
   "metadata": {},
   "source": [
    "ac mae llawer mwy. Mae'r llyfrgelloedd yma yn rhan o'r ''llyfrgell safonol''.\n",
    "Mae hwn yn golygu eu bod yn dod gyda'r fersiwn Python sylfaenol. Mae amryw o\n",
    "llyfrgelloedd eraill yn bodoli a ddatblygwyd yn annibynnol. Mae rhai i rain\n",
    "yn dod gyda Anaconda.\n",
    "\n",
    "Bydd y daflen lab yma yn cyflwyno un o'r llyfrgelloedd yma:\n",
    "[SymPy](http://www.sympy.org/en/index.html) sy'n galluogi ni i gwneud\n",
    "mathemateg symbolaidd.\n",
    "\n",
    "\n",
    "### 1. Cyfrifiadau union\n",
    "\n",
    "Yn defnyddio Python gallwch gyfrifo ail-israddau a gwerthoedd trigonometrig (gallwn wneud hyn trwy fewnforio'r llyfrgell math)::"
   ]
  },
  {
   "cell_type": "code",
   "execution_count": 2,
   "metadata": {},
   "outputs": [
    {
     "data": {
      "text/plain": [
       "4.47213595499958"
      ]
     },
     "execution_count": 2,
     "metadata": {},
     "output_type": "execute_result"
    }
   ],
   "source": [
    "import math\n",
    "math.sqrt(20)"
   ]
  },
  {
   "cell_type": "code",
   "execution_count": 3,
   "metadata": {},
   "outputs": [
    {
     "data": {
      "text/plain": [
       "0.7071067811865476"
      ]
     },
     "execution_count": 3,
     "metadata": {},
     "output_type": "execute_result"
    }
   ],
   "source": [
    "math.cos(math.pi / 4)"
   ]
  },
  {
   "cell_type": "markdown",
   "metadata": {},
   "source": [
    "Mae hwn yn iawn ar gyfer gwaith rhifiadol ond dim pan mae'n dod i gario allan cyfrifiadau mathemategol **union**, er enghraifft gwyddon fod:\n",
    "\n",
    "\\\\[\n",
    "    \\cos(\\pi / 4) = \\sqrt{2} / 2\n",
    "\\\\]"
   ]
  },
  {
   "cell_type": "markdown",
   "metadata": {},
   "source": [
    "Dyma le mae Sympy yn ddefnyddiol: gall cario allan cyfrifiadau mathemategol union:"
   ]
  },
  {
   "cell_type": "code",
   "execution_count": 4,
   "metadata": {},
   "outputs": [
    {
     "data": {
      "text/plain": [
       "2*sqrt(5)"
      ]
     },
     "execution_count": 4,
     "metadata": {},
     "output_type": "execute_result"
    }
   ],
   "source": [
    "import sympy as sym\n",
    "sym.sqrt(20)"
   ]
  },
  {
   "cell_type": "code",
   "execution_count": 5,
   "metadata": {},
   "outputs": [
    {
     "data": {
      "text/plain": [
       "sqrt(2)/2"
      ]
     },
     "execution_count": 5,
     "metadata": {},
     "output_type": "execute_result"
    }
   ],
   "source": [
    "sym.cos(sym.pi / 4)"
   ]
  },
  {
   "cell_type": "markdown",
   "metadata": {},
   "source": [
    "Mae hefyd yn rhoi rhifau cymhlyg:"
   ]
  },
  {
   "cell_type": "code",
   "execution_count": 6,
   "metadata": {},
   "outputs": [
    {
     "data": {
      "text/plain": [
       "-1"
      ]
     },
     "execution_count": 6,
     "metadata": {},
     "output_type": "execute_result"
    }
   ],
   "source": [
    "sym.I ** 2"
   ]
  },
  {
   "cell_type": "code",
   "execution_count": 7,
   "metadata": {},
   "outputs": [
    {
     "data": {
      "text/plain": [
       "2*sqrt(5)*I"
      ]
     },
     "execution_count": 7,
     "metadata": {},
     "output_type": "execute_result"
    }
   ],
   "source": [
    "sym.sqrt(-20)"
   ]
  },
  {
   "cell_type": "markdown",
   "metadata": {},
   "source": [
    "Mae gan Sympy nifer o ffwythiannau i drin rhifau naturiol:"
   ]
  },
  {
   "cell_type": "code",
   "execution_count": 8,
   "metadata": {},
   "outputs": [
    {
     "data": {
      "text/plain": [
       "False"
      ]
     },
     "execution_count": 8,
     "metadata": {},
     "output_type": "execute_result"
    }
   ],
   "source": [
    "N = 45 * 63\n",
    "sym.isprime(N)"
   ]
  },
  {
   "cell_type": "code",
   "execution_count": 9,
   "metadata": {},
   "outputs": [
    {
     "data": {
      "text/plain": [
       "[3, 5, 7]"
      ]
     },
     "execution_count": 9,
     "metadata": {},
     "output_type": "execute_result"
    }
   ],
   "source": [
    "sym.primefactors(N)"
   ]
  },
  {
   "cell_type": "code",
   "execution_count": 10,
   "metadata": {},
   "outputs": [
    {
     "data": {
      "text/plain": [
       "True"
      ]
     },
     "execution_count": 10,
     "metadata": {},
     "output_type": "execute_result"
    }
   ],
   "source": [
    "all(sym.isprime(p) for p in sym.primefactors(N))  # Mae holl ffactoriau cysefin yn rhifau cysefin"
   ]
  },
  {
   "cell_type": "code",
   "execution_count": 11,
   "metadata": {},
   "outputs": [
    {
     "data": {
      "text/plain": [
       "{3: 4, 5: 1, 7: 1}"
      ]
     },
     "execution_count": 11,
     "metadata": {},
     "output_type": "execute_result"
    }
   ],
   "source": [
    "sym.factorint(N)"
   ]
  },
  {
   "cell_type": "code",
   "execution_count": 12,
   "metadata": {},
   "outputs": [
    {
     "data": {
      "text/plain": [
       "True"
      ]
     },
     "execution_count": 12,
     "metadata": {},
     "output_type": "execute_result"
    }
   ],
   "source": [
    "N == 3 ** 4 * 5 * 7  # Gwirio allbwn `factorint`"
   ]
  },
  {
   "cell_type": "markdown",
   "metadata": {},
   "source": [
    "Ailadroddwch yr enghraifft uchod gyda gwerth gwahanol o `N`.\n",
    "\n",
    "\n",
    "### 2. Mynegiadau symbolaidd\n",
    "\n",
    "Gan ddefnyddio Sympy mae'n bosib cario allan cyfrifiadau symbolaidd. I wneud hwn mae angen creu achosion o ddosbarth Symbols Sympy."
   ]
  },
  {
   "cell_type": "code",
   "execution_count": 13,
   "metadata": {},
   "outputs": [
    {
     "data": {
      "text/plain": [
       "x"
      ]
     },
     "execution_count": 13,
     "metadata": {},
     "output_type": "execute_result"
    }
   ],
   "source": [
    "x = sym.Symbol(\"x\")\n",
    "x"
   ]
  },
  {
   "cell_type": "code",
   "execution_count": 14,
   "metadata": {},
   "outputs": [
    {
     "data": {
      "text/plain": [
       "sympy.core.symbol.Symbol"
      ]
     },
     "execution_count": 14,
     "metadata": {},
     "output_type": "execute_result"
    }
   ],
   "source": [
    "type(x)"
   ]
  },
  {
   "cell_type": "markdown",
   "metadata": {},
   "source": [
    "Yna gallwn drin y gwrthrych symbol yma heb roi gwerthoedd rhifol penodol iddo:"
   ]
  },
  {
   "cell_type": "code",
   "execution_count": 15,
   "metadata": {},
   "outputs": [
    {
     "data": {
      "text/plain": [
       "2*x"
      ]
     },
     "execution_count": 15,
     "metadata": {},
     "output_type": "execute_result"
    }
   ],
   "source": [
    "x + x"
   ]
  },
  {
   "cell_type": "code",
   "execution_count": 16,
   "metadata": {},
   "outputs": [
    {
     "data": {
      "text/plain": [
       "0"
      ]
     },
     "execution_count": 16,
     "metadata": {},
     "output_type": "execute_result"
    }
   ],
   "source": [
    "x - x"
   ]
  },
  {
   "cell_type": "code",
   "execution_count": 17,
   "metadata": {},
   "outputs": [
    {
     "data": {
      "text/plain": [
       "x**2"
      ]
     },
     "execution_count": 17,
     "metadata": {},
     "output_type": "execute_result"
    }
   ],
   "source": [
    "x ** 2"
   ]
  },
  {
   "cell_type": "markdown",
   "metadata": {},
   "source": [
    "Mae gan Sympy ffwythiant defnyddiol `symbols` (gyda `s` bach) sy'n galluogi ni creu mwy nag un gwrthrych `sympy.Symbol` ar yr un pryd:"
   ]
  },
  {
   "cell_type": "code",
   "execution_count": 18,
   "metadata": {},
   "outputs": [
    {
     "data": {
      "text/plain": [
       "(y, z)"
      ]
     },
     "execution_count": 18,
     "metadata": {},
     "output_type": "execute_result"
    }
   ],
   "source": [
    "y, z = sym.symbols(\"y, z\")\n",
    "y, z"
   ]
  },
  {
   "cell_type": "markdown",
   "metadata": {},
   "source": [
    "Gallwn drin mynegiannau symbolaidd gan ddefnyddio'r dulliau Sympy:\n",
    "\n",
    "\n",
    "- `factor` (ffactoreiddio)\n",
    "- `expand` (ehangu)\n",
    "\n",
    "Fan hyn rydym yn cadarnhau rhyw fformiwla enwog:"
   ]
  },
  {
   "cell_type": "code",
   "execution_count": 19,
   "metadata": {},
   "outputs": [
    {
     "data": {
      "text/plain": [
       "x**2 + 2*x*y + y**2"
      ]
     },
     "execution_count": 19,
     "metadata": {},
     "output_type": "execute_result"
    }
   ],
   "source": [
    "myn = x ** 2 + 2 * x * y + y ** 2\n",
    "myn"
   ]
  },
  {
   "cell_type": "code",
   "execution_count": 20,
   "metadata": {},
   "outputs": [
    {
     "data": {
      "text/plain": [
       "(x + y)**2"
      ]
     },
     "execution_count": 20,
     "metadata": {},
     "output_type": "execute_result"
    }
   ],
   "source": [
    "myn.factor()"
   ]
  },
  {
   "cell_type": "code",
   "execution_count": 21,
   "metadata": {},
   "outputs": [
    {
     "data": {
      "text/plain": [
       "(x - y)*(x + y)"
      ]
     },
     "execution_count": 21,
     "metadata": {},
     "output_type": "execute_result"
    }
   ],
   "source": [
    "myn = (x - y) * (x + y)\n",
    "myn"
   ]
  },
  {
   "cell_type": "code",
   "execution_count": 22,
   "metadata": {},
   "outputs": [
    {
     "data": {
      "text/plain": [
       "x**2 - y**2"
      ]
     },
     "execution_count": 22,
     "metadata": {},
     "output_type": "execute_result"
    }
   ],
   "source": [
    "sym.expand(myn)  # Nodwch gallwn hefyd defnyddio `myn.expand`"
   ]
  },
  {
   "cell_type": "markdown",
   "metadata": {},
   "source": [
    "Mae gan Sympy gorchymyn `simplify` sy'n bwerus iawn. Arbrofwch gyda rhain a hefyd gyda mynegiannau mwy cymhleth.\n",
    "\n",
    "### 3. Hafaliadau symbolaidd\n",
    "\n",
    "Gallwn ddefnyddio Sympy i ddatrys hafaliadau symbolaidd. Gadewch i ni ddatrys yr hafaliad symbolaidd canlynol:\n",
    "\n",
    "\\\\[\n",
    "    x ^ 2 + 3 x - 2 = 0\n",
    "\\\\]\n",
    "\n",
    "Rydym yn gwneud hwn try defnyddio'r ffwythiant `solveset`:"
   ]
  },
  {
   "cell_type": "code",
   "execution_count": 23,
   "metadata": {},
   "outputs": [
    {
     "data": {
      "text/plain": [
       "{-3/2 + sqrt(17)/2, -sqrt(17)/2 - 3/2}"
      ]
     },
     "execution_count": 23,
     "metadata": {},
     "output_type": "execute_result"
    }
   ],
   "source": [
    "sym.solveset(x ** 2 + 3 * x - 2, x)"
   ]
  },
  {
   "cell_type": "markdown",
   "metadata": {},
   "source": [
    "Os oedd gan ein hafaliad ochr dde nad oedd yn sero mae dwy ffordd o deilo â hwn:\n",
    "\n",
    "\\\\[\n",
    "    x^2 + 3x - 2=y\n",
    "\\\\]\n",
    "\n",
    "`1`. Newid yr hafaliad fel ei bod yn cyfateb â hafaliad gyda sero ar yr ochr dde:"
   ]
  },
  {
   "cell_type": "code",
   "execution_count": 24,
   "metadata": {},
   "outputs": [
    {
     "data": {
      "text/plain": [
       "{-sqrt(4*y + 17)/2 - 3/2, sqrt(4*y + 17)/2 - 3/2}"
      ]
     },
     "execution_count": 24,
     "metadata": {},
     "output_type": "execute_result"
    }
   ],
   "source": [
    "sym.solveset(x ** 2 + 3 * x - 2 - y, x)"
   ]
  },
  {
   "cell_type": "markdown",
   "metadata": {},
   "source": [
    "`2`. Creu gwrthrych `Eq`:"
   ]
  },
  {
   "cell_type": "code",
   "execution_count": 25,
   "metadata": {},
   "outputs": [
    {
     "data": {
      "text/plain": [
       "{-sqrt(4*y + 17)/2 - 3/2, sqrt(4*y + 17)/2 - 3/2}"
      ]
     },
     "execution_count": 25,
     "metadata": {},
     "output_type": "execute_result"
    }
   ],
   "source": [
    "haf = sym.Eq(x ** 2 + 3 * x - 2, y)\n",
    "sym.solveset(haf, x)"
   ]
  },
  {
   "cell_type": "markdown",
   "metadata": {},
   "source": [
    "Gallwn hefyd nodi parth. Er enghraifft mae gan yr hafaliad canlynol canlynol dau ddatrysiad (gan ei fod yn gwadratig):\n",
    "\n",
    "\\\\[\n",
    "    x^2 = -9\n",
    "\\\\]"
   ]
  },
  {
   "cell_type": "code",
   "execution_count": 26,
   "metadata": {},
   "outputs": [
    {
     "data": {
      "text/plain": [
       "{-3*I, 3*I}"
      ]
     },
     "execution_count": 26,
     "metadata": {},
     "output_type": "execute_result"
    }
   ],
   "source": [
    "sym.solveset(x ** 2 + 9, x)"
   ]
  },
  {
   "cell_type": "markdown",
   "metadata": {},
   "source": [
    "Ond os cyfyngwn ni ein hunain i'r rhifau real, dim hwn yw'r achos rhagor:"
   ]
  },
  {
   "cell_type": "code",
   "execution_count": 27,
   "metadata": {},
   "outputs": [
    {
     "data": {
      "text/plain": [
       "EmptySet()"
      ]
     },
     "execution_count": 27,
     "metadata": {},
     "output_type": "execute_result"
    }
   ],
   "source": [
    "sym.solveset(x ** 2 + 9, x, domain=sym.S.Reals)"
   ]
  },
  {
   "cell_type": "markdown",
   "metadata": {},
   "source": [
    "### 4. Calcwlws symbolaidd\n",
    "\n",
    "Mae'n bosib cario allan amryw o weithrediadau calcwlws gan ddefnyddio Sympy:\n",
    "\n",
    "Ystyriwch y ffwythiant:\n",
    "\n",
    "\\\\[\n",
    "    f(x) = 1 / x\n",
    "\\\\]\n",
    "\n",
    "I wneud hwn diffiniwn ffwythiant Python arferol:"
   ]
  },
  {
   "cell_type": "code",
   "execution_count": 28,
   "metadata": {},
   "outputs": [],
   "source": [
    "def f(x):\n",
    "    return 1 / x"
   ]
  },
  {
   "cell_type": "markdown",
   "metadata": {},
   "source": [
    "a rhoi newidyn symbolaidd iddo:"
   ]
  },
  {
   "cell_type": "code",
   "execution_count": 29,
   "metadata": {},
   "outputs": [
    {
     "data": {
      "text/plain": [
       "1/x"
      ]
     },
     "execution_count": 29,
     "metadata": {},
     "output_type": "execute_result"
    }
   ],
   "source": [
    "f(x)"
   ]
  },
  {
   "cell_type": "markdown",
   "metadata": {},
   "source": [
    "Gallwn gyfrifo'r terfannau yn \\\\(\\pm\\infty\\\\)\n"
   ]
  },
  {
   "cell_type": "code",
   "execution_count": 30,
   "metadata": {},
   "outputs": [
    {
     "data": {
      "text/plain": [
       "0"
      ]
     },
     "execution_count": 30,
     "metadata": {},
     "output_type": "execute_result"
    }
   ],
   "source": [
    "sym.limit(f(x), x, sym.oo)"
   ]
  },
  {
   "cell_type": "code",
   "execution_count": 31,
   "metadata": {},
   "outputs": [
    {
     "data": {
      "text/plain": [
       "0"
      ]
     },
     "execution_count": 31,
     "metadata": {},
     "output_type": "execute_result"
    }
   ],
   "source": [
    "sym.limit(f(x), x, -sym.oo)"
   ]
  },
  {
   "cell_type": "code",
   "execution_count": 32,
   "metadata": {},
   "outputs": [
    {
     "data": {
      "text/plain": [
       "0"
      ]
     },
     "execution_count": 32,
     "metadata": {},
     "output_type": "execute_result"
    }
   ],
   "source": [
    "sym.limit(f(x), x, +sym.oo)"
   ]
  },
  {
   "cell_type": "markdown",
   "metadata": {},
   "source": [
    "Gallwn gyfrifo'r terfan yn \\\\(0\\\\) ond rhaid bod yn ofalus fan hyn (cofiwch o galcwlws sylfaenol bod y terfan yn dibynnu ar y cyfeiriad):"
   ]
  },
  {
   "cell_type": "code",
   "execution_count": 33,
   "metadata": {},
   "outputs": [
    {
     "data": {
      "text/plain": [
       "oo"
      ]
     },
     "execution_count": 33,
     "metadata": {},
     "output_type": "execute_result"
    }
   ],
   "source": [
    "sym.limit(f(x), x, 0)  # Y cyfeiriad diofyn yw'r positive"
   ]
  },
  {
   "cell_type": "code",
   "execution_count": 34,
   "metadata": {},
   "outputs": [
    {
     "data": {
      "text/plain": [
       "oo"
      ]
     },
     "execution_count": 34,
     "metadata": {},
     "output_type": "execute_result"
    }
   ],
   "source": [
    "sym.limit(f(x), x, 0, dir=\"+\")"
   ]
  },
  {
   "cell_type": "code",
   "execution_count": 35,
   "metadata": {},
   "outputs": [
    {
     "data": {
      "text/plain": [
       "-oo"
      ]
     },
     "execution_count": 35,
     "metadata": {},
     "output_type": "execute_result"
    }
   ],
   "source": [
    "sym.limit(f(x), x, 0, dir=\"-\")"
   ]
  },
  {
   "cell_type": "markdown",
   "metadata": {},
   "source": [
    "Gallwn ddefnyddio Sympy i ddifferu:"
   ]
  },
  {
   "cell_type": "code",
   "execution_count": 36,
   "metadata": {},
   "outputs": [
    {
     "data": {
      "text/plain": [
       "-1/x**2"
      ]
     },
     "execution_count": 36,
     "metadata": {},
     "output_type": "execute_result"
    }
   ],
   "source": [
    "sym.diff(f(x), x)"
   ]
  },
  {
   "cell_type": "code",
   "execution_count": 37,
   "metadata": {},
   "outputs": [
    {
     "data": {
      "text/plain": [
       "-sin(x)"
      ]
     },
     "execution_count": 37,
     "metadata": {},
     "output_type": "execute_result"
    }
   ],
   "source": [
    "sym.diff(sym.cos(x), x)"
   ]
  },
  {
   "cell_type": "markdown",
   "metadata": {},
   "source": [
    "Gallwn gario allan nifer o raddau o ddifferu. Mae'r rhain i gyd yn rhoi'r deilliad ail radd o \\\\(\\cos(x)\\\\):"
   ]
  },
  {
   "cell_type": "code",
   "execution_count": 38,
   "metadata": {},
   "outputs": [
    {
     "data": {
      "text/plain": [
       "-cos(x)"
      ]
     },
     "execution_count": 38,
     "metadata": {},
     "output_type": "execute_result"
    }
   ],
   "source": [
    "sym.diff(sym.diff(sym.cos(x), x), x)"
   ]
  },
  {
   "cell_type": "code",
   "execution_count": 39,
   "metadata": {},
   "outputs": [
    {
     "data": {
      "text/plain": [
       "-cos(x)"
      ]
     },
     "execution_count": 39,
     "metadata": {},
     "output_type": "execute_result"
    }
   ],
   "source": [
    "sym.diff(sym.cos(x), x, x)"
   ]
  },
  {
   "cell_type": "code",
   "execution_count": 40,
   "metadata": {},
   "outputs": [
    {
     "data": {
      "text/plain": [
       "-cos(x)"
      ]
     },
     "execution_count": 40,
     "metadata": {},
     "output_type": "execute_result"
    }
   ],
   "source": [
    "sym.diff(sym.cos(x), x, 2)"
   ]
  },
  {
   "cell_type": "markdown",
   "metadata": {},
   "source": [
    "Yn ogystal â differu gallwn hefyd integru.\n",
    "\n",
    "Gallwn wneud integrynnau pendant ac integrynnau amhendant:"
   ]
  },
  {
   "cell_type": "code",
   "execution_count": 41,
   "metadata": {},
   "outputs": [
    {
     "data": {
      "text/plain": [
       "log(x)"
      ]
     },
     "execution_count": 41,
     "metadata": {},
     "output_type": "execute_result"
    }
   ],
   "source": [
    "sym.integrate(f(x), x)  # Integryn amhendant"
   ]
  },
  {
   "cell_type": "code",
   "execution_count": 42,
   "metadata": {},
   "outputs": [
    {
     "data": {
      "text/plain": [
       "4"
      ]
     },
     "execution_count": 42,
     "metadata": {},
     "output_type": "execute_result"
    }
   ],
   "source": [
    "sym.integrate(f(x), (x, sym.exp(1), sym.exp(5)))  # Integryn pendant"
   ]
  },
  {
   "cell_type": "markdown",
   "metadata": {},
   "source": [
    "### 5. Hafaliadau differol\n",
    "\n",
    "Gallwn ddefnyddio Sympy i ddatrys hafaliadau differol. Er enghraifft:\n",
    "\n",
    "\\\\[\n",
    "    \\frac{dy}{dx} = y\n",
    "\\\\]"
   ]
  },
  {
   "cell_type": "code",
   "execution_count": 43,
   "metadata": {},
   "outputs": [
    {
     "data": {
      "text/plain": [
       "Eq(y(x), C1*exp(x))"
      ]
     },
     "execution_count": 43,
     "metadata": {},
     "output_type": "execute_result"
    }
   ],
   "source": [
    "y = sym.Function('y')\n",
    "x = sym.symbols('x')\n",
    "dat = sym.dsolve(sym.Derivative(y(x), x) - y(x), y(x))\n",
    "dat"
   ]
  },
  {
   "cell_type": "markdown",
   "metadata": {},
   "source": [
    "Gwiriwn os yw'r datrysiad hwn yn gywir:"
   ]
  },
  {
   "cell_type": "code",
   "execution_count": 44,
   "metadata": {},
   "outputs": [
    {
     "data": {
      "text/plain": [
       "True"
      ]
     },
     "execution_count": 44,
     "metadata": {},
     "output_type": "execute_result"
    }
   ],
   "source": [
    "sym.diff(dat.rhs, x) == dat.rhs"
   ]
  },
  {
   "cell_type": "markdown",
   "metadata": {},
   "source": [
    "Gallwn ddatrys hafaliadau differol o radd uwch. Er enghraifft, defnyddir yr hafaliad canlynol i fodelu lleoliad rhyw fàs ar linyn:\n",
    "\n",
    "\\\\[\n",
    "    m\\frac{d^2x}{dt^2} + c\\frac{dx}{dt} + kx = 0\n",
    "\\\\]"
   ]
  },
  {
   "cell_type": "code",
   "execution_count": 45,
   "metadata": {},
   "outputs": [
    {
     "data": {
      "text/plain": [
       "Eq(x(t), C1*exp(t*(-c - sqrt(c**2 - 4*k*m))/(2*m)) + C2*exp(t*(-c + sqrt(c**2 - 4*k*m))/(2*m)))"
      ]
     },
     "execution_count": 45,
     "metadata": {},
     "output_type": "execute_result"
    }
   ],
   "source": [
    "m, c, k, t = sym.symbols('m, c, k, t')\n",
    "x = sym.Function(\"x\")\n",
    "sym.dsolve(m * sym.Derivative(x(t), t, 2) + c * sym.Derivative(x(t), t) + k * x(t), x(t))"
   ]
  },
  {
   "cell_type": "markdown",
   "metadata": {},
   "source": [
    "Gallwn ddatrys system o hafaliadau differol fel y rhain:\n",
    "\n",
    "\\\\[\n",
    "    \\begin{aligned}\n",
    "        \\frac{dx}{dt} & = 1-y\\\\\n",
    "        \\frac{dy}{dt} & = 1-x\\\\\n",
    "    \\end{aligned}\n",
    "\\\\]"
   ]
  },
  {
   "cell_type": "code",
   "execution_count": 46,
   "metadata": {},
   "outputs": [
    {
     "data": {
      "text/plain": [
       "[Eq(x(t), -C1*exp(-t) - C2*exp(t) + 1), Eq(y(t), -C1*exp(-t) + C2*exp(t) + 1)]"
      ]
     },
     "execution_count": 46,
     "metadata": {},
     "output_type": "execute_result"
    }
   ],
   "source": [
    "eq1 = sym.Derivative(x(t), t) - 1 + y(t)\n",
    "eq2 = sym.Derivative(y(t), t) - 1 + x(t)\n",
    "sym.dsolve((eq1, eq2))"
   ]
  },
  {
   "cell_type": "markdown",
   "metadata": {},
   "source": [
    "Rhoddir y datrysiad:\n",
    "\n",
    "\\\\[\n",
    "    \\begin{align}\n",
    "        x(t) & =-C_1e^{-t}-C_2e^{t} + 1\\\\\n",
    "        y(t) & =-C_1e^{-t}-C_2e^{t} + 1\\\\\n",
    "    \\end{align}\n",
    "\\\\]"
   ]
  },
  {
   "cell_type": "markdown",
   "metadata": {},
   "source": [
    "### 6. Dangos allbynnau gyda \\\\(\\LaTeX\\\\)\n",
    "\n",
    "Gallwn ddefnyddio \\\\(\\LaTeX\\\\) i dangos allbwn Sympy mewn ffordd sy'n haws i bobl darllen:"
   ]
  },
  {
   "cell_type": "code",
   "execution_count": 47,
   "metadata": {},
   "outputs": [
    {
     "data": {
      "image/png": "[encoded data removed]",
      "text/latex": [
       "$$x{\\left (t \\right )} = C_{1} e^{\\frac{t}{2 m} \\left(- c - \\sqrt{c^{2} - 4 k m}\\right)} + C_{2} e^{\\frac{t}{2 m} \\left(- c + \\sqrt{c^{2} - 4 k m}\\right)}$$"
      ],
      "text/plain": [
       "             ⎛        ____________⎞         ⎛        ____________⎞\n",
       "             ⎜       ╱  2         ⎟         ⎜       ╱  2         ⎟\n",
       "           t⋅⎝-c - ╲╱  c  - 4⋅k⋅m ⎠       t⋅⎝-c + ╲╱  c  - 4⋅k⋅m ⎠\n",
       "           ────────────────────────       ────────────────────────\n",
       "                     2⋅m                            2⋅m           \n",
       "x(t) = C₁⋅ℯ                         + C₂⋅ℯ                        "
      ]
     },
     "execution_count": 47,
     "metadata": {},
     "output_type": "execute_result"
    }
   ],
   "source": [
    "sym.init_printing()\n",
    "m, c, k, t = sym.symbols('m, c, k, t')\n",
    "x = sym.Function(\"x\")\n",
    "sym.dsolve(m * sym.Derivative(x(t), t, 2) + c * sym.Derivative(x(t), t) + k * x(t), x(t))"
   ]
  },
  {
   "cell_type": "markdown",
   "metadata": {},
   "source": [
    "Weithiau mae'n ddefnyddiol diffodd hwn (er enghraifft os oeddwn angen copïo a gludo allbwn):"
   ]
  },
  {
   "cell_type": "code",
   "execution_count": 48,
   "metadata": {},
   "outputs": [
    {
     "data": {
      "text/plain": [
       "Eq(x(t), C1*exp(t*(-c - sqrt(c**2 - 4*k*m))/(2*m)) + C2*exp(t*(-c + sqrt(c**2 - 4*k*m))/(2*m)))"
      ]
     },
     "execution_count": 48,
     "metadata": {},
     "output_type": "execute_result"
    }
   ],
   "source": [
    "sym.init_printing(False)\n",
    "m, c, k, t = sym.symbols('m, c, k, t')\n",
    "x = sym.Function(\"x\")\n",
    "sym.dsolve(m * sym.Derivative(x(t), t, 2) + c * sym.Derivative(x(t), t) + k * x(t), x(t))"
   ]
  },
  {
   "cell_type": "markdown",
   "metadata": {},
   "source": [
    "---\n",
    "\n",
    "\n",
    "## Ymarferion\n",
    "\n",
    "Dyma nifer o ymarferion sy'n bosib cwblhau trwy ddefnyddio Sympy:\n",
    "\n",
    "- Defnyddio rhifyddeg union;\n",
    "- Trin newidynnau symbolaidd yn algebraidd;\n",
    "- Terfannau, differu ac integru;\n",
    "- Datrys hafaliadau differol.\n",
    "\n",
    "\n",
    "### Ymarfer 1.\n",
    "\n",
    "Defnyddiwch SymPy i ysgrifennu'r \\\\(10^3\\\\) rhif cysefin cyntaf i ffeil. Cymharwch hwn i'r ffeil `cysefin.csv` ([lawrlwytho](/{{root}}/nbs/cy/chapters/cysefin.csv)) (nid gyda llaw!) a gwirio os yw'n unfath."
   ]
  },
  {
   "cell_type": "markdown",
   "metadata": {
    "tags": [
     "solution"
    ]
   },
   "source": [
    "Mae angen gwneud bach o waith i ddarganfod sut i eneradu rhifau cysefin gan ddefnyddio sympy. Bydd rhaid chwilio."
   ]
  },
  {
   "cell_type": "code",
   "execution_count": 49,
   "metadata": {
    "tags": [
     "solution"
    ]
   },
   "outputs": [
    {
     "data": {
      "text/plain": [
       "11"
      ]
     },
     "execution_count": 49,
     "metadata": {},
     "output_type": "execute_result"
    }
   ],
   "source": [
    "sym.prime(5)  # y 5ed rhif cysefin yw 11"
   ]
  },
  {
   "cell_type": "code",
   "execution_count": 50,
   "metadata": {
    "tags": [
     "solution"
    ]
   },
   "outputs": [],
   "source": [
    "# generadwn y 10 ** 3 rhif cysefin cyntaf: gall hwn cymryd spel\n",
    "rhifau_cysefin = [sym.prime(k) for k in range(1, 10 ** 3 + 1)]"
   ]
  },
  {
   "cell_type": "code",
   "execution_count": 51,
   "metadata": {
    "tags": [
     "solution"
    ]
   },
   "outputs": [
    {
     "data": {
      "text/plain": [
       "['2', '3', '5', '7', '11']"
      ]
     },
     "execution_count": 51,
     "metadata": {},
     "output_type": "execute_result"
    }
   ],
   "source": [
    "# Gadewch i ni darllen y rhifau cysefin i ffeil:\n",
    "with open(\"cysefin.csv\", 'r') as f:\n",
    "    rhifau_cysefin_o_ffeil = f.read().split('\\n')\n",
    "rhifau_cysefin_o_ffeil[:5]  # Gweld y 5 cyntaf"
   ]
  },
  {
   "cell_type": "code",
   "execution_count": 52,
   "metadata": {
    "tags": [
     "solution"
    ]
   },
   "outputs": [
    {
     "data": {
      "text/plain": [
       "['15485843', '15485849', '15485857', '15485863', '']"
      ]
     },
     "execution_count": 52,
     "metadata": {},
     "output_type": "execute_result"
    }
   ],
   "source": [
    "rhifau_cysefin_o_ffeil[-5:]  # Gweld y 5 olaf"
   ]
  },
  {
   "cell_type": "code",
   "execution_count": 53,
   "metadata": {
    "tags": [
     "solution"
    ]
   },
   "outputs": [
    {
     "data": {
      "text/plain": [
       "True"
      ]
     },
     "execution_count": 53,
     "metadata": {},
     "output_type": "execute_result"
    }
   ],
   "source": [
    "rhifau_cysefin_o_ffeil[:10 ** 3] == [str(p) for p in rhifau_cysefin]  # Rydym ni ond yn ystyried y 10 ** 3 rhif cyntaf yn y ffeil"
   ]
  },
  {
   "cell_type": "markdown",
   "metadata": {},
   "source": [
    "### Ymarfer 2. \n",
    "\n",
    "Defnyddiwch ddull `simplify` Sympy (ar y cyd gyda phethau eraill) i wirio'r unfathiannau trigonometrig canlynol:\n",
    "\n",
    "1. \\\\(\\sin^2(\\theta) + \\cos^2(\\theta) = 1\\\\)\n",
    "2. \\\\(2\\cos(\\theta) \\sin(\\theta) = \\sin(2\\theta)\\\\)\n",
    "3. \\\\((1 - \\cos(\\theta)) / 2 = \\sin^2(\\theta / 2)\\\\)\n",
    "4. \\\\(\\cos(n\\pi)=(-1) ^ n\\\\) (for \\\\(n\\in\\mathbb{Z}\\\\)) (Awgrym: bydd angen i chi edrych ar yr opsiynau gallwch basio i `symbols` er mwyn gwneud hwn)"
   ]
  },
  {
   "cell_type": "code",
   "execution_count": 54,
   "metadata": {
    "tags": [
     "solution"
    ]
   },
   "outputs": [
    {
     "data": {
      "text/plain": [
       "True"
      ]
     },
     "execution_count": 54,
     "metadata": {},
     "output_type": "execute_result"
    }
   ],
   "source": [
    "theta = sym.symbols('theta')\n",
    "(sym.sin(theta) ** 2 + sym.cos(theta) ** 2).simplify()  == 1"
   ]
  },
  {
   "cell_type": "code",
   "execution_count": 55,
   "metadata": {
    "tags": [
     "solution"
    ]
   },
   "outputs": [
    {
     "data": {
      "text/plain": [
       "True"
      ]
     },
     "execution_count": 55,
     "metadata": {},
     "output_type": "execute_result"
    }
   ],
   "source": [
    "(2 * sym.cos(theta) * sym.sin(theta)).simplify() == sym.sin(2 * theta)"
   ]
  },
  {
   "cell_type": "markdown",
   "metadata": {
    "tags": [
     "solution"
    ]
   },
   "source": [
    "Mae angen gweithio bach yn galetach i wirio'r hafaliad fan hyn, cymerwch y gwahaniaeth a gweld ei fod yn hafal i 0."
   ]
  },
  {
   "cell_type": "code",
   "execution_count": 56,
   "metadata": {
    "tags": [
     "solution"
    ]
   },
   "outputs": [
    {
     "data": {
      "text/plain": [
       "0"
      ]
     },
     "execution_count": 56,
     "metadata": {},
     "output_type": "execute_result"
    }
   ],
   "source": [
    "((1 - sym.cos(theta)) / 2 - sym.sin(theta / 2) ** 2).simplify()"
   ]
  },
  {
   "cell_type": "markdown",
   "metadata": {
    "tags": [
     "solution"
    ]
   },
   "source": [
    "Gwelwn pa opsiynau gallwn basio i symbols:"
   ]
  },
  {
   "cell_type": "code",
   "execution_count": 57,
   "metadata": {
    "tags": [
     "solution"
    ]
   },
   "outputs": [],
   "source": [
    "sym.symbols?"
   ]
  },
  {
   "cell_type": "code",
   "execution_count": 58,
   "metadata": {
    "tags": [
     "solution"
    ]
   },
   "outputs": [
    {
     "data": {
      "text/plain": [
       "(-1)**n"
      ]
     },
     "execution_count": 58,
     "metadata": {},
     "output_type": "execute_result"
    }
   ],
   "source": [
    "n = sym.symbols('n', integer=True)\n",
    "sym.cos(n * sym.pi).simplify()"
   ]
  },
  {
   "cell_type": "markdown",
   "metadata": {},
   "source": [
    "### Ymarfer 3.\n",
    "\n",
    "Nod y cwestiwn yma yw archwilio i mewn i ddiffiniad y deilliad:\n",
    "\n",
    "\\\\[\n",
    "    \\frac{df}{dx}=\\lim_{h\\to 0}\\frac{f(x+h)-f(x)}{h}\n",
    "\\\\]\n",
    "\n",
    "1. Ystyriwch \\\\(f(x) = x^3 + 3x - 20\\\\);\n",
    "2. Cyfrifwch \\\\(\\frac{f(x+h)-f(x)}{h}\\\\);\n",
    "3. Cyfrifwch y terfan uchod wrth i \\\\(h\\to 0\\\\) a gwirio taw hwn yw deilliad \\\\(f\\\\)."
   ]
  },
  {
   "cell_type": "code",
   "execution_count": 59,
   "metadata": {
    "tags": [
     "solution"
    ]
   },
   "outputs": [],
   "source": [
    "def f(x):\n",
    "    return x ** 3 + 3 * x - 20"
   ]
  },
  {
   "cell_type": "code",
   "execution_count": 60,
   "metadata": {
    "tags": [
     "solution"
    ]
   },
   "outputs": [
    {
     "data": {
      "text/plain": [
       "(3*h - x**3 + (h + x)**3)/h"
      ]
     },
     "execution_count": 60,
     "metadata": {},
     "output_type": "execute_result"
    }
   ],
   "source": [
    "h, x = sym.symbols('h, x')\n",
    "rhs = (f(x + h) - f(x)) / h\n",
    "rhs"
   ]
  },
  {
   "cell_type": "code",
   "execution_count": 61,
   "metadata": {
    "tags": [
     "solution"
    ]
   },
   "outputs": [
    {
     "data": {
      "text/plain": [
       "3*x**2 + 3"
      ]
     },
     "execution_count": 61,
     "metadata": {},
     "output_type": "execute_result"
    }
   ],
   "source": [
    "sym.limit(rhs, h, 0)"
   ]
  },
  {
   "cell_type": "code",
   "execution_count": 62,
   "metadata": {
    "tags": [
     "solution"
    ]
   },
   "outputs": [
    {
     "data": {
      "text/plain": [
       "3*x**2 + 3"
      ]
     },
     "execution_count": 62,
     "metadata": {},
     "output_type": "execute_result"
    }
   ],
   "source": [
    "sym.diff(f(x), x)"
   ]
  },
  {
   "cell_type": "markdown",
   "metadata": {},
   "source": [
    "### Ymarfer 4.\n",
    "\n",
    "Canfyddwch ddatrysiad cyffredinol y 4 hafaliad differol:\n",
    "\n",
    "1. \\\\(\\frac{dy}{dx}-6y=3e^x\\\\)\n",
    "2. \\\\(\\frac{dy}{dx}+\\frac{x(2x-3)}{x^2+1}=\\sin(x)\\\\)\n",
    "3. \\\\(\\frac{d^2y}{dx^2}-y=\\sin(5x)\\\\)\n",
    "4. \\\\(\\frac{d^2y}{dx^2}+2\\frac{dy}{dx}+2x=\\cosh(x)\\\\)"
   ]
  },
  {
   "cell_type": "code",
   "execution_count": 63,
   "metadata": {
    "tags": [
     "solution"
    ]
   },
   "outputs": [
    {
     "data": {
      "text/plain": [
       "Eq(y(x), (C1 - 3*exp(-5*x)/5)*exp(6*x))"
      ]
     },
     "execution_count": 63,
     "metadata": {},
     "output_type": "execute_result"
    }
   ],
   "source": [
    "haf1 = sym.Derivative(y(x), x) - 6 * y(x) - 3 * sym.exp(x)\n",
    "dat1 = sym.dsolve(haf1, y(x))\n",
    "dat1"
   ]
  },
  {
   "cell_type": "code",
   "execution_count": 64,
   "metadata": {
    "tags": [
     "solution"
    ]
   },
   "outputs": [
    {
     "data": {
      "text/plain": [
       "Eq(y(x), C1 - 2*x + 3*log(x**2 + 1)/2 - cos(x) + 2*atan(x))"
      ]
     },
     "execution_count": 64,
     "metadata": {},
     "output_type": "execute_result"
    }
   ],
   "source": [
    "haf2 = sym.Derivative(y(x), x) + x * (2 * x - 3) / (x ** 2 + 1) - sym.sin(x)\n",
    "dat2 = sym.dsolve(haf2, y(x))\n",
    "dat2"
   ]
  },
  {
   "cell_type": "code",
   "execution_count": 65,
   "metadata": {
    "tags": [
     "solution"
    ]
   },
   "outputs": [
    {
     "data": {
      "text/plain": [
       "Eq(y(x), C1*exp(-x) + C2*exp(x) - sin(5*x)/26)"
      ]
     },
     "execution_count": 65,
     "metadata": {},
     "output_type": "execute_result"
    }
   ],
   "source": [
    "haf3 = sym.Derivative(y(x), x, 2) - y(x) - sym.sin(5 * x)\n",
    "dat3 = sym.dsolve(haf3, y(x))\n",
    "dat3"
   ]
  },
  {
   "cell_type": "code",
   "execution_count": 66,
   "metadata": {
    "tags": [
     "solution"
    ]
   },
   "outputs": [
    {
     "data": {
      "text/plain": [
       "Eq(y(x), C1 + C2*exp(-2*x) - x**2/2 + x/2 + 2*sinh(x)/3 - cosh(x)/3)"
      ]
     },
     "execution_count": 66,
     "metadata": {},
     "output_type": "execute_result"
    }
   ],
   "source": [
    "haf4 = sym.Derivative(y(x), x, 2) +  2 * sym.Derivative(y(x), x) + 2 * x - sym.cosh(x)\n",
    "dat4 = sym.dsolve(haf4, y(x))\n",
    "dat4"
   ]
  },
  {
   "cell_type": "markdown",
   "metadata": {},
   "source": [
    "### Ymarfer5.\n",
    "\n",
    "Gallwn fodelu brwydr rhwng dwy fyddin gyda'r set o hafaliadau differol canlynol:\n",
    "\n",
    "\\\\[\n",
    "   \\begin{cases}\n",
    "     \\frac{dx}{dt} = - y\\\\\n",
    "     \\frac{dy}{dt} = -5x\n",
    "   \\end{cases}\n",
    "\\\\]\n",
    "\n",
    "Canfyddwch ddatrysiad i'r system yma o hafaliadau."
   ]
  },
  {
   "cell_type": "code",
   "execution_count": 67,
   "metadata": {
    "tags": [
     "solution"
    ]
   },
   "outputs": [
    {
     "data": {
      "text/plain": [
       "[Eq(x(t), -C1*exp(-sqrt(5)*t) - C2*exp(sqrt(5)*t)), Eq(y(t), -sqrt(5)*C1*exp(-sqrt(5)*t) + sqrt(5)*C2*exp(sqrt(5)*t))]"
      ]
     },
     "execution_count": 67,
     "metadata": {},
     "output_type": "execute_result"
    }
   ],
   "source": [
    "x, y = sym.Function('x'), sym.Function('y')\n",
    "haf1 = sym.Derivative(x(t), t) + y(t)\n",
    "haf2 = sym.Derivative(y(t), t) + 5 * x(t)\n",
    "dats = sym.dsolve((haf1, haf2))\n",
    "dats"
   ]
  },
  {
   "cell_type": "markdown",
   "metadata": {},
   "source": [
    "---\n",
    "\n",
    "## Adnoddau pellach\n",
    "\n",
    "- [Nodiaday darlith scipy-lecture ar Sympy](https://www.scipy-lectures.org/packages/sympy.html)\n",
    "- [Dogfennaeth Sympy ar hafaliadau differol](https://docs.sympy.org/dev/modules/solvers/ode.html)"
   ]
  },
  {
   "cell_type": "code",
   "execution_count": null,
   "metadata": {},
   "outputs": [],
   "source": []
  }
 ],
 "metadata": {
  "anaconda-cloud": {},
  "celltoolbar": "Tags",
  "kernelspec": {
   "display_name": "Python 3",
   "language": "python",
   "name": "python3"
  },
  "language_info": {
   "codemirror_mode": {
    "name": "ipython",
    "version": 3
   },
   "file_extension": ".py",
   "mimetype": "text/x-python",
   "name": "python",
   "nbconvert_exporter": "python",
   "pygments_lexer": "ipython3",
   "version": "3.6.5"
  }
 },
 "nbformat": 4,
 "nbformat_minor": 2
}
