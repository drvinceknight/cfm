{
 "cells": [
  {
   "cell_type": "markdown",
   "metadata": {},
   "source": [
    "## Pennod 06: Trosolwg o lyfrgelloedd gwyddonol\n",
    "\n",
    "Yn symud ymlaen o Sympy, bydd y daflen lab yma yn rhoi trosolwg cryno ar nifer o lyfrgelloedd Python poblogaidd a all cael eu defnyddio i ddatrys nifer o broblemau gwahanol:\n",
    "\n",
    "- [numpy](http://www.numpy.org/) cyfrifiadau rhifyddeg effeithlon (er enghraifft i wneud algebra llinol effeithlon);\n",
    "- [matplotlib](https://matplotlib.org/) plotio;\n",
    "- [scipy](https://docs.scipy.org/doc/scipy/reference/) llyfrgell wyddonol cyffredinol (er enghraifft mae'n cynnwys algorithmau ar gyfer optimeiddio);\n",
    "- [networkx](https://networkx.github.io/) theori graff/rhwydwaith (er enghraifft i gyfrifo rhif cromatig graff);\n",
    "- [pandas](https://pandas.pydata.org/) triniaeth data (er enghraifft darllen data o ryw ffynhonnell a'i drin);\n",
    "- [scikit-learn](http://scikit-learn.org) dysgu peiriannol (dyma un o lyfrgelloedd mwyaf poblogaidd Python).\n",
    "\n",
    "\n",
    "Ni fydd y daflen lab yma yn rhoi trosolwg manwl o bob llyfrgell ond y nod yw rhoi cyflwyniad cryno o bob un.\n"
   ]
  },
  {
   "cell_type": "markdown",
   "metadata": {},
   "source": [
    "### Numpy - http://www.numpy.org/\n",
    "\n",
    "[Fideo yn disgrifio'r llyfrgell.](https://youtu.be/Z0uZ5b4FEwU)\n",
    "\n",
    "Llyfrgell sylfaenol ar gyfer gwneud cyfrifiadau effeithlon yw hyn. Y bloc adeiladu yma yw'r `numpy.array` a gall cael ei ddefnyddio ar gyfer triniaeth algebra llinol.\n",
    "\n",
    "Gadewch i ni fewnforio `numpy` a diffinio dau fatrics 3 wrth 3:"
   ]
  },
  {
   "cell_type": "code",
   "execution_count": 1,
   "metadata": {},
   "outputs": [],
   "source": [
    "import numpy as np\n",
    "A = np.array([[5, 1, -1], [-1, 2, 4], [1, 1, 1]])\n",
    "B = np.array([[1, 2, 0], [-4, 2, 2], [1, 3, 1]])"
   ]
  },
  {
   "cell_type": "markdown",
   "metadata": {},
   "source": [
    "Gallwn gael mynediad i \\\\(A_{02}\\\\) er enghraifft:"
   ]
  },
  {
   "cell_type": "code",
   "execution_count": 2,
   "metadata": {},
   "outputs": [
    {
     "data": {
      "text/plain": [
       "-1"
      ]
     },
     "execution_count": 2,
     "metadata": {},
     "output_type": "execute_result"
    }
   ],
   "source": [
    "A[0, 2]"
   ]
  },
  {
   "cell_type": "markdown",
   "metadata": {},
   "source": [
    "Neu rhes cyfan o \\\\(A\\\\):"
   ]
  },
  {
   "cell_type": "code",
   "execution_count": 3,
   "metadata": {},
   "outputs": [
    {
     "data": {
      "text/plain": [
       "array([ 5,  1, -1])"
      ]
     },
     "execution_count": 3,
     "metadata": {},
     "output_type": "execute_result"
    }
   ],
   "source": [
    "A[0]"
   ]
  },
  {
   "cell_type": "markdown",
   "metadata": {},
   "source": [
    "Neu golofn gyfan:"
   ]
  },
  {
   "cell_type": "code",
   "execution_count": 4,
   "metadata": {},
   "outputs": [
    {
     "data": {
      "text/plain": [
       "array([1, 2, 1])"
      ]
     },
     "execution_count": 4,
     "metadata": {},
     "output_type": "execute_result"
    }
   ],
   "source": [
    "A[:,1]"
   ]
  },
  {
   "cell_type": "markdown",
   "metadata": {},
   "source": [
    "Gallwn gyflawni lluosi sgalar:"
   ]
  },
  {
   "cell_type": "code",
   "execution_count": 5,
   "metadata": {},
   "outputs": [
    {
     "data": {
      "text/plain": [
       "array([[25,  5, -5],\n",
       "       [-5, 10, 20],\n",
       "       [ 5,  5,  5]])"
      ]
     },
     "execution_count": 5,
     "metadata": {},
     "output_type": "execute_result"
    }
   ],
   "source": [
    "5 * A"
   ]
  },
  {
   "cell_type": "markdown",
   "metadata": {},
   "source": [
    "Gallwn godi'r matrics i bŵer uchel:"
   ]
  },
  {
   "cell_type": "code",
   "execution_count": 6,
   "metadata": {},
   "outputs": [
    {
     "data": {
      "text/plain": [
       "array([[2357,  869,  211],\n",
       "       [ -59,  290,  506],\n",
       "       [ 599,  329,  231]])"
      ]
     },
     "execution_count": 6,
     "metadata": {},
     "output_type": "execute_result"
    }
   ],
   "source": [
    "np.linalg.matrix_power(A, 5)"
   ]
  },
  {
   "cell_type": "markdown",
   "metadata": {},
   "source": [
    "Gallwn adio matricsau:"
   ]
  },
  {
   "cell_type": "code",
   "execution_count": 7,
   "metadata": {},
   "outputs": [
    {
     "data": {
      "text/plain": [
       "array([[ 6,  3, -1],\n",
       "       [-5,  4,  6],\n",
       "       [ 2,  4,  2]])"
      ]
     },
     "execution_count": 7,
     "metadata": {},
     "output_type": "execute_result"
    }
   ],
   "source": [
    "A + B"
   ]
  },
  {
   "cell_type": "markdown",
   "metadata": {},
   "source": [
    "A gallwn wneud pethau mwy cymhleth fel lluosi matricsau:"
   ]
  },
  {
   "cell_type": "code",
   "execution_count": 8,
   "metadata": {},
   "outputs": [
    {
     "data": {
      "text/plain": [
       "array([[ 0,  9,  1],\n",
       "       [-5, 14,  8],\n",
       "       [-2,  7,  3]])"
      ]
     },
     "execution_count": 8,
     "metadata": {},
     "output_type": "execute_result"
    }
   ],
   "source": [
    "np.dot(A, B)"
   ]
  },
  {
   "cell_type": "markdown",
   "metadata": {},
   "source": [
    "A gallwch gael gwrthdro a determinant \\\\(A\\\\):"
   ]
  },
  {
   "cell_type": "code",
   "execution_count": 9,
   "metadata": {
    "tags": [
     "nbval-ignore-output"
    ]
   },
   "outputs": [
    {
     "data": {
      "text/plain": [
       "(array([[ 1. ,  1. , -3. ],\n",
       "        [-2.5, -3. ,  9.5],\n",
       "        [ 1.5,  2. , -5.5]]), -2.0)"
      ]
     },
     "execution_count": 9,
     "metadata": {},
     "output_type": "execute_result"
    }
   ],
   "source": [
    "np.linalg.inv(A), np.linalg.det(A)"
   ]
  },
  {
   "cell_type": "markdown",
   "metadata": {},
   "source": [
    "Mae hefyd gan Numpy nifer o ffwythiannau defnyddiol all fod yn ddefnyddiol hyd yn oed os nad ydyn yn gwneud algebra llinol. Er enghraifft gadewch i ni greu arae o 100 gwerth rhwng `-2` ac `1`:"
   ]
  },
  {
   "cell_type": "code",
   "execution_count": 10,
   "metadata": {},
   "outputs": [
    {
     "data": {
      "text/plain": [
       "array([-2.        , -1.96969697, -1.93939394, -1.90909091, -1.87878788,\n",
       "       -1.84848485, -1.81818182, -1.78787879, -1.75757576, -1.72727273,\n",
       "       -1.6969697 , -1.66666667, -1.63636364, -1.60606061, -1.57575758,\n",
       "       -1.54545455, -1.51515152, -1.48484848, -1.45454545, -1.42424242,\n",
       "       -1.39393939, -1.36363636, -1.33333333, -1.3030303 , -1.27272727,\n",
       "       -1.24242424, -1.21212121, -1.18181818, -1.15151515, -1.12121212,\n",
       "       -1.09090909, -1.06060606, -1.03030303, -1.        , -0.96969697,\n",
       "       -0.93939394, -0.90909091, -0.87878788, -0.84848485, -0.81818182,\n",
       "       -0.78787879, -0.75757576, -0.72727273, -0.6969697 , -0.66666667,\n",
       "       -0.63636364, -0.60606061, -0.57575758, -0.54545455, -0.51515152,\n",
       "       -0.48484848, -0.45454545, -0.42424242, -0.39393939, -0.36363636,\n",
       "       -0.33333333, -0.3030303 , -0.27272727, -0.24242424, -0.21212121,\n",
       "       -0.18181818, -0.15151515, -0.12121212, -0.09090909, -0.06060606,\n",
       "       -0.03030303,  0.        ,  0.03030303,  0.06060606,  0.09090909,\n",
       "        0.12121212,  0.15151515,  0.18181818,  0.21212121,  0.24242424,\n",
       "        0.27272727,  0.3030303 ,  0.33333333,  0.36363636,  0.39393939,\n",
       "        0.42424242,  0.45454545,  0.48484848,  0.51515152,  0.54545455,\n",
       "        0.57575758,  0.60606061,  0.63636364,  0.66666667,  0.6969697 ,\n",
       "        0.72727273,  0.75757576,  0.78787879,  0.81818182,  0.84848485,\n",
       "        0.87878788,  0.90909091,  0.93939394,  0.96969697,  1.        ])"
      ]
     },
     "execution_count": 10,
     "metadata": {},
     "output_type": "execute_result"
    }
   ],
   "source": [
    "np.linspace(-2, 1, 10 ** 2)"
   ]
  },
  {
   "cell_type": "markdown",
   "metadata": {},
   "source": [
    "---\n",
    "\n",
    "#### Adnoddau pellach ar gyfer Numpy\n",
    "\n",
    "- [Nodiadau darlith Scipy-lecture ar numpy](https://www.scipy-lectures.org/intro/numpy/index.html)\n",
    "- [Tiwtorial Numpy](https://docs.scipy.org/doc/numpy/user/quickstart.html)"
   ]
  },
  {
   "cell_type": "markdown",
   "metadata": {},
   "source": [
    "### Matplotlib - https://matplotlib.org/\n",
    "\n",
    "[Fideo yn disgrifio'r llyfrgell.](https://youtu.be/mS7n-T3IxOo)\n",
    "\n",
    "Dyma'r llyfrgell fwyaf poblogaidd ar gyfer Python ar gyfer creu plotiau. Byddwn yn dangos hwn yn gyntaf trwy greu plot o'r ffwythiant:\n",
    "\n",
    "\\\\[\n",
    "    -x ^ 4 + 9x ^ 2 + 4 x - 12\n",
    "\\\\]\n",
    "\n",
    "Rydym yn gwneud hwn trwy greu set o werthoedd \\\\(x\\\\) a chyfrifo'r set gyfatebol o werthoedd \\\\(f(x)\\\\):"
   ]
  },
  {
   "cell_type": "code",
   "execution_count": 11,
   "metadata": {},
   "outputs": [],
   "source": [
    "def f(x):\n",
    "    return - x ** 4 + 9 * x ** 2 + 4 * x - 12\n",
    "\n",
    "xs = np.linspace(-4, 5, 10 ** 3)  # Creu 1000 o bwyntiau\n",
    "ys = [f(x) for x in xs]"
   ]
  },
  {
   "cell_type": "markdown",
   "metadata": {},
   "source": [
    "Nawr rydym yn barod i fewnforio a defnyddio matplotlib:"
   ]
  },
  {
   "cell_type": "code",
   "execution_count": 12,
   "metadata": {
    "tags": [
     "nbval-ignore-output"
    ]
   },
   "outputs": [
    {
     "data": {
      "image/png": "[encoded data removed]",
      "text/plain": [
       "<Figure size 432x288 with 1 Axes>"
      ]
     },
     "metadata": {},
     "output_type": "display_data"
    }
   ],
   "source": [
    "import matplotlib.pyplot as plt\n",
    "\n",
    "%matplotlib inline\n",
    "\n",
    "plt.figure()\n",
    "plt.plot(xs, ys)\n",
    "plt.xlabel(\"$x$\")\n",
    "plt.ylabel(\"$y$\")\n",
    "plt.show()"
   ]
  },
  {
   "cell_type": "markdown",
   "metadata": {},
   "source": [
    "Nodwch fod y gorchymyn `%matplotlib inline` yn orchymyn arbennig i Jupyter sy'n sicrhâi y arddangosir plotiau yn y notebook hon.\n",
    "\n",
    "Gallwn arbed y ddelwedd yma i ffeil i'w ddefnyddio rhywle arall:"
   ]
  },
  {
   "cell_type": "code",
   "execution_count": 13,
   "metadata": {
    "tags": [
     "nbval-ignore-output"
    ]
   },
   "outputs": [
    {
     "data": {
      "image/png": "[encoded data removed]",
      "text/plain": [
       "<Figure size 432x288 with 1 Axes>"
      ]
     },
     "metadata": {},
     "output_type": "display_data"
    }
   ],
   "source": [
    "plt.figure()\n",
    "plt.plot(xs, ys)\n",
    "plt.xlabel(\"$x$\")\n",
    "plt.ylabel(\"$y$\")\n",
    "plt.savefig(\"plot.pdf\")   # arbrofwch gyda `.png`, `.jpg` ayyb..."
   ]
  },
  {
   "cell_type": "markdown",
   "metadata": {},
   "source": [
    "Nodwch gallwn greu nifer o wahanol fathau o blotiau, er enghraifft dyma histogram o 1000 haprif a generadwyd gan numpy:"
   ]
  },
  {
   "cell_type": "code",
   "execution_count": 14,
   "metadata": {
    "tags": [
     "nbval-ignore-output"
    ]
   },
   "outputs": [
    {
     "data": {
      "image/png": "[encoded data removed]",
      "text/plain": [
       "<Figure size 432x288 with 1 Axes>"
      ]
     },
     "metadata": {},
     "output_type": "display_data"
    }
   ],
   "source": [
    "np.random.seed(0)  # Gosod hedyn\n",
    "values = np.random.normal(size=10 ** 3)\n",
    "plt.figure()\n",
    "plt.hist(values, bins=20)\n",
    "plt.xlabel(\"$Gwerth$\")\n",
    "plt.ylabel(\"Amledd\")\n",
    "plt.show()"
   ]
  },
  {
   "cell_type": "markdown",
   "metadata": {},
   "source": [
    "----\n",
    "\n",
    "#### Adnoddau pellach ar gyfer matplotlib\n",
    "\n",
    "- [Tiwtorial matplotlib](https://matplotlib.org/users/pyplot_tutorial.html)\n",
    "- [Tiwtorial rhyngweithiol matplotlib](https://www.datacamp.com/community/tutorials/matplotlib-tutorial-python)"
   ]
  },
  {
   "cell_type": "markdown",
   "metadata": {},
   "source": [
    "### Scipy - https://docs.scipy.org/doc/scipy/reference/\n",
    "\n",
    "[Fideo yn disgrifio'r llyfrgell.](https://youtu.be/9hzrB2Yj0tk)\n",
    "\n",
    "Llyfrgell yw Scipy sy'n casglu nifer o alluoedd gwahanol. Un peth gall e wneud yw canfod gwreiddiau trwy ddefnyddio technegau brasamcan rhifiadol:"
   ]
  },
  {
   "cell_type": "code",
   "execution_count": 15,
   "metadata": {},
   "outputs": [],
   "source": [
    "from scipy import optimize"
   ]
  },
  {
   "cell_type": "code",
   "execution_count": 16,
   "metadata": {},
   "outputs": [
    {
     "data": {
      "text/plain": [
       "    fjac: array([[-1.]])\n",
       "     fun: array([0.])\n",
       " message: 'The solution converged.'\n",
       "    nfev: 6\n",
       "     qtf: array([4.84234874e-12])\n",
       "       r: array([49.99999584])\n",
       "  status: 1\n",
       " success: True\n",
       "       x: array([3.])"
      ]
     },
     "execution_count": 16,
     "metadata": {},
     "output_type": "execute_result"
    }
   ],
   "source": [
    "optimize.root(f, x0=0)"
   ]
  },
  {
   "cell_type": "code",
   "execution_count": 17,
   "metadata": {},
   "outputs": [
    {
     "data": {
      "text/plain": [
       "0"
      ]
     },
     "execution_count": 17,
     "metadata": {},
     "output_type": "execute_result"
    }
   ],
   "source": [
    "f(3)"
   ]
  },
  {
   "cell_type": "markdown",
   "metadata": {},
   "source": [
    "Gall hefyd minimeiddio ffwythiannau (gyda mwy nag un newidyn):"
   ]
  },
  {
   "cell_type": "code",
   "execution_count": 18,
   "metadata": {},
   "outputs": [],
   "source": [
    "def g(x):\n",
    "    \"\"\"Tybiwn fod g yn ffwythiant o 2 newidyn a bod x yn fector\"\"\"\n",
    "    return np.cos(x[1]) / (1 + x[0])"
   ]
  },
  {
   "cell_type": "code",
   "execution_count": 19,
   "metadata": {},
   "outputs": [
    {
     "data": {
      "text/plain": [
       "      fun: 0.002697614111595088\n",
       " hess_inv: array([[7.11535655e+06, 5.36889474e+00],\n",
       "       [5.36889474e+00, 1.00000405e+00]])\n",
       "      jac: array([-7.27712177e-06, -7.03148544e-07])\n",
       "  message: 'Optimization terminated successfully.'\n",
       "     nfev: 84\n",
       "      nit: 20\n",
       "     njev: 21\n",
       "   status: 0\n",
       "  success: True\n",
       "        x: array([3.6969793e+02, 2.6064249e-04])"
      ]
     },
     "execution_count": 19,
     "metadata": {},
     "output_type": "execute_result"
    }
   ],
   "source": [
    "optimize.minimize(g, x0=[0, 0])"
   ]
  },
  {
   "cell_type": "markdown",
   "metadata": {},
   "source": [
    "Gallwn hefyd ffitio ffwythiant i ddata, fan hyn byddwn yn creu data sy'n dilyn cromlin, ychwanegu bach o sŵn, a cheisio adfer y ffwythiant:"
   ]
  },
  {
   "cell_type": "code",
   "execution_count": 20,
   "metadata": {},
   "outputs": [],
   "source": [
    "def ffwyth(x, a, b):\n",
    "    return a * x ** 2 + b\n",
    "\n",
    "xs = np.linspace(0, 10, 50)\n",
    "gwerth_a, gwerth_b = 1 / 2, 70\n",
    "np.random.seed(0)\n",
    "ys = [ffwyth(x, a=gwerth_a, b=gwerth_b) + 2 * np.random.random() for x in xs]"
   ]
  },
  {
   "cell_type": "markdown",
   "metadata": {},
   "source": [
    "Edrychwn ar y data:"
   ]
  },
  {
   "cell_type": "code",
   "execution_count": 21,
   "metadata": {
    "tags": [
     "nbval-ignore-output"
    ]
   },
   "outputs": [
    {
     "data": {
      "image/png": "[encoded data removed]",
      "text/plain": [
       "<Figure size 432x288 with 1 Axes>"
      ]
     },
     "metadata": {},
     "output_type": "display_data"
    }
   ],
   "source": [
    "plt.figure()\n",
    "plt.scatter(xs, ys)\n",
    "plt.show()"
   ]
  },
  {
   "cell_type": "code",
   "execution_count": 22,
   "metadata": {},
   "outputs": [],
   "source": [
    "popt, pcov = optimize.curve_fit(ffwyth, xs, ys)"
   ]
  },
  {
   "cell_type": "markdown",
   "metadata": {},
   "source": [
    "Adferwn ni'r gwerthoedd o `a` a `b`:"
   ]
  },
  {
   "cell_type": "code",
   "execution_count": 23,
   "metadata": {},
   "outputs": [
    {
     "data": {
      "text/plain": [
       "array([ 0.49563406, 71.22294657])"
      ]
     },
     "execution_count": 23,
     "metadata": {},
     "output_type": "execute_result"
    }
   ],
   "source": [
    "popt"
   ]
  },
  {
   "cell_type": "code",
   "execution_count": 24,
   "metadata": {
    "scrolled": true,
    "tags": [
     "nbval-ignore-output"
    ]
   },
   "outputs": [
    {
     "data": {
      "image/png": "[encoded data removed]",
      "text/plain": [
       "<Figure size 432x288 with 1 Axes>"
      ]
     },
     "metadata": {},
     "output_type": "display_data"
    }
   ],
   "source": [
    "ys_ffitiwyd = [ffwyth(x, *popt) for x in xs]\n",
    "plt.scatter(xs, ys, label=\"Data gwreiddiol\")\n",
    "plt.plot(xs, ys_ffitiwyd, label=\"Data a ffitiwyd\", color=\"red\")\n",
    "plt.show()"
   ]
  },
  {
   "cell_type": "markdown",
   "metadata": {},
   "source": [
    "---\n",
    "\n",
    "#### Adnoddau pellach ar gyfer scipy\n",
    "\n",
    "- [Nodiadau darlith Scipy](https://www.scipy-lectures.org/)"
   ]
  },
  {
   "cell_type": "markdown",
   "metadata": {},
   "source": [
    "### Networkx - https://networkx.github.io/\n",
    "\n",
    "[Fideo yn disgrifio'r llyfrgell.](https://youtu.be/VU3XC6MjJ70)\n",
    "\n",
    "Mae Networkx yn delio gyda gwrthrychau o theori graff. Gallwn greu graff mewn nifer o ffyrdd gwahanol, un o'r symlaf yw pasio set o ymylon. Fan hyn rydym yn mewnforio'r llyfrgell a chreu gwrthrych graff:"
   ]
  },
  {
   "cell_type": "code",
   "execution_count": 25,
   "metadata": {
    "tags": [
     "nbval-ignore-output"
    ]
   },
   "outputs": [
    {
     "data": {
      "text/plain": [
       "<networkx.classes.graph.Graph at 0x1013aa6dd8>"
      ]
     },
     "execution_count": 25,
     "metadata": {},
     "output_type": "execute_result"
    }
   ],
   "source": [
    "import networkx as nx\n",
    "edges = [(0, 1), (0, 2), (0, 3), (1, 2), (1, 3)]\n",
    "G = nx.Graph(edges)\n",
    "G"
   ]
  },
  {
   "cell_type": "markdown",
   "metadata": {},
   "source": [
    "Mae'n bosib cael matrics cyfagosrwydd y graff:"
   ]
  },
  {
   "cell_type": "code",
   "execution_count": 26,
   "metadata": {},
   "outputs": [
    {
     "data": {
      "text/plain": [
       "array([[0., 1., 1., 1.],\n",
       "       [1., 0., 1., 1.],\n",
       "       [1., 1., 0., 0.],\n",
       "       [1., 1., 0., 0.]])"
      ]
     },
     "execution_count": 26,
     "metadata": {},
     "output_type": "execute_result"
    }
   ],
   "source": [
    "M = nx.to_numpy_array(G)\n",
    "M"
   ]
  },
  {
   "cell_type": "markdown",
   "metadata": {},
   "source": [
    "Mae hefyd yn bosib tynnu llun y graff:"
   ]
  },
  {
   "cell_type": "code",
   "execution_count": 27,
   "metadata": {
    "tags": [
     "nbval-ignore-output"
    ]
   },
   "outputs": [
    {
     "data": {
      "image/png": "[encoded data removed]",
      "text/plain": [
       "<Figure size 432x288 with 1 Axes>"
      ]
     },
     "metadata": {},
     "output_type": "display_data"
    }
   ],
   "source": [
    "plt.figure()\n",
    "nx.draw(G)"
   ]
  },
  {
   "cell_type": "markdown",
   "metadata": {},
   "source": [
    "Gallwch gyfrifo lliwio graff:"
   ]
  },
  {
   "cell_type": "code",
   "execution_count": 28,
   "metadata": {},
   "outputs": [
    {
     "data": {
      "text/plain": [
       "{0: 0, 1: 1, 2: 2, 3: 2}"
      ]
     },
     "execution_count": 28,
     "metadata": {},
     "output_type": "execute_result"
    }
   ],
   "source": [
    "lliwio = nx.greedy_color(G)\n",
    "lliwio"
   ]
  },
  {
   "cell_type": "markdown",
   "metadata": {},
   "source": [
    "A gwelwn taw rhif cromatig y graff yw 3:"
   ]
  },
  {
   "cell_type": "code",
   "execution_count": 29,
   "metadata": {},
   "outputs": [
    {
     "data": {
      "text/plain": [
       "3"
      ]
     },
     "execution_count": 29,
     "metadata": {},
     "output_type": "execute_result"
    }
   ],
   "source": [
    "len(set(lliwio.values()))"
   ]
  },
  {
   "cell_type": "markdown",
   "metadata": {},
   "source": [
    "---\n",
    "\n",
    "#### Adnoddau pellach ar gyfer networkx\n",
    "\n",
    "- [Tiwtorial Networkx](https://networkx.github.io/documentation/stable/tutorial.html)\n",
    "- [Problem y postmon Tseiniaidd gyda networkx](https://www.datacamp.com/community/tutorials/networkx-python-graph-tutorial)\n",
    "- [Dadansoddi Game of Thrones gyda networkx](https://nikoleta-v3.github.io/blog/2017/10/19/python-graphs-got.html)"
   ]
  },
  {
   "cell_type": "markdown",
   "metadata": {},
   "source": [
    "### Pandas - https://pandas.pydata.org/\n",
    "\n",
    "[Fideo yn disgrifio'r llyfrgell.](https://youtu.be/jFFdf5Wm6UU)\n",
    "\n",
    "Pandas yw brif lyfrgell Python ar gyfer trin data. Fel enghraifft byddwn yn ystyried set data at affêrau caru ar y slei: `affairs.csv` ([download](/{{root}}/nbs/chapters/affairs.csv)). Mae'r data yma o'r papur ymchwil canlynol:\n",
    "\n",
    "> Fair, Ray C. \"A theory of extramarital affairs.\" Journal of Political Economy 86.1 (1978): 45-61.\n",
    "\n",
    "Mae pdf ar gael fan hyn: https://fairmodel.econ.yale.edu/rayfair/pdf/1978A200.PDF\n",
    "\n",
    "Gadewch i ni fewnforio pandas a darllen y set data:"
   ]
  },
  {
   "cell_type": "code",
   "execution_count": 30,
   "metadata": {},
   "outputs": [],
   "source": [
    "import pandas as pd\n",
    "df = pd.read_csv(\"affairs.csv\")"
   ]
  },
  {
   "cell_type": "markdown",
   "metadata": {},
   "source": [
    "Gallwn weld pen y set data:"
   ]
  },
  {
   "cell_type": "code",
   "execution_count": 31,
   "metadata": {},
   "outputs": [
    {
     "data": {
      "text/html": [
       "<div>\n",
       "<style scoped>\n",
       "    .dataframe tbody tr th:only-of-type {\n",
       "        vertical-align: middle;\n",
       "    }\n",
       "\n",
       "    .dataframe tbody tr th {\n",
       "        vertical-align: top;\n",
       "    }\n",
       "\n",
       "    .dataframe thead th {\n",
       "        text-align: right;\n",
       "    }\n",
       "</style>\n",
       "<table border=\"1\" class=\"dataframe\">\n",
       "  <thead>\n",
       "    <tr style=\"text-align: right;\">\n",
       "      <th></th>\n",
       "      <th>sex</th>\n",
       "      <th>age</th>\n",
       "      <th>ym</th>\n",
       "      <th>child</th>\n",
       "      <th>religious</th>\n",
       "      <th>education</th>\n",
       "      <th>occupation</th>\n",
       "      <th>rate</th>\n",
       "      <th>nbaffairs</th>\n",
       "    </tr>\n",
       "  </thead>\n",
       "  <tbody>\n",
       "    <tr>\n",
       "      <th>0</th>\n",
       "      <td>male</td>\n",
       "      <td>37.0</td>\n",
       "      <td>10.00</td>\n",
       "      <td>no</td>\n",
       "      <td>3</td>\n",
       "      <td>18</td>\n",
       "      <td>7</td>\n",
       "      <td>4</td>\n",
       "      <td>0</td>\n",
       "    </tr>\n",
       "    <tr>\n",
       "      <th>1</th>\n",
       "      <td>female</td>\n",
       "      <td>27.0</td>\n",
       "      <td>4.00</td>\n",
       "      <td>no</td>\n",
       "      <td>4</td>\n",
       "      <td>14</td>\n",
       "      <td>6</td>\n",
       "      <td>4</td>\n",
       "      <td>0</td>\n",
       "    </tr>\n",
       "    <tr>\n",
       "      <th>2</th>\n",
       "      <td>female</td>\n",
       "      <td>32.0</td>\n",
       "      <td>15.00</td>\n",
       "      <td>yes</td>\n",
       "      <td>1</td>\n",
       "      <td>12</td>\n",
       "      <td>1</td>\n",
       "      <td>4</td>\n",
       "      <td>0</td>\n",
       "    </tr>\n",
       "    <tr>\n",
       "      <th>3</th>\n",
       "      <td>male</td>\n",
       "      <td>57.0</td>\n",
       "      <td>15.00</td>\n",
       "      <td>yes</td>\n",
       "      <td>5</td>\n",
       "      <td>18</td>\n",
       "      <td>6</td>\n",
       "      <td>5</td>\n",
       "      <td>0</td>\n",
       "    </tr>\n",
       "    <tr>\n",
       "      <th>4</th>\n",
       "      <td>male</td>\n",
       "      <td>22.0</td>\n",
       "      <td>0.75</td>\n",
       "      <td>no</td>\n",
       "      <td>2</td>\n",
       "      <td>17</td>\n",
       "      <td>6</td>\n",
       "      <td>3</td>\n",
       "      <td>0</td>\n",
       "    </tr>\n",
       "  </tbody>\n",
       "</table>\n",
       "</div>"
      ],
      "text/plain": [
       "      sex   age     ym child  religious  education  occupation  rate  \\\n",
       "0    male  37.0  10.00    no          3         18           7     4   \n",
       "1  female  27.0   4.00    no          4         14           6     4   \n",
       "2  female  32.0  15.00   yes          1         12           1     4   \n",
       "3    male  57.0  15.00   yes          5         18           6     5   \n",
       "4    male  22.0   0.75    no          2         17           6     3   \n",
       "\n",
       "   nbaffairs  \n",
       "0          0  \n",
       "1          0  \n",
       "2          0  \n",
       "3          0  \n",
       "4          0  "
      ]
     },
     "execution_count": 31,
     "metadata": {},
     "output_type": "execute_result"
    }
   ],
   "source": [
    "df.head()"
   ]
  },
  {
   "cell_type": "markdown",
   "metadata": {},
   "source": [
    "O'r papur gallwn ddarllen y newidynnau:\n",
    "\n",
    "- `sex`: Rhyw a adroddwyd yr unigolyn;\n",
    "- `age`: Oedran yr unigolyn;\n",
    "- `ym`: Nifer o flynyddoedd yn briod;\n",
    "- `child`: Os oes gan yr unigolyn plentyn;\n",
    "- `religious`: Pa mor grefyddol yw'r unigolyn (`5`: \"iawn\", `1`: \"dim\");\n",
    "- `education`: Lefel addysg (`9`: ysgol gradd, `20`: PhD neu MD);\n",
    "- `occupation`: Swydd yn seiliedig ar raddfa o'r enw \"Hollingshead classification\";\n",
    "- `rate`: Mesur yr unigolyn o'i briodas (`5`: \"hapus iawn\", `1`: \"anhapus iawn\").\n",
    "\n",
    "Gallwn gael trosolwg gloi o'r data gan ddefnyddio'r dull `describe()`:"
   ]
  },
  {
   "cell_type": "code",
   "execution_count": 32,
   "metadata": {},
   "outputs": [
    {
     "data": {
      "text/html": [
       "<div>\n",
       "<style scoped>\n",
       "    .dataframe tbody tr th:only-of-type {\n",
       "        vertical-align: middle;\n",
       "    }\n",
       "\n",
       "    .dataframe tbody tr th {\n",
       "        vertical-align: top;\n",
       "    }\n",
       "\n",
       "    .dataframe thead th {\n",
       "        text-align: right;\n",
       "    }\n",
       "</style>\n",
       "<table border=\"1\" class=\"dataframe\">\n",
       "  <thead>\n",
       "    <tr style=\"text-align: right;\">\n",
       "      <th></th>\n",
       "      <th>age</th>\n",
       "      <th>ym</th>\n",
       "      <th>religious</th>\n",
       "      <th>education</th>\n",
       "      <th>occupation</th>\n",
       "      <th>rate</th>\n",
       "      <th>nbaffairs</th>\n",
       "    </tr>\n",
       "  </thead>\n",
       "  <tbody>\n",
       "    <tr>\n",
       "      <th>count</th>\n",
       "      <td>601.000000</td>\n",
       "      <td>601.000000</td>\n",
       "      <td>601.000000</td>\n",
       "      <td>601.000000</td>\n",
       "      <td>601.000000</td>\n",
       "      <td>601.000000</td>\n",
       "      <td>601.000000</td>\n",
       "    </tr>\n",
       "    <tr>\n",
       "      <th>mean</th>\n",
       "      <td>32.487521</td>\n",
       "      <td>8.177696</td>\n",
       "      <td>3.116473</td>\n",
       "      <td>16.166389</td>\n",
       "      <td>4.194676</td>\n",
       "      <td>3.931780</td>\n",
       "      <td>1.455907</td>\n",
       "    </tr>\n",
       "    <tr>\n",
       "      <th>std</th>\n",
       "      <td>9.288762</td>\n",
       "      <td>5.571303</td>\n",
       "      <td>1.167509</td>\n",
       "      <td>2.402555</td>\n",
       "      <td>1.819443</td>\n",
       "      <td>1.103179</td>\n",
       "      <td>3.298758</td>\n",
       "    </tr>\n",
       "    <tr>\n",
       "      <th>min</th>\n",
       "      <td>17.500000</td>\n",
       "      <td>0.125000</td>\n",
       "      <td>1.000000</td>\n",
       "      <td>9.000000</td>\n",
       "      <td>1.000000</td>\n",
       "      <td>1.000000</td>\n",
       "      <td>0.000000</td>\n",
       "    </tr>\n",
       "    <tr>\n",
       "      <th>25%</th>\n",
       "      <td>27.000000</td>\n",
       "      <td>4.000000</td>\n",
       "      <td>2.000000</td>\n",
       "      <td>14.000000</td>\n",
       "      <td>3.000000</td>\n",
       "      <td>3.000000</td>\n",
       "      <td>0.000000</td>\n",
       "    </tr>\n",
       "    <tr>\n",
       "      <th>50%</th>\n",
       "      <td>32.000000</td>\n",
       "      <td>7.000000</td>\n",
       "      <td>3.000000</td>\n",
       "      <td>16.000000</td>\n",
       "      <td>5.000000</td>\n",
       "      <td>4.000000</td>\n",
       "      <td>0.000000</td>\n",
       "    </tr>\n",
       "    <tr>\n",
       "      <th>75%</th>\n",
       "      <td>37.000000</td>\n",
       "      <td>15.000000</td>\n",
       "      <td>4.000000</td>\n",
       "      <td>18.000000</td>\n",
       "      <td>6.000000</td>\n",
       "      <td>5.000000</td>\n",
       "      <td>0.000000</td>\n",
       "    </tr>\n",
       "    <tr>\n",
       "      <th>max</th>\n",
       "      <td>57.000000</td>\n",
       "      <td>15.000000</td>\n",
       "      <td>5.000000</td>\n",
       "      <td>20.000000</td>\n",
       "      <td>7.000000</td>\n",
       "      <td>5.000000</td>\n",
       "      <td>12.000000</td>\n",
       "    </tr>\n",
       "  </tbody>\n",
       "</table>\n",
       "</div>"
      ],
      "text/plain": [
       "              age          ym   religious   education  occupation        rate  \\\n",
       "count  601.000000  601.000000  601.000000  601.000000  601.000000  601.000000   \n",
       "mean    32.487521    8.177696    3.116473   16.166389    4.194676    3.931780   \n",
       "std      9.288762    5.571303    1.167509    2.402555    1.819443    1.103179   \n",
       "min     17.500000    0.125000    1.000000    9.000000    1.000000    1.000000   \n",
       "25%     27.000000    4.000000    2.000000   14.000000    3.000000    3.000000   \n",
       "50%     32.000000    7.000000    3.000000   16.000000    5.000000    4.000000   \n",
       "75%     37.000000   15.000000    4.000000   18.000000    6.000000    5.000000   \n",
       "max     57.000000   15.000000    5.000000   20.000000    7.000000    5.000000   \n",
       "\n",
       "        nbaffairs  \n",
       "count  601.000000  \n",
       "mean     1.455907  \n",
       "std      3.298758  \n",
       "min      0.000000  \n",
       "25%      0.000000  \n",
       "50%      0.000000  \n",
       "75%      0.000000  \n",
       "max     12.000000  "
      ]
     },
     "execution_count": 32,
     "metadata": {},
     "output_type": "execute_result"
    }
   ],
   "source": [
    "df.describe()"
   ]
  },
  {
   "cell_type": "markdown",
   "metadata": {},
   "source": [
    "Gallwn hefyd sleisio'r data mewn ffyrdd penodol, er enghraifft sut y mae'r rhif cymedrig o affêrau yn perthyn i fesur y briodas ac os yw'r unigolyn yn wryw neu’n fenyw?"
   ]
  },
  {
   "cell_type": "code",
   "execution_count": 33,
   "metadata": {},
   "outputs": [
    {
     "data": {
      "text/plain": [
       "sex     rate\n",
       "female  1       4.545455\n",
       "        2       3.371429\n",
       "        3       1.782609\n",
       "        4       0.967742\n",
       "        5       0.823077\n",
       "male    1       2.400000\n",
       "        2       4.548387\n",
       "        3       1.085106\n",
       "        4       1.623762\n",
       "        5       0.588235\n",
       "Name: nbaffairs, dtype: float64"
      ]
     },
     "execution_count": 33,
     "metadata": {},
     "output_type": "execute_result"
    }
   ],
   "source": [
    "df.groupby([\"sex\", \"rate\"])[\"nbaffairs\"].mean()"
   ]
  },
  {
   "cell_type": "markdown",
   "metadata": {},
   "source": [
    "Gallwn hefyd sleisio'r data gyda llaw, er enghraifft os hoffwn y data ar gyfer pobl wryw yn unig:"
   ]
  },
  {
   "cell_type": "code",
   "execution_count": 34,
   "metadata": {},
   "outputs": [
    {
     "data": {
      "text/html": [
       "<div>\n",
       "<style scoped>\n",
       "    .dataframe tbody tr th:only-of-type {\n",
       "        vertical-align: middle;\n",
       "    }\n",
       "\n",
       "    .dataframe tbody tr th {\n",
       "        vertical-align: top;\n",
       "    }\n",
       "\n",
       "    .dataframe thead th {\n",
       "        text-align: right;\n",
       "    }\n",
       "</style>\n",
       "<table border=\"1\" class=\"dataframe\">\n",
       "  <thead>\n",
       "    <tr style=\"text-align: right;\">\n",
       "      <th></th>\n",
       "      <th>sex</th>\n",
       "      <th>age</th>\n",
       "      <th>ym</th>\n",
       "      <th>child</th>\n",
       "      <th>religious</th>\n",
       "      <th>education</th>\n",
       "      <th>occupation</th>\n",
       "      <th>rate</th>\n",
       "      <th>nbaffairs</th>\n",
       "    </tr>\n",
       "  </thead>\n",
       "  <tbody>\n",
       "    <tr>\n",
       "      <th>0</th>\n",
       "      <td>male</td>\n",
       "      <td>37.0</td>\n",
       "      <td>10.00</td>\n",
       "      <td>no</td>\n",
       "      <td>3</td>\n",
       "      <td>18</td>\n",
       "      <td>7</td>\n",
       "      <td>4</td>\n",
       "      <td>0</td>\n",
       "    </tr>\n",
       "    <tr>\n",
       "      <th>3</th>\n",
       "      <td>male</td>\n",
       "      <td>57.0</td>\n",
       "      <td>15.00</td>\n",
       "      <td>yes</td>\n",
       "      <td>5</td>\n",
       "      <td>18</td>\n",
       "      <td>6</td>\n",
       "      <td>5</td>\n",
       "      <td>0</td>\n",
       "    </tr>\n",
       "    <tr>\n",
       "      <th>4</th>\n",
       "      <td>male</td>\n",
       "      <td>22.0</td>\n",
       "      <td>0.75</td>\n",
       "      <td>no</td>\n",
       "      <td>2</td>\n",
       "      <td>17</td>\n",
       "      <td>6</td>\n",
       "      <td>3</td>\n",
       "      <td>0</td>\n",
       "    </tr>\n",
       "    <tr>\n",
       "      <th>7</th>\n",
       "      <td>male</td>\n",
       "      <td>57.0</td>\n",
       "      <td>15.00</td>\n",
       "      <td>yes</td>\n",
       "      <td>2</td>\n",
       "      <td>14</td>\n",
       "      <td>4</td>\n",
       "      <td>4</td>\n",
       "      <td>0</td>\n",
       "    </tr>\n",
       "    <tr>\n",
       "      <th>9</th>\n",
       "      <td>male</td>\n",
       "      <td>22.0</td>\n",
       "      <td>1.50</td>\n",
       "      <td>no</td>\n",
       "      <td>4</td>\n",
       "      <td>14</td>\n",
       "      <td>4</td>\n",
       "      <td>5</td>\n",
       "      <td>0</td>\n",
       "    </tr>\n",
       "    <tr>\n",
       "      <th>...</th>\n",
       "      <td>...</td>\n",
       "      <td>...</td>\n",
       "      <td>...</td>\n",
       "      <td>...</td>\n",
       "      <td>...</td>\n",
       "      <td>...</td>\n",
       "      <td>...</td>\n",
       "      <td>...</td>\n",
       "      <td>...</td>\n",
       "    </tr>\n",
       "    <tr>\n",
       "      <th>594</th>\n",
       "      <td>male</td>\n",
       "      <td>32.0</td>\n",
       "      <td>10.00</td>\n",
       "      <td>yes</td>\n",
       "      <td>4</td>\n",
       "      <td>14</td>\n",
       "      <td>4</td>\n",
       "      <td>3</td>\n",
       "      <td>3</td>\n",
       "    </tr>\n",
       "    <tr>\n",
       "      <th>595</th>\n",
       "      <td>male</td>\n",
       "      <td>47.0</td>\n",
       "      <td>15.00</td>\n",
       "      <td>yes</td>\n",
       "      <td>3</td>\n",
       "      <td>16</td>\n",
       "      <td>4</td>\n",
       "      <td>2</td>\n",
       "      <td>7</td>\n",
       "    </tr>\n",
       "    <tr>\n",
       "      <th>596</th>\n",
       "      <td>male</td>\n",
       "      <td>22.0</td>\n",
       "      <td>1.50</td>\n",
       "      <td>yes</td>\n",
       "      <td>1</td>\n",
       "      <td>12</td>\n",
       "      <td>2</td>\n",
       "      <td>5</td>\n",
       "      <td>1</td>\n",
       "    </tr>\n",
       "    <tr>\n",
       "      <th>598</th>\n",
       "      <td>male</td>\n",
       "      <td>32.0</td>\n",
       "      <td>10.00</td>\n",
       "      <td>yes</td>\n",
       "      <td>2</td>\n",
       "      <td>17</td>\n",
       "      <td>6</td>\n",
       "      <td>5</td>\n",
       "      <td>2</td>\n",
       "    </tr>\n",
       "    <tr>\n",
       "      <th>599</th>\n",
       "      <td>male</td>\n",
       "      <td>22.0</td>\n",
       "      <td>7.00</td>\n",
       "      <td>yes</td>\n",
       "      <td>3</td>\n",
       "      <td>18</td>\n",
       "      <td>6</td>\n",
       "      <td>2</td>\n",
       "      <td>2</td>\n",
       "    </tr>\n",
       "  </tbody>\n",
       "</table>\n",
       "<p>286 rows × 9 columns</p>\n",
       "</div>"
      ],
      "text/plain": [
       "      sex   age     ym child  religious  education  occupation  rate  \\\n",
       "0    male  37.0  10.00    no          3         18           7     4   \n",
       "3    male  57.0  15.00   yes          5         18           6     5   \n",
       "4    male  22.0   0.75    no          2         17           6     3   \n",
       "7    male  57.0  15.00   yes          2         14           4     4   \n",
       "9    male  22.0   1.50    no          4         14           4     5   \n",
       "..    ...   ...    ...   ...        ...        ...         ...   ...   \n",
       "594  male  32.0  10.00   yes          4         14           4     3   \n",
       "595  male  47.0  15.00   yes          3         16           4     2   \n",
       "596  male  22.0   1.50   yes          1         12           2     5   \n",
       "598  male  32.0  10.00   yes          2         17           6     5   \n",
       "599  male  22.0   7.00   yes          3         18           6     2   \n",
       "\n",
       "     nbaffairs  \n",
       "0            0  \n",
       "3            0  \n",
       "4            0  \n",
       "7            0  \n",
       "9            0  \n",
       "..         ...  \n",
       "594          3  \n",
       "595          7  \n",
       "596          1  \n",
       "598          2  \n",
       "599          2  \n",
       "\n",
       "[286 rows x 9 columns]"
      ]
     },
     "execution_count": 34,
     "metadata": {},
     "output_type": "execute_result"
    }
   ],
   "source": [
    "df[df[\"sex\"] == \"male\"]"
   ]
  },
  {
   "cell_type": "markdown",
   "metadata": {},
   "source": [
    "Gallwn gyfuno hwn gyda matplotlib er mwyn cael plot y rhif cymedrig o affêrau ar sail mesur priodas a rhyw:"
   ]
  },
  {
   "cell_type": "code",
   "execution_count": 35,
   "metadata": {
    "tags": [
     "nbval-ignore-output"
    ]
   },
   "outputs": [
    {
     "data": {
      "image/png": "[encoded data removed]",
      "text/plain": [
       "<Figure size 432x288 with 1 Axes>"
      ]
     },
     "metadata": {},
     "output_type": "display_data"
    }
   ],
   "source": [
    "plt.figure()\n",
    "for sex in [\"male\", \"female\"]:\n",
    "    plt.scatter(range(1, 5 + 1), df[df[\"sex\"] == sex].groupby(\"rate\")[\"nbaffairs\"].mean(), label=sex)\n",
    "plt.legend()\n",
    "plt.xlabel(\"rate\")\n",
    "plt.ylabel(\"mean nbaffairs\")\n",
    "plt.show()"
   ]
  },
  {
   "cell_type": "markdown",
   "metadata": {},
   "source": [
    "#### Adnoddau pellach ar gyfer pandas\n",
    "\n",
    "- [tiwtorial pandas](https://pandas.pydata.org/pandas-docs/stable/tutorials.html)\n",
    "- [tiwtorial pandas rhyngweithiol](https://www.datacamp.com/community/tutorials/pandas-tutorial-dataframe-python)"
   ]
  },
  {
   "cell_type": "markdown",
   "metadata": {},
   "source": [
    "### Scikit-learn - http://scikit-learn.org\n",
    "\n",
    "[Fideo yn disgrifio'r llyfrgell.](https://youtu.be/pob6i8iEM5Y)\n",
    "\n",
    "Mae'r llyfrgell scikit learn yn llyfrgell boblogaidd ar gyfer dysgu peiriannau. Er enghraifft, gadewch i ni hyfforddi model a fydd yn rhagfynegi os bydd rhywun yn cael affêr gan ddefnyddio'r data uchod.\n",
    "\n",
    "Yn gyntaf byddwn yn creu newidyn newydd o'r enw `male` a hefyd newid y newidyn `child` i fod yn boolean a storio'r data yma mewn ffrâm data newydd o'r enw `X` a fyddwn yn defnyddio i ragfynegi newidyn newydd arall o'r enw `cheat` (wedi'i storio yn `y`):"
   ]
  },
  {
   "cell_type": "code",
   "execution_count": 36,
   "metadata": {},
   "outputs": [],
   "source": [
    "df[\"bool_child\"] = df[\"child\"] == \"yes\"\n",
    "df[\"male\"] = df[\"sex\"] == \"male\"\n",
    "X = df[[\"age\", \"ym\", \"religious\", \"education\", \"rate\", \"occupation\", \"bool_child\", \"male\"]]\n",
    "y = df[\"nbaffairs\"] > 0"
   ]
  },
  {
   "cell_type": "markdown",
   "metadata": {},
   "source": [
    "Nawr i fewnforio'r dosbarthydd penodol bydd yr algorithm yn defnyddio:"
   ]
  },
  {
   "cell_type": "code",
   "execution_count": 37,
   "metadata": {
    "tags": [
     "nbval-ignore-output"
    ]
   },
   "outputs": [],
   "source": [
    "from sklearn.ensemble import RandomForestClassifier"
   ]
  },
  {
   "cell_type": "code",
   "execution_count": 38,
   "metadata": {
    "tags": [
     "nbval-ignore-output"
    ]
   },
   "outputs": [
    {
     "name": "stderr",
     "output_type": "stream",
     "text": [
      "/Users/vince/anaconda3/envs/cfm/lib/python3.6/site-packages/sklearn/ensemble/forest.py:246: FutureWarning: The default value of n_estimators will change from 10 in version 0.20 to 100 in 0.22.\n",
      "  \"10 in version 0.20 to 100 in 0.22.\", FutureWarning)\n"
     ]
    },
    {
     "data": {
      "text/plain": [
       "RandomForestClassifier(bootstrap=True, class_weight=None, criterion='gini',\n",
       "            max_depth=None, max_features='auto', max_leaf_nodes=None,\n",
       "            min_impurity_decrease=0.0, min_impurity_split=None,\n",
       "            min_samples_leaf=1, min_samples_split=2,\n",
       "            min_weight_fraction_leaf=0.0, n_estimators=10, n_jobs=None,\n",
       "            oob_score=False, random_state=3, verbose=0, warm_start=False)"
      ]
     },
     "execution_count": 38,
     "metadata": {},
     "output_type": "execute_result"
    }
   ],
   "source": [
    "seed = 3\n",
    "clf = RandomForestClassifier(random_state=seed)\n",
    "clf.fit(X, y)"
   ]
  },
  {
   "cell_type": "code",
   "execution_count": 39,
   "metadata": {
    "tags": [
     "nbval-ignore-output"
    ]
   },
   "outputs": [
    {
     "name": "stdout",
     "output_type": "stream",
     "text": [
      "age 0.18605\n",
      "ym 0.12635\n",
      "religious 0.18442\n",
      "education 0.16467\n",
      "rate 0.13675\n",
      "occupation 0.12495\n",
      "bool_child 0.02848\n",
      "male 0.04834\n"
     ]
    }
   ],
   "source": [
    "for feature, importance in zip(X.columns, clf.feature_importances_):\n",
    "    print(feature, round(importance, 5))"
   ]
  },
  {
   "cell_type": "markdown",
   "metadata": {},
   "source": [
    "Y briodwedd fwyaf pwysig fan hyn yw oedran yr unigolyn. Gadewch i ni ddefnyddio ein model a hyfforddwn i ragfynegi os bydd rhyw unigolyn yn debygol o gael affêr dros ei fywyd:"
   ]
  },
  {
   "cell_type": "code",
   "execution_count": 40,
   "metadata": {
    "scrolled": true,
    "tags": [
     "nbval-ignore-output"
    ]
   },
   "outputs": [
    {
     "data": {
      "image/png": "[encoded data removed]",
      "text/plain": [
       "<Figure size 432x288 with 1 Axes>"
      ]
     },
     "metadata": {},
     "output_type": "display_data"
    }
   ],
   "source": [
    "oedrannau = range(35, 100)\n",
    "tebygolrwydd_o_cael_affer = []\n",
    "for oed in oedrannau:\n",
    "    ym = oed - 24\n",
    "    vince_knight = [[oed, ym, 1, 20, 5, 3, True, True]]\n",
    "    tebygolrwydd_o_cael_affer.append(clf.predict_proba(vince_knight)[0][0])\n",
    "\n",
    "plt.figure()    \n",
    "plt.plot(oedrannau, tebygolrwydd_o_cael_affer)\n",
    "plt.xlabel(\"Oedran Vince\")\n",
    "plt.ylabel(\"Tebygolrwydd Vince o cael affêr\")\n",
    "plt.ylim(0, 1)\n",
    "plt.show()"
   ]
  },
  {
   "cell_type": "markdown",
   "metadata": {},
   "source": [
    "#### Adnoddau pellach ar gyfer scikit-learn\n",
    "\n",
    "- [tiwtorial scikit-learn](http://scikit-learn.org/stable/tutorial/index.html)\n",
    "- [tiwtorial rhyngweithiol scikit-learn](https://www.datacamp.com/community/tutorials/machine-learning-python)\n",
    "- [Cyflwyniad ysgafn (\"gentle introduction\") i scikit-learn](https://machinelearningmastery.com/a-gentle-introduction-to-scikit-learn-a-python-machine-learning-library/)"
   ]
  },
  {
   "cell_type": "markdown",
   "metadata": {},
   "source": [
    "---\n",
    "\n",
    "**Dyma drosolwg cryno o'r mathau o bethau gall pob llyfrgell eu gwneud, yn ddibynnau ar beth hoffwch wneud gwnewch yn siŵr o'u harchwilio'n llawn ac mae nifer o lyfrgelloedd arall yn yr ecosystem Python.**"
   ]
  }
 ],
 "metadata": {
  "anaconda-cloud": {},
  "celltoolbar": "Tags",
  "kernelspec": {
   "display_name": "CfM",
   "language": "python",
   "name": "cfm"
  },
  "language_info": {
   "codemirror_mode": {
    "name": "ipython",
    "version": 3
   },
   "file_extension": ".py",
   "mimetype": "text/x-python",
   "name": "python",
   "nbconvert_exporter": "python",
   "pygments_lexer": "ipython3",
   "version": "3.6.5"
  }
 },
 "nbformat": 4,
 "nbformat_minor": 2
}
