{
 "cells": [
  {
   "cell_type": "markdown",
   "metadata": {},
   "source": [
    "## Chapter 06: An overview of scientific libaries\n",
    "\n",
    "Further to Sympy, this lab sheet will give a brief overview of a number of popular Python libraries that can be used to tackle a number of different problems:\n",
    "\n",
    "- [numpy](http://www.numpy.org/) efficient numeric computations (for example for efficient linear algebra);\n",
    "- [matplotlib](https://matplotlib.org/) plotting;\n",
    "- [scipy](https://docs.scipy.org/doc/scipy/reference/) a general purpose scientif library (for example include algorithms for numeric optimisation);\n",
    "- [networkx](https://networkx.github.io/) network/graph theory (for example to compute the chromatic number of a graph);\n",
    "- [pandas](https://pandas.pydata.org/) data manipulation (for example to read data from a given source and manipulate it);\n",
    "- [scikit-learn](http://scikit-learn.org) machine learning (this is one of Python's most popular libraries).\n",
    "\n",
    "\n",
    "This lab sheet will not good a detailed overview of each library but aim to give a brief introduction to each.\n",
    "\n"
   ]
  },
  {
   "cell_type": "markdown",
   "metadata": {},
   "source": [
    "### Numpy - http://www.numpy.org/\n",
    "\n",
    "This is a fundamental library for efficient numeric computation. The building block is the `numpy.array` which can also be used to carry out linear algebraic manipulation.\n",
    "\n",
    "Let us import `numpy` and define two 3 by 3 matrices:"
   ]
  },
  {
   "cell_type": "code",
   "execution_count": 1,
   "metadata": {},
   "outputs": [],
   "source": [
    "import numpy as np\n",
    "A = np.array([[5, 1, -1], [-1, 2, 4], [1, 1, 1]])\n",
    "B = np.array([[1, 2, 0], [-4, 2, 2], [1, 3, 1]])"
   ]
  },
  {
   "cell_type": "markdown",
   "metadata": {},
   "source": [
    "We can access \\\\(A_{02}\\\\) for example:"
   ]
  },
  {
   "cell_type": "code",
   "execution_count": 2,
   "metadata": {},
   "outputs": [
    {
     "data": {
      "text/plain": [
       "-1"
      ]
     },
     "execution_count": 2,
     "metadata": {},
     "output_type": "execute_result"
    }
   ],
   "source": [
    "A[0, 2]"
   ]
  },
  {
   "cell_type": "markdown",
   "metadata": {},
   "source": [
    "Or an entire row of \\\\(A\\\\):"
   ]
  },
  {
   "cell_type": "code",
   "execution_count": 3,
   "metadata": {},
   "outputs": [
    {
     "data": {
      "text/plain": [
       "array([ 5,  1, -1])"
      ]
     },
     "execution_count": 3,
     "metadata": {},
     "output_type": "execute_result"
    }
   ],
   "source": [
    "A[0]"
   ]
  },
  {
   "cell_type": "markdown",
   "metadata": {},
   "source": [
    "Or an entire column:"
   ]
  },
  {
   "cell_type": "code",
   "execution_count": 4,
   "metadata": {},
   "outputs": [
    {
     "data": {
      "text/plain": [
       "array([1, 2, 1])"
      ]
     },
     "execution_count": 4,
     "metadata": {},
     "output_type": "execute_result"
    }
   ],
   "source": [
    "A[:,1]"
   ]
  },
  {
   "cell_type": "markdown",
   "metadata": {},
   "source": [
    "We can do scalar multiplication:"
   ]
  },
  {
   "cell_type": "code",
   "execution_count": 5,
   "metadata": {},
   "outputs": [
    {
     "data": {
      "text/plain": [
       "array([[25,  5, -5],\n",
       "       [-5, 10, 20],\n",
       "       [ 5,  5,  5]])"
      ]
     },
     "execution_count": 5,
     "metadata": {},
     "output_type": "execute_result"
    }
   ],
   "source": [
    "5 * A"
   ]
  },
  {
   "cell_type": "markdown",
   "metadata": {},
   "source": [
    "We can raise the matrix to a high power:"
   ]
  },
  {
   "cell_type": "code",
   "execution_count": 6,
   "metadata": {},
   "outputs": [
    {
     "data": {
      "text/plain": [
       "array([[33560473923573, 14496923401020,  6487017577736],\n",
       "       [ 1241032333047,   561674209891,   281855912501],\n",
       "       [ 9250938156331,  4004952911642,  1802706542938]])"
      ]
     },
     "execution_count": 6,
     "metadata": {},
     "output_type": "execute_result"
    }
   ],
   "source": [
    "np.linalg.matrix_power(A, 20)"
   ]
  },
  {
   "cell_type": "markdown",
   "metadata": {},
   "source": [
    "We can carry out matrix addition:"
   ]
  },
  {
   "cell_type": "code",
   "execution_count": 7,
   "metadata": {},
   "outputs": [
    {
     "data": {
      "text/plain": [
       "array([[ 6,  3, -1],\n",
       "       [-5,  4,  6],\n",
       "       [ 2,  4,  2]])"
      ]
     },
     "execution_count": 7,
     "metadata": {},
     "output_type": "execute_result"
    }
   ],
   "source": [
    "A + B"
   ]
  },
  {
   "cell_type": "markdown",
   "metadata": {},
   "source": [
    "But also more complex things like matrix multiplication:"
   ]
  },
  {
   "cell_type": "code",
   "execution_count": 8,
   "metadata": {},
   "outputs": [
    {
     "data": {
      "text/plain": [
       "array([[ 0,  9,  1],\n",
       "       [-5, 14,  8],\n",
       "       [-2,  7,  3]])"
      ]
     },
     "execution_count": 8,
     "metadata": {},
     "output_type": "execute_result"
    }
   ],
   "source": [
    "np.dot(A, B)"
   ]
  },
  {
   "cell_type": "markdown",
   "metadata": {},
   "source": [
    "We can also get the inverse and the determinant of a \\\\(A\\\\):"
   ]
  },
  {
   "cell_type": "code",
   "execution_count": 9,
   "metadata": {
    "tags": [
     "nbval-ignore-output"
    ]
   },
   "outputs": [
    {
     "data": {
      "text/plain": [
       "(array([[ 1. ,  1. , -3. ],\n",
       "        [-2.5, -3. ,  9.5],\n",
       "        [ 1.5,  2. , -5.5]]), -2.0)"
      ]
     },
     "execution_count": 9,
     "metadata": {},
     "output_type": "execute_result"
    }
   ],
   "source": [
    "np.linalg.inv(A), np.linalg.det(A)"
   ]
  },
  {
   "cell_type": "markdown",
   "metadata": {},
   "source": [
    "Numpy also has numerous helpful functions that can be useful even if we are not doing any linear algebra. For example let us get an array of 100 values between `-2` and `1`:"
   ]
  },
  {
   "cell_type": "code",
   "execution_count": 10,
   "metadata": {},
   "outputs": [
    {
     "data": {
      "text/plain": [
       "array([-2.        , -1.96969697, -1.93939394, -1.90909091, -1.87878788,\n",
       "       -1.84848485, -1.81818182, -1.78787879, -1.75757576, -1.72727273,\n",
       "       -1.6969697 , -1.66666667, -1.63636364, -1.60606061, -1.57575758,\n",
       "       -1.54545455, -1.51515152, -1.48484848, -1.45454545, -1.42424242,\n",
       "       -1.39393939, -1.36363636, -1.33333333, -1.3030303 , -1.27272727,\n",
       "       -1.24242424, -1.21212121, -1.18181818, -1.15151515, -1.12121212,\n",
       "       -1.09090909, -1.06060606, -1.03030303, -1.        , -0.96969697,\n",
       "       -0.93939394, -0.90909091, -0.87878788, -0.84848485, -0.81818182,\n",
       "       -0.78787879, -0.75757576, -0.72727273, -0.6969697 , -0.66666667,\n",
       "       -0.63636364, -0.60606061, -0.57575758, -0.54545455, -0.51515152,\n",
       "       -0.48484848, -0.45454545, -0.42424242, -0.39393939, -0.36363636,\n",
       "       -0.33333333, -0.3030303 , -0.27272727, -0.24242424, -0.21212121,\n",
       "       -0.18181818, -0.15151515, -0.12121212, -0.09090909, -0.06060606,\n",
       "       -0.03030303,  0.        ,  0.03030303,  0.06060606,  0.09090909,\n",
       "        0.12121212,  0.15151515,  0.18181818,  0.21212121,  0.24242424,\n",
       "        0.27272727,  0.3030303 ,  0.33333333,  0.36363636,  0.39393939,\n",
       "        0.42424242,  0.45454545,  0.48484848,  0.51515152,  0.54545455,\n",
       "        0.57575758,  0.60606061,  0.63636364,  0.66666667,  0.6969697 ,\n",
       "        0.72727273,  0.75757576,  0.78787879,  0.81818182,  0.84848485,\n",
       "        0.87878788,  0.90909091,  0.93939394,  0.96969697,  1.        ])"
      ]
     },
     "execution_count": 10,
     "metadata": {},
     "output_type": "execute_result"
    }
   ],
   "source": [
    "np.linspace(-2, 1, 10 ** 2)"
   ]
  },
  {
   "cell_type": "markdown",
   "metadata": {},
   "source": [
    "---\n",
    "\n",
    "#### Further resources for numpy\n",
    "\n",
    "- [Scipy-lecture notes on numpy](https://www.scipy-lectures.org/intro/numpy/index.html)\n",
    "- [Numpy quick start tutorial](https://docs.scipy.org/doc/numpy/user/quickstart.html)"
   ]
  },
  {
   "cell_type": "markdown",
   "metadata": {},
   "source": [
    "### Matplotlib - https://matplotlib.org/\n",
    "\n",
    "This is the most popular Python library for creating plots. We will illustrate first by creating a plot of the function:\n",
    "\n",
    "\\\\[\n",
    "    -x ^ 4 + 9x ^ 2 + 4 x - 12\n",
    "\\\\]\n",
    "\n",
    "We do this by creating a set of \\\\(x\\\\) values and computing the corresponding set of \\\\(f(x)\\\\) values:"
   ]
  },
  {
   "cell_type": "code",
   "execution_count": 11,
   "metadata": {},
   "outputs": [],
   "source": [
    "def f(x):\n",
    "    return - x ** 4 + 9 * x ** 2 + 4 * x - 12\n",
    "\n",
    "xs = np.linspace(-4, 5, 10 ** 3)  # Create 1000 points\n",
    "ys = [f(x) for x in xs]"
   ]
  },
  {
   "cell_type": "markdown",
   "metadata": {},
   "source": [
    "We are now ready to import and use matplotlib:"
   ]
  },
  {
   "cell_type": "code",
   "execution_count": 12,
   "metadata": {
    "tags": [
     "nbval-ignore-output"
    ]
   },
   "outputs": [
    {
     "data": {
      "text/plain": [
       "<Figure size 640x480 with 1 Axes>"
      ]
     },
     "metadata": {},
     "output_type": "display_data"
    }
   ],
   "source": [
    "import matplotlib.pyplot as plt\n",
    "plt.figure()\n",
    "plt.plot(xs, ys)\n",
    "plt.xlabel(\"$x$\")\n",
    "plt.ylabel(\"$y$\")\n",
    "plt.show();  # Note the `;` which ensures the plot gets shown here"
   ]
  },
  {
   "cell_type": "markdown",
   "metadata": {},
   "source": [
    "We can also save that image to a file that can be used elsewhere:"
   ]
  },
  {
   "cell_type": "code",
   "execution_count": 13,
   "metadata": {
    "tags": [
     "nbval-ignore-output"
    ]
   },
   "outputs": [
    {
     "data": {
      "text/plain": [
       "<Figure size 432x288 with 0 Axes>"
      ]
     },
     "metadata": {},
     "output_type": "display_data"
    }
   ],
   "source": [
    "plt.savefig(\"plot.pdf\")   # experiment with `.png`, `.jpg` etc..."
   ]
  },
  {
   "cell_type": "markdown",
   "metadata": {},
   "source": [
    "Note that there are numerous other types of plots that can be obtained, for example here is a histogram of 1000 random values generated by numpy:"
   ]
  },
  {
   "cell_type": "code",
   "execution_count": 14,
   "metadata": {
    "tags": [
     "nbval-ignore-output"
    ]
   },
   "outputs": [
    {
     "data": {
      "image/png": "[encoded data removed]",
      "text/plain": [
       "<Figure size 432x288 with 1 Axes>"
      ]
     },
     "metadata": {},
     "output_type": "display_data"
    }
   ],
   "source": [
    "np.random.seed(0)  # Setting a seed\n",
    "values = np.random.normal(size=10 ** 3)\n",
    "plt.figure()\n",
    "plt.hist(values, bins=20)\n",
    "plt.xlabel(\"$Value$\")\n",
    "plt.ylabel(\"Frequency\")\n",
    "plt.show();"
   ]
  },
  {
   "cell_type": "markdown",
   "metadata": {},
   "source": [
    "----\n",
    "\n",
    "#### Further resources for matplotlib\n",
    "\n",
    "- [Matplotlib tutorial](https://matplotlib.org/users/pyplot_tutorial.html)\n",
    "- [Interactive matplotlib tutorial](https://www.datacamp.com/community/tutorials/matplotlib-tutorial-python)"
   ]
  },
  {
   "cell_type": "markdown",
   "metadata": {},
   "source": [
    "### Scipy - https://docs.scipy.org/doc/scipy/reference/\n",
    "\n",
    "Scipy is a library bringing together many different capabilities. One thing it can do is find roots using numeric approximation techniques:"
   ]
  },
  {
   "cell_type": "code",
   "execution_count": 15,
   "metadata": {},
   "outputs": [],
   "source": [
    "from scipy import optimize"
   ]
  },
  {
   "cell_type": "code",
   "execution_count": 16,
   "metadata": {},
   "outputs": [
    {
     "data": {
      "text/plain": [
       "    fjac: array([[-1.]])\n",
       "     fun: array([0.])\n",
       " message: 'The solution converged.'\n",
       "    nfev: 6\n",
       "     qtf: array([4.84234874e-12])\n",
       "       r: array([49.99999584])\n",
       "  status: 1\n",
       " success: True\n",
       "       x: array([3.])"
      ]
     },
     "execution_count": 16,
     "metadata": {},
     "output_type": "execute_result"
    }
   ],
   "source": [
    "optimize.root(f, x0=0)"
   ]
  },
  {
   "cell_type": "code",
   "execution_count": 17,
   "metadata": {},
   "outputs": [
    {
     "data": {
      "text/plain": [
       "0"
      ]
     },
     "execution_count": 17,
     "metadata": {},
     "output_type": "execute_result"
    }
   ],
   "source": [
    "f(3)"
   ]
  },
  {
   "cell_type": "markdown",
   "metadata": {},
   "source": [
    "It can also minimize functions (of more than one variable):"
   ]
  },
  {
   "cell_type": "code",
   "execution_count": 18,
   "metadata": {},
   "outputs": [],
   "source": [
    "def g(x):\n",
    "    \"\"\"Here we assume g is a function of 2 variables and x is a vector\"\"\"\n",
    "    return np.cos(x[1]) / (1 + x[0])"
   ]
  },
  {
   "cell_type": "code",
   "execution_count": 19,
   "metadata": {},
   "outputs": [
    {
     "data": {
      "text/plain": [
       "      fun: 0.002697614111595088\n",
       " hess_inv: array([[7.11535655e+06, 5.36889474e+00],\n",
       "       [5.36889474e+00, 1.00000405e+00]])\n",
       "      jac: array([-7.27712177e-06, -7.03148544e-07])\n",
       "  message: 'Optimization terminated successfully.'\n",
       "     nfev: 84\n",
       "      nit: 20\n",
       "     njev: 21\n",
       "   status: 0\n",
       "  success: True\n",
       "        x: array([3.6969793e+02, 2.6064249e-04])"
      ]
     },
     "execution_count": 19,
     "metadata": {},
     "output_type": "execute_result"
    }
   ],
   "source": [
    "optimize.minimize(g, x0=[0, 0])"
   ]
  },
  {
   "cell_type": "markdown",
   "metadata": {},
   "source": [
    "We can also fit a function to date, here we will create some data that fits a curve, add some noise and try and recover the function:"
   ]
  },
  {
   "cell_type": "code",
   "execution_count": 20,
   "metadata": {},
   "outputs": [],
   "source": [
    "def func(x, a, b):\n",
    "    return a * x ** 2 + b\n",
    "\n",
    "xs = np.linspace(0, 10, 50)\n",
    "a_value, b_value = 1 / 2, 70\n",
    "np.random.seed(0)\n",
    "ys = [func(x, a=a_value, b=b_value) + 2 * np.random.random() for x in xs]"
   ]
  },
  {
   "cell_type": "markdown",
   "metadata": {},
   "source": [
    "Let us take a look at the data:"
   ]
  },
  {
   "cell_type": "code",
   "execution_count": 21,
   "metadata": {
    "tags": [
     "nbval-ignore-output"
    ]
   },
   "outputs": [
    {
     "data": {
      "image/png": "[encoded data removed]",
      "text/plain": [
       "<Figure size 432x288 with 1 Axes>"
      ]
     },
     "metadata": {},
     "output_type": "display_data"
    }
   ],
   "source": [
    "plt.figure()\n",
    "plt.scatter(xs, ys)\n",
    "plt.show();"
   ]
  },
  {
   "cell_type": "code",
   "execution_count": 22,
   "metadata": {},
   "outputs": [],
   "source": [
    "popt, pcov = optimize.curve_fit(func, xs, ys)"
   ]
  },
  {
   "cell_type": "markdown",
   "metadata": {},
   "source": [
    "We recover the original used values of `a` and `b`:"
   ]
  },
  {
   "cell_type": "code",
   "execution_count": 23,
   "metadata": {},
   "outputs": [
    {
     "data": {
      "text/plain": [
       "array([ 0.49563406, 71.22294657])"
      ]
     },
     "execution_count": 23,
     "metadata": {},
     "output_type": "execute_result"
    }
   ],
   "source": [
    "popt"
   ]
  },
  {
   "cell_type": "code",
   "execution_count": 24,
   "metadata": {
    "scrolled": true,
    "tags": [
     "nbval-ignore-output"
    ]
   },
   "outputs": [
    {
     "data": {
      "image/png": "[encoded data removed]",
      "text/plain": [
       "<Figure size 432x288 with 1 Axes>"
      ]
     },
     "metadata": {},
     "output_type": "display_data"
    }
   ],
   "source": [
    "fitted_ys = [func(x, *popt) for x in xs]\n",
    "plt.scatter(xs, ys, label=\"Original data\")\n",
    "plt.plot(xs, fitted_ys, label=\"Fitted data\", color=\"red\");"
   ]
  },
  {
   "cell_type": "markdown",
   "metadata": {},
   "source": [
    "---\n",
    "\n",
    "#### Further resources for scipy\n",
    "\n",
    "- [Scipy lecture notes](https://www.scipy-lectures.org/)"
   ]
  },
  {
   "cell_type": "markdown",
   "metadata": {},
   "source": [
    "### Networkx - https://networkx.github.io/\n",
    "\n",
    "Networkx is used to handle graph theoretic objects. We can create a matrix in a number of ways, one of the simplest is by passing a set of edges. Here we import the library and create a graph object:"
   ]
  },
  {
   "cell_type": "code",
   "execution_count": 25,
   "metadata": {
    "tags": [
     "nbval-ignore-output"
    ]
   },
   "outputs": [
    {
     "data": {
      "text/plain": [
       "<networkx.classes.graph.Graph at 0x7f477ef4b780>"
      ]
     },
     "execution_count": 25,
     "metadata": {},
     "output_type": "execute_result"
    }
   ],
   "source": [
    "import networkx as nx\n",
    "edges = [(0, 1), (0, 2), (0, 3), (1, 2), (1, 3)]\n",
    "G = nx.Graph(edges)\n",
    "G"
   ]
  },
  {
   "cell_type": "markdown",
   "metadata": {},
   "source": [
    "It is possible to obtain the adjacency matrix of the graph:"
   ]
  },
  {
   "cell_type": "code",
   "execution_count": 26,
   "metadata": {},
   "outputs": [
    {
     "data": {
      "text/plain": [
       "array([[0., 1., 1., 1.],\n",
       "       [1., 0., 1., 1.],\n",
       "       [1., 1., 0., 0.],\n",
       "       [1., 1., 0., 0.]])"
      ]
     },
     "execution_count": 26,
     "metadata": {},
     "output_type": "execute_result"
    }
   ],
   "source": [
    "M = nx.to_numpy_array(G)\n",
    "M"
   ]
  },
  {
   "cell_type": "markdown",
   "metadata": {},
   "source": [
    "It is also possible to draw the graph:"
   ]
  },
  {
   "cell_type": "code",
   "execution_count": 27,
   "metadata": {
    "tags": [
     "nbval-ignore-output"
    ]
   },
   "outputs": [
    {
     "data": {
      "image/png": "[encoded data removed]",
      "text/plain": [
       "<Figure size 432x288 with 1 Axes>"
      ]
     },
     "metadata": {},
     "output_type": "display_data"
    }
   ],
   "source": [
    "plt.figure()\n",
    "nx.draw(G);"
   ]
  },
  {
   "cell_type": "markdown",
   "metadata": {},
   "source": [
    "We can also compute a graph coloring:"
   ]
  },
  {
   "cell_type": "code",
   "execution_count": 28,
   "metadata": {},
   "outputs": [
    {
     "data": {
      "text/plain": [
       "{0: 0, 1: 1, 2: 2, 3: 2}"
      ]
     },
     "execution_count": 28,
     "metadata": {},
     "output_type": "execute_result"
    }
   ],
   "source": [
    "coloring = nx.greedy_color(G)\n",
    "coloring"
   ]
  },
  {
   "cell_type": "markdown",
   "metadata": {},
   "source": [
    "We see that the chromatic number of this graph is 3:"
   ]
  },
  {
   "cell_type": "code",
   "execution_count": 29,
   "metadata": {},
   "outputs": [
    {
     "data": {
      "text/plain": [
       "3"
      ]
     },
     "execution_count": 29,
     "metadata": {},
     "output_type": "execute_result"
    }
   ],
   "source": [
    "len(set(coloring.values()))"
   ]
  },
  {
   "cell_type": "markdown",
   "metadata": {},
   "source": [
    "---\n",
    "\n",
    "#### Further resources for networkx\n",
    "\n",
    "- [Networkx tutorial](https://networkx.github.io/documentation/stable/tutorial.html)\n",
    "- [The chinese postman problem with networkx](https://www.datacamp.com/community/tutorials/networkx-python-graph-tutorial)\n",
    "- [Analysing Game of Thrones with networkx](https://nikoleta-v3.github.io/blog/2017/10/19/python-graphs-got.html)"
   ]
  },
  {
   "cell_type": "markdown",
   "metadata": {},
   "source": [
    "### Pandas - https://pandas.pydata.org/\n",
    "\n",
    "Pandas is Python's main library for data manipulation. As an example let us consider this dataset about extra marrital afairs:  `affairs.csv` ([download](/{{root}}/nbs/chapters/affairs.csv)). This is data from the following research paper:\n",
    "\n",
    "> Fair, Ray C. \"A theory of extramarital affairs.\" Journal of Political Economy 86.1 (1978): 45-61.\n",
    "\n",
    "A pdf can be found here: https://fairmodel.econ.yale.edu/rayfair/pdf/1978A200.PDF\n",
    "\n",
    "Let us import pandas and read the dataset in:"
   ]
  },
  {
   "cell_type": "code",
   "execution_count": 30,
   "metadata": {},
   "outputs": [],
   "source": [
    "import pandas as pd\n",
    "df = pd.read_csv(\"affairs.csv\")"
   ]
  },
  {
   "cell_type": "markdown",
   "metadata": {},
   "source": [
    "We can look at the top of the data set:"
   ]
  },
  {
   "cell_type": "code",
   "execution_count": 31,
   "metadata": {},
   "outputs": [
    {
     "data": {
      "text/html": [
       "<div>\n",
       "<style scoped>\n",
       "    .dataframe tbody tr th:only-of-type {\n",
       "        vertical-align: middle;\n",
       "    }\n",
       "\n",
       "    .dataframe tbody tr th {\n",
       "        vertical-align: top;\n",
       "    }\n",
       "\n",
       "    .dataframe thead th {\n",
       "        text-align: right;\n",
       "    }\n",
       "</style>\n",
       "<table border=\"1\" class=\"dataframe\">\n",
       "  <thead>\n",
       "    <tr style=\"text-align: right;\">\n",
       "      <th></th>\n",
       "      <th>sex</th>\n",
       "      <th>age</th>\n",
       "      <th>ym</th>\n",
       "      <th>child</th>\n",
       "      <th>religious</th>\n",
       "      <th>education</th>\n",
       "      <th>occupation</th>\n",
       "      <th>rate</th>\n",
       "      <th>nbaffairs</th>\n",
       "    </tr>\n",
       "  </thead>\n",
       "  <tbody>\n",
       "    <tr>\n",
       "      <th>0</th>\n",
       "      <td>male</td>\n",
       "      <td>37.0</td>\n",
       "      <td>10.00</td>\n",
       "      <td>no</td>\n",
       "      <td>3</td>\n",
       "      <td>18</td>\n",
       "      <td>7</td>\n",
       "      <td>4</td>\n",
       "      <td>0</td>\n",
       "    </tr>\n",
       "    <tr>\n",
       "      <th>1</th>\n",
       "      <td>female</td>\n",
       "      <td>27.0</td>\n",
       "      <td>4.00</td>\n",
       "      <td>no</td>\n",
       "      <td>4</td>\n",
       "      <td>14</td>\n",
       "      <td>6</td>\n",
       "      <td>4</td>\n",
       "      <td>0</td>\n",
       "    </tr>\n",
       "    <tr>\n",
       "      <th>2</th>\n",
       "      <td>female</td>\n",
       "      <td>32.0</td>\n",
       "      <td>15.00</td>\n",
       "      <td>yes</td>\n",
       "      <td>1</td>\n",
       "      <td>12</td>\n",
       "      <td>1</td>\n",
       "      <td>4</td>\n",
       "      <td>0</td>\n",
       "    </tr>\n",
       "    <tr>\n",
       "      <th>3</th>\n",
       "      <td>male</td>\n",
       "      <td>57.0</td>\n",
       "      <td>15.00</td>\n",
       "      <td>yes</td>\n",
       "      <td>5</td>\n",
       "      <td>18</td>\n",
       "      <td>6</td>\n",
       "      <td>5</td>\n",
       "      <td>0</td>\n",
       "    </tr>\n",
       "    <tr>\n",
       "      <th>4</th>\n",
       "      <td>male</td>\n",
       "      <td>22.0</td>\n",
       "      <td>0.75</td>\n",
       "      <td>no</td>\n",
       "      <td>2</td>\n",
       "      <td>17</td>\n",
       "      <td>6</td>\n",
       "      <td>3</td>\n",
       "      <td>0</td>\n",
       "    </tr>\n",
       "  </tbody>\n",
       "</table>\n",
       "</div>"
      ],
      "text/plain": [
       "      sex   age     ym child  religious  education  occupation  rate  \\\n",
       "0    male  37.0  10.00    no          3         18           7     4   \n",
       "1  female  27.0   4.00    no          4         14           6     4   \n",
       "2  female  32.0  15.00   yes          1         12           1     4   \n",
       "3    male  57.0  15.00   yes          5         18           6     5   \n",
       "4    male  22.0   0.75    no          2         17           6     3   \n",
       "\n",
       "   nbaffairs  \n",
       "0          0  \n",
       "1          0  \n",
       "2          0  \n",
       "3          0  \n",
       "4          0  "
      ]
     },
     "execution_count": 31,
     "metadata": {},
     "output_type": "execute_result"
    }
   ],
   "source": [
    "df.head()"
   ]
  },
  {
   "cell_type": "markdown",
   "metadata": {},
   "source": [
    "From the paper we read that the variables are:\n",
    "\n",
    "- `sex`: The reported gender of the individual;\n",
    "- `age`: The age of the individual;\n",
    "- `ym`: Number of years married;\n",
    "- `child`: Whether or not the individual has a child;\n",
    "- `religious`: How religious the individual is (`5`: \"very\", `1`: \"not\");\n",
    "- `education`: Level of education (`9`: grade school, `20`: PhD or MD);\n",
    "- `occupation`: Occupation based on a scalle called the \"Hollingshead classification\";\n",
    "- `rate`: Individual rating of marriage (`5`: \"very happy\", `1`: \"very unhappy\").\n",
    "\n",
    "We can obtain a quick overview of the data using the `describe()` method:"
   ]
  },
  {
   "cell_type": "code",
   "execution_count": 32,
   "metadata": {},
   "outputs": [
    {
     "data": {
      "text/html": [
       "<div>\n",
       "<style scoped>\n",
       "    .dataframe tbody tr th:only-of-type {\n",
       "        vertical-align: middle;\n",
       "    }\n",
       "\n",
       "    .dataframe tbody tr th {\n",
       "        vertical-align: top;\n",
       "    }\n",
       "\n",
       "    .dataframe thead th {\n",
       "        text-align: right;\n",
       "    }\n",
       "</style>\n",
       "<table border=\"1\" class=\"dataframe\">\n",
       "  <thead>\n",
       "    <tr style=\"text-align: right;\">\n",
       "      <th></th>\n",
       "      <th>age</th>\n",
       "      <th>ym</th>\n",
       "      <th>religious</th>\n",
       "      <th>education</th>\n",
       "      <th>occupation</th>\n",
       "      <th>rate</th>\n",
       "      <th>nbaffairs</th>\n",
       "    </tr>\n",
       "  </thead>\n",
       "  <tbody>\n",
       "    <tr>\n",
       "      <th>count</th>\n",
       "      <td>601.000000</td>\n",
       "      <td>601.000000</td>\n",
       "      <td>601.000000</td>\n",
       "      <td>601.000000</td>\n",
       "      <td>601.000000</td>\n",
       "      <td>601.000000</td>\n",
       "      <td>601.000000</td>\n",
       "    </tr>\n",
       "    <tr>\n",
       "      <th>mean</th>\n",
       "      <td>32.487521</td>\n",
       "      <td>8.177696</td>\n",
       "      <td>3.116473</td>\n",
       "      <td>16.166389</td>\n",
       "      <td>4.194676</td>\n",
       "      <td>3.931780</td>\n",
       "      <td>1.455907</td>\n",
       "    </tr>\n",
       "    <tr>\n",
       "      <th>std</th>\n",
       "      <td>9.288762</td>\n",
       "      <td>5.571303</td>\n",
       "      <td>1.167509</td>\n",
       "      <td>2.402555</td>\n",
       "      <td>1.819443</td>\n",
       "      <td>1.103179</td>\n",
       "      <td>3.298758</td>\n",
       "    </tr>\n",
       "    <tr>\n",
       "      <th>min</th>\n",
       "      <td>17.500000</td>\n",
       "      <td>0.125000</td>\n",
       "      <td>1.000000</td>\n",
       "      <td>9.000000</td>\n",
       "      <td>1.000000</td>\n",
       "      <td>1.000000</td>\n",
       "      <td>0.000000</td>\n",
       "    </tr>\n",
       "    <tr>\n",
       "      <th>25%</th>\n",
       "      <td>27.000000</td>\n",
       "      <td>4.000000</td>\n",
       "      <td>2.000000</td>\n",
       "      <td>14.000000</td>\n",
       "      <td>3.000000</td>\n",
       "      <td>3.000000</td>\n",
       "      <td>0.000000</td>\n",
       "    </tr>\n",
       "    <tr>\n",
       "      <th>50%</th>\n",
       "      <td>32.000000</td>\n",
       "      <td>7.000000</td>\n",
       "      <td>3.000000</td>\n",
       "      <td>16.000000</td>\n",
       "      <td>5.000000</td>\n",
       "      <td>4.000000</td>\n",
       "      <td>0.000000</td>\n",
       "    </tr>\n",
       "    <tr>\n",
       "      <th>75%</th>\n",
       "      <td>37.000000</td>\n",
       "      <td>15.000000</td>\n",
       "      <td>4.000000</td>\n",
       "      <td>18.000000</td>\n",
       "      <td>6.000000</td>\n",
       "      <td>5.000000</td>\n",
       "      <td>0.000000</td>\n",
       "    </tr>\n",
       "    <tr>\n",
       "      <th>max</th>\n",
       "      <td>57.000000</td>\n",
       "      <td>15.000000</td>\n",
       "      <td>5.000000</td>\n",
       "      <td>20.000000</td>\n",
       "      <td>7.000000</td>\n",
       "      <td>5.000000</td>\n",
       "      <td>12.000000</td>\n",
       "    </tr>\n",
       "  </tbody>\n",
       "</table>\n",
       "</div>"
      ],
      "text/plain": [
       "              age          ym   religious   education  occupation        rate  \\\n",
       "count  601.000000  601.000000  601.000000  601.000000  601.000000  601.000000   \n",
       "mean    32.487521    8.177696    3.116473   16.166389    4.194676    3.931780   \n",
       "std      9.288762    5.571303    1.167509    2.402555    1.819443    1.103179   \n",
       "min     17.500000    0.125000    1.000000    9.000000    1.000000    1.000000   \n",
       "25%     27.000000    4.000000    2.000000   14.000000    3.000000    3.000000   \n",
       "50%     32.000000    7.000000    3.000000   16.000000    5.000000    4.000000   \n",
       "75%     37.000000   15.000000    4.000000   18.000000    6.000000    5.000000   \n",
       "max     57.000000   15.000000    5.000000   20.000000    7.000000    5.000000   \n",
       "\n",
       "        nbaffairs  \n",
       "count  601.000000  \n",
       "mean     1.455907  \n",
       "std      3.298758  \n",
       "min      0.000000  \n",
       "25%      0.000000  \n",
       "50%      0.000000  \n",
       "75%      0.000000  \n",
       "max     12.000000  "
      ]
     },
     "execution_count": 32,
     "metadata": {},
     "output_type": "execute_result"
    }
   ],
   "source": [
    "df.describe()"
   ]
  },
  {
   "cell_type": "markdown",
   "metadata": {},
   "source": [
    "We can also choose to slice our data set in specific ways, for example how is the mean number of affairs related to the rating of the marriage and whether or not the individual is male or female?"
   ]
  },
  {
   "cell_type": "code",
   "execution_count": 33,
   "metadata": {},
   "outputs": [
    {
     "data": {
      "text/plain": [
       "sex     rate\n",
       "female  1       4.545455\n",
       "        2       3.371429\n",
       "        3       1.782609\n",
       "        4       0.967742\n",
       "        5       0.823077\n",
       "male    1       2.400000\n",
       "        2       4.548387\n",
       "        3       1.085106\n",
       "        4       1.623762\n",
       "        5       0.588235\n",
       "Name: nbaffairs, dtype: float64"
      ]
     },
     "execution_count": 33,
     "metadata": {},
     "output_type": "execute_result"
    }
   ],
   "source": [
    "df.groupby([\"sex\", \"rate\"])[\"nbaffairs\"].mean()"
   ]
  },
  {
   "cell_type": "markdown",
   "metadata": {},
   "source": [
    "We can also choose to slice our data manually, for example let us only look at the data set for males:"
   ]
  },
  {
   "cell_type": "code",
   "execution_count": 34,
   "metadata": {},
   "outputs": [
    {
     "data": {
      "text/html": [
       "<div>\n",
       "<style scoped>\n",
       "    .dataframe tbody tr th:only-of-type {\n",
       "        vertical-align: middle;\n",
       "    }\n",
       "\n",
       "    .dataframe tbody tr th {\n",
       "        vertical-align: top;\n",
       "    }\n",
       "\n",
       "    .dataframe thead th {\n",
       "        text-align: right;\n",
       "    }\n",
       "</style>\n",
       "<table border=\"1\" class=\"dataframe\">\n",
       "  <thead>\n",
       "    <tr style=\"text-align: right;\">\n",
       "      <th></th>\n",
       "      <th>sex</th>\n",
       "      <th>age</th>\n",
       "      <th>ym</th>\n",
       "      <th>child</th>\n",
       "      <th>religious</th>\n",
       "      <th>education</th>\n",
       "      <th>occupation</th>\n",
       "      <th>rate</th>\n",
       "      <th>nbaffairs</th>\n",
       "    </tr>\n",
       "  </thead>\n",
       "  <tbody>\n",
       "    <tr>\n",
       "      <th>0</th>\n",
       "      <td>male</td>\n",
       "      <td>37.0</td>\n",
       "      <td>10.000</td>\n",
       "      <td>no</td>\n",
       "      <td>3</td>\n",
       "      <td>18</td>\n",
       "      <td>7</td>\n",
       "      <td>4</td>\n",
       "      <td>0</td>\n",
       "    </tr>\n",
       "    <tr>\n",
       "      <th>3</th>\n",
       "      <td>male</td>\n",
       "      <td>57.0</td>\n",
       "      <td>15.000</td>\n",
       "      <td>yes</td>\n",
       "      <td>5</td>\n",
       "      <td>18</td>\n",
       "      <td>6</td>\n",
       "      <td>5</td>\n",
       "      <td>0</td>\n",
       "    </tr>\n",
       "    <tr>\n",
       "      <th>4</th>\n",
       "      <td>male</td>\n",
       "      <td>22.0</td>\n",
       "      <td>0.750</td>\n",
       "      <td>no</td>\n",
       "      <td>2</td>\n",
       "      <td>17</td>\n",
       "      <td>6</td>\n",
       "      <td>3</td>\n",
       "      <td>0</td>\n",
       "    </tr>\n",
       "    <tr>\n",
       "      <th>7</th>\n",
       "      <td>male</td>\n",
       "      <td>57.0</td>\n",
       "      <td>15.000</td>\n",
       "      <td>yes</td>\n",
       "      <td>2</td>\n",
       "      <td>14</td>\n",
       "      <td>4</td>\n",
       "      <td>4</td>\n",
       "      <td>0</td>\n",
       "    </tr>\n",
       "    <tr>\n",
       "      <th>9</th>\n",
       "      <td>male</td>\n",
       "      <td>22.0</td>\n",
       "      <td>1.500</td>\n",
       "      <td>no</td>\n",
       "      <td>4</td>\n",
       "      <td>14</td>\n",
       "      <td>4</td>\n",
       "      <td>5</td>\n",
       "      <td>0</td>\n",
       "    </tr>\n",
       "    <tr>\n",
       "      <th>10</th>\n",
       "      <td>male</td>\n",
       "      <td>37.0</td>\n",
       "      <td>15.000</td>\n",
       "      <td>yes</td>\n",
       "      <td>2</td>\n",
       "      <td>20</td>\n",
       "      <td>7</td>\n",
       "      <td>2</td>\n",
       "      <td>0</td>\n",
       "    </tr>\n",
       "    <tr>\n",
       "      <th>11</th>\n",
       "      <td>male</td>\n",
       "      <td>27.0</td>\n",
       "      <td>4.000</td>\n",
       "      <td>yes</td>\n",
       "      <td>4</td>\n",
       "      <td>18</td>\n",
       "      <td>6</td>\n",
       "      <td>4</td>\n",
       "      <td>0</td>\n",
       "    </tr>\n",
       "    <tr>\n",
       "      <th>12</th>\n",
       "      <td>male</td>\n",
       "      <td>47.0</td>\n",
       "      <td>15.000</td>\n",
       "      <td>yes</td>\n",
       "      <td>5</td>\n",
       "      <td>17</td>\n",
       "      <td>6</td>\n",
       "      <td>4</td>\n",
       "      <td>0</td>\n",
       "    </tr>\n",
       "    <tr>\n",
       "      <th>24</th>\n",
       "      <td>male</td>\n",
       "      <td>37.0</td>\n",
       "      <td>4.000</td>\n",
       "      <td>yes</td>\n",
       "      <td>2</td>\n",
       "      <td>20</td>\n",
       "      <td>6</td>\n",
       "      <td>4</td>\n",
       "      <td>0</td>\n",
       "    </tr>\n",
       "    <tr>\n",
       "      <th>27</th>\n",
       "      <td>male</td>\n",
       "      <td>42.0</td>\n",
       "      <td>15.000</td>\n",
       "      <td>yes</td>\n",
       "      <td>5</td>\n",
       "      <td>20</td>\n",
       "      <td>6</td>\n",
       "      <td>4</td>\n",
       "      <td>0</td>\n",
       "    </tr>\n",
       "    <tr>\n",
       "      <th>28</th>\n",
       "      <td>male</td>\n",
       "      <td>27.0</td>\n",
       "      <td>4.000</td>\n",
       "      <td>yes</td>\n",
       "      <td>3</td>\n",
       "      <td>16</td>\n",
       "      <td>5</td>\n",
       "      <td>5</td>\n",
       "      <td>0</td>\n",
       "    </tr>\n",
       "    <tr>\n",
       "      <th>30</th>\n",
       "      <td>male</td>\n",
       "      <td>42.0</td>\n",
       "      <td>15.000</td>\n",
       "      <td>yes</td>\n",
       "      <td>4</td>\n",
       "      <td>20</td>\n",
       "      <td>6</td>\n",
       "      <td>3</td>\n",
       "      <td>0</td>\n",
       "    </tr>\n",
       "    <tr>\n",
       "      <th>32</th>\n",
       "      <td>male</td>\n",
       "      <td>27.0</td>\n",
       "      <td>0.417</td>\n",
       "      <td>no</td>\n",
       "      <td>4</td>\n",
       "      <td>17</td>\n",
       "      <td>6</td>\n",
       "      <td>4</td>\n",
       "      <td>0</td>\n",
       "    </tr>\n",
       "    <tr>\n",
       "      <th>34</th>\n",
       "      <td>male</td>\n",
       "      <td>32.0</td>\n",
       "      <td>4.000</td>\n",
       "      <td>yes</td>\n",
       "      <td>1</td>\n",
       "      <td>18</td>\n",
       "      <td>6</td>\n",
       "      <td>4</td>\n",
       "      <td>0</td>\n",
       "    </tr>\n",
       "    <tr>\n",
       "      <th>38</th>\n",
       "      <td>male</td>\n",
       "      <td>22.0</td>\n",
       "      <td>1.500</td>\n",
       "      <td>yes</td>\n",
       "      <td>1</td>\n",
       "      <td>14</td>\n",
       "      <td>3</td>\n",
       "      <td>5</td>\n",
       "      <td>0</td>\n",
       "    </tr>\n",
       "    <tr>\n",
       "      <th>40</th>\n",
       "      <td>male</td>\n",
       "      <td>32.0</td>\n",
       "      <td>10.000</td>\n",
       "      <td>yes</td>\n",
       "      <td>5</td>\n",
       "      <td>20</td>\n",
       "      <td>6</td>\n",
       "      <td>5</td>\n",
       "      <td>0</td>\n",
       "    </tr>\n",
       "    <tr>\n",
       "      <th>41</th>\n",
       "      <td>male</td>\n",
       "      <td>52.0</td>\n",
       "      <td>15.000</td>\n",
       "      <td>yes</td>\n",
       "      <td>5</td>\n",
       "      <td>18</td>\n",
       "      <td>6</td>\n",
       "      <td>3</td>\n",
       "      <td>0</td>\n",
       "    </tr>\n",
       "    <tr>\n",
       "      <th>45</th>\n",
       "      <td>male</td>\n",
       "      <td>22.0</td>\n",
       "      <td>4.000</td>\n",
       "      <td>no</td>\n",
       "      <td>3</td>\n",
       "      <td>16</td>\n",
       "      <td>5</td>\n",
       "      <td>5</td>\n",
       "      <td>0</td>\n",
       "    </tr>\n",
       "    <tr>\n",
       "      <th>48</th>\n",
       "      <td>male</td>\n",
       "      <td>27.0</td>\n",
       "      <td>1.500</td>\n",
       "      <td>yes</td>\n",
       "      <td>4</td>\n",
       "      <td>16</td>\n",
       "      <td>3</td>\n",
       "      <td>5</td>\n",
       "      <td>0</td>\n",
       "    </tr>\n",
       "    <tr>\n",
       "      <th>49</th>\n",
       "      <td>male</td>\n",
       "      <td>42.0</td>\n",
       "      <td>15.000</td>\n",
       "      <td>yes</td>\n",
       "      <td>2</td>\n",
       "      <td>20</td>\n",
       "      <td>6</td>\n",
       "      <td>4</td>\n",
       "      <td>0</td>\n",
       "    </tr>\n",
       "    <tr>\n",
       "      <th>51</th>\n",
       "      <td>male</td>\n",
       "      <td>32.0</td>\n",
       "      <td>7.000</td>\n",
       "      <td>yes</td>\n",
       "      <td>2</td>\n",
       "      <td>20</td>\n",
       "      <td>6</td>\n",
       "      <td>4</td>\n",
       "      <td>0</td>\n",
       "    </tr>\n",
       "    <tr>\n",
       "      <th>52</th>\n",
       "      <td>male</td>\n",
       "      <td>27.0</td>\n",
       "      <td>4.000</td>\n",
       "      <td>yes</td>\n",
       "      <td>5</td>\n",
       "      <td>20</td>\n",
       "      <td>6</td>\n",
       "      <td>5</td>\n",
       "      <td>0</td>\n",
       "    </tr>\n",
       "    <tr>\n",
       "      <th>53</th>\n",
       "      <td>male</td>\n",
       "      <td>27.0</td>\n",
       "      <td>10.000</td>\n",
       "      <td>yes</td>\n",
       "      <td>4</td>\n",
       "      <td>20</td>\n",
       "      <td>6</td>\n",
       "      <td>4</td>\n",
       "      <td>0</td>\n",
       "    </tr>\n",
       "    <tr>\n",
       "      <th>54</th>\n",
       "      <td>male</td>\n",
       "      <td>22.0</td>\n",
       "      <td>4.000</td>\n",
       "      <td>no</td>\n",
       "      <td>1</td>\n",
       "      <td>18</td>\n",
       "      <td>5</td>\n",
       "      <td>5</td>\n",
       "      <td>0</td>\n",
       "    </tr>\n",
       "    <tr>\n",
       "      <th>56</th>\n",
       "      <td>male</td>\n",
       "      <td>22.0</td>\n",
       "      <td>1.500</td>\n",
       "      <td>yes</td>\n",
       "      <td>5</td>\n",
       "      <td>16</td>\n",
       "      <td>4</td>\n",
       "      <td>4</td>\n",
       "      <td>0</td>\n",
       "    </tr>\n",
       "    <tr>\n",
       "      <th>59</th>\n",
       "      <td>male</td>\n",
       "      <td>32.0</td>\n",
       "      <td>10.000</td>\n",
       "      <td>yes</td>\n",
       "      <td>4</td>\n",
       "      <td>20</td>\n",
       "      <td>6</td>\n",
       "      <td>4</td>\n",
       "      <td>0</td>\n",
       "    </tr>\n",
       "    <tr>\n",
       "      <th>61</th>\n",
       "      <td>male</td>\n",
       "      <td>37.0</td>\n",
       "      <td>10.000</td>\n",
       "      <td>yes</td>\n",
       "      <td>3</td>\n",
       "      <td>20</td>\n",
       "      <td>6</td>\n",
       "      <td>4</td>\n",
       "      <td>0</td>\n",
       "    </tr>\n",
       "    <tr>\n",
       "      <th>63</th>\n",
       "      <td>male</td>\n",
       "      <td>27.0</td>\n",
       "      <td>4.000</td>\n",
       "      <td>no</td>\n",
       "      <td>2</td>\n",
       "      <td>18</td>\n",
       "      <td>4</td>\n",
       "      <td>5</td>\n",
       "      <td>0</td>\n",
       "    </tr>\n",
       "    <tr>\n",
       "      <th>64</th>\n",
       "      <td>male</td>\n",
       "      <td>32.0</td>\n",
       "      <td>7.000</td>\n",
       "      <td>no</td>\n",
       "      <td>4</td>\n",
       "      <td>20</td>\n",
       "      <td>6</td>\n",
       "      <td>4</td>\n",
       "      <td>0</td>\n",
       "    </tr>\n",
       "    <tr>\n",
       "      <th>65</th>\n",
       "      <td>male</td>\n",
       "      <td>42.0</td>\n",
       "      <td>15.000</td>\n",
       "      <td>yes</td>\n",
       "      <td>2</td>\n",
       "      <td>17</td>\n",
       "      <td>3</td>\n",
       "      <td>5</td>\n",
       "      <td>0</td>\n",
       "    </tr>\n",
       "    <tr>\n",
       "      <th>...</th>\n",
       "      <td>...</td>\n",
       "      <td>...</td>\n",
       "      <td>...</td>\n",
       "      <td>...</td>\n",
       "      <td>...</td>\n",
       "      <td>...</td>\n",
       "      <td>...</td>\n",
       "      <td>...</td>\n",
       "      <td>...</td>\n",
       "    </tr>\n",
       "    <tr>\n",
       "      <th>548</th>\n",
       "      <td>male</td>\n",
       "      <td>42.0</td>\n",
       "      <td>15.000</td>\n",
       "      <td>yes</td>\n",
       "      <td>3</td>\n",
       "      <td>20</td>\n",
       "      <td>5</td>\n",
       "      <td>4</td>\n",
       "      <td>7</td>\n",
       "    </tr>\n",
       "    <tr>\n",
       "      <th>549</th>\n",
       "      <td>male</td>\n",
       "      <td>32.0</td>\n",
       "      <td>10.000</td>\n",
       "      <td>no</td>\n",
       "      <td>2</td>\n",
       "      <td>18</td>\n",
       "      <td>4</td>\n",
       "      <td>2</td>\n",
       "      <td>12</td>\n",
       "    </tr>\n",
       "    <tr>\n",
       "      <th>551</th>\n",
       "      <td>male</td>\n",
       "      <td>57.0</td>\n",
       "      <td>15.000</td>\n",
       "      <td>yes</td>\n",
       "      <td>5</td>\n",
       "      <td>20</td>\n",
       "      <td>4</td>\n",
       "      <td>5</td>\n",
       "      <td>7</td>\n",
       "    </tr>\n",
       "    <tr>\n",
       "      <th>552</th>\n",
       "      <td>male</td>\n",
       "      <td>47.0</td>\n",
       "      <td>15.000</td>\n",
       "      <td>yes</td>\n",
       "      <td>4</td>\n",
       "      <td>20</td>\n",
       "      <td>6</td>\n",
       "      <td>4</td>\n",
       "      <td>12</td>\n",
       "    </tr>\n",
       "    <tr>\n",
       "      <th>554</th>\n",
       "      <td>male</td>\n",
       "      <td>37.0</td>\n",
       "      <td>15.000</td>\n",
       "      <td>yes</td>\n",
       "      <td>3</td>\n",
       "      <td>17</td>\n",
       "      <td>6</td>\n",
       "      <td>3</td>\n",
       "      <td>12</td>\n",
       "    </tr>\n",
       "    <tr>\n",
       "      <th>555</th>\n",
       "      <td>male</td>\n",
       "      <td>37.0</td>\n",
       "      <td>15.000</td>\n",
       "      <td>yes</td>\n",
       "      <td>5</td>\n",
       "      <td>17</td>\n",
       "      <td>5</td>\n",
       "      <td>2</td>\n",
       "      <td>12</td>\n",
       "    </tr>\n",
       "    <tr>\n",
       "      <th>556</th>\n",
       "      <td>male</td>\n",
       "      <td>27.0</td>\n",
       "      <td>10.000</td>\n",
       "      <td>yes</td>\n",
       "      <td>2</td>\n",
       "      <td>20</td>\n",
       "      <td>6</td>\n",
       "      <td>4</td>\n",
       "      <td>7</td>\n",
       "    </tr>\n",
       "    <tr>\n",
       "      <th>557</th>\n",
       "      <td>male</td>\n",
       "      <td>37.0</td>\n",
       "      <td>15.000</td>\n",
       "      <td>yes</td>\n",
       "      <td>2</td>\n",
       "      <td>16</td>\n",
       "      <td>5</td>\n",
       "      <td>4</td>\n",
       "      <td>2</td>\n",
       "    </tr>\n",
       "    <tr>\n",
       "      <th>559</th>\n",
       "      <td>male</td>\n",
       "      <td>32.0</td>\n",
       "      <td>10.000</td>\n",
       "      <td>yes</td>\n",
       "      <td>3</td>\n",
       "      <td>17</td>\n",
       "      <td>6</td>\n",
       "      <td>3</td>\n",
       "      <td>7</td>\n",
       "    </tr>\n",
       "    <tr>\n",
       "      <th>560</th>\n",
       "      <td>male</td>\n",
       "      <td>37.0</td>\n",
       "      <td>15.000</td>\n",
       "      <td>yes</td>\n",
       "      <td>4</td>\n",
       "      <td>18</td>\n",
       "      <td>5</td>\n",
       "      <td>1</td>\n",
       "      <td>2</td>\n",
       "    </tr>\n",
       "    <tr>\n",
       "      <th>563</th>\n",
       "      <td>male</td>\n",
       "      <td>37.0</td>\n",
       "      <td>15.000</td>\n",
       "      <td>yes</td>\n",
       "      <td>2</td>\n",
       "      <td>17</td>\n",
       "      <td>5</td>\n",
       "      <td>4</td>\n",
       "      <td>12</td>\n",
       "    </tr>\n",
       "    <tr>\n",
       "      <th>567</th>\n",
       "      <td>male</td>\n",
       "      <td>52.0</td>\n",
       "      <td>7.000</td>\n",
       "      <td>no</td>\n",
       "      <td>4</td>\n",
       "      <td>16</td>\n",
       "      <td>5</td>\n",
       "      <td>5</td>\n",
       "      <td>12</td>\n",
       "    </tr>\n",
       "    <tr>\n",
       "      <th>574</th>\n",
       "      <td>male</td>\n",
       "      <td>32.0</td>\n",
       "      <td>4.000</td>\n",
       "      <td>yes</td>\n",
       "      <td>4</td>\n",
       "      <td>18</td>\n",
       "      <td>6</td>\n",
       "      <td>4</td>\n",
       "      <td>2</td>\n",
       "    </tr>\n",
       "    <tr>\n",
       "      <th>577</th>\n",
       "      <td>male</td>\n",
       "      <td>32.0</td>\n",
       "      <td>7.000</td>\n",
       "      <td>yes</td>\n",
       "      <td>4</td>\n",
       "      <td>16</td>\n",
       "      <td>4</td>\n",
       "      <td>4</td>\n",
       "      <td>1</td>\n",
       "    </tr>\n",
       "    <tr>\n",
       "      <th>578</th>\n",
       "      <td>male</td>\n",
       "      <td>37.0</td>\n",
       "      <td>15.000</td>\n",
       "      <td>no</td>\n",
       "      <td>3</td>\n",
       "      <td>14</td>\n",
       "      <td>6</td>\n",
       "      <td>2</td>\n",
       "      <td>12</td>\n",
       "    </tr>\n",
       "    <tr>\n",
       "      <th>579</th>\n",
       "      <td>male</td>\n",
       "      <td>42.0</td>\n",
       "      <td>15.000</td>\n",
       "      <td>yes</td>\n",
       "      <td>3</td>\n",
       "      <td>16</td>\n",
       "      <td>6</td>\n",
       "      <td>3</td>\n",
       "      <td>1</td>\n",
       "    </tr>\n",
       "    <tr>\n",
       "      <th>580</th>\n",
       "      <td>male</td>\n",
       "      <td>27.0</td>\n",
       "      <td>4.000</td>\n",
       "      <td>yes</td>\n",
       "      <td>1</td>\n",
       "      <td>18</td>\n",
       "      <td>5</td>\n",
       "      <td>4</td>\n",
       "      <td>1</td>\n",
       "    </tr>\n",
       "    <tr>\n",
       "      <th>581</th>\n",
       "      <td>male</td>\n",
       "      <td>37.0</td>\n",
       "      <td>15.000</td>\n",
       "      <td>yes</td>\n",
       "      <td>4</td>\n",
       "      <td>20</td>\n",
       "      <td>7</td>\n",
       "      <td>3</td>\n",
       "      <td>2</td>\n",
       "    </tr>\n",
       "    <tr>\n",
       "      <th>582</th>\n",
       "      <td>male</td>\n",
       "      <td>37.0</td>\n",
       "      <td>15.000</td>\n",
       "      <td>yes</td>\n",
       "      <td>3</td>\n",
       "      <td>20</td>\n",
       "      <td>6</td>\n",
       "      <td>4</td>\n",
       "      <td>7</td>\n",
       "    </tr>\n",
       "    <tr>\n",
       "      <th>583</th>\n",
       "      <td>male</td>\n",
       "      <td>22.0</td>\n",
       "      <td>1.500</td>\n",
       "      <td>no</td>\n",
       "      <td>2</td>\n",
       "      <td>12</td>\n",
       "      <td>3</td>\n",
       "      <td>3</td>\n",
       "      <td>3</td>\n",
       "    </tr>\n",
       "    <tr>\n",
       "      <th>584</th>\n",
       "      <td>male</td>\n",
       "      <td>32.0</td>\n",
       "      <td>4.000</td>\n",
       "      <td>yes</td>\n",
       "      <td>3</td>\n",
       "      <td>20</td>\n",
       "      <td>6</td>\n",
       "      <td>2</td>\n",
       "      <td>3</td>\n",
       "    </tr>\n",
       "    <tr>\n",
       "      <th>585</th>\n",
       "      <td>male</td>\n",
       "      <td>32.0</td>\n",
       "      <td>15.000</td>\n",
       "      <td>yes</td>\n",
       "      <td>5</td>\n",
       "      <td>20</td>\n",
       "      <td>6</td>\n",
       "      <td>5</td>\n",
       "      <td>2</td>\n",
       "    </tr>\n",
       "    <tr>\n",
       "      <th>587</th>\n",
       "      <td>male</td>\n",
       "      <td>47.0</td>\n",
       "      <td>15.000</td>\n",
       "      <td>no</td>\n",
       "      <td>1</td>\n",
       "      <td>18</td>\n",
       "      <td>6</td>\n",
       "      <td>5</td>\n",
       "      <td>12</td>\n",
       "    </tr>\n",
       "    <tr>\n",
       "      <th>591</th>\n",
       "      <td>male</td>\n",
       "      <td>42.0</td>\n",
       "      <td>15.000</td>\n",
       "      <td>yes</td>\n",
       "      <td>3</td>\n",
       "      <td>18</td>\n",
       "      <td>6</td>\n",
       "      <td>2</td>\n",
       "      <td>12</td>\n",
       "    </tr>\n",
       "    <tr>\n",
       "      <th>593</th>\n",
       "      <td>male</td>\n",
       "      <td>27.0</td>\n",
       "      <td>7.000</td>\n",
       "      <td>yes</td>\n",
       "      <td>2</td>\n",
       "      <td>17</td>\n",
       "      <td>5</td>\n",
       "      <td>4</td>\n",
       "      <td>12</td>\n",
       "    </tr>\n",
       "    <tr>\n",
       "      <th>594</th>\n",
       "      <td>male</td>\n",
       "      <td>32.0</td>\n",
       "      <td>10.000</td>\n",
       "      <td>yes</td>\n",
       "      <td>4</td>\n",
       "      <td>14</td>\n",
       "      <td>4</td>\n",
       "      <td>3</td>\n",
       "      <td>3</td>\n",
       "    </tr>\n",
       "    <tr>\n",
       "      <th>595</th>\n",
       "      <td>male</td>\n",
       "      <td>47.0</td>\n",
       "      <td>15.000</td>\n",
       "      <td>yes</td>\n",
       "      <td>3</td>\n",
       "      <td>16</td>\n",
       "      <td>4</td>\n",
       "      <td>2</td>\n",
       "      <td>7</td>\n",
       "    </tr>\n",
       "    <tr>\n",
       "      <th>596</th>\n",
       "      <td>male</td>\n",
       "      <td>22.0</td>\n",
       "      <td>1.500</td>\n",
       "      <td>yes</td>\n",
       "      <td>1</td>\n",
       "      <td>12</td>\n",
       "      <td>2</td>\n",
       "      <td>5</td>\n",
       "      <td>1</td>\n",
       "    </tr>\n",
       "    <tr>\n",
       "      <th>598</th>\n",
       "      <td>male</td>\n",
       "      <td>32.0</td>\n",
       "      <td>10.000</td>\n",
       "      <td>yes</td>\n",
       "      <td>2</td>\n",
       "      <td>17</td>\n",
       "      <td>6</td>\n",
       "      <td>5</td>\n",
       "      <td>2</td>\n",
       "    </tr>\n",
       "    <tr>\n",
       "      <th>599</th>\n",
       "      <td>male</td>\n",
       "      <td>22.0</td>\n",
       "      <td>7.000</td>\n",
       "      <td>yes</td>\n",
       "      <td>3</td>\n",
       "      <td>18</td>\n",
       "      <td>6</td>\n",
       "      <td>2</td>\n",
       "      <td>2</td>\n",
       "    </tr>\n",
       "  </tbody>\n",
       "</table>\n",
       "<p>286 rows × 9 columns</p>\n",
       "</div>"
      ],
      "text/plain": [
       "      sex   age      ym child  religious  education  occupation  rate  \\\n",
       "0    male  37.0  10.000    no          3         18           7     4   \n",
       "3    male  57.0  15.000   yes          5         18           6     5   \n",
       "4    male  22.0   0.750    no          2         17           6     3   \n",
       "7    male  57.0  15.000   yes          2         14           4     4   \n",
       "9    male  22.0   1.500    no          4         14           4     5   \n",
       "10   male  37.0  15.000   yes          2         20           7     2   \n",
       "11   male  27.0   4.000   yes          4         18           6     4   \n",
       "12   male  47.0  15.000   yes          5         17           6     4   \n",
       "24   male  37.0   4.000   yes          2         20           6     4   \n",
       "27   male  42.0  15.000   yes          5         20           6     4   \n",
       "28   male  27.0   4.000   yes          3         16           5     5   \n",
       "30   male  42.0  15.000   yes          4         20           6     3   \n",
       "32   male  27.0   0.417    no          4         17           6     4   \n",
       "34   male  32.0   4.000   yes          1         18           6     4   \n",
       "38   male  22.0   1.500   yes          1         14           3     5   \n",
       "40   male  32.0  10.000   yes          5         20           6     5   \n",
       "41   male  52.0  15.000   yes          5         18           6     3   \n",
       "45   male  22.0   4.000    no          3         16           5     5   \n",
       "48   male  27.0   1.500   yes          4         16           3     5   \n",
       "49   male  42.0  15.000   yes          2         20           6     4   \n",
       "51   male  32.0   7.000   yes          2         20           6     4   \n",
       "52   male  27.0   4.000   yes          5         20           6     5   \n",
       "53   male  27.0  10.000   yes          4         20           6     4   \n",
       "54   male  22.0   4.000    no          1         18           5     5   \n",
       "56   male  22.0   1.500   yes          5         16           4     4   \n",
       "59   male  32.0  10.000   yes          4         20           6     4   \n",
       "61   male  37.0  10.000   yes          3         20           6     4   \n",
       "63   male  27.0   4.000    no          2         18           4     5   \n",
       "64   male  32.0   7.000    no          4         20           6     4   \n",
       "65   male  42.0  15.000   yes          2         17           3     5   \n",
       "..    ...   ...     ...   ...        ...        ...         ...   ...   \n",
       "548  male  42.0  15.000   yes          3         20           5     4   \n",
       "549  male  32.0  10.000    no          2         18           4     2   \n",
       "551  male  57.0  15.000   yes          5         20           4     5   \n",
       "552  male  47.0  15.000   yes          4         20           6     4   \n",
       "554  male  37.0  15.000   yes          3         17           6     3   \n",
       "555  male  37.0  15.000   yes          5         17           5     2   \n",
       "556  male  27.0  10.000   yes          2         20           6     4   \n",
       "557  male  37.0  15.000   yes          2         16           5     4   \n",
       "559  male  32.0  10.000   yes          3         17           6     3   \n",
       "560  male  37.0  15.000   yes          4         18           5     1   \n",
       "563  male  37.0  15.000   yes          2         17           5     4   \n",
       "567  male  52.0   7.000    no          4         16           5     5   \n",
       "574  male  32.0   4.000   yes          4         18           6     4   \n",
       "577  male  32.0   7.000   yes          4         16           4     4   \n",
       "578  male  37.0  15.000    no          3         14           6     2   \n",
       "579  male  42.0  15.000   yes          3         16           6     3   \n",
       "580  male  27.0   4.000   yes          1         18           5     4   \n",
       "581  male  37.0  15.000   yes          4         20           7     3   \n",
       "582  male  37.0  15.000   yes          3         20           6     4   \n",
       "583  male  22.0   1.500    no          2         12           3     3   \n",
       "584  male  32.0   4.000   yes          3         20           6     2   \n",
       "585  male  32.0  15.000   yes          5         20           6     5   \n",
       "587  male  47.0  15.000    no          1         18           6     5   \n",
       "591  male  42.0  15.000   yes          3         18           6     2   \n",
       "593  male  27.0   7.000   yes          2         17           5     4   \n",
       "594  male  32.0  10.000   yes          4         14           4     3   \n",
       "595  male  47.0  15.000   yes          3         16           4     2   \n",
       "596  male  22.0   1.500   yes          1         12           2     5   \n",
       "598  male  32.0  10.000   yes          2         17           6     5   \n",
       "599  male  22.0   7.000   yes          3         18           6     2   \n",
       "\n",
       "     nbaffairs  \n",
       "0            0  \n",
       "3            0  \n",
       "4            0  \n",
       "7            0  \n",
       "9            0  \n",
       "10           0  \n",
       "11           0  \n",
       "12           0  \n",
       "24           0  \n",
       "27           0  \n",
       "28           0  \n",
       "30           0  \n",
       "32           0  \n",
       "34           0  \n",
       "38           0  \n",
       "40           0  \n",
       "41           0  \n",
       "45           0  \n",
       "48           0  \n",
       "49           0  \n",
       "51           0  \n",
       "52           0  \n",
       "53           0  \n",
       "54           0  \n",
       "56           0  \n",
       "59           0  \n",
       "61           0  \n",
       "63           0  \n",
       "64           0  \n",
       "65           0  \n",
       "..         ...  \n",
       "548          7  \n",
       "549         12  \n",
       "551          7  \n",
       "552         12  \n",
       "554         12  \n",
       "555         12  \n",
       "556          7  \n",
       "557          2  \n",
       "559          7  \n",
       "560          2  \n",
       "563         12  \n",
       "567         12  \n",
       "574          2  \n",
       "577          1  \n",
       "578         12  \n",
       "579          1  \n",
       "580          1  \n",
       "581          2  \n",
       "582          7  \n",
       "583          3  \n",
       "584          3  \n",
       "585          2  \n",
       "587         12  \n",
       "591         12  \n",
       "593         12  \n",
       "594          3  \n",
       "595          7  \n",
       "596          1  \n",
       "598          2  \n",
       "599          2  \n",
       "\n",
       "[286 rows x 9 columns]"
      ]
     },
     "execution_count": 34,
     "metadata": {},
     "output_type": "execute_result"
    }
   ],
   "source": [
    "df[df[\"sex\"] == \"male\"]"
   ]
  },
  {
   "cell_type": "markdown",
   "metadata": {},
   "source": [
    "We can combine this with matplotlib to get a plot of the mean number of affairs based on rating by gender:"
   ]
  },
  {
   "cell_type": "code",
   "execution_count": 35,
   "metadata": {
    "tags": [
     "nbval-ignore-output"
    ]
   },
   "outputs": [
    {
     "data": {
      "image/png": "[encoded data removed]",
      "text/plain": [
       "<Figure size 432x288 with 1 Axes>"
      ]
     },
     "metadata": {},
     "output_type": "display_data"
    }
   ],
   "source": [
    "plt.figure()\n",
    "for sex in [\"male\", \"female\"]:\n",
    "    plt.scatter(range(1, 5 + 1), df[df[\"sex\"] == sex].groupby(\"rate\")[\"nbaffairs\"].mean(), label=sex)\n",
    "plt.legend()\n",
    "plt.xlabel(\"rate\")\n",
    "plt.ylabel(\"mean nbaffairs\");"
   ]
  },
  {
   "cell_type": "markdown",
   "metadata": {},
   "source": [
    "#### Further resources for pandas\n",
    "\n",
    "- [pandas tutorials](https://pandas.pydata.org/pandas-docs/stable/tutorials.html)\n",
    "- [an interactive pandas tutorial](https://www.datacamp.com/community/tutorials/pandas-tutorial-dataframe-python)"
   ]
  },
  {
   "cell_type": "markdown",
   "metadata": {},
   "source": [
    "### Scikit-learn - http://scikit-learn.org\n",
    "\n",
    "The scikit learn library is a popular library for machine learning. As an example, let us aim to train a model that will predict whether or not someone will have an affair using the data above.\n",
    "\n",
    "First let us create a new variable `male` and also change the `child`  variable to be a boolean and store this data in a new dataframe called `X` which will be used to predict a new variable a new variable `cheat` (stored in `y`):"
   ]
  },
  {
   "cell_type": "code",
   "execution_count": 36,
   "metadata": {},
   "outputs": [],
   "source": [
    "df[\"bool_child\"] = df[\"child\"] == \"yes\"\n",
    "df[\"male\"] = df[\"sex\"] == \"male\"\n",
    "X = df[[\"age\", \"ym\", \"religious\", \"education\", \"rate\", \"occupation\", \"bool_child\", \"male\"]]\n",
    "y = df[\"nbaffairs\"] > 0"
   ]
  },
  {
   "cell_type": "markdown",
   "metadata": {},
   "source": [
    "Now let us import the specifit classifier for the algorithm we want to use:"
   ]
  },
  {
   "cell_type": "code",
   "execution_count": 37,
   "metadata": {
    "tags": [
     "nbval-ignore-output"
    ]
   },
   "outputs": [
    {
     "name": "stderr",
     "output_type": "stream",
     "text": [
      "/home/vince/anaconda3/envs/cfm/lib/python3.6/site-packages/sklearn/ensemble/weight_boosting.py:29: DeprecationWarning: numpy.core.umath_tests is an internal NumPy module and should not be imported. It will be removed in a future NumPy release.\n",
      "  from numpy.core.umath_tests import inner1d\n"
     ]
    }
   ],
   "source": [
    "from sklearn.ensemble import RandomForestClassifier"
   ]
  },
  {
   "cell_type": "code",
   "execution_count": 38,
   "metadata": {},
   "outputs": [
    {
     "data": {
      "text/plain": [
       "RandomForestClassifier(bootstrap=True, class_weight=None, criterion='gini',\n",
       "            max_depth=None, max_features='auto', max_leaf_nodes=None,\n",
       "            min_impurity_decrease=0.0, min_impurity_split=None,\n",
       "            min_samples_leaf=1, min_samples_split=2,\n",
       "            min_weight_fraction_leaf=0.0, n_estimators=10, n_jobs=1,\n",
       "            oob_score=False, random_state=3, verbose=0, warm_start=False)"
      ]
     },
     "execution_count": 38,
     "metadata": {},
     "output_type": "execute_result"
    }
   ],
   "source": [
    "seed = 3\n",
    "clf = RandomForestClassifier(random_state=seed)\n",
    "clf.fit(X, y)"
   ]
  },
  {
   "cell_type": "code",
   "execution_count": 39,
   "metadata": {},
   "outputs": [
    {
     "name": "stdout",
     "output_type": "stream",
     "text": [
      "age 0.18605\n",
      "ym 0.12635\n",
      "religious 0.18442\n",
      "education 0.16467\n",
      "rate 0.13675\n",
      "occupation 0.12495\n",
      "bool_child 0.02848\n",
      "male 0.04834\n"
     ]
    }
   ],
   "source": [
    "for feature, importance in zip(X.columns, clf.feature_importances_):\n",
    "    print(feature, round(importance, 5))"
   ]
  },
  {
   "cell_type": "markdown",
   "metadata": {},
   "source": [
    "The most important feature seems to be the `age` of the individual. Let us use our trained model to predict whether or not some given individual is likely to have an affair over their lifetime:"
   ]
  },
  {
   "cell_type": "code",
   "execution_count": 40,
   "metadata": {
    "tags": [
     "nbval-ignore-output"
    ]
   },
   "outputs": [
    {
     "data": {
      "text/plain": [
       "(0, 1)"
      ]
     },
     "execution_count": 40,
     "metadata": {},
     "output_type": "execute_result"
    },
    {
     "data": {
      "image/png": "[encoded data removed]",
      "text/plain": [
       "<Figure size 432x288 with 1 Axes>"
      ]
     },
     "metadata": {},
     "output_type": "display_data"
    }
   ],
   "source": [
    "ages = range(35, 100)\n",
    "probability_of_affair = []\n",
    "for age in ages:\n",
    "    ym = age - 24\n",
    "    vince_knight = [[age, ym, 1, 20, 5, 3, True, True]]\n",
    "    probability_of_affair.append(clf.predict_proba(vince_knight)[0][0])\n",
    "\n",
    "plt.figure()    \n",
    "plt.plot(ages, probability_of_affair)\n",
    "plt.xlabel(\"Vince's age\")\n",
    "plt.ylabel(\"Vince's probability of having an affair\")\n",
    "plt.ylim(0, 1)"
   ]
  },
  {
   "cell_type": "markdown",
   "metadata": {},
   "source": [
    "#### Further resources for scikit-learn\n",
    "\n",
    "- [scikit-learn tutorials](http://scikit-learn.org/stable/tutorial/index.html)\n",
    "- [an interactive scikit-learn tutorial](https://www.datacamp.com/community/tutorials/machine-learning-python)\n",
    "- [A \"gentle introduction\" to scikit-learn](https://machinelearningmastery.com/a-gentle-introduction-to-scikit-learn-a-python-machine-learning-library/)"
   ]
  },
  {
   "cell_type": "markdown",
   "metadata": {},
   "source": [
    "---\n",
    "\n",
    "**This is a brief overview of the type of thing each library can do, depending on what you want to do be sure to explore them fully and there are many other libraries in the Python ecosystem.**"
   ]
  }
 ],
 "metadata": {
  "anaconda-cloud": {},
  "celltoolbar": "Tags",
  "kernelspec": {
   "display_name": "Python [conda env:cfm]",
   "language": "python",
   "name": "conda-env-cfm-py"
  },
  "language_info": {
   "codemirror_mode": {
    "name": "ipython",
    "version": 3
   },
   "file_extension": ".py",
   "mimetype": "text/x-python",
   "name": "python",
   "nbconvert_exporter": "python",
   "pygments_lexer": "ipython3",
   "version": "3.6.5"
  }
 },
 "nbformat": 4,
 "nbformat_minor": 2
}
