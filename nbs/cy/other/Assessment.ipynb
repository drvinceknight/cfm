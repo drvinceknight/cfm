{
 "cells": [
  {
   "cell_type": "markdown",
   "metadata": {},
   "source": [
    "## Aseiniad\n",
    "\n",
    "Dyddiad cau: I'w drafod yn y dosbarth.\n",
    "\n",
    "Ysgrifennwch bapur ymchwil tair tudalen ar bwnc mathemategol. Rhaid ysgrifennu'r adroddiad yn LaTeX a rhaid defnyddio agweddau rhaglenni (Python) i dangos y pwnc penodol.\n",
    "\n",
    "Anogir i chi dewis eich pwnc eich hunain, os ydych chi yn gwneud hwn argymhellir i chi gwirio gyda fi (Vince Knight) bod y pwnc yn briodol.\n",
    "\n",
    "## Meini prawf marcio\n",
    "\n",
    "Defnyddir y cynllun marcio canlynol:\n",
    "\n",
    "- Cod (50% o bwys)\n",
    "   - 50%: Defnyddiwyd cod priodol gyda'r cysyniadau a ddysgir yn y taflenni lab.\n",
    "   - 70%: Defnyddiwyd cod o'r taflenni lab er mwyn dangos cysyniadau yn glir.\n",
    "   - 90%: Mae'r cod a defnyddiwyd yn gyfuniad o'r cod a ddysgir yn y dosbarth a chod a archwiliwyd yn unigol. Defnyddir hwn i esbonio cysyniadau yn glir mewn ffordd wreiddiol.\n",
    "- Cynnwys (25% o bwys)\n",
    "    - 50%: Mae'r cynnwys yn gywir ac agweddau o'r pwnc wedi'u hesbonio.\n",
    "    - 70%: Mae’r cynnwys yn gywir a chafodd bach o ymchwil ei wneud (wedi'i gyfeirio'n gywir) i dangos agweddau diddorol y pwnc.\n",
    "    - 90%: Mae'r pwnc a ddewiswyd yn wreiddiol, wedi'i ymchwilio'n drylwyr, ac mae dealltwriaeth fawr wedi ei ddangos.\n",
    "- Cyflwyniad (20% o bwys)\n",
    "    - 50%: Cafodd y gwaith ei ysgrifennu'n dda ond gyda bach neu dim  o gynnwys graffigol, ac mae hefyd yn cynnwys camgymeriadau sillafu a gramadeg.\n",
    "    - 70%:  Cafodd y gwaith ei ysgrifennu'n dda gyda rhai graffiau a delweddau a man camgymeriadau sillafu a gramadeg.\n",
    "    - 90%: Mae'r gwaith yn glir, wedi'i chyfeirio'n gywir, yn fathemategol trylwyr gyda graffiau a delweddau o ansawdd gwych, a does dim camgymeriadau sillafu na gramadeg.\n",
    "- Gwaith lab (5%)\n",
    "    - 100%: Cyfraniad unigol o syniadau'r prosiect, datrys problemau, a thrafodaethau a chwestiynau o werth.\n",
    "\n",
    "**Rhaid cynnwys holl god rydych eisiau cael ei ystyried am farciau o fewn y cyfyngiad 3 tudalen.**\n",
    "\n",
    "## Cyflwyno\n",
    "\n",
    "I gyflwyno'r gwaith byddwch yn defnyddio learning central. Canfyddwch y modiwl “MA1003 Computing For Mathematics“, o fewn hwnna canfyddwch y ffolder “Assessment” ac yna'r eitem “Computing For Mathematics: Individual Coursework”. Yna cliciwch ar “View/Complete” a dilynwch y cyfarwyddiadau. Gweler  fideo yma sy’n dangos sut i gyflwyno'r gwaith: https://vimeo.com/114969438.\n",
    "\n",
    "Rydych yn cyflwyno'r pdf (nid y ffynhonnell LaTex neu unrhyw notebooks Jupyter).\n",
    "\n",
    "Byddwch yn cyflwyno’r gwaith yn y ffordd yma gan fod “Turnitin” yn gynnyrch a phrynwyd gan y Brifysgol sy'n gwirio am lên-ladrad.\n",
    "\n",
    "DYMA'CH UNIG SIAWNS I GYFLWYNO GWAITH: PEIDIWCH ADAEL Y CYFLWYNO NES Y MUNUD OLAF. OS NAD YDYCH YN CYFLWYNO BYDDWCH YN ENNILL MARC O 0."
   ]
  },
  {
   "cell_type": "code",
   "execution_count": null,
   "metadata": {
    "collapsed": true
   },
   "outputs": [],
   "source": []
  }
 ],
 "metadata": {
  "anaconda-cloud": {},
  "kernelspec": {
   "display_name": "Python 3",
   "language": "python",
   "name": "python3"
  },
  "language_info": {
   "codemirror_mode": {
    "name": "ipython",
    "version": 3
   },
   "file_extension": ".py",
   "mimetype": "text/x-python",
   "name": "python",
   "nbconvert_exporter": "python",
   "pygments_lexer": "ipython3",
   "version": "3.5.4"
  }
 },
 "nbformat": 4,
 "nbformat_minor": 2
}
