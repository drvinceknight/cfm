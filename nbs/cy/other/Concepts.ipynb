{
 "cells": [
  {
   "cell_type": "markdown",
   "metadata": {},
   "source": [
    "## Rhestr o enghreifftiau bach o god ar gyfer sylfeini Python\n",
    "\n",
    "Erbyn diwedd y cwrs fe ddylech chi allu:\n",
    "\n",
    "- Darllen a disgrifio'r hyn maent yn eu gwneud.\n",
    "- Ysgrifennu enghreifftiau eich hunain.\n",
    "- Cyfuno'r cysyniadau er mwyn gwneud pethau mwy cymhleth.\n",
    "\n",
    "**Nodwch taw is-set fach o alluoedd Python yw hon**"
   ]
  },
  {
   "cell_type": "markdown",
   "metadata": {},
   "source": [
    "### Aseinio newidynnau a thriniaeth algebraidd\n",
    "\n",
    "```python\n",
    "import math\n",
    "\n",
    "a = 3\n",
    "b = a + 1\n",
    "print(math.sqrt(a ** 2 + b ** 2))\n",
    "```\n",
    "\n",
    "*Allbwn?*\n",
    "\n",
    "```\n",
    "\n",
    "\n",
    "\n",
    "```"
   ]
  },
  {
   "cell_type": "code",
   "execution_count": 1,
   "metadata": {
    "tags": [
     "solution"
    ]
   },
   "outputs": [
    {
     "name": "stdout",
     "output_type": "stream",
     "text": [
      "5.0\n"
     ]
    }
   ],
   "source": [
    "import math\n",
    "a = 3\n",
    "b = a + 1\n",
    "print(math.sqrt(a ** 2 + b ** 2))"
   ]
  },
  {
   "cell_type": "markdown",
   "metadata": {},
   "source": [
    "### Datganiadau amodol sengl\n",
    "\n",
    "\n",
    "```python\n",
    "import random\n",
    "\n",
    "n = random.randint(0, 5)\n",
    "if n == 4:\n",
    "    print(n)\n",
    "else:\n",
    "    print(-1)\n",
    "```\n",
    "\n",
    "*Allbwn?*\n",
    "\n",
    "```\n",
    "\n",
    "\n",
    "\n",
    "```"
   ]
  },
  {
   "cell_type": "code",
   "execution_count": 2,
   "metadata": {
    "tags": [
     "solution",
     "nbval-ignore-output"
    ]
   },
   "outputs": [
    {
     "name": "stdout",
     "output_type": "stream",
     "text": [
      "-1\n"
     ]
    }
   ],
   "source": [
    "import random\n",
    "n = random.randint(0, 5)\n",
    "if n == 4:\n",
    "    print(n)\n",
    "else:\n",
    "    print(-1)"
   ]
  },
  {
   "cell_type": "markdown",
   "metadata": {},
   "source": [
    "### Datganiadau amodol ailadroddol\n",
    "\n",
    "\n",
    "\n",
    "```python\n",
    "import random\n",
    "\n",
    "n = random.randint(0, 5)\n",
    "number_of_samples = 1\n",
    "while n != 4:\n",
    "    number_of_samples += 1\n",
    "    n = random.randint(0, 5)\n",
    "```\n",
    "\n",
    "*Allbwn?*\n",
    "\n",
    "```\n",
    "\n",
    "\n",
    "\n",
    "```"
   ]
  },
  {
   "cell_type": "code",
   "execution_count": 3,
   "metadata": {
    "tags": [
     "solution",
     "nbval-ignore-output"
    ]
   },
   "outputs": [
    {
     "name": "stdout",
     "output_type": "stream",
     "text": [
      "2\n"
     ]
    }
   ],
   "source": [
    "import random\n",
    "n = random.randint(0, 5)\n",
    "number_of_samples = 1\n",
    "while n != 5:\n",
    "    number_of_samples += 1\n",
    "    n = random.randint(0, 5)\n",
    "print(number_of_samples)"
   ]
  },
  {
   "cell_type": "markdown",
   "metadata": {},
   "source": [
    "### Ffwythiannau a rhestrau\n",
    "\n",
    "```python\n",
    "import random\n",
    "\n",
    "def cael_samplau(terfan_uchaf=5):\n",
    "    \"\"\"\n",
    "    Allbynnu'r hapsamplau o 0 i'r `terfan_uchaf` nes\n",
    "    samplir y `terfan_uchaf`.\n",
    "    \"\"\"\n",
    "    samplau = [random.randint(0, terfan_uchaf)]\n",
    "    \n",
    "    while samplau[-1] != terfan_uchaf:\n",
    "        samplau.append(random.randint(0, terfan_uchaf))\n",
    "\n",
    "    return samplau\n",
    "\n",
    "print(cael_samplau(terfan_uchaf=5))\n",
    "```\n",
    "\n",
    "*Allbwn?*\n",
    "\n",
    "```\n",
    "\n",
    "\n",
    "\n",
    "```"
   ]
  },
  {
   "cell_type": "code",
   "execution_count": 4,
   "metadata": {
    "tags": [
     "solution",
     "nbval-ignore-output"
    ]
   },
   "outputs": [
    {
     "name": "stdout",
     "output_type": "stream",
     "text": [
      "[0, 4, 1, 3, 1, 4, 4, 4, 5]\n"
     ]
    }
   ],
   "source": [
    "def cael_samplau(terfan_uchaf=5):\n",
    "    \"\"\"\n",
    "    Allbynnu'r hapsamplau o 0 i'r `terfan_uchaf` nes\n",
    "    samplir y `terfan_uchaf`.\n",
    "    \"\"\"\n",
    "    samplau = [random.randint(0, terfan_uchaf)]\n",
    "    \n",
    "    while samplau[-1] != terfan_uchaf:\n",
    "        samplau.append(random.randint(0, terfan_uchaf))\n",
    "\n",
    "    return samplau\n",
    "\n",
    "print(cael_samplau(terfan_uchaf=5))\n"
   ]
  },
  {
   "cell_type": "markdown",
   "metadata": {},
   "source": [
    "### Iteru\n",
    "\n",
    "\n",
    "```python\n",
    "nifer_o_ddyddiau = 12\n",
    "nifer_o_anrhegion = 0\n",
    "for dydd in range(nifer_o_ddyddiau + 1):\n",
    "    for anrhegion in range(dydd + 1):\n",
    "        nifer_o_anrhegion += anrhegion\n",
    "print(nifer_o_anrhegion)\n",
    "```\n",
    "\n",
    "*Allbwn?*\n",
    "\n",
    "```\n",
    "\n",
    "\n",
    "\n",
    "```"
   ]
  },
  {
   "cell_type": "code",
   "execution_count": 5,
   "metadata": {
    "tags": [
     "solution"
    ]
   },
   "outputs": [
    {
     "name": "stdout",
     "output_type": "stream",
     "text": [
      "364\n"
     ]
    }
   ],
   "source": [
    "nifer_o_ddyddiau = 12\n",
    "nifer_o_anrhegion = 0\n",
    "for dydd in range(nifer_o_ddyddiau + 1):\n",
    "    for anrhegion in range(dydd + 1):\n",
    "        nifer_o_anrhegion += anrhegion\n",
    "print(nifer_o_anrhegion)"
   ]
  },
  {
   "cell_type": "markdown",
   "metadata": {},
   "source": [
    "### Ffwythiannau Ailadroddol\n",
    "\n",
    "```python\n",
    "def fibonacci(n):\n",
    "    \"\"\"\n",
    "    Allbynnu'r nfed rhif fibonacci gan ddefnyddio\n",
    "    ffwythiant ailadroddol.\n",
    "    \"\"\"\n",
    "    if n in [0, 1]:\n",
    "        return 1\n",
    "    return fibonacci(n - 1) + fibonacci(n - 2)\n",
    "\n",
    "print(fibonacci(5))\n",
    "```\n",
    "\n",
    "*Allbwn?*\n",
    "\n",
    "```\n",
    "\n",
    "\n",
    "\n",
    "```"
   ]
  },
  {
   "cell_type": "code",
   "execution_count": 6,
   "metadata": {
    "tags": [
     "solution"
    ]
   },
   "outputs": [
    {
     "name": "stdout",
     "output_type": "stream",
     "text": [
      "8\n"
     ]
    }
   ],
   "source": [
    "def fibonacci(n):\n",
    "    \"\"\"\n",
    "    Allbynnu'r nfed rhif fibonacci gan ddefnyddio\n",
    "    ffwythiant ailadroddol.\n",
    "    \"\"\"\n",
    "    if n in [0, 1]:\n",
    "        return 1\n",
    "    return fibonacci(n - 1) + fibonacci(n - 2)\n",
    "\n",
    "print(fibonacci(5))"
   ]
  },
  {
   "cell_type": "markdown",
   "metadata": {},
   "source": [
    "###  Rhaglennu gwrthrych-gyfeiriadol\n",
    "\n",
    "```python\n",
    "class RhifCymhlyg:\n",
    "    \"\"\"\n",
    "    Dosbarth ar gyfer rhifau cymhlyg o'r ffurf $a + i b$\n",
    "    \"\"\"\n",
    "    def __init__(self, a, b):\n",
    "        self.a = a\n",
    "        self.b = b\n",
    "       \n",
    "    def __add__(self, llall):\n",
    "        return RhifCymhlyg(self.a + other.a, self.b + other.b)\n",
    "    \n",
    "    def __mul__(self, llall):\n",
    "        return RhifCymhlyg(\n",
    "            self.a * llall.a - self.b * llall.b, \n",
    "            self.b * llall.a + self.a * llall.b\n",
    "        )\n",
    "    def __repr__(self):\n",
    "        return f\"{self.a} + {self.b}i\"\n",
    "    \n",
    "z1 = RhifCymhlyg(1, -2)\n",
    "z2 = RhifCymhlyg(51, 0)\n",
    "print(z1 * z2)\n",
    "```\n",
    "\n",
    "*Allbwn?*\n",
    "\n",
    "```\n",
    "\n",
    "\n",
    "\n",
    "```"
   ]
  },
  {
   "cell_type": "code",
   "execution_count": 7,
   "metadata": {
    "tags": [
     "solution"
    ]
   },
   "outputs": [
    {
     "name": "stdout",
     "output_type": "stream",
     "text": [
      "51 + -102i\n"
     ]
    }
   ],
   "source": [
    "class RhifCymhlyg:\n",
    "    \"\"\"\n",
    "    Dosbarth ar gyfer rhifau cymhlyg o'r ffurf $a + i b$\n",
    "    \"\"\"\n",
    "    def __init__(self, a, b):\n",
    "        self.a = a\n",
    "        self.b = b\n",
    "       \n",
    "    def __add__(self, llall):\n",
    "        return RhifCymhlyg(self.a + other.a, self.b + other.b)\n",
    "    \n",
    "    def __mul__(self, llall):\n",
    "        return RhifCymhlyg(\n",
    "            self.a * llall.a - self.b * llall.b, \n",
    "            self.b * llall.a + self.a * llall.b\n",
    "        )\n",
    "    def __repr__(self):\n",
    "        return f\"{self.a} + {self.b}i\"\n",
    "    \n",
    "z1 = RhifCymhlyg(1, -2)\n",
    "z2 = RhifCymhlyg(51, 0)\n",
    "print(z1 * z2)\n"
   ]
  },
  {
   "cell_type": "code",
   "execution_count": null,
   "metadata": {},
   "outputs": [],
   "source": []
  }
 ],
 "metadata": {
  "celltoolbar": "Tags",
  "kernelspec": {
   "display_name": "Python 3",
   "language": "python",
   "name": "python3"
  },
  "language_info": {
   "codemirror_mode": {
    "name": "ipython",
    "version": 3
   },
   "file_extension": ".py",
   "mimetype": "text/x-python",
   "name": "python",
   "nbconvert_exporter": "python",
   "pygments_lexer": "ipython3",
   "version": "3.7.3"
  }
 },
 "nbformat": 4,
 "nbformat_minor": 2
}
