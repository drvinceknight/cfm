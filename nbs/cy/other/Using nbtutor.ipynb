{
 "cells": [
  {
   "cell_type": "markdown",
   "metadata": {},
   "source": [
    "## Defnyddio nbtutor\n",
    "\n",
    "Weithiau yn y dosbarth byddwch yn fy ngweld yn defnyddio estyniad Jupyter o'r enw `nbtutor` i helpu delweddu beth sy'n digwydd.\n",
    "\n",
    "Os hoffwch chi ddefnyddio `nbtutor` eich hun mae angen ei osod.\n",
    "\n",
    "\n",
    "### Gosod nbtutor\n",
    "\n",
    "I wneud hwn:\n",
    "\n",
    "- Ar Windows agorwch **Anaconda prompt**\n",
    "- Ar Mac OSX agorwch **terminal**\n",
    "\n",
    "teipiwch y canlynol:\n",
    "\n",
    "`pip install nbtutor`\n",
    "\n",
    "gwasgwch `Enter` ac fe ddylai lawrlwytho.\n",
    "\n",
    "### Defnyddio nbtutor\n",
    "\n",
    "Yn Jupyter, rhowch y canlynol mewn cell i lwytho `nbtutor`: `%load_ext nbtutor`"
   ]
  },
  {
   "cell_type": "code",
   "execution_count": 1,
   "metadata": {},
   "outputs": [],
   "source": [
    "%load_ext nbtutor"
   ]
  },
  {
   "cell_type": "markdown",
   "metadata": {},
   "source": [
    "\n",
    "Yna i'w ddefnyddio ar unrhyw gell: `%%nbtutor`. Dyma enghraifft:"
   ]
  },
  {
   "cell_type": "code",
   "execution_count": 2,
   "metadata": {
    "tags": [
     "nbval-ignore-output"
    ]
   },
   "outputs": [],
   "source": [
    "%%nbtutor\n",
    "\n",
    "cumulative_sum = 0\n",
    "for i in range(10):\n",
    "    cumulative_sum += i"
   ]
  },
  {
   "cell_type": "markdown",
   "metadata": {},
   "source": [
    "Bydd hwn yn arddangos amgylchedd rhyngweithiol sy'n edrych fel y llun canlynol:\n",
    "\n",
    "![](/{{root}}/assets/img/using-nbtutor.png)"
   ]
  },
  {
   "cell_type": "markdown",
   "metadata": {},
   "source": [
    "Gallwch chi glicio ar `next` i gamu trwy'r cod tra ei bod yn delweddu beth y mae'n ei wneud, gallwch hefyd newid y bocs opsiwn o `Memory` i `Timeline`.\n",
    "\n",
    "- `Memory`: yn dangos beth sydd gan Python yn ei chof a pa gyfeirgwn sydd gan Python yn ei chof a beth y mae'r cyfeirgwn hynny yn cyfeirio atynt ar y pryd;\n",
    "- `Timeline`: yn dangos yr amryw o wrthrychau dros amser.\n",
    "\n",
    "Os hoffwch ddarllen y ddogfennaeth ar gyfer `nbtutor` gallwch ei weld fan hyn: https://nbtutor.readthedocs.io/en/"
   ]
  },
  {
   "cell_type": "code",
   "execution_count": null,
   "metadata": {
    "collapsed": true
   },
   "outputs": [],
   "source": []
  }
 ],
 "metadata": {
  "celltoolbar": "Tags",
  "kernelspec": {
   "display_name": "Python 3",
   "language": "python",
   "name": "python3"
  },
  "language_info": {
   "codemirror_mode": {
    "name": "ipython",
    "version": 3
   },
   "file_extension": ".py",
   "mimetype": "text/x-python",
   "name": "python",
   "nbconvert_exporter": "python",
   "pygments_lexer": "ipython3",
   "version": "3.5.4"
  }
 },
 "nbformat": 4,
 "nbformat_minor": 2
}
