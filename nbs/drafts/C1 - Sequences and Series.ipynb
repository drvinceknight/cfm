{
 "cells": [
  {
   "cell_type": "markdown",
   "metadata": {},
   "source": [
    "Questions on sequences and series mainly from https://www.mathsgenie.co.uk/resources/c1-sequences-and-series.pdf"
   ]
  },
  {
   "cell_type": "markdown",
   "metadata": {},
   "source": [
    "Q1\n",
    "\n",
    "A sequence \\\\(a_1, a_2, a_3, \\dots\\\\) is defined by:\n",
    "\n",
    "\\\\[\n",
    "    a_1 = k\\\\\n",
    "    a_{n+1}=2a_n - 7\\quad n\\geq 1\n",
    "\\\\]"
   ]
  },
  {
   "cell_type": "code",
   "execution_count": 8,
   "metadata": {},
   "outputs": [],
   "source": [
    "def generate_a(k_value, n):\n",
    "    if n == 1:\n",
    "        return k_value\n",
    "    return 2 * generate_a(k, n - 1) - 7"
   ]
  },
  {
   "cell_type": "code",
   "execution_count": 9,
   "metadata": {},
   "outputs": [
    {
     "data": {
      "text/latex": [
       "$\\displaystyle 2 k - 7$"
      ],
      "text/plain": [
       "2*k - 7"
      ]
     },
     "execution_count": 9,
     "metadata": {},
     "output_type": "execute_result"
    }
   ],
   "source": [
    "import sympy as sym\n",
    "k = sym.Symbol(\"k\")\n",
    "generate_a(k_value=k, n=2)"
   ]
  },
  {
   "cell_type": "code",
   "execution_count": 10,
   "metadata": {},
   "outputs": [
    {
     "data": {
      "text/latex": [
       "$\\displaystyle 4 k - 21$"
      ],
      "text/plain": [
       "4*k - 21"
      ]
     },
     "execution_count": 10,
     "metadata": {},
     "output_type": "execute_result"
    }
   ],
   "source": [
    "generate_a(k_value=k, n=3)"
   ]
  },
  {
   "cell_type": "code",
   "execution_count": 11,
   "metadata": {},
   "outputs": [
    {
     "data": {
      "text/latex": [
       "$\\displaystyle 8 k - 49$"
      ],
      "text/plain": [
       "8*k - 49"
      ]
     },
     "execution_count": 11,
     "metadata": {},
     "output_type": "execute_result"
    }
   ],
   "source": [
    "generate_a(k_value=k, n=4)"
   ]
  },
  {
   "cell_type": "code",
   "execution_count": 12,
   "metadata": {},
   "outputs": [
    {
     "data": {
      "text/latex": [
       "$\\displaystyle 15 k - 77$"
      ],
      "text/plain": [
       "15*k - 77"
      ]
     },
     "execution_count": 12,
     "metadata": {},
     "output_type": "execute_result"
    }
   ],
   "source": [
    "sum(generate_a(k_value=k, n=n) for n in range(1, 5))"
   ]
  },
  {
   "cell_type": "code",
   "execution_count": 13,
   "metadata": {},
   "outputs": [
    {
     "data": {
      "text/latex": [
       "$\\displaystyle \\left\\{8\\right\\}$"
      ],
      "text/plain": [
       "FiniteSet(8)"
      ]
     },
     "execution_count": 13,
     "metadata": {},
     "output_type": "execute_result"
    }
   ],
   "source": [
    "sym.solveset(15 * k - 77 - 43, k)"
   ]
  },
  {
   "cell_type": "markdown",
   "metadata": {},
   "source": [
    "Q2.\n",
    "\n",
    "A 40 year building programme for new houses began in Oldtown in the year 1951 (Year 1) and finished in 1990 (Year 40).\n",
    "\n",
    "The number of houses built each year form an arithmetic sequence with first term \\\\(a\\\\) and common difference \\\\(d\\\\).\n",
    "\n",
    "Given that 2400 new houses were built in 1960 and 600 new houses were built in 1990, find:\n",
    "\n",
    "1. The value of \\\\(d\\\\).\n",
    "2. The value of \\\\(a\\\\).\n",
    "3. The total number of houses biult in Oldtown over the 40 year period."
   ]
  },
  {
   "cell_type": "code",
   "execution_count": 16,
   "metadata": {},
   "outputs": [],
   "source": [
    "def arithmetic_series(n, first_term, common_difference):\n",
    "    if n == 1:\n",
    "        return first_term\n",
    "    return common_difference + arithmetic_series(n - 1, first_term, common_difference)"
   ]
  },
  {
   "cell_type": "code",
   "execution_count": 17,
   "metadata": {},
   "outputs": [
    {
     "data": {
      "text/latex": [
       "$\\displaystyle a + 9 d$"
      ],
      "text/plain": [
       "a + 9*d"
      ]
     },
     "execution_count": 17,
     "metadata": {},
     "output_type": "execute_result"
    }
   ],
   "source": [
    "d = sym.Symbol(\"d\")\n",
    "a = sym.Symbol(\"a\")\n",
    "arithmetic_series(n=10, first_term=a, common_difference=d)"
   ]
  },
  {
   "cell_type": "code",
   "execution_count": 18,
   "metadata": {},
   "outputs": [
    {
     "data": {
      "text/latex": [
       "$\\displaystyle a + 39 d$"
      ],
      "text/plain": [
       "a + 39*d"
      ]
     },
     "execution_count": 18,
     "metadata": {},
     "output_type": "execute_result"
    }
   ],
   "source": [
    "arithmetic_series(n=40, first_term=a, common_difference=d)"
   ]
  },
  {
   "cell_type": "code",
   "execution_count": 20,
   "metadata": {},
   "outputs": [
    {
     "data": {
      "text/latex": [
       "$\\displaystyle a + 9 d = 2400$"
      ],
      "text/plain": [
       "Eq(a + 9*d, 2400)"
      ]
     },
     "execution_count": 20,
     "metadata": {},
     "output_type": "execute_result"
    }
   ],
   "source": [
    "first_equation = sym.Eq(arithmetic_series(n=10, first_term=a, common_difference=d), 2400)\n",
    "first_equation"
   ]
  },
  {
   "cell_type": "code",
   "execution_count": 21,
   "metadata": {},
   "outputs": [
    {
     "data": {
      "text/latex": [
       "$\\displaystyle a + 39 d = 600$"
      ],
      "text/plain": [
       "Eq(a + 39*d, 600)"
      ]
     },
     "execution_count": 21,
     "metadata": {},
     "output_type": "execute_result"
    }
   ],
   "source": [
    "second_equation = sym.Eq(arithmetic_series(n=40, first_term=a, common_difference=d), 600)\n",
    "second_equation"
   ]
  },
  {
   "cell_type": "code",
   "execution_count": 22,
   "metadata": {},
   "outputs": [
    {
     "data": {
      "text/latex": [
       "$\\displaystyle \\left\\{2400 - 9 d\\right\\}$"
      ],
      "text/plain": [
       "FiniteSet(2400 - 9*d)"
      ]
     },
     "execution_count": 22,
     "metadata": {},
     "output_type": "execute_result"
    }
   ],
   "source": [
    "sym.solveset(first_equation, a)"
   ]
  },
  {
   "cell_type": "code",
   "execution_count": 24,
   "metadata": {},
   "outputs": [
    {
     "data": {
      "text/latex": [
       "$\\displaystyle \\left\\{-60\\right\\}$"
      ],
      "text/plain": [
       "FiniteSet(-60)"
      ]
     },
     "execution_count": 24,
     "metadata": {},
     "output_type": "execute_result"
    }
   ],
   "source": [
    "sym.solveset(second_equation.subs({a : 2400 - 9 * d}), d)"
   ]
  },
  {
   "cell_type": "code",
   "execution_count": 25,
   "metadata": {},
   "outputs": [
    {
     "data": {
      "text/latex": [
       "$\\displaystyle 2940$"
      ],
      "text/plain": [
       "2940"
      ]
     },
     "execution_count": 25,
     "metadata": {},
     "output_type": "execute_result"
    }
   ],
   "source": [
    "(2400 - 9 * d).subs({d: -60})"
   ]
  },
  {
   "cell_type": "code",
   "execution_count": 26,
   "metadata": {},
   "outputs": [
    {
     "data": {
      "text/plain": [
       "2176200"
      ]
     },
     "execution_count": 26,
     "metadata": {},
     "output_type": "execute_result"
    }
   ],
   "source": [
    "sum(arithmetic_series(n=n, first_term=-60, common_difference=2940) for n in range(1, 40))"
   ]
  },
  {
   "cell_type": "markdown",
   "metadata": {},
   "source": [
    "Q7\n",
    "\n",
    "A sequence is given by:\n",
    "\n",
    "\\\\[\n",
    "    x_1 = 1\\\\\n",
    "    x_{n + 1}= x_n(p + x_n)\n",
    "\\\\]\n",
    "\n",
    "for \\\\(p\\ne0\\\\).\n",
    "\n",
    "1. Find \\\\(x_2\\\\) in terms of \\\\(p\\\\).\n",
    "2. Show that \\\\(x_3=1+3p+2p^2\\\\).\n",
    "3. Given that \\\\(x_3=1\\\\), find the value of \\\\(p\\\\)\n",
    "4. Write down the value of \\\\(x_{2008}\\\\)"
   ]
  },
  {
   "cell_type": "code",
   "execution_count": 27,
   "metadata": {},
   "outputs": [],
   "source": [
    "def generate_x(n, p):\n",
    "    if n == 1:\n",
    "        return 1\n",
    "    previous_x = generate_x(n - 1, p)\n",
    "    return previous_x * (p + previous_x)"
   ]
  },
  {
   "cell_type": "code",
   "execution_count": 28,
   "metadata": {},
   "outputs": [
    {
     "data": {
      "text/latex": [
       "$\\displaystyle p + 1$"
      ],
      "text/plain": [
       "p + 1"
      ]
     },
     "execution_count": 28,
     "metadata": {},
     "output_type": "execute_result"
    }
   ],
   "source": [
    "p = sym.Symbol(\"p\")\n",
    "generate_x(2, p=p)"
   ]
  },
  {
   "cell_type": "code",
   "execution_count": 31,
   "metadata": {},
   "outputs": [
    {
     "data": {
      "text/latex": [
       "$\\displaystyle 2 p^{2} + 3 p + 1$"
      ],
      "text/plain": [
       "2*p**2 + 3*p + 1"
      ]
     },
     "execution_count": 31,
     "metadata": {},
     "output_type": "execute_result"
    }
   ],
   "source": [
    "sym.expand(generate_x(3, p=p))"
   ]
  },
  {
   "cell_type": "code",
   "execution_count": 32,
   "metadata": {},
   "outputs": [
    {
     "data": {
      "text/latex": [
       "$\\displaystyle \\left\\{- \\frac{3}{2}, 0\\right\\}$"
      ],
      "text/plain": [
       "FiniteSet(-3/2, 0)"
      ]
     },
     "execution_count": 32,
     "metadata": {},
     "output_type": "execute_result"
    }
   ],
   "source": [
    "sym.solveset(generate_x(3, p=p) - 1, p)"
   ]
  },
  {
   "cell_type": "code",
   "execution_count": 33,
   "metadata": {},
   "outputs": [
    {
     "data": {
      "text/latex": [
       "$\\displaystyle - \\frac{1}{2}$"
      ],
      "text/plain": [
       "-1/2"
      ]
     },
     "execution_count": 33,
     "metadata": {},
     "output_type": "execute_result"
    }
   ],
   "source": [
    "generate_x(n=2008, p=-sym.S(3) / 2)"
   ]
  }
 ],
 "metadata": {
  "kernelspec": {
   "display_name": "CfM",
   "language": "python",
   "name": "cfm"
  },
  "language_info": {
   "codemirror_mode": {
    "name": "ipython",
    "version": 3
   },
   "file_extension": ".py",
   "mimetype": "text/x-python",
   "name": "python",
   "nbconvert_exporter": "python",
   "pygments_lexer": "ipython3",
   "version": "3.6.5"
  }
 },
 "nbformat": 4,
 "nbformat_minor": 2
}
