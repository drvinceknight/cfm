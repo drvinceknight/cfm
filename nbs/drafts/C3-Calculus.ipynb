{
 "cells": [
  {
   "cell_type": "markdown",
   "metadata": {},
   "source": [
    "A notebook to look at the mathematics involved in https://mathsmadeeasy.co.uk/wp-content/uploads/2017/10/C2-A-Level-Maths-Calculus-Questuons-AQA-OCR-Edexcel-MEI.pdf"
   ]
  },
  {
   "cell_type": "markdown",
   "metadata": {},
   "source": [
    "Q1.\n",
    "\n",
    "For each of the following functions calculate \\\\(\\frac{dy}{dx}\\\\) and \\\\(\\frac{d^2y}{dx^2}\\\\)."
   ]
  },
  {
   "cell_type": "code",
   "execution_count": 1,
   "metadata": {},
   "outputs": [
    {
     "data": {
      "text/latex": [
       "$\\displaystyle 1$"
      ],
      "text/plain": [
       "1"
      ]
     },
     "execution_count": 1,
     "metadata": {},
     "output_type": "execute_result"
    }
   ],
   "source": [
    "import sympy as sym\n",
    "\n",
    "x = sym.Symbol(\"x\")\n",
    "sym.diff(x, x)"
   ]
  },
  {
   "cell_type": "code",
   "execution_count": 2,
   "metadata": {},
   "outputs": [
    {
     "data": {
      "text/latex": [
       "$\\displaystyle 0$"
      ],
      "text/plain": [
       "0"
      ]
     },
     "execution_count": 2,
     "metadata": {},
     "output_type": "execute_result"
    }
   ],
   "source": [
    "sym.diff(x, x, 2)"
   ]
  },
  {
   "cell_type": "code",
   "execution_count": 3,
   "metadata": {},
   "outputs": [
    {
     "data": {
      "text/latex": [
       "$\\displaystyle \\frac{1}{3 x^{\\frac{2}{3}}}$"
      ],
      "text/plain": [
       "1/(3*x**(2/3))"
      ]
     },
     "execution_count": 3,
     "metadata": {},
     "output_type": "execute_result"
    }
   ],
   "source": [
    "sym.diff(x ** (sym.S(1) / 3), x)"
   ]
  },
  {
   "cell_type": "code",
   "execution_count": 4,
   "metadata": {},
   "outputs": [
    {
     "data": {
      "text/latex": [
       "$\\displaystyle - \\frac{2}{9 x^{\\frac{5}{3}}}$"
      ],
      "text/plain": [
       "-2/(9*x**(5/3))"
      ]
     },
     "execution_count": 4,
     "metadata": {},
     "output_type": "execute_result"
    }
   ],
   "source": [
    "sym.diff(x ** (sym.S(1) / 3), x, 2)"
   ]
  },
  {
   "cell_type": "code",
   "execution_count": 5,
   "metadata": {},
   "outputs": [
    {
     "data": {
      "text/latex": [
       "$\\displaystyle 2 x \\left(x - 5\\right) + 2 x \\left(x - 3\\right) + \\left(x - 3\\right) \\left(2 x - 10\\right)$"
      ],
      "text/plain": [
       "2*x*(x - 5) + 2*x*(x - 3) + (x - 3)*(2*x - 10)"
      ]
     },
     "execution_count": 5,
     "metadata": {},
     "output_type": "execute_result"
    }
   ],
   "source": [
    "sym.diff(2 * x * (x - 3) * (x - 5), x)"
   ]
  },
  {
   "cell_type": "code",
   "execution_count": 6,
   "metadata": {},
   "outputs": [
    {
     "data": {
      "text/latex": [
       "$\\displaystyle 4 \\left(3 x - 8\\right)$"
      ],
      "text/plain": [
       "4*(3*x - 8)"
      ]
     },
     "execution_count": 6,
     "metadata": {},
     "output_type": "execute_result"
    }
   ],
   "source": [
    "sym.diff(2 * x * (x - 3) * (x - 5), x, 2)"
   ]
  },
  {
   "cell_type": "code",
   "execution_count": 7,
   "metadata": {},
   "outputs": [
    {
     "data": {
      "text/latex": [
       "$\\displaystyle \\frac{9 x^{2} + \\frac{3}{\\sqrt{x}}}{3 \\sqrt[4]{x}} - \\frac{6 \\sqrt{x} + 3 x^{3} + 3}{12 x^{\\frac{5}{4}}}$"
      ],
      "text/plain": [
       "(9*x**2 + 3/sqrt(x))/(3*x**(1/4)) - (6*sqrt(x) + 3*x**3 + 3)/(12*x**(5/4))"
      ]
     },
     "execution_count": 7,
     "metadata": {},
     "output_type": "execute_result"
    }
   ],
   "source": [
    "sym.diff((3 * x ** 3 + 6 * sym.sqrt(x) + 3) / (3 * x ** (sym.S(1) / 4)), x)"
   ]
  },
  {
   "cell_type": "code",
   "execution_count": 8,
   "metadata": {},
   "outputs": [
    {
     "data": {
      "text/latex": [
       "$\\displaystyle \\frac{6 x - \\frac{3 x^{2} + \\frac{1}{\\sqrt{x}}}{2 x} + \\frac{5 \\left(2 \\sqrt{x} + x^{3} + 1\\right)}{16 x^{2}} - \\frac{1}{2 x^{\\frac{3}{2}}}}{\\sqrt[4]{x}}$"
      ],
      "text/plain": [
       "(6*x - (3*x**2 + 1/sqrt(x))/(2*x) + 5*(2*sqrt(x) + x**3 + 1)/(16*x**2) - 1/(2*x**(3/2)))/x**(1/4)"
      ]
     },
     "execution_count": 8,
     "metadata": {},
     "output_type": "execute_result"
    }
   ],
   "source": [
    "sym.diff((3 * x ** 3 + 6 * sym.sqrt(x) + 3) / (3 * x ** (sym.S(1) / 4)), x, 2)"
   ]
  },
  {
   "cell_type": "code",
   "execution_count": 9,
   "metadata": {},
   "outputs": [
    {
     "data": {
      "text/latex": [
       "$\\displaystyle - 2 x^{3} + 4 x^{2} + x y - 2 y$"
      ],
      "text/plain": [
       "-2*x**3 + 4*x**2 + x*y - 2*y"
      ]
     },
     "execution_count": 9,
     "metadata": {},
     "output_type": "execute_result"
    }
   ],
   "source": [
    "y = sym.Symbol(\"y\")\n",
    "equation = sym.S(x * y - 2 * y - 2 * x ** 3 + 4 * x ** 2, 0)\n",
    "equation"
   ]
  },
  {
   "cell_type": "code",
   "execution_count": 10,
   "metadata": {},
   "outputs": [
    {
     "data": {
      "text/latex": [
       "$\\displaystyle \\left\\{2 x^{2}\\right\\}$"
      ],
      "text/plain": [
       "FiniteSet(2*x**2)"
      ]
     },
     "execution_count": 10,
     "metadata": {},
     "output_type": "execute_result"
    }
   ],
   "source": [
    "sym.solveset(equation, y)"
   ]
  },
  {
   "cell_type": "code",
   "execution_count": 11,
   "metadata": {},
   "outputs": [
    {
     "data": {
      "text/latex": [
       "$\\displaystyle 4 x$"
      ],
      "text/plain": [
       "4*x"
      ]
     },
     "execution_count": 11,
     "metadata": {},
     "output_type": "execute_result"
    }
   ],
   "source": [
    "sym.diff(2 * x ** 2, x)"
   ]
  },
  {
   "cell_type": "markdown",
   "metadata": {},
   "source": [
    "Q4.\n",
    "\n",
    "Consider the function \\\\(f(x)=\\frac{2}{3}x ^ 3 + b x ^ 2 + 2 x + 3\\\\), where \\\\(b\\\\) is some undertermined coefficient.\n",
    "\n",
    "1. Find \\\\(f'(x)\\\\) and \\\\(f''(x)\\\\)\n",
    "2. You are given that \\\\(f(x)\\\\) has a stationary point at \\\\(x=2\\\\). Use this information to find \\\\(b\\\\).\n",
    "3. Find the coordinates of the other stationary point.\n",
    "4. Determine the nature of both stationary points."
   ]
  },
  {
   "cell_type": "code",
   "execution_count": 12,
   "metadata": {},
   "outputs": [
    {
     "data": {
      "text/latex": [
       "$\\displaystyle b x^{2} + \\frac{2 x^{3}}{3} + 2 x + 3$"
      ],
      "text/plain": [
       "b*x**2 + 2*x**3/3 + 2*x + 3"
      ]
     },
     "execution_count": 12,
     "metadata": {},
     "output_type": "execute_result"
    }
   ],
   "source": [
    "b = sym.Symbol(\"b\")\n",
    "f = sym.S(2) / 3 * x ** 3 + b * x ** 2 + 2 * x + 3\n",
    "f"
   ]
  },
  {
   "cell_type": "code",
   "execution_count": 13,
   "metadata": {},
   "outputs": [
    {
     "data": {
      "text/latex": [
       "$\\displaystyle 2 b x + 2 x^{2} + 2$"
      ],
      "text/plain": [
       "2*b*x + 2*x**2 + 2"
      ]
     },
     "execution_count": 13,
     "metadata": {},
     "output_type": "execute_result"
    }
   ],
   "source": [
    "sym.diff(f, x)"
   ]
  },
  {
   "cell_type": "code",
   "execution_count": 14,
   "metadata": {},
   "outputs": [
    {
     "data": {
      "text/latex": [
       "$\\displaystyle 2 \\left(b + 2 x\\right)$"
      ],
      "text/plain": [
       "2*(b + 2*x)"
      ]
     },
     "execution_count": 14,
     "metadata": {},
     "output_type": "execute_result"
    }
   ],
   "source": [
    "sym.diff(f, x, 2)"
   ]
  },
  {
   "cell_type": "code",
   "execution_count": 15,
   "metadata": {},
   "outputs": [
    {
     "data": {
      "text/latex": [
       "$\\displaystyle 4 b + 10$"
      ],
      "text/plain": [
       "4*b + 10"
      ]
     },
     "execution_count": 15,
     "metadata": {},
     "output_type": "execute_result"
    }
   ],
   "source": [
    "sym.diff(f, x).subs({x: 2})"
   ]
  },
  {
   "cell_type": "code",
   "execution_count": 16,
   "metadata": {},
   "outputs": [
    {
     "data": {
      "text/latex": [
       "$\\displaystyle \\left\\{- \\frac{5}{2}\\right\\}$"
      ],
      "text/plain": [
       "FiniteSet(-5/2)"
      ]
     },
     "execution_count": 16,
     "metadata": {},
     "output_type": "execute_result"
    }
   ],
   "source": [
    "sym.solveset(sym.diff(f, x).subs({x: 2}), b)"
   ]
  },
  {
   "cell_type": "code",
   "execution_count": 17,
   "metadata": {},
   "outputs": [
    {
     "data": {
      "text/latex": [
       "$\\displaystyle \\frac{2 x^{3}}{3} - \\frac{5 x^{2}}{2} + 2 x + 3$"
      ],
      "text/plain": [
       "2*x**3/3 - 5*x**2/2 + 2*x + 3"
      ]
     },
     "execution_count": 17,
     "metadata": {},
     "output_type": "execute_result"
    }
   ],
   "source": [
    "f = f.subs({b: -sym.S(5) / 2})\n",
    "f"
   ]
  },
  {
   "cell_type": "code",
   "execution_count": 18,
   "metadata": {},
   "outputs": [
    {
     "data": {
      "text/latex": [
       "$\\displaystyle \\left\\{\\frac{1}{2}, 2\\right\\}$"
      ],
      "text/plain": [
       "FiniteSet(1/2, 2)"
      ]
     },
     "execution_count": 18,
     "metadata": {},
     "output_type": "execute_result"
    }
   ],
   "source": [
    "sym.solveset(sym.diff(f, x))"
   ]
  },
  {
   "cell_type": "code",
   "execution_count": 19,
   "metadata": {},
   "outputs": [
    {
     "data": {
      "text/latex": [
       "$\\displaystyle 3$"
      ],
      "text/plain": [
       "3"
      ]
     },
     "execution_count": 19,
     "metadata": {},
     "output_type": "execute_result"
    }
   ],
   "source": [
    "sym.diff(f, x, 2).subs({x: 2})"
   ]
  },
  {
   "cell_type": "code",
   "execution_count": 20,
   "metadata": {},
   "outputs": [
    {
     "data": {
      "text/latex": [
       "$\\displaystyle -3$"
      ],
      "text/plain": [
       "-3"
      ]
     },
     "execution_count": 20,
     "metadata": {},
     "output_type": "execute_result"
    }
   ],
   "source": [
    "sym.diff(f, x, 2).subs({x: sym.S(1) / 2})"
   ]
  },
  {
   "cell_type": "code",
   "execution_count": 21,
   "metadata": {},
   "outputs": [
    {
     "data": {
      "image/png": "[encoded data removed]",
      "text/plain": [
       "<Figure size 432x288 with 1 Axes>"
      ]
     },
     "metadata": {},
     "output_type": "display_data"
    },
    {
     "data": {
      "text/plain": [
       "<sympy.plotting.plot.Plot at 0x10fb08ef0>"
      ]
     },
     "execution_count": 21,
     "metadata": {},
     "output_type": "execute_result"
    }
   ],
   "source": [
    "%matplotlib inline\n",
    "sym.plot(f)"
   ]
  },
  {
   "cell_type": "markdown",
   "metadata": {},
   "source": [
    "Q5\n",
    "\n",
    "Integrate the following function."
   ]
  },
  {
   "cell_type": "code",
   "execution_count": 22,
   "metadata": {},
   "outputs": [
    {
     "data": {
      "text/latex": [
       "$\\displaystyle x$"
      ],
      "text/plain": [
       "x"
      ]
     },
     "execution_count": 22,
     "metadata": {},
     "output_type": "execute_result"
    }
   ],
   "source": [
    "sym.integrate(1, x)"
   ]
  },
  {
   "cell_type": "code",
   "execution_count": 23,
   "metadata": {},
   "outputs": [
    {
     "data": {
      "text/latex": [
       "$\\displaystyle \\frac{x^{5}}{5} + \\frac{3 x^{2}}{2} + 8 x$"
      ],
      "text/plain": [
       "x**5/5 + 3*x**2/2 + 8*x"
      ]
     },
     "execution_count": 23,
     "metadata": {},
     "output_type": "execute_result"
    }
   ],
   "source": [
    "sym.integrate(x ** 4 + 3 * x + 8, x)"
   ]
  },
  {
   "cell_type": "code",
   "execution_count": 24,
   "metadata": {},
   "outputs": [
    {
     "data": {
      "text/latex": [
       "$\\displaystyle \\frac{x^{4}}{2} - \\frac{16 x^{3}}{3} + 15 x^{2}$"
      ],
      "text/plain": [
       "x**4/2 - 16*x**3/3 + 15*x**2"
      ]
     },
     "execution_count": 24,
     "metadata": {},
     "output_type": "execute_result"
    }
   ],
   "source": [
    "sym.integrate(2 * x * (x - 3) * (x - 5), x)"
   ]
  },
  {
   "cell_type": "markdown",
   "metadata": {},
   "source": [
    "Q8.\n",
    "\n",
    "Consider the second derivative \\\\(f''(x)=6x+4\\\\) of some cubic function \\\\(f(x)\\\\).\n",
    "\n",
    "1. Find \\\\(f'(x)\\\\)\n",
    "2. You are given that \\\\(f(0)=10\\\\) and \\\\(f(1)=13\\\\), find \\\\(f(x)\\\\).\n",
    "3. Find all the stationary points of \\\\(f(x)\\\\) and determine their nature."
   ]
  },
  {
   "cell_type": "code",
   "execution_count": 25,
   "metadata": {},
   "outputs": [
    {
     "data": {
      "text/latex": [
       "$\\displaystyle 3 x^{2} + 4 x$"
      ],
      "text/plain": [
       "3*x**2 + 4*x"
      ]
     },
     "execution_count": 25,
     "metadata": {},
     "output_type": "execute_result"
    }
   ],
   "source": [
    "sym.integrate(6 * x + 4, x)"
   ]
  },
  {
   "cell_type": "code",
   "execution_count": 26,
   "metadata": {},
   "outputs": [
    {
     "data": {
      "text/latex": [
       "$\\displaystyle C_{1} x + C_{2} + x^{3} + 2 x^{2}$"
      ],
      "text/plain": [
       "C1*x + C2 + x**3 + 2*x**2"
      ]
     },
     "execution_count": 26,
     "metadata": {},
     "output_type": "execute_result"
    }
   ],
   "source": [
    "C1, C2 = sym.Symbol(\"C1\"), sym.Symbol(\"C2\")\n",
    "f = sym.integrate(3 * x ** 2 + 4 * x, x) + C1 * x + C2\n",
    "f"
   ]
  },
  {
   "cell_type": "code",
   "execution_count": 27,
   "metadata": {},
   "outputs": [
    {
     "data": {
      "text/latex": [
       "$\\displaystyle C_{2}$"
      ],
      "text/plain": [
       "C2"
      ]
     },
     "execution_count": 27,
     "metadata": {},
     "output_type": "execute_result"
    }
   ],
   "source": [
    "f.subs({x: 0})"
   ]
  },
  {
   "cell_type": "code",
   "execution_count": 28,
   "metadata": {},
   "outputs": [
    {
     "data": {
      "text/latex": [
       "$\\displaystyle C_{1} + 13$"
      ],
      "text/plain": [
       "C1 + 13"
      ]
     },
     "execution_count": 28,
     "metadata": {},
     "output_type": "execute_result"
    }
   ],
   "source": [
    "f.subs({x: 1, C2: 10})"
   ]
  },
  {
   "cell_type": "code",
   "execution_count": 29,
   "metadata": {},
   "outputs": [
    {
     "data": {
      "text/latex": [
       "$\\displaystyle \\left\\{0\\right\\}$"
      ],
      "text/plain": [
       "FiniteSet(0)"
      ]
     },
     "execution_count": 29,
     "metadata": {},
     "output_type": "execute_result"
    }
   ],
   "source": [
    "sym.solveset(f.subs({x: 1, C2: 10}) - 13, C1)"
   ]
  },
  {
   "cell_type": "code",
   "execution_count": 30,
   "metadata": {},
   "outputs": [
    {
     "data": {
      "text/latex": [
       "$\\displaystyle x^{3} + 2 x^{2} + 10$"
      ],
      "text/plain": [
       "x**3 + 2*x**2 + 10"
      ]
     },
     "execution_count": 30,
     "metadata": {},
     "output_type": "execute_result"
    }
   ],
   "source": [
    "f = f.subs({C1: 0, C2: 10})\n",
    "f"
   ]
  },
  {
   "cell_type": "code",
   "execution_count": 31,
   "metadata": {},
   "outputs": [
    {
     "data": {
      "text/latex": [
       "$\\displaystyle \\left\\{- \\frac{4}{3}, 0\\right\\}$"
      ],
      "text/plain": [
       "FiniteSet(-4/3, 0)"
      ]
     },
     "execution_count": 31,
     "metadata": {},
     "output_type": "execute_result"
    }
   ],
   "source": [
    "sym.solveset(sym.diff(f, x), x)"
   ]
  },
  {
   "cell_type": "code",
   "execution_count": 32,
   "metadata": {},
   "outputs": [
    {
     "data": {
      "text/latex": [
       "$\\displaystyle 4$"
      ],
      "text/plain": [
       "4"
      ]
     },
     "execution_count": 32,
     "metadata": {},
     "output_type": "execute_result"
    }
   ],
   "source": [
    "sym.diff(f, x, 2).subs({x: 0})"
   ]
  },
  {
   "cell_type": "code",
   "execution_count": 33,
   "metadata": {},
   "outputs": [
    {
     "data": {
      "text/latex": [
       "$\\displaystyle -4$"
      ],
      "text/plain": [
       "-4"
      ]
     },
     "execution_count": 33,
     "metadata": {},
     "output_type": "execute_result"
    }
   ],
   "source": [
    "sym.diff(f, x, 2).subs({x: - sym.S(4) / 3})"
   ]
  },
  {
   "cell_type": "markdown",
   "metadata": {},
   "source": [
    "Q11.\n",
    "\n",
    "Consider the functions \\\\(f(x)=-x^3+2x^2+3x\\\\) and \\\\(g(x)=-x^3+3x^2-x+3\\\\) sketched below.\n",
    "\n",
    "1. Find \\\\(f'(x)\\\\) and hence show that f(x) has turning points at when \\\\(x=\\frac{2}{3}\\pm\\frac{\\sqrt{13}}{3}\\\\)\n",
    "2. Find the points where \\\\(f(x)\\\\) and \\\\(g(x)\\\\) intersect.\n",
    "3. Evaluate \\\\(\\int_1^3-x^3+2x^2+3x\\;dx\\\\)\n",
    "4. Calculate the area under the \\\\(g(x)\\\\) between \\\\(x=1\\\\) and \\\\(x=3\\\\).\n",
    "5. Using your answers to parts 2. and 3., calculate the area of the shaded region \\\\(R\\\\) (region between \\\\(f\\\\) and \\\\(g\\\\))."
   ]
  },
  {
   "cell_type": "code",
   "execution_count": 34,
   "metadata": {},
   "outputs": [
    {
     "data": {
      "text/latex": [
       "$\\displaystyle - x^{3} + 2 x^{2} + 3 x$"
      ],
      "text/plain": [
       "-x**3 + 2*x**2 + 3*x"
      ]
     },
     "execution_count": 34,
     "metadata": {},
     "output_type": "execute_result"
    }
   ],
   "source": [
    "f = - x ** 3 + 2 * x ** 2 + 3 * x\n",
    "g = - x ** 3 + 3 * x ** 2 - x + 3\n",
    "f"
   ]
  },
  {
   "cell_type": "code",
   "execution_count": 35,
   "metadata": {},
   "outputs": [
    {
     "data": {
      "text/latex": [
       "$\\displaystyle - x^{3} + 3 x^{2} - x + 3$"
      ],
      "text/plain": [
       "-x**3 + 3*x**2 - x + 3"
      ]
     },
     "execution_count": 35,
     "metadata": {},
     "output_type": "execute_result"
    }
   ],
   "source": [
    "g"
   ]
  },
  {
   "cell_type": "code",
   "execution_count": 36,
   "metadata": {},
   "outputs": [
    {
     "data": {
      "text/latex": [
       "$\\displaystyle - 3 x^{2} + 4 x + 3$"
      ],
      "text/plain": [
       "-3*x**2 + 4*x + 3"
      ]
     },
     "execution_count": 36,
     "metadata": {},
     "output_type": "execute_result"
    }
   ],
   "source": [
    "sym.diff(f, x)"
   ]
  },
  {
   "cell_type": "code",
   "execution_count": 37,
   "metadata": {},
   "outputs": [
    {
     "data": {
      "text/latex": [
       "$\\displaystyle \\left\\{\\frac{2}{3} - \\frac{\\sqrt{13}}{3}, \\frac{2}{3} + \\frac{\\sqrt{13}}{3}\\right\\}$"
      ],
      "text/plain": [
       "FiniteSet(2/3 - sqrt(13)/3, 2/3 + sqrt(13)/3)"
      ]
     },
     "execution_count": 37,
     "metadata": {},
     "output_type": "execute_result"
    }
   ],
   "source": [
    "sym.solveset(sym.diff(f, x))"
   ]
  },
  {
   "cell_type": "code",
   "execution_count": 38,
   "metadata": {},
   "outputs": [
    {
     "data": {
      "text/latex": [
       "$\\displaystyle \\left\\{1, 3\\right\\}$"
      ],
      "text/plain": [
       "FiniteSet(1, 3)"
      ]
     },
     "execution_count": 38,
     "metadata": {},
     "output_type": "execute_result"
    }
   ],
   "source": [
    "sym.solveset(sym.Eq(f, g), x)"
   ]
  },
  {
   "cell_type": "code",
   "execution_count": 39,
   "metadata": {},
   "outputs": [
    {
     "data": {
      "text/plain": [
       "(4, 4)"
      ]
     },
     "execution_count": 39,
     "metadata": {},
     "output_type": "execute_result"
    }
   ],
   "source": [
    "f.subs({x: 1}), g.subs({x: 1})"
   ]
  },
  {
   "cell_type": "code",
   "execution_count": 40,
   "metadata": {},
   "outputs": [
    {
     "data": {
      "text/plain": [
       "(0, 0)"
      ]
     },
     "execution_count": 40,
     "metadata": {},
     "output_type": "execute_result"
    }
   ],
   "source": [
    "f.subs({x: 3}), g.subs({x: 3})"
   ]
  },
  {
   "cell_type": "code",
   "execution_count": 41,
   "metadata": {},
   "outputs": [
    {
     "data": {
      "text/latex": [
       "$\\displaystyle \\frac{28}{3}$"
      ],
      "text/plain": [
       "28/3"
      ]
     },
     "execution_count": 41,
     "metadata": {},
     "output_type": "execute_result"
    }
   ],
   "source": [
    "sym.integrate(f, (x, 1, 3))"
   ]
  },
  {
   "cell_type": "code",
   "execution_count": 42,
   "metadata": {},
   "outputs": [
    {
     "data": {
      "text/latex": [
       "$\\displaystyle 8$"
      ],
      "text/plain": [
       "8"
      ]
     },
     "execution_count": 42,
     "metadata": {},
     "output_type": "execute_result"
    }
   ],
   "source": [
    "sym.integrate(g, (x, 1, 3))"
   ]
  },
  {
   "cell_type": "code",
   "execution_count": 43,
   "metadata": {},
   "outputs": [
    {
     "data": {
      "text/latex": [
       "$\\displaystyle \\frac{4}{3}$"
      ],
      "text/plain": [
       "4/3"
      ]
     },
     "execution_count": 43,
     "metadata": {},
     "output_type": "execute_result"
    }
   ],
   "source": [
    "sym.integrate(f, (x, 1, 3)) - sym.integrate(g, (x, 1, 3))"
   ]
  },
  {
   "cell_type": "markdown",
   "metadata": {},
   "source": [
    "Q12.\n",
    "\n",
    "Consider the function \\\\(f(x)=2x+1\\\\). By differentiating *from first principles* show that \\\\(f'(x)=2\\\\)."
   ]
  },
  {
   "cell_type": "code",
   "execution_count": 44,
   "metadata": {},
   "outputs": [
    {
     "data": {
      "text/latex": [
       "$\\displaystyle 2$"
      ],
      "text/plain": [
       "2"
      ]
     },
     "execution_count": 44,
     "metadata": {},
     "output_type": "execute_result"
    }
   ],
   "source": [
    "f = 2 * x + 1\n",
    "h = sym.Symbol(\"h\")\n",
    "sym.limit((f.subs({x: x + h}) - f) / h, h, 0)"
   ]
  }
 ],
 "metadata": {
  "kernelspec": {
   "display_name": "CfM",
   "language": "python",
   "name": "cfm"
  },
  "language_info": {
   "codemirror_mode": {
    "name": "ipython",
    "version": 3
   },
   "file_extension": ".py",
   "mimetype": "text/x-python",
   "name": "python",
   "nbconvert_exporter": "python",
   "pygments_lexer": "ipython3",
   "version": "3.6.5"
  }
 },
 "nbformat": 4,
 "nbformat_minor": 2
}
