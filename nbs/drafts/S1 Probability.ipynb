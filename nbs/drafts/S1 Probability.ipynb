{
 "cells": [
  {
   "cell_type": "markdown",
   "metadata": {},
   "source": [
    "Questions on probability based on https://pmt.physicsandmathstutor.com/download/Maths/A-level/S1/Topic-Qs/Edexcel-Set-1/S1%20Probability.pdf"
   ]
  },
  {
   "cell_type": "markdown",
   "metadata": {},
   "source": [
    "Q1 An experiment consists of selecting a ball from a bag and spinning a coin. The bag contains 5 red balls and 7 blue balls. A ball is selected at random from the bag, its colour is noted and then the ball is returned to the bag. \n",
    "\n",
    "When a red ball is selected, a biaised coin with probability \\\\(\\frac{2}{3}\\\\) of landing heads is spun.\n",
    "\n",
    "When a blue ball is selected a fair coin is spun.\n",
    "\n",
    "What is the probability of obtaining Heads?"
   ]
  },
  {
   "cell_type": "code",
   "execution_count": 1,
   "metadata": {},
   "outputs": [],
   "source": [
    "import random\n",
    "\n",
    "def sample_experiment():\n",
    "    balls = [\"Red\"] * 5 + [\"Blue\"] * 7\n",
    "    selected_ball = random.choice(balls)\n",
    "    if selected_ball == \"Red\":\n",
    "        probability_of_selecting_heads = 2 / 3\n",
    "    else:\n",
    "        probability_of_selecting_heads = 1 / 2\n",
    "    \n",
    "    if random.random() < probability_of_selecting_heads:\n",
    "        coin = \"Heads\"\n",
    "    else:\n",
    "        coin = \"Tails\"\n",
    "    return selected_ball, coin"
   ]
  },
  {
   "cell_type": "code",
   "execution_count": 2,
   "metadata": {},
   "outputs": [
    {
     "data": {
      "text/plain": [
       "0.569096"
      ]
     },
     "execution_count": 2,
     "metadata": {},
     "output_type": "execute_result"
    }
   ],
   "source": [
    "number_of_repetitions = 500000\n",
    "samples = [sample_experiment() for repetition in range(number_of_repetitions)]\n",
    "sum(coin == \"Heads\" for ball, coin in samples) / number_of_repetitions"
   ]
  },
  {
   "cell_type": "code",
   "execution_count": 3,
   "metadata": {},
   "outputs": [
    {
     "data": {
      "text/latex": [
       "$\\displaystyle \\frac{41}{72}$"
      ],
      "text/plain": [
       "41/72"
      ]
     },
     "execution_count": 3,
     "metadata": {},
     "output_type": "execute_result"
    }
   ],
   "source": [
    "import sympy as sym\n",
    "\n",
    "sym.S(5) / (12) * sym.S(2) / 3 + sym.S(7) / (12) * sym.S(1) / 2"
   ]
  },
  {
   "cell_type": "code",
   "execution_count": 4,
   "metadata": {},
   "outputs": [
    {
     "data": {
      "text/plain": [
       "0.5694444444444444"
      ]
     },
     "execution_count": 4,
     "metadata": {},
     "output_type": "execute_result"
    }
   ],
   "source": [
    "41 / 72"
   ]
  },
  {
   "cell_type": "markdown",
   "metadata": {},
   "source": [
    "If a heads is obtained, what is the probability of having selected a red ball."
   ]
  },
  {
   "cell_type": "code",
   "execution_count": 5,
   "metadata": {},
   "outputs": [
    {
     "data": {
      "text/plain": [
       "0.4870250361977593"
      ]
     },
     "execution_count": 5,
     "metadata": {},
     "output_type": "execute_result"
    }
   ],
   "source": [
    "samples_with_heads = [(ball, coin) for ball, coin in samples if coin == \"Heads\"]\n",
    "sum(ball == \"Red\" for ball, coin in samples_with_heads) / len(samples_with_heads)"
   ]
  },
  {
   "cell_type": "code",
   "execution_count": 6,
   "metadata": {},
   "outputs": [
    {
     "data": {
      "text/latex": [
       "$\\displaystyle 0.487804878048781$"
      ],
      "text/plain": [
       "0.487804878048781"
      ]
     },
     "execution_count": 6,
     "metadata": {},
     "output_type": "execute_result"
    }
   ],
   "source": [
    "(sym.S(2) / 3 * sym.S(5) / 12 ) / (41 / 72)"
   ]
  },
  {
   "cell_type": "markdown",
   "metadata": {},
   "source": [
    "Q5.\n",
    "\n",
    "On a randomly chose day, the probability of an individual travelling to school by car, bicycle or on foot is \\\\(1/2\\\\), \\\\(1/6\\\\) and \\\\(1/3\\\\) respectively. The probability of being late when using these methods of travel is \\\\(1/5\\\\), \\\\(2/5\\\\) and \\\\(1/10\\\\) respectively.\n",
    "\n",
    "1. Find the probability that an individual travels by foot and is late.\n",
    "2. Find the probability that an individual is not late.\n",
    "3. Given that an individual is late, find the probability that they did not travel on foot."
   ]
  },
  {
   "cell_type": "code",
   "execution_count": 10,
   "metadata": {},
   "outputs": [],
   "source": [
    "def sample_travel():\n",
    "    travel_probability = random.random()\n",
    "    \n",
    "    if travel_probability <= 1 / 2:\n",
    "        travel_method = \"Car\"\n",
    "        late_probability = 1 / 5\n",
    "    elif travel_probability < 1 / 2 + 1 / 6:\n",
    "        travel_method = \"Bicycle\"\n",
    "        late_probability = 2 / 5\n",
    "    else:\n",
    "        travel_method = \"Foot\"\n",
    "        late_probability = 1 / 10\n",
    "    \n",
    "    late = random.random() <= late_probability\n",
    "        \n",
    "    return travel_method, late"
   ]
  },
  {
   "cell_type": "code",
   "execution_count": 15,
   "metadata": {},
   "outputs": [],
   "source": [
    "number_of_repetitions = 1_000_000\n",
    "samples = [sample_travel() for repetition in range(number_of_repetitions)]"
   ]
  },
  {
   "cell_type": "code",
   "execution_count": 16,
   "metadata": {},
   "outputs": [
    {
     "data": {
      "text/plain": [
       "0.033024"
      ]
     },
     "execution_count": 16,
     "metadata": {},
     "output_type": "execute_result"
    }
   ],
   "source": [
    "sum((travel_method == \"Foot\" and late) for travel_method, late in samples) / number_of_repetitions"
   ]
  },
  {
   "cell_type": "code",
   "execution_count": 17,
   "metadata": {},
   "outputs": [
    {
     "data": {
      "text/latex": [
       "$\\displaystyle \\frac{1}{30}$"
      ],
      "text/plain": [
       "1/30"
      ]
     },
     "execution_count": 17,
     "metadata": {},
     "output_type": "execute_result"
    }
   ],
   "source": [
    "sym.S(1) / 3 * sym.S(1) / 10 "
   ]
  },
  {
   "cell_type": "code",
   "execution_count": 18,
   "metadata": {},
   "outputs": [
    {
     "data": {
      "text/plain": [
       "0.03333333333333333"
      ]
     },
     "execution_count": 18,
     "metadata": {},
     "output_type": "execute_result"
    }
   ],
   "source": [
    "1 / 30"
   ]
  },
  {
   "cell_type": "code",
   "execution_count": 19,
   "metadata": {},
   "outputs": [
    {
     "data": {
      "text/plain": [
       "0.800204"
      ]
     },
     "execution_count": 19,
     "metadata": {},
     "output_type": "execute_result"
    }
   ],
   "source": [
    "not_late_samples = [(travel_method, late) for travel_method, late in samples if late is False]\n",
    "len(not_late_samples) / number_of_repetitions"
   ]
  },
  {
   "cell_type": "code",
   "execution_count": 20,
   "metadata": {},
   "outputs": [
    {
     "data": {
      "text/latex": [
       "$\\displaystyle \\frac{4}{5}$"
      ],
      "text/plain": [
       "4/5"
      ]
     },
     "execution_count": 20,
     "metadata": {},
     "output_type": "execute_result"
    }
   ],
   "source": [
    "probability_of_not_late = sym.S(1) / 2 * (1 - sym.S(1) / 5) + sym.S(1) / 6 * (1 - sym.S(2) / 5) + sym.S(1) / 3 * (1 - sym.S(1) / 10)\n",
    "probability_of_not_late"
   ]
  },
  {
   "cell_type": "code",
   "execution_count": 21,
   "metadata": {},
   "outputs": [
    {
     "data": {
      "text/latex": [
       "$\\displaystyle \\frac{4}{5}$"
      ],
      "text/plain": [
       "4/5"
      ]
     },
     "execution_count": 21,
     "metadata": {},
     "output_type": "execute_result"
    }
   ],
   "source": [
    "probability_of_not_late"
   ]
  },
  {
   "cell_type": "code",
   "execution_count": 48,
   "metadata": {},
   "outputs": [
    {
     "data": {
      "text/plain": [
       "0.8347114056337465"
      ]
     },
     "execution_count": 48,
     "metadata": {},
     "output_type": "execute_result"
    }
   ],
   "source": [
    "simulated_probability_of_not_travelling_by_foot_when_late = sum(\n",
    "    travel_method != \"Foot\" for travel_method, late in samples if late is True\n",
    ") / sum(late is True for travel_method, late in samples)\n",
    "simulated_probability_of_not_travelling_by_foot_when_late"
   ]
  },
  {
   "cell_type": "code",
   "execution_count": 24,
   "metadata": {},
   "outputs": [
    {
     "data": {
      "text/plain": [
       "0.199796"
      ]
     },
     "execution_count": 24,
     "metadata": {},
     "output_type": "execute_result"
    }
   ],
   "source": [
    "simulated_probability_being_late = sum(\n",
    "    late is True for travel_method, late in samples\n",
    ") / len(samples)\n",
    "simulated_probability_being_late"
   ]
  },
  {
   "cell_type": "code",
   "execution_count": 29,
   "metadata": {},
   "outputs": [
    {
     "data": {
      "text/latex": [
       "$\\displaystyle \\frac{1}{5}$"
      ],
      "text/plain": [
       "1/5"
      ]
     },
     "execution_count": 29,
     "metadata": {},
     "output_type": "execute_result"
    }
   ],
   "source": [
    "probability_being_late = sym.S(1) / 2 * sym.S(1) / 5 + sym.S(1) / 6 * sym.S(2) / 5 + + sym.S(1) / 3 * sym.S(1) / 10\n",
    "probability_being_late"
   ]
  },
  {
   "cell_type": "code",
   "execution_count": 47,
   "metadata": {},
   "outputs": [
    {
     "data": {
      "text/plain": [
       "0.25010835349183186"
      ]
     },
     "execution_count": 47,
     "metadata": {},
     "output_type": "execute_result"
    }
   ],
   "source": [
    "simulated_probability_of_being_late_when_not_travelling_by_foot = sum(\n",
    "    late is True for travel_method, late in samples if travel_method != \"Foot\"\n",
    ") / sum(travel_method != \"Foot\" for travel_method, late in samples)\n",
    "simulated_probability_of_being_late_when_not_travelling_by_foot"
   ]
  },
  {
   "cell_type": "code",
   "execution_count": 52,
   "metadata": {},
   "outputs": [
    {
     "data": {
      "text/latex": [
       "$\\displaystyle \\frac{1}{4}$"
      ],
      "text/plain": [
       "1/4"
      ]
     },
     "execution_count": 52,
     "metadata": {},
     "output_type": "execute_result"
    }
   ],
   "source": [
    "probability_of_being_late_when_not_travelling_by_foot = (sym.S(1) / 2 * sym.S(1) / 5 + sym.S(1) / 6 * sym.S(2) / 5) / (sym.S(1) / 2 + sym.S(1) / 6)\n",
    "probability_of_being_late_when_not_travelling_by_foot"
   ]
  },
  {
   "cell_type": "code",
   "execution_count": 53,
   "metadata": {},
   "outputs": [
    {
     "data": {
      "text/plain": [
       "0.666799"
      ]
     },
     "execution_count": 53,
     "metadata": {},
     "output_type": "execute_result"
    }
   ],
   "source": [
    "simulated_probability_of_not_travelling_by_foot = sum(\n",
    "    travel_method != \"Foot\" for travel_method, late in samples\n",
    ") / len(samples)\n",
    "simulated_probability_of_not_travelling_by_foot"
   ]
  },
  {
   "cell_type": "code",
   "execution_count": 55,
   "metadata": {},
   "outputs": [
    {
     "data": {
      "text/latex": [
       "$\\displaystyle \\frac{2}{3}$"
      ],
      "text/plain": [
       "2/3"
      ]
     },
     "execution_count": 55,
     "metadata": {},
     "output_type": "execute_result"
    }
   ],
   "source": [
    "probability_of_not_travelling_by_foot = 1 - sym.S(1) / 3\n",
    "probability_of_not_travelling_by_foot"
   ]
  },
  {
   "cell_type": "code",
   "execution_count": 57,
   "metadata": {},
   "outputs": [
    {
     "data": {
      "text/latex": [
       "$\\displaystyle \\frac{5}{6}$"
      ],
      "text/plain": [
       "5/6"
      ]
     },
     "execution_count": 57,
     "metadata": {},
     "output_type": "execute_result"
    }
   ],
   "source": [
    "probability_of_not_travelling_by_foot_when_late = probability_of_being_late_when_not_travelling_by_foot * probability_of_not_travelling_by_foot / probability_being_late \n",
    "probability_of_not_travelling_by_foot_when_late"
   ]
  },
  {
   "cell_type": "code",
   "execution_count": 58,
   "metadata": {},
   "outputs": [
    {
     "data": {
      "text/plain": [
       "0.8333333333333334"
      ]
     },
     "execution_count": 58,
     "metadata": {},
     "output_type": "execute_result"
    }
   ],
   "source": [
    "5 / 6"
   ]
  }
 ],
 "metadata": {
  "kernelspec": {
   "display_name": "CfM",
   "language": "python",
   "name": "cfm"
  },
  "language_info": {
   "codemirror_mode": {
    "name": "ipython",
    "version": 3
   },
   "file_extension": ".py",
   "mimetype": "text/x-python",
   "name": "python",
   "nbconvert_exporter": "python",
   "pygments_lexer": "ipython3",
   "version": "3.6.5"
  }
 },
 "nbformat": 4,
 "nbformat_minor": 2
}
