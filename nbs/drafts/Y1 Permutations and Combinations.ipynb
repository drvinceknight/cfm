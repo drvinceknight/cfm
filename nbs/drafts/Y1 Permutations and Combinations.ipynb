{
 "cells": [
  {
   "cell_type": "markdown",
   "metadata": {},
   "source": [
    "A notebook covering permutations and combinations taken from https://alevelmathsrevision.com/downloads/Y1%20Further/Stats/Permutations%20and%20Combinations%20Exam%20Questions.pdf\n",
    "\n",
    "Q4. The digits 1, 2, 3, 4 and 5 are arranged in randmo order, for form a five-digit number.\n",
    "\n",
    "1. How many different five-digit numbers can be formed?\n",
    "2. Find the probability that the five digit number is:\n",
    "    1. Odd\n",
    "    2. Less than 23000"
   ]
  },
  {
   "cell_type": "code",
   "execution_count": 1,
   "metadata": {},
   "outputs": [
    {
     "data": {
      "text/plain": [
       "range(1, 6)"
      ]
     },
     "execution_count": 1,
     "metadata": {},
     "output_type": "execute_result"
    }
   ],
   "source": [
    "import itertools\n",
    "\n",
    "digits = range(1, 6)\n",
    "digits"
   ]
  },
  {
   "cell_type": "code",
   "execution_count": 2,
   "metadata": {},
   "outputs": [
    {
     "data": {
      "text/plain": [
       "[1, 2, 3, 4, 5]"
      ]
     },
     "execution_count": 2,
     "metadata": {},
     "output_type": "execute_result"
    }
   ],
   "source": [
    "list(range(1, 6))"
   ]
  },
  {
   "cell_type": "code",
   "execution_count": 3,
   "metadata": {},
   "outputs": [
    {
     "data": {
      "text/plain": [
       "[(1, 2, 3, 4, 5),\n",
       " (1, 2, 3, 5, 4),\n",
       " (1, 2, 4, 3, 5),\n",
       " (1, 2, 4, 5, 3),\n",
       " (1, 2, 5, 3, 4),\n",
       " (1, 2, 5, 4, 3),\n",
       " (1, 3, 2, 4, 5),\n",
       " (1, 3, 2, 5, 4),\n",
       " (1, 3, 4, 2, 5),\n",
       " (1, 3, 4, 5, 2),\n",
       " (1, 3, 5, 2, 4),\n",
       " (1, 3, 5, 4, 2),\n",
       " (1, 4, 2, 3, 5),\n",
       " (1, 4, 2, 5, 3),\n",
       " (1, 4, 3, 2, 5),\n",
       " (1, 4, 3, 5, 2),\n",
       " (1, 4, 5, 2, 3),\n",
       " (1, 4, 5, 3, 2),\n",
       " (1, 5, 2, 3, 4),\n",
       " (1, 5, 2, 4, 3),\n",
       " (1, 5, 3, 2, 4),\n",
       " (1, 5, 3, 4, 2),\n",
       " (1, 5, 4, 2, 3),\n",
       " (1, 5, 4, 3, 2),\n",
       " (2, 1, 3, 4, 5),\n",
       " (2, 1, 3, 5, 4),\n",
       " (2, 1, 4, 3, 5),\n",
       " (2, 1, 4, 5, 3),\n",
       " (2, 1, 5, 3, 4),\n",
       " (2, 1, 5, 4, 3),\n",
       " (2, 3, 1, 4, 5),\n",
       " (2, 3, 1, 5, 4),\n",
       " (2, 3, 4, 1, 5),\n",
       " (2, 3, 4, 5, 1),\n",
       " (2, 3, 5, 1, 4),\n",
       " (2, 3, 5, 4, 1),\n",
       " (2, 4, 1, 3, 5),\n",
       " (2, 4, 1, 5, 3),\n",
       " (2, 4, 3, 1, 5),\n",
       " (2, 4, 3, 5, 1),\n",
       " (2, 4, 5, 1, 3),\n",
       " (2, 4, 5, 3, 1),\n",
       " (2, 5, 1, 3, 4),\n",
       " (2, 5, 1, 4, 3),\n",
       " (2, 5, 3, 1, 4),\n",
       " (2, 5, 3, 4, 1),\n",
       " (2, 5, 4, 1, 3),\n",
       " (2, 5, 4, 3, 1),\n",
       " (3, 1, 2, 4, 5),\n",
       " (3, 1, 2, 5, 4),\n",
       " (3, 1, 4, 2, 5),\n",
       " (3, 1, 4, 5, 2),\n",
       " (3, 1, 5, 2, 4),\n",
       " (3, 1, 5, 4, 2),\n",
       " (3, 2, 1, 4, 5),\n",
       " (3, 2, 1, 5, 4),\n",
       " (3, 2, 4, 1, 5),\n",
       " (3, 2, 4, 5, 1),\n",
       " (3, 2, 5, 1, 4),\n",
       " (3, 2, 5, 4, 1),\n",
       " (3, 4, 1, 2, 5),\n",
       " (3, 4, 1, 5, 2),\n",
       " (3, 4, 2, 1, 5),\n",
       " (3, 4, 2, 5, 1),\n",
       " (3, 4, 5, 1, 2),\n",
       " (3, 4, 5, 2, 1),\n",
       " (3, 5, 1, 2, 4),\n",
       " (3, 5, 1, 4, 2),\n",
       " (3, 5, 2, 1, 4),\n",
       " (3, 5, 2, 4, 1),\n",
       " (3, 5, 4, 1, 2),\n",
       " (3, 5, 4, 2, 1),\n",
       " (4, 1, 2, 3, 5),\n",
       " (4, 1, 2, 5, 3),\n",
       " (4, 1, 3, 2, 5),\n",
       " (4, 1, 3, 5, 2),\n",
       " (4, 1, 5, 2, 3),\n",
       " (4, 1, 5, 3, 2),\n",
       " (4, 2, 1, 3, 5),\n",
       " (4, 2, 1, 5, 3),\n",
       " (4, 2, 3, 1, 5),\n",
       " (4, 2, 3, 5, 1),\n",
       " (4, 2, 5, 1, 3),\n",
       " (4, 2, 5, 3, 1),\n",
       " (4, 3, 1, 2, 5),\n",
       " (4, 3, 1, 5, 2),\n",
       " (4, 3, 2, 1, 5),\n",
       " (4, 3, 2, 5, 1),\n",
       " (4, 3, 5, 1, 2),\n",
       " (4, 3, 5, 2, 1),\n",
       " (4, 5, 1, 2, 3),\n",
       " (4, 5, 1, 3, 2),\n",
       " (4, 5, 2, 1, 3),\n",
       " (4, 5, 2, 3, 1),\n",
       " (4, 5, 3, 1, 2),\n",
       " (4, 5, 3, 2, 1),\n",
       " (5, 1, 2, 3, 4),\n",
       " (5, 1, 2, 4, 3),\n",
       " (5, 1, 3, 2, 4),\n",
       " (5, 1, 3, 4, 2),\n",
       " (5, 1, 4, 2, 3),\n",
       " (5, 1, 4, 3, 2),\n",
       " (5, 2, 1, 3, 4),\n",
       " (5, 2, 1, 4, 3),\n",
       " (5, 2, 3, 1, 4),\n",
       " (5, 2, 3, 4, 1),\n",
       " (5, 2, 4, 1, 3),\n",
       " (5, 2, 4, 3, 1),\n",
       " (5, 3, 1, 2, 4),\n",
       " (5, 3, 1, 4, 2),\n",
       " (5, 3, 2, 1, 4),\n",
       " (5, 3, 2, 4, 1),\n",
       " (5, 3, 4, 1, 2),\n",
       " (5, 3, 4, 2, 1),\n",
       " (5, 4, 1, 2, 3),\n",
       " (5, 4, 1, 3, 2),\n",
       " (5, 4, 2, 1, 3),\n",
       " (5, 4, 2, 3, 1),\n",
       " (5, 4, 3, 1, 2),\n",
       " (5, 4, 3, 2, 1)]"
      ]
     },
     "execution_count": 3,
     "metadata": {},
     "output_type": "execute_result"
    }
   ],
   "source": [
    "permutations = list(itertools.permutations(digits))\n",
    "permutations"
   ]
  },
  {
   "cell_type": "code",
   "execution_count": 4,
   "metadata": {},
   "outputs": [
    {
     "data": {
      "text/plain": [
       "120"
      ]
     },
     "execution_count": 4,
     "metadata": {},
     "output_type": "execute_result"
    }
   ],
   "source": [
    "N = len(permutations)\n",
    "N"
   ]
  },
  {
   "cell_type": "code",
   "execution_count": 5,
   "metadata": {},
   "outputs": [
    {
     "data": {
      "text/plain": [
       "0.6"
      ]
     },
     "execution_count": 5,
     "metadata": {},
     "output_type": "execute_result"
    }
   ],
   "source": [
    "probability_of_odd = sum(n5 % 2 for n1, n2, n3, n4, n5 in permutations) / N\n",
    "probability_of_odd"
   ]
  },
  {
   "cell_type": "code",
   "execution_count": 6,
   "metadata": {},
   "outputs": [
    {
     "data": {
      "text/plain": [
       "0.25"
      ]
     },
     "execution_count": 6,
     "metadata": {},
     "output_type": "execute_result"
    }
   ],
   "source": [
    "probability_of_less_than_23000 = sum(n1 * 10 ** 4 + n2 * 10 ** 3 + n3 * 10 ** 2 + n2 * 10 + n1 <= 23000 for n1, n2, n3, n4, n5 in permutations) / N\n",
    "probability_of_less_than_23000"
   ]
  },
  {
   "cell_type": "code",
   "execution_count": 7,
   "metadata": {},
   "outputs": [],
   "source": [
    "import math"
   ]
  },
  {
   "cell_type": "code",
   "execution_count": 8,
   "metadata": {},
   "outputs": [
    {
     "data": {
      "text/plain": [
       "120"
      ]
     },
     "execution_count": 8,
     "metadata": {},
     "output_type": "execute_result"
    }
   ],
   "source": [
    "math.factorial(5)"
   ]
  },
  {
   "cell_type": "code",
   "execution_count": 9,
   "metadata": {},
   "outputs": [
    {
     "data": {
      "text/plain": [
       "0.6"
      ]
     },
     "execution_count": 9,
     "metadata": {},
     "output_type": "execute_result"
    }
   ],
   "source": [
    "math.factorial(4) * 3 / N"
   ]
  },
  {
   "cell_type": "code",
   "execution_count": 10,
   "metadata": {},
   "outputs": [
    {
     "data": {
      "text/plain": [
       "0.25"
      ]
     },
     "execution_count": 10,
     "metadata": {},
     "output_type": "execute_result"
    }
   ],
   "source": [
    "(math.factorial(4) + math.factorial(3)) / N"
   ]
  },
  {
   "cell_type": "markdown",
   "metadata": {},
   "source": [
    "Q7.\n",
    "\n",
    "A class consists of 7 students from Ashville and 8 from Bewton. A committee of 5 students is chosen at random the class.\n",
    "\n",
    "1. Find the probability that 2 students from Ashville and 3 from Bewton are chosen.\n",
    "2. In fact 2 students, from Ashville and 3 from Bewton are chosen. In order to watch a video, all 5 committee members sit in a row. In how many different orders can they sit if no two students from Bewtno sit next to each other."
   ]
  },
  {
   "cell_type": "code",
   "execution_count": 11,
   "metadata": {},
   "outputs": [
    {
     "data": {
      "text/plain": [
       "3003"
      ]
     },
     "execution_count": 11,
     "metadata": {},
     "output_type": "execute_result"
    }
   ],
   "source": [
    "students = [\"Ashville\"] * 7 + [\"Bewton\"] * 8\n",
    "committees = list(itertools.combinations(students, 5))\n",
    "len(committees)"
   ]
  },
  {
   "cell_type": "code",
   "execution_count": 12,
   "metadata": {},
   "outputs": [
    {
     "data": {
      "text/plain": [
       "1176"
      ]
     },
     "execution_count": 12,
     "metadata": {},
     "output_type": "execute_result"
    }
   ],
   "source": [
    "len(list(itertools.combinations([\"Ashville\"] * 7, 2))) * len(list(itertools.combinations([\"Bewton\"] * 8, 3)))"
   ]
  },
  {
   "cell_type": "code",
   "execution_count": 13,
   "metadata": {},
   "outputs": [
    {
     "data": {
      "text/plain": [
       "0.3916083916083916"
      ]
     },
     "execution_count": 13,
     "metadata": {},
     "output_type": "execute_result"
    }
   ],
   "source": [
    "1176 / 3003"
   ]
  },
  {
   "cell_type": "code",
   "execution_count": 14,
   "metadata": {},
   "outputs": [
    {
     "data": {
      "text/plain": [
       "3003.0"
      ]
     },
     "execution_count": 14,
     "metadata": {},
     "output_type": "execute_result"
    }
   ],
   "source": [
    "import scipy.special\n",
    "scipy.special.comb(15, 5)"
   ]
  },
  {
   "cell_type": "code",
   "execution_count": 15,
   "metadata": {},
   "outputs": [
    {
     "data": {
      "text/plain": [
       "1176.0"
      ]
     },
     "execution_count": 15,
     "metadata": {},
     "output_type": "execute_result"
    }
   ],
   "source": [
    "scipy.special.comb(7, 2) * scipy.special.comb(8, 3)"
   ]
  },
  {
   "cell_type": "code",
   "execution_count": 16,
   "metadata": {},
   "outputs": [],
   "source": [
    "committee = [\"A\", \"A\", \"B\", \"B\", \"B\"]\n",
    "rows = list(itertools.permutations(committee))"
   ]
  },
  {
   "cell_type": "code",
   "execution_count": 17,
   "metadata": {},
   "outputs": [
    {
     "data": {
      "text/plain": [
       "12"
      ]
     },
     "execution_count": 17,
     "metadata": {},
     "output_type": "execute_result"
    }
   ],
   "source": [
    "rows_as_strings = [\"\".join(t) for t in rows]\n",
    "sum(\"BB\" not in row for row in rows_as_strings)"
   ]
  },
  {
   "cell_type": "code",
   "execution_count": 18,
   "metadata": {},
   "outputs": [
    {
     "data": {
      "text/plain": [
       "['BABAB',\n",
       " 'BABAB',\n",
       " 'BABAB',\n",
       " 'BABAB',\n",
       " 'BABAB',\n",
       " 'BABAB',\n",
       " 'BABAB',\n",
       " 'BABAB',\n",
       " 'BABAB',\n",
       " 'BABAB',\n",
       " 'BABAB',\n",
       " 'BABAB']"
      ]
     },
     "execution_count": 18,
     "metadata": {},
     "output_type": "execute_result"
    }
   ],
   "source": [
    "[row for row in rows_as_strings if \"BB\" not in row]"
   ]
  },
  {
   "cell_type": "code",
   "execution_count": 19,
   "metadata": {},
   "outputs": [
    {
     "data": {
      "text/plain": [
       "12"
      ]
     },
     "execution_count": 19,
     "metadata": {},
     "output_type": "execute_result"
    }
   ],
   "source": [
    "math.factorial(3) * math.factorial(2)"
   ]
  },
  {
   "cell_type": "markdown",
   "metadata": {},
   "source": [
    "Q10\n",
    "\n",
    "Three letters are selected at random from the 8 letters of the word `COMPUTER`, without regard to order.\n",
    "\n",
    "1. Find the number of possible selections of 3 letters.\n",
    "2. Find the probability that the letter `P` is included in the selection.\n",
    "3. 3 letters are now selected at random, one at a time, from the 8 letters of the word `COMPUTER`, and are placed in order in a line. Find the probability that the 3 letters form the word `TOP`."
   ]
  },
  {
   "cell_type": "code",
   "execution_count": 20,
   "metadata": {},
   "outputs": [
    {
     "data": {
      "text/plain": [
       "56"
      ]
     },
     "execution_count": 20,
     "metadata": {},
     "output_type": "execute_result"
    }
   ],
   "source": [
    "letters = \"COMPUTER\"\n",
    "words = list(itertools.combinations(letters, 3))\n",
    "len(words)"
   ]
  },
  {
   "cell_type": "code",
   "execution_count": 21,
   "metadata": {},
   "outputs": [
    {
     "data": {
      "text/plain": [
       "21"
      ]
     },
     "execution_count": 21,
     "metadata": {},
     "output_type": "execute_result"
    }
   ],
   "source": [
    "sum('P' in word for word in words)"
   ]
  },
  {
   "cell_type": "code",
   "execution_count": 22,
   "metadata": {},
   "outputs": [
    {
     "data": {
      "text/plain": [
       "[('C', 'O', 'P'),\n",
       " ('C', 'M', 'P'),\n",
       " ('C', 'P', 'U'),\n",
       " ('C', 'P', 'T'),\n",
       " ('C', 'P', 'E'),\n",
       " ('C', 'P', 'R'),\n",
       " ('O', 'M', 'P'),\n",
       " ('O', 'P', 'U'),\n",
       " ('O', 'P', 'T'),\n",
       " ('O', 'P', 'E'),\n",
       " ('O', 'P', 'R'),\n",
       " ('M', 'P', 'U'),\n",
       " ('M', 'P', 'T'),\n",
       " ('M', 'P', 'E'),\n",
       " ('M', 'P', 'R'),\n",
       " ('P', 'U', 'T'),\n",
       " ('P', 'U', 'E'),\n",
       " ('P', 'U', 'R'),\n",
       " ('P', 'T', 'E'),\n",
       " ('P', 'T', 'R'),\n",
       " ('P', 'E', 'R')]"
      ]
     },
     "execution_count": 22,
     "metadata": {},
     "output_type": "execute_result"
    }
   ],
   "source": [
    "[word for word in words if 'P' in word]"
   ]
  },
  {
   "cell_type": "code",
   "execution_count": 23,
   "metadata": {},
   "outputs": [
    {
     "data": {
      "text/plain": [
       "21"
      ]
     },
     "execution_count": 23,
     "metadata": {},
     "output_type": "execute_result"
    }
   ],
   "source": [
    "len(list(itertools.combinations(\"COMUTER\", 2)))"
   ]
  },
  {
   "cell_type": "code",
   "execution_count": 24,
   "metadata": {},
   "outputs": [
    {
     "data": {
      "text/plain": [
       "336"
      ]
     },
     "execution_count": 24,
     "metadata": {},
     "output_type": "execute_result"
    }
   ],
   "source": [
    "len(list(itertools.permutations(letters, 3)))"
   ]
  }
 ],
 "metadata": {
  "kernelspec": {
   "display_name": "CfM",
   "language": "python",
   "name": "cfm"
  },
  "language_info": {
   "codemirror_mode": {
    "name": "ipython",
    "version": 3
   },
   "file_extension": ".py",
   "mimetype": "text/x-python",
   "name": "python",
   "nbconvert_exporter": "python",
   "pygments_lexer": "ipython3",
   "version": "3.6.5"
  }
 },
 "nbformat": 4,
 "nbformat_minor": 2
}
