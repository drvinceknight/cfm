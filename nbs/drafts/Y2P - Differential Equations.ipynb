{
 "cells": [
  {
   "cell_type": "markdown",
   "metadata": {},
   "source": [
    "Questions about differential equations from:\n",
    "\n",
    "- First order: https://alevelmathsrevision.com/downloads/Y2%20Further/Pure/First%20Order%20Differential%20Equations%20Exam%20Questions.pdf\n",
    "- Second order: https://alevelmathsrevision.com/downloads/Y2%20Further/Pure/Second%20Order%20Differential%20Equations%20Exam%20Questions.pdf\n",
    "\n",
    "Q1.\n",
    "\n",
    "Find thegeneral solution to the differential equation:\n",
    "\n",
    "\\\\[\\frac{dy}{dx} + y\\tan(x) = \\cos^3(x)\\\\]\n",
    "\n",
    "Find the particular solution for which \\\\(y=2\\\\) when \\\\(x=\\pi\\\\)."
   ]
  },
  {
   "cell_type": "code",
   "execution_count": 29,
   "metadata": {},
   "outputs": [
    {
     "data": {
      "text/latex": [
       "$\\displaystyle y{\\left(x \\right)} \\tan{\\left(x \\right)} + \\frac{d}{d x} y{\\left(x \\right)} = \\cos^{3}{\\left(x \\right)}$"
      ],
      "text/plain": [
       "Eq(y(x)*tan(x) + Derivative(y(x), x), cos(x)**3)"
      ]
     },
     "execution_count": 29,
     "metadata": {},
     "output_type": "execute_result"
    }
   ],
   "source": [
    "import sympy as sym\n",
    "\n",
    "y = sym.Function(\"y\")\n",
    "x = sym.Symbol(\"x\")\n",
    "\n",
    "differential_equation = sym.Eq(sym.Derivative(y(x), x) + y(x) * sym.tan(x), sym.cos(x) ** 3)\n",
    "differential_equation"
   ]
  },
  {
   "cell_type": "code",
   "execution_count": 30,
   "metadata": {},
   "outputs": [
    {
     "data": {
      "text/latex": [
       "$\\displaystyle y{\\left(x \\right)} = \\left(C_{1} + \\frac{x}{2} + \\frac{\\sin{\\left(2 x \\right)}}{4}\\right) \\cos{\\left(x \\right)}$"
      ],
      "text/plain": [
       "Eq(y(x), (C1 + x/2 + sin(2*x)/4)*cos(x))"
      ]
     },
     "execution_count": 30,
     "metadata": {},
     "output_type": "execute_result"
    }
   ],
   "source": [
    "sym.dsolve(differential_equation, y(x))"
   ]
  },
  {
   "cell_type": "code",
   "execution_count": 31,
   "metadata": {},
   "outputs": [],
   "source": [
    "solution = sym.dsolve(differential_equation, y(x), ics={y(sym.pi): 2})"
   ]
  },
  {
   "cell_type": "code",
   "execution_count": 32,
   "metadata": {},
   "outputs": [
    {
     "data": {
      "text/latex": [
       "$\\displaystyle y{\\left(x \\right)} = \\left(\\frac{x}{2} + \\frac{\\sin{\\left(2 x \\right)}}{4} - 2 - \\frac{\\pi}{2}\\right) \\cos{\\left(x \\right)}$"
      ],
      "text/plain": [
       "Eq(y(x), (x/2 + sin(2*x)/4 - 2 - pi/2)*cos(x))"
      ]
     },
     "execution_count": 32,
     "metadata": {},
     "output_type": "execute_result"
    }
   ],
   "source": [
    "solution"
   ]
  },
  {
   "cell_type": "code",
   "execution_count": 33,
   "metadata": {},
   "outputs": [
    {
     "data": {
      "text/latex": [
       "$\\displaystyle \\cos^{3}{\\left(x \\right)}$"
      ],
      "text/plain": [
       "cos(x)**3"
      ]
     },
     "execution_count": 33,
     "metadata": {},
     "output_type": "execute_result"
    }
   ],
   "source": [
    "sym.simplify(sym.diff(solution.rhs, x) + sym.tan(x) * solution.rhs)"
   ]
  },
  {
   "cell_type": "code",
   "execution_count": 34,
   "metadata": {},
   "outputs": [
    {
     "data": {
      "text/latex": [
       "$\\displaystyle 2$"
      ],
      "text/plain": [
       "2"
      ]
     },
     "execution_count": 34,
     "metadata": {},
     "output_type": "execute_result"
    }
   ],
   "source": [
    "solution.rhs.subs({x: sym.pi})"
   ]
  },
  {
   "cell_type": "code",
   "execution_count": 37,
   "metadata": {},
   "outputs": [
    {
     "data": {
      "image/png": "[encoded data removed]",
      "text/plain": [
       "<Figure size 432x288 with 1 Axes>"
      ]
     },
     "metadata": {},
     "output_type": "display_data"
    },
    {
     "data": {
      "text/plain": [
       "<sympy.plotting.plot.Plot at 0x11b55c048>"
      ]
     },
     "execution_count": 37,
     "metadata": {},
     "output_type": "execute_result"
    }
   ],
   "source": [
    "%matplotlib inline\n",
    "sym.plot(solution.rhs)"
   ]
  },
  {
   "cell_type": "markdown",
   "metadata": {},
   "source": [
    "Q12\n",
    "\n",
    "Solve the differential equation:\n",
    "\n",
    "\\\\[\\frac{dy}{dx} + y \\cot(x) = 9 \\csc(x)\\\\]\n",
    "\n",
    "subject to the condition \\\\(y=\\pi\\\\) when \\\\(x=\\frac{1}{6}\\pi\\\\)."
   ]
  },
  {
   "cell_type": "code",
   "execution_count": 38,
   "metadata": {},
   "outputs": [
    {
     "data": {
      "text/latex": [
       "$\\displaystyle y{\\left(x \\right)} \\cot{\\left(x \\right)} + \\frac{d}{d x} y{\\left(x \\right)} = 9 \\csc{\\left(x \\right)}$"
      ],
      "text/plain": [
       "Eq(y(x)*cot(x) + Derivative(y(x), x), 9*csc(x))"
      ]
     },
     "execution_count": 38,
     "metadata": {},
     "output_type": "execute_result"
    }
   ],
   "source": [
    "differential_equation = sym.Eq(sym.Derivative(y(x), x) + y(x) * sym.cot(x), 9 * sym.csc(x))\n",
    "differential_equation"
   ]
  },
  {
   "cell_type": "code",
   "execution_count": 39,
   "metadata": {},
   "outputs": [],
   "source": [
    "solution = sym.dsolve(differential_equation, y(x), ics={y(sym.pi / 6): sym.pi})"
   ]
  },
  {
   "cell_type": "code",
   "execution_count": 40,
   "metadata": {},
   "outputs": [
    {
     "data": {
      "text/latex": [
       "$\\displaystyle y{\\left(x \\right)} = \\frac{9 x - \\pi}{\\sin{\\left(x \\right)}}$"
      ],
      "text/plain": [
       "Eq(y(x), (9*x - pi)/sin(x))"
      ]
     },
     "execution_count": 40,
     "metadata": {},
     "output_type": "execute_result"
    }
   ],
   "source": [
    "solution"
   ]
  },
  {
   "cell_type": "code",
   "execution_count": 42,
   "metadata": {},
   "outputs": [
    {
     "data": {
      "text/latex": [
       "$\\displaystyle \\pi$"
      ],
      "text/plain": [
       "pi"
      ]
     },
     "execution_count": 42,
     "metadata": {},
     "output_type": "execute_result"
    }
   ],
   "source": [
    "solution.rhs.subs({x: sym.pi / 6})"
   ]
  },
  {
   "cell_type": "code",
   "execution_count": 44,
   "metadata": {},
   "outputs": [
    {
     "data": {
      "text/latex": [
       "$\\displaystyle \\frac{9}{\\sin{\\left(x \\right)}}$"
      ],
      "text/plain": [
       "9/sin(x)"
      ]
     },
     "execution_count": 44,
     "metadata": {},
     "output_type": "execute_result"
    }
   ],
   "source": [
    "sym.simplify(sym.diff(solution.rhs, x) + solution.rhs * sym.cot(x))"
   ]
  },
  {
   "cell_type": "code",
   "execution_count": 45,
   "metadata": {},
   "outputs": [
    {
     "data": {
      "image/png": "[encoded data removed]",
      "text/plain": [
       "<Figure size 432x288 with 1 Axes>"
      ]
     },
     "metadata": {},
     "output_type": "display_data"
    },
    {
     "data": {
      "text/plain": [
       "<sympy.plotting.plot.Plot at 0x11b80fe80>"
      ]
     },
     "execution_count": 45,
     "metadata": {},
     "output_type": "execute_result"
    }
   ],
   "source": [
    "sym.plot(solution.rhs)"
   ]
  },
  {
   "cell_type": "markdown",
   "metadata": {},
   "source": [
    "Q7 (second order)\n",
    "\n",
    "Find the general solution of the differential equation:\n",
    "\n",
    "\\\\[\n",
    "    \\frac{d^2y}{dx^2} + 2 \\frac{dy}{dx} + 17y = 17x + 36\n",
    "\\\\]\n",
    "\n",
    "Show that, when \\\\(x\\\\) is large and positive, the solution approximates to a linear function, and state its equation."
   ]
  },
  {
   "cell_type": "code",
   "execution_count": 48,
   "metadata": {},
   "outputs": [
    {
     "data": {
      "text/latex": [
       "$\\displaystyle 17 y{\\left(x \\right)} + 2 \\frac{d}{d x} y{\\left(x \\right)} + \\frac{d^{2}}{d x^{2}} y{\\left(x \\right)} = 17 x + 36$"
      ],
      "text/plain": [
       "Eq(17*y(x) + 2*Derivative(y(x), x) + Derivative(y(x), (x, 2)), 17*x + 36)"
      ]
     },
     "execution_count": 48,
     "metadata": {},
     "output_type": "execute_result"
    }
   ],
   "source": [
    "differential_equation = sym.Eq(sym.Derivative(y(x), x, 2) + 2 * sym.Derivative(y(x), x) + 17 * y(x), \n",
    "                               17 * x + 36)\n",
    "differential_equation"
   ]
  },
  {
   "cell_type": "code",
   "execution_count": 50,
   "metadata": {},
   "outputs": [],
   "source": [
    "solution = sym.dsolve(differential_equation, y(x))"
   ]
  },
  {
   "cell_type": "code",
   "execution_count": 51,
   "metadata": {},
   "outputs": [
    {
     "data": {
      "text/latex": [
       "$\\displaystyle y{\\left(x \\right)} = x + \\left(C_{1} \\sin{\\left(4 x \\right)} + C_{2} \\cos{\\left(4 x \\right)}\\right) e^{- x} + 2$"
      ],
      "text/plain": [
       "Eq(y(x), x + (C1*sin(4*x) + C2*cos(4*x))*exp(-x) + 2)"
      ]
     },
     "execution_count": 51,
     "metadata": {},
     "output_type": "execute_result"
    }
   ],
   "source": [
    "solution"
   ]
  },
  {
   "cell_type": "code",
   "execution_count": 56,
   "metadata": {},
   "outputs": [
    {
     "data": {
      "text/latex": [
       "$\\displaystyle \\infty$"
      ],
      "text/plain": [
       "oo"
      ]
     },
     "execution_count": 56,
     "metadata": {},
     "output_type": "execute_result"
    }
   ],
   "source": [
    "sym.limit(solution.rhs, x, sym.oo)"
   ]
  },
  {
   "cell_type": "code",
   "execution_count": 57,
   "metadata": {},
   "outputs": [
    {
     "data": {
      "text/latex": [
       "$\\displaystyle 0$"
      ],
      "text/plain": [
       "0"
      ]
     },
     "execution_count": 57,
     "metadata": {},
     "output_type": "execute_result"
    }
   ],
   "source": [
    "sym.limit(solution.rhs - (x + 2), x, sym.oo)"
   ]
  },
  {
   "cell_type": "markdown",
   "metadata": {},
   "source": [
    "Q12\n",
    "\n",
    "The differential equation \\\\(\\frac{d^2y}{dx^2}+4y=\\sin(kx)\\\\) is to be solved, where \\\\(k\\\\) is a constant.\n",
    "\n",
    "1. In the case \\\\(k=2\\\\) find the general solution.\n",
    "2. Describe briefly, the behaviour of \\\\(y\\\\) when \\\\(x\\to \\infty\\\\)\n",
    "3. In the case \\\\(k\\ne2\\\\), explain whether \\\\(y\\\\) would exhibit the same behaviour as in part 2. when \\\\(x\\to\\infty\\\\)."
   ]
  },
  {
   "cell_type": "code",
   "execution_count": 69,
   "metadata": {},
   "outputs": [
    {
     "data": {
      "text/latex": [
       "$\\displaystyle 4 y{\\left(x \\right)} + \\frac{d^{2}}{d x^{2}} y{\\left(x \\right)} = \\sin{\\left(k x \\right)}$"
      ],
      "text/plain": [
       "Eq(4*y(x) + Derivative(y(x), (x, 2)), sin(k*x))"
      ]
     },
     "execution_count": 69,
     "metadata": {},
     "output_type": "execute_result"
    }
   ],
   "source": [
    "k = sym.Symbol(\"k\")\n",
    "differential_equation = sym.Eq(sym.Derivative(y(x), x, 2) + 4 * y(x), \n",
    "                               sym.sin(k * x))\n",
    "differential_equation"
   ]
  },
  {
   "cell_type": "code",
   "execution_count": 70,
   "metadata": {},
   "outputs": [
    {
     "data": {
      "text/latex": [
       "$\\displaystyle 4 y{\\left(x \\right)} + \\frac{d^{2}}{d x^{2}} y{\\left(x \\right)} = \\sin{\\left(2 x \\right)}$"
      ],
      "text/plain": [
       "Eq(4*y(x) + Derivative(y(x), (x, 2)), sin(2*x))"
      ]
     },
     "execution_count": 70,
     "metadata": {},
     "output_type": "execute_result"
    }
   ],
   "source": [
    "differential_equation.subs({k: 2})"
   ]
  },
  {
   "cell_type": "code",
   "execution_count": 86,
   "metadata": {},
   "outputs": [],
   "source": [
    "solution = sym.dsolve(differential_equation.subs({k: 2}), y(x))"
   ]
  },
  {
   "cell_type": "code",
   "execution_count": 87,
   "metadata": {},
   "outputs": [
    {
     "data": {
      "text/latex": [
       "$\\displaystyle y{\\left(x \\right)} = C_{2} \\sin{\\left(2 x \\right)} + \\left(C_{1} - \\frac{x}{4}\\right) \\cos{\\left(2 x \\right)}$"
      ],
      "text/plain": [
       "Eq(y(x), C2*sin(2*x) + (C1 - x/4)*cos(2*x))"
      ]
     },
     "execution_count": 87,
     "metadata": {},
     "output_type": "execute_result"
    }
   ],
   "source": [
    "solution"
   ]
  },
  {
   "cell_type": "code",
   "execution_count": 88,
   "metadata": {},
   "outputs": [
    {
     "data": {
      "text/latex": [
       "$\\displaystyle \\left\\langle -\\infty, \\infty\\right\\rangle$"
      ],
      "text/plain": [
       "AccumBounds(-oo, oo)"
      ]
     },
     "execution_count": 88,
     "metadata": {},
     "output_type": "execute_result"
    }
   ],
   "source": [
    "sym.limit(solution.rhs, x, sym.oo)"
   ]
  },
  {
   "cell_type": "code",
   "execution_count": 90,
   "metadata": {},
   "outputs": [],
   "source": [
    "solution = sym.dsolve(differential_equation, y(x))"
   ]
  },
  {
   "cell_type": "code",
   "execution_count": 91,
   "metadata": {},
   "outputs": [
    {
     "data": {
      "text/latex": [
       "$\\displaystyle y{\\left(x \\right)} = C_{1} \\sin{\\left(2 x \\right)} + C_{2} \\cos{\\left(2 x \\right)} - \\frac{\\sin{\\left(k x \\right)}}{k^{2} - 4}$"
      ],
      "text/plain": [
       "Eq(y(x), C1*sin(2*x) + C2*cos(2*x) - sin(k*x)/(k**2 - 4))"
      ]
     },
     "execution_count": 91,
     "metadata": {},
     "output_type": "execute_result"
    }
   ],
   "source": [
    "solution"
   ]
  },
  {
   "cell_type": "code",
   "execution_count": 92,
   "metadata": {},
   "outputs": [
    {
     "data": {
      "text/latex": [
       "$\\displaystyle \\left\\langle -1, 1\\right\\rangle C_{1} + \\left\\langle -1, 1\\right\\rangle C_{2} + \\frac{\\tilde{\\infty} k \\cos{\\left(\\tilde{\\infty} k \\right)}}{k^{2} - 4}$"
      ],
      "text/plain": [
       "AccumBounds(-1, 1)*C1 + AccumBounds(-1, 1)*C2 + zoo*k*cos(zoo*k)/(k**2 - 4)"
      ]
     },
     "execution_count": 92,
     "metadata": {},
     "output_type": "execute_result"
    }
   ],
   "source": [
    "sym.limit(solution.rhs, x, sym.oo)"
   ]
  },
  {
   "cell_type": "code",
   "execution_count": null,
   "metadata": {},
   "outputs": [],
   "source": []
  }
 ],
 "metadata": {
  "kernelspec": {
   "display_name": "CfM",
   "language": "python",
   "name": "cfm"
  },
  "language_info": {
   "codemirror_mode": {
    "name": "ipython",
    "version": 3
   },
   "file_extension": ".py",
   "mimetype": "text/x-python",
   "name": "python",
   "nbconvert_exporter": "python",
   "pygments_lexer": "ipython3",
   "version": "3.6.5"
  }
 },
 "nbformat": 4,
 "nbformat_minor": 2
}
