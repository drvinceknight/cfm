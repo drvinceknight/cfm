{
 "cells": [
  {
   "cell_type": "markdown",
   "metadata": {},
   "source": [
    "## Assessment\n",
    "\n",
    "Due date: 2019-04-12 (Week 11)\n",
    "\n",
    "Write a 3 page research paper on a mathematical topic. Your report is to be written in LaTeX and must use aspects of programming (Python) to illustrate the particular topic.\n",
    "\n",
    "You are encouraged to choose your own topic, if you do so I recommend checking with me (Vince Knight) that the topic is appropriate.\n",
    "\n",
    "## Marking criteria\n",
    "\n",
    "The following marking scheme will be applied:\n",
    "\n",
    "- Code (50% weighting)\n",
    "   - 50%: Appropriate code used with concepts learnt in lab sheets.\n",
    "   - 70%: Code from lab sheets used to demonstrate concepts clearly.\n",
    "   - 90%: Code used is a combination of code learnt in class and individually researched. Used to explain concepts in a clear and original way.\n",
    "- Content (25% weighting)\n",
    "    - 50%: The content is correct and basic aspects of the topic are explained.\n",
    "    - 70%: The content is correct and some research has been undertaken (and properly sourced) to show interesting aspects of the topic.\n",
    "    - 90%: The topic chosen is very original, well researched and a great understanding is shown.\n",
    "- Presentation (20% weighting)\n",
    "    - 50%: The work is well written with no or little graphical content and also contains grammatical and spelling mistakes.\n",
    "    - 70%: The work is well written with some graphs and images and minor grammatical and spelling mistakes.\n",
    "    - 90%: The work is clear, properly referenced, mathematically rigorous with excellent quality graphs and images with no grammatical and spelling mistakes.\n",
    "- Lab work (5%)\n",
    "    - 100%: Individual contribution of project idea, resolution of problems, valued discussions and questions.\n",
    "\n",
    "**All code that you want to be considered for marks must be included in the 3 page limit.**\n",
    "\n",
    "Here are some example courseworks that will be discussed in class:\n",
    "\n",
    "- [\"The Monty Hall problem and the effect of goats\"](/{{root}}/assets/rsc/monty-hall/main.pdf) ([tex](/{{root}}/assets/rsc/monty-hall/main.tex), [ipynb](/{{root}}/assets/rsc/monty-hall/main.ipynb))\n",
    "- [\"Understanding the connection between ranking the internet and eigen vectors\"](/{{root}}/assets/rsc/page-rank/main.pdf) ([tex](/{{root}}/assets/rsc/page-rank/main.tex), [ipynb](/{{root}}/assets/rsc/page-rank/main.ipynb))\n",
    "- [\"Modelling the effect of vaccinations using differential equations\"](/{{root}}/assets/rsc/sir/main.pdf) ([tex](/{{root}}/assets/rsc/sir/main.tex), [ipynb](/{{root}}/assets/rsc/sir/main.ipynb))\n",
    "\n",
    "## Submission\n",
    "\n",
    "To submit you will use learning central. Find the module \"MA1003 Computing For Mathematics\", within there find the \"Assessment\" folder and then the \"Computing For Mathematics: Individual Coursework\" item. Then click on \"View/Complete\" and follow the instructions. Please see this video which shows how to submit: https://vimeo.com/114969438.\n",
    "\n",
    "You submit the pdf (not the source LaTeX code or any Jupyter notebooks).\n",
    "\n",
    "You are submitting work this way as \"Turnitin\" is a product purchased by the University which checks for plagiarism.\n",
    "\n",
    "THIS IS YOUR ONLY CHANCE TO SUBMIT: PLEASE DO NOT LEAVE SUBMISSION TO THE LAST MINUTE. IF YOU DO NOT SUBMIT YOU WILL GET A MARK OF 0."
   ]
  }
 ],
 "metadata": {
  "anaconda-cloud": {},
  "kernelspec": {
   "display_name": "Python 3",
   "language": "python",
   "name": "python3"
  },
  "language_info": {
   "codemirror_mode": {
    "name": "ipython",
    "version": 3
   },
   "file_extension": ".py",
   "mimetype": "text/x-python",
   "name": "python",
   "nbconvert_exporter": "python",
   "pygments_lexer": "ipython3",
   "version": "3.7.1"
  }
 },
 "nbformat": 4,
 "nbformat_minor": 2
}
