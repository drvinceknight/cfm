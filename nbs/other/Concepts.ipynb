{
 "cells": [
  {
   "cell_type": "markdown",
   "metadata": {},
   "source": [
    "## A list of small examples of code concepts for the basics of Python\n",
    "\n",
    "By the end of the course you will be able to:\n",
    "\n",
    "- Read and describe what they do.\n",
    "- Write your own examples.\n",
    "- Combine the concepts to do more complex things.\n",
    "\n",
    "**Note that this is a small subset of the full capabilities of Python.**"
   ]
  },
  {
   "cell_type": "markdown",
   "metadata": {},
   "source": [
    "### Variable assignment and algebraic manipulation\n",
    "\n",
    "```python\n",
    "import math\n",
    "\n",
    "a = 3\n",
    "b = a + 1\n",
    "print(math.sqrt(a ** 2 + b ** 2))\n",
    "```\n",
    "\n",
    "*Output?*\n",
    "\n",
    "```\n",
    "\n",
    "\n",
    "\n",
    "```"
   ]
  },
  {
   "cell_type": "code",
   "execution_count": 1,
   "metadata": {
    "tags": [
     "solution"
    ]
   },
   "outputs": [
    {
     "name": "stdout",
     "output_type": "stream",
     "text": [
      "5.0\n"
     ]
    }
   ],
   "source": [
    "import math\n",
    "a = 3\n",
    "b = a + 1\n",
    "print(math.sqrt(a ** 2 + b ** 2))"
   ]
  },
  {
   "cell_type": "markdown",
   "metadata": {},
   "source": [
    "### Single conditional statements\n",
    "\n",
    "\n",
    "```python\n",
    "import random\n",
    "\n",
    "n = random.randint(0, 5)\n",
    "if n == 4:\n",
    "    print(n)\n",
    "else:\n",
    "    print(-1)\n",
    "```\n",
    "\n",
    "*Output?*\n",
    "\n",
    "```\n",
    "\n",
    "\n",
    "\n",
    "```"
   ]
  },
  {
   "cell_type": "code",
   "execution_count": 2,
   "metadata": {
    "tags": [
     "solution",
     "nbval-ignore-output"
    ]
   },
   "outputs": [
    {
     "name": "stdout",
     "output_type": "stream",
     "text": [
      "-1\n"
     ]
    }
   ],
   "source": [
    "import random\n",
    "n = random.randint(0, 5)\n",
    "if n == 4:\n",
    "    print(n)\n",
    "else:\n",
    "    print(-1)"
   ]
  },
  {
   "cell_type": "markdown",
   "metadata": {},
   "source": [
    "### Repeated conditional statements\n",
    "\n",
    "\n",
    "\n",
    "```python\n",
    "import random\n",
    "\n",
    "n = random.randint(0, 5)\n",
    "number_of_samples = 1\n",
    "while n != 4:\n",
    "    number_of_samples += 1\n",
    "    n = random.randint(0, 5)\n",
    "```\n",
    "\n",
    "*Output?*\n",
    "\n",
    "```\n",
    "\n",
    "\n",
    "\n",
    "```"
   ]
  },
  {
   "cell_type": "code",
   "execution_count": 3,
   "metadata": {
    "tags": [
     "solution",
     "nbval-ignore-output"
    ]
   },
   "outputs": [
    {
     "name": "stdout",
     "output_type": "stream",
     "text": [
      "2\n"
     ]
    }
   ],
   "source": [
    "import random\n",
    "n = random.randint(0, 5)\n",
    "number_of_samples = 1\n",
    "while n != 5:\n",
    "    number_of_samples += 1\n",
    "    n = random.randint(0, 5)\n",
    "print(number_of_samples)"
   ]
  },
  {
   "cell_type": "markdown",
   "metadata": {},
   "source": [
    "### Functions and lists\n",
    "\n",
    "```python\n",
    "import random\n",
    "\n",
    "def obtain_samples(upper_limit=5):\n",
    "    \"\"\"\n",
    "    Returns the random samples from 0 till \n",
    "    `upper_limit` until the `upper_limit` is sampled\n",
    "    \"\"\"\n",
    "    samples = [random.randint(0, upper_limit)]\n",
    "    \n",
    "    while samples[-1] != upper_limit:\n",
    "        samples.append(random.randint(0, upper_limit))\n",
    "\n",
    "    return samples\n",
    "\n",
    "print(obtain_samples(upper_limit=5))\n",
    "```\n",
    "\n",
    "*Output?*\n",
    "\n",
    "```\n",
    "\n",
    "\n",
    "\n",
    "```"
   ]
  },
  {
   "cell_type": "code",
   "execution_count": 4,
   "metadata": {
    "tags": [
     "solution",
     "nbval-ignore-output"
    ]
   },
   "outputs": [
    {
     "name": "stdout",
     "output_type": "stream",
     "text": [
      "[0, 0, 2, 2, 3, 4, 4, 1, 2, 4, 3, 1, 3, 5]\n"
     ]
    }
   ],
   "source": [
    "def obtain_samples(upper_limit=5):\n",
    "    \"\"\"\n",
    "    Returns the random samples from 0 till \n",
    "    `upper_limit` until the `upper_limit` is sampled\n",
    "    \"\"\"\n",
    "    samples = [random.randint(0, upper_limit)]\n",
    "    \n",
    "    while samples[-1] != upper_limit:\n",
    "        samples.append(random.randint(0, upper_limit))\n",
    "\n",
    "    return samples\n",
    "\n",
    "print(obtain_samples(upper_limit=5))"
   ]
  },
  {
   "cell_type": "markdown",
   "metadata": {},
   "source": [
    "### Iteration\n",
    "\n",
    "\n",
    "```python\n",
    "number_of_days = 12\n",
    "number_of_gifts = 0\n",
    "for day in range(number_of_days + 1):\n",
    "    for gifts in range(day + 1):\n",
    "        number_of_gifts += gifts\n",
    "print(number_of_gifts)\n",
    "```\n",
    "\n",
    "*Output?*\n",
    "\n",
    "```\n",
    "\n",
    "\n",
    "\n",
    "```"
   ]
  },
  {
   "cell_type": "code",
   "execution_count": 5,
   "metadata": {
    "tags": [
     "solution"
    ]
   },
   "outputs": [
    {
     "name": "stdout",
     "output_type": "stream",
     "text": [
      "364\n"
     ]
    }
   ],
   "source": [
    "number_of_days = 12\n",
    "number_of_gifts = 0\n",
    "for day in range(number_of_days + 1):\n",
    "    for gifts in range(day + 1):\n",
    "        number_of_gifts += gifts\n",
    "print(number_of_gifts)"
   ]
  },
  {
   "cell_type": "markdown",
   "metadata": {},
   "source": [
    "### Recursion\n",
    "\n",
    "```python\n",
    "def fibonacci(n):\n",
    "    \"\"\"\n",
    "    Returns the nth fibonacci number using recursion.\n",
    "    \"\"\"\n",
    "    if n in [0, 1]:\n",
    "        return 1\n",
    "    return fibonacci(n - 1) + fibonacci(n - 2)\n",
    "\n",
    "print(fibonacci(5))\n",
    "```\n",
    "\n",
    "*Output?*\n",
    "\n",
    "```\n",
    "\n",
    "\n",
    "\n",
    "```"
   ]
  },
  {
   "cell_type": "code",
   "execution_count": 6,
   "metadata": {
    "tags": [
     "solution"
    ]
   },
   "outputs": [
    {
     "name": "stdout",
     "output_type": "stream",
     "text": [
      "8\n"
     ]
    }
   ],
   "source": [
    "def fibonacci(n):\n",
    "    \"\"\"\n",
    "    Returns the nth fibonacci number using recursion.\n",
    "    \"\"\"\n",
    "    if n in [0, 1]:\n",
    "        return 1\n",
    "    return fibonacci(n - 1) + fibonacci(n - 2)\n",
    "\n",
    "print(fibonacci(5))"
   ]
  },
  {
   "cell_type": "markdown",
   "metadata": {},
   "source": [
    "### Object oriented programming\n",
    "\n",
    "```python\n",
    "class ImaginaryNumber:\n",
    "    \"\"\"\n",
    "    A class for imaginary numbers of the form $a + i b$\n",
    "    \"\"\"\n",
    "    def __init__(self, a, b):\n",
    "        self.a = a\n",
    "        self.b = b\n",
    "       \n",
    "    def __add__(self, other):\n",
    "        return ImaginaryNumber(self.a + other.a, self.b + other.b)\n",
    "    \n",
    "    def __mul__(self, other):\n",
    "        return ImaginaryNumber(\n",
    "            self.a * other.a - self.b * other.b, \n",
    "            self.b * other.a + self.a * other.b\n",
    "        )\n",
    "    def __repr__(self):\n",
    "        return f\"{self.a} + {self.b}i\"\n",
    "    \n",
    "z1 = ImaginaryNumber(1, -2)\n",
    "z2 = ImaginaryNumber(51, 0)\n",
    "print(z1 * z2)\n",
    "```\n",
    "\n",
    "*Output?*\n",
    "\n",
    "```\n",
    "\n",
    "\n",
    "\n",
    "```"
   ]
  },
  {
   "cell_type": "code",
   "execution_count": 7,
   "metadata": {
    "tags": [
     "solution"
    ]
   },
   "outputs": [
    {
     "name": "stdout",
     "output_type": "stream",
     "text": [
      "51 + -102i\n"
     ]
    }
   ],
   "source": [
    "class ImaginaryNumber:\n",
    "    \"\"\"\n",
    "    A class for imaginary numbers of the form $a + i b$\n",
    "    \"\"\"\n",
    "    def __init__(self, a, b):\n",
    "        self.a = a\n",
    "        self.b = b\n",
    "       \n",
    "    def __add__(self, other):\n",
    "        return ImaginaryNumber(self.a + other.a, self.b + other.b)\n",
    "    \n",
    "    def __mul__(self, other):\n",
    "        return ImaginaryNumber(\n",
    "            self.a * other.a - self.b * other.b, \n",
    "            self.b * other.a + self.a * other.b\n",
    "        )\n",
    "    def __repr__(self):\n",
    "        return f\"{self.a} + {self.b}i\"\n",
    "    \n",
    "z1 = ImaginaryNumber(1, -2)\n",
    "z2 = ImaginaryNumber(51, 0)\n",
    "print(z1 * z2)"
   ]
  }
 ],
 "metadata": {
  "celltoolbar": "Tags",
  "kernelspec": {
   "display_name": "Python 3",
   "language": "python",
   "name": "python3"
  },
  "language_info": {
   "codemirror_mode": {
    "name": "ipython",
    "version": 3
   },
   "file_extension": ".py",
   "mimetype": "text/x-python",
   "name": "python",
   "nbconvert_exporter": "python",
   "pygments_lexer": "ipython3",
   "version": "3.7.3"
  }
 },
 "nbformat": 4,
 "nbformat_minor": 2
}
