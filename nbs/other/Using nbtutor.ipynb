{
 "cells": [
  {
   "cell_type": "markdown",
   "metadata": {},
   "source": [
    "## Using nbtutor\n",
    "\n",
    "In class at times you might see me use a Jupyter extension called `nbtutor` to help visualise what is happening.\n",
    "\n",
    "If you would like to use `nbtutor` yourself you need to install it.\n",
    "\n",
    "\n",
    "### Installing nbtutor\n",
    "\n",
    "To do this:\n",
    "\n",
    "- On Windows open **Anaconda prompt**\n",
    "- On Mac OSX open **terminal**\n",
    "\n",
    "type the following:\n",
    "\n",
    "`pip install nbtutor`\n",
    "\n",
    "press `Enter` and it should download.\n",
    "\n",
    "### Using nbtutor\n",
    "\n",
    "In Jupyter, include the following in a cell to load `nbtutor`: `%load_ext nbtutor`"
   ]
  },
  {
   "cell_type": "code",
   "execution_count": 1,
   "metadata": {},
   "outputs": [],
   "source": [
    "%load_ext nbtutor"
   ]
  },
  {
   "cell_type": "markdown",
   "metadata": {},
   "source": [
    "Then to use it in any given cell type: `%%nbtutor`. Here is an example:"
   ]
  },
  {
   "cell_type": "code",
   "execution_count": 2,
   "metadata": {
    "tags": [
     "nbval-ignore-output"
    ]
   },
   "outputs": [
    {
     "name": "nbtutor",
     "output_type": "stream",
     "text": []
    }
   ],
   "source": [
    "%%nbtutor\n",
    "\n",
    "cumulative_sum = 0\n",
    "for i in range(10):\n",
    "    cumulative_sum += i"
   ]
  },
  {
   "cell_type": "markdown",
   "metadata": {},
   "source": [
    "This will display an interactive environment that looks like the following picture:\n",
    "\n",
    "![](/{{root}}/assets/img/using-nbtutor.png)"
   ]
  },
  {
   "cell_type": "markdown",
   "metadata": {},
   "source": [
    "You can click on `next` to step through the code whilst visualising what it is doing, you can also change the dropdown box from `Memory` to `Timeline`.\n",
    "\n",
    "- `Memory`: shows what Python has in memory and what pointers are being used at any given point in time;\n",
    "- `Timeline`: shows the various objects over time.\n",
    "\n",
    "If you would like to read the documentation for `nbtutor` you can find it here: https://nbtutor.readthedocs.io/en/"
   ]
  }
 ],
 "metadata": {
  "celltoolbar": "Tags",
  "kernelspec": {
   "display_name": "Python [conda env:cfm]",
   "language": "python",
   "name": "conda-env-cfm-py"
  },
  "language_info": {
   "codemirror_mode": {
    "name": "ipython",
    "version": 3
   },
   "file_extension": ".py",
   "mimetype": "text/x-python",
   "name": "python",
   "nbconvert_exporter": "python",
   "pygments_lexer": "ipython3",
   "version": "3.6.5"
  }
 },
 "nbformat": 4,
 "nbformat_minor": 2
}
