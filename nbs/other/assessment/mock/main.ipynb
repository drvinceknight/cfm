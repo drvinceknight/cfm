{
 "cells": [
  {
   "cell_type": "markdown",
   "metadata": {},
   "source": [
    "### Computing for Mathematics - Mock individual coursework\n",
    "\n",
    "This jupyter notebook contains questions that will resemble the questions in your individual coursework.\n",
    "\n",
    "**Important** Do not delete the cells containing `### BEGIN SOLUTION` and `### END SOLUTION` write your solution attempts in those cells.\n",
    "\n",
    "Note that this notebook also include some cells that check your answers.\n",
    "\n",
    "**Instructions:**\n",
    "\n",
    "- Change the name of the notebook from `main` to: `<student_number>`. For example, if your student number is `c1234567` then change the name of the notebook to `c1234567`.\n",
    "- Write all your solution attempts in the correct cells;\n",
    "- Save the notebook (`File>Save As`);\n",
    "- If you would like to submit this notebook..."
   ]
  },
  {
   "cell_type": "markdown",
   "metadata": {},
   "source": [
    "#### Question 1\n",
    "\n",
    "Evaluate the following expressions.\n",
    "\n",
    "a. \\\\(\\frac{(9a^2bc^4) ^ {\\frac{1}{2}}}{6ab^{\\frac{3}{2}}c}\\\\)"
   ]
  },
  {
   "cell_type": "code",
   "execution_count": 27,
   "metadata": {
    "tags": [
     "answer:q1-a"
    ]
   },
   "outputs": [
    {
     "data": {
      "text/latex": [
       "$\\displaystyle \\frac{\\sqrt{a^{2} b c^{4}}}{2 a b^{\\frac{3}{2}} c}$"
      ],
      "text/plain": [
       "sqrt(a**2*b*c**4)/(2*a*b**(3/2)*c)"
      ]
     },
     "execution_count": 27,
     "metadata": {},
     "output_type": "execute_result"
    }
   ],
   "source": [
    "### BEGIN SOLUTION\n",
    "import sympy as sym\n",
    "a, b, c = sym.Symbol(\"a\"), sym.Symbol(\"b\"), sym.Symbol(\"c\")\n",
    "\n",
    "sym.expand((9 * a ** 2 * b * c ** 4) ** (sym.S(1) / 2) / (6 * a * b ** (sym.S(3) / 2) * c))\n",
    "### END SOLUTION"
   ]
  },
  {
   "cell_type": "code",
   "execution_count": 28,
   "metadata": {
    "tags": [
     "score:1"
    ]
   },
   "outputs": [],
   "source": [
    "q1_a_answer = _\n",
    "feedback_text = \"\"\"Your output is not a symbolic expression.\n",
    "\n",
    "You are expected to use sympy for this question.\n",
    "\"\"\"\n",
    "try:\n",
    "    assert q1_a_answer.expand(), feedback_text\n",
    "except AttributeError:\n",
    "    print(feedback_text)"
   ]
  },
  {
   "cell_type": "code",
   "execution_count": 29,
   "metadata": {
    "tags": [
     "score:2"
    ]
   },
   "outputs": [],
   "source": [
    "a, b, c = sym.Symbol(\"a\"), sym.Symbol(\"b\"), sym.Symbol(\"c\")\n",
    "\n",
    "expected_answer = (9 * a ** 2 * b * c ** 4) ** (sym.S(1) / 2) / (6 * a * b ** (sym.S(3) / 2) * c)\n",
    "feedback_text = f\"\"\"Your answer is not correct.\n",
    "\n",
    "The expected answer is {expected_answer}.\"\"\"\n",
    "assert sym.simplify(q1_a_answer - expected_answer) == 0, feedback_text"
   ]
  },
  {
   "cell_type": "markdown",
   "metadata": {},
   "source": [
    "b. \\\\((2 ^ {\\frac{1}{2}} + 2) ^ 2 - 2 ^ {\\frac{5}{2}}\\\\)"
   ]
  },
  {
   "cell_type": "code",
   "execution_count": 30,
   "metadata": {
    "tags": [
     "answer:q1-b"
    ]
   },
   "outputs": [
    {
     "data": {
      "text/latex": [
       "$\\displaystyle 6$"
      ],
      "text/plain": [
       "6"
      ]
     },
     "execution_count": 30,
     "metadata": {},
     "output_type": "execute_result"
    }
   ],
   "source": [
    "### BEGIN SOLUTION\n",
    "sym.expand((sym.S(2) ** (sym.S(1) / 2) + 2) ** 2 - 2 ** (sym.S(5) / 2))\n",
    "### END SOLUTION"
   ]
  },
  {
   "cell_type": "code",
   "execution_count": 31,
   "metadata": {
    "tags": [
     "score:1"
    ]
   },
   "outputs": [],
   "source": [
    "q1_b_answer = _\n",
    "feedback_text = \"\"\"Your output is not a symbolic expression.\n",
    "\n",
    "You are expected to use sympy for this question.\n",
    "\"\"\"\n",
    "try:\n",
    "    assert q1_b_answer.expand(), feedback_text\n",
    "except AttributeError:\n",
    "    print(feedback_text)"
   ]
  },
  {
   "cell_type": "code",
   "execution_count": 32,
   "metadata": {
    "tags": [
     "score:2"
    ]
   },
   "outputs": [],
   "source": [
    "x = sym.Symbol(\"x\")\n",
    "expected_answer = 6\n",
    "feedback_text = f\"\"\"Your answer is not correct.\n",
    "\n",
    "The expected answer is {expected_answer}.\"\"\"\n",
    "assert q1_b_answer == expected_answer, feedback_text"
   ]
  },
  {
   "cell_type": "markdown",
   "metadata": {},
   "source": [
    "3. \\\\((\\frac{1}{8}) ^ {\\frac{4}{3}}\\\\)"
   ]
  },
  {
   "cell_type": "code",
   "execution_count": 33,
   "metadata": {
    "tags": [
     "answer:q1-c"
    ]
   },
   "outputs": [
    {
     "data": {
      "text/latex": [
       "$\\displaystyle \\frac{1}{16}$"
      ],
      "text/plain": [
       "1/16"
      ]
     },
     "execution_count": 33,
     "metadata": {},
     "output_type": "execute_result"
    }
   ],
   "source": [
    "### BEGIN SOLUTION\n",
    "(sym.S(1) / 8) ** (sym.S(4) / 3)\n",
    "### END SOLUTION"
   ]
  },
  {
   "cell_type": "code",
   "execution_count": 34,
   "metadata": {
    "tags": [
     "score:1"
    ]
   },
   "outputs": [],
   "source": [
    "q1_c_answer = _\n",
    "feedback_text = \"\"\"Your output is not a symbolic expression.\n",
    "\n",
    "You are expected to use sympy for this question.\n",
    "\"\"\"\n",
    "try:\n",
    "    assert q1_c_answer.expand(), feedback_text\n",
    "except AttributeError:\n",
    "    print(feedback_text)"
   ]
  },
  {
   "cell_type": "code",
   "execution_count": 35,
   "metadata": {
    "tags": [
     "score:2"
    ]
   },
   "outputs": [],
   "source": [
    "x = sym.Symbol(\"x\")\n",
    "expected_answer = sym.S(1) / 16\n",
    "feedback_text = f\"\"\"Your answer is not correct.\n",
    "\n",
    "The expected answer is {expected_answer}.\"\"\"\n",
    "assert q1_c_answer == expected_answer, feedback_text"
   ]
  },
  {
   "cell_type": "markdown",
   "metadata": {},
   "source": [
    "### Question 2\n",
    "\n",
    "Write a function `expand` that takes a given mathematical expression and returns the expanded expression."
   ]
  },
  {
   "cell_type": "code",
   "execution_count": 36,
   "metadata": {
    "tags": [
     "answer:q2"
    ]
   },
   "outputs": [],
   "source": [
    "def expand(expression):\n",
    "    ### BEGIN SOLUTION\n",
    "    \"\"\"\n",
    "    Take a symbolic expression and expands it.\n",
    "    \"\"\"\n",
    "    return sym.expand(expression)\n",
    "    ### END SOLUTION"
   ]
  },
  {
   "cell_type": "code",
   "execution_count": 37,
   "metadata": {
    "tags": [
     "score:1"
    ]
   },
   "outputs": [],
   "source": [
    "feedback_text = \"\"\"You did not include a docstring. This is important to help document your code.\n",
    "\n",
    "\n",
    "It is done  using triple quotation marks. For example:\n",
    "\n",
    "def get_remainder(m, n):\n",
    "    \\\"\\\"\\\"\n",
    "    This function returns the remainder of m when dividing by n\n",
    "    \\\"\\\"\\\"\n",
    "    ...\n",
    "\n",
    "Using that it's possible to access the docstring,\n",
    "one way to do this is to type: `get_remainder?`\n",
    "(which only works in Jupyter) or help(get_remainder).\n",
    "\n",
    "We can also comment code using `#` but this is completely\n",
    "ignored by Python so cannot be accessed in the same way.\n",
    "\n",
    "\"\"\"\n",
    "try:\n",
    "    assert  expand.__doc__ is not None, feedback_text\n",
    "except NameError:\n",
    "    print(\"You did not create a function called `expand`\")"
   ]
  },
  {
   "cell_type": "code",
   "execution_count": 38,
   "metadata": {
    "tags": [
     "score:3"
    ]
   },
   "outputs": [],
   "source": [
    "expression = x * (x  + 1)\n",
    "assert expand(expression) == x ** 2 + x, f\"Your functionf failed for {expression}\"\n",
    "expression = x * (x  + 1) - x ** 2\n",
    "assert expand(expression) == x, f\"Your functionf failed for {expression}\"\n",
    "expression = x ** 2 + 1\n",
    "assert expand(expression) == x ** 2 + 1, f\"Your functionf failed for {expression}\""
   ]
  },
  {
   "cell_type": "markdown",
   "metadata": {},
   "source": [
    "### Question 3\n",
    "\n",
    "The matrix \\\\(D\\\\) is given by \\\\(D = \\begin{pmatrix} a & 2 & 0\\\\ 3 & 1 & 2\\\\ 0 & -1 & 1\\end{pmatrix}\\\\) where \\\\(a\\ne 2\\\\).\n",
    "\n",
    "a. Create a variable `D` which has value the matrix \\\\(D\\\\)."
   ]
  },
  {
   "cell_type": "code",
   "execution_count": 39,
   "metadata": {
    "tags": [
     "answer:q3-a"
    ]
   },
   "outputs": [],
   "source": [
    "### BEGIN SOLUTION\n",
    "a = sym.Symbol(\"a\")\n",
    "D = sym.Matrix([[a, 2, 0], [3, 1, 2], [0, -1, 1]])\n",
    "### END SOLUTION"
   ]
  },
  {
   "cell_type": "code",
   "execution_count": 40,
   "metadata": {
    "tags": [
     "score:1"
    ]
   },
   "outputs": [],
   "source": [
    "expected_D = D\n",
    "feedback_text = f\"The expected value of `D` is {expected_answer}.\"\n",
    "try:\n",
    "    assert D == expected_D, feedback_text\n",
    "except NameError:\n",
    "    print(\"You did not create a variable `D`\")"
   ]
  },
  {
   "cell_type": "markdown",
   "metadata": {},
   "source": [
    "b. Create a variable `D_inv` with value the inverse of \\\\(D\\\\)."
   ]
  },
  {
   "cell_type": "code",
   "execution_count": 41,
   "metadata": {
    "tags": [
     "answer:q3-b"
    ]
   },
   "outputs": [],
   "source": [
    "### BEGIN SOLUTION\n",
    "D_inv = D.inv()\n",
    "### END SOLUTION"
   ]
  },
  {
   "cell_type": "code",
   "execution_count": 42,
   "metadata": {
    "tags": [
     "score:2"
    ]
   },
   "outputs": [],
   "source": [
    "expected_D_inv = expected_D.inv()\n",
    "feedback_text = f\"The expected value of `D_inv` is {expected_D_inv}.\"\n",
    "try:\n",
    "    assert D_inv == expected_D_inv, feedback_text\n",
    "except NameError:\n",
    "    print(\"You did not create a variable `D_inv`\")"
   ]
  },
  {
   "cell_type": "markdown",
   "metadata": {},
   "source": [
    "c. Hence of otherwise, **output** the equations:\n",
    "\n",
    "\\\\[\n",
    "\\begin{array}\n",
    "    ax + 2y = 3\\\\\n",
    "    3x + y + 2z = 4\\\\\n",
    "    - y + z = 1\\\\\n",
    "\\end{array}\n",
    "\\\\]"
   ]
  },
  {
   "cell_type": "code",
   "execution_count": 43,
   "metadata": {
    "tags": [
     "answer:q3-c"
    ]
   },
   "outputs": [
    {
     "data": {
      "text/latex": [
       "$\\displaystyle \\left[\\begin{matrix}\\frac{5}{3 \\left(a - 2\\right)}\\\\\\frac{2 a - 9}{3 \\left(a - 2\\right)}\\\\\\frac{5 \\left(a - 3\\right)}{3 \\left(a - 2\\right)}\\end{matrix}\\right]$"
      ],
      "text/plain": [
       "Matrix([\n",
       "[        5/(3*(a - 2))],\n",
       "[(2*a - 9)/(3*(a - 2))],\n",
       "[5*(a - 3)/(3*(a - 2))]])"
      ]
     },
     "execution_count": 43,
     "metadata": {},
     "output_type": "execute_result"
    }
   ],
   "source": [
    "### BEGIN SOLUTION\n",
    "b = sym.Matrix([[3], [4], [1]])\n",
    "sym.simplify(D.inv() @ b)\n",
    "### END SOLUTION"
   ]
  },
  {
   "cell_type": "code",
   "execution_count": 44,
   "metadata": {
    "tags": [
     "score:3"
    ]
   },
   "outputs": [],
   "source": [
    "answer_q3_c = _\n",
    "expected_b = sym.Matrix([[3], [4], [1]])\n",
    "expected_answer = sym.simplify(expected_D_inv @ b)\n",
    "feedback_text = f\"The expected solution is {expected_answer}.\"\n",
    "assert sym.expand(expected_answer - answer_q3_c) == sym.Matrix([[0], [0], [0]]), feedback_text"
   ]
  },
  {
   "cell_type": "markdown",
   "metadata": {},
   "source": [
    "### Question 4\n",
    "\n",
    "An experiment consists of selecting a ball from a bag and spinning a coin. The bag contains 5 red balls and 7 blue balls. A ball is selected at random from the bag, its colour is noted and then the ball is returned to the bag.\n",
    "\n",
    "a. Write a function `sample_experiment()` that simulates a given experiment and returns the selected ball (as a string with value `\"Red\"` or `\"Blue\"`) and the coin (as a string with value `\"Heads\"` or `\"Tails\"`)."
   ]
  },
  {
   "cell_type": "code",
   "execution_count": 45,
   "metadata": {
    "tags": [
     "answer:q4-a"
    ]
   },
   "outputs": [],
   "source": [
    "import random\n",
    "\n",
    "def sample_experiment():\n",
    "    \"\"\"\n",
    "    Returns the selected ball and the coin face for a given experiment\n",
    "    \"\"\"\n",
    "    ### BEGIN SOLUTION\n",
    "    balls = [\"Red\"] * 5 + [\"Blue\"] * 7\n",
    "    selected_ball = random.choice(balls)\n",
    "    if selected_ball == \"Red\":\n",
    "        probability_of_selecting_heads = 2 / 3\n",
    "    else:\n",
    "        probability_of_selecting_heads = 1 / 2\n",
    "    \n",
    "    if random.random() < probability_of_selecting_heads:\n",
    "        coin = \"Heads\"\n",
    "    else:\n",
    "        coin = \"Tails\"\n",
    "    ### END SOLUTION\n",
    "    return selected_ball, coin"
   ]
  },
  {
   "cell_type": "code",
   "execution_count": 46,
   "metadata": {
    "tags": [
     "score:1"
    ]
   },
   "outputs": [],
   "source": [
    "feedback_text = \"\"\"You did not include a docstring. This is important to help document your code.\n",
    "\n",
    "\n",
    "It is done  using triple quotation marks. For example:\n",
    "\n",
    "def get_remainder(m, n):\n",
    "    \\\"\\\"\\\"\n",
    "    This function returns the remainder of m when dividing by n\n",
    "    \\\"\\\"\\\"\n",
    "    ...\n",
    "\n",
    "Using that it's possible to access the docstring,\n",
    "one way to do this is to type: `get_remainder?`\n",
    "(which only works in Jupyter) or help(get_remainder).\n",
    "\n",
    "We can also comment code using `#` but this is completely\n",
    "ignored by Python so cannot be accessed in the same way.\n",
    "\n",
    "\"\"\"\n",
    "try:\n",
    "    assert  sample_experiment.__doc__ is not None, feedback_text\n",
    "except NameError:\n",
    "    print(\"You did not create a variable called `sample_experiment`\")"
   ]
  },
  {
   "cell_type": "code",
   "execution_count": 47,
   "metadata": {
    "tags": [
     "score:3"
    ]
   },
   "outputs": [],
   "source": [
    "try:\n",
    "    random.seed(0)\n",
    "    selected_ball, coin = sample_experiment()\n",
    "    assert selected_ball in [\"Red\", \"Blue\"], \"Your function did not give a valid selected_ball with seed=0\"\n",
    "    assert coin in [\"Heads\", \"Tails\"], \"Your function did not give a valid coin with seed=0\"\n",
    "\n",
    "    random.seed(1)\n",
    "    selected_ball, coin = sample_experiment()\n",
    "    assert selected_ball in [\"Red\", \"Blue\"], \"Your function did not give a valid selected_ball with seed=1\"\n",
    "    assert coin in [\"Heads\", \"Tails\"], \"Your function did not give a valid coin with seed=1\"\n",
    "except NameError:\n",
    "    print(\"You did not create a variable called `sample_experiment`\")"
   ]
  },
  {
   "cell_type": "code",
   "execution_count": 48,
   "metadata": {
    "tags": [
     "score:3"
    ]
   },
   "outputs": [],
   "source": [
    "repetitions = 10_000\n",
    "random.seed(0)\n",
    "feedback_text = \"\"\"Your function did not give a seletion of Red balls within acceptable error bounds.\n",
    "\n",
    "Out of {repetitions} repetitions you got less than 2500 or more than 7000 Red balls.\n",
    "\"\"\"\n",
    "balls = [sample_experiment()[0] for _ in range(repetitions)]\n",
    "assert 2_500 <= balls.count(\"Red\") <= 7_000, feedback_text"
   ]
  },
  {
   "cell_type": "markdown",
   "metadata": {},
   "source": [
    "b. Using 500,000 samples **output** an estimate for the probability of getting \"Tails\"."
   ]
  },
  {
   "cell_type": "code",
   "execution_count": 49,
   "metadata": {
    "tags": [
     "answer:q4_b"
    ]
   },
   "outputs": [
    {
     "data": {
      "text/plain": [
       "0.57001"
      ]
     },
     "execution_count": 49,
     "metadata": {},
     "output_type": "execute_result"
    }
   ],
   "source": [
    "### BEGIN SOLUTION\n",
    "number_of_repetitions = 500_000\n",
    "random.seed(0)\n",
    "samples = [sample_experiment() for repetition in range(number_of_repetitions)]\n",
    "sum(coin == \"Heads\" for ball, coin in samples) / number_of_repetitions\n",
    "### END SOLUTION"
   ]
  },
  {
   "cell_type": "code",
   "execution_count": 50,
   "metadata": {
    "tags": [
     "score:1"
    ]
   },
   "outputs": [],
   "source": [
    "q4_b_answer = _\n",
    "assert type(q4_b_answer) is float, \"You did not return a float\""
   ]
  },
  {
   "cell_type": "code",
   "execution_count": 51,
   "metadata": {
    "tags": [
     "score:4"
    ]
   },
   "outputs": [],
   "source": [
    "expected_answer = sym.S(5) / (12) * sym.S(2) / 3 + sym.S(7) / (12) * sym.S(1) / 2\n",
    "feedback_text = f\"\"\"The expected value is: {expected_answer}\n",
    "\n",
    "Your value was not approximately equal to this to 1 decimalr point.\n",
    "\"\"\"\n",
    "assert round(q4_b_answer, 1) == round(float(expected_answer), 1), feedback_text"
   ]
  }
 ],
 "metadata": {
  "celltoolbar": "Tags",
  "kernelspec": {
   "display_name": "Python 3",
   "language": "python",
   "name": "python3"
  },
  "language_info": {
   "codemirror_mode": {
    "name": "ipython",
    "version": 3
   },
   "file_extension": ".py",
   "mimetype": "text/x-python",
   "name": "python",
   "nbconvert_exporter": "python",
   "pygments_lexer": "ipython3",
   "version": "3.8.3"
  }
 },
 "nbformat": 4,
 "nbformat_minor": 4
}
